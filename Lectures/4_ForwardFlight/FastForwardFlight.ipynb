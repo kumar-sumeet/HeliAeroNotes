{
 "cells": [
  {
   "cell_type": "markdown",
   "id": "c47178aa",
   "metadata": {},
   "source": [
    "(content:FastForwardFlight:labels)=\n",
    "# Fast Forward Flight"
   ]
  },
  {
   "cell_type": "markdown",
   "id": "75d6c087",
   "metadata": {
    "slideshow": {
     "slide_type": "slide"
    }
   },
   "source": [
    "## Blade dynamics"
   ]
  },
  {
   "cell_type": "code",
   "execution_count": 1,
   "id": "626d502e",
   "metadata": {
    "hide_input": false,
    "scrolled": false,
    "slideshow": {
     "slide_type": "-"
    },
    "tags": [
     "hide-input"
    ]
   },
   "outputs": [
    {
     "data": {
      "text/html": [
       "<video src=\"../../assets/ElasticBlade_4.mp4\" loop autoplay  width=\"350\" >\n",
       "      Your browser does not support the <code>video</code> element.\n",
       "    </video>"
      ],
      "text/plain": [
       "<IPython.core.display.Video object>"
      ]
     },
     "execution_count": 1,
     "metadata": {},
     "output_type": "execute_result"
    }
   ],
   "source": [
    "from IPython.display import Video\n",
    "\n",
    "Video(\"../../assets/ElasticBlade_4.mp4\",width=350,html_attributes=\"loop autoplay\")"
   ]
  },
  {
   "cell_type": "markdown",
   "id": "4d7d51d7",
   "metadata": {
    "hide_input": false,
    "slideshow": {
     "slide_type": "slide"
    }
   },
   "source": [
    "## Rotor wake"
   ]
  },
  {
   "cell_type": "markdown",
   "id": "246b4cd7",
   "metadata": {},
   "source": [
    "<div style=\"float:right; width:40%;\" >\n",
    "    <img src=\"../../assets/B0_fig9_1.png\" class=\"big\" />\n",
    "    <p style=\"text-align:center; color:gray; font-size:16px;\"> Rotor tip vortex trajectories at difference advance ratios <a href=\"https://www.cambridge.org/core/books/rotorcraft-aeromechanics/6DE729BB2AFED9F94E59823086568C1E\"> [source]</a></p>\n",
    "</div>\n",
    "\n",
    "- Notice the changing wake pattern with advance ratio \n",
    "- vi is due to induced velocity of these vortices (Biot-Savart)\n",
    "- Tightly spaced rings in hover → high vi \n",
    "- Rotor quickly moves away from trailed tip vortices in fast forward flight → low vi\n",
    "- something similar happens in rotor climb as well"
   ]
  },
  {
   "cell_type": "markdown",
   "id": "2ac3b7a0",
   "metadata": {
    "slideshow": {
     "slide_type": "-"
    }
   },
   "source": [
    "<center>\n",
    "    <img src=\"../../assets/4blade_02.gif\" class=\"medium\">\n",
    "    <p style=\"text-align:center; color:gray; font-size:16px;\"> Free-wake simulation of a 4 bladed rotor in forward flight </p>\n",
    "\n",
    "</center>"
   ]
  },
  {
   "cell_type": "markdown",
   "id": "8b1627b5",
   "metadata": {},
   "source": []
  },
  {
   "cell_type": "markdown",
   "id": "0f01fd3f",
   "metadata": {
    "slideshow": {
     "slide_type": "slide"
    }
   },
   "source": [
    "## Westland Lynx"
   ]
  },
  {
   "cell_type": "markdown",
   "id": "c3aa26a1",
   "metadata": {},
   "source": [
    "<center>\n",
    "    <img src=\"../../assets/lynx.png\" class=\"medium\">\n",
    "    <p style=\"font-size:12px; color:gray; text-align:center;\" > Lynx <a href=\"https://vtol.org/qr/2015-ahs-history-calendar\"> [source]</a></p>\n",
    "\n",
    "</center>"
   ]
  },
  {
   "cell_type": "markdown",
   "id": "663b493e",
   "metadata": {},
   "source": [
    "The Westland Lynx holds the world speed record for helicopters (conventional design) at 400.87 km/hr. The advance ratio at this speed is 0.5 advancing tip Mach number at this speed is 0.977.  "
   ]
  },
  {
   "cell_type": "markdown",
   "id": "5c698561",
   "metadata": {},
   "source": [
    "### What made the Lynx special?"
   ]
  },
  {
   "cell_type": "markdown",
   "id": "d7a65c29",
   "metadata": {},
   "source": [
    "- the obvious \n",
    "    - low fuselage drag, high power output engines\n",
    "    \n",
    "   Water-methanol injection\n",
    "- A reduction in engine tailpipe area in order to obtain about 25% of the available engine power (700 hP of 3200 hp) in the form of jet thrust \n",
    "    - not strictly thrust-compounding \n",
    "    - a thrust-compounded (jet engines) UH1 had a record of 507 km/hr\n",
    "    \n",
    "- *better* main rotor\n",
    "    - "
   ]
  },
  {
   "cell_type": "markdown",
   "id": "6019d2fa",
   "metadata": {},
   "source": [
    "read prouty column\n",
    "perhaps the american study he is referring to is this here - https://rotorcraft.arc.nasa.gov/Research/Programs/lynx.html"
   ]
  },
  {
   "cell_type": "markdown",
   "id": "fd45fa2a",
   "metadata": {},
   "source": [
    "Of course, the Americans were taking vigorous notes when this happened and wanted to see these promised benefits for themselves..."
   ]
  },
  {
   "cell_type": "markdown",
   "id": "ef76a91d",
   "metadata": {
    "slideshow": {
     "slide_type": "slide"
    }
   },
   "source": [
    "## Rotor efficiency "
   ]
  },
  {
   "cell_type": "markdown",
   "id": "71a9a616",
   "metadata": {},
   "source": [
    "$$ \\frac{L}{D} = \\frac{WV_{\\infty}}{P} = \\frac{C_L}{C_Q}\\mu$$"
   ]
  },
  {
   "cell_type": "code",
   "execution_count": null,
   "id": "1a97ef53",
   "metadata": {},
   "outputs": [],
   "source": [
    "# read from Add45 later"
   ]
  },
  {
   "cell_type": "markdown",
   "id": "1f9508b0",
   "metadata": {
    "slideshow": {
     "slide_type": "-"
    }
   },
   "source": [
    "$$ \\frac{L}{D_e} = \\frac{}{}$$\n",
    "\n",
    "- forward flight counterpart of FM\n"
   ]
  },
  {
   "cell_type": "markdown",
   "id": "f20d58d8",
   "metadata": {},
   "source": []
  },
  {
   "cell_type": "markdown",
   "id": "42f9cafe",
   "metadata": {},
   "source": []
  },
  {
   "cell_type": "markdown",
   "id": "c02ce80c",
   "metadata": {},
   "source": []
  },
  {
   "cell_type": "markdown",
   "id": "f8c39fbb",
   "metadata": {},
   "source": []
  },
  {
   "cell_type": "markdown",
   "id": "571d8cda",
   "metadata": {},
   "source": []
  },
  {
   "cell_type": "markdown",
   "id": "b9bce4b6",
   "metadata": {},
   "source": []
  },
  {
   "cell_type": "markdown",
   "id": "757a8d35",
   "metadata": {},
   "source": []
  },
  {
   "cell_type": "markdown",
   "id": "afa4d36e",
   "metadata": {},
   "source": []
  },
  {
   "cell_type": "markdown",
   "id": "c31aec99",
   "metadata": {},
   "source": []
  }
 ],
 "metadata": {
  "celltoolbar": "Slideshow",
  "hide_input": false,
  "kernelspec": {
   "display_name": "Python 3 (ipykernel)",
   "language": "python",
   "name": "python3"
  },
  "language_info": {
   "codemirror_mode": {
    "name": "ipython",
    "version": 3
   },
   "file_extension": ".py",
   "mimetype": "text/x-python",
   "name": "python",
   "nbconvert_exporter": "python",
   "pygments_lexer": "ipython3",
   "version": "3.8.5"
  },
  "latex_envs": {
   "LaTeX_envs_menu_present": true,
   "autoclose": true,
   "autocomplete": true,
   "bibliofile": "biblio.bib",
   "cite_by": "apalike",
   "current_citInitial": 1,
   "eqLabelWithNumbers": false,
   "eqNumInitial": 1,
   "hotkeys": {
    "equation": "Ctrl-E",
    "itemize": "Ctrl-I"
   },
   "labels_anchors": false,
   "latex_user_defs": false,
   "report_style_numbering": false,
   "user_envs_cfg": false
  },
  "varInspector": {
   "cols": {
    "lenName": 16,
    "lenType": 16,
    "lenVar": 40
   },
   "kernels_config": {
    "python": {
     "delete_cmd_postfix": "",
     "delete_cmd_prefix": "del ",
     "library": "var_list.py",
     "varRefreshCmd": "print(var_dic_list())"
    },
    "r": {
     "delete_cmd_postfix": ") ",
     "delete_cmd_prefix": "rm(",
     "library": "var_list.r",
     "varRefreshCmd": "cat(var_dic_list()) "
    }
   },
   "types_to_exclude": [
    "module",
    "function",
    "builtin_function_or_method",
    "instance",
    "_Feature"
   ],
   "window_display": false
  }
 },
 "nbformat": 4,
 "nbformat_minor": 5
}
