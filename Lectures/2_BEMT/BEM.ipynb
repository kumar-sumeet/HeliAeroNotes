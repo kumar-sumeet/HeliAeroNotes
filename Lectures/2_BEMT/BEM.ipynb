{
 "cells": [
  {
   "cell_type": "markdown",
   "id": "c9de6a2b",
   "metadata": {},
   "source": [
    "# Blade element momentum theory"
   ]
  },
  {
   "cell_type": "code",
   "execution_count": null,
   "id": "95b11f30",
   "metadata": {},
   "outputs": [],
   "source": []
  },
  {
   "cell_type": "markdown",
   "id": "9464fde8",
   "metadata": {},
   "source": [
    "$T=\\dot{m} v=P A v^{2}$\n",
    "\n",
    "$P=\\frac{1}{2} \\dot{m} v^{2}=\\frac{1}{2} P A v_{0}^{3}$"
   ]
  },
  {
   "cell_type": "markdown",
   "id": "7bd94b14",
   "metadata": {},
   "source": [
    "\\begin{aligned} d T &=d \\dot{m} v_{i} \\\\ &=2 p 2 \\pi y d y\\left(v_{c}+v_{i}\\right) v_{i} \\\\\n",
    "\\end{aligned}"
   ]
  },
  {
   "cell_type": "markdown",
   "id": "6a3a2b0d",
   "metadata": {},
   "source": [
    "\\begin{aligned}\n",
    "d C_{T} &=\\frac{4 \\pi p\\left(V_{c}+v_{i}\\right) v_{i} y d y}{p \\pi R^{2}(\\Omega R)^{2}} \\\\ \\end{aligned}"
   ]
  },
  {
   "cell_type": "markdown",
   "id": "ba6ff3e6",
   "metadata": {},
   "source": [
    "\\begin{aligned}\n",
    "&=4 \\lambda \\lambda_{i} r dr  =4 \\lambda \\left(\\lambda-\\lambda_{c}\\right)r d r \n",
    "\\end{aligned}"
   ]
  },
  {
   "cell_type": "markdown",
   "id": "8ce1c253",
   "metadata": {},
   "source": [
    "\\begin{aligned}\n",
    "C_{T} &= 4 \\int \\lambda \\left(\\lambda-\\lambda_{c}\\right) r d r \\quad \\quad \\text{Climb case}\\\\\n",
    "&= 4 \\int \\lambda^{2} r d r \\quad \\quad \\quad \\quad \\quad \\text{Hover case}\n",
    "\\end{aligned}"
   ]
  },
  {
   "cell_type": "markdown",
   "id": "df96c35c",
   "metadata": {},
   "source": [
    "From BEPT:          $ \\displaystyle \\quad d C_{T}=\\frac{\\sigma}{2} C_{l_{\\alpha}}\\left(\\theta r^{2}-d r\\right) d r$ \n",
    "    \n",
    "    \n",
    "From annular Momentum Theory :    $\\displaystyle \\quad d C_{T}=4 \\lambda\\left(\\lambda-\\lambda_{c}\\right)rd r$ "
   ]
  },
  {
   "cell_type": "markdown",
   "id": "f9adde42",
   "metadata": {},
   "source": [
    "$\\displaystyle d C_{T}=\\frac{\\sigma}{2} C_{l_{\\alpha}}\\left(\\theta r^{2}-d r\\right) d r = d C_{T}=4 \\lambda\\left(\\lambda-\\lambda_{c}\\right)rd r$ "
   ]
  },
  {
   "cell_type": "markdown",
   "id": "1741e784",
   "metadata": {},
   "source": [
    "$\\displaystyle \\Rightarrow \\frac{\\sigma C_{l_{\\alpha}} \\theta r}{8}-\\frac{\\sigma C_{l_{\\alpha}}}{8} \\lambda=\\lambda^{2}-\\lambda_{c} \\lambda$\n",
    "\n",
    "$\\displaystyle \\Rightarrow \\lambda^{2}+\\left(\\frac{\\sigma C_{l_{\\alpha}}}{8}-\\lambda_{c}\\right) \\lambda-\\frac{\\sigma C_{l_{\\alpha}} \\theta r}{8}=0$\n"
   ]
  },
  {
   "cell_type": "markdown",
   "id": "a7181fe5",
   "metadata": {},
   "source": [
    "$\\lambda\\left(r, \\lambda_{c}\\right)= \\displaystyle \\pm \\sqrt{\\frac{\\left(\\frac{\\sigma C_{l_{\\alpha}}}{8}-\\lambda_c \\right)^2+\\frac{\\sigma C_{l_{\\alpha}} \\theta_{r}}{2}}{4}} = \\displaystyle \\frac{  \\frac{\\sigma C_{l_{\\alpha}}}{8}- \\lambda_c}{2}$\n",
    "\n",
    "\n",
    "$a x^{2}+b x+c$\n",
    "$\\longrightarrow-b \\pm \\sqrt{b^{2}-4 a c}$   $ \\quad \\quad$ For $\\lambda_c=0$"
   ]
  },
  {
   "cell_type": "markdown",
   "id": "5ddef1de",
   "metadata": {},
   "source": [
    "\\begin{equation}\n",
    "\\lambda (r)=\\frac{\\sigma C_{l_{\\alpha}}}{16}\\left[-1+\\sqrt{1+\\frac{32}{\\sigma C_{l_{\\alpha}}} \\theta_{r}}\\right]\n",
    "\\end{equation}"
   ]
  },
  {
   "cell_type": "markdown",
   "id": "88a8fc48",
   "metadata": {},
   "source": [
    "In here $\\sigma$ is blade sizing, $C_{l_{\\alpha}}$ airfoil aerodynamics, $\\theta_r$ blade twist. \n"
   ]
  },
  {
   "cell_type": "markdown",
   "id": "63bcc2a8",
   "metadata": {},
   "source": [
    "ALWAYS some form of simplification manifests in the engineering framework of rotorcraft problems. 3-D FEM and DNS is not possible for rotorcraft problems as of now. So, problem specific simplifications are introduced. "
   ]
  },
  {
   "cell_type": "markdown",
   "id": "33b04d36",
   "metadata": {},
   "source": [
    "- $C_p$ during hover or high $M$ can be solved using momentum theory and rigid blades fairly accurately. \n",
    "- Obtaining accurate trim angles requires elastc blade modelling. \n",
    "- Obtaining blade vibration during descent flight, for e.g. requires free wake modelling. "
   ]
  },
  {
   "cell_type": "code",
   "execution_count": null,
   "id": "24b047de",
   "metadata": {},
   "outputs": [],
   "source": []
  },
  {
   "cell_type": "markdown",
   "id": "05399971",
   "metadata": {},
   "source": [
    "## BEMT in a nutshell\n",
    "\n",
    "### Blade aerodynamics\n",
    "- Airfoil tables\n",
    "\n",
    "### Wake model\n",
    "- Momentum theory"
   ]
  },
  {
   "cell_type": "code",
   "execution_count": null,
   "id": "9c7ee976",
   "metadata": {},
   "outputs": [],
   "source": []
  },
  {
   "cell_type": "markdown",
   "id": "4dda77ee",
   "metadata": {},
   "source": [
    "## BEMT: review\n",
    "\n",
    "* "
   ]
  },
  {
   "cell_type": "markdown",
   "id": "2c680ce9",
   "metadata": {},
   "source": [
    "## BEMT: ...\n",
    "\n",
    "* BEMT provides the simplest strategy of separating out the solutions of the blades aerodynamics and effect of the wake\n",
    "* Higher-fidelity solution strategies employ same principle\n",
    "* Different rotor wake models as well as methods to solve for the blade aerodynamics exist\n",
    "* Solving for rotor aerodynamics \n",
    "* "
   ]
  },
  {
   "cell_type": "code",
   "execution_count": null,
   "id": "91440066",
   "metadata": {},
   "outputs": [],
   "source": []
  },
  {
   "cell_type": "code",
   "execution_count": null,
   "id": "fcab16da",
   "metadata": {},
   "outputs": [],
   "source": []
  }
 ],
 "metadata": {
  "hide_input": false,
  "kernelspec": {
   "display_name": "Python 3 (ipykernel)",
   "language": "python",
   "name": "python3"
  },
  "language_info": {
   "codemirror_mode": {
    "name": "ipython",
    "version": 3
   },
   "file_extension": ".py",
   "mimetype": "text/x-python",
   "name": "python",
   "nbconvert_exporter": "python",
   "pygments_lexer": "ipython3",
   "version": "3.8.5"
  },
  "varInspector": {
   "cols": {
    "lenName": 16,
    "lenType": 16,
    "lenVar": 40
   },
   "kernels_config": {
    "python": {
     "delete_cmd_postfix": "",
     "delete_cmd_prefix": "del ",
     "library": "var_list.py",
     "varRefreshCmd": "print(var_dic_list())"
    },
    "r": {
     "delete_cmd_postfix": ") ",
     "delete_cmd_prefix": "rm(",
     "library": "var_list.r",
     "varRefreshCmd": "cat(var_dic_list()) "
    }
   },
   "types_to_exclude": [
    "module",
    "function",
    "builtin_function_or_method",
    "instance",
    "_Feature"
   ],
   "window_display": false
  }
 },
 "nbformat": 4,
 "nbformat_minor": 5
}
