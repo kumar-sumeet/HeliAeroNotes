{
 "cells": [
  {
   "cell_type": "markdown",
   "id": "226f3b55",
   "metadata": {},
   "source": [
    "# Momentum Theory"
   ]
  },
  {
   "cell_type": "markdown",
   "id": "293321f9",
   "metadata": {},
   "source": []
  },
  {
   "cell_type": "code",
   "execution_count": null,
   "id": "ebd30ba4",
   "metadata": {},
   "outputs": [],
   "source": [
    "#bring tiger model and airfoil cross section to class as prop"
   ]
  },
  {
   "cell_type": "markdown",
   "id": "4054a17f",
   "metadata": {},
   "source": []
  },
  {
   "cell_type": "markdown",
   "id": "de730f13",
   "metadata": {},
   "source": []
  },
  {
   "cell_type": "markdown",
   "id": "f645c452",
   "metadata": {},
   "source": [
    "## Airfoils\n",
    "\n",
    "- The most efficient lift generation devices - i.e. high lift per unit drag\n",
    "-"
   ]
  },
  {
   "cell_type": "markdown",
   "id": "ddbddd9a",
   "metadata": {},
   "source": [
    "## Breaking down the physics: airfoils \n",
    "\n",
    "- Aerodynamics problems involving airfoil performance can predominantly be understood in terms of Newton's 3rd law of motion.\n",
    "- Presence of airfoils in a moving fluid accelerate the flow \n",
    "- The resulting reaction forces manifest as lift and drag on the airfoil\n",
    "- "
   ]
  },
  {
   "cell_type": "markdown",
   "id": "fe2282df",
   "metadata": {},
   "source": [
    "## Breaking down the physics: rotors\n",
    "\n",
    "- Rotors are made up of wings (or blades) that have airfoil cross-section\n"
   ]
  },
  {
   "cell_type": "code",
   "execution_count": null,
   "id": "bc030555",
   "metadata": {},
   "outputs": [],
   "source": []
  },
  {
   "cell_type": "markdown",
   "id": "22b31b52",
   "metadata": {},
   "source": [
    "## Fundamentals of momentum theory"
   ]
  },
  {
   "cell_type": "markdown",
   "id": "83cb851a",
   "metadata": {},
   "source": [
    "\n",
    "\n",
    "[//]: # (add inflow image and corresponding eqs here)\n",
    "\n",
    "$$\n",
    "  w_{t+1} = (1 + r_{t+1}) s(w_t) + y_{t+1} \\\\\n",
    "  a_2=b_2+c_2-d_2+e_2  \\\\\n",
    "  a_2=b_2+c_2-d_2+e_2\n",
    "$$ (my_label)\n",
    "$$\n",
    "  a_2=b_2+c_2-d_2+e_2\n",
    "$$ (my_other_label)\n",
    "\n",
    "[//]: # (  - A link to an equation directive: {eq}`my_label`  ) \n",
    "\n",
    "\n"
   ]
  },
  {
   "cell_type": "code",
   "execution_count": null,
   "id": "f99fced8",
   "metadata": {},
   "outputs": [],
   "source": [
    "## Hover"
   ]
  },
  {
   "cell_type": "markdown",
   "id": "e1060d43",
   "metadata": {},
   "source": [
    "$$ \\overline{v}_{freestream}=0 $$"
   ]
  },
  {
   "cell_type": "markdown",
   "id": "2e28ef01",
   "metadata": {},
   "source": [
    "This includes vertical as well as horizontal velocities!"
   ]
  },
  {
   "cell_type": "code",
   "execution_count": null,
   "id": "8e8398c0",
   "metadata": {},
   "outputs": [],
   "source": [
    "How do you quantify the power necessary to stay aloft!? "
   ]
  },
  {
   "cell_type": "markdown",
   "id": "66db5938",
   "metadata": {},
   "source": [
    "Sure, there are issues of whether the aircraft can be controlled, structural stresses are not exceeded etc. but if there isn't sufficient power to even operate, everything else is pointless. To evaluate required power, we adopt the model used first for analysing ship propellers (ships were around way before aircraft were)."
   ]
  },
  {
   "cell_type": "code",
   "execution_count": null,
   "id": "c538a615",
   "metadata": {},
   "outputs": [],
   "source": [
    "## Raukine & Froude actuator disk model"
   ]
  },
  {
   "cell_type": "markdown",
   "id": "870634e4",
   "metadata": {},
   "source": [
    "As per this physical mode, the propeller plane is assumed as a disk of zero thickness that supports a pressure difference/discontinuity but not in velocity."
   ]
  },
  {
   "cell_type": "markdown",
   "id": "274a252d",
   "metadata": {},
   "source": [
    "```{note} Bernoulli's equation relates pressure and velocity for inviscid, incompressible, steady, irrotational.\n",
    "```"
   ]
  },
  {
   "cell_type": "code",
   "execution_count": null,
   "id": "3f4a9d16",
   "metadata": {},
   "outputs": [],
   "source": []
  },
  {
   "cell_type": "code",
   "execution_count": null,
   "id": "81133cf1",
   "metadata": {},
   "outputs": [],
   "source": []
  },
  {
   "cell_type": "code",
   "execution_count": null,
   "id": "85b8420b",
   "metadata": {},
   "outputs": [],
   "source": []
  },
  {
   "cell_type": "markdown",
   "id": "7b541cd8",
   "metadata": {},
   "source": [
    "The flow velocity at the rotor disk, $v_i$, is called induced velocity and is needed for accurate estimation of blade aerodynamics.\n",
    "The flow velocity at far downstream, $w$, is relevant for accounting for different rotor wake interaction phenomena - rotor-wing or rotor-fuselage interference effects, brownout, whiteout etc.\n",
    "\n",
    "[//]: # (whiteout/brownout videos here??)"
   ]
  },
  {
   "cell_type": "markdown",
   "id": "50a14feb",
   "metadata": {},
   "source": [
    "## Detour: interference effects"
   ]
  },
  {
   "cell_type": "markdown",
   "id": "d65c483b",
   "metadata": {},
   "source": [
    "```{figure} ../../assets/1_MomentumTheory/Mi6Wing.jpg\n",
    "---\n",
    "height: 150px\n",
    "name: Mi6Wing\n",
    "---\n",
    "Mi-6 [[source]](https://en.wikipedia.org/wiki/Mil_Mi-6#/media/File:Mi-6_(cropped).jpg)\n",
    "```"
   ]
  },
  {
   "cell_type": "markdown",
   "id": "9377fa86",
   "metadata": {},
   "source": []
  },
  {
   "cell_type": "markdown",
   "id": "b8afb36a",
   "metadata": {},
   "source": [
    "## Detour: brownout/whiteout"
   ]
  },
  {
   "cell_type": "markdown",
   "id": "fce1be1f",
   "metadata": {},
   "source": []
  },
  {
   "cell_type": "markdown",
   "id": "d8c9c660",
   "metadata": {},
   "source": []
  },
  {
   "cell_type": "markdown",
   "id": "69ec7be4",
   "metadata": {},
   "source": [
    "```{admonition} Aside\n",
    "Dust is even otherwise a major concern due to moving mechanical components involved. Heavy maintainance is warranted when operating in a dusty environment. \n",
    "\n",
    "\"... (during the Vietnam war) dust put more helicopters out of commission than enemy action\"\n",
    "\n",
    "-- [Military archives](https://www.usace.army.mil/About/History/Historical-Vignettes/Military-Construction-Combat/054-Helicopter-Dust/) \n",
    "\n",
    "\"America’s elite rescue force had lost eight men, seven helicopters, and a C-130, and had not even made contact with the enemy. It was a debacle. It defined the word “debacle.”\n",
    "\n",
    "---- an unexpected [dust storm](https://www.theatlantic.com/magazine/archive/2006/05/the-desert-one-debacle/304803/) one of the leading causes of the failed Iran hostage rescue attempt  \n",
    "```"
   ]
  },
  {
   "cell_type": "markdown",
   "id": "8a553e38",
   "metadata": {},
   "source": []
  },
  {
   "cell_type": "markdown",
   "id": "500ccd81",
   "metadata": {},
   "source": []
  },
  {
   "cell_type": "markdown",
   "id": "7235fccc",
   "metadata": {},
   "source": []
  },
  {
   "cell_type": "markdown",
   "id": "dea4bf05",
   "metadata": {},
   "source": []
  },
  {
   "cell_type": "markdown",
   "id": "b1e57f00",
   "metadata": {},
   "source": []
  },
  {
   "cell_type": "markdown",
   "id": "a4254541",
   "metadata": {},
   "source": []
  },
  {
   "cell_type": "markdown",
   "id": "bdbb4514",
   "metadata": {},
   "source": []
  },
  {
   "cell_type": "markdown",
   "id": "cb533420",
   "metadata": {},
   "source": []
  },
  {
   "cell_type": "markdown",
   "id": "01803651",
   "metadata": {},
   "source": []
  },
  {
   "cell_type": "markdown",
   "id": "54be97d0",
   "metadata": {},
   "source": [
    "\n",
    "### Assumptions\n"
   ]
  },
  {
   "cell_type": "markdown",
   "id": "e112e229",
   "metadata": {},
   "source": [
    "- (induced) flow velocity across the rotor disk is continuous\n",
    "    - continuity of fluids\n",
    "- \n",
    "\n",
    "infinite number of blades on the rotor\n",
    "- *induced velocities are small compared to the ??*"
   ]
  },
  {
   "cell_type": "markdown",
   "id": "881f8fed",
   "metadata": {},
   "source": []
  },
  {
   "cell_type": "markdown",
   "id": "71fbabe3",
   "metadata": {},
   "source": []
  },
  {
   "cell_type": "markdown",
   "id": "45f39b26",
   "metadata": {},
   "source": []
  },
  {
   "cell_type": "markdown",
   "id": "bb850f54",
   "metadata": {},
   "source": [
    "\n",
    "\n",
    "Momentum theory only takes into account the rotor disc area. It does not take into account other rotor geometry parameters - blade twist, taper, chord, sweep angle (forward and back), anhedral/dihedral angle, or aerodynamic parameters - airfoil type."
   ]
  },
  {
   "cell_type": "markdown",
   "id": "c27f4c4c",
   "metadata": {},
   "source": [
    "```{figure} ../../assets/1_MomentumTheory/propeller.jpg\n",
    "---\n",
    "height: 150px\n",
    "name: propeller\n",
    "---\n",
    "Propeller [[source]](https://commons.wikimedia.org/wiki/File:Engine_and_propellers_of_aircraft_close_up.jpg)\n",
    "```"
   ]
  },
  {
   "cell_type": "markdown",
   "id": "298e6702",
   "metadata": {},
   "source": [
    "```{figure} ../../assets/1_MomentumTheory/rotor.jpg\n",
    "---\n",
    "height: 150px\n",
    "name: rotor\n",
    "---\n",
    "Helicopter rotor [source](https://en.wikipedia.org/wiki/Sikorsky_UH-60_Black_Hawk#/media/File:ROCA_UH-60M_Black_Hawk.jpg)\n",
    "```"
   ]
  },
  {
   "cell_type": "code",
   "execution_count": null,
   "id": "dcf74320",
   "metadata": {},
   "outputs": [],
   "source": []
  },
  {
   "cell_type": "markdown",
   "id": "5905eeb5",
   "metadata": {},
   "source": [
    "## Momentum theory: review"
   ]
  },
  {
   "cell_type": "markdown",
   "id": "687df7d7",
   "metadata": {},
   "source": [
    " - does not model rotor torque\n",
    " - it models the most dominant physics exhibited by rotors in steady state operation\n",
    "     - in general, it gets the trends from design parametric variations right\n",
    "     - hence can be used in preliminary design"
   ]
  },
  {
   "cell_type": "markdown",
   "id": "7041d17a",
   "metadata": {},
   "source": []
  },
  {
   "cell_type": "markdown",
   "id": "69255d05",
   "metadata": {},
   "source": []
  },
  {
   "cell_type": "markdown",
   "id": "8a46d381",
   "metadata": {},
   "source": [
    "## Momentum theory: when is the fidelity sufficient?\n",
    "\n",
    "* Provides *good* estimate in steady conditions - climb, hover, descent\n",
    "* \n",
    "* "
   ]
  },
  {
   "cell_type": "markdown",
   "id": "5c68e75d",
   "metadata": {},
   "source": [
    "## Momentum theory: when is the fidelity not sufficient?\n",
    "\n",
    "* Transient conditions - for e.g. maneuvers\n",
    "* Does not include aerodynamic limitations of an airfoil\n",
    "    * only maps thrust to induced velocity\n",
    "* k\n",
    "\n",
    "This is where the blade element momentum theory (BEMT) comes in."
   ]
  },
  {
   "cell_type": "markdown",
   "id": "1aefb831",
   "metadata": {},
   "source": [
    "## Are there better models?\n",
    "\n",
    "- some of the most high-fidelity analyses fall within the realm of CFD methods\n",
    "\n",
    "- vortex particle methods {cite}`A9_1` or the vorticity transport *(add citation)*\n",
    "\n",
    "- dynamic inflow models {cite}`T20,T16,T24`  \n",
    "\n",
    "- prescribed wake methods\n"
   ]
  },
  {
   "cell_type": "markdown",
   "id": "3319c849",
   "metadata": {},
   "source": [
    "Except CFD methods and prescribed wake methods, all of the above are ways to model the rotor wake only i.e. evolution of the flow once it\n",
    "has been *disturbed* by the rotor blades (airfoil surfaces). Another model is needed to quantify this *disturbance* so that the wake models above take that as an input and ..."
   ]
  },
  {
   "cell_type": "code",
   "execution_count": null,
   "id": "eb328d9f",
   "metadata": {},
   "outputs": [],
   "source": []
  },
  {
   "cell_type": "code",
   "execution_count": null,
   "id": "11a05ba3",
   "metadata": {},
   "outputs": [],
   "source": []
  },
  {
   "cell_type": "markdown",
   "id": "0010e3d0",
   "metadata": {},
   "source": []
  }
 ],
 "metadata": {
  "hide_input": false,
  "kernelspec": {
   "display_name": "Python 3 (ipykernel)",
   "language": "python",
   "name": "python3"
  },
  "language_info": {
   "codemirror_mode": {
    "name": "ipython",
    "version": 3
   },
   "file_extension": ".py",
   "mimetype": "text/x-python",
   "name": "python",
   "nbconvert_exporter": "python",
   "pygments_lexer": "ipython3",
   "version": "3.8.5"
  },
  "varInspector": {
   "cols": {
    "lenName": 16,
    "lenType": 16,
    "lenVar": 40
   },
   "kernels_config": {
    "python": {
     "delete_cmd_postfix": "",
     "delete_cmd_prefix": "del ",
     "library": "var_list.py",
     "varRefreshCmd": "print(var_dic_list())"
    },
    "r": {
     "delete_cmd_postfix": ") ",
     "delete_cmd_prefix": "rm(",
     "library": "var_list.r",
     "varRefreshCmd": "cat(var_dic_list()) "
    }
   },
   "types_to_exclude": [
    "module",
    "function",
    "builtin_function_or_method",
    "instance",
    "_Feature"
   ],
   "window_display": false
  }
 },
 "nbformat": 4,
 "nbformat_minor": 5
}
