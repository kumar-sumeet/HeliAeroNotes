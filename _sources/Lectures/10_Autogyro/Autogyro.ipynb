{
 "cells": [
  {
   "cell_type": "markdown",
   "id": "67533c4a",
   "metadata": {},
   "source": [
    "# Autogyro"
   ]
  },
  {
   "cell_type": "markdown",
   "id": "5f79d0e0",
   "metadata": {},
   "source": [
    "```{epigraph}\n",
    "\"... is a perfected airplane, although not designed with the sporting purpose of increasing speed nor with the commercial object of enlarging the the radius of action, but with the humanitarian purpose of reducing to a minimum the number of accidents and the number of human lives sacrificed in the fight for the conquest of the air.\"\n",
    "\n",
    "-- [NASA TM No.216, 1923](https://ntrs.nasa.gov/citations/19930084591) \n",
    "```"
   ]
  },
  {
   "cell_type": "markdown",
   "id": "a733336e",
   "metadata": {},
   "source": [
    "...or autogiro or gyrodyne or gyroplane ... \n",
    "These precede the development of helicopters as we know it because replacing the wing with a freely spinning rotor, i.e. the rotor is not connected to the engine, is mechanically simpler than having a powered rotor with all the complicacies that arise from a controls point of view. Additionally, we now know that true VTOL capability places the demand for a lot of power on the aircraft powerplant.... "
   ]
  },
  {
   "cell_type": "markdown",
   "id": "53df8b9f",
   "metadata": {},
   "source": [
    "This chapter is largely based on Refs. {cite}`Add40` and Chapter 12 in {cite}`B3`"
   ]
  },
  {
   "cell_type": "markdown",
   "id": "c719d40f",
   "metadata": {},
   "source": [
    "The rotor, which is not attached to the aircraft engine, ends up doing the work of the fixed-wing. This is accomplished by inclining the rotor backwards (*positive* shaft tilt). The necessary thust to keep the aircraft aloft comes from the rotation of the rotor enabled by the air going through from below the rotor. The energy needed to keep the rotor spinning in this case is extracted from the kinetic energy of the air flowing through the rotor. The constant aircraft forward motion is enabled by the pusher propeller, without which the flow through the main rotor would stop and aircraft would start losing altitude and eventually settling perhaps in an autorotation state not unlike a conventional helicopter. \n",
    "Below are some of the differences in autogyro performance and control compared to the corresponding fixed-wing aircfraft -"
   ]
  },
  {
   "cell_type": "markdown",
   "id": "ae1b3d08",
   "metadata": {},
   "source": [
    "- compared to a fixed-wing design\n",
    "    - autogyro performance is worse\n",
    "    - autogyro rotor generates thrust at lower forward speeds\n",
    "- "
   ]
  },
  {
   "cell_type": "markdown",
   "id": "cfad28c2",
   "metadata": {},
   "source": [
    "\n",
    "\n",
    "\n",
    "\n",
    "\n",
    "So the rotor is unpowered and provides lift using autorotation\n",
    "\n",
    "Jumpy take-off exhibited by and Autogyro where the engine power is transmitted to the rotor via a clutch mechanism. So is a lot of ways an autogyro is already like a helicopter can you think of something that an autogyro that cannot do or would have difficulty accomplishing compared to a helicopter?"
   ]
  },
  {
   "cell_type": "code",
   "execution_count": null,
   "id": "2a0a37ab",
   "metadata": {
    "hide_input": true,
    "tags": [
     "hide-input"
    ]
   },
   "outputs": [],
   "source": [
    "from IPython.display import YouTubeVideo\n",
    "YouTubeVideo('hI5cAgWmShU', width=500, height=270)\n",
    "\n",
    "#need to prevent this code cell from showing at all!! (not even 'click to see')\n",
    "#add helicopter jump take off as well"
   ]
  },
  {
   "cell_type": "markdown",
   "id": "bf75765a",
   "metadata": {
    "tags": [
     "hide-cell"
    ]
   },
   "source": [
    "maneuvre in low speed flight, abandon landing approach shortly before when coming to land"
   ]
  },
  {
   "cell_type": "markdown",
   "id": "93d9dfa7",
   "metadata": {},
   "source": []
  },
  {
   "cell_type": "markdown",
   "id": "b346a0d8",
   "metadata": {},
   "source": []
  },
  {
   "cell_type": "markdown",
   "id": "4aff6bd1",
   "metadata": {},
   "source": []
  },
  {
   "cell_type": "markdown",
   "id": "4d13671c",
   "metadata": {},
   "source": []
  },
  {
   "cell_type": "markdown",
   "id": "7524c83d",
   "metadata": {},
   "source": []
  },
  {
   "cell_type": "markdown",
   "id": "2453ed05",
   "metadata": {},
   "source": []
  }
 ],
 "metadata": {
  "celltoolbar": "Edit Metadata",
  "hide_input": false,
  "kernelspec": {
   "display_name": "Python 3 (ipykernel)",
   "language": "python",
   "name": "python3"
  },
  "language_info": {
   "codemirror_mode": {
    "name": "ipython",
    "version": 3
   },
   "file_extension": ".py",
   "mimetype": "text/x-python",
   "name": "python",
   "nbconvert_exporter": "python",
   "pygments_lexer": "ipython3",
   "version": "3.8.5"
  },
  "latex_envs": {
   "LaTeX_envs_menu_present": true,
   "autoclose": true,
   "autocomplete": true,
   "bibliofile": "biblio.bib",
   "cite_by": "apalike",
   "current_citInitial": 1,
   "eqLabelWithNumbers": false,
   "eqNumInitial": 1,
   "hotkeys": {
    "equation": "Ctrl-E",
    "itemize": "Ctrl-I"
   },
   "labels_anchors": false,
   "latex_user_defs": false,
   "report_style_numbering": false,
   "user_envs_cfg": false
  },
  "varInspector": {
   "cols": {
    "lenName": 16,
    "lenType": 16,
    "lenVar": 40
   },
   "kernels_config": {
    "python": {
     "delete_cmd_postfix": "",
     "delete_cmd_prefix": "del ",
     "library": "var_list.py",
     "varRefreshCmd": "print(var_dic_list())"
    },
    "r": {
     "delete_cmd_postfix": ") ",
     "delete_cmd_prefix": "rm(",
     "library": "var_list.r",
     "varRefreshCmd": "cat(var_dic_list()) "
    }
   },
   "types_to_exclude": [
    "module",
    "function",
    "builtin_function_or_method",
    "instance",
    "_Feature"
   ],
   "window_display": false
  }
 },
 "nbformat": 4,
 "nbformat_minor": 5
}
