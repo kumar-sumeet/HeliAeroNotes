{
 "cells": [
  {
   "cell_type": "markdown",
   "id": "chronic-field",
   "metadata": {
    "slideshow": {
     "slide_type": "slide"
    }
   },
   "source": [
    "# Recap of Fundamentals in Aerodynamics - 2D"
   ]
  },
  {
   "cell_type": "markdown",
   "id": "comfortable-grant",
   "metadata": {
    "slideshow": {
     "slide_type": "-"
    }
   },
   "source": [
    "```{epigraph}\n",
    "... if we all designed bodies to have stagnation points at the back, then D'Alembert would rest happy, and we would have no drag. Presumably that would be a Good Thing generally, except for parachutists!\n",
    "```\n",
    "<p style=\"text-align:right\" > <a href=\"https://arc.aiaa.org/doi/abs/10.2514/6.1996-161\"> PBS Lissaman</a> </p>\n"
   ]
  },
  {
   "cell_type": "markdown",
   "id": "operating-worst",
   "metadata": {
    "slideshow": {
     "slide_type": "skip"
    }
   },
   "source": [
    "This chapter is a whirlwind tour of some of the basics of airfoil aerodynamics that is relevant for this course. Since airfoils can be imagined as the basic building blocks that make up the rotor, the fundamental understanding of airfoil aerodynamics laid down here would help develop a more intuitive understanding of rotor aerodynamics. This chapter is predominantly based on the content in {cite}`BA3`, in particular Chapter 7 from this reference. \n",
    "\n",
    "Additionally, {cite}`A23` and {cite}`A23_1` provide a good overview of the historical development of the field of fluid dynamics that "
   ]
  },
  {
   "cell_type": "markdown",
   "id": "2c6c5cf9",
   "metadata": {},
   "source": [
    "## Bodies in fluids"
   ]
  },
  {
   "cell_type": "markdown",
   "id": "9b27a9f4",
   "metadata": {},
   "source": [
    "Understanding the nature of forces acting on bodies of arbitrary shape is in our interest if the objective is to minimise the amount of work done in order to overcome the resistive forces due to friction caused due to relative motion between the body and the surrounding fluid. Optimum hull design of a cruise ship, minimum drag profile of a competitive road cyclist+cycle, ... are a few examples where an understanding of fluid behavior would help achieve the objectives. Of course, we need not look too far for examples because a helicopter has various entities that might benefit from design based on a sound knowhow in fluid dynamics. A ... fuselage design such that drag (rotorcraft fuselage drag is referred to as parasite drag) is minimised would go a long way in reducing operating costs.  "
   ]
  },
  {
   "cell_type": "markdown",
   "id": "7c80b158",
   "metadata": {},
   "source": [
    "Some fundamental laws are followed by fluids -"
   ]
  },
  {
   "cell_type": "markdown",
   "id": "2ffee9c3",
   "metadata": {},
   "source": [
    "- they cannot penetrate a body surface ($F$)"
   ]
  },
  {
   "cell_type": "markdown",
   "id": "3827b75c",
   "metadata": {},
   "source": [
    "$$\\mathbf{v}. \\nabla F = 0$$"
   ]
  },
  {
   "cell_type": "markdown",
   "id": "edde90d6",
   "metadata": {},
   "source": [
    "- the velocity at the body surface is zero"
   ]
  },
  {
   "cell_type": "markdown",
   "id": "88f8f21e",
   "metadata": {},
   "source": []
  },
  {
   "cell_type": "markdown",
   "id": "a2bf02ea",
   "metadata": {},
   "source": [
    "The velocity normal to the body surface is already established to be zero. Velocity parallel to the surface can be thought of as ... This brings the total velocity at the surface of the body to be zero."
   ]
  },
  {
   "cell_type": "markdown",
   "id": "e06b9315",
   "metadata": {},
   "source": []
  },
  {
   "cell_type": "markdown",
   "id": "silent-casino",
   "metadata": {
    "slideshow": {
     "slide_type": "slide"
    }
   },
   "source": [
    "## Navier-Stokes equations (NSE)"
   ]
  },
  {
   "cell_type": "markdown",
   "id": "handy-accounting",
   "metadata": {
    "slideshow": {
     "slide_type": "skip"
    }
   },
   "source": [
    "The NSE are essential to so many analyses you encounter involving fluid flows yet they can be solved without the use of a computer for only a handful of idealised scenarios. Even today, the fact that these equations are challenging to solve is what keeps many aerospace and mechanical engineers employed. Which is why in the early days of the invention of the airplane, and essentially the beginning of the field of aerodynamics, the exact mathematical theory to analyse the flow already existed (NSE had already been around for atleast half a century by the time of the first Wright brothers' flight) but was of little help since the equations couldn't be solved! Clever simplifications had to be devised based on meticulous experimental observations and astute engineering judgement so that the mathematical problem of lift generation could be posed in a way that it was atleast solvable, while of course simultaneously leading to results of acceptable accuracy. The schematic below shows the simplifications that are often adopted in fluid analyses based on the problem at hand.\n"
   ]
  },
  {
   "cell_type": "markdown",
   "id": "5a4d4195",
   "metadata": {
    "slideshow": {
     "slide_type": "-"
    }
   },
   "source": [
    "<center>\n",
    "    <img src=\"../assets/FluidEqsChart2.svg\" class=\"large\">\n",
    "    <p  style=\"font-size:16px; color:gray; text-align:center;\"> Fluid models and equations with different approximations  </p>\n",
    "\n",
    "</center>"
   ]
  },
  {
   "cell_type": "markdown",
   "id": "e75eaaf9",
   "metadata": {},
   "source": [
    "The assumptions that lead to simplifications are the following-"
   ]
  },
  {
   "cell_type": "markdown",
   "id": "d1484f14",
   "metadata": {},
   "source": [
    "- no viscosity"
   ]
  },
  {
   "cell_type": "markdown",
   "id": "bc3ec7ac",
   "metadata": {},
   "source": [
    "given the low kinematic viscosity of air, the viscous terms can be assumed to be much smaller than the other terms in certain scenarios leading to the Euler equation. However, even the Euler equation can be solved analytically."
   ]
  },
  {
   "cell_type": "markdown",
   "id": "47ed4e41",
   "metadata": {},
   "source": [
    "- incompressibility"
   ]
  },
  {
   "cell_type": "markdown",
   "id": "25c23e48",
   "metadata": {},
   "source": [
    "assuming that the air in incompressible registers an error in the density of only about 3% for flow velocity upto Mach number 0.3. Clearly, for low speed applications this assumption is a reasonable one."
   ]
  },
  {
   "cell_type": "markdown",
   "id": "f879ae37",
   "metadata": {},
   "source": [
    "- irrotationality"
   ]
  },
  {
   "cell_type": "markdown",
   "id": "4c79017c",
   "metadata": {},
   "source": [
    "the influence of this assumption is mathematically very apparent in that it leads to the fluid flow behavior to be represented using the Laplace's equation. Which is an incredible simplification because of the properties that the function $\\phi$, that statisfies the Laplace equation, is bound to exhibit. This is a linear equation which means it is amenable to superposition - i.e. flowfield around two bodies placed close to each other is the sum of the flow fields of the two bodies separately. The function $\\phi$ is continuous and differentiable (referred to as holomorphic in mathematical parlance) which means any differentiable function represents the flow over some body. We just need to identify the function that represents the flowfield over the body of interest to us - an airfoil or a flat plate (airfoil with zero thickness). Lastly, the ubiquity with which this function appears in different areas of physics - electrostatics, gravitation etc. - means that aerodynamiscists would not be alone in their struggle to identify solution strategies for the Laplace's equation."
   ]
  },
  {
   "cell_type": "markdown",
   "id": "1c207f56",
   "metadata": {},
   "source": []
  },
  {
   "cell_type": "markdown",
   "id": "palestinian-permit",
   "metadata": {
    "slideshow": {
     "slide_type": "-"
    }
   },
   "source": [
    "<div style=\"float:right; width:35%;\" >\n",
    "    <img src=\"../assets/MT_heirarchy_noannot.png\" class=\"big\" />\n",
    "    <p style=\"text-align:center; color:gray; font-size:60%;\"> Heirarchy of physical theories [taken from \"Understanding Aerodynamics\" by Doug McLean] <a href=\"https://www.wiley.com/en-us/Understanding+Aerodynamics%3A+Arguing+from+the+Real+Physics-p-9781119967514\">[source] </a>\n",
    "  </p>\n",
    "</div>\n",
    "\n",
    "Principle aim of a model\n",
    "- include just relevant behavior of physical systems\n",
    "- superfluousness makes it computationally intensive\n",
    "- (too much) parsimoniousness can make it *useless*\n",
    "\n",
    "NSE are an *approximate* model of fluids\n",
    "- rarely do these *approximations* become limitations \n",
    "- fluids modelled as a continuous medium \n",
    "    - *granularity* is ignored\n",
    "- basic conservation laws are satisfied \n",
    "    - mass, momentum, energy\n",
    "- constitutive relations \n",
    "    - as many equations as there are variables\n"
   ]
  },
  {
   "cell_type": "markdown",
   "id": "round-official",
   "metadata": {
    "slideshow": {
     "slide_type": "slide"
    }
   },
   "source": [
    "## Simple governing laws, complex results"
   ]
  },
  {
   "cell_type": "markdown",
   "id": "hybrid-manitoba",
   "metadata": {
    "cell_style": "center",
    "slideshow": {
     "slide_type": "skip"
    }
   },
   "source": [
    "The NSE are generally all that an aerospace engineer needs for all their aerodynamics analyses needs - five field partial differential equations and three constitutive relations to solve for three space coordinates (Lagrangian)/velocity components (Eulerian), pressure, density, temperature, viscosity and thermal conductivity. fuselage [^RotorWake] Being field equations, the NSE can be solved if the boundary conditions of the domain of investigation are known. In case of boundaries that form the interface with another material - for e.g. the surface of a wing - additional conditions need to be imposed since NSE do not cover the physics at such interfaces. Examples include \"no slip\" boundary condition typically employed for flow over solid boundaries and \"no temperature jump\" in case of a temperature differential.\n",
    "  \n",
    "Since the momentum conservation equations are part of the NSE, Newton's 2nd is definitely involved when describing flow behavior. However, simply attributing lift generated by an airfoil, for e.g., to just Newton's 2nd law is not entirely accurate. There is an obvious cause and effect relation when one talks about Newton's 2nd law. Within a fluid, however, the motion of continuum parcels is influenced by the forces exerted and the forces exerted are in turn influenced by the motion of these parcels. For e.g., the momentum equation above can be viewed as a form of Newton's second law of motion F=mass x acceleration, except that the forcing terms on the RHS of the equation - the pressure gradient and the shear stresses - are themselves a function of the fluid velocity. The complex interaction between the three sets of forces - inertial, pressure and shear - is what gives fluid dynamics its richness.\n",
    "\n",
    "Such implicit relations of relatively simple local physics (conservation laws) buried within the NSE make an intuitive foresight of what would happen in the global flowfield difficult. Below is an informal discussion of the mechanism by which airfoils generate lift to exemplify this. \n",
    "\n",
    "[^RotorWake]: When modelling rotor wake there is not much to be gained from solving the most complex form of the problem. For e.g., most rotorcraft (atleast conventional designs) don't fly faster than M=0.3 so right away density can be assumed to be constant without incurring much error. So can temperature and viscosity, and thermal conductivity is just zero. From the continuity and the momentum conservation equations, the problem then boils down to solving for the three velocity components and the pressure distribution. More on that later.  "
   ]
  },
  {
   "cell_type": "markdown",
   "id": "figured-porcelain",
   "metadata": {
    "slideshow": {
     "slide_type": "-"
    }
   },
   "source": [
    "<div class=\"image-grid2\">\n",
    "    <img  src=\"../assets/airfoil_flow_newton.png\" class=\"small\"/>\n",
    "    <img  src=\"../assets/airfoil_flow_real.png\" class=\"small\"/>\n",
    "</div>\n",
    "\n",
    "<div class=\"image-grid2\">\n",
    "  <p > Streamlines representing hypothetical fluid flow idealised as independent fluid 'particles' (Newton's approach)\n",
    "  </p> \n",
    "  <p > Streamlines representing real fluid flow\n",
    "  </p>       \n",
    "</div>\n",
    "\n",
    "- fluid (infintely deformable) follows airfoil contour\n",
    "    - a result of rapid random motion of molecules\n",
    "- this influences fluid velocity in a large region in the vicinity of airfoil\n",
    "    - natural by-product of fluids behaving as continuous media     \n",
    "- flow sped up on upper surface and slowed down on lower surface\n",
    "    - so Bernoulli-based explanation of lift is correct (but not sufficient)     \n",
    "- most lift occurs due to suction pressure on upper side   \n",
    "- in fact airfoil shape has a significant effect on lift generated\n",
    "    - this is completely ignored by Newton's approach\n",
    "- mutual/reciprocal relation between pressure and velocity\n",
    "    - pressure difference causes fluid acceleration\n",
    "    - existence of pressure difference due to change in fluid velocity\n",
    "    - inertia plays central role\n",
    "        - air is *light* but at fast enough speeds, large enough mass can be influenced\n",
    "- magnitude of lift generated can be controlled \n",
    "    - linear dependence in $\\alpha$; decides downward deflection of fluid\n",
    "    - square dependence in fluid velocity\n",
    "        - amount of fluid influenced \n",
    "        - downward momentum imparted\n",
    "- the above effects die down with distance from the airfoil surfaces  "
   ]
  },
  {
   "cell_type": "markdown",
   "id": "directed-secret",
   "metadata": {
    "slideshow": {
     "slide_type": "skip"
    }
   },
   "source": [
    "```{admonition} Aside\n",
    "If the picture on the left above is assumed to be the *true* fluid model, then it is easy to see that the lift generated would be proportional to square of the angle of attack. However, we now know that airfoil lift is proportional to angle of attack (at least when the flow is not significantly separated). This is also evident from the pressure contours around an airfoil shown below - doubling the anlge of attack doubles the pressure difference, the amount of fluid influenced stays the same.\n",
    "<div class=\"image-grid2\">\n",
    "    <img  src=\"../assets/BA3_fig7_3_24a.png\" class=\"medium\"/>\n",
    "    <img  src=\"../assets/BA3_fig7_3_24b.png\" class=\"medium\"/>\n",
    "</div>\n",
    "\n",
    "<div class=\"image-grid2\"> \n",
    "  <p > Pressure field around NACA0010 at angle of attack of 4° <a href=\"https://www.wiley.com/en-us/Understanding+Aerodynamics%3A+Arguing+from+the+Real+Physics-p-9781119967514\">[source] </a>\n",
    "  </p> \n",
    "  <p > Pressure field around NACA0010 at angle of attack of 8° <a href=\"https://www.wiley.com/en-us/Understanding+Aerodynamics%3A+Arguing+from+the+Real+Physics-p-9781119967514\">[source] </a>\n",
    "  </p>       \n",
    "</div>\n",
    "```"
   ]
  },
  {
   "cell_type": "markdown",
   "id": "desperate-baltimore",
   "metadata": {
    "slideshow": {
     "slide_type": "skip"
    }
   },
   "source": [
    "Notice that viscosity did not come up in explanation above. Viscosity plays a key role in the ability of airfoil sections to produce lift in that it ensures that the fluid doesn't turn around the trailing edge. However, it is not necessary in order to quantify the amount of lift which is why simple potential flow theory models, such as thin airfoil theory, are capable to predicting airfoil lift to a good degree of accuracy. Even when the flow conditions are unsteady, potential flow theory-based unsteady models are just as capable in predicting the unsteady lift and moment variation.  "
   ]
  },
  {
   "cell_type": "markdown",
   "id": "0aa27106",
   "metadata": {},
   "source": [
    "```{admonition} Aside\n",
    ".....\n",
    "\n",
    "\"To those who fear flying, it is probably disconcerting that physicists and aeronautical engineers still passionately debate the fundamental issue underlying this endeavor: what keeps planes in the air?\"\n",
    "\n",
    "--- [STAYING ALOFT; What Does Keep Them Up There?](https://www.nytimes.com/2003/12/09/news/staying-aloft-what-does-keep-them-up-there.html) \n",
    "\n",
    "\"On a strictly mathematical level, engineers know how to design planes that will stay aloft. But equations don't explain why aerodynamic lift occurs. There are two competing theories that illuminate the forces and factors of lift. Both are incomplete explanations. Aerodynamicists have recently tried to close the gaps in understanding. Still, no consensus exists.\"\n",
    "\n",
    "```"
   ]
  },
  {
   "cell_type": "markdown",
   "id": "6486d6c8",
   "metadata": {},
   "source": []
  },
  {
   "cell_type": "markdown",
   "id": "opening-station",
   "metadata": {
    "slideshow": {
     "slide_type": "slide"
    }
   },
   "source": [
    "## Generation of lift"
   ]
  },
  {
   "cell_type": "markdown",
   "id": "peripheral-dress",
   "metadata": {
    "slideshow": {
     "slide_type": "skip"
    }
   },
   "source": [
    "\n",
    "\"Lift is an interaction in which the airfoil and the fluid exchange equal and opposite forces (as per Newton's third law)\" - {cite}`BA3`."
   ]
  },
  {
   "cell_type": "markdown",
   "id": "nonprofit-indication",
   "metadata": {
    "slideshow": {
     "slide_type": "-"
    }
   },
   "source": [
    "<div style=\"float:right; width:25%;\" >\n",
    "    <img src=\"../assets/AA_C1_CP_contour.png\" class=\"big\" />\n",
    "    <p style=\"text-align:center; color:gray; font-size:60%;\"> Coefficient of pressure contour plot of NACA23012 airfoil at $M=0.4$ and $\\alpha = 2^°$ <a href=\"https://arc.aiaa.org/doi/pdf/10.2514/6.2019-1101#:~:text=The%20aerodynamic%20efficiency%20was%20evaluated,%3D%200.6%20at%20Cl%20%3D%200.85.\">[source] </a>\n",
    "  </p>\n",
    "</div>\n",
    "\n",
    "- mathematically\n",
    "    - its because of the NSE\n",
    "- intuitively\n",
    "    - ?\n",
    "- always accompanied by circulation and vorticity\n",
    "- manifests as pressure difference \n",
    "- envisaged as flow turning \n",
    "    - below the airfoil AND above it!!\n"
   ]
  },
  {
   "cell_type": "markdown",
   "id": "a0b388cf",
   "metadata": {},
   "source": []
  },
  {
   "cell_type": "markdown",
   "id": "fb0c1006",
   "metadata": {},
   "source": []
  },
  {
   "cell_type": "markdown",
   "id": "assumed-sequence",
   "metadata": {
    "slideshow": {
     "slide_type": "slide"
    }
   },
   "source": [
    "## Vorticity and circulation"
   ]
  },
  {
   "cell_type": "markdown",
   "id": "7f4cf5ef",
   "metadata": {},
   "source": [
    "Vorticity $\\mathbf{\\omega}$ is a measure of the local rotation of fluid elements i.e. the element rotation about its own axis. If the velocity flow field $\\mathbf{V}$ is known at every point then mathematical this 'rotation' can be quantified using the following equation -"
   ]
  },
  {
   "cell_type": "markdown",
   "id": "drawn-challenge",
   "metadata": {
    "slideshow": {
     "slide_type": "-"
    }
   },
   "source": [
    "$$\\mathbf{\\omega} = \\nabla \\times \\mathbf{V}$$"
   ]
  },
  {
   "cell_type": "markdown",
   "id": "dietary-lexington",
   "metadata": {
    "slideshow": {
     "slide_type": "fragment"
    }
   },
   "source": [
    "<center>\n",
    "    <img src=\"../assets/BA3_fig3_3_5.png\" class=\"big\">\n",
    "    <p  style=\"font-size:16px; color:gray; text-align:center;\"> Vorticity of a continuum particle/element (modified from <a href=\"https://www.wiley.com/en-us/Understanding+Aerodynamics%3A+Arguing+from+the+Real+Physics-p-9781119967514\">[source]) </a></p>\n",
    "\n",
    "</center>"
   ]
  },
  {
   "cell_type": "markdown",
   "id": "exotic-designation",
   "metadata": {
    "slideshow": {
     "slide_type": "skip"
    }
   },
   "source": [
    "Fluid dynamics, as it concerns aerospace engineering, is largely about keeping track of vorticity generation and vorticity transport. It is introduced into the flow due to no-slip condition at the airfoil surface (or the surface of any body for that matter). This vorticity doesn‘t just immediately dissipate/dissapear and keeping track of it is imperative to get overall aerodynamics right. Recall that the velocity profile within the boundary layer on the upper surface looks like that shown in figure (c) above, where the lower fluid layers always have a lower velocity than the ones above them leading to a shearing effect and consequently generate vorticity in the fluid."
   ]
  },
  {
   "cell_type": "markdown",
   "id": "premier-yemen",
   "metadata": {
    "slideshow": {
     "slide_type": "subslide"
    }
   },
   "source": [
    "<center>\n",
    "    <img src=\"../assets/BA3_BA1_mix.png\" class=\"big\">\n",
    "    <p  style=\"font-size:16px; color:gray; text-align:center;\"> Schematic showing the origins of flow vorticity in the boundary layer (modified from <a href=\"https://www.wiley.com/en-us/Understanding+Aerodynamics%3A+Arguing+from+the+Real+Physics-p-9781119967514\">[source]) </a></p>\n",
    "\n",
    "</center>"
   ]
  },
  {
   "cell_type": "markdown",
   "id": "pressing-reverse",
   "metadata": {
    "slideshow": {
     "slide_type": "skip"
    }
   },
   "source": [
    "The circulation of the flow is a relevant quantity because it quanitifies the amount of lift being generated per the Kutta-Joukowski theorem."
   ]
  },
  {
   "cell_type": "markdown",
   "id": "instant-charger",
   "metadata": {
    "slideshow": {
     "slide_type": "subslide"
    }
   },
   "source": [
    "$$\\Gamma = \\oint \\mathbf{V}\\cdot \\mathbf{dl}$$"
   ]
  },
  {
   "cell_type": "markdown",
   "id": "a0d67a78",
   "metadata": {},
   "source": [
    "The following video presents some interesting experimental demonstrations that you might find useful to further help clarify the two concepts. "
   ]
  },
  {
   "cell_type": "code",
   "execution_count": 3,
   "id": "ceaf68af",
   "metadata": {},
   "outputs": [
    {
     "data": {
      "image/jpeg": "[encoded data removed]",
      "text/html": [
       "\n",
       "        <iframe\n",
       "            width=\"900\"\n",
       "            height=\"600\"\n",
       "            src=\"https://www.youtube.com/embed/pOA3VJHCnWs\"\n",
       "            frameborder=\"0\"\n",
       "            allowfullscreen\n",
       "            \n",
       "        ></iframe>\n",
       "        "
      ],
      "text/plain": [
       "<IPython.lib.display.YouTubeVideo at 0x7f8ba2086fa0>"
      ]
     },
     "execution_count": 3,
     "metadata": {},
     "output_type": "execute_result"
    }
   ],
   "source": [
    "from IPython.display import YouTubeVideo\n",
    "YouTubeVideo('pOA3VJHCnWs', width=900, height=600)"
   ]
  },
  {
   "cell_type": "markdown",
   "id": "cheap-mirror",
   "metadata": {
    "slideshow": {
     "slide_type": "subslide"
    }
   },
   "source": [
    "## Potential flow theory"
   ]
  },
  {
   "cell_type": "markdown",
   "id": "b499cb81",
   "metadata": {},
   "source": [
    "Due to the low magnitude of kinematic viscosity ($\\nu/\\rho$) of air, most flows of interest to an aerospace engineer occur at high Reynolds numbers (>$10^6$) and low angles of attack $\\alpha$. In such conditions the flow can be modelled reasonably well by dropping the viscous terms (i.e. assuming $\\nu=0$, limiting case of a viscous fluid).  Of course, one runs the risk of not being able to model effects of flow separation (which are viscous in nature), viscous drag etc. But the speed and ease of solving the fluid flow equations assuming $\\nu=0$ and the physicality of the results has led to a number of techniques to account for the viscous effects but without having to solve the full NSE equations. In fact for low Mach number flows, the fluid equations can be further simplified and yet be physically representative of the real flow field.  "
   ]
  },
  {
   "cell_type": "markdown",
   "id": "robust-confidence",
   "metadata": {
    "slideshow": {
     "slide_type": "-"
    }
   },
   "source": [
    "$$\\mathbf{V} = \\nabla \\phi$$"
   ]
  },
  {
   "cell_type": "markdown",
   "id": "welcome-feelings",
   "metadata": {
    "slideshow": {
     "slide_type": "-"
    }
   },
   "source": [
    "- the early go-to model for obtaining pressure distribution of slender bodies\n",
    "    - airfoils, airships etc.\n",
    "- bodies of any shape could be analysed\n",
    "- conformal theory used to obtain analytic results of pressure distribution  \n",
    "- also used in unsteady aerodynamic theories - for e.g. Theodorsen theory"
   ]
  },
  {
   "cell_type": "markdown",
   "id": "22ba0d27",
   "metadata": {},
   "source": [
    "One of the early experiments by Fuhrmann and Prandtl involving flow around a slender airship-like body in a wind tunnel showed that indeed the measured pressure distribution around the body matched that predicted by theory {cite}`BA13`. The theoretical pressure was obtained using potential flow theory where the geometry was modelled by placing multiple sinks and sources in a uniform flow as shown below."
   ]
  },
  {
   "cell_type": "markdown",
   "id": "b0da28f2",
   "metadata": {},
   "source": [
    "<center>\n",
    "    <img src=\"../assets/BA13_Fig53.png\" class=\"big\">\n",
    "    <p  style=\"font-size:16px; color:gray; text-align:center;\"> Fuhrmann and Prandtl study of a uniform flow around an airship-like solid body. <a href=\"https://press.uchicago.edu/ucp/books/book/chicago/E/bo12024403.html\">[source]) </a></p>\n",
    "\n",
    "</center>"
   ]
  },
  {
   "cell_type": "markdown",
   "id": "fd7b500e",
   "metadata": {},
   "source": [
    "## Kutta-Joukowski theorem"
   ]
  },
  {
   "cell_type": "markdown",
   "id": "d06f5748",
   "metadata": {},
   "source": [
    "This result is based on the observation that lifting force generated by an airfoil or a rotating cyclinder is proportional to the circulation around it and perpendicular to the oncoming flow velocity direction. More precisely, the aerodynamic force in an incompressible, inviscid, irrotational flow in an unbounded fluid is given as - "
   ]
  },
  {
   "cell_type": "markdown",
   "id": "45599dfe",
   "metadata": {},
   "source": [
    " <p  style=\" text-align:center;\"> $L´ = \\rho V_{\\infty}\\Gamma$"
   ]
  },
  {
   "cell_type": "markdown",
   "id": "941e0e5b",
   "metadata": {},
   "source": [
    "A more general notation for identifying the direction of resultant force using the Kutta-Joukowski theorem can be obtained by defining the direction of $\\Gamma$ as a vector quantity based on the right hand rule and using the following relation to give the resultant lift force per unit span ($\\mathbf{Q}_{\\infty}=\\mathbf{V}_{\\infty}$) -"
   ]
  },
  {
   "cell_type": "markdown",
   "id": "0ef0ff6a",
   "metadata": {},
   "source": [
    " $$ \\mathbf{L´}= \\rho \\mathbf{Q}_{\\infty} \\times  \\mathbf{\\Gamma}$$"
   ]
  },
  {
   "cell_type": "markdown",
   "id": "f6fda2f4",
   "metadata": {},
   "source": [
    "<center>\n",
    "    <img src=\"../assets/B24_Fig316.png\" class=\"big\">\n",
    "    <p  style=\"font-size:16px; color:gray; text-align:center;\"> Vector notation for Kutta-Joukowski theorem (<a href=\"https://www.cambridge.org/core/books/lowspeed-aerodynamics/077FAF851C4582F1B7593809752C44AE\">[source]) </a></p>\n",
    "\n",
    "</center>"
   ]
  },
  {
   "cell_type": "markdown",
   "id": "b55b2fcd",
   "metadata": {},
   "source": [
    "This relation tells us the simple fact that lift is related to the circulation around the body in question. So if the circulation were zero, there would be no lift generated. On the other hand, if you knew precisely the circulation around the cross-section of a wing or a blade, you could get the lift per unit span and the total lift would simply be an integral over all such sections over its span. Precise experiments carried out in the wind tunnel with wing sections {cite}`Add54`, where the flow velocities around these section have been measured, show that indeed the effect of an airfoil is to introduce a circulation around itself and that circulation everywhere else in the fluid domain is zero or close to zero. "
   ]
  },
  {
   "cell_type": "markdown",
   "id": "ae7740f2",
   "metadata": {},
   "source": [
    "<center>\n",
    "    <img src=\"../assets/Add54_Fig8.png\" class=\"big\">\n",
    "    <p  style=\"font-size:16px; color:gray; text-align:center;\"> Schematic of the measured circulation around an airfoil (<a href=\"https://royalsocietypublishing.org/doi/epdf/10.1098/rsta.1926.0005\">[source]) </a></p>\n",
    "\n",
    "</center>"
   ]
  },
  {
   "cell_type": "markdown",
   "id": "8ea69d8a",
   "metadata": {},
   "source": []
  },
  {
   "cell_type": "markdown",
   "id": "5880ae67",
   "metadata": {},
   "source": []
  },
  {
   "cell_type": "markdown",
   "id": "01e72543",
   "metadata": {
    "slideshow": {
     "slide_type": "subslide"
    }
   },
   "source": [
    "### Kutta condition"
   ]
  },
  {
   "cell_type": "markdown",
   "id": "250b467e",
   "metadata": {
    "slideshow": {
     "slide_type": "skip"
    }
   },
   "source": [
    "Based on the potential flow theory, lift generation can be predicted using a simple relation given by the Kutta-Joukowski theorem. This raises the natural question, how does one obtain $\\Gamma$!? Potential flow theory, on its own cannot uniquely predict the amount of lift an airfoil is capable of generating. For example, either flow field representations given below for the same $\\alpha$ and $V_{\\infty}$, and by extension the different circulations around the airfoils, are valid/possible within the framework of potential flow theory. Which one is correct?"
   ]
  },
  {
   "cell_type": "markdown",
   "id": "4b617f01",
   "metadata": {
    "slideshow": {
     "slide_type": "-"
    }
   },
   "source": [
    "<div class=\"image-grid2\">\n",
    "    <img  src=\"../assets/BA3_fig7_1_3b.png\" class=\"medium\"/>\n",
    "    <img  src=\"../assets/BA3_fig7_1_3c.png\" class=\"medium\"/>\n",
    "</div>\n",
    "\n",
    "<div class=\"image-grid2\">\n",
    "  <p > Streamlines around an airfoil (real flow) <a href=\"https://www.wiley.com/en-us/Understanding+Aerodynamics%3A+Arguing+from+the+Real+Physics-p-9781119967514\">[source] </a>\n",
    "  </p> \n",
    "  <p >  Streamlines representation around an airfoil based on a mathematically valid potential flow solution (not a real flow) <a href=\"https://www.wiley.com/en-us/Understanding+Aerodynamics%3A+Arguing+from+the+Real+Physics-p-9781119967514\">[source]) </a>\n",
    "  </p>       \n",
    "</div>"
   ]
  },
  {
   "cell_type": "markdown",
   "id": "f12250a7",
   "metadata": {
    "slideshow": {
     "slide_type": "skip"
    }
   },
   "source": [
    "In reality, only the one on the left is observed. This is a consequence of the viscosity of fluids in nature and the fact that they cannot turn around sharp corners (airfoil trailing edges are sharp enough). Since potential flow theory doesn't model viscosity, a condition needs to be mathematically enforced so that the resulting flow field obtained is physically correct (this is just one of those instances where observable physics guides a mathematical theory which would otherwise lead to a non-unique solution). This is achieved by enforcing what is called the Kutta condition. Based on what your favorite reference textbook for fluid dynamics is, this could also be referred to as the Joukowski condition {cite}`BDI2`. \n",
    "\n",
    "**Exactly define Kutta condition...**\n",
    "The Kutta condition is an engineering approximation that is based on experimental observations rather than mathematically derived from first principles. However, it is an indispensable part of introductory aerodynamics textbooks owing to the "
   ]
  },
  {
   "cell_type": "markdown",
   "id": "5c8356d7",
   "metadata": {},
   "source": [
    "## Kelvin's circulation theorem"
   ]
  },
  {
   "cell_type": "markdown",
   "id": "13038d56",
   "metadata": {},
   "source": [
    "For an inviscid, incompressible fluid of constant density, the circulation around any closed loop within the fluid remains time-invariant. For an airfoil initially at rest within a fluid, the circulation around any contour within the fluid is going to be zero. When the fluid is set in motion there is vorticity due to the uniform fluid velocity, yet we now know (from the discussion aboce) that there would be a circulation set around the airfoil. The Kelvin's circulation theorem implies that a vorticity of opposite sign must be getting introduced in the fluid so that the net circulation around any closed contour, that includes the airfoil in it, must be zero. "
   ]
  },
  {
   "cell_type": "markdown",
   "id": "666456a3",
   "metadata": {},
   "source": [
    "<div class=\"image-grid2\">\n",
    "    <img  src=\"../assets/B37_fig421_a.png\" class=\"medium\"/>\n",
    "    <img  src=\"../assets/B37_fig421_b.png\" class=\"medium\"/>\n",
    "</div>\n",
    "\n",
    "<div class=\"image-grid2\">\n",
    "  <p > Zero circulation in a fluid at rest (<a href=\"https://www.mheducation.com/highered/product/fundamentals-aerodynamics-anderson/M9781259129919.html\">[source]) </a>\n",
    "  </p> \n",
    "  <p >  Starting vortex observed behind an airfoil in a fluid (<a href=\"https://www.mheducation.com/highered/product/fundamentals-aerodynamics-anderson/M9781259129919.html\">[source]) </a>\n",
    "  </p>       \n",
    "</div>"
   ]
  },
  {
   "cell_type": "markdown",
   "id": "20131632",
   "metadata": {},
   "source": []
  },
  {
   "cell_type": "markdown",
   "id": "3f22c2f7",
   "metadata": {},
   "source": [
    "## Final Comments"
   ]
  },
  {
   "cell_type": "markdown",
   "id": "b773bbd3",
   "metadata": {},
   "source": [
    "The above, seemingly dissociated, set of concepts are nothing new and have been covered at length in fundamental fluid dynamics courses. These would be revisited when we build the framework for unsteady aerodynamics analyses."
   ]
  }
 ],
 "metadata": {
  "celltoolbar": "Slideshow",
  "hide_input": false,
  "kernelspec": {
   "display_name": "Python 3 (ipykernel)",
   "language": "python",
   "name": "python3"
  },
  "language_info": {
   "codemirror_mode": {
    "name": "ipython",
    "version": 3
   },
   "file_extension": ".py",
   "mimetype": "text/x-python",
   "name": "python",
   "nbconvert_exporter": "python",
   "pygments_lexer": "ipython3",
   "version": "3.8.5"
  },
  "latex_envs": {
   "LaTeX_envs_menu_present": true,
   "autoclose": true,
   "autocomplete": false,
   "bibliofile": "biblio.bib",
   "cite_by": "apalike",
   "current_citInitial": 1,
   "eqLabelWithNumbers": false,
   "eqNumInitial": 1,
   "hotkeys": {
    "equation": "Ctrl-E",
    "itemize": "Ctrl-I"
   },
   "labels_anchors": false,
   "latex_user_defs": false,
   "report_style_numbering": false,
   "user_envs_cfg": false
  },
  "rise": {
   "autolaunch": false,
   "backimage": "../assets/tum_bg_top_right.png",
   "enable_chalkboard": true,
   "footer": "Sumeet Kumar, PhD candidate",
   "scroll": true
  },
  "varInspector": {
   "cols": {
    "lenName": 16,
    "lenType": 16,
    "lenVar": 40
   },
   "kernels_config": {
    "python": {
     "delete_cmd_postfix": "",
     "delete_cmd_prefix": "del ",
     "library": "var_list.py",
     "varRefreshCmd": "print(var_dic_list())"
    },
    "r": {
     "delete_cmd_postfix": ") ",
     "delete_cmd_prefix": "rm(",
     "library": "var_list.r",
     "varRefreshCmd": "cat(var_dic_list()) "
    }
   },
   "types_to_exclude": [
    "module",
    "function",
    "builtin_function_or_method",
    "instance",
    "_Feature"
   ],
   "window_display": false
  }
 },
 "nbformat": 4,
 "nbformat_minor": 5
}
