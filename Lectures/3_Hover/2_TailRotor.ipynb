{
 "cells": [
  {
   "cell_type": "markdown",
   "id": "4611c317",
   "metadata": {
    "slideshow": {
     "slide_type": "slide"
    }
   },
   "source": [
    "# Tail Rotor"
   ]
  },
  {
   "cell_type": "markdown",
   "id": "341e2c84",
   "metadata": {
    "slideshow": {
     "slide_type": "skip"
    }
   },
   "source": [
    "Quite simply, the reaction from rotating the main rotor (CCW, say) has the tendency to spin the rest of the helicopter in the opposite direction (CW). In forward flight, the vertical tail surface can be succesfully used to generate enough force (or moment about the helicopter CG) so as to counteract this (CW) moment. However, in hover or low speed flight a different mechanism is needed to balance the overall yaw moments for safe and sustained operation."
   ]
  },
  {
   "cell_type": "markdown",
   "id": "df056b89",
   "metadata": {
    "slideshow": {
     "slide_type": "-"
    }
   },
   "source": [
    "<center>\n",
    "    <img src=\"../../assets/UH60.jpeg\" />\n",
    "    <p style=\"font-size:16px; color:gray; text-align:center;\"> Conventional design UH60 helicopter<a href=\"https://en.wikipedia.org/wiki/Sikorsky_UH-60_Black_Hawk#/media/File:Jordanian_Air_Force_UH-60_Black_Hawk_helicopter_(cropped).jpg\"> [source]</a>)</p>\n",
    "</center>"
   ]
  },
  {
   "cell_type": "markdown",
   "id": "8887b403",
   "metadata": {
    "slideshow": {
     "slide_type": "skip"
    }
   },
   "source": [
    "Early designs focussed on two main rotor designs, tandem as well as coaxial, before the main rotor + tail rotor configuration was shown by Igor Sikorsky to be the most viable design. The initial resitance to this approach is totally understandable, after all why should energy be expended separately just to balance the torque!? The tail rotor contributes nothing to rotor performance in hover or forward flight (unless it is canted). The tail rotor of the UH60 is canted by 20 deg, which helps it to contribute to lift by about 181 kg {cite}`U19`. "
   ]
  },
  {
   "cell_type": "markdown",
   "id": "ad2fb7c7",
   "metadata": {
    "slideshow": {
     "slide_type": "subslide"
    }
   },
   "source": [
    "<center>\n",
    "    <img src=\"../../assets/UH60_tailcant.jpg\" class=\"medium\">\n",
    "    <p style=\"font-size:16px; color:gray; text-align:center;\" > UH60 tail rotor <a href=\"https://commons.wikimedia.org/wiki/File:MH-60M_DAP_firing_2.75_inch_rockets_at_a_test_ground.jpg\"> [source]</a></p>\n",
    "\n",
    "</center>"
   ]
  },
  {
   "cell_type": "markdown",
   "id": "c2e8c5df",
   "metadata": {
    "slideshow": {
     "slide_type": "skip"
    }
   },
   "source": [
    "Different multi-rotor prototype designs were looked into and some of these are shown below (refered to by the name of their inventor and the country). They were all experimental prototypes and were all abandoned because the configurations were mechanical too complex to be reliable for the technology at the time. Ultimately the main rotor + tail rotor design from Igor Sikorsky became the norm. "
   ]
  },
  {
   "cell_type": "markdown",
   "id": "72fab96a",
   "metadata": {
    "slideshow": {
     "slide_type": "skip"
    }
   },
   "source": [
    "<div class=\"image-grid2\">\n",
    "    <img  src=\"../../assets/old_multirotor_1.png\" class=\"big\"/>\n",
    "    <img  src=\"../../assets/old_multirotor_2.png\" class=\"big\"/>\n",
    "</div>\n",
    "\n",
    "<div class=\"image-grid2\">\n",
    "  <p   > de Bothezat (USA, 1922) <a href=\"https://www.cambridge.org/core/books/rotorcraft-aeromechanics/6DE729BB2AFED9F94E59823086568C1E\"> [source]</a>\n",
    "  </p>   \n",
    "  <p  > Pescara (Spain, 1924) <a href=\"https://www.cambridge.org/core/books/rotorcraft-aeromechanics/6DE729BB2AFED9F94E59823086568C1E\"> [source]</a>\n",
    "  </p> \n",
    "</div>\n",
    "\n",
    "\n",
    "<div class=\"image-grid2\">\n",
    "    <img  src=\"../../assets/old_multirotor_3.png\" class=\"big\"/>\n",
    "    <img  src=\"../../assets/old_multirotor_4.png\" class=\"big\"/>\n",
    "</div>\n",
    "\n",
    "<div class=\"image-grid2\">\n",
    "  <p   > Oemichen (France, 1924) <a href=\"https://www.cambridge.org/core/books/rotorcraft-aeromechanics/6DE729BB2AFED9F94E59823086568C1E\"> [source]</a>\n",
    "  </p>   \n",
    "  <p  > d Ascenio (Italy, 1930) <a href=\"https://www.cambridge.org/core/books/rotorcraft-aeromechanics/6DE729BB2AFED9F94E59823086568C1E\"> [source]</a>\n",
    "  </p> \n",
    "</div>"
   ]
  },
  {
   "cell_type": "markdown",
   "id": "bc4e73cc",
   "metadata": {
    "slideshow": {
     "slide_type": "slide"
    }
   },
   "source": [
    "## Who needs a *tail* rotor!?"
   ]
  },
  {
   "cell_type": "markdown",
   "id": "9762e6a3",
   "metadata": {
    "slideshow": {
     "slide_type": "skip"
    }
   },
   "source": [
    "Apart from torque balance via multiple lifting rotors, "
   ]
  },
  {
   "cell_type": "markdown",
   "id": "64cfdc03",
   "metadata": {
    "slideshow": {
     "slide_type": "-"
    }
   },
   "source": [
    "<div class=\"image-grid3\">\n",
    "    <img src=\"../../assets/Add17.png\" class=\"medium\">\n",
    "    <img  src=\"../../assets/FaireyGyrodyne.jpeg\" class=\"medium\"/>\n",
    "    <img src=\"../../assets/FaireyRotodyne.jpeg\" class=\"medium\">\n",
    "</div>\n",
    "\n",
    "<div class=\"image-grid3\">\n",
    "    <p style=\"font-size:12px; color:gray; text-align:center;\"  > Schematic of a model rotor <a href=\"https://vtol.org/store/product/limitations-in-helicopter-design-6258.cfm\"> [source]</a> </p>\n",
    "    <p style=\"font-size:16px; color:gray; text-align:center;\"  > Fairey Gyrodyne <a href=\"https://en.wikipedia.org/wiki/Fairey_FB-1_Gyrodyne#/media/File:Fairey_FB-1_Gyrodyne.jpg\"> [source]</a>\n",
    "    </p>\n",
    "    <p style=\"font-size:12px; color:gray; text-align:center;\"  > Fairey Rotodyne <a href=\"https://en.wikipedia.org/wiki/Fairey_Rotodyne#/media/File:SFF_002-1055526_Fairey_Rotodyne.jpg\"> [source]</a>     </p>\n",
    "</div>\n"
   ]
  },
  {
   "cell_type": "markdown",
   "id": "432c982f",
   "metadata": {},
   "source": [
    "## Surviving loss of tail rotor "
   ]
  },
  {
   "cell_type": "code",
   "execution_count": null,
   "id": "58bb6e77",
   "metadata": {},
   "outputs": [],
   "source": [
    "#could possibly also talk about the accident from Prouty II-38 but feels unnecessary"
   ]
  },
  {
   "cell_type": "markdown",
   "id": "0dceef8f",
   "metadata": {},
   "source": [
    "- Survivability or continued control of helicopter depends on \n",
    "    - flight condition when loss happens\n",
    "    - degree of damage/loss and helicopter design to cope with that loss\n",
    "- Loss at high speed\n",
    "    - Large vertical stabilizers allow continued operation using a side slip\n",
    "    - This has to be balanced with need for high speed sideward flight (an issue in the Apache program – read Prouty II chapter 40 for details)\n",
    "- Loss at low speed or hover\n",
    "    - Autorotation\n"
   ]
  },
  {
   "cell_type": "markdown",
   "id": "22ba9665",
   "metadata": {},
   "source": [
    "<div class=\"image-grid2\">\n",
    "    <img  src=\"../../assets/bamby_faon.png\" class=\"size_options\"/>\n",
    "    <img  src=\"../../assets/Comanche.png\" class=\"size_options\"/>\n",
    "   \n",
    "</div>\n",
    "\n",
    "<div class=\"image-grid2\">\n",
    "  <p > Bamby Faon <a href=\"https://vtol.org/qr/may-2021\"> [source]</a>\n",
    "  </p>   \n",
    "  <p > Comanche <a href=\"https://vtol.org/images/dmImage/SourceImage/2018-January.JPG\"> [source]</a>\n",
    "  </p> \n",
    "</div>\n",
    "\n"
   ]
  },
  {
   "cell_type": "markdown",
   "id": "ae998e4f",
   "metadata": {},
   "source": [
    "\n"
   ]
  },
  {
   "cell_type": "markdown",
   "id": "df32e074",
   "metadata": {},
   "source": []
  },
  {
   "cell_type": "code",
   "execution_count": null,
   "id": "cadcb8f6",
   "metadata": {},
   "outputs": [],
   "source": []
  },
  {
   "cell_type": "code",
   "execution_count": null,
   "id": "d6aa1ae7",
   "metadata": {},
   "outputs": [],
   "source": []
  }
 ],
 "metadata": {
  "celltoolbar": "Slideshow",
  "hide_input": false,
  "kernelspec": {
   "display_name": "Python 3 (ipykernel)",
   "language": "python",
   "name": "python3"
  },
  "language_info": {
   "codemirror_mode": {
    "name": "ipython",
    "version": 3
   },
   "file_extension": ".py",
   "mimetype": "text/x-python",
   "name": "python",
   "nbconvert_exporter": "python",
   "pygments_lexer": "ipython3",
   "version": "3.8.5"
  },
  "latex_envs": {
   "LaTeX_envs_menu_present": true,
   "autoclose": true,
   "autocomplete": true,
   "bibliofile": "biblio.bib",
   "cite_by": "apalike",
   "current_citInitial": 1,
   "eqLabelWithNumbers": false,
   "eqNumInitial": 1,
   "hotkeys": {
    "equation": "Ctrl-E",
    "itemize": "Ctrl-I"
   },
   "labels_anchors": false,
   "latex_user_defs": false,
   "report_style_numbering": false,
   "user_envs_cfg": false
  },
  "varInspector": {
   "cols": {
    "lenName": 16,
    "lenType": 16,
    "lenVar": 40
   },
   "kernels_config": {
    "python": {
     "delete_cmd_postfix": "",
     "delete_cmd_prefix": "del ",
     "library": "var_list.py",
     "varRefreshCmd": "print(var_dic_list())"
    },
    "r": {
     "delete_cmd_postfix": ") ",
     "delete_cmd_prefix": "rm(",
     "library": "var_list.r",
     "varRefreshCmd": "cat(var_dic_list()) "
    }
   },
   "types_to_exclude": [
    "module",
    "function",
    "builtin_function_or_method",
    "instance",
    "_Feature"
   ],
   "window_display": false
  }
 },
 "nbformat": 4,
 "nbformat_minor": 5
}
