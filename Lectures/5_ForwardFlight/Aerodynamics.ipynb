{
 "cells": [
  {
   "cell_type": "markdown",
   "id": "839d74bf",
   "metadata": {
    "slideshow": {
     "slide_type": "slide"
    }
   },
   "source": [
    "## Airfoil Characteristics"
   ]
  },
  {
   "cell_type": "markdown",
   "id": "7d4c5f20",
   "metadata": {
    "slideshow": {
     "slide_type": "skip"
    }
   },
   "source": [
    "The rotor performance is an accumulated effect of the blade section (airfoil) aerodynamics over one rotor revolution. So the natural question arises, what kind of airfoil performance characteristics ($C_L$, $C_D$, $C_M$) are desirable for rotorcraft applications? The answer is not immediately obvious because, unlike their fixed-wing counterparts, helicopter blades experience varying oncoming flow velocities and different operating angles of attack over one revolution. Nevertheless, certain broad trends exist."
   ]
  },
  {
   "cell_type": "markdown",
   "id": "b8200742",
   "metadata": {
    "slideshow": {
     "slide_type": "-"
    }
   },
   "source": [
    "- balance advancing side and retreating aerodynamics\n",
    "    - low drag-divergence Mach number on advancing side (thin airfoils)\n",
    "    - high $C_{l_{max}}$ on retreating side (thick, cambered airfoils)\n",
    "- thin airfoils outboard, and thick, cambered airfoils inboard\n",
    "- good erodynamic efficiency\n",
    "    - high $\\frac{C_L}{C_D}$\n",
    "- low $C_M$"
   ]
  },
  {
   "cell_type": "markdown",
   "id": "8c2e9f17",
   "metadata": {},
   "source": [
    "Early helicopters had symmetric airfoils (for e.g. NACA0012 airfoil on UH1). "
   ]
  },
  {
   "cell_type": "markdown",
   "id": "74d71f6e",
   "metadata": {},
   "source": [
    "Low $C_M$ is a highly desirable attribute because airfoil $C_M$ can easily result in high blade twist. This leads to high pitch-link loads which in turn causes the need for larger/more powerful actuators to control blade pitch. High pitch-link loads also lead to higher vibration.  "
   ]
  },
  {
   "cell_type": "markdown",
   "id": "62ee37c0",
   "metadata": {},
   "source": [
    "Airfoil section exhibit $C_M$=0 or nearly zero only for a limited range of *normal* operating conditions. In extreme rotor operating conditions, when the blade section undergoes compressibility effects (high speed) or stall (high loading), the airfoil is operating outside its *normal* operating conditions and will likely exhibit high negative $C_M$. This is why high speed flight and "
   ]
  },
  {
   "cell_type": "markdown",
   "id": "6afa351e",
   "metadata": {},
   "source": [
    "Boeing AH-64 Apache initially had *straight* blade tips. This resulted in large "
   ]
  },
  {
   "cell_type": "markdown",
   "id": "22e505f7",
   "metadata": {},
   "source": [
    "## talk about blade/wing sweep( from understanding aero) here"
   ]
  },
  {
   "cell_type": "markdown",
   "id": "21c33f04",
   "metadata": {},
   "source": [
    "<center>\n",
    "    <img src=\"../../assets/AH64_earlyversion.jpeg\" class=\"medium\">\n",
    "    <p style=\"font-size:12px; color:gray; text-align:center;\"> P32 <a href=\"https://en.wikipedia.org/wiki/Boeing_AH-64_Apache#/media/File:Hughes_experimental_copter.jpg\"> [source]</a></p>\n",
    "\n",
    "</center>\n"
   ]
  },
  {
   "cell_type": "markdown",
   "id": "13adf341",
   "metadata": {},
   "source": [
    "# Airfoil performance vs Rotor performance"
   ]
  },
  {
   "cell_type": "markdown",
   "id": "7ceb0b6a",
   "metadata": {},
   "source": [
    "<center>\n",
    "    <img src=\"../../screenshots/3_/P32_1.png\" class=\"medium\">\n",
    "    <p style=\"font-size:12px; color:gray; text-align:center;\"> P32 <a href=\"\"> [source]</a></p>\n",
    "\n",
    "</center>\n",
    "\n",
    "\n",
    "**CAPTION and SOURCE needed**"
   ]
  },
  {
   "cell_type": "code",
   "execution_count": null,
   "id": "6d80a709",
   "metadata": {},
   "outputs": [],
   "source": []
  },
  {
   "cell_type": "markdown",
   "id": "a16dab04",
   "metadata": {},
   "source": [
    "## Rotor performance limitations"
   ]
  },
  {
   "cell_type": "markdown",
   "id": "7096e2ec",
   "metadata": {},
   "source": [
    "In hover, the limit to how much thrust a rotor can generate, vis-à-vis the MTOW capability, is related to just the maximum lift coefficient $C_L_{max}$ that the blade airfoil section can sustain. There is no single corresponding parameter for the limitation in forward flight condition. "
   ]
  },
  {
   "cell_type": "markdown",
   "id": "9d9ae663",
   "metadata": {},
   "source": [
    "### Advancing blade tip - high Mach number "
   ]
  },
  {
   "cell_type": "markdown",
   "id": "3703c0c0",
   "metadata": {},
   "source": [
    "- shock at advancing blade tip \n",
    "    - cause high blade pitching moments (vibration)\n",
    "    - leads to high drag"
   ]
  },
  {
   "cell_type": "markdown",
   "id": "baf3f741",
   "metadata": {},
   "source": [
    "### Rotor lifting ability with advance ratio"
   ]
  },
  {
   "cell_type": "markdown",
   "id": "927cf781",
   "metadata": {},
   "source": [
    "- maximum possible blade loading decreases with $\\mu$\n",
    "-"
   ]
  },
  {
   "cell_type": "markdown",
   "id": "cf38f31e",
   "metadata": {},
   "source": []
  },
  {
   "cell_type": "markdown",
   "id": "8e27c1b2",
   "metadata": {},
   "source": []
  },
  {
   "cell_type": "markdown",
   "id": "912ab441",
   "metadata": {},
   "source": []
  },
  {
   "cell_type": "markdown",
   "id": "42608d37",
   "metadata": {},
   "source": [
    "## What happens if you ... ?"
   ]
  },
  {
   "cell_type": "markdown",
   "id": "e7e77427",
   "metadata": {},
   "source": [
    "This was exactly what was investigated and published by FJ McHugh in {cite}`P67`. An experimental study was carried out using a model rotor because computational codes were not realiable enought to be used to examine the complex rotor aeromechanics at high forward speeds. Advance ratios 0-0.64 were investigated using a conventional rotor design"
   ]
  },
  {
   "cell_type": "markdown",
   "id": "695eb633",
   "metadata": {},
   "source": [
    "<center>\n",
    "    <img src=\"../../assets/P67_1.png\" class=\"medium\">\n",
    "    <p style=\"font-size:12px; color:gray; text-align:center;\" > P67 <a href=\"https://vtol.org/store/product/what-are-the-lift-and-propulsive-force-limits-at-high-speed-for-the-conventional-rotor-12979.cfm\"> [source]</a></p>\n",
    "\n",
    "</center>"
   ]
  },
  {
   "cell_type": "markdown",
   "id": "cfbc0bf7",
   "metadata": {},
   "source": []
  },
  {
   "cell_type": "code",
   "execution_count": null,
   "id": "83787d7a",
   "metadata": {},
   "outputs": [],
   "source": []
  },
  {
   "cell_type": "markdown",
   "id": "c169c1c8",
   "metadata": {},
   "source": [
    "# Further reading\n",
    "\n",
    "Bousman, W., Airfoil Design and Rotorcraft Performance. https://apps.dtic.mil/sti/citations/ADA480709"
   ]
  },
  {
   "cell_type": "code",
   "execution_count": null,
   "id": "169b5674",
   "metadata": {},
   "outputs": [],
   "source": []
  }
 ],
 "metadata": {
  "celltoolbar": "Slideshow",
  "hide_input": false,
  "kernelspec": {
   "display_name": "Python 3 (ipykernel)",
   "language": "python",
   "name": "python3"
  },
  "language_info": {
   "codemirror_mode": {
    "name": "ipython",
    "version": 3
   },
   "file_extension": ".py",
   "mimetype": "text/x-python",
   "name": "python",
   "nbconvert_exporter": "python",
   "pygments_lexer": "ipython3",
   "version": "3.8.5"
  },
  "latex_envs": {
   "LaTeX_envs_menu_present": true,
   "autoclose": true,
   "autocomplete": true,
   "bibliofile": "biblio.bib",
   "cite_by": "apalike",
   "current_citInitial": 1,
   "eqLabelWithNumbers": false,
   "eqNumInitial": 1,
   "hotkeys": {
    "equation": "Ctrl-E",
    "itemize": "Ctrl-I"
   },
   "labels_anchors": false,
   "latex_user_defs": false,
   "report_style_numbering": false,
   "user_envs_cfg": false
  },
  "varInspector": {
   "cols": {
    "lenName": 16,
    "lenType": 16,
    "lenVar": 40
   },
   "kernels_config": {
    "python": {
     "delete_cmd_postfix": "",
     "delete_cmd_prefix": "del ",
     "library": "var_list.py",
     "varRefreshCmd": "print(var_dic_list())"
    },
    "r": {
     "delete_cmd_postfix": ") ",
     "delete_cmd_prefix": "rm(",
     "library": "var_list.r",
     "varRefreshCmd": "cat(var_dic_list()) "
    }
   },
   "types_to_exclude": [
    "module",
    "function",
    "builtin_function_or_method",
    "instance",
    "_Feature"
   ],
   "window_display": false
  }
 },
 "nbformat": 4,
 "nbformat_minor": 5
}
