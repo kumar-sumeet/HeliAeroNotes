{
 "cells": [
  {
   "cell_type": "code",
   "execution_count": null,
   "id": "f54cd1e8",
   "metadata": {
    "slideshow": {
     "slide_type": "-"
    }
   },
   "outputs": [],
   "source": [
    "from IPython.display import IFrame"
   ]
  },
  {
   "cell_type": "markdown",
   "id": "d2b2828f",
   "metadata": {
    "slideshow": {
     "slide_type": "-"
    }
   },
   "source": [
    "## Resources\n",
    "\n",
    "\n",
    "```{note}\n",
    "The tutorials from this section can be done online using Binder by clicking on the rocket icon in the top right of the tutorial page.\n",
    "```"
   ]
  },
  {
   "cell_type": "code",
   "execution_count": 2,
   "id": "9ed24f8e",
   "metadata": {
    "slideshow": {
     "slide_type": "-"
    }
   },
   "outputs": [
    {
     "data": {
      "text/html": [
       "<iframe src=\"https://vtol.org/\" width=\"1000\" height=\"800\"></iframe>\n"
      ],
      "text/plain": [
       "<IPython.core.display.HTML object>"
      ]
     },
     "metadata": {},
     "output_type": "display_data"
    }
   ],
   "source": [
    "%%html\n",
    "<iframe src=\"https://vtol.org/\" width=\"1000\" height=\"800\"></iframe>"
   ]
  },
  {
   "cell_type": "markdown",
   "id": "7b4fec08",
   "metadata": {
    "slideshow": {
     "slide_type": "-"
    }
   },
   "source": [
    "## The final grades in the course will be roughly based on the following distribution- \n",
    "\n",
    "- Reading assignment - 30%\n",
    "- Oral exam - 70%\n"
   ]
  },
  {
   "cell_type": "markdown",
   "id": "18149adc",
   "metadata": {
    "slideshow": {
     "slide_type": "slide"
    }
   },
   "source": [
    "# What we'll learn during the course - a brief overview"
   ]
  },
  {
   "cell_type": "markdown",
   "id": "90a0e1c7",
   "metadata": {
    "slideshow": {
     "slide_type": "subslide"
    }
   },
   "source": [
    "\n",
    "\n",
    "- What makes the below design special from the rest of the (conventional design) helicopters that the speed record set by it *still* stands - 400 km/hr\n",
    "    \n",
    "```{figure} ../assets/lynx.png\n",
    "---\n",
    "height: 150px\n",
    "name: lynx\n",
    "---\n",
    "Lynx [source](https://vtol.org/qr/2015-ahs-history-calendar)\n",
    "```\n"
   ]
  },
  {
   "cell_type": "code",
   "execution_count": null,
   "id": "5df28fcb",
   "metadata": {},
   "outputs": [],
   "source": [
    "- What makes the below design special that it can *easily* do ~460 km/hr\n",
    "    \n",
    "```{figure} ../assets/lynx.png\n",
    "---\n",
    "height: 150px\n",
    "name: lynx\n",
    "---\n",
    "Lynx [source](https://vtol.org/qr/2015-ahs-history-calendar)\n",
    "```\n"
   ]
  },
  {
   "cell_type": "code",
   "execution_count": null,
   "id": "20f232ba",
   "metadata": {},
   "outputs": [],
   "source": []
  },
  {
   "cell_type": "markdown",
   "id": "6471ca36",
   "metadata": {},
   "source": [
    "```{admonition} Food for Thought\n",
    "A common feature among all aircraft above seems to be the presence of atleast 2 rotors. Is a one-rotor design possible.\n",
    "Note: We are only concerned with aircraft that have VTOL capability.\n",
    "```"
   ]
  },
  {
   "cell_type": "markdown",
   "id": "68c42fcc",
   "metadata": {},
   "source": [
    "# What makes a helicopter?\n",
    "\n",
    "```{figure} ../assets/bamby_faon.png\n",
    "---\n",
    "height: 150px\n",
    "name: bamby_faon\n",
    "---\n",
    "Bamby-Faon [source](https://vtol.org/qr/may-2021)\n",
    "```\n",
    "\n",
    "```{figure} ../assets/bamby_faon.png\n",
    "---\n",
    "height: 150px\n",
    "name: bamby_faon\n",
    "---\n",
    "Bamby-Faon [source](https://vtol.org/qr/may-2021)\n",
    "```\n",
    "\n",
    "```{figure} ../assets/Comanche.png\n",
    "---\n",
    "height: 150px\n",
    "name: Comanche\n",
    "---\n",
    "Comanche [source](https://vtol.org/images/dmImage/SourceImage/2018-January.JPG)\n",
    "```\n"
   ]
  },
  {
   "cell_type": "markdown",
   "id": "269ccd50",
   "metadata": {},
   "source": [
    "basically, almost any design imaginable, that was also possible with the technology level back then, \n",
    "was built and tested"
   ]
  },
  {
   "cell_type": "markdown",
   "id": "0f8ce125",
   "metadata": {},
   "source": [
    "CJC1A_HummingBird\n",
    "```{figure} ../assets/CJC1A_HummingBird.png\n",
    "---\n",
    "height: 150px\n",
    "name: CJC1A_HummingBird\n",
    "---\n",
    "CJC-1A Humming Bird [source](https://vtol.org/qr/august-2019)\n",
    "```\n"
   ]
  },
  {
   "cell_type": "markdown",
   "id": "3149002b",
   "metadata": {},
   "source": []
  },
  {
   "cell_type": "markdown",
   "id": "4eba4501",
   "metadata": {},
   "source": [
    "# Old vs New\n",
    "\n",
    "```{figure} ../assets/Curtiss-Wright_X-19_flying.jpeg\n",
    "---\n",
    "height: 150px\n",
    "name: Curtiss-Wright_X-19_flying\n",
    "---\n",
    "Curtiss-Wright_X-19_flying [source](https://en.wikipedia.org/wiki/Curtiss-Wright_X-19#/media/File:Curtiss-Wright_X-19_flying.jpg)\n",
    "```\n",
    "\n",
    "```{figure} ../assets/Curtiss-Wright_X-19_flying.jpeg\n",
    "---\n",
    "height: 150px\n",
    "name: Curtiss-Wright_X-19_flying\n",
    "---\n",
    "Curtiss-Wright_X-19_flying [source](https://en.wikipedia.org/wiki/Curtiss-Wright_X-19#/media/File:Curtiss-Wright_X-19_flying.jpg)\n",
    "```\n"
   ]
  }
 ],
 "metadata": {
  "celltoolbar": "Slideshow",
  "hide_input": false,
  "kernelspec": {
   "display_name": "Python 3 (ipykernel)",
   "language": "python",
   "name": "python3"
  },
  "language_info": {
   "codemirror_mode": {
    "name": "ipython",
    "version": 3
   },
   "file_extension": ".py",
   "mimetype": "text/x-python",
   "name": "python",
   "nbconvert_exporter": "python",
   "pygments_lexer": "ipython3",
   "version": "3.8.5"
  },
  "varInspector": {
   "cols": {
    "lenName": 16,
    "lenType": 16,
    "lenVar": 40
   },
   "kernels_config": {
    "python": {
     "delete_cmd_postfix": "",
     "delete_cmd_prefix": "del ",
     "library": "var_list.py",
     "varRefreshCmd": "print(var_dic_list())"
    },
    "r": {
     "delete_cmd_postfix": ") ",
     "delete_cmd_prefix": "rm(",
     "library": "var_list.r",
     "varRefreshCmd": "cat(var_dic_list()) "
    }
   },
   "types_to_exclude": [
    "module",
    "function",
    "builtin_function_or_method",
    "instance",
    "_Feature"
   ],
   "window_display": false
  }
 },
 "nbformat": 4,
 "nbformat_minor": 5
}
