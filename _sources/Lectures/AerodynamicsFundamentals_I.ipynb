{
 "cells": [
  {
   "cell_type": "markdown",
   "id": "chronic-field",
   "metadata": {
    "slideshow": {
     "slide_type": "slide"
    }
   },
   "source": [
    "# Recap of Fundamentals in Aerodynamics - 2D"
   ]
  },
  {
   "cell_type": "markdown",
   "id": "comfortable-grant",
   "metadata": {
    "slideshow": {
     "slide_type": "-"
    }
   },
   "source": [
    "```{epigraph}\n",
    "... if we all designed bodies to have stagnation points at the back, then D'Alembert would rest happy, and we would have no drag. Presumably that would be a Good Thing generally, except for parachutists!\n",
    "```\n",
    "<p style=\"text-align:right\" > <a href=\"https://arc.aiaa.org/doi/abs/10.2514/6.1996-161\"> PBS Lissaman</a> </p>\n"
   ]
  },
  {
   "cell_type": "markdown",
   "id": "operating-worst",
   "metadata": {
    "slideshow": {
     "slide_type": "skip"
    }
   },
   "source": [
    "This chapter is a whirlwind tour of some of the basics of airfoil aerodynamics that is relevant for this course. Since airfoils can be imagined as the basic building blocks that make up the rotor, the fundamental understanding of airfoil aerodynamics laid down here would help develop a more intuitive understanding of rotor aerodynamics. This chapter is predominantly based on the content in {cite}`BA3`, in particular Chapter 7 from this reference. \n",
    "\n",
    "Additionally, {cite}`A23` and {cite}`A23_1` provide a good overview of the historical development of the field of fluid dynamics that "
   ]
  },
  {
   "cell_type": "markdown",
   "id": "2c6c5cf9",
   "metadata": {},
   "source": [
    "## Bodies in fluids"
   ]
  },
  {
   "cell_type": "markdown",
   "id": "9b27a9f4",
   "metadata": {},
   "source": [
    "Understanding the nature of forces acting on bodies of arbitrary shape is in our interest if the objective is to minimise the amount of work done in order to overcome the resistive forces due to friction caused due to relative motion between the body and the surrounding fluid. Optimum hull design of a cruise ship, minimum drag profile of a competitive road cyclist+cycle, ... are a few examples where an understanding of fluid behavior would help achieve the objectives. Of course, we need not look too far for examples because a helicopter has various entities that might benefit from design based on a sound knowhow in fluid dynamics. A ... fuselage design such that drag (rotorcraft fuselage drag is referred to as parasite drag) is minimised would go a long way in reducing operating costs.  "
   ]
  },
  {
   "cell_type": "markdown",
   "id": "7c80b158",
   "metadata": {},
   "source": [
    "Some fundamental laws are followed by fluids -"
   ]
  },
  {
   "cell_type": "markdown",
   "id": "2ffee9c3",
   "metadata": {},
   "source": [
    "- they cannot penetrate a body surface ($F$)"
   ]
  },
  {
   "cell_type": "markdown",
   "id": "3827b75c",
   "metadata": {},
   "source": [
    "$$\\mathbf{v}. \\nabla F = 0$$"
   ]
  },
  {
   "cell_type": "markdown",
   "id": "edde90d6",
   "metadata": {},
   "source": [
    "- the velocity at the body surface is zero"
   ]
  },
  {
   "cell_type": "markdown",
   "id": "88f8f21e",
   "metadata": {},
   "source": []
  },
  {
   "cell_type": "markdown",
   "id": "a2bf02ea",
   "metadata": {},
   "source": [
    "The velocity normal to the body surface is already established to be zero. Velocity parallel to the surface can be thought of as ... This brings the total velocity at the surface of the body to be zero."
   ]
  },
  {
   "cell_type": "markdown",
   "id": "e06b9315",
   "metadata": {},
   "source": []
  },
  {
   "cell_type": "markdown",
   "id": "silent-casino",
   "metadata": {
    "slideshow": {
     "slide_type": "slide"
    }
   },
   "source": [
    "## Navier-Stokes equations (NSE)"
   ]
  },
  {
   "cell_type": "markdown",
   "id": "handy-accounting",
   "metadata": {
    "slideshow": {
     "slide_type": "skip"
    }
   },
   "source": [
    "While we are not going to lay down the Navier-Stokes equations here, you are already familiar (at least vaguely) that these equations are essential to so many analyses you encounter involving fluid flows yet they can be solved without the use of a computer for only a handful of idealised scenarios. The fact that these equations are challenging to solve is what keeps many aerospace and mechanical engineers employed."
   ]
  },
  {
   "cell_type": "markdown",
   "id": "5a4d4195",
   "metadata": {},
   "source": [
    " <p  style=\" text-align:center;\"> Continuity: $ \\frac{D\\rho}{Dt}+\\rho\\nabla.\\vec{u}=0 $"
   ]
  },
  {
   "cell_type": "markdown",
   "id": "490e54a8",
   "metadata": {},
   "source": [
    " <p  style=\" text-align:center;\"> Momentum: $\\rho\\frac{D\\vec{u}}{Dt}=-\\nabla P+\\mu \\nabla^{2}\\vec{u}$"
   ]
  },
  {
   "cell_type": "code",
   "execution_count": null,
   "id": "f7a72211",
   "metadata": {},
   "outputs": [],
   "source": [
    "# add flow chart from the beginning of https://www.youtube.com/watch?v=8Sx5R0o6vL8"
   ]
  },
  {
   "cell_type": "markdown",
   "id": "palestinian-permit",
   "metadata": {
    "slideshow": {
     "slide_type": "-"
    }
   },
   "source": [
    "<div style=\"float:right; width:35%;\" >\n",
    "    <img src=\"../assets/MT_heirarchy_noannot.png\" class=\"big\" />\n",
    "    <p style=\"text-align:center; color:gray; font-size:60%;\"> Heirarchy of physical theories [taken from \"Understanding Aerodynamics\" by Doug McLean] <a href=\"https://www.wiley.com/en-us/Understanding+Aerodynamics%3A+Arguing+from+the+Real+Physics-p-9781119967514\">[source] </a>\n",
    "  </p>\n",
    "</div>\n",
    "\n",
    "Principle aim of a model\n",
    "- include just relevant behavior of physical systems\n",
    "- superfluousness makes it computationally intensive\n",
    "- (too much) parsimoniousness can make it *useless*\n",
    "\n",
    "NSE are an *approximate* model of fluids\n",
    "- rarely do these *approximations* become limitations \n",
    "- fluids modelled as a continuous medium \n",
    "    - *granularity* is ignored\n",
    "- basic conservation laws are satisfied \n",
    "    - mass, momentum, energy\n",
    "- constitutive relations \n",
    "    - as many equations as there are variables\n"
   ]
  },
  {
   "cell_type": "markdown",
   "id": "round-official",
   "metadata": {
    "slideshow": {
     "slide_type": "slide"
    }
   },
   "source": [
    "## Simple governing laws, complex results"
   ]
  },
  {
   "cell_type": "markdown",
   "id": "hybrid-manitoba",
   "metadata": {
    "cell_style": "center",
    "slideshow": {
     "slide_type": "skip"
    }
   },
   "source": [
    "The NSE are generally all that an aerospace engineer needs for all their aerodynamics analyses needs - five field partial differential equations and three constitutive relations to solve for three space coordinates (Lagrangian)/velocity components (Eulerian), pressure, density, temperature, viscosity and thermal conductivity. fuselage [^RotorWake]\n",
    "  \n",
    "Since the momentum conservation equations are part of the NSE, Newton's 2nd is definitely involved when describing flow behavior. However, simply attributing lift generated by an airfoil, for e.g., to just Newton's 2nd law is not entirely accurate. There is an obvious cause and effect relation when one talks about Newton's 2nd law. Within a fluid, however, the motion of continuum parcels is influenced by the forces exerted and the forces exerted are in turn influenced by the motion of these parcels. For e.g., the momentum equation above can be viewed as a form of Newton's second law of motion F=mass x acceleration, except that the forcing terms on the RHS of the equation - the pressure gradient and the shear stresses - are themselves a function of the fluid velocity. The complex interaction between the three sets of forces - inertial, pressure and shear - is what gives fluid dynamics its richness.\n",
    "\n",
    "Such implicit relations of relatively simple local physics (conservation laws) buried within the NSE make an intuitive foresight of what would happen in the global flowfield difficult. Below is an informal discussion of the mechanism by which airfoils generate lift to exemplify this. \n",
    "\n",
    "[^RotorWake]: When modelling rotor wake there is not much to be gained from solving the most complex form of the problem. For e.g., most rotorcraft (atleast conventional designs) don't fly faster than M=0.3 so right away density can be assumed to be constant. So can temperature and viscosity, and thermal conductivity is just zero. From the continuity and the momentumt conservation equations, the problem then boils down to solving for the three velocity components and the pressure distribution. More on that later.  "
   ]
  },
  {
   "cell_type": "markdown",
   "id": "figured-porcelain",
   "metadata": {
    "slideshow": {
     "slide_type": "-"
    }
   },
   "source": [
    "<div class=\"image-grid2\">\n",
    "    <img  src=\"../assets/airfoil_flow_newton.png\" class=\"small\"/>\n",
    "    <img  src=\"../assets/airfoil_flow_real.png\" class=\"small\"/>\n",
    "</div>\n",
    "\n",
    "<div class=\"image-grid2\">\n",
    "  <p > Streamlines representing hypothetical fluid flow idealised as independent fluid 'particles' \n",
    "  </p> \n",
    "  <p > Streamlines representing real fluid flow\n",
    "  </p>       \n",
    "</div>\n",
    "\n",
    "- fluid (infintely deformable) follows airfoil contour\n",
    "    - a result of rapid random motion of molecules\n",
    "- this influences fluid velocity in a large region in the vicinity of airfoil\n",
    "    - natural by-product of fluids behaving as continuous media     \n",
    "- flow sped up on upper surface and slowed down on lower surface\n",
    "    - so (only) Bernoulli-based explanation of lift is true (but not sufficient)        \n",
    "- mutual/reciprocal relation between pressure and velocity\n",
    "    - pressure difference causes fluid acceleration\n",
    "    - existence of pressure difference due to change in fluid velocity\n",
    "    - inertia plays central role\n",
    "        - air is *light* but at fast enough speeds, large enough mass can be influenced\n",
    "- magnitude of lift generated can be controlled \n",
    "    - linear dependence in $\\alpha$; decides downward deflection of fluid\n",
    "    - square dependence in fluid velocity\n",
    "        - amount of fluid influenced \n",
    "        - downward momentum imparted\n",
    "- the above effects die down with distance from the airfoil surfaces  "
   ]
  },
  {
   "cell_type": "markdown",
   "id": "directed-secret",
   "metadata": {
    "slideshow": {
     "slide_type": "skip"
    }
   },
   "source": [
    "```{admonition} Aside\n",
    "If the picture on the left above is assumed to be the *true* fluid model, then it is easy to see that the lift generated would be proportional to square of the angle of attack. However, we now know that airfoil lift is proportional to angle of attack (at least in the attached flow regime). This is also evident from the pressure contours around an airfoil shown below - doubling the anlge of attack doubles the pressure difference, the amount of fluid influenced stays the same.\n",
    "<div class=\"image-grid2\">\n",
    "    <img  src=\"../assets/BA3_fig7_3_24a.png\" class=\"medium\"/>\n",
    "    <img  src=\"../assets/BA3_fig7_3_24b.png\" class=\"medium\"/>\n",
    "</div>\n",
    "\n",
    "<div class=\"image-grid2\"> \n",
    "  <p > Pressure field around NACA0010 at angle of attack of 4° <a href=\"https://www.wiley.com/en-us/Understanding+Aerodynamics%3A+Arguing+from+the+Real+Physics-p-9781119967514\">[source] </a>\n",
    "  </p> \n",
    "  <p > Pressure field around NACA0010 at angle of attack of 8° <a href=\"https://www.wiley.com/en-us/Understanding+Aerodynamics%3A+Arguing+from+the+Real+Physics-p-9781119967514\">[source] </a>\n",
    "  </p>       \n",
    "</div>\n",
    "```"
   ]
  },
  {
   "cell_type": "markdown",
   "id": "desperate-baltimore",
   "metadata": {
    "slideshow": {
     "slide_type": "skip"
    }
   },
   "source": [
    "Notice that viscosity did not come up in explanation above. Viscosity plays a key role in the ability of airfoil sections to produce lift in that it ensures that the fluid doesn't turn around the trailing edge. However, beyond that it doesn't play a significant role in explaining the physics behind airfoil lift. "
   ]
  },
  {
   "cell_type": "markdown",
   "id": "opening-station",
   "metadata": {
    "slideshow": {
     "slide_type": "slide"
    }
   },
   "source": [
    "## Generation of lift"
   ]
  },
  {
   "cell_type": "markdown",
   "id": "peripheral-dress",
   "metadata": {
    "slideshow": {
     "slide_type": "skip"
    }
   },
   "source": [
    "\n",
    "\"Lift is an interaction in which the airfoil and the fluid exchange equal and opposite forces (as per Newton's third law)\" - {cite}`BA3`."
   ]
  },
  {
   "cell_type": "markdown",
   "id": "nonprofit-indication",
   "metadata": {
    "slideshow": {
     "slide_type": "-"
    }
   },
   "source": [
    "<div style=\"float:right; width:25%;\" >\n",
    "    <img src=\"../assets/AA_C1_CP_contour.png\" class=\"big\" />\n",
    "    <p style=\"text-align:center; color:gray; font-size:60%;\"> Coefficient of pressure contour plot of NACA23012 airfoil at $M=0.4$ and $\\alpha = 2^°$ <a href=\"https://arc.aiaa.org/doi/pdf/10.2514/6.2019-1101#:~:text=The%20aerodynamic%20efficiency%20was%20evaluated,%3D%200.6%20at%20Cl%20%3D%200.85.\">[source] </a>\n",
    "  </p>\n",
    "</div>\n",
    "\n",
    "- mathematically\n",
    "    - its because of the NSE\n",
    "- intuitively\n",
    "    - ?\n",
    "- always accompanied by circulation and vorticity\n",
    "- manifests as pressure difference \n",
    "- envisaged as flow turning \n",
    "    - below the airfoil AND above it!!\n"
   ]
  },
  {
   "cell_type": "markdown",
   "id": "assumed-sequence",
   "metadata": {
    "slideshow": {
     "slide_type": "slide"
    }
   },
   "source": [
    "## Vorticity and circulation"
   ]
  },
  {
   "cell_type": "markdown",
   "id": "drawn-challenge",
   "metadata": {
    "slideshow": {
     "slide_type": "-"
    }
   },
   "source": [
    "$$\\mathbf{\\omega} = \\nabla \\times \\mathbf{V}$$"
   ]
  },
  {
   "cell_type": "markdown",
   "id": "dietary-lexington",
   "metadata": {
    "slideshow": {
     "slide_type": "fragment"
    }
   },
   "source": [
    "<center>\n",
    "    <img src=\"../assets/BA3_fig3_3_5.png\" class=\"big\">\n",
    "    <p  style=\"font-size:16px; color:gray; text-align:center;\"> Vorticity of a continuum particle (modified from <a href=\"https://www.wiley.com/en-us/Understanding+Aerodynamics%3A+Arguing+from+the+Real+Physics-p-9781119967514\">[source]) </a></p>\n",
    "\n",
    "</center>"
   ]
  },
  {
   "cell_type": "markdown",
   "id": "exotic-designation",
   "metadata": {
    "slideshow": {
     "slide_type": "skip"
    }
   },
   "source": [
    "Fluid dynamics, as it concerns aerospace engineering, is largely about keeping track of vorticity generation and vorticity transport. It is introduced into the flow at surface boundaries due to no-slip condition at the airfoil surface (or the surface of any body for that matter). This vorticity doesn‘t just immediately dissipate/dissapear\n",
    "and keeping track of it is imperative to get overall aerodynamics right."
   ]
  },
  {
   "cell_type": "markdown",
   "id": "premier-yemen",
   "metadata": {
    "slideshow": {
     "slide_type": "subslide"
    }
   },
   "source": [
    "<center>\n",
    "    <img src=\"../assets/BA3_mix.png\" class=\"big\">\n",
    "    <p  style=\"font-size:16px; color:gray; text-align:center;\"> Schematic showing the origins of flow vorticity in the boundary layer (modified from <a href=\"https://www.wiley.com/en-us/Understanding+Aerodynamics%3A+Arguing+from+the+Real+Physics-p-9781119967514\">[source]) </a></p>\n",
    "\n",
    "</center>"
   ]
  },
  {
   "cell_type": "markdown",
   "id": "pressing-reverse",
   "metadata": {
    "slideshow": {
     "slide_type": "skip"
    }
   },
   "source": [
    "The circulation of the flow is a relevant quantity because it quanitifies the amount of lift being generated per the Kutta-Joukowski theorem."
   ]
  },
  {
   "cell_type": "markdown",
   "id": "instant-charger",
   "metadata": {
    "slideshow": {
     "slide_type": "subslide"
    }
   },
   "source": [
    "$$\\Gamma = \\oint \\mathbf{V}\\cdot \\mathbf{dl}$$"
   ]
  },
  {
   "cell_type": "markdown",
   "id": "optimum-north",
   "metadata": {
    "slideshow": {
     "slide_type": "-"
    }
   },
   "source": [
    " <p  style=\" text-align:center;\"> Lift-per-unit-span $ = \\rho V_{\\infty}\\Gamma$"
   ]
  },
  {
   "cell_type": "markdown",
   "id": "cheap-mirror",
   "metadata": {
    "slideshow": {
     "slide_type": "subslide"
    }
   },
   "source": [
    "## Potential flow theory"
   ]
  },
  {
   "cell_type": "markdown",
   "id": "robust-confidence",
   "metadata": {
    "slideshow": {
     "slide_type": "-"
    }
   },
   "source": [
    "$$\\mathbf{V} = \\nabla \\phi$$"
   ]
  },
  {
   "cell_type": "markdown",
   "id": "welcome-feelings",
   "metadata": {
    "slideshow": {
     "slide_type": "-"
    }
   },
   "source": [
    "- the early go-to model for obtaining airfoil pressure distribution \n",
    "- bodies of any shape could be analysed\n",
    "- conformal theory used to obtain analytic results of pressure distribution  \n",
    "- also used in unsteady aerodynamic theories - for e.g. Theodorsen theory"
   ]
  },
  {
   "cell_type": "markdown",
   "id": "micro-incident",
   "metadata": {
    "slideshow": {
     "slide_type": "subslide"
    }
   },
   "source": [
    "### Kutta condition"
   ]
  },
  {
   "cell_type": "markdown",
   "id": "human-karaoke",
   "metadata": {
    "slideshow": {
     "slide_type": "skip"
    }
   },
   "source": [
    "Based on what your favorite reference textbook for fluid dynamics is, this could also be referred to as the Joukowski condition {cite}`BDI2`. Potential flow theory, on its own cannot predict uniquely what amount of lift is an airfoil capable of generating. Alternately, either flow field representations below are valid within the framework of potential flow theory."
   ]
  },
  {
   "cell_type": "markdown",
   "id": "mental-assets",
   "metadata": {
    "slideshow": {
     "slide_type": "-"
    }
   },
   "source": [
    "<div class=\"image-grid2\">\n",
    "    <img  src=\"../assets/BA3_fig7_1_3b.png\" class=\"medium\"/>\n",
    "    <img  src=\"../assets/BA3_fig7_1_3c.png\" class=\"medium\"/>\n",
    "</div>\n",
    "\n",
    "<div class=\"image-grid2\">\n",
    "  <p > Streamlines around an airfoil (real flow) <a href=\"https://www.wiley.com/en-us/Understanding+Aerodynamics%3A+Arguing+from+the+Real+Physics-p-9781119967514\">[source] </a>\n",
    "  </p> \n",
    "  <p >  Streamlines representation around an airfoil based on a mathematically valid potential flow solution (not a real flow) <a href=\"https://www.wiley.com/en-us/Understanding+Aerodynamics%3A+Arguing+from+the+Real+Physics-p-9781119967514\">[source]) </a>\n",
    "  </p>       \n",
    "</div>"
   ]
  },
  {
   "cell_type": "markdown",
   "id": "stuck-fruit",
   "metadata": {
    "slideshow": {
     "slide_type": "skip"
    }
   },
   "source": [
    "In reality, only the one on the left is observed. This is a consequence of the viscosity of fluids in nature and the fact that they cannot turn around sharp corners (airfoil trailing edges are sharp enough). Since potential flow theory doesn't model viscosity, a condition needs to be mathematically enforced so that the resulting flow field obtained is physically correct (this is just one of those instances where observable physics guides a mathematical theory which would otherwise lead to a non-unique solution). This is achieved by enforcing what is called the Kutta condition. "
   ]
  }
 ],
 "metadata": {
  "celltoolbar": "Slideshow",
  "hide_input": false,
  "kernelspec": {
   "display_name": "Python 3 (ipykernel)",
   "language": "python",
   "name": "python3"
  },
  "language_info": {
   "codemirror_mode": {
    "name": "ipython",
    "version": 3
   },
   "file_extension": ".py",
   "mimetype": "text/x-python",
   "name": "python",
   "nbconvert_exporter": "python",
   "pygments_lexer": "ipython3",
   "version": "3.8.5"
  },
  "latex_envs": {
   "LaTeX_envs_menu_present": true,
   "autoclose": true,
   "autocomplete": false,
   "bibliofile": "biblio.bib",
   "cite_by": "apalike",
   "current_citInitial": 1,
   "eqLabelWithNumbers": false,
   "eqNumInitial": 1,
   "hotkeys": {
    "equation": "Ctrl-E",
    "itemize": "Ctrl-I"
   },
   "labels_anchors": false,
   "latex_user_defs": false,
   "report_style_numbering": false,
   "user_envs_cfg": false
  },
  "rise": {
   "autolaunch": false,
   "backimage": "../assets/tum_bg_top_right.png",
   "enable_chalkboard": true,
   "footer": "Sumeet Kumar, PhD candidate",
   "scroll": true
  },
  "varInspector": {
   "cols": {
    "lenName": 16,
    "lenType": 16,
    "lenVar": 40
   },
   "kernels_config": {
    "python": {
     "delete_cmd_postfix": "",
     "delete_cmd_prefix": "del ",
     "library": "var_list.py",
     "varRefreshCmd": "print(var_dic_list())"
    },
    "r": {
     "delete_cmd_postfix": ") ",
     "delete_cmd_prefix": "rm(",
     "library": "var_list.r",
     "varRefreshCmd": "cat(var_dic_list()) "
    }
   },
   "types_to_exclude": [
    "module",
    "function",
    "builtin_function_or_method",
    "instance",
    "_Feature"
   ],
   "window_display": false
  }
 },
 "nbformat": 4,
 "nbformat_minor": 5
}
