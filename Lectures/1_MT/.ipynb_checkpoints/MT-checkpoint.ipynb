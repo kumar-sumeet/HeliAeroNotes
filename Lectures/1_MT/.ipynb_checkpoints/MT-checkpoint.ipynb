{
 "cells": [
  {
   "cell_type": "markdown",
   "metadata": {
    "slideshow": {
     "slide_type": "slide"
    }
   },
   "source": [
    "&nbsp;\n",
    "# Momentum Theory"
   ]
  },
  {
   "cell_type": "markdown",
   "metadata": {
    "slideshow": {
     "slide_type": "-"
    }
   },
   "source": [
    "```{epigraph}\n",
    "\"The essential theory of flight can be reduced to a comparatively simple statement, though it becomes a highly complicated affair as it is presented in figures and formulae.\"\n",
    "\n",
    "-- Juan de la Cierva (taken from 'Principles in Helicopter Aerodynamics' by \n",
    "JG Leishman)\n",
    "```"
   ]
  },
  {
   "cell_type": "markdown",
   "metadata": {
    "slideshow": {
     "slide_type": "skip"
    }
   },
   "source": [
    "First order of business is to develop a framework to quantify a relation between the power necessary to develop a unit amount of thrust. One can imagine that this would be a highly relevant excercise in the early days of the invention of a rotorcraft - *is rotor-based VTOL flight even allowed within the laws of physics?!*"
   ]
  },
  {
   "cell_type": "markdown",
   "metadata": {
    "slideshow": {
     "slide_type": "-"
    }
   },
   "source": [
    "```{epigraph}\n",
    "\"Fortunately, engineers and technologists do not wait until everything is \n",
    "completely understood before building and trying new devices...\"\n",
    " \n",
    "```\n",
    "<p style=\"text-align:right\" > <a href=\"https://asmedigitalcollection.asme.org/fluidsengineering/article-abstract/99/1/8/435840/The-1976-Freeman-Scholar-Lecture-Some-Current?redirectedFrom=PDF\"> W. J. McCROSKEY</a> </p>"
   ]
  },
  {
   "cell_type": "markdown",
   "metadata": {
    "slideshow": {
     "slide_type": "skip"
    }
   },
   "source": [
    "In case some of you were wondering that helicopters have been around for almost a century, surely engineers know everything there is to know about them. What contribution could you make to the state-of-the art in this field. The latter quote is particularly relevant."
   ]
  },
  {
   "cell_type": "markdown",
   "metadata": {
    "slideshow": {
     "slide_type": "skip"
    }
   },
   "source": [
    "An aerodynamicist in the early 20th century is very much familiar with the fundamental conservation laws governing fluid dynamics - the Navier-Stokes equations (NSE), a set of nonlinear partial differential field equations in space and time that should, in principle, give you the flow behavior for rotors (in hover, or forward flight state) much as they would for wings in forward flight. However, ... analytical solution only available for a handful of very simple flows (or rather simple boundary conditions). Instead of waiting around for a a powerful enough computational device to be invented to solve the most complicated form of the problem, aerodynamicists at the time solved the problem by reducing the nonlinear partial differential equations to .... that are much easier to solve. Turns out the dominant flow characterisitcs of a rotor are indeed dictated by these simpler equations. ... "
   ]
  },
  {
   "cell_type": "markdown",
   "metadata": {
    "slideshow": {
     "slide_type": "skip"
    }
   },
   "source": [
    "Momentum theory provides us a simple framework of the flow phenomenology of lifting rotors. The flow problem is idealized so that it still models the dominant flow physics but simplified enough so that the number of problem variables are minimized. Notwithstanding how computationally intensive it is solve the full NSE for a rotor flowfield, staring at the end result or the equations that led to it is not going to be very helpful...\n",
    "\n"
   ]
  },
  {
   "cell_type": "markdown",
   "metadata": {
    "slideshow": {
     "slide_type": "slide"
    }
   },
   "source": [
    "## Airfoils"
   ]
  },
  {
   "cell_type": "markdown",
   "metadata": {
    "slideshow": {
     "slide_type": "-"
    }
   },
   "source": [
    "- The most efficient lift generation devices - i.e. high lift per unit drag\n",
    "-"
   ]
  },
  {
   "cell_type": "markdown",
   "metadata": {
    "slideshow": {
     "slide_type": "slide"
    }
   },
   "source": [
    "## Airfoils: breaking down the physics "
   ]
  },
  {
   "cell_type": "markdown",
   "metadata": {
    "slideshow": {
     "slide_type": "-"
    }
   },
   "source": [
    "- Aerodynamics problems involving airfoil performance can predominantly be understood in terms of Newton's 3rd law of motion.\n",
    "- Presence of airfoils in a moving fluid accelerate the flow \n",
    "- The resulting reaction forces manifest as lift and drag on the airfoil\n",
    "- "
   ]
  },
  {
   "cell_type": "markdown",
   "metadata": {
    "slideshow": {
     "slide_type": "slide"
    }
   },
   "source": [
    "## Rotors: breaking down the physics"
   ]
  },
  {
   "cell_type": "markdown",
   "metadata": {
    "slideshow": {
     "slide_type": "-"
    }
   },
   "source": [
    "- Rotors are made up of wings (or blades) that have airfoil cross-section\n",
    "- \n"
   ]
  },
  {
   "cell_type": "markdown",
   "metadata": {
    "slideshow": {
     "slide_type": "slide"
    }
   },
   "source": [
    "## How do helicopters stay in the air?"
   ]
  },
  {
   "cell_type": "markdown",
   "metadata": {
    "slideshow": {
     "slide_type": "-"
    }
   },
   "source": [
    "By accelerating a large mass of air (Newton's third law of motion).   "
   ]
  },
  {
   "cell_type": "markdown",
   "metadata": {
    "slideshow": {
     "slide_type": "skip"
    }
   },
   "source": [
    "But how would you go about quantifying the amount of work done in order to accelerate said mass of air and keeping the helicopter aloft? Thats where the 'Momentum Theory' comes in. Sure, there are issues of whether the aircraft can be controlled, structural stresses are not exceeded etc. but if there isn't sufficient power to even operate, everything else is pointless. To evaluate required power, we adopt the model used first for analysing ship propellers (ships were around way before aircraft were). \n",
    "\n",
    "For this, the rotor is modelled following the Raukine & Froude actuator disk model. As per this physical model, the propeller or rotor plane is assumed as a disk of zero thickness that supports a pressure difference/discontinuity but not in velocity."
   ]
  },
  {
   "cell_type": "markdown",
   "metadata": {
    "slideshow": {
     "slide_type": "slide"
    }
   },
   "source": [
    "## Fundamentals of momentum theory"
   ]
  },
  {
   "cell_type": "markdown",
   "metadata": {
    "slideshow": {
     "slide_type": "slide"
    }
   },
   "source": [
    "<center >\n",
    "    <img src=\"../../assets/MT_heirarchy.png\" class=\"large\" />\n",
    "    <p style=\"text-align:center; color:gray; font-size:16px;\"> Heirarchy of physical theories [taken from \"Understanding Aerodynamics\" by Doug McLean]\n",
    "  </p>\n",
    "</center>\n",
    "\n"
   ]
  },
  {
   "cell_type": "markdown",
   "metadata": {
    "slideshow": {
     "slide_type": "slide"
    }
   },
   "source": [
    "&nbsp;\n",
    "### Model assumptions"
   ]
  },
  {
   "cell_type": "markdown",
   "metadata": {
    "cell_style": "center",
    "slideshow": {
     "slide_type": "slide"
    }
   },
   "source": [
    "&nbsp;\n",
    "&nbsp;\n",
    "\n",
    "<div style=\"float:right; width:22%\" >\n",
    "    <img src=\"../../assets/MT_hover.png\" class=\"large; right\" />\n",
    "    <p style=\"text-align:center; color:gray; font-size:16px;\"> Hovering rotor flowfield model in momentum theory</p>\n",
    "</div> \n",
    "\n",
    "- models the rotor as an actuator disk\n",
    "- pressure jump across rotor disk assumed uniform\n",
    "- velocity at rotor disk assumed uniform\n",
    "- details of the rotor (number of blade, chord, airfoil etc.) ignored\n",
    "    - only radius accounted for\n",
    "- (induced) flow velocity across the rotor disk is continuous\n",
    "    - continuity of (incompressible) fluid\n",
    "- control volume analysis for average flow velocity within rotor streamtube\n",
    "- flow is axisymmetric, incompressible, steady, inviscid\n",
    "\n",
    "\n",
    "infinite number of blades on the rotor\n",
    "- *induced velocities are small compared to the ??*\n"
   ]
  },
  {
   "cell_type": "markdown",
   "metadata": {
    "slideshow": {
     "slide_type": "notes"
    }
   },
   "source": [
    "```{note} \n",
    "Bernoulli's equation relates pressure and velocity for inviscid, incompressible, steady, irrotational.\n",
    "```"
   ]
  },
  {
   "cell_type": "markdown",
   "metadata": {
    "rise": {
     "scroll": true
    },
    "slideshow": {
     "slide_type": "slide"
    }
   },
   "source": [
    "&nbsp;\n",
    "### Mathematical formulation: Hover"
   ]
  },
  {
   "cell_type": "markdown",
   "metadata": {
    "slideshow": {
     "slide_type": "-"
    }
   },
   "source": [
    "$$ \\overline{v}_{freestream}=0 $$\n",
    "\n",
    "This includes vertical as well as horizontal velocities!\n",
    "\n",
    "&nbsp;\n",
    "&nbsp;\n",
    "&nbsp;"
   ]
  },
  {
   "cell_type": "markdown",
   "metadata": {
    "cell_style": "center",
    "slideshow": {
     "slide_type": "slide"
    }
   },
   "source": [
    "\n",
    "&nbsp;\n",
    "&nbsp;\n",
    "\n",
    "<div style=\"float:right; width:35%;\" >\n",
    "    <img src=\"../../assets/MT_hover.png\" class=\"large\" />\n",
    "    <p style=\"text-align:center; color:gray; font-size:16px;\"> Mi-6 <a href=\"https://en.wikipedia.org/wiki/Mil_Mi-6#/media/File:Mi-6_(cropped).jpg\"> [source]</a>\n",
    "  </p>\n",
    "</div>\n",
    "\n",
    "\n",
    "\\begin{gather*}\n",
    "p_2-p_1= \\frac{T}{A}\\\\\n",
    "p_0+\\frac{1}{2} p_w^2-p_0 = \\frac{T}{A}= \\frac{1}{2} p w^2\\\\\n",
    "\\end{gather*}\n",
    "\n",
    "\\begin{gather*}\n",
    "\\textrm{Momentum Conservation: } T = \\dot{m} = (\\rho A v) w \\\\\n",
    "\\textrm{Energy Conservation: } T v = \\frac{1}{2} \\dot{m} w^2\\\\\n",
    "\\end{gather*}\n",
    "\n",
    "\n",
    "$$T / A = \\frac{1}{2} \\rho w^2$$  \n",
    "$$ 2v = w$$\n",
    "\n",
    "$$ v= \\sqrt{\\frac{T}{2 \\rho A}}$$\n",
    "\n",
    "$$\\begin{array}{l}\n",
    "V=\\sqrt{\\frac{T}{2 p A}}\\\\\n",
    "\\quad C_{T}=\\frac{T}{p^{A}(\\Omega Q)^{2}}\\\\\n",
    "\\end{array}\n",
    "$$\n",
    "\n",
    "$$\\begin{array}{l}\n",
    "P=T_{v}=\\frac{T^{3 / 2}}{\\sqrt{2 P A}}\\\\\n",
    "\\quad C_{P}=\\frac{P}{P A(\\Omega R)^{3}}\\\\\n",
    "\\end{array}\n",
    "$$\n",
    "\n",
    "$$\\frac{P}{T}=V=\\sqrt{\\frac{(T / A)}{2}}$$  \n",
    "\n",
    "$\\frac{T}{P} $ called power loading. \n"
   ]
  },
  {
   "cell_type": "markdown",
   "metadata": {
    "slideshow": {
     "slide_type": "skip"
    }
   },
   "source": [
    "```{note} \n",
    "Momentum theory, with its uniform $\\lambda$ assumption gives the lowest estimate of required power. Its not due to the idealised flow conditions (i.e. neglecting certain phenomena that contribute to disspative power loss) but due to the uniform $\\lambda$ approximation itself.```"
   ]
  },
  {
   "cell_type": "markdown",
   "metadata": {
    "slideshow": {
     "slide_type": "slide"
    }
   },
   "source": [
    "## Summary"
   ]
  },
  {
   "cell_type": "markdown",
   "metadata": {
    "slideshow": {
     "slide_type": "slide"
    }
   },
   "source": [
    "The rotor power obtained via this analysis is the best case scenario pediction. In reality it will always be higher.\n",
    "\n",
    "- No flow losses assumed. \n",
    "- Induced velocity is uniform over the disk. \n",
    "- it makes the rotor analysis problem computationally tractable\n",
    "    - something NSE cannot provide\n",
    "- provides basic intuitive understanding of thrust-power relation "
   ]
  },
  {
   "cell_type": "markdown",
   "metadata": {
    "slideshow": {
     "slide_type": "slide"
    }
   },
   "source": [
    "## Relevance of induced velocity?"
   ]
  },
  {
   "cell_type": "markdown",
   "metadata": {
    "slideshow": {
     "slide_type": "skip"
    }
   },
   "source": [
    "The flow velocity at the rotor disk, $v_i$, is called induced velocity and is needed for accurate estimation of blade aerodynamics.\n",
    "The flow velocity at far downstream, $w$, is relevant for accounting for different rotor wake interaction phenomena - rotor-wing or rotor-fuselage interference effects, brownout, whiteout etc.\n",
    "\n",
    "[//]: # (whiteout/brownout videos here??)"
   ]
  },
  {
   "cell_type": "markdown",
   "metadata": {
    "slideshow": {
     "slide_type": "slide"
    }
   },
   "source": [
    "## Detour: interference effects"
   ]
  },
  {
   "cell_type": "markdown",
   "metadata": {
    "slideshow": {
     "slide_type": "slide"
    }
   },
   "source": [
    "<div style=\"float:right; width:43%;\" >\n",
    "    <img src=\"../../assets/Mi6Wing.jpeg\" class=\"big\" />\n",
    "    <p style=\"text-align:center; color:gray; font-size:16px;\"> Mi-6 <a href=\"https://en.wikipedia.org/wiki/Mil_Mi-6#/media/File:Mi-6_(cropped).jpg\"> [source]</a>\n",
    "  </p>\n",
    "</div>\n",
    "\n",
    "&nbsp;\n",
    "&nbsp;\n",
    "&nbsp;\n",
    "\n",
    "\n",
    "\\begin{gather*}\n",
    "T = W + k_{DL}T \\\\\n",
    "T - k_{DL}T = W  \\\\\n",
    "(1-k_{DL})T = W \\\\\n",
    "T = \\frac{W}{(1-k_{DL})}\n",
    "\\end{gather*}\n"
   ]
  },
  {
   "cell_type": "markdown",
   "metadata": {
    "slideshow": {
     "slide_type": "skip"
    }
   },
   "source": [
    "The induced velocity $v_i$ is flow velocity at the rotor disk itself. Flow velocity in the vicinity is not going to be very different from this value. If a lift-augmented design of the Mi-6 is considered, knowledge of $v_i$ would directly give us a quantitative understanding of the *download* on the wing. Similarly, the download force experienced by the helicopter because of fuselage can be roughly ascertained.  "
   ]
  },
  {
   "cell_type": "markdown",
   "metadata": {
    "hide_input": true,
    "slideshow": {
     "slide_type": "slide"
    }
   },
   "source": [
    "## Detour: brownout/whiteout"
   ]
  },
  {
   "cell_type": "markdown",
   "metadata": {
    "cell_style": "split",
    "slideshow": {
     "slide_type": "-"
    }
   },
   "source": [
    "A fully loaded CH-53K (40,000 kg) would generate *hurricane force winds*\n",
    "\n",
    "\\begin{gather*}\n",
    "w = 2\\sqrt{\\frac{T}{2 \\rho A}} = 37.6 m/s = 135.4 km/hr\n",
    "\\end{gather*}\n",
    "\n",
    "\n",
    "\n"
   ]
  },
  {
   "cell_type": "code",
   "execution_count": 4,
   "metadata": {
    "cell_style": "split",
    "hide_input": true,
    "scrolled": false,
    "slideshow": {
     "slide_type": "-"
    },
    "tags": [
     "hide-input"
    ]
   },
   "outputs": [
    {
     "data": {
      "image/jpeg": "[encoded data removed]",
      "text/html": [
       "\n",
       "        <iframe\n",
       "            width=\"700\"\n",
       "            height=\"400\"\n",
       "            src=\"https://www.youtube.com/embed/RODMMX3SOBs\"\n",
       "            frameborder=\"0\"\n",
       "            allowfullscreen\n",
       "        ></iframe>\n",
       "        "
      ],
      "text/plain": [
       "<IPython.lib.display.YouTubeVideo at 0x7f849cc936a0>"
      ]
     },
     "execution_count": 4,
     "metadata": {},
     "output_type": "execute_result"
    }
   ],
   "source": [
    "from IPython.display import YouTubeVideo\n",
    "YouTubeVideo('RODMMX3SOBs', width=700, height=400)"
   ]
  },
  {
   "cell_type": "markdown",
   "metadata": {
    "slideshow": {
     "slide_type": "skip"
    }
   },
   "source": [
    "High induced velocities from the rotor can kick up dust/snow on unprepared landing grounds. This leads to degradation in visual cues that are necessary for pilots to maintain aircraft orientation. "
   ]
  },
  {
   "cell_type": "markdown",
   "metadata": {
    "slideshow": {
     "slide_type": "skip"
    }
   },
   "source": [
    "```{admonition} Aside\n",
    "Dust is even otherwise a major concern due to moving mechanical components involved. Heavy maintainance is warranted when operating in a dusty environment. \n",
    "\n",
    "\"... (during the Vietnam war) dust put more helicopters out of commission than enemy action\"\n",
    "\n",
    "-- [Military archives](https://www.usace.army.mil/About/History/Historical-Vignettes/Military-Construction-Combat/054-Helicopter-Dust/) \n",
    "\n",
    "\"... America’s elite rescue force had lost eight men, seven helicopters, and a C-130, and had not even made contact with the enemy. It was a debacle. It defined the word “debacle.”\"\n",
    "\n",
    "---- [article](https://www.theatlantic.com/magazine/archive/2006/05/the-desert-one-debacle/304803/) detailing the failed Iran hostage rescue attempt by American Delta forces (an unexpected dust cloud encountered en-route was one of the leading causes of the failure)\n",
    "```"
   ]
  },
  {
   "cell_type": "markdown",
   "metadata": {
    "slideshow": {
     "slide_type": "slide"
    }
   },
   "source": [
    "### Climb: mathematical formulation"
   ]
  },
  {
   "cell_type": "markdown",
   "metadata": {
    "cell_style": "center"
   },
   "source": [
    "\n",
    "\n",
    "<div style=\"float:right; width:40%;\" >\n",
    "    <img src=\"../../assets/MT_hover.png\" class=\"big\">\n",
    "    <p style=\"text-align:center; color:gray; font-size:16px;\"> P32 <a href=\"\"> </a></p>\n",
    "\n",
    "</div>\n",
    "\n",
    "$$ \\dot{m}=p A(V+v) $$\n",
    "\n",
    "$$ T=\\dot{m} \\omega $$\n",
    "\n",
    "\n",
    "$$ T(V+v) =\\frac{1}{2} \\dot{m}(V+w)^{2}-\\frac{1}{2} \\dot{m} V^{2}$$\n",
    "$$=\\frac{1}{2} \\dot{m} \\omega(\\omega+2 V)$$\n",
    "\n",
    "\n",
    "$$\\Rightarrow \\omega=2 v $$\n",
    "\n",
    "\n",
    "$$\\left(p_{0}+\\frac{1}{2} p(V+w)^{2}\\right)-\\left(p_{0}+\\frac{1}{2} p V^{2}\\right)=T/A $$\n",
    "\n",
    "$$\\Rightarrow \\frac{1}{2} p \\omega^{2}+p V_{\\omega} = T / A $$\n",
    "$$ \\Rightarrow \\frac{1}{2} \\rho \\omega(\\omega+V)=T / A $$\n",
    "\n",
    "substitude $2v$ and solve quadratic\n",
    "\n",
    "\\begin{align} V &=-\\frac{V}{2}+\\sqrt{\\left(\\frac{V}{2}\\right)^{2}+\\frac{T}{2 \\rho A}} \\\\ &=-\\frac{V}{2}+\\sqrt{\\left(\\frac{V}{2}\\right)^{2}+V_{h}^{2}} \\text{         }<V_{h} \\end{align}\n",
    "\n",
    "So climbing velocity!"
   ]
  },
  {
   "cell_type": "markdown",
   "metadata": {
    "slideshow": {
     "slide_type": "slide"
    }
   },
   "source": [
    "<div style=\"float:right; width:40%;\" >\n",
    "    <img src=\"../../assets/MT_climb.png\" class=\"big\" />\n",
    "    <p style=\"text-align:center; color:gray; font-size:16px;\"> Climbing rotor flowfield model in momentum theory  </p>\n",
    "</div>\n",
    "\n",
    "\n",
    "$$ \\dot{m}=p A(V+v) $$\n",
    "\n",
    "\n",
    "$$ T=\\dot{m} \\omega $$\n",
    "\n",
    "\n",
    "$$ T(V+v)=\\frac{1}{2} \\dot{m}(V+w)^{2}-\\frac{1}{2} \\dot{m} V^{2}$$\n",
    "$$=\\frac{1}{2} \\dot{m} \\omega(\\omega+2 V)$$\n",
    "\n",
    "\n",
    "$$\\Rightarrow \\omega=2 v $$\n",
    "\n",
    "$$\\left(p_{0}+\\frac{1}{2} p(V+w)^{2}\\right)-\\left(p_{0}+\\frac{1}{2} p V^{2}\\right)=T / A$$ \n",
    "\n",
    "$$ \\Rightarrow \\frac{1}{2} p \\omega^{2}+p V_{\\omega} = T / A$$\n",
    "$$ \\Rightarrow \\frac{1}{2} \\rho \\omega(\\omega+V)=T / A $$\n",
    "\n",
    "substitude $2v$ and solve quadratic\n",
    "\n",
    "\\begin{align} V &=-\\frac{V}{2}+\\sqrt{\\left(\\frac{V}{2}\\right)^{2}+\\frac{T}{2 \\rho A}} \\\\ &=-\\frac{V}{2}+\\sqrt{\\left(\\frac{V}{2}\\right)^{2}+V_{h}^{2}} \\text{         }<V_{h} \\end{align}\n",
    "\n",
    "So climbing velocity!"
   ]
  },
  {
   "cell_type": "markdown",
   "metadata": {
    "slideshow": {
     "slide_type": "-"
    }
   },
   "source": [
    "- Why is the other root ignored?"
   ]
  },
  {
   "cell_type": "markdown",
   "metadata": {
    "slideshow": {
     "slide_type": "-"
    }
   },
   "source": [
    "Think about the origins of induced velocity $v$ being lower than $V_h$"
   ]
  },
  {
   "cell_type": "markdown",
   "metadata": {
    "slideshow": {
     "slide_type": "-"
    }
   },
   "source": [
    "- For steady climb case \n",
    "\\begin{align}\n",
    "T =W &= \\dot{m}\\omega\\\\\n",
    "&= 2 \\dot{m}v\n",
    "\\end{align}"
   ]
  },
  {
   "cell_type": "markdown",
   "metadata": {
    "slideshow": {
     "slide_type": "-"
    }
   },
   "source": [
    "but in climb $\\dot{m}$ is larger than  $\\rho A (V+v)$"
   ]
  },
  {
   "cell_type": "markdown",
   "metadata": {
    "slideshow": {
     "slide_type": "-"
    }
   },
   "source": [
    "$$P = T (V+v)$$\n",
    "\n",
    "$$\\frac{P}{T} = \\frac{V}{2}+ \\sqrt{ \\left(\\frac{V}{2} \\right)^2 + V_h^2}$$"
   ]
  },
  {
   "cell_type": "markdown",
   "metadata": {
    "slideshow": {
     "slide_type": "slide"
    }
   },
   "source": [
    "## Applications of Momentum Theory"
   ]
  },
  {
   "cell_type": "markdown",
   "metadata": {
    "cell_style": "split",
    "slideshow": {
     "slide_type": "-"
    }
   },
   "source": [
    "- propeller driven aircraft\n",
    "- VAWT/HAWT wind turbines\n",
    "- tidal turbines"
   ]
  },
  {
   "cell_type": "markdown",
   "metadata": {
    "cell_style": "split",
    "slideshow": {
     "slide_type": "-"
    }
   },
   "source": [
    "<center>\n",
    "    <img src=\"../../assets/HAWT_VAWT.gif\" class=\"medium\">\n",
    "    <p style=\"text-align:center; color:gray; font-size:16px;\"> Turbines of different kinds <a href=\"https://commons.wikimedia.org/wiki/File:HAWT_and_VAWTs_in_operation_medium.gif\">[source] </a></p>\n",
    "\n",
    "</center>"
   ]
  },
  {
   "cell_type": "markdown",
   "metadata": {
    "slideshow": {
     "slide_type": "slide"
    }
   },
   "source": [
    "## Limitations"
   ]
  },
  {
   "cell_type": "markdown",
   "metadata": {
    "slideshow": {
     "slide_type": "-"
    }
   },
   "source": [
    "\n",
    "\n",
    "Momentum theory only takes into account the rotor disc area. It does not take into account other rotor geometry parameters - blade twist, taper, chord, sweep angle (forward and back), anhedral/dihedral angle, or aerodynamic parameters - airfoil type."
   ]
  },
  {
   "cell_type": "markdown",
   "metadata": {
    "cell_style": "center",
    "slideshow": {
     "slide_type": "-"
    }
   },
   "source": [
    " - rotor geometry not modelled\n",
    " - rotor torque not modelled\n",
    " - no losses modelled\n",
    " \n",
    " &nbsp;\n",
    "\n",
    "<div class=\"image-grid2\">\n",
    "    <img  src=\"../../assets/1_MomentumTheory/propeller.jpg\" class=\"small\"/>\n",
    "    <img  src=\"../../assets/1_MomentumTheory/rotor.jpg\" class=\"small\"/>\n",
    "   \n",
    "</div>\n",
    "\n",
    "<div class=\"image-grid2\">\n",
    "  <p> Propeller <a href=\"https://commons.wikimedia.org/wiki/File:Engine_and_propellers_of_aircraft_close_up.jpg\"> [source]</a>\n",
    "  </p>   \n",
    "  <p> Rotor <a href=\"https://en.wikipedia.org/wiki/Sikorsky_UH-60_Black_Hawk#/media/File:ROCA_UH-60M_Black_Hawk.jpg\"> [source]</a>\n",
    "  </p> \n",
    "</div>\n",
    "\n",
    "\n",
    "\n"
   ]
  },
  {
   "cell_type": "markdown",
   "metadata": {
    "slideshow": {
     "slide_type": "slide"
    }
   },
   "source": [
    "## Modelling losses in momentum theory"
   ]
  },
  {
   "cell_type": "markdown",
   "metadata": {
    "slideshow": {
     "slide_type": "-"
    }
   },
   "source": [
    "- tip losses\n",
    "- blade root cutout\n",
    "- non-uniform induced velocity\n",
    "- swirl in rotor wake\n",
    "\n",
    "$$P_i=\\kappa Tv_i=\\kappa\\frac{T^{3 / 2}}{\\sqrt{2 \\rho A}}$$\n",
    "$$\\kappa\\approx1.15$$"
   ]
  },
  {
   "cell_type": "markdown",
   "metadata": {
    "slideshow": {
     "slide_type": "skip"
    }
   },
   "source": [
    "There are no free lunches. Since the momentum theory is based on approximations introduced to the NSE, we cannot obtain all information about the rotor operation or quantitatively accurate results, or both. In other words the aforementioned approximations are appropriate in certain scenarios and will result in pretty reliable results, and not to be applied in scenarios where the apprximation don't apply or are violated."
   ]
  },
  {
   "cell_type": "markdown",
   "metadata": {
    "slideshow": {
     "slide_type": "slide"
    }
   },
   "source": [
    "### When to use momentum theory?"
   ]
  },
  {
   "cell_type": "markdown",
   "metadata": {
    "slideshow": {
     "slide_type": "-"
    }
   },
   "source": [
    "\n",
    "* Provides *good* estimate in steady conditions - climb, hover, descent\n",
    "*  - models only the *dominant* physics exhibited by rotors in steady state operation\n",
    "     - in general, gets the trends from design parametric variations right\n",
    "     - used extensively in preliminary design\n",
    "\n",
    "* "
   ]
  },
  {
   "cell_type": "markdown",
   "metadata": {
    "slideshow": {
     "slide_type": "-"
    }
   },
   "source": [
    "<div style=\"float:right; width:43%;\" >\n",
    "    <img src=\"../../assets/Prouty_lowleveltheory.png\" class=\"big\" />\n",
    "    <p style=\"text-align:center; color:gray; font-size:60%;\"> Model vs experiment correlation [taken from Helicopter Aerodynamics I: RW Prouty]  </p>\n",
    "</div>\n",
    "\n"
   ]
  },
  {
   "cell_type": "markdown",
   "metadata": {
    "slideshow": {
     "slide_type": "slide"
    }
   },
   "source": [
    "```{epigraph}\n",
    "While historically the helicopter industry has relied extensively on more parsimonious aerodynamic methods such as various forms of ‘momentum theory’ combined with significant empiricism for helicopter design work, this is fast changing – JG Lieshman (Principles of Helicopter Aerodynamics ed. 2, 2006)\n",
    "```"
   ]
  },
  {
   "cell_type": "markdown",
   "metadata": {
    "slideshow": {
     "slide_type": "slide"
    }
   },
   "source": [
    "### When not to use momentum theory?"
   ]
  },
  {
   "cell_type": "markdown",
   "metadata": {
    "slideshow": {
     "slide_type": "slide"
    }
   },
   "source": [
    "- heavily loaded rotor\n",
    "    - for e.g. tiltrotors\n",
    "- sudden changes blade geometry - twist, taper, sweep etc.\n",
    "\n",
    "* Transient conditions - for e.g. maneuvers\n",
    "* Does not include aerodynamic limitations of an airfoil\n",
    "    * only maps thrust to induced velocity\n",
    "* k\n",
    "\n"
   ]
  },
  {
   "cell_type": "markdown",
   "metadata": {
    "slideshow": {
     "slide_type": "skip"
    }
   },
   "source": [
    "A 'higher'(better) model is required to overcome the limitations of momentum theory. This is where the blade element momentum theory (BEMT) comes in!"
   ]
  }
 ],
 "metadata": {
  "celltoolbar": "Slideshow",
  "hide_input": false,
  "kernelspec": {
   "display_name": "Python 3",
   "language": "python",
   "name": "python3"
  },
  "language_info": {
   "codemirror_mode": {
    "name": "ipython",
    "version": 3
   },
   "file_extension": ".py",
   "mimetype": "text/x-python",
   "name": "python",
   "nbconvert_exporter": "python",
   "pygments_lexer": "ipython3",
   "version": "3.8.12"
  },
  "latex_envs": {
   "LaTeX_envs_menu_present": true,
   "autoclose": true,
   "autocomplete": true,
   "bibliofile": "biblio.bib",
   "cite_by": "apalike",
   "current_citInitial": 1,
   "eqLabelWithNumbers": false,
   "eqNumInitial": 1,
   "hotkeys": {
    "equation": "Ctrl-E",
    "itemize": "Ctrl-I"
   },
   "labels_anchors": false,
   "latex_user_defs": false,
   "report_style_numbering": false,
   "user_envs_cfg": false
  },
  "rise": {
   "autolaunch": false,
   "backimage": "../../assets/slidetemplate.png",
   "enable_chalkboard": true,
   "footer": "Sumeet Kumar, PhD candidate",
   "scroll": true
  },
  "varInspector": {
   "cols": {
    "lenName": 16,
    "lenType": 16,
    "lenVar": 40
   },
   "kernels_config": {
    "python": {
     "delete_cmd_postfix": "",
     "delete_cmd_prefix": "del ",
     "library": "var_list.py",
     "varRefreshCmd": "print(var_dic_list())"
    },
    "r": {
     "delete_cmd_postfix": ") ",
     "delete_cmd_prefix": "rm(",
     "library": "var_list.r",
     "varRefreshCmd": "cat(var_dic_list()) "
    }
   },
   "types_to_exclude": [
    "module",
    "function",
    "builtin_function_or_method",
    "instance",
    "_Feature"
   ],
   "window_display": false
  }
 },
 "nbformat": 4,
 "nbformat_minor": 5
}
