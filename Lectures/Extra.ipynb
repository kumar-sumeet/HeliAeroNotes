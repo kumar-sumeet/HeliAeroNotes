{
 "cells": [
  {
   "cell_type": "markdown",
   "id": "fb63a9ab",
   "metadata": {},
   "source": [
    "# Extra"
   ]
  },
  {
   "cell_type": "markdown",
   "id": "c1a4bb60",
   "metadata": {},
   "source": [
    "\n",
    "\n",
    " # (add inflow image and corresponding eqs here)\n",
    "\n",
    "\\begin{equation*}\n",
    "\\begin{split}\n",
    "w_{t+1} &= (1 + r_{t+1}) s(w_t) + y_{t+1} \\\\\n",
    "a_2 &= b_2+c_2-d_2+e_2 \\\\\n",
    "a_2 &= b_2+c_2-d_2+e_2\n",
    "\\end{split}\n",
    "\\label{eq:first} \\tag{1}\n",
    "\\end{equation*}\n",
    "\n",
    "\\begin{equation*}\n",
    "a_2=b_2+c_2-d_2+e_2\n",
    "\\label{eq:second} \\tag{2}\n",
    "\\end{equation*} \n",
    "\n",
    "\n",
    "$\\eqref{eq:first}$ and $\\eqref{eq:second}$\n",
    "\n"
   ]
  },
  {
   "cell_type": "code",
   "execution_count": null,
   "id": "2edc79f5",
   "metadata": {},
   "outputs": [],
   "source": []
  }
 ],
 "metadata": {
  "hide_input": false,
  "kernelspec": {
   "display_name": "Python 3 (ipykernel)",
   "language": "python",
   "name": "python3"
  },
  "language_info": {
   "codemirror_mode": {
    "name": "ipython",
    "version": 3
   },
   "file_extension": ".py",
   "mimetype": "text/x-python",
   "name": "python",
   "nbconvert_exporter": "python",
   "pygments_lexer": "ipython3",
   "version": "3.8.5"
  },
  "varInspector": {
   "cols": {
    "lenName": 16,
    "lenType": 16,
    "lenVar": 40
   },
   "kernels_config": {
    "python": {
     "delete_cmd_postfix": "",
     "delete_cmd_prefix": "del ",
     "library": "var_list.py",
     "varRefreshCmd": "print(var_dic_list())"
    },
    "r": {
     "delete_cmd_postfix": ") ",
     "delete_cmd_prefix": "rm(",
     "library": "var_list.r",
     "varRefreshCmd": "cat(var_dic_list()) "
    }
   },
   "types_to_exclude": [
    "module",
    "function",
    "builtin_function_or_method",
    "instance",
    "_Feature"
   ],
   "window_display": false
  }
 },
 "nbformat": 4,
 "nbformat_minor": 5
}
