{
 "cells": [
  {
   "cell_type": "markdown",
   "id": "3379db7e",
   "metadata": {},
   "source": [
    "# Compound Helicopters"
   ]
  },
  {
   "cell_type": "markdown",
   "id": "ae062e33",
   "metadata": {},
   "source": [
    "Helicopters rotors aren't very efficient lifting devices in high speeds. Fixed-wing aircraft don't seem to have that problem. So, it is only natural to fix them on a helicopter as a remedy. This is referred to as lift compounding. "
   ]
  },
  {
   "cell_type": "markdown",
   "id": "295b970f",
   "metadata": {},
   "source": [
    "## Lift-compounding"
   ]
  },
  {
   "cell_type": "markdown",
   "id": "c3aaff69",
   "metadata": {},
   "source": [
    "### S-67 (the original 'Blackhawk')\n",
    "\n",
    "(source) - https://verticalmag.com/features/the-original-blackhawk-the-sikorsky-s-67/\n",
    "- Sleek fuselage with tandem seating of pilots\n",
    "    - Wings with speed brakes\n",
    "- swept back tips to relieve compressibility effects during high $V_tip$ on advancing side\n",
    "- (probably the first) vertical fin with large camber\n",
    "    - Helicopter could fly without tail rotor at 74 km/hr and higher!!\n",
    "- "
   ]
  },
  {
   "cell_type": "markdown",
   "id": "fcc83738",
   "metadata": {},
   "source": [
    "S-67 prototype crashed leading to shutting down of the program. Boeing AH-64 design won the contract. Later Sikorsky won the contract for replacing utility helicopters for the US armed forces and named that design the Blackhawk."
   ]
  },
  {
   "cell_type": "code",
   "execution_count": null,
   "id": "d4253056",
   "metadata": {},
   "outputs": [],
   "source": [
    "#read about the compound papers of johnson and yeo. apparently they suggest an optimum distribution of lift between wing and rotor"
   ]
  },
  {
   "cell_type": "code",
   "execution_count": null,
   "id": "7026cccf",
   "metadata": {},
   "outputs": [],
   "source": []
  },
  {
   "cell_type": "code",
   "execution_count": null,
   "id": "34519f12",
   "metadata": {},
   "outputs": [],
   "source": []
  },
  {
   "cell_type": "code",
   "execution_count": null,
   "id": "1bf6141c",
   "metadata": {},
   "outputs": [],
   "source": []
  },
  {
   "cell_type": "code",
   "execution_count": null,
   "id": "cb4c6598",
   "metadata": {},
   "outputs": [],
   "source": []
  },
  {
   "cell_type": "markdown",
   "id": "2481a5d6",
   "metadata": {},
   "source": [
    "# Fixed-wing wake\n",
    "\n",
    "\n",
    "<div class=\"image-grid\">\n",
    "    <img  src=\"../../assets/H21.jpeg\" class=\"medium\"/>\n",
    "    <img  src=\"../../assets/UH1.jpeg\" class=\"medium\"/>\n",
    "    <img  src=\"../../assets/S67.png\" class=\"medium\"/>\n",
    "\n",
    "</div>\n",
    "\n",
    "<div class=\"image-grid\">\n",
    "  <p class=\"caption\"> Piasecki H-21 'flying banana' <a href=\"https://en.wikipedia.org/wiki/Piasecki_H-21#/media/File:Piasecki_H-21_(modified).jpg\"> [source]</a>\n",
    "  </p>   \n",
    "  <p  style=\"caption\"> Bell UH-1 'Heuy' <a href=\"https://en.wikipedia.org/wiki/Bell_UH-1_Iroquois#/media/File:UH1_Huey_-_Fly_Navy_2017_(26938005897).jpg\"> [source]</a>\n",
    "  </p> \n",
    "  <p  style=\"caption\"> Sikorsky S-67 Blackhawk <a href=\"https://verticalmag.com/features/the-original-blackhawk-the-sikorsky-s-67/\"> [source]</a>\n",
    "  </p> \n",
    "</div>\n",
    "\n"
   ]
  },
  {
   "cell_type": "markdown",
   "id": "9c79c31e",
   "metadata": {},
   "source": []
  },
  {
   "cell_type": "markdown",
   "id": "62884cc0",
   "metadata": {},
   "source": []
  },
  {
   "cell_type": "markdown",
   "id": "0b127a23",
   "metadata": {},
   "source": [
    "```{figure} ../../assets/VFS_compound_tilt.png\n",
    "---\n",
    "height: 150px\n",
    "name: VFS_compound_tilt\n",
    "---\n",
    "Compound and tilt rotorcraft [[source]](https://youtu.be/Wal223u7t0Q?t=597)\n",
    "```"
   ]
  },
  {
   "cell_type": "markdown",
   "id": "fed83314",
   "metadata": {},
   "source": []
  },
  {
   "cell_type": "markdown",
   "id": "96fda522",
   "metadata": {},
   "source": []
  },
  {
   "cell_type": "markdown",
   "id": "41c9ac60",
   "metadata": {},
   "source": []
  },
  {
   "cell_type": "markdown",
   "id": "a1f50d82",
   "metadata": {},
   "source": []
  },
  {
   "cell_type": "markdown",
   "id": "22b3396f",
   "metadata": {},
   "source": []
  },
  {
   "cell_type": "markdown",
   "id": "330724b7",
   "metadata": {},
   "source": []
  },
  {
   "cell_type": "markdown",
   "id": "b0979d16",
   "metadata": {},
   "source": []
  },
  {
   "cell_type": "markdown",
   "id": "3976e831",
   "metadata": {},
   "source": []
  },
  {
   "cell_type": "markdown",
   "id": "89bf940a",
   "metadata": {},
   "source": []
  },
  {
   "cell_type": "markdown",
   "id": "4a5dca62",
   "metadata": {},
   "source": []
  },
  {
   "cell_type": "markdown",
   "id": "bc23e2b8",
   "metadata": {},
   "source": []
  }
 ],
 "metadata": {
  "hide_input": false,
  "kernelspec": {
   "display_name": "Python 3 (ipykernel)",
   "language": "python",
   "name": "python3"
  },
  "language_info": {
   "codemirror_mode": {
    "name": "ipython",
    "version": 3
   },
   "file_extension": ".py",
   "mimetype": "text/x-python",
   "name": "python",
   "nbconvert_exporter": "python",
   "pygments_lexer": "ipython3",
   "version": "3.8.5"
  },
  "latex_envs": {
   "LaTeX_envs_menu_present": true,
   "autoclose": true,
   "autocomplete": true,
   "bibliofile": "biblio.bib",
   "cite_by": "apalike",
   "current_citInitial": 1,
   "eqLabelWithNumbers": false,
   "eqNumInitial": 1,
   "hotkeys": {
    "equation": "Ctrl-E",
    "itemize": "Ctrl-I"
   },
   "labels_anchors": false,
   "latex_user_defs": false,
   "report_style_numbering": false,
   "user_envs_cfg": false
  },
  "varInspector": {
   "cols": {
    "lenName": 16,
    "lenType": 16,
    "lenVar": 40
   },
   "kernels_config": {
    "python": {
     "delete_cmd_postfix": "",
     "delete_cmd_prefix": "del ",
     "library": "var_list.py",
     "varRefreshCmd": "print(var_dic_list())"
    },
    "r": {
     "delete_cmd_postfix": ") ",
     "delete_cmd_prefix": "rm(",
     "library": "var_list.r",
     "varRefreshCmd": "cat(var_dic_list()) "
    }
   },
   "types_to_exclude": [
    "module",
    "function",
    "builtin_function_or_method",
    "instance",
    "_Feature"
   ],
   "window_display": false
  }
 },
 "nbformat": 4,
 "nbformat_minor": 5
}
