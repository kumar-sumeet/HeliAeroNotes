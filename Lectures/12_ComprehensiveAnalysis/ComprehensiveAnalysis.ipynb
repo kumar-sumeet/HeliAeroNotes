{
 "cells": [
  {
   "cell_type": "markdown",
   "id": "early-college",
   "metadata": {},
   "source": [
    "# Comprehensive Rotorcraft Analysis"
   ]
  },
  {
   "cell_type": "markdown",
   "id": "front-panic",
   "metadata": {},
   "source": []
  },
  {
   "cell_type": "markdown",
   "id": "civilian-vaccine",
   "metadata": {},
   "source": [
    "Rotor blades are modelled as beams because the analysis is simpler AND the results obtained are of sufficient accuracy. The latter half is critical because a simple theory or approach is useless if the desired level of accuracy is not possible. Now, the entire blade can be modelled as a 3-D structure using finite element analysis approach which .... cite Daata' work and S1. "
   ]
  },
  {
   "cell_type": "markdown",
   "id": "partial-minneapolis",
   "metadata": {},
   "source": [
    "Major academic and commercially available comprehensive analyses codes/softwares - for e.g. CAMRAD II, Dymore, RCAS,  use the geometrically exact 1-D beam model for obtaining blade elastic deformation."
   ]
  },
  {
   "cell_type": "markdown",
   "id": "regulation-usage",
   "metadata": {},
   "source": []
  },
  {
   "cell_type": "markdown",
   "id": "racial-graduation",
   "metadata": {},
   "source": []
  },
  {
   "cell_type": "markdown",
   "id": "matched-bernard",
   "metadata": {},
   "source": []
  },
  {
   "cell_type": "markdown",
   "id": "finite-satellite",
   "metadata": {},
   "source": []
  },
  {
   "cell_type": "markdown",
   "id": "monetary-whale",
   "metadata": {},
   "source": []
  },
  {
   "cell_type": "markdown",
   "id": "straight-commons",
   "metadata": {},
   "source": []
  }
 ],
 "metadata": {
  "hide_input": false,
  "kernelspec": {
   "display_name": "Python 3 (ipykernel)",
   "language": "python",
   "name": "python3"
  },
  "language_info": {
   "codemirror_mode": {
    "name": "ipython",
    "version": 3
   },
   "file_extension": ".py",
   "mimetype": "text/x-python",
   "name": "python",
   "nbconvert_exporter": "python",
   "pygments_lexer": "ipython3",
   "version": "3.8.5"
  },
  "varInspector": {
   "cols": {
    "lenName": 16,
    "lenType": 16,
    "lenVar": 40
   },
   "kernels_config": {
    "python": {
     "delete_cmd_postfix": "",
     "delete_cmd_prefix": "del ",
     "library": "var_list.py",
     "varRefreshCmd": "print(var_dic_list())"
    },
    "r": {
     "delete_cmd_postfix": ") ",
     "delete_cmd_prefix": "rm(",
     "library": "var_list.r",
     "varRefreshCmd": "cat(var_dic_list()) "
    }
   },
   "types_to_exclude": [
    "module",
    "function",
    "builtin_function_or_method",
    "instance",
    "_Feature"
   ],
   "window_display": false
  }
 },
 "nbformat": 4,
 "nbformat_minor": 5
}
