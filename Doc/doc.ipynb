{
 "cells": [
  {
   "cell_type": "markdown",
   "metadata": {},
   "source": [
    "# Jupyter slides "
   ]
  },
  {
   "cell_type": "markdown",
   "metadata": {},
   "source": [
    "To be able to set the slide layout as we want, we have to create a css file to add images because we cannot resize images with markdown. \n",
    "\n",
    "\n",
    "Created css file can be added at the beginning of the notebook as a \"code\" by choosing slide type \"skip\", otherwise the css code written slide will appear in the slide show. In the Jupyter notebook view, the hide input cell toggle can be used by selecting the input cell to hide the slide with css.\n",
    "\n",
    "\n",
    "To enable a right scroll bar when your content exceeds the slide vertical height, use the following configuration to edit notebook metadata to make the slideshow scrollable:"
   ]
  },
  {
   "cell_type": "markdown",
   "metadata": {},
   "source": [
    "\"rise\": {\"scroll\": true}"
   ]
  },
  {
   "cell_type": "markdown",
   "metadata": {},
   "source": [
    "## Inserting Images \n",
    "Although using raw HTML is usually a bad choice for jupyter book, images should be inserted using html to make layout arrangements for jupyter slides.\n",
    "\n",
    "Below problems can be occur: \n",
    "\n",
    "\n",
    "- relative path corrections\n",
    "\n",
    "- copying of assets to the build folder\n",
    "\n",
    "- multiple output type formatting\n",
    "\n",
    "\n",
    "<a href=\"https://jupyterbook.org/advanced/html.html#raw-html-in-markdown\"> [see this explanation]</a>\n",
    "\n",
    "\n",
    "\n"
   ]
  },
  {
   "cell_type": "markdown",
   "metadata": {},
   "source": [
    "### Single Image\n",
    "For single images you can use the format below. \n",
    "\n",
    "#### Center"
   ]
  },
  {
   "cell_type": "raw",
   "metadata": {},
   "source": [
    " <!--\n",
    "\n",
    "<center>\n",
    "    <img src=\"source_path\" class=\"size_option\">\n",
    "    <p style=\"font-size:12px; color:gray; text-align:center;\"  > Caption <a href=\"source_of_hyperlink\"> [source]</a></p>\n",
    "\n",
    "</center>\n",
    "\n",
    "-->\n"
   ]
  },
  {
   "cell_type": "markdown",
   "metadata": {},
   "source": [
    "size classes are : *small*, *medium*, *big* and *large*\n",
    "\n",
    "\n",
    "details for more styles and classes see css file under \"_static\" file.\n",
    "\n",
    "\n",
    "#### Left-Right Align"
   ]
  },
  {
   "cell_type": "raw",
   "metadata": {},
   "source": [
    "<div style=\"float: OPTION;\"; >\n",
    "    <img src=\"source_path class=\"size_option\" />\n",
    "    <p style=\"font-size:12px; color:gray; text-align:center;\" > Caption <a href=\"source_of_hyperlink\"> [source]</a></p>\n",
    "</div>\n",
    "\n",
    "\n",
    "OPTIONs : left or right\n",
    "\n",
    "(use font-size:60% for jupyter slides)"
   ]
  },
  {
   "cell_type": "markdown",
   "metadata": {},
   "source": [
    "### How to make grid "
   ]
  },
  {
   "cell_type": "markdown",
   "metadata": {},
   "source": [
    "#### Two images in a same row\n",
    "Use image-grid2 class defined in css file."
   ]
  },
  {
   "cell_type": "raw",
   "metadata": {},
   "source": [
    "<div class=\"image-grid2\">\n",
    "    <img  src=\"source_path_image1\" class=\"size_options\"/>\n",
    "    <img  src=\"source_path_image2\" class=\"size_options\"/>\n",
    "   \n",
    "</div>\n",
    "\n",
    "<div class=\"image-grid2\">\n",
    "  <p > Caption_image1 <a href=\"source_1\"> [source]</a>\n",
    "  </p>   \n",
    "  <p > Caption_image2 <a href=\"source2\"> [source]</a>\n",
    "  </p> \n",
    "</div>\n"
   ]
  },
  {
   "cell_type": "markdown",
   "metadata": {},
   "source": [
    "#### Three images in a same row\n",
    "Use above format with class image-grid. "
   ]
  },
  {
   "cell_type": "markdown",
   "metadata": {},
   "source": [
    "#### Four images in a same row\n",
    "Use above format with class image-grid4. "
   ]
  },
  {
   "cell_type": "markdown",
   "metadata": {
    "collapsed": true
   },
   "source": [
    "### How to number  and label equations\n",
    "\n",
    "See example below,"
   ]
  },
  {
   "cell_type": "raw",
   "metadata": {},
   "source": [
    "\\begin{equation*}\n",
    "\\begin{split}\n",
    "w_{t+1} &= (1 + r_{t+1}) s(w_t) + y_{t+1} \\\\\n",
    "a_2 &= b_2+c_2-d_2+e_2 \\\\\n",
    "a_2 &= b_2+c_2-d_2+e_2\n",
    "\\end{split}\n",
    "\\label{eq:my} \\tag{1}\n",
    "\\end{equation*}\n"
   ]
  },
  {
   "cell_type": "raw",
   "metadata": {},
   "source": [
    "You can use LateX to label equations but you have to add tag. To refer labelled eqaution you can use following : \n",
    "    $\\eqref{eq:my}$"
   ]
  },
  {
   "cell_type": "code",
   "execution_count": null,
   "metadata": {},
   "outputs": [],
   "source": []
  }
 ],
 "metadata": {
  "kernelspec": {
   "display_name": "Python 3",
   "language": "python",
   "name": "python3"
  },
  "language_info": {
   "codemirror_mode": {
    "name": "ipython",
    "version": 3
   },
   "file_extension": ".py",
   "mimetype": "text/x-python",
   "name": "python",
   "nbconvert_exporter": "python",
   "pygments_lexer": "ipython3",
   "version": "3.8.12"
  },
  "latex_envs": {
   "LaTeX_envs_menu_present": true,
   "autoclose": true,
   "autocomplete": true,
   "bibliofile": "biblio.bib",
   "cite_by": "apalike",
   "current_citInitial": 1,
   "eqLabelWithNumbers": false,
   "eqNumInitial": 1,
   "hotkeys": {
    "equation": "Ctrl-E",
    "itemize": "Ctrl-I"
   },
   "labels_anchors": false,
   "latex_user_defs": false,
   "report_style_numbering": false,
   "user_envs_cfg": false
  }
 },
 "nbformat": 4,
 "nbformat_minor": 4
}
