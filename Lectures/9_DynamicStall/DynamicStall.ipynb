{
 "cells": [
  {
   "cell_type": "markdown",
   "id": "01d96e4d",
   "metadata": {},
   "source": [
    "# Dynamic Stall"
   ]
  },
  {
   "cell_type": "code",
   "execution_count": null,
   "id": "85db3eac",
   "metadata": {},
   "outputs": [],
   "source": [
    "# read Leishman till 9.2 section for this chapter, maybe read Johnson as well"
   ]
  },
  {
   "cell_type": "markdown",
   "id": "1f236d58",
   "metadata": {},
   "source": [
    "## Static stall revisited"
   ]
  },
  {
   "cell_type": "markdown",
   "id": "2454153f",
   "metadata": {},
   "source": [
    "- \n",
    "- occurs when airfoil \n",
    "    - only occurs at low speeds\n",
    "- Fixed-wing aircraft undergo static stall"
   ]
  },
  {
   "cell_type": "markdown",
   "id": "30831e1a",
   "metadata": {},
   "source": [
    "The aerodynamics rotary-wing section are much different from that of a fixed-wing in forward flight. As was mentioned in [](content:FastForwardFlight:labels) Because of the blade pitching that is necessary during any forward motion of the rotor, static stall is not even a matter of concern."
   ]
  },
  {
   "cell_type": "markdown",
   "id": "298c7bb4",
   "metadata": {},
   "source": [
    "## Dynamic Stall - [](content:FastForwardFlight:labels) "
   ]
  },
  {
   "cell_type": "markdown",
   "id": "92a03002",
   "metadata": {},
   "source": [
    "It can also be understood as a 'stall delay' {cite}`B32_1`"
   ]
  },
  {
   "cell_type": "code",
   "execution_count": null,
   "id": "af524823",
   "metadata": {
    "hide_input": true,
    "tags": [
     "hide-input"
    ]
   },
   "outputs": [],
   "source": [
    "    \n",
    "from IPython.display import YouTubeVideo\n",
    "YouTubeVideo('uUGlPxAw9J0', width=500, height=270,start=71)\n"
   ]
  },
  {
   "cell_type": "markdown",
   "id": "2b6d1927",
   "metadata": {},
   "source": [
    "- occurs when airfoil angle of attack is beyond static stall angle\n",
    "- airfoil unsteady motion is involved\n",
    "    - pitching, heaving etc....\n",
    "- characteristic delay in flow separation compared to static stall\n",
    "    - this is very consequential; leads to high loads\n",
    "- large -ve moments once the shed vortex passes over the blade"
   ]
  },
  {
   "cell_type": "markdown",
   "id": "8a0a511c",
   "metadata": {},
   "source": [
    "## Why is dynamic stall of concern?"
   ]
  },
  {
   "cell_type": "markdown",
   "id": "322d435c",
   "metadata": {},
   "source": [
    "- High torsional and lifting loads occur during a dynamic stall cycle\n",
    "    - these can dictate the design limits of a blade\n",
    "- it can lead to stall flutter"
   ]
  },
  {
   "cell_type": "markdown",
   "id": "4a613424",
   "metadata": {},
   "source": [
    "## Modelling "
   ]
  },
  {
   "cell_type": "markdown",
   "id": "f8c4f8c7",
   "metadata": {},
   "source": [
    "- CFD methods\n",
    "- Semi-empirical methods"
   ]
  },
  {
   "cell_type": "code",
   "execution_count": null,
   "id": "7513dcf1",
   "metadata": {},
   "outputs": [],
   "source": []
  }
 ],
 "metadata": {
  "celltoolbar": "Tags",
  "hide_input": false,
  "kernelspec": {
   "display_name": "Python 3 (ipykernel)",
   "language": "python",
   "name": "python3"
  },
  "language_info": {
   "codemirror_mode": {
    "name": "ipython",
    "version": 3
   },
   "file_extension": ".py",
   "mimetype": "text/x-python",
   "name": "python",
   "nbconvert_exporter": "python",
   "pygments_lexer": "ipython3",
   "version": "3.8.5"
  },
  "latex_envs": {
   "LaTeX_envs_menu_present": true,
   "autoclose": true,
   "autocomplete": true,
   "bibliofile": "biblio.bib",
   "cite_by": "apalike",
   "current_citInitial": 1,
   "eqLabelWithNumbers": false,
   "eqNumInitial": 1,
   "hotkeys": {
    "equation": "Ctrl-E",
    "itemize": "Ctrl-I"
   },
   "labels_anchors": false,
   "latex_user_defs": false,
   "report_style_numbering": false,
   "user_envs_cfg": false
  },
  "varInspector": {
   "cols": {
    "lenName": 16,
    "lenType": 16,
    "lenVar": 40
   },
   "kernels_config": {
    "python": {
     "delete_cmd_postfix": "",
     "delete_cmd_prefix": "del ",
     "library": "var_list.py",
     "varRefreshCmd": "print(var_dic_list())"
    },
    "r": {
     "delete_cmd_postfix": ") ",
     "delete_cmd_prefix": "rm(",
     "library": "var_list.r",
     "varRefreshCmd": "cat(var_dic_list()) "
    }
   },
   "types_to_exclude": [
    "module",
    "function",
    "builtin_function_or_method",
    "instance",
    "_Feature"
   ],
   "window_display": false
  }
 },
 "nbformat": 4,
 "nbformat_minor": 5
}
