{
 "cells": [
  {
   "cell_type": "markdown",
   "id": "8827f5ba",
   "metadata": {},
   "source": [
    "# Transition"
   ]
  },
  {
   "cell_type": "markdown",
   "id": "b75031ef",
   "metadata": {},
   "source": [
    "There needs to be some formulation of power at different flight speeds!!!!!!"
   ]
  },
  {
   "cell_type": "markdown",
   "id": "c54707ba",
   "metadata": {},
   "source": [
    "As the helicopter moves from a hover flight state to a forward flight state, the rotor wake undergoes quite a bit of transformation so much so that the momentum theory approximations incur significant error making them inapplicable. Momentum theory again becomes applicable as higher forward flight speeds are attained. This *special* forward flight region 0< ${\\mu}$ <0.1 is generally referred to as the transition region where due to the proximity of the rotor tip vortices to the following blades leads to impulsive loadings, which in turn results in high noise and vibrations. Needless to say transition region is not comfortable for people inside the helicopter or for those in the neighbourhoods it flies over."
   ]
  },
  {
   "cell_type": "markdown",
   "id": "5fc153a0",
   "metadata": {},
   "source": [
    "## How does one achieve $V_F$>0?"
   ]
  },
  {
   "cell_type": "markdown",
   "id": "212351f0",
   "metadata": {},
   "source": [
    "This is not a trivial question to ask. From basic understanding of airfoil aerodynamics, it is relatively obvious that to achieve hover at a given MTOW, the rotor collective needs to be increased until the helicopter leaves the ground. Once in hover, the main rotor thrust needs to be tilted so that a component of the rotor thrust accelerates the helicopter until enough parasite drag builds up to counter it.\n",
    "One possible mechanism of achieving forward motion would be to move the helicopter CG ahead of the rotor shaft. The thrust vector would induce a pitch down moment on the entire aircraft which would lead to the thrust vector tilting and accelerating it forward. Helicopters achieve this using a simpler mechanism that doesn't involve moving the CG."
   ]
  },
  {
   "cell_type": "markdown",
   "id": "880b198f",
   "metadata": {},
   "source": [
    "<div style=\"float:right; width:55%\"; >\n",
    "    <img src=\"../../assets/forces_moment.png\" />\n",
    "    <p style=\"font-size:12px; color:gray; text-align:center;\"> Forces and moments balance about CG  (modified from<a href=\"https://en.wikipedia.org/wiki/Sikorsky_UH-60_Black_Hawk#/media/File:Jordanian_Air_Force_UH-60_Black_Hawk_helicopter_(cropped).jpg\"> [source]</a>)</p>\n",
    "</div>\n",
    "\n",
    "\n",
    "&nbsp;\n",
    "\n",
    "\n",
    "Net force and angular momentum of the aircraft should equal zero\n",
    "\t\n",
    "Vertical component of thrust = aircraft weight\n",
    "\n",
    "Horizontal component of thrust = aircraft drag"
   ]
  },
  {
   "cell_type": "markdown",
   "id": "b2d0b098",
   "metadata": {},
   "source": [
    "- increase collective for hover ($V_F=0$)\n",
    "- from hover to $V_F>0$\n",
    "    - "
   ]
  },
  {
   "cell_type": "markdown",
   "id": "20bca8ac",
   "metadata": {},
   "source": [
    "- if rotor collective not decreased as $V_F$ increases, hecliopter starts climbing ('translational lift')"
   ]
  },
  {
   "cell_type": "markdown",
   "id": "3e192bd5",
   "metadata": {},
   "source": [
    "(content:5_FF_T_La:labels)=\n",
    "## Rotor aerodynamics assymetry: forward flight"
   ]
  },
  {
   "cell_type": "markdown",
   "id": "12ddb46b",
   "metadata": {},
   "source": [
    "### Rotor is not just a propeller placed in a different plane"
   ]
  },
  {
   "cell_type": "markdown",
   "id": "790dca12",
   "metadata": {},
   "source": [
    "- Forward (edgewise) motion of the rotor as a whole creates assymetry of dynamic pressure\n",
    "- If nothing is done, this simply results in more aerodynamic lift in the region of higher dynamic pressure\n",
    "- As revolutionary as it might have been to mechanically implement this during the early days of the evolution of the helicopter rotor system, pitching the rotor blade and thereby controlling the angle of attack has become the most reliable manner we can achieve this"
   ]
  },
  {
   "cell_type": "markdown",
   "id": "94099711",
   "metadata": {},
   "source": [
    "\n",
    "<center>\n",
    "    <img src=\"../../assets/ABC1.png\" class=\"size_option\">\n",
    "    <p style=\"font-size:12px; color:gray; text-align:center;\"  > Rigid rotor requirement of roll moment balance <a href=\"https://www.sikorskyarchives.com/S-69%20(XH-59A).php\"> [source]</a></p>\n",
    "\n",
    "</center>\n",
    "\n",
    "\n"
   ]
  },
  {
   "cell_type": "markdown",
   "id": "2f9686a1",
   "metadata": {},
   "source": [
    "Having said that, a rotor design that is basically a propeller placed horizontally on top of the helicopter fuselage presents a lot of interesting possibilities. Of course, the aforementioned problems wouldn't magically go away. So the challenge is to come up with a solution strategy different from what the early pioneers of rotorcraft came up with. We'll talk more about this when discussing modern rotor designs.  "
   ]
  },
  {
   "cell_type": "markdown",
   "id": "06ed3eae",
   "metadata": {},
   "source": [
    "### Dynamic pressure"
   ]
  },
  {
   "cell_type": "markdown",
   "id": "05859f2b",
   "metadata": {},
   "source": [
    "$$u_T = V_f(\\mu \\sin \\psi + r) $$ "
   ]
  },
  {
   "cell_type": "markdown",
   "id": "bedbe213",
   "metadata": {},
   "source": [
    "## Closer look at the rotor hub"
   ]
  },
  {
   "cell_type": "markdown",
   "id": "ed63c934",
   "metadata": {},
   "source": [
    "<div class=\"image-grid\">\n",
    "    <img  src=\"../../assets/Bo105_2.jpeg\" class=\"small\"/>\n",
    "    <img  src=\"../../assets/Bo105_engine_transmission.jpeg\" class=\"small\"/>\n",
    "    <img  src=\"../../assets/Bo105_transmission.png\" class=\"small\" />\n",
    "\n",
    "   \n",
    "</div>\n",
    "\n",
    "<div class=\"image-grid\">\n",
    "  <p   > Bo 105 <a href=\"https://en.wikipedia.org/wiki/MBB_Bo_105#/media/File:MBB_BO-105CBS-5,_Luftrettung_-_Bundesministerium_des_Innern_(modified).jpg\"> [source]</a>\n",
    "  </p>   \n",
    "  <p  > Bo 105 engine and transmission <a href=\"https://en.wikipedia.org/wiki/MBB_Bo_105#/media/File:MBB_BO_105_engine.jpg\"> [source]</a>\n",
    "  </p> \n",
    "  <p   > Bo 105 transmission (note the IBC actuators!)\n",
    "  </p>\n",
    "</div>\n"
   ]
  },
  {
   "cell_type": "markdown",
   "id": "1b7f84ca",
   "metadata": {},
   "source": [
    "### Rotor control"
   ]
  },
  {
   "cell_type": "markdown",
   "id": "91bc8aa1",
   "metadata": {},
   "source": [
    "The rotor collective was already discussed in the context of controlling thrust generation to achieve hover. However, the swashplate is capable of providing the following scheduling to the pitch angle of a rotor blade."
   ]
  },
  {
   "cell_type": "markdown",
   "id": "b6908907",
   "metadata": {},
   "source": [
    "<div style=\"float:right; width:43%;\" >\n",
    "    <img src=\"../../assets/B28_fig1_12.png\" class=\"big\" />\n",
    "    <p style=\"text-align:center; color:gray; font-size:60%;\"> Helicopter rotor control <a href=\"https://ntrs.nasa.gov/citations/19790013868\"> [source]</a>  </p>\n",
    "</div>\n",
    "\n",
    "&nbsp;\n",
    "&nbsp;\n",
    "&nbsp;\n",
    "&nbsp;\n",
    "$$\\theta = \\theta + \\theta_{1c}\\cos(\\psi) + \\theta_{1s}\\sin(\\psi)$$\n",
    "\n",
    "&nbsp;\n",
    "&nbsp;\n",
    "&nbsp;\n",
    "&nbsp;\n",
    "&nbsp;\n",
    "- why this specific form?"
   ]
  },
  {
   "cell_type": "markdown",
   "id": "5f8e2c29",
   "metadata": {},
   "source": [
    "Wait, what!? Collective movement of the blade pitch is understandable, but one harmonic pitching cycle as the blade completes one revolution!? Doesn't the rotor rotate at like 5-7 Hz!?"
   ]
  },
  {
   "cell_type": "markdown",
   "id": "4587bfd9",
   "metadata": {},
   "source": [
    "```{note} \n",
    "Controlling the rotor blade pitch at even higher frequencies ($\\approx$ 40 Hz) is possible and has been demonstrated in experimental test flights. This falls under the realm and active rotor control and will be briefly touched upon later.\n",
    "```"
   ]
  },
  {
   "cell_type": "markdown",
   "id": "0568a306",
   "metadata": {
    "cell_style": "split"
   },
   "source": []
  },
  {
   "cell_type": "code",
   "execution_count": 1,
   "id": "277a57a1",
   "metadata": {
    "cell_style": "split"
   },
   "outputs": [
    {
     "data": {
      "image/jpeg": "[encoded data removed]",
      "text/html": [
       "\n",
       "        <iframe\n",
       "            width=\"400\"\n",
       "            height=\"300\"\n",
       "            src=\"https://www.youtube.com/embed/Pu48f7s5Ru8\"\n",
       "            frameborder=\"0\"\n",
       "            allowfullscreen\n",
       "            \n",
       "        ></iframe>\n",
       "        "
      ],
      "text/plain": [
       "<IPython.lib.display.YouTubeVideo at 0x7f83174fa340>"
      ]
     },
     "execution_count": 1,
     "metadata": {},
     "output_type": "execute_result"
    }
   ],
   "source": [
    "from IPython.display import YouTubeVideo\n",
    "YouTubeVideo('Pu48f7s5Ru8')#, width=500, height=00)\n",
    "\n",
    "YouTubeVideo('Ug6W7_tafnc')#, width=500, height=00)\n"
   ]
  },
  {
   "cell_type": "markdown",
   "id": "f2200020",
   "metadata": {},
   "source": [
    "The video is of a Bo 105 helicopter that has a rotation rate of 7 Hz. So the clip has been slowed down considerably and only represents about 3 s worth of real-time action."
   ]
  },
  {
   "cell_type": "code",
   "execution_count": null,
   "id": "a432de16",
   "metadata": {},
   "outputs": [],
   "source": []
  },
  {
   "cell_type": "markdown",
   "id": "a8348948",
   "metadata": {},
   "source": [
    "### Forces"
   ]
  },
  {
   "cell_type": "markdown",
   "id": "a83a69aa",
   "metadata": {},
   "source": [
    "The total vector at the rotor hub can be in any direction. In the case of the teetering rotor it is easy to visualise how that could come about to be - "
   ]
  },
  {
   "cell_type": "markdown",
   "id": "e52b1de1",
   "metadata": {},
   "source": []
  },
  {
   "cell_type": "markdown",
   "id": "178313ff",
   "metadata": {},
   "source": [
    "<center>\n",
    "    <img src=\"../../assets/B28_table_1_1.png\" class=\"large\">\n",
    "    <p style=\"font-size:12px; color:gray; text-align:center;\" >  Helicopter control achieved in different configurations <a href=\"https://ntrs.nasa.gov/citations/19790013868\"> [source]</a>\n",
    "  </p>     \n",
    "</center>"
   ]
  },
  {
   "cell_type": "code",
   "execution_count": null,
   "id": "9fd9e99e",
   "metadata": {},
   "outputs": [],
   "source": []
  },
  {
   "cell_type": "markdown",
   "id": "6506a2d2",
   "metadata": {},
   "source": [
    "### Moments"
   ]
  },
  {
   "cell_type": "markdown",
   "id": "779f0952",
   "metadata": {},
   "source": [
    "- Blade flapping\n",
    "- Thrust vector tilt (a figure here would be nice)"
   ]
  },
  {
   "cell_type": "markdown",
   "id": "091ff7cd",
   "metadata": {},
   "source": [
    "Flap hinge is necessary to reduce the structural stresses experienced at the blade root and to remove the high roll moments that can arise if the blades were rigidly connected to the hub. If the flap hinge is located at the center of rotation itself, no bending moment from the blade can be transfered to the helicopter. This was true of the early autogyro designs and of teetering rotors. "
   ]
  },
  {
   "cell_type": "markdown",
   "id": "f66ff879",
   "metadata": {},
   "source": [
    "```{admonition} Aside\n",
    "While the autogyros had fixed-wings attached that could generate sufficient control in order to orient the aircraft and undergo maneuvers with requisite agility, the lack of moment transfer due to blade flapping seems like a pretty restrictive feature. In reality, teetering rotors can generate moments about the helicopter CG by tilting the thrust vector. The resulting agility is not as good as that of articulated or hingeless rotor and \n",
    "```"
   ]
  },
  {
   "cell_type": "markdown",
   "id": "16efae9f",
   "metadata": {},
   "source": []
  },
  {
   "cell_type": "markdown",
   "id": "10f35ee6",
   "metadata": {},
   "source": [
    "<center>\n",
    "    <img src=\"../../assets/rotor_flap_hinge.svg\" class=\"size_option\">\n",
    "    <p style=\"font-size:12px; color:gray; text-align:center;\"  > Articulated rotor in forward flight </p>\n",
    "\n",
    "</center>"
   ]
  },
  {
   "cell_type": "markdown",
   "id": "6a5478e7",
   "metadata": {},
   "source": []
  },
  {
   "cell_type": "markdown",
   "id": "da52475e",
   "metadata": {},
   "source": [
    "### Coriolis effects"
   ]
  },
  {
   "cell_type": "markdown",
   "id": "d94d79b9",
   "metadata": {},
   "source": [
    "The freedom of movement in the flap direction can lead to corioilis forces on the blade as it undergoes flapping motion suring rotation. In other words, having a flap hinge can lead to motion of the blade in the plane of the rotor disk. This is refered to as the lead-lag motion. As counter intuitive as it may sound, this motion is a natural result of coriolis forces on the blade CG and can lead to high lead-lag or chordwise blade stresses if nothing is done to accomodate for it. Consequently, rotor blades also tend to have an additional hinge close to the rotor center of rotation in order to allow in-plane blade motion. However, a lead-lag hinge can lead to rotor instability called ground resonance. A helicopter in ground resonance can break up catastrophically."
   ]
  },
  {
   "cell_type": "code",
   "execution_count": 1,
   "id": "953de501",
   "metadata": {},
   "outputs": [
    {
     "data": {
      "image/jpeg": "[encoded data removed]",
      "text/html": [
       "\n",
       "        <iframe\n",
       "            width=\"500\"\n",
       "            height=\"270\"\n",
       "            src=\"https://www.youtube.com/embed/0GEj69NANc8\"\n",
       "            frameborder=\"0\"\n",
       "            allowfullscreen\n",
       "            \n",
       "        ></iframe>\n",
       "        "
      ],
      "text/plain": [
       "<IPython.lib.display.YouTubeVideo at 0x7fd9ea3df3a0>"
      ]
     },
     "execution_count": 1,
     "metadata": {},
     "output_type": "execute_result"
    }
   ],
   "source": [
    "from IPython.display import YouTubeVideo\n",
    "YouTubeVideo('0GEj69NANc8', width=500, height=270)"
   ]
  },
  {
   "cell_type": "markdown",
   "id": "c9003d53",
   "metadata": {},
   "source": [
    "Flapping of the rotor disc generates moment at the rotor hub that in turn changes the orientation of the entire aircraft. "
   ]
  },
  {
   "cell_type": "markdown",
   "id": "bf4ad885",
   "metadata": {},
   "source": [
    "## Rotor types"
   ]
  },
  {
   "cell_type": "markdown",
   "id": "5e6cb4f8",
   "metadata": {},
   "source": [
    "There are a number of ways that a rotor can be attached to the hub. \n",
    "Articulated rotor hubs are the most commonly used and the most complex and maintenance-heavy.\n",
    "\n",
    "Bearingless rotors "
   ]
  },
  {
   "cell_type": "markdown",
   "id": "f76597b8",
   "metadata": {},
   "source": [
    "- teetering\n",
    "- articulated\n",
    "- hingeless\n",
    "- bearingless"
   ]
  },
  {
   "cell_type": "code",
   "execution_count": null,
   "id": "711c5a91",
   "metadata": {},
   "outputs": [],
   "source": []
  },
  {
   "cell_type": "markdown",
   "id": "ae0e2e88",
   "metadata": {},
   "source": [
    "## Characteristic power bucket curve: its all about rate of mass flow!"
   ]
  },
  {
   "cell_type": "markdown",
   "id": "a65ba92c",
   "metadata": {},
   "source": [
    "As was mentioned earlier for hover, large mass flow through the rotor disk is key to thrust efficiency of a rotor. When a rotor is tilted for forward flight, a component of the oncoming flow velocity goes through the rotor disk. This increases the effective mass flow rate of air through the disk."
   ]
  },
  {
   "cell_type": "markdown",
   "id": "54b361a6",
   "metadata": {},
   "source": [
    "&nbsp;\n",
    "\n",
    "<center>\n",
    "    <img src=\"../../assets/power_curve.png\" class=\"large\">\n",
    "    <p  style=\"font-size:12px; color:gray; text-align:center;\">\n",
    "</center>"
   ]
  },
  {
   "cell_type": "markdown",
   "id": "00bd5d20",
   "metadata": {},
   "source": []
  },
  {
   "cell_type": "markdown",
   "id": "8aa7ea25",
   "metadata": {},
   "source": []
  },
  {
   "cell_type": "markdown",
   "id": "3528643c",
   "metadata": {},
   "source": []
  },
  {
   "cell_type": "markdown",
   "id": "7bb3d409",
   "metadata": {},
   "source": []
  },
  {
   "cell_type": "markdown",
   "id": "d4a9169a",
   "metadata": {},
   "source": []
  },
  {
   "cell_type": "markdown",
   "id": "f9ed4a0d",
   "metadata": {},
   "source": [
    "## Empennage"
   ]
  },
  {
   "cell_type": "markdown",
   "id": "74f4d5d2",
   "metadata": {},
   "source": [
    "<center>\n",
    "    <img src=\"../assets/UH60_horizontal_tail.jpeg\" class=\"medium\">\n",
    "    <p  style=\"font-size:16px; color:gray; text-align:center;\"> UH60 movable horizontal stabiliser <a href=\"https://b-domke.de/AviationImages/Blackhawk/17-6-024.html\">[source] </a></p>\n",
    "\n",
    "</center>"
   ]
  },
  {
   "cell_type": "markdown",
   "id": "6e5d6a93",
   "metadata": {},
   "source": []
  }
 ],
 "metadata": {
  "hide_input": false,
  "kernelspec": {
   "display_name": "Python 3 (ipykernel)",
   "language": "python",
   "name": "python3"
  },
  "language_info": {
   "codemirror_mode": {
    "name": "ipython",
    "version": 3
   },
   "file_extension": ".py",
   "mimetype": "text/x-python",
   "name": "python",
   "nbconvert_exporter": "python",
   "pygments_lexer": "ipython3",
   "version": "3.8.5"
  },
  "latex_envs": {
   "LaTeX_envs_menu_present": true,
   "autoclose": true,
   "autocomplete": true,
   "bibliofile": "biblio.bib",
   "cite_by": "apalike",
   "current_citInitial": 1,
   "eqLabelWithNumbers": false,
   "eqNumInitial": 1,
   "hotkeys": {
    "equation": "Ctrl-E",
    "itemize": "Ctrl-I"
   },
   "labels_anchors": false,
   "latex_user_defs": false,
   "report_style_numbering": false,
   "user_envs_cfg": false
  },
  "varInspector": {
   "cols": {
    "lenName": 16,
    "lenType": 16,
    "lenVar": 40
   },
   "kernels_config": {
    "python": {
     "delete_cmd_postfix": "",
     "delete_cmd_prefix": "del ",
     "library": "var_list.py",
     "varRefreshCmd": "print(var_dic_list())"
    },
    "r": {
     "delete_cmd_postfix": ") ",
     "delete_cmd_prefix": "rm(",
     "library": "var_list.r",
     "varRefreshCmd": "cat(var_dic_list()) "
    }
   },
   "types_to_exclude": [
    "module",
    "function",
    "builtin_function_or_method",
    "instance",
    "_Feature"
   ],
   "window_display": false
  }
 },
 "nbformat": 4,
 "nbformat_minor": 5
}
