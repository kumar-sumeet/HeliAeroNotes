{
 "cells": [
  {
   "cell_type": "markdown",
   "id": "9842e3ed",
   "metadata": {},
   "source": [
    "# Assignment"
   ]
  },
  {
   "cell_type": "code",
   "execution_count": null,
   "id": "a657e683",
   "metadata": {},
   "outputs": [],
   "source": []
  },
  {
   "cell_type": "code",
   "execution_count": null,
   "id": "c59f5c81",
   "metadata": {},
   "outputs": [],
   "source": [
    "## Caution\n",
    "\n",
    "- DO NOT PLAGIARIZE\n",
    "    - use own words\n",
    "- \n",
    "\n",
    "- usage of the dreaded FPS units"
   ]
  },
  {
   "cell_type": "markdown",
   "id": "0e1ec382",
   "metadata": {},
   "source": [
    "Any technical paper that you encounter will not, in general, contain just the information you seek. For example, papers suggested below contain details about the systems and components that are not relevant for this exercise. "
   ]
  },
  {
   "cell_type": "markdown",
   "id": "929d8bf0",
   "metadata": {},
   "source": [
    "# Suggested reading\n",
    "\n",
    "Balaram et. al., Mars Helicopter Technology Demonstrator. https://rotorcraft.arc.nasa.gov/Publications/files/Balaram_AIAA2018_0023.pdf"
   ]
  }
 ],
 "metadata": {
  "hide_input": false,
  "kernelspec": {
   "display_name": "Python 3 (ipykernel)",
   "language": "python",
   "name": "python3"
  },
  "language_info": {
   "codemirror_mode": {
    "name": "ipython",
    "version": 3
   },
   "file_extension": ".py",
   "mimetype": "text/x-python",
   "name": "python",
   "nbconvert_exporter": "python",
   "pygments_lexer": "ipython3",
   "version": "3.8.5"
  },
  "varInspector": {
   "cols": {
    "lenName": 16,
    "lenType": 16,
    "lenVar": 40
   },
   "kernels_config": {
    "python": {
     "delete_cmd_postfix": "",
     "delete_cmd_prefix": "del ",
     "library": "var_list.py",
     "varRefreshCmd": "print(var_dic_list())"
    },
    "r": {
     "delete_cmd_postfix": ") ",
     "delete_cmd_prefix": "rm(",
     "library": "var_list.r",
     "varRefreshCmd": "cat(var_dic_list()) "
    }
   },
   "types_to_exclude": [
    "module",
    "function",
    "builtin_function_or_method",
    "instance",
    "_Feature"
   ],
   "window_display": false
  }
 },
 "nbformat": 4,
 "nbformat_minor": 5
}
