{
 "cells": [
  {
   "cell_type": "markdown",
   "id": "a5a73515",
   "metadata": {
    "slideshow": {
     "slide_type": "slide"
    }
   },
   "source": [
    "# Aerodynamics in forward flight"
   ]
  },
  {
   "cell_type": "markdown",
   "id": "449c23a3",
   "metadata": {
    "slideshow": {
     "slide_type": "-"
    }
   },
   "source": [
    "```{epigraph}\n",
    "\"The problem of the rotor in steady forward flight is the problem of defining the magnitude and direction of airflow encountered by each blade element\"\n",
    "\n",
    "-- Alfred Gessow (Aerodynamics of the Helicopter)  \n",
    "```"
   ]
  },
  {
   "cell_type": "markdown",
   "id": "85810f57",
   "metadata": {
    "slideshow": {
     "slide_type": "skip"
    }
   },
   "source": [
    "On a conventional helicopter, the rotor is the sole entity responsible for generating thrust to counter the weight as well as the fuselage drag. While this characteristic itself leads to interesting aerodynamics and rotor performance attributes, there are a ton of pecularities arising just from edgewise rotor flight."
   ]
  },
  {
   "cell_type": "markdown",
   "id": "841d63cf",
   "metadata": {
    "slideshow": {
     "slide_type": "slide"
    }
   },
   "source": [
    "<center>\n",
    "    <img src=\"../../assets/forces.png\" class=\"medium\">\n",
    "    <p style=\"font-size:12px; color:gray; text-align:center;\" > UH-60A Helicopter <a href=\"https://en.wikipedia.org/wiki/Sikorsky_UH-60_Black_Hawk#/media/File:Jordanian_Air_Force_UH-60_Black_Hawk_helicopter_(cropped).jpg\"> [source]</a></p>\n",
    "</center>"
   ]
  },
  {
   "cell_type": "markdown",
   "id": "449626b7",
   "metadata": {
    "slideshow": {
     "slide_type": "slide"
    }
   },
   "source": [
    "## Fixed-wing wake vs Rotary-wing wake"
   ]
  },
  {
   "cell_type": "markdown",
   "id": "91c1db1b",
   "metadata": {
    "slideshow": {
     "slide_type": "-"
    }
   },
   "source": [
    "<div class=\"image-grid2\">\n",
    "    <img  src=\"../../assets/C17Vortex.jpeg\" class=\"medium\"/>\n",
    "    <img  src=\"../../assets/FA18CVortex.jpeg\" class=\"medium\"/>\n",
    "   \n",
    "</div>\n",
    "\n",
    "<div class=\"image-grid2\">\n",
    "  <p > C17 Vortex <a href=\"https://en.wikipedia.org/wiki/Wingtip_vortices#/media/File:C17-Vortex.JPG\"> [source]</a>\n",
    "  </p>   \n",
    "  <p > FA18C Vortex <a href=\"https://en.wikipedia.org/wiki/Wingtip_vortices#/media/File:FA-18C_vapor_LEX_and_wingtip_1.jpg\"> [source]</a>\n",
    "  </p> \n",
    "</div>"
   ]
  },
  {
   "cell_type": "markdown",
   "id": "defb3025",
   "metadata": {
    "slideshow": {
     "slide_type": "subslide"
    }
   },
   "source": [
    "<div style=\"float:right; width:40%;\" >\n",
    "    <img src=\"../../assets/B0_fig9_1.png\" class=\"big\" />\n",
    "    <p style=\"text-align:center; color:gray; font-size:16px;\"> Rotor tip vortex trajectories at difference advance ratios <a href=\"https://www.cambridge.org/core/books/rotorcraft-aeromechanics/6DE729BB2AFED9F94E59823086568C1E\"> [source]</a></p>\n",
    "</div>\n",
    "\n",
    "- Note the changing wake pattern with $\\mu$\n",
    "- $v_i$ due to vortex-induced velocity \n",
    "    - Biot-Savart law\n",
    "- high $v_i$ with tightly spaced rings in hover\n",
    "- low $v_i$ when rotor quickly moves away \n",
    "    - fast forward flight \n",
    "    - rotor in climb \n",
    "- vortex-based methods for better accuracy\n",
    "    - free-wake\n",
    "    - particle-based methods\n",
    "    "
   ]
  },
  {
   "cell_type": "markdown",
   "id": "d0ebbc8f",
   "metadata": {},
   "source": [
    "&nbsp\n",
    "&nbsp\n",
    "\n",
    "<center>\n",
    "    <img src=\"../../assets/4blade_02.gif\" class=\"medium\">\n",
    "    <p style=\"text-align:center; color:gray; font-size:16px;\"> Free-wake simulation of a 4 bladed rotor in forward flight </p>\n",
    "\n",
    "</center>"
   ]
  },
  {
   "cell_type": "markdown",
   "id": "49fbeca9",
   "metadata": {
    "slideshow": {
     "slide_type": "slide"
    }
   },
   "source": [
    "## Induced power"
   ]
  },
  {
   "cell_type": "markdown",
   "id": "6c31c3fb",
   "metadata": {
    "slideshow": {
     "slide_type": "skip"
    }
   },
   "source": [
    "The following result is to be assumed as agiven. It can be derived using the same principles that the expression for hover and climb cases were obtained, and is again based on the uniform inflow velocity assumption. "
   ]
  },
  {
   "cell_type": "markdown",
   "id": "7938f14e",
   "metadata": {
    "slideshow": {
     "slide_type": "skip"
    }
   },
   "source": [
    "$$v_i = \\frac{T}{2\\rho A U}$$"
   ]
  },
  {
   "cell_type": "markdown",
   "id": "efd64282",
   "metadata": {
    "slideshow": {
     "slide_type": "skip"
    }
   },
   "source": [
    "where $U = \\left | \\bar{V_{\\infty}} + \\bar{v_i} \\right |$ is the vector sum of the oncoming flow velocity and the induced flow velocity. This result is consistent with the expressions obtained for hover and axial flight in that it reduces to the corresponding expressions when appropriate substitutions are made for U. \n",
    "\n",
    "In the case of fast forward flight, $V_{\\infty}>>v_i$ and therefore the induced velocity is alternately stated as follows-"
   ]
  },
  {
   "cell_type": "markdown",
   "id": "2b704164",
   "metadata": {
    "slideshow": {
     "slide_type": "-"
    }
   },
   "source": [
    "$$v_i = \\frac{T}{2\\rho A U} \\approx \\frac{T}{2\\rho A V_{\\infty}}$$"
   ]
  },
  {
   "cell_type": "markdown",
   "id": "dbdcd24c",
   "metadata": {
    "slideshow": {
     "slide_type": "subslide"
    }
   },
   "source": [
    "### Hover"
   ]
  },
  {
   "cell_type": "markdown",
   "id": "37220f07",
   "metadata": {
    "slideshow": {
     "slide_type": "-"
    }
   },
   "source": [
    "<div style=\"float:right; width:43%;\" >\n",
    "    <img src=\"../../assets/HT_glauert_hover.png\" class=\"big\" />\n",
    "    <p style=\"font-size:16px; color:gray; text-align:center;\" > Hover <a href=\"\"> </a></p>\n",
    "</div>\n",
    "\n",
    "\\begin{equation}\n",
    "\\begin{aligned}\n",
    "v_{i} &=\\frac{T}{2 \\rho A U} \\\\\n",
    "&=\\frac{T}{2 \\rho A \\sqrt{\\left(V_{\\infty} \\cos \\alpha\\right)^{2}+\\left(-V_{\\infty} \\sin \\alpha+v_{i}\\right)^{2}}} \\\\\n",
    "&=\\frac{T}{2 \\rho A \\sqrt{V_{\\infty}^{2} \\cos ^{2} \\alpha+V_{\\infty}^{2} \\sin ^{2} \\alpha-2 V_{\\infty} \\sin \\alpha v_{i}+v_{i}^{2}}} \\\\\n",
    "&=\\frac{T}{2 \\rho A \\sqrt{V_{\\infty}^{2}-2 V_{\\infty} \\sin \\alpha v_{i}+v_{i}^{2}}} \\\\\n",
    "&=\\frac{T}{2 \\rho A \\sqrt{v_{i}^{2}}} \\\\\n",
    "&=\\frac{T}{2 \\rho A v_{i}} \\\\\n",
    "v_{i}^{2} &=\\frac{T}{2 \\rho A} \\\\\n",
    "v_{i} &=\\sqrt{\\frac{T}{2 \\rho A}}\n",
    "\\end{aligned}\n",
    "\\end{equation}"
   ]
  },
  {
   "cell_type": "markdown",
   "id": "beb4adea",
   "metadata": {
    "slideshow": {
     "slide_type": "subslide"
    }
   },
   "source": [
    "### Vertical climb"
   ]
  },
  {
   "cell_type": "markdown",
   "id": "7b64d1c6",
   "metadata": {
    "slideshow": {
     "slide_type": "-"
    }
   },
   "source": [
    "<div style=\"float:right; width:43%;\" >\n",
    "    <img src=\"../../assets/HT_glauert_climb.png\" class=\"big\" />\n",
    "    <p style=\"font-size:16px; color:gray; text-align:center;\" > Vertical climb <a href=\"\"> </a></p>\n",
    "</div>\n",
    "\n",
    "\\begin{equation}\n",
    "\\begin{aligned}\n",
    "v_{i} &=\\frac{T}{2 \\rho A \\sqrt{V_{\\infty}^{2}-2 V_{\\infty} \\sin \\alpha v_{i}+v_{i}^{2}}} \\\\\n",
    "&=\\frac{T}{2 \\rho A \\sqrt{V_{\\infty}^{2}+2 V_{\\infty} v_{i}+v_{i}^{2}}} \\\\\n",
    "&=\\frac{T}{2 \\rho A\\left(V_{\\infty}+v_{i}\\right)} \\\\\n",
    "&=-\\frac{V_{\\infty}}{2}+\\sqrt{\\frac{T}{2 \\rho A}+\\frac{V_{\\infty}^{2}}{4}} \\\\\n",
    "&=-\\frac{V_{\\infty}}{2}+\\sqrt{v_{h}^{2}+\\frac{V_{\\infty}^{2}}{4}}\n",
    "\\end{aligned}\n",
    "\\end{equation}"
   ]
  },
  {
   "cell_type": "markdown",
   "id": "f33d8afe",
   "metadata": {
    "slideshow": {
     "slide_type": "subslide"
    }
   },
   "source": [
    "### Low forward speed "
   ]
  },
  {
   "cell_type": "markdown",
   "id": "90e7ecf9",
   "metadata": {
    "slideshow": {
     "slide_type": "-"
    }
   },
   "source": [
    "<div style=\"float:right; width:43%;\" >\n",
    "    <img src=\"../../assets/HT_glauert_low_speed.png\" class=\"big\" />\n",
    "    <p style=\"font-size:16px; color:gray; text-align:center;\" > Low speed forward flight <a href=\"\"> </a></p>\n",
    "</div>\n",
    "\n",
    "\\begin{equation}\n",
    "\\begin{aligned}\n",
    "v_{i} &=\\frac{T}{2 \\rho A \\sqrt{V_{\\infty}^{2}-2 V_{\\infty} \\sin \\alpha v_{i}+v_{i}^{2}}} \\\\\n",
    "& \\approx \\frac{T}{2 \\rho A \\sqrt{V_{\\infty}^{2}+v_{i}^{2}}} \\\\\n",
    "\\Rightarrow v_i &=\\sqrt{-\\frac{V_{\\infty}^{2}}{2}+\\sqrt{\\left(\\frac{T}{2 \\rho A}\\right)^{2}+\\frac{V_{\\infty}^{4}}{4}}} \\\\\n",
    "&=\\sqrt{-\\frac{V_{\\infty}^{2}}{2}+\\sqrt{v_{h}^{4}+\\frac{V_{\\infty}^{4}}{4}}}\n",
    "\\end{aligned}\n",
    "\\end{equation}"
   ]
  },
  {
   "cell_type": "markdown",
   "id": "992ed740",
   "metadata": {
    "slideshow": {
     "slide_type": "subslide"
    }
   },
   "source": [
    "### High forward speed"
   ]
  },
  {
   "cell_type": "markdown",
   "id": "86febd04",
   "metadata": {
    "slideshow": {
     "slide_type": "-"
    }
   },
   "source": [
    "<div style=\"float:right; width:43%;\" >\n",
    "    <img src=\"../../assets/HT_glauert_fast.png\" class=\"big\" />\n",
    "    <p style=\"font-size:16px; color:gray; text-align:center;\" > High speed forward flight <a href=\"\"> </a></p>\n",
    "</div>\n",
    "\n",
    "\n",
    "\\begin{equation}\n",
    "\\begin{aligned}\n",
    "v_{i} &=\\frac{T}{2 \\rho A \\sqrt{V_{\\infty}^{2}-2 V_{\\infty} \\sin \\alpha v_{i}+v_{i}^{2}}} \\\\\n",
    "& \\approx \\frac{T}{2 \\rho A \\sqrt{V_{\\infty}^{2}}} \\\\\n",
    "&=\\frac{T}{2 \\rho A V_{\\infty}}\n",
    "\\end{aligned}\n",
    "\\end{equation}"
   ]
  },
  {
   "cell_type": "markdown",
   "id": "99865a87",
   "metadata": {
    "slideshow": {
     "slide_type": "skip"
    }
   },
   "source": [
    "The inflow variation with forward speed can then be obtained by *stitching-up* the results in the different domains. Once the induced velocity is known, the induced power can be simply obtained as $Tv_i$. As was mentioned earlier for hover, large mass flow through the rotor disk is key to thrust efficiency of a rotor. When a rotor is tilted for forward flight, a component of the oncoming flow velocity goes through the rotor disk. This increases the effective mass flow rate of air through the disk and leads to the reduction in $v_i$ obtained."
   ]
  },
  {
   "cell_type": "markdown",
   "id": "913abebe",
   "metadata": {
    "slideshow": {
     "slide_type": "subslide"
    }
   },
   "source": [
    "<center>\n",
    "    <img src=\"../../assets/HT_inflow_v_mu.png\" class=\"big\">\n",
    "    <p style=\"font-size:16px; color:gray; text-align:center;\"> Rotor inflow versus forward flight speed  <a href=\"\"> </a></p>\n",
    "</center>"
   ]
  },
  {
   "cell_type": "markdown",
   "id": "b650e3db",
   "metadata": {
    "slideshow": {
     "slide_type": "slide"
    }
   },
   "source": [
    "## Aside: rotor aerodynamics in descent flight"
   ]
  },
  {
   "cell_type": "markdown",
   "id": "68e85342",
   "metadata": {
    "slideshow": {
     "slide_type": "skip"
    }
   },
   "source": [
    "Descent flight in rotorcraft is usually undertaken at very low speeds. Fast descent speeds can lead to large flow recirculation and turbulence in the flow, leading to high vibrations and loss of control. There are three distinct states that exist during descent flight of a rotor - "
   ]
  },
  {
   "cell_type": "markdown",
   "id": "fbe278e8",
   "metadata": {},
   "source": [
    "Vortex ring state \n",
    "- $V<0$ but $V+v_i>0$"
   ]
  },
  {
   "cell_type": "markdown",
   "id": "00d59eea",
   "metadata": {},
   "source": [
    "Turbulent wake state\n",
    "- $V<0$ and $V+v_i<0$, but $V+2v_i>0$"
   ]
  },
  {
   "cell_type": "markdown",
   "id": "67b9aed4",
   "metadata": {},
   "source": [
    "Windmill brake state\n",
    "- $V<0$, $V+v_i<0$, $V+2v_i<0$"
   ]
  },
  {
   "cell_type": "markdown",
   "id": "4f574320",
   "metadata": {
    "slideshow": {
     "slide_type": "-"
    }
   },
   "source": [
    "<center>\n",
    "    <img src=\"../../assets/B0_fig4_3.png\" class=\"big\">\n",
    "    <p style=\"font-size:16px; color:gray; text-align:center;\"> Rotor descent flight states  <a href=\"https://www.cambridge.org/core/books/rotorcraft-aeromechanics/6DE729BB2AFED9F94E59823086568C1E\"> [source]</a></p>\n",
    "</center>"
   ]
  },
  {
   "cell_type": "code",
   "execution_count": 6,
   "id": "c39826d7",
   "metadata": {},
   "outputs": [
    {
     "data": {
      "image/jpeg": "[encoded data removed]",
      "text/html": [
       "\n",
       "        <iframe\n",
       "            width=\"700\"\n",
       "            height=\"400\"\n",
       "            src=\"https://www.youtube.com/embed/HjeRSDsy-nE?start=133\"\n",
       "            frameborder=\"0\"\n",
       "            allowfullscreen\n",
       "            \n",
       "        ></iframe>\n",
       "        "
      ],
      "text/plain": [
       "<IPython.lib.display.YouTubeVideo at 0x7f8220882d30>"
      ]
     },
     "execution_count": 6,
     "metadata": {},
     "output_type": "execute_result"
    }
   ],
   "source": [
    "from IPython.display import YouTubeVideo\n",
    "YouTubeVideo('HjeRSDsy-nE', width=700, height=400,start=133)"
   ]
  },
  {
   "cell_type": "code",
   "execution_count": 7,
   "id": "5fc3cba4",
   "metadata": {},
   "outputs": [
    {
     "data": {
      "image/jpeg": "[encoded data removed]",
      "text/html": [
       "\n",
       "        <iframe\n",
       "            width=\"700\"\n",
       "            height=\"400\"\n",
       "            src=\"https://www.youtube.com/embed/05_WFvh9ISk\"\n",
       "            frameborder=\"0\"\n",
       "            allowfullscreen\n",
       "            \n",
       "        ></iframe>\n",
       "        "
      ],
      "text/plain": [
       "<IPython.lib.display.YouTubeVideo at 0x7f822038efa0>"
      ]
     },
     "execution_count": 7,
     "metadata": {},
     "output_type": "execute_result"
    }
   ],
   "source": [
    "from IPython.display import YouTubeVideo\n",
    "YouTubeVideo('05_WFvh9ISk', width=700, height=400)"
   ]
  },
  {
   "cell_type": "markdown",
   "id": "1f38c745",
   "metadata": {},
   "source": [
    "The following show induced velocity of the rotor as a function of climb velcity (negative climb velocity denotes a descent flight state). While not explicitly derived as part of the lectures, the inflow velocity during the windmill brake state can be derived using momentum theory along the lines of the derivation for the normal working state. The variation would then be as denoted by the solid lines. However, if the results were simply extended (denoted using dashed lines) to regions that we now understand to be the turbulent wake state or the vortex ring state, the results would not match with that observed in reality (solid lines). This is because the flow is highly turbulent in these scenarios and the simple momentum theory does not capture that and incurs an error. An alternate way of presenting the same results is by plotting the total inflow velocity on the y-axis. When experimental measurements are laid on this figure, notwithstanding the scatter in the measurements, they largely follow the trend of the solid lines. \n",
    "\n",
    "**It is worth noting that the experimental results are not based on a measured induced velocity in wind tunnel setup, rather the total power consumption of the rotor was measured and simple momentum theory-like relations were assumed to arrive at the corresponding uniform induced inflow velocity. This is why the second plot of total inflow versus climb velocity is used because the total power measured in experiments can be directly used to obtain the net inflow.** \n",
    "\n",
    "Note that convention followed here is such that $v$ is used to represent inflow velocity $v_i$, $V$ is used to denote climb velocity $V_c$, and $v_h$ refers to the induced velocity at hover."
   ]
  },
  {
   "cell_type": "markdown",
   "id": "b47360b2",
   "metadata": {},
   "source": [
    "<div class=\"image-grid\">\n",
    "    <img  src=\"../../assets/B0_fig4_4.png\" class=\"medium\"/>\n",
    "    <img  src=\"../../assets/B0_fig4_5.png\" class=\"medium\"/>\n",
    "    <img  src=\"../../assets/B0_fig4_6.png\" class=\"medium\"/>\n",
    "</div>\n",
    "\n",
    "<div class=\"image-grid\">\n",
    "    <p style=\"font-size:16px; color:gray; text-align:center;\"  > Rotor induced velocity during axial flight states  <a href=\"https://www.cambridge.org/core/books/rotorcraft-aeromechanics/6DE729BB2AFED9F94E59823086568C1E\"> [source]</a></p>\n",
    "    <p style=\"font-size:16px; color:gray; text-align:center;\"  >  Net rotor inflow during axial flight states  <a href=\"https://www.cambridge.org/core/books/rotorcraft-aeromechanics/6DE729BB2AFED9F94E59823086568C1E\"> [source]</a></p>\n",
    "    <p style=\"font-size:16px; color:gray; text-align:center;\"  > Inflow results based on experimental measurement of different rotors <a href=\"https://www.cambridge.org/core/books/rotorcraft-aeromechanics/6DE729BB2AFED9F94E59823086568C1E\"> [source]</a></p>\n",
    "</div>\n"
   ]
  },
  {
   "cell_type": "markdown",
   "id": "1eaef30f",
   "metadata": {},
   "source": [
    "(content:5_FF_T_La:labels)=\n",
    "## Rotor aerodynamics assymetry: forward flight"
   ]
  },
  {
   "cell_type": "markdown",
   "id": "acba39cb",
   "metadata": {},
   "source": []
  },
  {
   "cell_type": "markdown",
   "id": "dfaf51ea",
   "metadata": {},
   "source": [
    "<center>\n",
    "    <img src=\"../../assets/HT_hover_forward.png\" class=\"medium\">\n",
    "    <p style=\"font-size:16px; color:gray; text-align:center;\"  > Tangential velocity distribution in hover versus forward flight (at &psi =90°) </p>\n",
    "</center>"
   ]
  },
  {
   "cell_type": "markdown",
   "id": "25e024be",
   "metadata": {},
   "source": [
    "## Reverse flow"
   ]
  },
  {
   "cell_type": "markdown",
   "id": "93b4359c",
   "metadata": {},
   "source": []
  },
  {
   "cell_type": "markdown",
   "id": "8560a320",
   "metadata": {},
   "source": [
    "<center>\n",
    "    <img src=\"../../assets/HT_reverse_flow.png\" class=\"big\">\n",
    "    <p  style=\"font-size:12px; color:gray; text-align:center;\"> Reverse flow region during forward flight </p>\n",
    "</center>"
   ]
  },
  {
   "cell_type": "markdown",
   "id": "1a8cd571",
   "metadata": {},
   "source": [
    "## Profile power"
   ]
  },
  {
   "cell_type": "markdown",
   "id": "183e1945",
   "metadata": {},
   "source": []
  },
  {
   "cell_type": "markdown",
   "id": "db801cf0",
   "metadata": {},
   "source": [
    "<div style=\"float:right; width:43%;\" >\n",
    "    <img src=\"../../assets/HT_profile_power.png\" class=\"big\" />\n",
    "    <p style=\"font-size:16px; color:gray; text-align:center;\" > Rotor in forward flight <a href=\"\"> </a></p>\n",
    "</div>"
   ]
  },
  {
   "cell_type": "markdown",
   "id": "998387ef",
   "metadata": {},
   "source": []
  },
  {
   "cell_type": "markdown",
   "id": "33c8bedb",
   "metadata": {},
   "source": []
  },
  {
   "cell_type": "markdown",
   "id": "aa464bf6",
   "metadata": {},
   "source": []
  },
  {
   "cell_type": "markdown",
   "id": "c8fbc9cc",
   "metadata": {},
   "source": [
    "## Power bucket curve"
   ]
  },
  {
   "cell_type": "markdown",
   "id": "077df2fe",
   "metadata": {},
   "source": [
    "The consumed power breakdown of the entire helicopter is shown below. The power required by the tail rotor $P_{TR}$ which can be fairly approximated as a fixed percentage (about 10%) of the total power required by the main rotor [^TailRotor]. $P_a$ here refers to accesories power for onboard equipment and $P_{tl}$ refers to additional power required to overcome transmission losses. These three power components are small in comparision of the main rotor power $P_i+P_0$ and the helicopter parasite power $P_p$. The characteristic 'bucket' curve is a byproduct of the interplay between the latter 3 power components.\n",
    "\n",
    "[^TailRotor]: Alternately, the tail rotor power can be also obtained from first principles using BET or momentum theory. "
   ]
  },
  {
   "cell_type": "markdown",
   "id": "6fdaafc8",
   "metadata": {},
   "source": [
    "<center>\n",
    "    <img src=\"../../assets/power_curve.png\" class=\"large\">\n",
    "    <p  style=\"font-size:16px; color:gray; text-align:center;\">Total helicopter power consumption versus forward speed </p>\n",
    "</center>"
   ]
  },
  {
   "cell_type": "markdown",
   "id": "31b10859",
   "metadata": {
    "slideshow": {
     "slide_type": "slide"
    }
   },
   "source": [
    "## Airfoil Characteristics"
   ]
  },
  {
   "cell_type": "markdown",
   "id": "e8e4532c",
   "metadata": {
    "slideshow": {
     "slide_type": "skip"
    }
   },
   "source": [
    "The rotor performance is an accumulated effect of the blade section (airfoil) aerodynamics over one rotor revolution. So the natural question arises, what kind of airfoil performance characteristics ($C_L$, $C_D$, $C_M$) are desirable for rotorcraft applications? The answer is not immediately obvious because, unlike their fixed-wing counterparts, helicopter blades experience varying oncoming flow velocities and different operating angles of attack over one revolution. Nevertheless, certain broad trends exist."
   ]
  },
  {
   "cell_type": "markdown",
   "id": "8ad4818f",
   "metadata": {
    "slideshow": {
     "slide_type": "-"
    }
   },
   "source": [
    "- balance advancing side and retreating aerodynamics\n",
    "    - low drag-divergence Mach number on advancing side (thin airfoils)\n",
    "    - high $C_{l_{max}}$ on retreating side (thick, cambered airfoils)\n",
    "- thin airfoils outboard, and thick, cambered airfoils inboard\n",
    "- good erodynamic efficiency\n",
    "    - high $\\frac{C_L}{C_D}$\n",
    "- low $C_M$"
   ]
  },
  {
   "cell_type": "markdown",
   "id": "b5c5bcbf",
   "metadata": {},
   "source": [
    "Early helicopters had symmetric airfoils (for e.g. NACA0012 airfoil on UH1). "
   ]
  },
  {
   "cell_type": "markdown",
   "id": "16ef2a8c",
   "metadata": {},
   "source": [
    "Low $C_M$ is a highly desirable attribute because airfoil $C_M$ can easily result in high blade twist. This leads to high pitch-link loads which in turn causes the need for larger/more powerful actuators to control blade pitch. High pitch-link loads also lead to higher vibration.  "
   ]
  },
  {
   "cell_type": "markdown",
   "id": "53446ec6",
   "metadata": {},
   "source": [
    "Airfoil section exhibit $C_M$=0 or nearly zero only for a limited range of *normal* operating conditions. In extreme rotor operating conditions, when the blade section undergoes compressibility effects (high speed) or stall (high loading), the airfoil is operating outside its *normal* operating conditions and will likely exhibit high negative $C_M$. This is why high speed flight and "
   ]
  },
  {
   "cell_type": "markdown",
   "id": "ad233b3c",
   "metadata": {},
   "source": [
    "Boeing AH-64 Apache initially had *straight* blade tips. This resulted in large "
   ]
  },
  {
   "cell_type": "markdown",
   "id": "09f788b0",
   "metadata": {},
   "source": [
    "## Choosing rotor airfoils"
   ]
  },
  {
   "cell_type": "markdown",
   "id": "ced9cfd6",
   "metadata": {},
   "source": [
    "The rotor blade experiences a highly variable aerodynamics environment as it undegoes one revolution. Identifying the most suitable airfoil is made difficult as a consequence. In addition, the unsteady aerodynamics behavior of the airfoil also becomes relevant (as would be discussed later). Understandably, the choice of airfoil section is much more complicated in comparison to a fixed-wing aircraft where the airfoil can simply be optimised for cruise speed. The oncoming flow velocity is then fixed and the angle of attack of the airfoil sections on an operational wing do not vary much (low speed performance for landing and take-off is taken care of using flaps and slats). In contrast, at a given cruise speed the rotor blade section sees harmonically varying oncoming flow velocity while undergoing pitching and additional motion due to blade elastic deformation."
   ]
  },
  {
   "cell_type": "code",
   "execution_count": 2,
   "id": "f94dfa51",
   "metadata": {},
   "outputs": [
    {
     "data": {
      "image/jpeg": "[encoded data removed]",
      "text/html": [
       "\n",
       "        <iframe\n",
       "            width=\"400\"\n",
       "            height=\"300\"\n",
       "            src=\"https://www.youtube.com/embed/Ug6W7_tafnc\"\n",
       "            frameborder=\"0\"\n",
       "            allowfullscreen\n",
       "            \n",
       "        ></iframe>\n",
       "        "
      ],
      "text/plain": [
       "<IPython.lib.display.YouTubeVideo at 0x7f821e8a0790>"
      ]
     },
     "execution_count": 2,
     "metadata": {},
     "output_type": "execute_result"
    }
   ],
   "source": [
    "from IPython.display import YouTubeVideo\n",
    "YouTubeVideo('Ug6W7_tafnc')#, width=500, height=00)"
   ]
  },
  {
   "cell_type": "markdown",
   "id": "3717d9e1",
   "metadata": {},
   "source": [
    "- low control loads due to blade twist\n",
    "    - low $C_m$\n",
    "\n",
    "- generate sufficient lift on retreating side\n",
    "    - high $C_{Lmax}$ at low to moderate Mach numbers\n",
    "    \n",
    "- no shocks or high drag at advancing blade tips\n",
    "    - high critical Mach number\n",
    "\n",
    "- no undesirable unsteady aerodynamic behavior\n",
    "    - no (unusually bad) dynamic stall characteristics"
   ]
  },
  {
   "cell_type": "markdown",
   "id": "d589cede",
   "metadata": {},
   "source": [
    "It is difficult for one airfoil to be the best in terms of each of the aforementioned performance criteria.\n",
    "\n",
    "Early helicopter designs had symmetric airfoil since they have zero pitching moment...."
   ]
  },
  {
   "cell_type": "markdown",
   "id": "e1dcbeaa",
   "metadata": {},
   "source": [
    "<center>\n",
    "    <img src=\"../../assets/UH1_airfoil.jpeg\" class=\"medium\">\n",
    "    <p style=\"font-size:16px; color:gray; text-align:center;\"> NACA0012 airfoil profile of UH-1 Huey <a href=\"https://www.pagunblog.com/2011/05/29/lucky-gunner-shoot-day-one-photos/img_0505/\"> [source]</a></p>\n",
    "</center>\n"
   ]
  },
  {
   "cell_type": "markdown",
   "id": "1b1f8c5a",
   "metadata": {},
   "source": [
    "# Airfoil performance vs Rotor performance"
   ]
  },
  {
   "cell_type": "markdown",
   "id": "c9edba42",
   "metadata": {},
   "source": [
    "<center>\n",
    "    <img src=\"../../screenshots/3_/P32_1.png\" class=\"medium\">\n",
    "    <p style=\"font-size:12px; color:gray; text-align:center;\"> P32 <a href=\"\"> [source]</a></p>\n",
    "\n",
    "</center>\n",
    "\n",
    "\n",
    "**CAPTION and SOURCE needed**"
   ]
  },
  {
   "cell_type": "code",
   "execution_count": null,
   "id": "c5830a59",
   "metadata": {},
   "outputs": [],
   "source": []
  },
  {
   "cell_type": "markdown",
   "id": "3b46c4b4",
   "metadata": {},
   "source": [
    "## Rotor performance limitations"
   ]
  },
  {
   "cell_type": "markdown",
   "id": "9fc9b318",
   "metadata": {},
   "source": [
    "In hover, the limit to how much thrust a rotor can generate, vis-à-vis the MTOW capability, is related to just the maximum lift coefficient $C_L_{max}$ that the blade airfoil section can sustain. There is no single corresponding parameter for the limitation in forward flight condition. "
   ]
  },
  {
   "cell_type": "markdown",
   "id": "2a662ad9",
   "metadata": {},
   "source": [
    "### Advancing blade tip - high Mach number "
   ]
  },
  {
   "cell_type": "markdown",
   "id": "5b0e52ef",
   "metadata": {},
   "source": [
    "- shock at advancing blade tip \n",
    "    - cause high blade pitching moments (vibration)\n",
    "    - leads to high drag"
   ]
  },
  {
   "cell_type": "markdown",
   "id": "cfb54bd9",
   "metadata": {},
   "source": [
    "### Rotor lifting ability with advance ratio"
   ]
  },
  {
   "cell_type": "markdown",
   "id": "d55ad4e0",
   "metadata": {},
   "source": [
    "- maximum possible blade loading decreases with $\\mu$\n",
    "-"
   ]
  },
  {
   "cell_type": "markdown",
   "id": "179e3f41",
   "metadata": {},
   "source": [
    "<div class=\"image-grid3\">\n",
    "    <img  src=\"../../assets/contour_Fz.png\" class=\"medium\"/>\n",
    "    <img  src=\"../../assets/contour_Fz.png\" class=\"medium\"/>\n",
    "    <img  src=\"../../assets/contour_Fz.png\" class=\"medium\"/>\n",
    "</div>\n",
    "\n",
    "<div class=\"image-grid3\">\n",
    "  <p style=\"text-align:center; color:gray; font-size:16px;\"> Angle of attack  </p>\n",
    "  <p style=\"text-align:center; color:gray; font-size:16px;\"> Induced velocity  </p>\n",
    "  <p style=\"text-align:center; color:gray; font-size:16px;\"> Normal force </p>\n",
    "</div>\n",
    "\n",
    "- Negative lift $\\psi = 90°$\n",
    "- "
   ]
  },
  {
   "cell_type": "markdown",
   "id": "3de59e09",
   "metadata": {},
   "source": []
  }
 ],
 "metadata": {
  "celltoolbar": "Slideshow",
  "hide_input": false,
  "kernelspec": {
   "display_name": "Python 3 (ipykernel)",
   "language": "python",
   "name": "python3"
  },
  "language_info": {
   "codemirror_mode": {
    "name": "ipython",
    "version": 3
   },
   "file_extension": ".py",
   "mimetype": "text/x-python",
   "name": "python",
   "nbconvert_exporter": "python",
   "pygments_lexer": "ipython3",
   "version": "3.8.5"
  },
  "latex_envs": {
   "LaTeX_envs_menu_present": true,
   "autoclose": true,
   "autocomplete": true,
   "bibliofile": "biblio.bib",
   "cite_by": "apalike",
   "current_citInitial": 1,
   "eqLabelWithNumbers": false,
   "eqNumInitial": 1,
   "hotkeys": {
    "equation": "Ctrl-E",
    "itemize": "Ctrl-I"
   },
   "labels_anchors": false,
   "latex_user_defs": false,
   "report_style_numbering": false,
   "user_envs_cfg": false
  },
  "rise": {
   "autolaunch": false,
   "backimage": "../../assets/tum_bg_top_right.png",
   "enable_chalkboard": true,
   "footer": "Sumeet Kumar, PhD candidate",
   "scroll": true
  },
  "varInspector": {
   "cols": {
    "lenName": 16,
    "lenType": 16,
    "lenVar": 40
   },
   "kernels_config": {
    "python": {
     "delete_cmd_postfix": "",
     "delete_cmd_prefix": "del ",
     "library": "var_list.py",
     "varRefreshCmd": "print(var_dic_list())"
    },
    "r": {
     "delete_cmd_postfix": ") ",
     "delete_cmd_prefix": "rm(",
     "library": "var_list.r",
     "varRefreshCmd": "cat(var_dic_list()) "
    }
   },
   "types_to_exclude": [
    "module",
    "function",
    "builtin_function_or_method",
    "instance",
    "_Feature"
   ],
   "window_display": false
  }
 },
 "nbformat": 4,
 "nbformat_minor": 5
}
