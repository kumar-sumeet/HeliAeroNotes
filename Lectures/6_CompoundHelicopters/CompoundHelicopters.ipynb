{
 "cells": [
  {
   "cell_type": "markdown",
   "id": "fb02b06d",
   "metadata": {},
   "source": [
    "# Compound Helicopters"
   ]
  },
  {
   "cell_type": "markdown",
   "id": "a3db084e",
   "metadata": {},
   "source": [
    "```{epigraph}\n",
    "\"Largely through a quirk of history, the compound has been neglected for over three decades...A rational case can be made that the compound is the preferred rotorcraft for intermediate-speed missions and that it can be a worthy complement to the helicopter and tiltrotor. \"\n",
    "```\n",
    "\n",
    "<p style=\"text-align:right\" > <a href=\"https://www.cambridge.org/core/journals/aeronautical-journal/article/revitalising-advanced-rotorcraft-research-and-the-compound-helicopter/7884D8B377B406EEF885BB1E4C1EA943\"> R. A. Ormiston</a> </p>\n"
   ]
  },
  {
   "cell_type": "markdown",
   "id": "abea5fa5",
   "metadata": {},
   "source": [
    "Helicopter performance at high-speed and its inability to ... leave helicopters wanting. Compound helicopters arose in order to address those limitations."
   ]
  },
  {
   "cell_type": "markdown",
   "id": "ae062e33",
   "metadata": {},
   "source": [
    "Helicopters rotors aren't very efficient lifting devices in high speeds. Fixed-wing aircraft don't seem to have that problem. So, it is only natural to fix them on a helicopter as a remedy. This is referred to as lift compounding. "
   ]
  },
  {
   "cell_type": "markdown",
   "id": "295b970f",
   "metadata": {},
   "source": [
    "## Lift compound"
   ]
  },
  {
   "cell_type": "markdown",
   "id": "c3aaff69",
   "metadata": {},
   "source": [
    "### S-67 (the original 'Blackhawk')\n",
    "\n",
    "(source) - https://verticalmag.com/features/the-original-blackhawk-the-sikorsky-s-67/\n",
    "- Sleek fuselage with tandem seating of pilots\n",
    "    - Wings with speed brakes\n",
    "- swept back tips to relieve compressibility effects during high $V_tip$ on advancing side\n",
    "- (probably the first) vertical fin with large camber\n",
    "    - Helicopter could fly without tail rotor at 74 km/hr and higher!!\n",
    "- "
   ]
  },
  {
   "cell_type": "markdown",
   "id": "fcc83738",
   "metadata": {},
   "source": [
    "S-67 prototype crashed leading to shutting down of the program. Boeing AH-64 design won the contract. Later Sikorsky won the contract for replacing utility helicopters for the US armed forces and named that design the Blackhawk."
   ]
  },
  {
   "cell_type": "code",
   "execution_count": null,
   "id": "08a19e0a",
   "metadata": {},
   "outputs": [],
   "source": [
    "#read about the compound papers of johnson and yeo. apparently they suggest an optimum distribution of lift between wing and rotor"
   ]
  },
  {
   "cell_type": "markdown",
   "id": "28f17ec1",
   "metadata": {},
   "source": [
    "## Thrust compound"
   ]
  },
  {
   "cell_type": "markdown",
   "id": "d73df7c9",
   "metadata": {},
   "source": [
    "<div class=\"image-grid4\">\n",
    "    <img  src=\"../../assets/.jpeg\" class=\"big\"/>\n",
    "    <img  src=\"../../assets/V22.jpeg\" class=\"big\"/>\n",
    "    <img  src=\"../../assets/tandem_2.jpg\" class=\"big\" />\n",
    "    <img  src=\"../../assets/kmax.jpeg\" class=\"big\"/>   \n",
    "</div>\n",
    "\n",
    "<div class=\"image-grid4\">\n",
    "  <p   > Mil Mi 6: lift-compounded <a href=\"https://en.wikipedia.org/wiki/Mil_Mi-6#/media/File:Mi-6_(cropped).jpg\"> [source]</a>\n",
    "  </p>   \n",
    "  <p  > Boeing V-22 Osprey: tilt-rotor<a href=\"https://en.wikipedia.org/wiki/Bell_Boeing_V-22_Osprey#/media/File:MV-22_mcas_Miramar_2014.JPG\"> [source]</a>\n",
    "  </p> \n",
    "  <p   > Boeing CH-47 Chinook: tandem rotor<a href=\"https://en.wikipedia.org/wiki/Boeing_CH-47_Chinook#/media/File:Pinnacle_manuever.jpg\"> [source]</a>\n",
    "  </p>\n",
    "  <p   > Kaman K-MAX: intermeshing rotor <a href=\"https://en.wikipedia.org/wiki/Kaman_K-MAX#/media/File:Kaman_K-MAX_-_Marine_Corps_Air_Station_Yuma_(cropped).jpg\"> [source]</a>\n",
    "  </p>\n",
    "</div>\n"
   ]
  },
  {
   "cell_type": "markdown",
   "id": "65536ef5",
   "metadata": {},
   "source": [
    "## Lift and thrust compound"
   ]
  },
  {
   "cell_type": "markdown",
   "id": "f1c68d7d",
   "metadata": {},
   "source": [
    "<div class=\"image-grid4\">\n",
    "    <img  src=\"../../assets/UH1_compound.png\" class=\"big\"/>\n",
    "    <img  src=\"../../assets/Piasecki_X-49.jpeg\" class=\"big\"/>\n",
    "    <img  src=\"../../assets/tandem_2.jpg\" class=\"big\" />\n",
    "    <img  src=\"../../assets/kmax.jpeg\" class=\"big\"/>   \n",
    "</div>\n",
    "\n",
    "<div class=\"image-grid4\">\n",
    "  <p   > Bell UH-1 <a href=\"https://en.wikipedia.org/wiki/Bell_533#/media/File:Bell_533_engines_wings.png\"> [source]</a>\n",
    "  </p>   \n",
    "  <p   > Piasecki X-49: ducted propeller <a href=\"https://en.wikipedia.org/wiki/Piasecki_X-49#/media/File:Piasecki_X-49-3_(cropped).jpg\"> [source]</a>\n",
    "  </p>   \n",
    "  <p   > Boeing CH-47 Chinook: tandem rotor<a href=\"https://en.wikipedia.org/wiki/Boeing_CH-47_Chinook#/media/File:Pinnacle_manuever.jpg\"> [source]</a>\n",
    "  </p>\n",
    "  <p   > Kaman K-MAX: intermeshing rotor <a href=\"https://en.wikipedia.org/wiki/Kaman_K-MAX#/media/File:Kaman_K-MAX_-_Marine_Corps_Air_Station_Yuma_(cropped).jpg\"> [source]</a>\n",
    "  </p>\n",
    "</div>"
   ]
  },
  {
   "cell_type": "markdown",
   "id": "ece636fc",
   "metadata": {},
   "source": [
    "The Bell UH-1 compound helicopter underwent many modifications with regard to the placement and size of the wings and the turboject engines. The version with stub wings and engines placed at the wing tips set flew at a maximum speed of 508.5 km/hr {cite}`Add48`."
   ]
  },
  {
   "cell_type": "markdown",
   "id": "e161153b",
   "metadata": {},
   "source": [
    "# Fixed-wing wake\n",
    "\n",
    "\n",
    "<div class=\"image-grid\">\n",
    "    <img  src=\"../../assets/H21.jpeg\" class=\"medium\"/>\n",
    "    <img  src=\"../../assets/UH1.jpeg\" class=\"medium\"/>\n",
    "    <img  src=\"../../assets/S67.png\" class=\"medium\"/>\n",
    "\n",
    "</div>\n",
    "\n",
    "<div class=\"image-grid\">\n",
    "  <p > Piasecki H-21 'flying banana' <a href=\"https://en.wikipedia.org/wiki/Piasecki_H-21#/media/File:Piasecki_H-21_(modified).jpg\"> [source]</a>\n",
    "  </p>   \n",
    "  <p > Bell UH-1 'Heuy' <a href=\"https://en.wikipedia.org/wiki/Bell_UH-1_Iroquois#/media/File:UH1_Huey_-_Fly_Navy_2017_(26938005897).jpg\"> [source]</a>\n",
    "  </p> \n",
    "  <p > Sikorsky S-67 Blackhawk <a href=\"https://verticalmag.com/features/the-original-blackhawk-the-sikorsky-s-67/\"> [source]</a>\n",
    "  </p> \n",
    "</div>\n",
    "\n"
   ]
  },
  {
   "cell_type": "markdown",
   "id": "9c79c31e",
   "metadata": {},
   "source": []
  },
  {
   "cell_type": "markdown",
   "id": "e2ae5073",
   "metadata": {},
   "source": []
  },
  {
   "cell_type": "markdown",
   "id": "0d29316a",
   "metadata": {},
   "source": [
    "<center>\n",
    "    <img src=\"../../assets/VFS_compound_tilt.png\" class=\"medium\">\n",
    "    <p style=\"font-size:12px; color:gray; text-align:center;\"  > Compound and tilf rotorcraft <a href=\"https://youtu.be/Wal223u7t0Q?t=597\"> [source]</a></p>\n",
    "\n",
    "</center>\n",
    "\n"
   ]
  },
  {
   "cell_type": "markdown",
   "id": "00b0b95d",
   "metadata": {},
   "source": [
    "## Thrust compound"
   ]
  },
  {
   "cell_type": "code",
   "execution_count": 1,
   "id": "db156445",
   "metadata": {},
   "outputs": [
    {
     "data": {
      "image/jpeg": "[encoded data removed]",
      "text/html": [
       "\n",
       "        <iframe\n",
       "            width=\"500\"\n",
       "            height=\"270\"\n",
       "            src=\"https://www.youtube.com/embed/WGNW-nDw86Q\"\n",
       "            frameborder=\"0\"\n",
       "            allowfullscreen\n",
       "            \n",
       "        ></iframe>\n",
       "        "
      ],
      "text/plain": [
       "<IPython.lib.display.YouTubeVideo at 0x7fba47be2790>"
      ]
     },
     "execution_count": 1,
     "metadata": {},
     "output_type": "execute_result"
    }
   ],
   "source": [
    "\n",
    "from IPython.display import YouTubeVideo\n",
    "YouTubeVideo('WGNW-nDw86Q', width=500, height=270)"
   ]
  },
  {
   "cell_type": "markdown",
   "id": "0b327c30",
   "metadata": {},
   "source": [
    "- pusher prop with vanes for torque balance\n",
    "    - sideward flight limited "
   ]
  },
  {
   "cell_type": "markdown",
   "id": "89f9b7db",
   "metadata": {},
   "source": [
    "## Summary"
   ]
  },
  {
   "cell_type": "markdown",
   "id": "cb57849a",
   "metadata": {},
   "source": [
    "Imposing VTOL capability on an aircraft brings along a multitude of limitations. Conventional helicopter designs are limited in forward flight and fixed-wing aircraft based designs are limited in low-speed/hover flight. Usually its the free market dynamics that governs whether the extra few units of speed justify the costs <p > <a href=\"https://www.rotorandwing.com/2005/05/01/ask-ray-prouty/\"> [source]</a></p>. "
   ]
  },
  {
   "cell_type": "markdown",
   "id": "13e0fd5c",
   "metadata": {},
   "source": []
  },
  {
   "cell_type": "markdown",
   "id": "7e7310ad",
   "metadata": {},
   "source": []
  },
  {
   "cell_type": "markdown",
   "id": "94fdd27d",
   "metadata": {},
   "source": []
  },
  {
   "cell_type": "markdown",
   "id": "0eee17c5",
   "metadata": {},
   "source": []
  },
  {
   "cell_type": "markdown",
   "id": "8f8baf95",
   "metadata": {},
   "source": []
  },
  {
   "cell_type": "markdown",
   "id": "1bfd6fef",
   "metadata": {},
   "source": []
  }
 ],
 "metadata": {
  "hide_input": false,
  "kernelspec": {
   "display_name": "Python 3 (ipykernel)",
   "language": "python",
   "name": "python3"
  },
  "language_info": {
   "codemirror_mode": {
    "name": "ipython",
    "version": 3
   },
   "file_extension": ".py",
   "mimetype": "text/x-python",
   "name": "python",
   "nbconvert_exporter": "python",
   "pygments_lexer": "ipython3",
   "version": "3.8.5"
  },
  "latex_envs": {
   "LaTeX_envs_menu_present": true,
   "autoclose": true,
   "autocomplete": true,
   "bibliofile": "biblio.bib",
   "cite_by": "apalike",
   "current_citInitial": 1,
   "eqLabelWithNumbers": false,
   "eqNumInitial": 1,
   "hotkeys": {
    "equation": "Ctrl-E",
    "itemize": "Ctrl-I"
   },
   "labels_anchors": false,
   "latex_user_defs": false,
   "report_style_numbering": false,
   "user_envs_cfg": false
  },
  "varInspector": {
   "cols": {
    "lenName": 16,
    "lenType": 16,
    "lenVar": 40
   },
   "kernels_config": {
    "python": {
     "delete_cmd_postfix": "",
     "delete_cmd_prefix": "del ",
     "library": "var_list.py",
     "varRefreshCmd": "print(var_dic_list())"
    },
    "r": {
     "delete_cmd_postfix": ") ",
     "delete_cmd_prefix": "rm(",
     "library": "var_list.r",
     "varRefreshCmd": "cat(var_dic_list()) "
    }
   },
   "types_to_exclude": [
    "module",
    "function",
    "builtin_function_or_method",
    "instance",
    "_Feature"
   ],
   "window_display": false
  }
 },
 "nbformat": 4,
 "nbformat_minor": 5
}
