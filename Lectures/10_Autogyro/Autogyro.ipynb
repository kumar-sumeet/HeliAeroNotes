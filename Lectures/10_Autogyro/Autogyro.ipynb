{
 "cells": [
  {
   "cell_type": "markdown",
   "metadata": {},
   "source": [
    "# Autogyro"
   ]
  },
  {
   "cell_type": "markdown",
   "metadata": {},
   "source": [
    "...or autogiro or gyrodyne or gyroplane ..."
   ]
  },
  {
   "cell_type": "markdown",
   "metadata": {},
   "source": [
    "```{epigraph}\n",
    "\"... is a\n",
    "perfected airplane, although not designed with the sporting purpose\n",
    "of increasing speed nor with the commercial object of enlarging the\n",
    "the radius of action, but with the humanitarian purpose of reducing\n",
    "to a minimum the number of accidents and the number of human lives\n",
    "sacrificed in the fight for the conquest of the air.\"\n",
    "\n",
    "-- [NASA TM No.216, 1923](https://ntrs.nasa.gov/citations/19930084591) \n",
    "```"
   ]
  },
  {
   "cell_type": "markdown",
   "metadata": {},
   "source": [
    "This chapter is largely based on Refs. {cite}`Add40` and Chapter 12 in {cite}`B3`"
   ]
  },
  {
   "cell_type": "markdown",
   "metadata": {},
   "source": [
    "Pretty incredible idea to go from a fixed-wing design with tractor (or pusher) props to\n",
    "adding a freewheeling rotor on top"
   ]
  },
  {
   "cell_type": "markdown",
   "metadata": {},
   "source": [
    "Autogyros (or Gyrocopters) are a class of aircraft with a pusher prop and a rotor that is tilted backwards and rotate freely in the air. \n",
    "- Concieved before helicopters as we know them today became mainstream\n",
    "- Take-off only possible with some run-up\n",
    "- Alternately, engine power diverted to the rotor temporarily to rotate it\n",
    "- Rotate rotor with low pitch setting and then quickly raise "
   ]
  },
  {
   "cell_type": "markdown",
   "metadata": {},
   "source": [
    "Juan de la Cierva of Spain is credited with succesfully constructing a viable autogiro, complete with flap and lead-lag hinges - articulated hub design. So, the issue surrounding a helicopter in edgewise flight were actually practically solved on an autogiro."
   ]
  },
  {
   "cell_type": "markdown",
   "metadata": {},
   "source": [
    "\n",
    "\n",
    "\n",
    "<center>\n",
    "    <img src=\"../../assets/autogyro.jpg\" class=\"medium\">\n",
    "    <p style=\"font-size:12px; color:gray; text-align:center;\" > Autogyro <a href=\"https://en.wikipedia.org/wiki/Autogyro#/media/File:362934-gryocopter-pilot-norman-surplus-uploaded-august-11-2015-taken-from-surplus-website.jpg\"> [source]</a></p>\n",
    "\n",
    "</center>\n",
    "\n",
    "\n",
    "So the rotor is unpowered and provides lift using autorotation\n",
    "\n",
    "Jumpy take-off exhibited by and Autogyro where the engine power is transmitted to the rotor via a clutch mechanism."
   ]
  },
  {
   "cell_type": "code",
   "execution_count": null,
   "metadata": {
    "hide_input": true,
    "tags": [
     "hide-input"
    ]
   },
   "outputs": [],
   "source": [
    "from IPython.display import YouTubeVideo\n",
    "YouTubeVideo('hI5cAgWmShU', width=500, height=270)\n",
    "\n",
    "#need to prevent this code cell from showing at all!! (not even 'click to see')\n",
    "#add helicopter jump take off as well"
   ]
  },
  {
   "cell_type": "markdown",
   "metadata": {},
   "source": [
    "\n",
    "## Forward flight: lift assymetry\n",
    "\n",
    "As discussed in the section {ref}`content:5_FF_T_La:labels`, ... lift assymetry is a problem\n",
    "- First noticed on autogyros be Cierva, fixed by putting up (pin joints) mechanical hinges at the blade roots\n",
    "- This allowed each blade to flap up and down independent of other blades\n",
    "- Highest blade lift occurs at $\\psi=90\\deg$, ergo blade flaps up at $\\psi=180\\deg$\n",
    "    - opposite effect on retreating side leads to a positive \n",
    "- Blade flapping leads to in-plane coriolis forces\n",
    "    - lead-lag hinges needed to relieve in-plane fatigue loads\n",
    "    \n"
   ]
  },
  {
   "cell_type": "markdown",
   "metadata": {},
   "source": []
  },
  {
   "cell_type": "markdown",
   "metadata": {},
   "source": []
  },
  {
   "cell_type": "markdown",
   "metadata": {},
   "source": []
  },
  {
   "cell_type": "markdown",
   "metadata": {},
   "source": []
  },
  {
   "cell_type": "markdown",
   "metadata": {},
   "source": []
  },
  {
   "cell_type": "markdown",
   "metadata": {},
   "source": []
  },
  {
   "cell_type": "markdown",
   "metadata": {},
   "source": []
  }
 ],
 "metadata": {
  "celltoolbar": "Tags",
  "hide_input": false,
  "kernelspec": {
   "display_name": "Python 3",
   "language": "python",
   "name": "python3"
  },
  "language_info": {
   "codemirror_mode": {
    "name": "ipython",
    "version": 3
   },
   "file_extension": ".py",
   "mimetype": "text/x-python",
   "name": "python",
   "nbconvert_exporter": "python",
   "pygments_lexer": "ipython3",
   "version": "3.8.12"
  },
  "latex_envs": {
   "LaTeX_envs_menu_present": true,
   "autoclose": true,
   "autocomplete": true,
   "bibliofile": "biblio.bib",
   "cite_by": "apalike",
   "current_citInitial": 1,
   "eqLabelWithNumbers": false,
   "eqNumInitial": 1,
   "hotkeys": {
    "equation": "Ctrl-E",
    "itemize": "Ctrl-I"
   },
   "labels_anchors": false,
   "latex_user_defs": false,
   "report_style_numbering": false,
   "user_envs_cfg": false
  },
  "varInspector": {
   "cols": {
    "lenName": 16,
    "lenType": 16,
    "lenVar": 40
   },
   "kernels_config": {
    "python": {
     "delete_cmd_postfix": "",
     "delete_cmd_prefix": "del ",
     "library": "var_list.py",
     "varRefreshCmd": "print(var_dic_list())"
    },
    "r": {
     "delete_cmd_postfix": ") ",
     "delete_cmd_prefix": "rm(",
     "library": "var_list.r",
     "varRefreshCmd": "cat(var_dic_list()) "
    }
   },
   "types_to_exclude": [
    "module",
    "function",
    "builtin_function_or_method",
    "instance",
    "_Feature"
   ],
   "window_display": false
  }
 },
 "nbformat": 4,
 "nbformat_minor": 5
}
