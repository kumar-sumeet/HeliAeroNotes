{
 "cells": [
  {
   "cell_type": "markdown",
   "id": "eb31da34",
   "metadata": {},
   "source": [
    "# Performance"
   ]
  },
  {
   "cell_type": "code",
   "execution_count": null,
   "id": "70e1cc61",
   "metadata": {},
   "outputs": [],
   "source": []
  },
  {
   "cell_type": "markdown",
   "id": "38354370",
   "metadata": {},
   "source": [
    "Large mass flow through the rotor disk is key to hover efficiency of rotorcraft. "
   ]
  },
  {
   "cell_type": "code",
   "execution_count": null,
   "id": "fa74466b",
   "metadata": {},
   "outputs": [],
   "source": []
  },
  {
   "cell_type": "code",
   "execution_count": null,
   "id": "fad2fc45",
   "metadata": {},
   "outputs": [],
   "source": []
  },
  {
   "cell_type": "markdown",
   "id": "3f395b09",
   "metadata": {},
   "source": [
    "## Climb"
   ]
  },
  {
   "cell_type": "markdown",
   "id": "f97668e4",
   "metadata": {},
   "source": [
    "<center>\n",
    "    <img src=\"../../assets/Aerospatiale_SA-315B_HB-XTM.jpeg\" class=\"large\">\n",
    "    <p style=\"font-size:12px; color:gray; text-align:center;\"> Aérospatiale SA 315B Lama  <a href=\"https://en.wikipedia.org/wiki/A%C3%A9rospatiale_SA_315B_Lama#/media/File:Aerospatiale_SA-315B_HB-XTM.jpg\"> [source]</a></p>\n",
    "\n",
    "</center>\n"
   ]
  },
  {
   "cell_type": "markdown",
   "id": "f2aa7688",
   "metadata": {},
   "source": [
    "The Aérospatiale SA 315B Lama was able to give superior high altitude performance due to its powerful engine and \n"
   ]
  },
  {
   "cell_type": "code",
   "execution_count": null,
   "id": "3a1c7361",
   "metadata": {},
   "outputs": [],
   "source": []
  }
 ],
 "metadata": {
  "hide_input": false,
  "kernelspec": {
   "display_name": "Python 3 (ipykernel)",
   "language": "python",
   "name": "python3"
  },
  "language_info": {
   "codemirror_mode": {
    "name": "ipython",
    "version": 3
   },
   "file_extension": ".py",
   "mimetype": "text/x-python",
   "name": "python",
   "nbconvert_exporter": "python",
   "pygments_lexer": "ipython3",
   "version": "3.8.5"
  },
  "latex_envs": {
   "LaTeX_envs_menu_present": true,
   "autoclose": true,
   "autocomplete": true,
   "bibliofile": "biblio.bib",
   "cite_by": "apalike",
   "current_citInitial": 1,
   "eqLabelWithNumbers": false,
   "eqNumInitial": 1,
   "hotkeys": {
    "equation": "Ctrl-E",
    "itemize": "Ctrl-I"
   },
   "labels_anchors": false,
   "latex_user_defs": false,
   "report_style_numbering": false,
   "user_envs_cfg": false
  },
  "varInspector": {
   "cols": {
    "lenName": 16,
    "lenType": 16,
    "lenVar": 40
   },
   "kernels_config": {
    "python": {
     "delete_cmd_postfix": "",
     "delete_cmd_prefix": "del ",
     "library": "var_list.py",
     "varRefreshCmd": "print(var_dic_list())"
    },
    "r": {
     "delete_cmd_postfix": ") ",
     "delete_cmd_prefix": "rm(",
     "library": "var_list.r",
     "varRefreshCmd": "cat(var_dic_list()) "
    }
   },
   "types_to_exclude": [
    "module",
    "function",
    "builtin_function_or_method",
    "instance",
    "_Feature"
   ],
   "window_display": false
  }
 },
 "nbformat": 4,
 "nbformat_minor": 5
}
