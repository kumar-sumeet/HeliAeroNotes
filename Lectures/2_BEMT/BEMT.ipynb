{
 "cells": [
  {
   "cell_type": "markdown",
   "id": "ff840622",
   "metadata": {},
   "source": [
    "# Blade element theory"
   ]
  },
  {
   "cell_type": "code",
   "execution_count": null,
   "id": "45fe2ce2",
   "metadata": {},
   "outputs": [],
   "source": [
    "```{epigraph}\n",
    "\n",
    "\"Remember that all models are wrong; the practical question is how wrong do they have to be to not be useful.\" \n",
    "-- [G. Box (1987)](https://en.wikipedia.org/wiki/All_models_are_wrong)\n",
    "\n",
    "```"
   ]
  },
  {
   "cell_type": "markdown",
   "id": "0cdddbcb",
   "metadata": {},
   "source": []
  },
  {
   "cell_type": "markdown",
   "id": "8672bf2e",
   "metadata": {},
   "source": [
    "$\\rightarrow$ A ton of simplifications involved in the theoretical framework involving momentum theory. \n",
    "- No blade level resolution. \n",
    "\n",
    "$\\rightarrow$ BET incorporates the blade level aero but also involves a lot of new simplifiying assumptions so that nice closed form expressions are possible. \n",
    "Otherwise things can get hopelessly too complicated very easily. "
   ]
  },
  {
   "cell_type": "markdown",
   "id": "5c49f8d9",
   "metadata": {},
   "source": [
    "$$d F_{Z}=d L-d D \\sin \\phi$$\n",
    "\n",
    "$$d T=N(d L-d D \\sin \\phi)$$\n",
    "\n",
    "$$d C_{T}=\\frac{N C_{l} \\frac{1}{2} p U_{T}^{2} c d y}{\\rho (\\Omega R^{2}) R^{2}}$$\n",
    "\n",
    "$$d C_{T}=\\frac{\\sigma}{2} C_{l} r^{2} d r$$"
   ]
  },
  {
   "cell_type": "markdown",
   "id": "4d78d7c9",
   "metadata": {},
   "source": [
    "$\\begin{aligned} \\int d C_{T} &=\\frac{\\sigma}{2} C_{l_{ k}} \\int \\alpha x^{2} d x \\\\ &=\\frac{\\sigma}{2} C_{l_{k}} \\int(\\theta-\\phi) r^{2} d r \\\\ \n",
    "\\end{aligned}$"
   ]
  },
  {
   "cell_type": "markdown",
   "id": "9920634c",
   "metadata": {},
   "source": [
    "Using $$ \\frac{U_P}{U_r} = \\frac {\\lambda \\Omega R}{\\Omega y} $$"
   ]
  },
  {
   "cell_type": "markdown",
   "id": "4413785d",
   "metadata": {},
   "source": [
    "$ \\begin{aligned}\n",
    "\\int d C_{T} &= \\frac{\\sigma}{2} C_{l_{k}} \\int(\\theta-\\phi) r^{2} d r \\\\\n",
    "&=\\frac{\\sigma}{2} C_{l_{ k}} \\int \\theta r^2 - dr dr \\\\\n",
    "\\end{aligned}$"
   ]
  },
  {
   "cell_type": "markdown",
   "id": "128be63d",
   "metadata": {},
   "source": [
    "$ \\theta$ and $\\lambda$ are constants. "
   ]
  },
  {
   "cell_type": "markdown",
   "id": "a7361053",
   "metadata": {},
   "source": [
    "$$\\Rightarrow C_{T}=\\frac{\\sigma}{2} C_{l_{k}}\\left(\\frac{\\theta_{0}}{3}-\\frac{\\lambda}{2}\\right)=\\frac{\\sigma}{2} C_{k_{k}}\\left(\\frac{\\theta_{0}}{3}-\\frac{1}{2} \\sqrt{\\frac{C_T}{2}}\\right)$$\n",
    "\n",
    "\n",
    "\n",
    "$$\\Rightarrow \\theta_{0}=\\frac{6 C_{T}}{\\sigma_{C_{l_{k}}}}+\\frac{3}{2} \\sqrt{\\frac{C_{T}}{2}}$$"
   ]
  },
  {
   "cell_type": "markdown",
   "id": "5b1086fb",
   "metadata": {},
   "source": [
    "$\\frac{3}{2} \\sqrt{\\frac{C_{T}}{2}}$ is induced drag term  (just like fixed wing)"
   ]
  },
  {
   "cell_type": "markdown",
   "id": "f17f1637",
   "metadata": {},
   "source": [
    "All the simplifications in the derivatives now afford us the possibility to easily see the effect of varying one quantity on the other. "
   ]
  },
  {
   "cell_type": "markdown",
   "id": "07fb99c9",
   "metadata": {},
   "source": [
    "$\\begin{aligned}\n",
    "\\theta&= \\theta_{0} +\\gamma \\theta_{t \\omega} \\quad \\quad\\quad \\lambda=\\text { uniform } \\\\ C_{T} &=\\frac{\\sigma}{2} C_{l k}\\left[ \\frac{\\theta_{0}}{3}+\\frac{\\theta_{t \\omega}}{4}-\\frac{\\lambda}{2} \\right] \\\\ &=\\frac{\\sigma}{2} C_{l_{k}}\\left[\\frac{\\theta_{75}}{3}-\\frac{\\lambda}{2}\\right] \\end{aligned}$"
   ]
  },
  {
   "cell_type": "markdown",
   "id": "d2f760cf",
   "metadata": {},
   "source": [
    "decently interesting result. "
   ]
  },
  {
   "cell_type": "markdown",
   "id": "a1315cfb",
   "metadata": {},
   "source": [
    "- Uniform inflow has been used in the above formulation. \n",
    "- But we now know from ex that $\\lambda$ is not uniform, so something more than M-theory is needed to get to that. \n",
    "- Alfred Gessow proposed the BEMT to obtain $\\lambda (r)$\n",
    "- M theory, with its uniform $\\lambda$ assumption gives the least power required. Its not due to neglect of certain phenomena that contributes to power loss but due to the uniform $\\lambda$ approximation. "
   ]
  },
  {
   "cell_type": "code",
   "execution_count": null,
   "id": "fe056a90",
   "metadata": {},
   "outputs": [],
   "source": []
  },
  {
   "cell_type": "code",
   "execution_count": null,
   "id": "1bab6741",
   "metadata": {},
   "outputs": [],
   "source": []
  },
  {
   "cell_type": "code",
   "execution_count": null,
   "id": "d54ec7fe",
   "metadata": {},
   "outputs": [],
   "source": []
  },
  {
   "cell_type": "code",
   "execution_count": null,
   "id": "effe1277",
   "metadata": {},
   "outputs": [],
   "source": []
  },
  {
   "cell_type": "code",
   "execution_count": null,
   "id": "19015a2c",
   "metadata": {},
   "outputs": [],
   "source": []
  },
  {
   "cell_type": "code",
   "execution_count": null,
   "id": "cfb1182c",
   "metadata": {},
   "outputs": [],
   "source": []
  },
  {
   "cell_type": "code",
   "execution_count": null,
   "id": "23e258fa",
   "metadata": {},
   "outputs": [],
   "source": []
  },
  {
   "cell_type": "code",
   "execution_count": null,
   "id": "3366d08f",
   "metadata": {},
   "outputs": [],
   "source": []
  },
  {
   "cell_type": "code",
   "execution_count": null,
   "id": "3701b3c6",
   "metadata": {},
   "outputs": [],
   "source": []
  },
  {
   "cell_type": "code",
   "execution_count": null,
   "id": "19f5cd76",
   "metadata": {},
   "outputs": [],
   "source": []
  },
  {
   "cell_type": "code",
   "execution_count": null,
   "id": "b4c5c552",
   "metadata": {},
   "outputs": [],
   "source": []
  },
  {
   "cell_type": "code",
   "execution_count": null,
   "id": "d5a04106",
   "metadata": {},
   "outputs": [],
   "source": []
  },
  {
   "cell_type": "code",
   "execution_count": null,
   "id": "480bd970",
   "metadata": {},
   "outputs": [],
   "source": []
  }
 ],
 "metadata": {
  "hide_input": false,
  "kernelspec": {
   "display_name": "Python 3 (ipykernel)",
   "language": "python",
   "name": "python3"
  },
  "language_info": {
   "codemirror_mode": {
    "name": "ipython",
    "version": 3
   },
   "file_extension": ".py",
   "mimetype": "text/x-python",
   "name": "python",
   "nbconvert_exporter": "python",
   "pygments_lexer": "ipython3",
   "version": "3.8.5"
  },
  "varInspector": {
   "cols": {
    "lenName": 16,
    "lenType": 16,
    "lenVar": 40
   },
   "kernels_config": {
    "python": {
     "delete_cmd_postfix": "",
     "delete_cmd_prefix": "del ",
     "library": "var_list.py",
     "varRefreshCmd": "print(var_dic_list())"
    },
    "r": {
     "delete_cmd_postfix": ") ",
     "delete_cmd_prefix": "rm(",
     "library": "var_list.r",
     "varRefreshCmd": "cat(var_dic_list()) "
    }
   },
   "types_to_exclude": [
    "module",
    "function",
    "builtin_function_or_method",
    "instance",
    "_Feature"
   ],
   "window_display": false
  }
 },
 "nbformat": 4,
 "nbformat_minor": 5
}
