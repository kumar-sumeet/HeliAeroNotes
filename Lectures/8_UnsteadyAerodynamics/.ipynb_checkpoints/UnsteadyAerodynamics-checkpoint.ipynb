{
 "cells": [
  {
   "cell_type": "markdown",
   "id": "portable-howard",
   "metadata": {
    "slideshow": {
     "slide_type": "slide"
    }
   },
   "source": [
    "# Unsteady Aerodynamics"
   ]
  },
  {
   "cell_type": "markdown",
   "id": "collaborative-biology",
   "metadata": {
    "slideshow": {
     "slide_type": "skip"
    }
   },
   "source": [
    "The relevance of unsteady aerodynamics modelling usually comes up in the context flutter, rapid maneuvers, insect/bird flapping flight etc. Loosely speaking, whenever lift-generating structures flex *large enough*, and at *large enough* rates, using steady or even quasi-steady aerodynamics within the BEMT theory leads to inaccuracies and corrections need to be made to account for the aerodynamic loads experienced in such situations. Below is an example of the degree of elastic deformation that a helicopter rotor blade undergoes. Notice that the video is slowed down dramatically (S-56 had a time period of about 0.31s). "
   ]
  },
  {
   "cell_type": "markdown",
   "id": "worse-barcelona",
   "metadata": {
    "slideshow": {
     "slide_type": "slide"
    }
   },
   "source": [
    "# Steady vs Quasi-steady vs Unsteady"
   ]
  },
  {
   "cell_type": "markdown",
   "id": "according-consequence",
   "metadata": {
    "slideshow": {
     "slide_type": "skip"
    }
   },
   "source": [
    "Fluid behavior independent of time is refered to as steady. When an explicit time-dependence exists, the flow is said to be unsteady. However, in the context of fluid-structure interaction or scenarios where the aerodynamic surface itself is deforming- for e.g. rotor blades, insect wings etc - a third category of fluid modelling called quasi-steady aerodynamics is often used. This is usually of intermediate fidelity compared between the steady and unsteady aerodynamics modelling. Here the kinematics of the structure deformation are included in evaluating the instantaneous angle of attack. Thereafter, the steady aerodynamics based airfoil characteristics are used to evaluate the instantaneous aerodynamic loads. The effect of the shed vorticity in the wake, which you'll learn is what fundamentally lends *unsteadiness* to the airfoil aerodynamics, is completely neglected. So in quasi-steady aerodynamics the unsteadiness due to the structure motion/deformation is included but the aerodynamics is considered to be time-independent."
   ]
  },
  {
   "cell_type": "markdown",
   "id": "mediterranean-raising",
   "metadata": {
    "slideshow": {
     "slide_type": "skip"
    }
   },
   "source": [
    "Fundamentally, the motion (or relative oncoming flow) that any airfoil section of the blade is undergoing (experiencing) here can be broken down into the following mutually independent forms. Here, the blade positions in pitch, flap and lead-lag direction are all functions of time. Clearly, the airfoil lift, drag and moments are going to be functions of time as well."
   ]
  },
  {
   "cell_type": "markdown",
   "id": "amber-flexibility",
   "metadata": {
    "slideshow": {
     "slide_type": "-"
    }
   },
   "source": [
    "<center>\n",
    "    <img src=\"../../assets/B3_82_UnsteadyAirfoilMotion.png\" class=\"large\">\n",
    "    <p  style=\"font-size:16px; color:gray; text-align:center;\"> Unsteady airfoil motion components [taken from Principles in Helicopter Aerodynamics by JG Leishman] </p>\n",
    "\n",
    "</center>"
   ]
  },
  {
   "cell_type": "markdown",
   "id": "instructional-hebrew",
   "metadata": {
    "slideshow": {
     "slide_type": "skip"
    }
   },
   "source": [
    "The idea with regard to accounting for unsteady aerodynamic effects on rotors is not unlike the steady aerodynamics. The NSE are time dependent so, in principle, solving those equations gives one the aerodynamic forces and moments as a function of time. However, the reason that this is not done is not just that one would have to wait a anywhere from a few hours to a few days for simple simulations. As was stressed in the review chapter on 2D aerodynamics solving the complete set of NSE, while *exact*, is less amenable to intuitive understanding of the phenomena being modelled. Which is why all the engineering theories that were proposed in an effort to understand fluid behavior on lifting bodies, in the aftermath of the first powered aircraft flight, were all highly intuitive and based on direct verifiable evidence. "
   ]
  },
  {
   "cell_type": "markdown",
   "id": "2f206c80",
   "metadata": {
    "slideshow": {
     "slide_type": "skip"
    }
   },
   "source": [
    "## Steady airfoil aerodynamics"
   ]
  },
  {
   "cell_type": "markdown",
   "id": "67bac2e1",
   "metadata": {
    "slideshow": {
     "slide_type": "skip"
    }
   },
   "source": [
    "Steady airfoil aerodynamics has already been covered in the 'Blade Element Theory' section."
   ]
  },
  {
   "cell_type": "markdown",
   "id": "absolute-destination",
   "metadata": {
    "slideshow": {
     "slide_type": "subslide"
    }
   },
   "source": [
    "## Quasi-steady airfoil aerodynamics"
   ]
  },
  {
   "cell_type": "markdown",
   "id": "ec46fbcd",
   "metadata": {
    "slideshow": {
     "slide_type": "skip"
    }
   },
   "source": [
    "Quasi-steady modelling of airfoil aerodynamics leads to a similar result as the steady modelling case provided the effective angle of attack is measured at the three quarter-chord position. While the following result can be derived using concepts already discussed in the review chapter, that is not the subject of this chapter and can be assumed to be agiven."
   ]
  },
  {
   "cell_type": "markdown",
   "id": "7f32509f",
   "metadata": {
    "slideshow": {
     "slide_type": "-"
    }
   },
   "source": [
    "$$C_l = 2\\pi\\left [\\alpha +\\frac{\\dot{h}}{V}+b \\left ( \\frac{1}{2}-a \\right ) \\frac{\\dot{\\alpha}}{V} \\right] = 2\\pi\\alpha_{3c/4}$$"
   ]
  },
  {
   "cell_type": "markdown",
   "id": "varying-modeling",
   "metadata": {
    "slideshow": {
     "slide_type": "-"
    }
   },
   "source": [
    "<center>\n",
    "     <img src=\"../../assets/B3_85_QuasiSteadyAirfoil.png\" class=\"big\" />\n",
    "    <p style=\"font-size:16px; color:gray; text-align:center;\" > Quasi-steady airfoil aerodynamics <a href=\"https://www.cambridge.org/us/academic/subjects/engineering/aerospace-engineering/principles-helicopter-aerodynamics-2nd-edition-1?format=HB&isbn=9781107013353\">[source]) </a></p>\n",
    "\n",
    "</center>"
   ]
  },
  {
   "cell_type": "markdown",
   "id": "71daa71e",
   "metadata": {
    "slideshow": {
     "slide_type": "skip"
    }
   },
   "source": [
    "## Unsteady aerodynamics"
   ]
  },
  {
   "cell_type": "markdown",
   "id": "2f50bd7f",
   "metadata": {
    "slideshow": {
     "slide_type": "skip"
    }
   },
   "source": [
    "This is the subject of this chapter."
   ]
  },
  {
   "cell_type": "markdown",
   "id": "palestinian-smoke",
   "metadata": {
    "slideshow": {
     "slide_type": "slide"
    }
   },
   "source": [
    "# Unsteady airfoil aerodynamics: Overview"
   ]
  },
  {
   "cell_type": "markdown",
   "id": "stopped-actress",
   "metadata": {
    "slideshow": {
     "slide_type": "skip"
    }
   },
   "source": [
    "Whenever a quick change in the flow conditions or the airfoil angle of attack occurs, the airfoil aerodynamics can be very different from its steady/quasi-steady counterpart. That said, the very concepts that help analyse the physics of steady airfoil aerodynamics, and quantify the aerodynamic forces, can be used to explain the physics behind the aerodynamic behavior of unsteady airfoils. "
   ]
  },
  {
   "cell_type": "markdown",
   "id": "29bbc0ca",
   "metadata": {
    "slideshow": {
     "slide_type": "subslide"
    }
   },
   "source": [
    "### Step change in $\\alpha$"
   ]
  },
  {
   "cell_type": "markdown",
   "id": "characteristic-vocabulary",
   "metadata": {
    "slideshow": {
     "slide_type": "skip"
    }
   },
   "source": [
    "The figure below shows the build-up of lift when the angle of attack of is changed instantaneously. The airfoil lift coefficient ($C_L$), instead of following an instantaneous change, undergoes a gradual rise in $C_L$ and theoretically reaching the steady state value at infinite time. The peculiar aspect about the form of the $C_L$ curve is that it is no longer directly proportional to $\\alpha$, with the proportionality constant given by $2\\pi$ from thin airfoil theory. We will later discuss the Theodorsen theory to predict this unsteady behavior of pitching and plunging airfoils with reasonable accuracy. This theory is based on potential flow assumption so clearly this *delay* in lift exhibited is not somehow related to compressibility of the fluid (incompressiblity assumption used in potential flow analyses). "
   ]
  },
  {
   "cell_type": "markdown",
   "id": "classified-marine",
   "metadata": {
    "slideshow": {
     "slide_type": "-"
    }
   },
   "source": [
    "<center>\n",
    "    <img src=\"../../assets/A23_2_AirfoilStepInput.png\" class=\"large\">\n",
    "    <p  style=\"font-size:16px; color:gray; text-align:center;\"> Airfoil lift developement after step-input <a href=\"https://arc.aiaa.org/doi/pdf/10.2514/6.2019-1853\">[source] </a> </p>\n",
    "\n",
    "</center>"
   ]
  },
  {
   "cell_type": "markdown",
   "id": "surface-australian",
   "metadata": {
    "slideshow": {
     "slide_type": "skip"
    }
   },
   "source": [
    "The above result is not purely of academic interest. Autogyros[^Autogyros] are capable of undertaking a jump take-off where the rotors are spun to high RPM at zero collective and then a rapid increase in collective allows the autogyro to take off as a helicopter. While the change in blade section $\\alpha$ is not exactly instantaneous, the central point is that the associated unsteadiness cannot be ignored if one needs to accurately quantify blade aerodynamic forces. Such unsteady development of aerodynamic forces is also central to understanding what amount of forces are generated, for e.g., on fixed-wing fighter aircraft during a rapid pitch-up manuever. Large civilian fixed-wing aircraft typically never undergo maneuvers rapid enough for unsteady effects to be of any substantial effect, wing flutter phenomenon being the exception, so quasi-steady aerodynamic modelling suffices.\n",
    "\n",
    "[^Autogyros]: They are a class of rotorcraft where an unpowered rotor spins in windmill operating state during flight to generate the vertical thrust necessary to stay aloft while a propeller generates horizontal thrust to overcome drag from the free-spinning rotor. On some designs a clutch mechanism allows to divert engine power to the rotor for initial spin-up while on the ground to facilitate the jump take-off maneuver. "
   ]
  },
  {
   "cell_type": "markdown",
   "id": "superb-patch",
   "metadata": {
    "slideshow": {
     "slide_type": "subslide"
    }
   },
   "source": [
    "<div class=\"image-grid2\">\n",
    "    <img  src=\"../../assets/Add40_Fig24_AutogyroJumpTakeOff.png\" class=\"medium\"/>\n",
    "    <img  src=\"../../assets/B3_Fig1048_CollectiveRamp.png\" class=\"medium\"/>\n",
    "</div>\n",
    "\n",
    "<div class=\"image-grid2\">\n",
    "  <p > Schematic showing an autogyro undergoing a jump take-off <a href=\"https://arc.aiaa.org/doi/pdf/10.2514/1.1205\">[source] </a>\n",
    "  </p> \n",
    "  <p >  Effect of \"ramp\" increase in rotor collective on rotor thrust  <a href=\"https://www.cambridge.org/us/academic/subjects/engineering/aerospace-engineering/principles-helicopter-aerodynamics-2nd-edition-1?format=HB&isbn=9781107013353\">[source]) </a>\n",
    "  </p>       \n",
    "</div>"
   ]
  },
  {
   "cell_type": "markdown",
   "id": "technological-uruguay",
   "metadata": {
    "slideshow": {
     "slide_type": "skip"
    }
   },
   "source": [
    "At first sight the results corresponding to step change in airfoil $\\alpha$ and ramp change in rotor collective (which by extension can be seen as a ramp change in blade section $\\alpha$) might suggest that there are different aerodynamic mechanisms at play here in the two scenarios. The unsteady lift approaches the steady state lift assymptotically from the bottom while there is a clear overshoot in the latter case. This is in part because the former is a purely 2D case but the latter is a 3D aerodynamics case. From the ensuing discusion it'll be clear that fundamentally similar aerodynamic phenomena are responsible for responses observed in either cases. "
   ]
  },
  {
   "cell_type": "markdown",
   "id": "cb2f7b9f",
   "metadata": {
    "slideshow": {
     "slide_type": "subslide"
    }
   },
   "source": [
    "### Harmonic change in $\\alpha$"
   ]
  },
  {
   "cell_type": "markdown",
   "id": "896d51eb",
   "metadata": {
    "slideshow": {
     "slide_type": "-"
    }
   },
   "source": [
    "<center>\n",
    "    <img src=\"../../assets/B3_8_8.png\" class=\"large\">\n",
    "    <p  style=\"font-size:16px; color:gray; text-align:center;\"> Effect of airfoil pitching motion on aerodynamic lift [taken from Principles in Helicopter Aerodynamics by JG Leishman] </p>\n",
    "\n",
    "</center>"
   ]
  },
  {
   "cell_type": "markdown",
   "id": "ac19f96e",
   "metadata": {
    "slideshow": {
     "slide_type": "subslide"
    }
   },
   "source": [
    "### Continuously changing $\\alpha$"
   ]
  },
  {
   "cell_type": "code",
   "execution_count": 6,
   "id": "occupied-settle",
   "metadata": {
    "slideshow": {
     "slide_type": "-"
    }
   },
   "outputs": [
    {
     "data": {
      "image/jpeg": "[encoded data removed]",
      "text/html": [
       "\n",
       "        <iframe\n",
       "            width=\"800\"\n",
       "            height=\"400\"\n",
       "            src=\"https://www.youtube.com/embed/srjbnvTWRJI\"\n",
       "            frameborder=\"0\"\n",
       "            allowfullscreen\n",
       "            \n",
       "        ></iframe>\n",
       "        "
      ],
      "text/plain": [
       "<IPython.lib.display.YouTubeVideo at 0x7fd09ab97370>"
      ]
     },
     "execution_count": 6,
     "metadata": {},
     "output_type": "execute_result"
    }
   ],
   "source": [
    "from IPython.display import YouTubeVideo\n",
    "YouTubeVideo('srjbnvTWRJI', width=800, height=400)"
   ]
  },
  {
   "cell_type": "markdown",
   "id": "presidential-russian",
   "metadata": {
    "slideshow": {
     "slide_type": "slide"
    }
   },
   "source": [
    "# Relevant concepts needed"
   ]
  },
  {
   "cell_type": "markdown",
   "id": "thirty-links",
   "metadata": {
    "slideshow": {
     "slide_type": "skip"
    }
   },
   "source": [
    "Some of the necessary concepts for steady fluid analysis have already been covered in the review lecture. Here we build on those concepts and extend them to analyse unsteady fluid behavior. "
   ]
  },
  {
   "cell_type": "markdown",
   "id": "approved-humidity",
   "metadata": {
    "slideshow": {
     "slide_type": "skip"
    }
   },
   "source": [
    "An understanding of the following lies at the heart of developing an intuition for why the unsteady aerodynamics theories were formulated the way they were.  "
   ]
  },
  {
   "cell_type": "markdown",
   "id": "perfect-roberts",
   "metadata": {
    "slideshow": {
     "slide_type": "-"
    }
   },
   "source": [
    "- NSE to potential flow theory model\n",
    "- circulatory effect of lifting flow\n",
    "- Kutta-Joukowski theorem\n",
    "- Kelvin's theorem of circulation\n",
    "- Kutta condition"
   ]
  },
  {
   "cell_type": "markdown",
   "id": "strong-scheme",
   "metadata": {
    "slideshow": {
     "slide_type": "skip"
    }
   },
   "source": [
    "There are 4 fundamental constructs in potential flow theory that, when used in combination, help fully define potential flow about any body of any given shape {cite}`BA1`(Pg 157). These constructs are parallel uniform flow, sources, sinks, doublets and point vortex. Sources and sinks are essentially the same construct since all that changes between them is the sign of the flow direction. Next we discuss about the final concept that is required before formally looking at the derivation of the Theodorsen unsteady airfoil theory."
   ]
  },
  {
   "cell_type": "markdown",
   "id": "beginning-governor",
   "metadata": {
    "slideshow": {
     "slide_type": "slide"
    }
   },
   "source": [
    "## Conformal mapping"
   ]
  },
  {
   "cell_type": "markdown",
   "id": "killing-hormone",
   "metadata": {
    "slideshow": {
     "slide_type": "skip"
    }
   },
   "source": [
    "The development of the potential flow theory to analyse flow around a spinning cylinder and the resultant lift have already been discussed. However, one would imagine that being able to carry out the same excercise for an airfoil would be a more fruitful excercise. And you wouldn't be wrong but the analysis of the flow around a cylinder, albeit seldom relevant for aerospace applications, is directly related to airfoil analysis or analysis around any given random geometry. The mathematical framework that bridges the two comes from complex analysis called conformal mapping. It states that a mapping or complex function $F(\\xi)$ can be found that transforms a domain $\\xi$ to a domain $z$ and conversely a function $F(z)$ exists that carries out the reverse operation. This means that if we can find such a function that maps a circle to an airfoil then using the same function the entire flowfield around the circle (which we already know) can be mapped to that around an airfoil. So we wouldn't even explicitly be solving the flow around an airfoil, just get the result for a 2D cylinder and apply the transformation. So far so good, but how does a suitable $F(\\xi)$ look like? "
   ]
  },
  {
   "cell_type": "markdown",
   "id": "wireless-numbers",
   "metadata": {
    "slideshow": {
     "slide_type": "-"
    }
   },
   "source": [
    "<center>\n",
    "    <img src=\"../../assets/ConformalMapping_intro.png\" class=\"large\">\n",
    "    <p  style=\"font-size:16px; color:gray; text-align:center;\"> Complex mapping from cylinder domain to airfoil domain </p>\n",
    "\n",
    "</center>"
   ]
  },
  {
   "cell_type": "markdown",
   "id": "italic-approval",
   "metadata": {
    "slideshow": {
     "slide_type": "subslide"
    }
   },
   "source": [
    "### Mapping function"
   ]
  },
  {
   "cell_type": "markdown",
   "id": "78569ad3",
   "metadata": {
    "slideshow": {
     "slide_type": "skip"
    }
   },
   "source": [
    "Conformal mapping refers to a complex analysis technique of transforming one domain to another while preserving (signed) Euclidean angles. The conformal map that achieves this is called the Joukowski transformation where the body in the $\\xi$ domain is a cylinder and it is mapped to a flat plate in the $z$ domain. How exactly the mapping relation itself comes about is a different branch of mathematics altogether but for our purposes suffice it to say that this convenient relation exists and is simple enough to quickly see that indeed the boundary of the circle gets mapped to the boundary of the flat plate."
   ]
  },
  {
   "cell_type": "markdown",
   "id": "third-tuner",
   "metadata": {
    "slideshow": {
     "slide_type": "skip"
    }
   },
   "source": [
    "Before even being able to define $F(\\xi)$, what are the properties that $F(\\xi)$ should have? For one it needs to be one-to-one i.e. take every point in $\\xi$ to a unique point in $z$. In addition, the mapping needs to be differentiable because as we'll see the velocities get scaled by the derivative at the point of interest. The same is true of the reverse mapping $F(z)$. "
   ]
  },
  {
   "cell_type": "markdown",
   "id": "collectible-aviation",
   "metadata": {
    "slideshow": {
     "slide_type": "-"
    }
   },
   "source": [
    "$$z = \\xi + \\frac{a^2}{\\xi} $$\n",
    "<center>\n",
    "    <img src=\"../../assets/ConformalMapping.png\" class=\"big\">\n",
    "    <p  style=\"font-size:16px; color:gray; text-align:center;\"> Joukowski transformation from circle to a flat plate (airfoil)</p>\n",
    "\n",
    "</center>"
   ]
  },
  {
   "cell_type": "markdown",
   "id": "political-consolidation",
   "metadata": {
    "slideshow": {
     "slide_type": "fragment"
    }
   },
   "source": [
    "$$\\xi = a e^{i\\theta}$$\n",
    "$$\\Rightarrow z = \\xi + \\frac{a^2}{\\xi} = 2a\\cos \\theta$$"
   ]
  },
  {
   "cell_type": "markdown",
   "id": "bridal-mitchell",
   "metadata": {
    "slideshow": {
     "slide_type": "skip"
    }
   },
   "source": [
    "The circle in the $\\xi$ domain maps to a line of zero thickness in the $z$ domain. This is the airfoil of interest in this case with zero thickness and the leading and trailing edges located at $x = -2a$ and $+2a$, respectively."
   ]
  },
  {
   "cell_type": "markdown",
   "id": "judicial-edmonton",
   "metadata": {
    "slideshow": {
     "slide_type": "skip"
    }
   },
   "source": [
    "Once the mapping function itself is known, it is relatively straightforward to obtain the flowfield around an airfoil once the flowfield around the cylinder is known. Now, it is one thing to obtain the simplest combination of elementary flows that results in a circular streamline (i.e. doublet in uniform flow) and whole different level of complexity to ensure, that given any kind of flow field, i.e. any combination of elementary flows, a circular streamline can be established. For e.g. the solution of the flow field around a circle in uniform flow was already derived but what if the flow now has an 'angle of attack' as shown above? This is where the circle theorem proposed by Milne-Thompson {cite}`Add56` comes in."
   ]
  },
  {
   "cell_type": "markdown",
   "id": "gross-wright",
   "metadata": {
    "slideshow": {
     "slide_type": "skip"
    }
   },
   "source": [
    "```{admonition} Circle theorem\n",
    "The circle theorem helps obtain the complex flow field around a cylinder in the most general case. It states that if $F(z)$ is the flow field in the absence of the cylinder then the flow field in the presence of the cylinder is given by $F(z)+\\bar{F}(\\frac{a^2}{z})$. The solution is based on the idea of images such that a streamline denoting a solid boundary defines a circle. More details can be obtained from {cite}`BA2`(Page 422-423) and {cite}`Add56`. \n",
    "```"
   ]
  },
  {
   "cell_type": "markdown",
   "id": "controversial-combination",
   "metadata": {
    "slideshow": {
     "slide_type": "skip"
    }
   },
   "source": [
    "Using the circle theorem, the flow field around the cylinder without any circulation is given by"
   ]
  },
  {
   "cell_type": "markdown",
   "id": "twelve-level",
   "metadata": {
    "slideshow": {
     "slide_type": "subslide"
    }
   },
   "source": [
    "\\begin{equation*}\n",
    "\\begin{split}\n",
    "F_{total} &=F(\\xi)+\\bar{F}(\\frac{a^2}{\\xi}) \\\\\n",
    "&= U_\\infty e^{-i\\alpha} \\xi + \\overline{U_\\infty e^{-i\\alpha} \\frac{a^2}{\\bar{\\xi}}} \\\\ \n",
    "&=U_\\infty e^{-i\\alpha} \\xi + U_\\infty e^{i\\alpha} \\frac{a^2}{\\xi}\n",
    "\\end{split}\n",
    "\\end{equation*}"
   ]
  },
  {
   "cell_type": "markdown",
   "id": "confident-mustang",
   "metadata": {
    "slideshow": {
     "slide_type": "skip"
    }
   },
   "source": [
    "With the circulation $\\Gamma$, the flow field is given by"
   ]
  },
  {
   "cell_type": "markdown",
   "id": "thrown-lucas",
   "metadata": {
    "slideshow": {
     "slide_type": "subslide"
    }
   },
   "source": [
    "$$F_{total} = U_\\infty e^{-i\\alpha} \\xi + U_\\infty e^{i\\alpha} \\frac{a^2}{\\xi}+  \\frac{\\Gamma}{2\\pi i}\\text{ln} \\xi $$"
   ]
  },
  {
   "cell_type": "markdown",
   "id": "figured-beatles",
   "metadata": {
    "slideshow": {
     "slide_type": "skip"
    }
   },
   "source": [
    "Note that we added the potential due to a vortex at the center of the cylinder later since the vortex does not disturb the circular streamline already established by the application of the circle theorem. The velocity field can be obtained both in the $\\xi$ domain as well as the $z$ domain. Note that we are primarily interested in the velocity at the surface of the geometry itself because the pressure distribution, and by extension the total lift, can be then obtained using the Bernoulli's equation."
   ]
  },
  {
   "cell_type": "markdown",
   "id": "guided-footage",
   "metadata": {
    "slideshow": {
     "slide_type": "fragment"
    }
   },
   "source": [
    "$$\\frac{d F}{d \\xi}=U_{\\infty} e^{-i \\alpha}-U_{\\infty} e^{i \\alpha} \\frac{a^2}{\\xi^2}-\\frac{\\Gamma}{2 \\pi i \\xi}$$"
   ]
  },
  {
   "cell_type": "markdown",
   "id": "loose-disorder",
   "metadata": {
    "slideshow": {
     "slide_type": "skip"
    }
   },
   "source": [
    "Velocity at the cylinder surface"
   ]
  },
  {
   "cell_type": "markdown",
   "id": "challenging-dispute",
   "metadata": {
    "slideshow": {
     "slide_type": "fragment"
    }
   },
   "source": [
    "$$\\Rightarrow w(\\xi) = F'(|\\xi|=a) = \\frac{d F}{d \\xi} =U_\\infty e^{-i\\alpha}-U_\\infty e^{i(\\alpha-2 \\theta)}+\\frac{i\\Gamma}{2 \\pi a} e^{-i \\theta}$$"
   ]
  },
  {
   "cell_type": "markdown",
   "id": "welsh-confidentiality",
   "metadata": {
    "slideshow": {
     "slide_type": "skip"
    }
   },
   "source": [
    "Similarly, velocity in the $z$ domain can be obtained using the complex formula that relates derivatives in the two domains related via a conformal transformation "
   ]
  },
  {
   "cell_type": "markdown",
   "id": "third-stereo",
   "metadata": {
    "slideshow": {
     "slide_type": "subslide"
    }
   },
   "source": [
    "\\begin{equation*}\n",
    "\\begin{split}\n",
    "w(z)&=\\frac{w(\\xi)}{\\frac{d z}{d\\xi}} \\\\\n",
    "&=\\frac{\\frac{d F}{d\\xi}}{{1-a^2 / \\xi^2}}\\\\\n",
    "&=\\frac{U_{\\infty} e^{-i \\alpha} \\xi - U_{\\infty} e^{i \\alpha}\\frac{a^2}{\\xi}-\\frac{\\Gamma}{2 \\pi i}}{\\xi-\\frac{a^2}{\\xi}}\\\\\n",
    "& =\\frac{U_{\\infty} \\cos \\alpha \\left(\\xi-\\frac{a^2}{\\xi}\\right)-i U_{\\infty} \\sin \\alpha \\left(\\xi+\\frac{a^2}{\\xi}\\right)-\\frac{\\Gamma}{2 \\pi}}{\\xi-\\frac{a^2}{\\xi}} \\\\\n",
    "& =U_{\\infty} \\cos \\alpha-i \\frac{U_{\\infty} z\\sin \\alpha - \\frac{\\Gamma}{2 \\pi}}{\\xi-\\frac{a^2}{\\xi}} \\\\\n",
    "& =U_{\\infty} \\cos \\alpha-i \\frac{U_{\\infty} z\\sin \\alpha - \\frac{\\Gamma}{2 \\pi}}{\\sqrt{z^2-4a^2}} \\\\\n",
    "\\end{split}\n",
    "\\end{equation*}"
   ]
  },
  {
   "cell_type": "markdown",
   "id": "eaa2cfd2",
   "metadata": {
    "slideshow": {
     "slide_type": "subslide"
    }
   },
   "source": [
    "### Kutta condition"
   ]
  },
  {
   "cell_type": "markdown",
   "id": "younger-monitoring",
   "metadata": {
    "slideshow": {
     "slide_type": "skip"
    }
   },
   "source": [
    "It was already stated in the context of a cylinder that the lift generated is entirely dependent on the circulation. This is true also in the case of the mapped velocity distribution around the airfoil of zero thickness in the $z$ domain. We call the mapped zero-thickness geometry in the $z$ domain an airfoil because the same circulation $\\Gamma$ is also sustained now in the $z$ domain. Recall that $\\Gamma$ is an arbitrary quantity but lift generated by an airfoil at a given angle of attack is unique and is directly dictated by the amount of $\\Gamma$. So how is a unique $\\Gamma$ established at a given angle of attack $\\alpha$. This is where the empirically established Kutta condition comes in."
   ]
  },
  {
   "cell_type": "markdown",
   "id": "focal-contemporary",
   "metadata": {
    "slideshow": {
     "slide_type": "-"
    }
   },
   "source": [
    "<center>\n",
    "    <img src=\"../../assets/B37_fig4_19.png\" class=\"large\">\n",
    "    <p  style=\"font-size:16px; color:gray; text-align:center;\"> Kutta condition based on the nature of the trailing edge shape. <a href=\"https://www.mheducation.com/highered/product/fundamentals-aerodynamics-anderson/M9781259129919.html\">[source] </a></p>\n",
    "\n",
    "</center>"
   ]
  },
  {
   "cell_type": "markdown",
   "id": "brutal-crash",
   "metadata": {
    "slideshow": {
     "slide_type": "skip"
    }
   },
   "source": [
    "It is worth noting that the velocity over the airfoil $w(z)$ blows up at $z=\\pm 2a$ unless the numerator $U_{\\infty} z\\sin \\alpha - \\frac{\\Gamma}{2 \\pi}$ goes to zero too. Problem is that the denominator goes to zero at $z=\\pm 2a$ but the numerator can only be made zero at either the trailing edge $+2a$ or the leading edge $-2a$. The Kutta condition states that the velocity at the trailing edge needs to be finite so the unique circulation then obtained is given by "
   ]
  },
  {
   "cell_type": "markdown",
   "id": "extra-belarus",
   "metadata": {
    "slideshow": {
     "slide_type": "subslide"
    }
   },
   "source": [
    "$$\\Gamma = 4 \\pi a U_{\\infty}\\sin \\alpha = 2\\pi c U_{\\infty}\\sin \\alpha$$"
   ]
  },
  {
   "cell_type": "markdown",
   "id": "through-interview",
   "metadata": {
    "slideshow": {
     "slide_type": "skip"
    }
   },
   "source": [
    "Using the Kutta-Joukowski relation and the definition of coefficient of lift"
   ]
  },
  {
   "cell_type": "markdown",
   "id": "surprised-picture",
   "metadata": {
    "slideshow": {
     "slide_type": "fragment"
    }
   },
   "source": [
    "$$C_L = 2\\pi \\sin \\alpha \\approx 2\\pi \\alpha$$"
   ]
  },
  {
   "cell_type": "markdown",
   "id": "asian-relative",
   "metadata": {
    "slideshow": {
     "slide_type": "skip"
    }
   },
   "source": [
    "Using the Bernoulli's equation, the pressure distribution is given by -"
   ]
  },
  {
   "cell_type": "markdown",
   "id": "coordinated-knowing",
   "metadata": {
    "slideshow": {
     "slide_type": "fragment"
    }
   },
   "source": [
    "$$p(x) = \\rho U_\\infty^2\\sin 2\\alpha \\sqrt{\\frac{a - x}{a+x}}$$"
   ]
  },
  {
   "cell_type": "markdown",
   "id": "mathematical-legislature",
   "metadata": {
    "slideshow": {
     "slide_type": "skip"
    }
   },
   "source": [
    "The center of pressure then turns out to be at the quarter chord. Note that the potential flow theory formulation still leaves the unphysical infinite velocity at the leading edge unresolved. However, this is considered acceptable because in reality a high pressure suction peak is observed at the leading edge but not at the trailing edge. Potential flow solution with the Kutta condition imposed is qualitatively able to reproduce that scenario and the infinite velocity at $z=-2a$ can be considered as a mathematical consequence of idealisation of the flow within the framework of potential flow theory. "
   ]
  },
  {
   "cell_type": "markdown",
   "id": "2f7c07aa",
   "metadata": {
    "slideshow": {
     "slide_type": "skip"
    }
   },
   "source": [
    "### Further results/discussion"
   ]
  },
  {
   "cell_type": "markdown",
   "id": "cf8c714b",
   "metadata": {
    "slideshow": {
     "slide_type": "subslide"
    }
   },
   "source": [
    "<center>\n",
    "    <img src=\"../../assets/JoukowskiZPlane.png\" class=\"Large\">\n",
    "    <p  style=\"font-size:16px; color:gray; text-align:center;\"> Complex mapping from cylinder to an airfoil</p>\n",
    "</center>"
   ]
  },
  {
   "cell_type": "markdown",
   "id": "52cae2a1",
   "metadata": {
    "slideshow": {
     "slide_type": "skip"
    }
   },
   "source": [
    "Using the Joukowski's conformal mapping, the surface of a cylinder maps to a flat plate along the x-axis."
   ]
  },
  {
   "cell_type": "markdown",
   "id": "7236aa74",
   "metadata": {
    "slideshow": {
     "slide_type": "fragment"
    }
   },
   "source": [
    "$$\n",
    "r=\\frac{1}{2} b  \\longrightarrow -b \\leq x \\leq b, \\quad y=0\n",
    "$$"
   ]
  },
  {
   "cell_type": "markdown",
   "id": "a9adbeca",
   "metadata": {
    "slideshow": {
     "slide_type": "skip"
    }
   },
   "source": [
    "Each point (X,Y) maps to (x,y) according to the following relations-"
   ]
  },
  {
   "cell_type": "markdown",
   "id": "172d836c",
   "metadata": {
    "slideshow": {
     "slide_type": "fragment"
    }
   },
   "source": [
    "$$z = \\xi + \\frac{b^2}{4\\xi} $$\n",
    "$$\\Rightarrow x+i y=(X+i Y)+\\frac{b^2}{4(X+i Y)}$$\n",
    "\n",
    "\n",
    "$$\n",
    "\\begin{gathered}\n",
    "X=r \\cos \\theta, \\quad Y=r \\sin \\theta, \\\\\n",
    "X+i Y=r(\\cos \\theta+i \\sin \\theta)=r e^{i \\theta} \n",
    "\\end{gathered}\n",
    "$$\n",
    "$$x=b \\cos \\theta, \\quad y=0 $$\n"
   ]
  },
  {
   "cell_type": "markdown",
   "id": "e7aea8ee",
   "metadata": {
    "slideshow": {
     "slide_type": "skip"
    }
   },
   "source": [
    "Similarly, position on the X-axis transform in the z-domain to the x-axis."
   ]
  },
  {
   "cell_type": "markdown",
   "id": "56d281f9",
   "metadata": {
    "slideshow": {
     "slide_type": "skip"
    }
   },
   "source": [
    "$$ x=X+b^2 / 4 X, \\quad y=Y=0 $$"
   ]
  },
  {
   "cell_type": "markdown",
   "id": "7e819a7f",
   "metadata": {
    "cell_style": "center",
    "slideshow": {
     "slide_type": "skip"
    }
   },
   "source": [
    "The velocities between the two domains get mapped as shown below."
   ]
  },
  {
   "cell_type": "markdown",
   "id": "8b7fbbc2",
   "metadata": {
    "slideshow": {
     "slide_type": "subslide"
    }
   },
   "source": [
    "<center>\n",
    "    <img src=\"../../assets/VelocityZPlane.png\" class=\"large\">\n",
    "    <p  style=\"font-size:16px; color:gray; text-align:center;\"> Velocity transformation from the $\\xi$-domain to the $z$-domain </p>\n",
    "\n",
    "</center>"
   ]
  },
  {
   "cell_type": "markdown",
   "id": "5fb98745",
   "metadata": {
    "slideshow": {
     "slide_type": "fragment"
    }
   },
   "source": [
    "$$\n",
    "u-i v=\\frac{V_X-i V_Y}{[d(x+i y) / d(X+i Y)]} \n",
    "$$\n",
    "\n",
    "$$\n",
    "\\begin{aligned}\n",
    "{\\left[\\frac{d(x+i y)}{d(X+i Y)}\\right]_{r = b / 2} } & =\\left[1-\\frac{b^2}{4(X+i Y)^2}\\right]_{r=b / 2} \\\\\n",
    "& =1-\\frac{b^2}{b^2 e^{i 2 \\theta}}=2 \\sin \\theta e^{i \\theta}\n",
    "\\end{aligned}\n",
    "$$\n",
    "\n",
    "$$\\left|u-i v\\right|=\\sqrt{u^2+v^2}=\\frac{\\sqrt{V_X^2+V_Y^2}}{|2 \\sin \\theta|}=\\frac{\\sqrt{V_\\theta^2+V_r^2}}{|2 \\sin \\theta|}$$\n"
   ]
  },
  {
   "cell_type": "markdown",
   "id": "588d41c3",
   "metadata": {
    "slideshow": {
     "slide_type": "skip"
    }
   },
   "source": [
    "Therefore the flow velocities in the two domains are related as-"
   ]
  },
  {
   "cell_type": "markdown",
   "id": "e4c4021f",
   "metadata": {
    "slideshow": {
     "slide_type": "fragment"
    }
   },
   "source": [
    "$$\n",
    "\\begin{aligned}\n",
    "& \\left|u\\right|=\\frac{\\left|V_\\theta\\right|}{|2 \\sin \\theta|}, \\\\\n",
    "& |v|=\\frac{\\left|V_r\\right|}{|2 \\sin \\theta|} \n",
    "\\end{aligned}\n",
    "$$\n"
   ]
  },
  {
   "cell_type": "markdown",
   "id": "cd052ad7",
   "metadata": {},
   "source": [
    "And in the domain $0 \\leq \\theta \\leq \\pi$, for e.g.,"
   ]
  },
  {
   "cell_type": "markdown",
   "id": "2c2bef0e",
   "metadata": {},
   "source": [
    "$$\n",
    "\\left.\\begin{array}{l}\n",
    "V_\\theta=-2 u \\sin \\theta \\\\\n",
    "V_r=2 v \\sin \\theta,\n",
    "\\end{array}\\right\\} 0 \\leq \\theta \\leq \\pi \n",
    "$$"
   ]
  },
  {
   "cell_type": "markdown",
   "id": "578ac150",
   "metadata": {
    "slideshow": {
     "slide_type": "skip"
    }
   },
   "source": [
    "```{admonition} Note\n",
    "If the tangential flow velocity at in the cylinder domain is non-zero at $\\theta=0$ then that translates to $u=\\infty$ at the trailing-edge of the airfoil in the z-domain. \n",
    "```"
   ]
  },
  {
   "cell_type": "markdown",
   "id": "3c1f4a13",
   "metadata": {
    "slideshow": {
     "slide_type": "skip"
    }
   },
   "source": [
    "Based on the velocity distribution, the corresponding potential function on the airfoil surface $\\phi(x)$ can be obtained-"
   ]
  },
  {
   "cell_type": "markdown",
   "id": "1d2959ca",
   "metadata": {
    "slideshow": {
     "slide_type": "skip"
    }
   },
   "source": [
    "$$\\phi(x_1)-\\phi(x_2) = \\int_{x_2}^{x_1}\\frac{\\partial \\phi}{\\partial x} dx$$"
   ]
  },
  {
   "cell_type": "markdown",
   "id": "04bfdb25",
   "metadata": {
    "slideshow": {
     "slide_type": "skip"
    }
   },
   "source": [
    "and in particular"
   ]
  },
  {
   "cell_type": "markdown",
   "id": "22ce7d07",
   "metadata": {
    "slideshow": {
     "slide_type": "subslide"
    }
   },
   "source": [
    "$$\\phi(x)-\\phi_{LE} = \\int_{LE}^{x}\\frac{\\partial \\phi}{\\partial x} dx$$"
   ]
  },
  {
   "cell_type": "markdown",
   "id": "eab20925",
   "metadata": {
    "slideshow": {
     "slide_type": "skip"
    }
   },
   "source": [
    "Additionally, unlike the stream function $\\psi$, the value of the scalar potential function $\\phi$ itself at a given point does not have a physical meaning. It is the derivatives of $\\phi$ that need to satisfy the relevant conditions so the value at any given location can be chosen as the reference and set to 0. In this case $\\phi_{LE}=0$ is assumed to simplify the above expression. Also, to avoid confusion the variable of integration is changed to $\\varphi$ in order to use the polar coordinates instead of Cartesian coordinates."
   ]
  },
  {
   "cell_type": "markdown",
   "id": "6061a341",
   "metadata": {
    "slideshow": {
     "slide_type": "fragment"
    }
   },
   "source": [
    "\\begin{equation*} \n",
    "\\begin{split}\n",
    "\\phi(\\theta) &= \\int_{\\pi}^{\\theta}\\frac{-V_\\theta}{2\\sin \\varphi} (-b\\sin \\varphi d\\varphi) \\\\\n",
    "&=\\frac{-b}{2}\\int_{\\theta}^{\\pi}V_\\theta d\\varphi \n",
    "\\end{split}\n",
    "\\end{equation*}"
   ]
  },
  {
   "cell_type": "markdown",
   "id": "58c73553",
   "metadata": {
    "slideshow": {
     "slide_type": "skip"
    }
   },
   "source": [
    "So once the tangential flow velocity around a cylinder is known, the potential function can be obtained in a straightforward manner."
   ]
  },
  {
   "cell_type": "markdown",
   "id": "7d963a23",
   "metadata": {
    "slideshow": {
     "slide_type": "subslide"
    }
   },
   "source": [
    "### Linearised unsteady Bernoulli's equation"
   ]
  },
  {
   "cell_type": "markdown",
   "id": "2420079e",
   "metadata": {
    "slideshow": {
     "slide_type": "skip"
    }
   },
   "source": [
    "The general unsteady Bernoulli's equation is given by the following expression "
   ]
  },
  {
   "cell_type": "markdown",
   "id": "f95d9b7a",
   "metadata": {
    "slideshow": {
     "slide_type": "-"
    }
   },
   "source": [
    "$$\\frac{\\partial \\phi}{\\partial t}+\\frac{|\\nabla \\phi|^2}{2}+F+\\frac{p}{\\rho}=\\text { constant }$$"
   ]
  },
  {
   "cell_type": "markdown",
   "id": "c319c620",
   "metadata": {
    "slideshow": {
     "slide_type": "skip"
    }
   },
   "source": [
    "Where, $\\left | F \\right |=gz$ is the body force acting on the fluid and can be neglected for our purposes since the fluid flows horizontally. Assume the above expression to be given (for derivation one can consult Section 2.12 in {cite}`BA5`). "
   ]
  },
  {
   "cell_type": "markdown",
   "id": "2d22a0d0",
   "metadata": {
    "slideshow": {
     "slide_type": "fragment"
    }
   },
   "source": [
    "\\begin{equation*} \n",
    "\\begin{split}\n",
    "p-p_\\infty = & -\\rho\\left [ \\frac{\\partial \\phi}{\\partial t}+\\frac{|\\nabla \\phi|^2-U_\\infty^2}{2} \\right ] \\\\\n",
    "& = -\\rho\\left [ \\frac{\\partial \\phi}{\\partial t}+\\frac{|\\mathbf{V}|^2-U_\\infty^2}{2} \\right ] \\\\\n",
    "& \\approx -\\rho\\left [ \\frac{\\partial \\phi}{\\partial t}+U_\\infty u \\right ] \\\\\n",
    "& = -\\rho\\left [ \\frac{\\partial \\phi}{\\partial t}+U_\\infty \\frac{\\partial \\phi}{\\partial x}  \\right ] \n",
    "\\end{split}\n",
    "\\end{equation*}"
   ]
  },
  {
   "cell_type": "markdown",
   "id": "4831fbc5",
   "metadata": {
    "slideshow": {
     "slide_type": "skip"
    }
   },
   "source": [
    "Here $|\\nabla \\phi|^2 = |\\mathbf{V}|^2$ is a non-linear term which has been linearised about the mean flow velocity of $U_\\infty$. Additionally, $\\mathbf{V} = (u+U_\\infty)\\hat{i}+v\\hat{j}$ was assumed in the above derivation where $u$ and $v<<U_\\infty$."
   ]
  },
  {
   "cell_type": "markdown",
   "id": "c3b659f5",
   "metadata": {
    "slideshow": {
     "slide_type": "skip"
    }
   },
   "source": [
    "The total lift generated over the airfoil surface spanning from $-b$ to $+b$ is given by-"
   ]
  },
  {
   "cell_type": "markdown",
   "id": "1f20b66e",
   "metadata": {
    "slideshow": {
     "slide_type": "fragment"
    }
   },
   "source": [
    "\\begin{equation*} \n",
    "\\begin{split} \n",
    "L &= \\int_{-b}^{b}p_l-p_u dx \\\\\n",
    "&= \\int_{-b}^{b}2\\rho\\left [ \\frac{\\partial \\phi}{\\partial t}+U_\\infty \\frac{\\partial \\phi}{\\partial x}  \\right ] dx \n",
    "\\end{split}\n",
    "\\end{equation*}"
   ]
  },
  {
   "cell_type": "markdown",
   "id": "16f13429",
   "metadata": {
    "slideshow": {
     "slide_type": "skip"
    }
   },
   "source": [
    "Again, assuming $\\phi_{LE}=0$ the lift expression simplifies to   "
   ]
  },
  {
   "cell_type": "markdown",
   "id": "f16c3bcd",
   "metadata": {
    "slideshow": {
     "slide_type": "fragment"
    }
   },
   "source": [
    "$$L=2\\rho\\int_{-b}^{b} \\frac{\\partial \\phi}{\\partial t} dx +U_\\infty \\phi_{TE}$$"
   ]
  },
  {
   "cell_type": "markdown",
   "id": "9532c32d",
   "metadata": {
    "slideshow": {
     "slide_type": "skip"
    }
   },
   "source": [
    "So once the potential function on the surface of the airfoil is known, the total unsteady lift at a given instant of time can be evaluated in a straightforward manner. "
   ]
  },
  {
   "cell_type": "markdown",
   "id": "prescribed-cambodia",
   "metadata": {
    "slideshow": {
     "slide_type": "slide"
    }
   },
   "source": [
    "## Unsteady Development of Steady lift"
   ]
  },
  {
   "cell_type": "markdown",
   "id": "pointed-jesus",
   "metadata": {
    "slideshow": {
     "slide_type": "skip"
    }
   },
   "source": [
    "We now know that in case of an impulsively started flow, Kelvin's theorem needs to apply and consequently a starting vortex is shed in the wake as a vorticity of equal magnitude develops around the airfoil. In reality, this circulation develops due to the viscous property of fluids which is completely ignored in the potential flow theory that has been used as the modelling strategy. Instead, the Kutta condition has been used to uniquely quantify the circulatory effect around the airfoil. Based on the level of modelling fidelity, the total lift can be evaluated either assuming distributed vorticity or concentrated vorticity."
   ]
  },
  {
   "cell_type": "markdown",
   "id": "norwegian-vocabulary",
   "metadata": {
    "slideshow": {
     "slide_type": "-"
    }
   },
   "source": [
    "<center>\n",
    "    <img src=\"../../assets/BoundStartingVortexT0+.png\" class=\"big\">\n",
    "    <p  style=\"font-size:16px; color:gray; text-align:center;\"> Two levels of modelling instantaneous circulation due to bound and starting vortex after impulsive start of flow</p>\n",
    "\n",
    "</center>\n"
   ]
  },
  {
   "cell_type": "markdown",
   "id": "liked-karen",
   "metadata": {
    "slideshow": {
     "slide_type": "skip"
    }
   },
   "source": [
    "Since the starting vortex is close to the airfoil it induces a velocity on the surface of the airfoil much like the induced velocity concept we've now become familiar with in the context of finite-wing theory. *So even 2D airfoils experience an induced velocity when unsteadiness is accounted for, steady airfoils don't!.* As time progresses the starting vortex drifts away from the airfoil and the corresponding induced velocity effect on the airfoil decreases. After sufficiently long time, the effect of the starting vortex is negligible such that even its mere presence is ignored and we have the familiar picture of steady-state lift generation around an airfoil represented as bound vorticity that we are familiar with. "
   ]
  },
  {
   "cell_type": "markdown",
   "id": "varied-cheese",
   "metadata": {
    "slideshow": {
     "slide_type": "fragment"
    }
   },
   "source": [
    "<center>\n",
    "    <img src=\"../../assets/BoundVortexLargeTime.png\" class=\"big\">\n",
    "    <p  style=\"font-size:16px; color:gray; text-align:center;\"> Two levels of modelling instantaneous circulation due to bound and starting vortex after impulsive start of flow</p>\n",
    "\n",
    "</center>\n"
   ]
  },
  {
   "cell_type": "markdown",
   "id": "sitting-tender",
   "metadata": {
    "slideshow": {
     "slide_type": "slide"
    }
   },
   "source": [
    "## Unsteady Lift due to Airfoil Motion"
   ]
  },
  {
   "cell_type": "markdown",
   "id": "harmful-knock",
   "metadata": {
    "slideshow": {
     "slide_type": "skip"
    }
   },
   "source": [
    "Now, extending the above strategy of modelling unsteadiness when the airfoil is undergoing motion such that its angle of attack is constantly changing. Using the physical model that has been used until now based on established fluid dynamics prinicples, airfoil motion immediately implies changing angle of attack. This in turn means a varying bound circulation around the airfoil and, therefore, more 'starting' vortices except now they are refered to as shed vortices. Like the starting vortex, shed vortices are emanated from the airfoil trailing-edge and thereafter move with the free stream and their effect on the airfoil can be neglected when they get far from the airfoil. However, due to the varying bound vorticity around the airfoil there is new shed vortices continuously introduced into the flow from the trailing-edge. Even after sufficiently long time the lift generated by the airfoil will not reach a steady state because - 1) the airfoil is moving so the angle of attack is not constant and 2) the airfoil is continuously under the influence of induced velocity of shed vortices. The shed vortices are continuously drifting away from the airfoil so their effect on the airfoil is also continuously varying. Keeping track of this time varying strength and position of shed vortices, in order to quantify their influence on the airfoil, and thereby help evaluate the net lift generated by the airfoil, is what unsteady aerodynamics analysis is all about in a nutshell. If you do not account for the effect of the wake, then one ends up with the steady aerodynamics domain of analysis. "
   ]
  },
  {
   "cell_type": "markdown",
   "id": "regulation-prophet",
   "metadata": {
    "slideshow": {
     "slide_type": "-"
    }
   },
   "source": [
    "<center>\n",
    "    <img src=\"../../assets/BoundShedVortexUnsteady.png\" class=\"big\">\n",
    "    <p  style=\"font-size:16px; color:gray; text-align:center;\"> Instantaneous circulation due to bound and starting vortex after impulsive start of flow</p>\n",
    "\n",
    "</center>  "
   ]
  },
  {
   "cell_type": "markdown",
   "id": "confidential-facing",
   "metadata": {
    "slideshow": {
     "slide_type": "skip"
    }
   },
   "source": [
    "Next we look at the classical Theordorsen model to predict unsteady pressure distribution around thin airfoils."
   ]
  }
 ],
 "metadata": {
  "celltoolbar": "Slideshow",
  "hide_input": false,
  "kernelspec": {
   "display_name": "Python 3 (ipykernel)",
   "language": "python",
   "name": "python3"
  },
  "language_info": {
   "codemirror_mode": {
    "name": "ipython",
    "version": 3
   },
   "file_extension": ".py",
   "mimetype": "text/x-python",
   "name": "python",
   "nbconvert_exporter": "python",
   "pygments_lexer": "ipython3",
   "version": "3.8.5"
  },
  "latex_envs": {
   "LaTeX_envs_menu_present": true,
   "autoclose": true,
   "autocomplete": false,
   "bibliofile": "biblio.bib",
   "cite_by": "apalike",
   "current_citInitial": 1,
   "eqLabelWithNumbers": false,
   "eqNumInitial": 1,
   "hotkeys": {
    "equation": "Ctrl-E",
    "itemize": "Ctrl-I"
   },
   "labels_anchors": false,
   "latex_user_defs": false,
   "report_style_numbering": false,
   "user_envs_cfg": false
  },
  "rise": {
   "autolaunch": false,
   "backimage": "../../assets/tum_bg_top_right.png",
   "enable_chalkboard": true,
   "footer": "Sumeet Kumar, PhD candidate",
   "scroll": true
  },
  "varInspector": {
   "cols": {
    "lenName": 16,
    "lenType": 16,
    "lenVar": 40
   },
   "kernels_config": {
    "python": {
     "delete_cmd_postfix": "",
     "delete_cmd_prefix": "del ",
     "library": "var_list.py",
     "varRefreshCmd": "print(var_dic_list())"
    },
    "r": {
     "delete_cmd_postfix": ") ",
     "delete_cmd_prefix": "rm(",
     "library": "var_list.r",
     "varRefreshCmd": "cat(var_dic_list()) "
    }
   },
   "types_to_exclude": [
    "module",
    "function",
    "builtin_function_or_method",
    "instance",
    "_Feature"
   ],
   "window_display": false
  }
 },
 "nbformat": 4,
 "nbformat_minor": 5
}
