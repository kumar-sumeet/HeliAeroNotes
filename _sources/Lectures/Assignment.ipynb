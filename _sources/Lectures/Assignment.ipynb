{
 "cells": [
  {
   "cell_type": "markdown",
   "id": "9842e3ed",
   "metadata": {},
   "source": [
    "# Aerodynamics of Human Powered Helicopter"
   ]
  },
  {
   "cell_type": "markdown",
   "id": "326c01ae",
   "metadata": {},
   "source": [
    "The Igor I. Sikorsky Human Powered Helicopter Competition was a $250k competition by the American Helicopter Society and sponsored by Sikorsky Aircraft Corp. The aim was to construct and fly a helicopter purely on human power. This was finally achieved by a team from the University of Toronto, with a team from the University of Maryland also accomplishing the goals of the competition (only later). The objective of this assignement is to read relevant literature about these designs and explain the most critical aspects, only from the rotor aerodynamics point of view, within 2000-2500 words. In case a graph or figure is required then that counts as 200 words. If it helps, imagine the write-up as a explanation to your younger self who is not familiar with rotor aerodynamics per se but otherwise familiar with fundamental aerodynamics ideas. Accordingly, the exercise is not just about summarising the design decisions of the two teams but to explain them as best as possible within the framework of everything covered in this course. "
   ]
  },
  {
   "cell_type": "markdown",
   "id": "de6b224d",
   "metadata": {},
   "source": [
    "## Instructions"
   ]
  },
  {
   "cell_type": "markdown",
   "id": "60287f07",
   "metadata": {},
   "source": [
    "- DO NOT PLAGIARIZE\n",
    "    - use own words\n",
    "- be careful of FPS units in literature\n",
    "- read as much literature as possible\n",
    "- **bonus points for self-generated plots!!** $\\leftarrow$ this is above and beyond the 40% of the grade reserved for the assigment\n",
    "- **bonus points for any original thoughts/insights**"
   ]
  },
  {
   "cell_type": "markdown",
   "id": "2e2c6e1e",
   "metadata": {},
   "source": [
    "The assignment will be due on the last class of the course. "
   ]
  },
  {
   "cell_type": "markdown",
   "id": "eab2cc4e",
   "metadata": {},
   "source": [
    "## Suggested reading"
   ]
  },
  {
   "cell_type": "markdown",
   "id": "929d8bf0",
   "metadata": {},
   "source": [
    "Robertson, Cameron D.; Reichert, Todd M., <a href=\"https://arc.aiaa.org/doi/10.2514/1.J053579\">Design and Development of the Atlas Human-Powered Helicopter.</a> \n",
    "\n",
    "Human Powered Helicopter. https://vtol.org/awards-and-contests/human-powered-helicopter\n",
    "\n",
    "Ben Berry, Graham Bowen-Davies, Kyle Gluesenkamp, Zak Kaler, Joseph Schmaus, William Staruk, Elizabeth Weiner, Benjamin K.S. Woods;  <a href=\"https://www.researchgate.net/profile/Benjamin-Woods-2/publication/267804115_Design_Optimization_of_Gamera_II_a_Human_Powered_Helicopter/links/548638720cf268d28f044dbe/Design-Optimization-of-Gamera-II-a-Human-Powered-Helicopter.pdf\">Design Optimization of Gamera II: a Human Powered Helicopter.</a>\n"
   ]
  }
 ],
 "metadata": {
  "hide_input": false,
  "kernelspec": {
   "display_name": "Python 3 (ipykernel)",
   "language": "python",
   "name": "python3"
  },
  "language_info": {
   "codemirror_mode": {
    "name": "ipython",
    "version": 3
   },
   "file_extension": ".py",
   "mimetype": "text/x-python",
   "name": "python",
   "nbconvert_exporter": "python",
   "pygments_lexer": "ipython3",
   "version": "3.8.5"
  },
  "rise": {
   "autolaunch": false,
   "backimage": "../assets/tum_bg_top_right.png",
   "enable_chalkboard": true,
   "footer": "Sumeet Kumar, PhD candidate",
   "scroll": true
  },
  "varInspector": {
   "cols": {
    "lenName": 16,
    "lenType": 16,
    "lenVar": 40
   },
   "kernels_config": {
    "python": {
     "delete_cmd_postfix": "",
     "delete_cmd_prefix": "del ",
     "library": "var_list.py",
     "varRefreshCmd": "print(var_dic_list())"
    },
    "r": {
     "delete_cmd_postfix": ") ",
     "delete_cmd_prefix": "rm(",
     "library": "var_list.r",
     "varRefreshCmd": "cat(var_dic_list()) "
    }
   },
   "types_to_exclude": [
    "module",
    "function",
    "builtin_function_or_method",
    "instance",
    "_Feature"
   ],
   "window_display": false
  }
 },
 "nbformat": 4,
 "nbformat_minor": 5
}
