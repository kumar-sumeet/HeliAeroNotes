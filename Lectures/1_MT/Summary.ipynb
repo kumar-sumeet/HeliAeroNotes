{
 "cells": [
  {
   "cell_type": "markdown",
   "id": "d4d77cb6",
   "metadata": {},
   "source": [
    "# Summary"
   ]
  },
  {
   "cell_type": "markdown",
   "id": "49424e95",
   "metadata": {},
   "source": [
    "The momentum theory method discussed here is highly restrictive, since it does not provide but simultaneously incredibly useful ... Next we will talk about the blade element momentum theory method that tends to overcome some of the shortcomings of the momentum theory method."
   ]
  },
  {
   "cell_type": "markdown",
   "id": "567b05ab",
   "metadata": {},
   "source": [
    "## Are there better models?"
   ]
  },
  {
   "cell_type": "markdown",
   "id": "065c661f",
   "metadata": {},
   "source": [
    "\n",
    "- some of the most high-fidelity analyses fall within the realm of CFD methods\n",
    "\n",
    "- vortex particle methods {cite}`A9_1` or the vorticity transport *(add citation)*\n",
    "\n",
    "- dynamic inflow models {cite}`T20,T16,T24`  \n",
    "\n",
    "- prescribed wake methods"
   ]
  },
  {
   "cell_type": "markdown",
   "id": "6d5da25e",
   "metadata": {},
   "source": [
    "Except CFD methods and prescribed wake methods, all of the above are ways to model the rotor wake only i.e. evolution of the flow once it\n",
    "has been *disturbed* by the rotor blades (airfoil surfaces). Another model is needed to quantify this *disturbance* so that the wake models above take that as an input and ..."
   ]
  }
 ],
 "metadata": {
  "hide_input": false,
  "kernelspec": {
   "display_name": "Python 3 (ipykernel)",
   "language": "python",
   "name": "python3"
  },
  "language_info": {
   "codemirror_mode": {
    "name": "ipython",
    "version": 3
   },
   "file_extension": ".py",
   "mimetype": "text/x-python",
   "name": "python",
   "nbconvert_exporter": "python",
   "pygments_lexer": "ipython3",
   "version": "3.8.5"
  },
  "varInspector": {
   "cols": {
    "lenName": 16,
    "lenType": 16,
    "lenVar": 40
   },
   "kernels_config": {
    "python": {
     "delete_cmd_postfix": "",
     "delete_cmd_prefix": "del ",
     "library": "var_list.py",
     "varRefreshCmd": "print(var_dic_list())"
    },
    "r": {
     "delete_cmd_postfix": ") ",
     "delete_cmd_prefix": "rm(",
     "library": "var_list.r",
     "varRefreshCmd": "cat(var_dic_list()) "
    }
   },
   "types_to_exclude": [
    "module",
    "function",
    "builtin_function_or_method",
    "instance",
    "_Feature"
   ],
   "window_display": false
  }
 },
 "nbformat": 4,
 "nbformat_minor": 5
}
