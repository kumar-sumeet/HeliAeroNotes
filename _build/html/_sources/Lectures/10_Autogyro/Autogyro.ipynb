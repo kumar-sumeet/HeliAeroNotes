{
 "cells": [
  {
   "cell_type": "markdown",
   "id": "a1e18214",
   "metadata": {},
   "source": [
    "# Autogyro"
   ]
  },
  {
   "cell_type": "markdown",
   "id": "62b3a54c",
   "metadata": {},
   "source": [
    "...or autogiro or gyrodyne or gyroplane ..."
   ]
  },
  {
   "cell_type": "markdown",
   "id": "0de46bc8",
   "metadata": {},
   "source": [
    "```{epigraph}\n",
    "\"... is a\n",
    "perfected airplane, although not designed with the sporting purpose\n",
    "of increasing speed nor with the commercial object of enlarging the\n",
    "the radius of action, but with the humanitarian purpose of reducing\n",
    "to a minimum the number of accidents and the number of human lives\n",
    "sacrificed in the fight for the conquest of the air.\"\n",
    "\n",
    "-- [NASA TM No.216, 1923](https://ntrs.nasa.gov/citations/19930084591) \n",
    "```"
   ]
  },
  {
   "cell_type": "markdown",
   "id": "eccfed1f",
   "metadata": {},
   "source": [
    "This chapter is largely based on Refs. {cite}`Add40` and Chapter 12 in {cite}`B3`"
   ]
  },
  {
   "cell_type": "markdown",
   "id": "3126850d",
   "metadata": {},
   "source": [
    "Pretty incredible idea to go from a fixed-wing design with tractor (or pusher) props to\n",
    "adding a freewheeling rotor on top"
   ]
  },
  {
   "cell_type": "markdown",
   "id": "744faba8",
   "metadata": {},
   "source": [
    "Autogyros (or Gyrocopters) are a class of aircraft with a pusher prop and a rotor that is tilted backwards and rotate freely in the air. \n",
    "Concieved before helicopters as we know them today became mainstream\n",
    "Take-off only possible with some run-up\n",
    "Alternately, engine power diverted to the rotor temporarily to rotate it\n",
    "Rotate rotor with low pitch setting and then quickly raise \n",
    "\n",
    "```{figure} ../../assets/autogyro.jpg\n",
    "---\n",
    "height: 150px\n",
    "name: autogyro\n",
    "---\n",
    "autogyro [source](https://en.wikipedia.org/wiki/Autogyro#/media/File:362934-gryocopter-pilot-norman-surplus-uploaded-august-11-2015-taken-from-surplus-website.jpg)\n",
    "```\n",
    "\n",
    "So the rotor is unpowered and provides lift using autorotation\n",
    "\n",
    "Jumpy take-off exhibited by and Autogyro where the engine power is transmitted to the rotor via a clutch mechanism."
   ]
  },
  {
   "cell_type": "code",
   "execution_count": null,
   "id": "3150f171",
   "metadata": {},
   "outputs": [],
   "source": [
    "from IPython.display import YouTubeVideo\n",
    "YouTubeVideo('hI5cAgWmShU', width=500, height=270)\n",
    "\n",
    "#need to prevent this code cell from showing at all!! (not even 'click to see')\n",
    "#add helicopter jump take off as well"
   ]
  },
  {
   "cell_type": "markdown",
   "id": "71c0608d",
   "metadata": {},
   "source": [
    "\n",
    "## Forward flight: lift assymetry\n",
    "\n",
    "As discussed in {ref}`content:5_FF_T_La:labels`\n"
   ]
  },
  {
   "cell_type": "markdown",
   "id": "a4586d54",
   "metadata": {},
   "source": []
  },
  {
   "cell_type": "markdown",
   "id": "6ba68aa6",
   "metadata": {},
   "source": []
  },
  {
   "cell_type": "markdown",
   "id": "791db7d9",
   "metadata": {},
   "source": []
  },
  {
   "cell_type": "markdown",
   "id": "8b7dd2a5",
   "metadata": {},
   "source": []
  },
  {
   "cell_type": "markdown",
   "id": "de67eeb8",
   "metadata": {},
   "source": []
  },
  {
   "cell_type": "markdown",
   "id": "d4c67cd8",
   "metadata": {},
   "source": []
  },
  {
   "cell_type": "markdown",
   "id": "dca18e7b",
   "metadata": {},
   "source": []
  }
 ],
 "metadata": {
  "hide_input": false,
  "kernelspec": {
   "display_name": "Python 3 (ipykernel)",
   "language": "python",
   "name": "python3"
  },
  "language_info": {
   "codemirror_mode": {
    "name": "ipython",
    "version": 3
   },
   "file_extension": ".py",
   "mimetype": "text/x-python",
   "name": "python",
   "nbconvert_exporter": "python",
   "pygments_lexer": "ipython3",
   "version": "3.8.5"
  },
  "varInspector": {
   "cols": {
    "lenName": 16,
    "lenType": 16,
    "lenVar": 40
   },
   "kernels_config": {
    "python": {
     "delete_cmd_postfix": "",
     "delete_cmd_prefix": "del ",
     "library": "var_list.py",
     "varRefreshCmd": "print(var_dic_list())"
    },
    "r": {
     "delete_cmd_postfix": ") ",
     "delete_cmd_prefix": "rm(",
     "library": "var_list.r",
     "varRefreshCmd": "cat(var_dic_list()) "
    }
   },
   "types_to_exclude": [
    "module",
    "function",
    "builtin_function_or_method",
    "instance",
    "_Feature"
   ],
   "window_display": false
  }
 },
 "nbformat": 4,
 "nbformat_minor": 5
}
