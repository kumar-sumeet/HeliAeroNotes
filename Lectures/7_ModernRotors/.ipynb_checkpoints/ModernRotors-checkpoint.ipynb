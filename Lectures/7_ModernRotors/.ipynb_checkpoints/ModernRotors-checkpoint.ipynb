{
 "cells": [
  {
   "cell_type": "markdown",
   "id": "6c601dc9",
   "metadata": {},
   "source": [
    "# Overview"
   ]
  },
  {
   "cell_type": "code",
   "execution_count": null,
   "id": "dbb5d30f",
   "metadata": {},
   "outputs": [],
   "source": []
  },
  {
   "cell_type": "code",
   "execution_count": 1,
   "id": "0abffb41",
   "metadata": {},
   "outputs": [],
   "source": [
    "## Wind tunnel"
   ]
  },
  {
   "cell_type": "code",
   "execution_count": null,
   "id": "8072cc9b",
   "metadata": {},
   "outputs": [],
   "source": [
    "Two wind tunnels feature prominently in experimental measurement campaigns involving rotorcraft\n",
    "\n",
    "- NASA Ames wind tunnel\n",
    "- Dutch DLR wind tunnel\n"
   ]
  },
  {
   "cell_type": "markdown",
   "id": "e5be9e1f",
   "metadata": {},
   "source": [
    "### [NASA](https://www.nasa.gov/centers/langley/news/factsheets/WindTunnel.html#:~:text=The%20largest%20wind%20tunnel%20in,high%20and%2080%20feet%20wide.)"
   ]
  },
  {
   "cell_type": "markdown",
   "id": "9cc13d99",
   "metadata": {},
   "source": [
    "\n",
    "This is the largest wind tunnel in the world with a 24.4 m x 36.6 m cross-section."
   ]
  },
  {
   "cell_type": "code",
   "execution_count": null,
   "id": "d5ca830a",
   "metadata": {},
   "outputs": [],
   "source": [
    "```{figure} ../../assets/UH60IBC.png\n",
    "---\n",
    "height: 150px\n",
    "name: UH60IBC\n",
    "---\n",
    "UH-60 IBC [source](https://rotorcraft.arc.nasa.gov/Research/Programs/UH-60_IBC.html)\n",
    "```"
   ]
  },
  {
   "cell_type": "code",
   "execution_count": null,
   "id": "7cf2b61e",
   "metadata": {},
   "outputs": [],
   "source": [
    "```{figure} ../../assets/SMART1.png\n",
    "---\n",
    "height: 150px\n",
    "name: SMART\n",
    "---\n",
    "SMART rotor {cite}'P58_1'\n",
    "```"
   ]
  },
  {
   "cell_type": "code",
   "execution_count": null,
   "id": "fc4a4265",
   "metadata": {},
   "outputs": [],
   "source": [
    "```{figure} ../../assets/SMART2.png\n",
    "---\n",
    "height: 150px\n",
    "name: SMART\n",
    "---\n",
    "SMART rotor {cite}'P58_1'\n",
    "```"
   ]
  },
  {
   "cell_type": "code",
   "execution_count": null,
   "id": "7351442a",
   "metadata": {},
   "outputs": [],
   "source": [
    "```{figure} ../../assets/SMART3.png\n",
    "---\n",
    "height: 150px\n",
    "name: SMART\n",
    "---\n",
    "SMART rotor {cite}'P58_1'\n",
    "```"
   ]
  },
  {
   "cell_type": "code",
   "execution_count": null,
   "id": "98733545",
   "metadata": {},
   "outputs": [],
   "source": []
  },
  {
   "cell_type": "markdown",
   "id": "b6dab12c",
   "metadata": {},
   "source": [
    "## Basic VTOL configuration"
   ]
  },
  {
   "cell_type": "markdown",
   "id": "507cc997",
   "metadata": {},
   "source": [
    "This is all you need to be able to perform the missions defined by the capabilities of a VTOL aircraft"
   ]
  },
  {
   "cell_type": "markdown",
   "id": "76e76977",
   "metadata": {},
   "source": [
    "```{figure} ../../assets/HillerROERotorcycle.jpeg\n",
    "---\n",
    "height: 150px\n",
    "name: HillerROERotorcycle\n",
    "---\n",
    "Hiller ROE Rotorcycle [source](https://en.wikipedia.org/wiki/Hiller_ROE_Rotorcycle#/media/File:Hiller_YROE-1.jpg)\n",
    "```"
   ]
  },
  {
   "cell_type": "code",
   "execution_count": null,
   "id": "85f5d0ca",
   "metadata": {},
   "outputs": [],
   "source": [
    "from IPython.display import YouTubeVideo\n",
    "YouTubeVideo('GIY63dz7bY0', width=500, height=270)"
   ]
  },
  {
   "cell_type": "markdown",
   "id": "6e3f1f19",
   "metadata": {},
   "source": [
    "```{figure} ../../assets/Backpack_Helicopter.jpeg\n",
    "---\n",
    "height: 150px\n",
    "name: Backpack_Helicopter\n",
    "---\n",
    "Pentecost HX-1 Hoppi-Copter [source](https://en.wikipedia.org/wiki/Hoppi-Copter#/media/File:Pentecost_Backpack_Helicopter.JPG)\n",
    "```"
   ]
  },
  {
   "cell_type": "code",
   "execution_count": null,
   "id": "ef37485f",
   "metadata": {},
   "outputs": [],
   "source": [
    "from IPython.display import YouTubeVideo\n",
    "YouTubeVideo('suHOLFhbwsM', width=500, height=270)"
   ]
  },
  {
   "cell_type": "markdown",
   "id": "9acd7a0f",
   "metadata": {},
   "source": [
    "## Coaxial rotors"
   ]
  },
  {
   "cell_type": "code",
   "execution_count": null,
   "id": "f9a63661",
   "metadata": {},
   "outputs": [],
   "source": [
    "```{figure} ../../assets/Backpack_Helicopter.jpeg\n",
    "---\n",
    "height: 150px\n",
    "name: Backpack_Helicopter\n",
    "---\n",
    "Pentecost HX-1 Hoppi-Copter [source](https://en.wikipedia.org/wiki/Hoppi-Copter#/media/File:Pentecost_Backpack_Helicopter.JPG)\n",
    "```"
   ]
  },
  {
   "cell_type": "code",
   "execution_count": null,
   "id": "a3239e93",
   "metadata": {},
   "outputs": [],
   "source": []
  },
  {
   "cell_type": "code",
   "execution_count": null,
   "id": "d025cdb5",
   "metadata": {},
   "outputs": [],
   "source": []
  },
  {
   "cell_type": "code",
   "execution_count": null,
   "id": "483b924b",
   "metadata": {},
   "outputs": [],
   "source": []
  },
  {
   "cell_type": "code",
   "execution_count": null,
   "id": "410dc284",
   "metadata": {},
   "outputs": [],
   "source": []
  },
  {
   "cell_type": "code",
   "execution_count": null,
   "id": "9e04d815",
   "metadata": {},
   "outputs": [],
   "source": []
  },
  {
   "cell_type": "code",
   "execution_count": null,
   "id": "66a35517",
   "metadata": {},
   "outputs": [],
   "source": []
  }
 ],
 "metadata": {
  "hide_input": false,
  "kernelspec": {
   "display_name": "Python 3 (ipykernel)",
   "language": "python",
   "name": "python3"
  },
  "language_info": {
   "codemirror_mode": {
    "name": "ipython",
    "version": 3
   },
   "file_extension": ".py",
   "mimetype": "text/x-python",
   "name": "python",
   "nbconvert_exporter": "python",
   "pygments_lexer": "ipython3",
   "version": "3.8.5"
  },
  "varInspector": {
   "cols": {
    "lenName": 16,
    "lenType": 16,
    "lenVar": 40
   },
   "kernels_config": {
    "python": {
     "delete_cmd_postfix": "",
     "delete_cmd_prefix": "del ",
     "library": "var_list.py",
     "varRefreshCmd": "print(var_dic_list())"
    },
    "r": {
     "delete_cmd_postfix": ") ",
     "delete_cmd_prefix": "rm(",
     "library": "var_list.r",
     "varRefreshCmd": "cat(var_dic_list()) "
    }
   },
   "types_to_exclude": [
    "module",
    "function",
    "builtin_function_or_method",
    "instance",
    "_Feature"
   ],
   "window_display": false
  }
 },
 "nbformat": 4,
 "nbformat_minor": 5
}
