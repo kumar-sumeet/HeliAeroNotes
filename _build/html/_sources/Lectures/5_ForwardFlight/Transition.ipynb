{
 "cells": [
  {
   "cell_type": "markdown",
   "id": "4e91787f",
   "metadata": {},
   "source": [
    "# Transition"
   ]
  },
  {
   "cell_type": "code",
   "execution_count": null,
   "id": "b2f53bf9",
   "metadata": {},
   "outputs": [],
   "source": []
  },
  {
   "cell_type": "markdown",
   "id": "0b4ec567",
   "metadata": {},
   "source": []
  },
  {
   "cell_type": "markdown",
   "id": "1047dd31",
   "metadata": {},
   "source": [
    "(content:5_FF_T_La:labels)=\n",
    "## Lift assymetry\n",
    "\n",
    "- Forward (edgewise) motion of the rotor as a whole creates assymetry of dynamic pressure\n",
    "- If nothing is done, this simply results in more aerodynamic lift in the region of higher dynamic pressure\n",
    "- As revolutionary as it might have been to mechanically implement this during the early days of the evolution of the helicopter rotor system, pitching the rotor blade and thereby controlling the angle of attack has become the most reliable manner we can achieve this"
   ]
  },
  {
   "cell_type": "code",
   "execution_count": null,
   "id": "871ddab5",
   "metadata": {},
   "outputs": [],
   "source": []
  }
 ],
 "metadata": {
  "hide_input": false,
  "kernelspec": {
   "display_name": "Python 3 (ipykernel)",
   "language": "python",
   "name": "python3"
  },
  "language_info": {
   "codemirror_mode": {
    "name": "ipython",
    "version": 3
   },
   "file_extension": ".py",
   "mimetype": "text/x-python",
   "name": "python",
   "nbconvert_exporter": "python",
   "pygments_lexer": "ipython3",
   "version": "3.8.5"
  },
  "varInspector": {
   "cols": {
    "lenName": 16,
    "lenType": 16,
    "lenVar": 40
   },
   "kernels_config": {
    "python": {
     "delete_cmd_postfix": "",
     "delete_cmd_prefix": "del ",
     "library": "var_list.py",
     "varRefreshCmd": "print(var_dic_list())"
    },
    "r": {
     "delete_cmd_postfix": ") ",
     "delete_cmd_prefix": "rm(",
     "library": "var_list.r",
     "varRefreshCmd": "cat(var_dic_list()) "
    }
   },
   "types_to_exclude": [
    "module",
    "function",
    "builtin_function_or_method",
    "instance",
    "_Feature"
   ],
   "window_display": false
  }
 },
 "nbformat": 4,
 "nbformat_minor": 5
}
