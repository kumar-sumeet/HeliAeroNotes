{
 "cells": [
  {
   "cell_type": "markdown",
   "id": "0f350130",
   "metadata": {
    "slideshow": {
     "slide_type": "slide"
    }
   },
   "source": [
    "# Recap of fundamentals in Aerodynamics"
   ]
  },
  {
   "cell_type": "markdown",
   "id": "f4ac615b",
   "metadata": {
    "slideshow": {
     "slide_type": "-"
    }
   },
   "source": [
    "```{epigraph}\n",
    "It’s easy to explain how a rocket works, but explaining how a wing works takes a rocket scientist.\n",
    "```\n",
    "<p style=\"text-align:right\" > <a href=\"https://www.wiley.com/en-us/Understanding+Aerodynamics%3A+Arguing+from+the+Real+Physics-p-9781119967514\"> Philippe Spalart</a> </p>\n"
   ]
  },
  {
   "cell_type": "markdown",
   "id": "be2dba39",
   "metadata": {
    "slideshow": {
     "slide_type": "skip"
    }
   },
   "source": [
    "This chapter is a whirlwind tour of the basics of airfoil aerodynamics in particular and fluid dynamics in general. Since airfoils can be imagined as the basic building blocks that make up the rotor, the fundamental understanding of airfoil aerodynamics laid down here would help develop a more intuitive understanding of rotor aerodynamics. This chapter is predominantly based on the content in {cite}`BA3`. Anything stated within quotation marks is directly adopted from this reference. "
   ]
  },
  {
   "cell_type": "markdown",
   "id": "45c932e4",
   "metadata": {
    "slideshow": {
     "slide_type": "slide"
    }
   },
   "source": [
    "## Navier-Stokes equations (NSE)"
   ]
  },
  {
   "cell_type": "markdown",
   "id": "bcb13ddf",
   "metadata": {},
   "source": [
    "While we are not going to lay down the Navier-Stokes equations here, most of you are already familiar (at least vaguely) that these equations are essential to so many analyses you encounter yet they can be solved without the use of a computer for only a handful of idealised scenarios. The fact that these equations are challenging to solve is what keeps many aerospace and mechanical engineers employed."
   ]
  },
  {
   "cell_type": "markdown",
   "id": "5fa5a954",
   "metadata": {},
   "source": [
    "<div style=\"float:right; width:43%;\" >\n",
    "    <img src=\"../../assets/MT_heirarchy_noannot.png\" class=\"big\" />\n",
    "    <p style=\"text-align:center; color:gray; font-size:60%;\"> Heirarchy of physical theories [taken from \"Understanding Aerodynamics\" by Doug McLean]\n",
    "  </p>\n",
    "</div>\n",
    "\n",
    "- Principle aim of a model\n",
    "    - include just the relevant behavior of physical system\n",
    "    - superfluousness usually makes it computationally intensive\n",
    "    - (too much) parsimoniousness can make it *useless*\n",
    "- \n",
    "\n",
    "\n",
    "\n",
    "- NSE are an *approximate* model of how fluids behave\n",
    "    - the *approximations* involved actually become limitations only in very specific cases\n",
    "- "
   ]
  },
  {
   "cell_type": "markdown",
   "id": "9c44f834",
   "metadata": {},
   "source": [
    "### NSE - model description"
   ]
  },
  {
   "cell_type": "markdown",
   "id": "c3934e72",
   "metadata": {},
   "source": [
    "- fluids modelled as a continuous medium i.e. 'granularity' is ignored\n",
    "- basic conservation laws (mass, momentum, energy) are satisfied \n",
    "    - since these laws are satisfied by the elementary fluid parcels within continuum model\n",
    "- constitutive relations (to end up with as many equations as there are variables)"
   ]
  },
  {
   "cell_type": "markdown",
   "id": "b08e7680",
   "metadata": {},
   "source": [
    "The above form the basis of a set of equations that are all that an aerospace engineer needs for all there aerodynamics analyses needs - five field partial differential equations and three constitutive relations to solve for three space coordinates (Lagrangian)/velocity components (Eulerian), pressure, density, temperature, viscosity and thermal conductivity. "
   ]
  },
  {
   "cell_type": "markdown",
   "id": "c0dfafea",
   "metadata": {},
   "source": [
    "### Simple equations, complex results"
   ]
  },
  {
   "cell_type": "markdown",
   "id": "ea1b2cb7",
   "metadata": {},
   "source": [
    "Even considering the NSE are *the* only equations that one needs to models fluids in all scenarios encountered in aerospace applications\n",
    "\n",
    "From above, it is evident that the fundamental physical laws that make up the NSE are themselves pretty simple. For e.g. physical laws of concerning a rigid body in equilibrium - force and momentum balance - apply just as well in the case of fluids. The difficulty in obtaining solutions in the case of fluids arises because here these equations are applied for a continuum element where they can move with respect to each other.... "
   ]
  },
  {
   "cell_type": "markdown",
   "id": "5e87af19",
   "metadata": {},
   "source": []
  },
  {
   "cell_type": "markdown",
   "id": "cb336070",
   "metadata": {},
   "source": [
    "### NSE - model limitation"
   ]
  },
  {
   "cell_type": "markdown",
   "id": "ef4ef2bf",
   "metadata": {},
   "source": [
    "- assumptions of no-slip and no-temperature jump not valid at high altitudes, shocks\n",
    "- \n",
    "\n",
    "Fortunately, these conditions are not a routine occurence in helicopter operations (except shocks at advancing blade tips in high speed flight) and the NSE can be used (and indeed are used) to model helicopter aerodynamics"
   ]
  },
  {
   "cell_type": "markdown",
   "id": "938dc3c9",
   "metadata": {},
   "source": [
    "### NSE - "
   ]
  },
  {
   "cell_type": "markdown",
   "id": "3a2bbc50",
   "metadata": {},
   "source": [
    "- solutions to the NSE can be non-unique \n",
    "    - highg angles of attack\n",
    "- "
   ]
  },
  {
   "cell_type": "markdown",
   "id": "be7788f0",
   "metadata": {},
   "source": [
    "## About the nuance of Newton's 2nd law, and cause-effect and kinematic relations"
   ]
  },
  {
   "cell_type": "markdown",
   "id": "97011d61",
   "metadata": {},
   "source": [
    "Since the momentum conservation equations are part of the NSE, Newton's 2nd is definitely involved when describing flow behavior. However, simply attributing lift generated by an airfoil, for e.g., to just Newton's 2nd law is not entirely accurate. There is an obvious cause and effect relation when one talks about Newton's 2nd law. Within a fluid, however, the motion of continuum parcels is influenced by the forces exerted and the forces exerted are in turn influenced by the motion of these parcels.\n",
    "\n",
    "Such implicit relations of relatively simple local physics (conservation laws) buried within the NSE make an intuitive foresight of what would happen in the global flowfield difficult."
   ]
  },
  {
   "cell_type": "markdown",
   "id": "b1ed7d26",
   "metadata": {},
   "source": [
    "## Generation of lift"
   ]
  },
  {
   "cell_type": "markdown",
   "id": "f1b1dc6c",
   "metadata": {},
   "source": [
    "- mathematically\n",
    "    - its because of the NSE\n",
    "- intuitively\n",
    "    - ?\n",
    "- always accompanied by circulation and vorticity"
   ]
  },
  {
   "cell_type": "markdown",
   "id": "79f18fc9",
   "metadata": {},
   "source": [
    "\"Lift is an interaction in which the airfoil and the fluid exchange equal and opposite forces (as per Newton's third law)\""
   ]
  },
  {
   "cell_type": "markdown",
   "id": "403c8b4b",
   "metadata": {},
   "source": [
    "<center>\n",
    "    <img src=\"../../assets/AA_C1_CP_contour.png\" class=\"medium\">\n",
    "    <p class=\"caption\"> Coefficient of pressure contour plot of NACA23012 airfoil at $M=0.4$ and $\\alpha = 2^°$ <a href=\"https://arc.aiaa.org/doi/pdf/10.2514/6.2019-1101#:~:text=The%20aerodynamic%20efficiency%20was%20evaluated,%3D%200.6%20at%20Cl%20%3D%200.85.\">[source] </a></p>\n",
    "\n",
    "</center>\n"
   ]
  },
  {
   "cell_type": "code",
   "execution_count": null,
   "id": "066f8f18",
   "metadata": {},
   "outputs": [],
   "source": []
  },
  {
   "cell_type": "markdown",
   "id": "edddd484",
   "metadata": {},
   "source": [
    "### Vorticity and circulation"
   ]
  },
  {
   "cell_type": "markdown",
   "id": "2765cf82",
   "metadata": {},
   "source": [
    "$$\\mathbf{\\omega} = \\nabla \\times \\mathbf{V}$$"
   ]
  },
  {
   "cell_type": "markdown",
   "id": "9e99d8a9",
   "metadata": {},
   "source": [
    "<center>\n",
    "    <img src=\"../../assets/BA3_fig3_3_5.png\" class=\"medium\">\n",
    "    <p  style=\"font-size:16px; color:gray; text-align:center;\"> Vorticity of a continuum particle (modified from <a href=\"https://www.wiley.com/en-us/Understanding+Aerodynamics%3A+Arguing+from+the+Real+Physics-p-9781119967514\">[source]) </a></p>\n",
    "\n",
    "</center>"
   ]
  },
  {
   "cell_type": "markdown",
   "id": "1805cc1a",
   "metadata": {},
   "source": [
    "$$\\Gamma = \\oint \\mathbf{V}\\cdot \\mathbf{dl}$$"
   ]
  },
  {
   "cell_type": "markdown",
   "id": "d193b10e",
   "metadata": {},
   "source": [
    "<center>\n",
    "    <img src=\"../../assets/BA3_mix.png\" class=\"medium\">\n",
    "    <p  style=\"font-size:16px; color:gray; text-align:center;\"> Schematic showing the origins of flow vorticity in the boundary layer (modified from <a href=\"https://www.wiley.com/en-us/Understanding+Aerodynamics%3A+Arguing+from+the+Real+Physics-p-9781119967514\">[source]) </a></p>\n",
    "\n",
    "</center>"
   ]
  },
  {
   "cell_type": "markdown",
   "id": "7ffb8402",
   "metadata": {
    "slideshow": {
     "slide_type": "subslide"
    }
   },
   "source": [
    "### Potential flow theory"
   ]
  },
  {
   "cell_type": "markdown",
   "id": "6ad9892f",
   "metadata": {
    "slideshow": {
     "slide_type": "-"
    }
   },
   "source": [
    "$$\\mathbf{V} = \\nabla \\phi$$"
   ]
  },
  {
   "cell_type": "markdown",
   "id": "8dcbd0dd",
   "metadata": {
    "slideshow": {
     "slide_type": "-"
    }
   },
   "source": [
    "- the early go-to model for obtaining airfoil pressure \n",
    "    - conformal theory used to obtain analytic results of pressure distribution  \n",
    "    - also used in Theordorsen theory"
   ]
  },
  {
   "cell_type": "markdown",
   "id": "aa18a554",
   "metadata": {
    "slideshow": {
     "slide_type": "subslide"
    }
   },
   "source": [
    "#### Kutta condition"
   ]
  },
  {
   "cell_type": "markdown",
   "id": "b845e0c0",
   "metadata": {
    "slideshow": {
     "slide_type": "skip"
    }
   },
   "source": [
    "Potential flow theory, on its own cannot predict uniquely what amount lift is an airfoil capable of generating. Alternately, both flow field representations below are valid within the framework of potential flow theory."
   ]
  },
  {
   "cell_type": "markdown",
   "id": "86020e5b",
   "metadata": {
    "slideshow": {
     "slide_type": "-"
    }
   },
   "source": [
    "<center>\n",
    "    <img src=\"../../assets/potential_flow_airfoil.png\" class=\"medium\">\n",
    "    <p  style=\"font-size:16px; color:gray; text-align:center;\"> Valid flow representation around an airfoil based on potential flow theory</p>\n",
    "</center>\n",
    "\n",
    "<div class=\"image-grid2\">\n",
    "    <img  src=\"../../assets/potential_flow_airfoil_correct.jpeg\" class=\"medium\"/>\n",
    "    <img  src=\"../../assets/potential_flow_airfoil_wrong.png\" class=\"medium\"/>\n",
    "</div>\n",
    "\n",
    "<div class=\"image-grid2\">\n",
    "  <p > Actual flow representation around an airfoil \n",
    "  </p> \n",
    "  <p > (Mathematically) Valid flow representation around an airfoil based on potential flow theory\n",
    "  </p>       \n",
    "</div>"
   ]
  },
  {
   "cell_type": "markdown",
   "id": "bc811acb",
   "metadata": {
    "slideshow": {
     "slide_type": "skip"
    }
   },
   "source": [
    "In reality, only the one on the left is observed. This is a consequence of the viscosity of fluids in nature and the fact that they cannot turn around sharp corners (airfoil trailing edges are sharp). Since potential flow theory doesn't model viscosity, a condition needs to be mathematically enforced so that the resulting flow field obtained is physically correct. This is achieved by enforcing what is called the Kutta condition. "
   ]
  },
  {
   "cell_type": "code",
   "execution_count": null,
   "id": "ea66bf52",
   "metadata": {},
   "outputs": [],
   "source": []
  },
  {
   "cell_type": "code",
   "execution_count": null,
   "id": "b0131994",
   "metadata": {},
   "outputs": [],
   "source": []
  },
  {
   "cell_type": "code",
   "execution_count": null,
   "id": "1040139c",
   "metadata": {},
   "outputs": [],
   "source": []
  },
  {
   "cell_type": "markdown",
   "id": "5abe37f6",
   "metadata": {},
   "source": [
    "Lets first try to get some explanations out of the way that are either outright wrong or only partially explain how an airfoil generates lift."
   ]
  },
  {
   "cell_type": "markdown",
   "id": "7b77b16d",
   "metadata": {},
   "source": [
    "### How lift is not generated"
   ]
  },
  {
   "cell_type": "markdown",
   "id": "fe552336",
   "metadata": {},
   "source": [
    "<div style=\"float:right; width:43%;\" >\n",
    "    <img src=\"../../assets/airfoil_lift_model.svg\" class=\"big\" />\n",
    "    <p style=\"text-align:center; color:gray; font-size:60%;\"> Airfoil lift as a consequence of momentum transfer\n",
    "  </p>\n",
    "</div>\n",
    "\n",
    "- fluid flow cannot be imagined as micro/nano bullets\n",
    "    - this suggests lift $\\propto$ $\\alpha^2$\n",
    "- kk\n"
   ]
  },
  {
   "cell_type": "markdown",
   "id": "b89460a6",
   "metadata": {},
   "source": [
    "### How lift IS generated"
   ]
  },
  {
   "cell_type": "markdown",
   "id": "e95d2a49",
   "metadata": {},
   "source": []
  },
  {
   "cell_type": "markdown",
   "id": "6ad3ad77",
   "metadata": {},
   "source": [
    "### NSE - "
   ]
  },
  {
   "cell_type": "markdown",
   "id": "8b42ffd2",
   "metadata": {},
   "source": [
    "- solutions to the NSE can be non-unique \n",
    "    - highg angles of attack\n",
    "- "
   ]
  },
  {
   "cell_type": "markdown",
   "id": "17df4080",
   "metadata": {},
   "source": [
    "## About the nuance of Newton's 2nd law, and cause-effect and kinematic relations"
   ]
  },
  {
   "cell_type": "markdown",
   "id": "4dee741a",
   "metadata": {},
   "source": [
    "Since the momentum conservation equations are part of the NSE, Newton's 2nd is definitely involved when describing flow behavior. However, simply attributing lift generated by an airfoil, for e.g., to just Newton's 2nd law is not entirely accurate. There is an obvious cause and effect relation when one talks about Newton's 2nd law. Within a fluid, however, the motion of continuum parcels is influenced by the forces exerted and the forces exerted are in turn influenced by the motion of these parcels.\n",
    "\n",
    "Such implicit relations of relatively simple local physics (conservation laws) buried within the NSE make an intuitive foresight of what would happen in the global flowfield difficult."
   ]
  }
 ],
 "metadata": {
  "celltoolbar": "Slideshow",
  "hide_input": false,
  "kernelspec": {
   "display_name": "Python 3 (ipykernel)",
   "language": "python",
   "name": "python3"
  },
  "language_info": {
   "codemirror_mode": {
    "name": "ipython",
    "version": 3
   },
   "file_extension": ".py",
   "mimetype": "text/x-python",
   "name": "python",
   "nbconvert_exporter": "python",
   "pygments_lexer": "ipython3",
   "version": "3.8.5"
  },
  "latex_envs": {
   "LaTeX_envs_menu_present": true,
   "autoclose": true,
   "autocomplete": false,
   "bibliofile": "biblio.bib",
   "cite_by": "apalike",
   "current_citInitial": 1,
   "eqLabelWithNumbers": false,
   "eqNumInitial": 1,
   "hotkeys": {
    "equation": "Ctrl-E",
    "itemize": "Ctrl-I"
   },
   "labels_anchors": false,
   "latex_user_defs": false,
   "report_style_numbering": false,
   "user_envs_cfg": false
  },
  "rise": {
   "autolaunch": false,
   "backimage": "../../assets/slidetemplate.png",
   "enable_chalkboard": true,
   "footer": "Sumeet Kumar, PhD candidate",
   "scroll": true
  },
  "varInspector": {
   "cols": {
    "lenName": 16,
    "lenType": 16,
    "lenVar": 40
   },
   "kernels_config": {
    "python": {
     "delete_cmd_postfix": "",
     "delete_cmd_prefix": "del ",
     "library": "var_list.py",
     "varRefreshCmd": "print(var_dic_list())"
    },
    "r": {
     "delete_cmd_postfix": ") ",
     "delete_cmd_prefix": "rm(",
     "library": "var_list.r",
     "varRefreshCmd": "cat(var_dic_list()) "
    }
   },
   "types_to_exclude": [
    "module",
    "function",
    "builtin_function_or_method",
    "instance",
    "_Feature"
   ],
   "window_display": false
  }
 },
 "nbformat": 4,
 "nbformat_minor": 5
}
