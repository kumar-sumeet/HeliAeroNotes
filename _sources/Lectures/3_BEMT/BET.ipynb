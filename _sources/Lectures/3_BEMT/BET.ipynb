{
 "cells": [
  {
   "cell_type": "markdown",
   "id": "056828fe",
   "metadata": {
    "slideshow": {
     "slide_type": "slide"
    }
   },
   "source": [
    "# Blade element theory"
   ]
  },
  {
   "cell_type": "markdown",
   "id": "cee783a0",
   "metadata": {
    "slideshow": {
     "slide_type": "-"
    }
   },
   "source": [
    "```{epigraph}\n",
    "\"Remember that all models are wrong; the practical question is how wrong do they have to be to not be useful.\" \n",
    "```\n",
    "<p style=\"text-align:right\" > <a href=\"https://en.wikipedia.org/wiki/All_models_are_wrong\"> G. Box (1987)</a> </p>\n"
   ]
  },
  {
   "cell_type": "markdown",
   "id": "bfe72b8d",
   "metadata": {
    "slideshow": {
     "slide_type": "skip"
    }
   },
   "source": [
    "Despite all the simplifications involved in the theoretical framework involving momentum theory, all the reasons why it is relevant were laid out in an earlier lecture. This was the only theory known for rotor analysis around the time VTOL inventions were taking-off (pun intended). So, for what its worth, initial helicopter rotor designs were surely dictated in some manner by analyses based on momentum theory. One major drawback that has been stressed upon is the lack of any direct relation between rotor aerodynamics and blade sectional aerodynamics. The Blade Element Theory (BET) takes care of that by incorporating airfoil aerodynamics. Therefore, unlike momentum theory which only has radius as the design variable, BET can be used in a more detailed design of the rotor. The central idea is that rotors are made up of blades (or wings) whose cross-sections are shaped like airfoils. The integrated effect of discretized sections of the blades leads to all the rotor forces and moments experienced at the rotor hub. \n",
    "\n",
    "In the following, the airfoil aerodynamics are accounted for but certain simplfying assumptions are included lest things get hopelessly complicated. "
   ]
  },
  {
   "cell_type": "markdown",
   "id": "1353af76",
   "metadata": {
    "slideshow": {
     "slide_type": "slide"
    }
   },
   "source": [
    "## Mathematical formulation"
   ]
  },
  {
   "cell_type": "markdown",
   "id": "c607b68a",
   "metadata": {
    "slideshow": {
     "slide_type": "skip"
    }
   },
   "source": [
    "Now that rotor parameters (beyond just radius) can be accounted for using BET, the following definitions come in handy - "
   ]
  },
  {
   "cell_type": "markdown",
   "id": "b15ffc73",
   "metadata": {
    "slideshow": {
     "slide_type": "skip"
    }
   },
   "source": [
    "Inflow ratio $ \\lambda  = v_i / \\Omega R $"
   ]
  },
  {
   "cell_type": "markdown",
   "id": "5414c7f3",
   "metadata": {
    "slideshow": {
     "slide_type": "skip"
    }
   },
   "source": [
    "Non-dimensional radial location $r = y/R$"
   ]
  },
  {
   "cell_type": "markdown",
   "id": "0422331c",
   "metadata": {
    "slideshow": {
     "slide_type": "skip"
    }
   },
   "source": [
    "Solidity of the rotor $\\sigma = NcR / \\pi R^2 = Nc / \\pi R$"
   ]
  },
  {
   "cell_type": "markdown",
   "id": "8b2540d3",
   "metadata": {
    "slideshow": {
     "slide_type": "-"
    }
   },
   "source": [
    "<center>\n",
    "    <img src=\"../../assets/BEMT_1.png\" class=\"big\">\n",
    "    <p style=\"font-size:16px; color:gray; text-align:center;\" > Schematic of the blade model in BET <a href=\"\"> </a></p>\n",
    "</center>"
   ]
  },
  {
   "cell_type": "markdown",
   "id": "b40c9d2f",
   "metadata": {
    "rise": {
     "scroll": true
    },
    "slideshow": {
     "slide_type": "subslide"
    }
   },
   "source": [
    "<div style=\"float:right; width:43%;\" >\n",
    "    <img src=\"../../assets/BET_airfoil_loads.png\" class=\"big\" />\n",
    "</div>\n",
    "\n",
    "\n",
    "$$d F_{Z}=d L \\cos \\phi-d D \\sin \\phi$$\n",
    "\n",
    "$$d T=N(d L  \\cos \\phi-d D \\sin \\phi) \\approx N d L$$\n",
    "\n",
    "$$\\Rightarrow d C_{T}=\\frac{N C_{l} \\frac{1}{2} \\rho U_{T}^{2} c d y}{\\rho (\\Omega R^{2}) R^{2}}$$\n",
    "\n",
    "$$d C_{T}=\\frac{\\sigma}{2} C_{l} r^{2} d r$$"
   ]
  },
  {
   "cell_type": "markdown",
   "id": "56387e60",
   "metadata": {
    "slideshow": {
     "slide_type": "skip"
    }
   },
   "source": [
    "Assuming that the airfoil operates within the range where $C_l$ varies linearly with $\\alpha$, the thrust coefficient contribution due to the blade elements can be integrated and written as "
   ]
  },
  {
   "cell_type": "markdown",
   "id": "7707f6e8",
   "metadata": {
    "slideshow": {
     "slide_type": "subslide"
    }
   },
   "source": [
    "\\begin{equation*}\n",
    "\\begin{split}\n",
    "\\int d C_{T} &=\\int\\frac{\\sigma}{2} C_{l} r^{2} d r \\\\\n",
    "&=\\frac{\\sigma}{2} C_{l_{\\alpha}} \\int \\alpha r^{2} dr \\\\ \n",
    "&=\\frac{\\sigma}{2} C_{l_{\\alpha}} \\int(\\theta-\\phi) r^{2} d r \\\\ \n",
    "&=\\frac{\\sigma}{2} C_{l_{\\alpha}} \\int(\\theta-\\frac{U_P}{U_R}) r^{2} d r \\\\ \n",
    "&=\\frac{\\sigma}{2} C_{l_{\\alpha}} \\int(\\theta-\\frac {\\lambda \\Omega R}{\\Omega y}) r^{2} d r \\\\ \n",
    "&=\\frac{\\sigma}{2} C_{l_{\\alpha}} \\int (\\theta r^2 - \\lambda r) dr \\\\\n",
    "\\end{split}\n",
    "\\label{eq:CT_Cl} \\tag{1}\n",
    "\\end{equation*}"
   ]
  },
  {
   "cell_type": "markdown",
   "id": "4bc29b21",
   "metadata": {
    "slideshow": {
     "slide_type": "skip"
    }
   },
   "source": [
    "In case of untwisted blades and uniform inflow, $\\theta$ and $\\lambda$ are constants. This is a highly restrictive assumption and one that is not found on real-world VTOL aircraft. Blades on all rotors have some built-in twist, this includes aircraft propellers, helicopter rotors, wind turbines etc. Slender rotor blades, as seen on full-scale helicopters or on wind turbines, can never be manufactured to be perfectly rigid so they undergo elastic torsion deformation that brings in an additional component to the twist of the blade due to elastic torsion. This elastic twist is dynamic in nature which in turn leads to a dynamic variation in blade sectional pitch (which in turn affects the angle of attack) and the resulting aerodynamic loads. As you can imagine this opens up a Pandora's box of physics that needs to be modelled. So for the purposes of our discussion here we also assume that the blades are perfectly rigid so that blade elastic deformation does not need to be accounted for at all. "
   ]
  },
  {
   "cell_type": "markdown",
   "id": "b4f6a423",
   "metadata": {
    "slideshow": {
     "slide_type": "subslide"
    }
   },
   "source": [
    "$$\\Rightarrow C_{T}=\\frac{\\sigma}{2} C_{l_{\\alpha}}\\left(\\frac{\\theta_{0}}{3}-\\frac{\\lambda}{2}\\right)=\\frac{\\sigma}{6} C_{l_{\\alpha}}\\left(\\theta_{0}-\\frac{3}{2} \\sqrt{\\frac{C_T}{2}}\\right)$$"
   ]
  },
  {
   "cell_type": "markdown",
   "id": "c4b98e71",
   "metadata": {
    "slideshow": {
     "slide_type": "skip"
    }
   },
   "source": [
    "where $\\frac{3}{2} \\sqrt{\\frac{C_{T}}{2}}$ is induced drag term. Correspondingly, if the amount of collective input is known then the resultant rotor thrust can be obtained. The maximum rotor thrust can be obtained using Eq $\\eqref{eq:CT_Cl}$ by assuming the lift coefficient at each blade section is $C_{l_{max}}$. "
   ]
  },
  {
   "cell_type": "markdown",
   "id": "a0cadec8",
   "metadata": {
    "slideshow": {
     "slide_type": "subslide"
    }
   },
   "source": [
    "$$\\Rightarrow \\theta_{0}=\\frac{6 C_{T}}{\\sigma C_{l_{\\alpha}}}+\\frac{3}{2} \\sqrt{\\frac{C_{T}}{2}}$$"
   ]
  },
  {
   "cell_type": "markdown",
   "id": "57c1b5b9",
   "metadata": {
    "slideshow": {
     "slide_type": "skip"
    }
   },
   "source": [
    "All the simplifying assumptions made under the umbrella of the BET now afford us the possibility to easily see the effect of one or more physical parameters, associated with the rotor, on the performance. "
   ]
  },
  {
   "cell_type": "markdown",
   "id": "aece59bb",
   "metadata": {},
   "source": [
    "In case of linear blade twist, the thrust coefficient can be calculated as follows"
   ]
  },
  {
   "cell_type": "markdown",
   "id": "b1424866",
   "metadata": {
    "slideshow": {
     "slide_type": "subslide"
    }
   },
   "source": [
    "$\\begin{aligned}\n",
    "\\theta&= \\theta_{0} +\\gamma \\theta_{t \\omega} \\quad \\quad\\quad \\lambda=\\text { uniform } \\\\ C_{T} &=\\frac{\\sigma}{2} C_{l_{\\alpha}}\\left[ \\frac{\\theta_{0}}{3}+\\frac{\\theta_{t \\omega}}{4}-\\frac{\\lambda}{2} \\right] \\\\ &=\\frac{\\sigma}{2} C_{l_{\\alpha}}\\left[\\frac{\\theta_{75}}{3}-\\frac{\\lambda}{2}\\right] \\end{aligned}$"
   ]
  },
  {
   "cell_type": "markdown",
   "id": "01627ddd",
   "metadata": {
    "slideshow": {
     "slide_type": "skip"
    }
   },
   "source": [
    "The collective angle value in case of a linearly twisted blade is measured using $r=0.75$ as the reference pitch angle. The Bo 105 helicopter rotor has a linear blade twist of $-8^°$ over a span of $R=4.912$ m. Due to the presence of root cut out, the lifting section of the blade has an effective twist of only $-6.6^°$ over its span."
   ]
  },
  {
   "cell_type": "markdown",
   "id": "771d24db",
   "metadata": {
    "slideshow": {
     "slide_type": "slide"
    }
   },
   "source": [
    "### Summary and conclusions"
   ]
  },
  {
   "cell_type": "markdown",
   "id": "85318812",
   "metadata": {
    "slideshow": {
     "slide_type": "-"
    }
   },
   "source": [
    "- BET models the rotor aerodynamics as a cumulative of the airfoil aerodynamic properties\n",
    "- Uniform inflow has been used in the above formulation \n",
    "- In reality $\\lambda$ is not uniform, so there is room for a better model"
   ]
  },
  {
   "cell_type": "markdown",
   "id": "e463e1f1",
   "metadata": {
    "slideshow": {
     "slide_type": "skip"
    }
   },
   "source": [
    "A natural extension from here then is to account for the variation $\\lambda (r)$. Alfred Gessow proposed the blade element momentum theory (BEMT) that does precisely that."
   ]
  }
 ],
 "metadata": {
  "celltoolbar": "Slideshow",
  "hide_input": false,
  "kernelspec": {
   "display_name": "Python 3 (ipykernel)",
   "language": "python",
   "name": "python3"
  },
  "language_info": {
   "codemirror_mode": {
    "name": "ipython",
    "version": 3
   },
   "file_extension": ".py",
   "mimetype": "text/x-python",
   "name": "python",
   "nbconvert_exporter": "python",
   "pygments_lexer": "ipython3",
   "version": "3.8.5"
  },
  "latex_envs": {
   "LaTeX_envs_menu_present": true,
   "autoclose": true,
   "autocomplete": true,
   "bibliofile": "biblio.bib",
   "cite_by": "apalike",
   "current_citInitial": 1,
   "eqLabelWithNumbers": false,
   "eqNumInitial": 1,
   "hotkeys": {
    "equation": "Ctrl-E",
    "itemize": "Ctrl-I"
   },
   "labels_anchors": false,
   "latex_user_defs": false,
   "report_style_numbering": false,
   "user_envs_cfg": false
  },
  "varInspector": {
   "cols": {
    "lenName": 16,
    "lenType": 16,
    "lenVar": 40
   },
   "kernels_config": {
    "python": {
     "delete_cmd_postfix": "",
     "delete_cmd_prefix": "del ",
     "library": "var_list.py",
     "varRefreshCmd": "print(var_dic_list())"
    },
    "r": {
     "delete_cmd_postfix": ") ",
     "delete_cmd_prefix": "rm(",
     "library": "var_list.r",
     "varRefreshCmd": "cat(var_dic_list()) "
    }
   },
   "rise": {
    "autolaunch": true,
    "backimage": "assets/tum_bg_top_right.png",
    "enable_chalkboard": true,
    "footer": "Sumeet Kumar, PhD candidate",
    "scroll": true,
    "start_slideshow_at": "beginning"
   },
   "types_to_exclude": [
    "module",
    "function",
    "builtin_function_or_method",
    "instance",
    "_Feature"
   ],
   "window_display": false
  }
 },
 "nbformat": 4,
 "nbformat_minor": 5
}
