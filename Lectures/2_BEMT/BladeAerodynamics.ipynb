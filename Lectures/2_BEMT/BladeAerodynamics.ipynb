{
 "cells": [
  {
   "cell_type": "markdown",
   "id": "97919192",
   "metadata": {},
   "source": [
    "# Blade Aerodynamics"
   ]
  },
  {
   "cell_type": "markdown",
   "id": "a39424f6",
   "metadata": {},
   "source": [
    "The Navier-Stokes equations were briefly introduced with the discussion on Momentum Theory as the all-powerful set of governing equations that can be used to predict flow behavior in practically any situation. "
   ]
  },
  {
   "cell_type": "markdown",
   "id": "d5b3fb7c",
   "metadata": {},
   "source": [
    "## *True* Aerodynamics"
   ]
  },
  {
   "cell_type": "markdown",
   "id": "21b105e9",
   "metadata": {},
   "source": []
  },
  {
   "cell_type": "markdown",
   "id": "839659b5",
   "metadata": {},
   "source": [
    "- \n",
    "- \n",
    "- "
   ]
  },
  {
   "cell_type": "markdown",
   "id": "12a41e12",
   "metadata": {},
   "source": [
    "As detailed above, the aerodynamics of a rotating wing is pretty complicated so much so that one wonders how is anything meaningful even getting captured using the momentum theory approach."
   ]
  },
  {
   "cell_type": "markdown",
   "id": "b7a32ab8",
   "metadata": {},
   "source": [
    "## Aerodynamics Model"
   ]
  },
  {
   "cell_type": "markdown",
   "id": "454ef50b",
   "metadata": {},
   "source": []
  },
  {
   "cell_type": "code",
   "execution_count": null,
   "id": "6892d156",
   "metadata": {},
   "outputs": [],
   "source": []
  },
  {
   "cell_type": "markdown",
   "id": "6dbfbd66",
   "metadata": {},
   "source": [
    "## Airfoil Tables"
   ]
  },
  {
   "cell_type": "markdown",
   "id": "4f7d56a9",
   "metadata": {},
   "source": [
    "- 2D CFD using RANS equations with turbulence modelling\n",
    "    - applicable for attached flows in most aerospace applications     "
   ]
  },
  {
   "cell_type": "markdown",
   "id": "5cc0734c",
   "metadata": {},
   "source": [
    "Obtaining airfoil lift, drag and moment properties using CFD involves ....\n",
    "If there is too much unsteadiness in the flow - from large scale flow separation for e.g. - then LES might be used. "
   ]
  },
  {
   "cell_type": "markdown",
   "id": "fc54e790",
   "metadata": {},
   "source": [
    "- '2D' wind-tunnel test results"
   ]
  },
  {
   "cell_type": "markdown",
   "id": "14b78753",
   "metadata": {},
   "source": [
    "In the wind-tunnel a wing with a constant airfoil cross-section is placed between the walls of a test section. The flow within the wind-tunnel section can be set at various Mach numbers and the wing section can be simultaneously set to varying angles of attack to record $C_L$, $C_D$ and $C_M$ for a sweep of ($M$,$\\alpha$) combinations. In case these results are desired for an airfoil section with a trailing-edge flap (TEF), for e.g., then $C_L$, $C_D$ and $C_M$ are recorded for a sweep of ($M$,$\\alpha$,$\\delta$) combinations where $\\delta$ is the TEF deflection angle. "
   ]
  },
  {
   "cell_type": "code",
   "execution_count": null,
   "id": "f8ab2d30",
   "metadata": {},
   "outputs": [],
   "source": []
  }
 ],
 "metadata": {
  "hide_input": false,
  "kernelspec": {
   "display_name": "Python 3 (ipykernel)",
   "language": "python",
   "name": "python3"
  },
  "language_info": {
   "codemirror_mode": {
    "name": "ipython",
    "version": 3
   },
   "file_extension": ".py",
   "mimetype": "text/x-python",
   "name": "python",
   "nbconvert_exporter": "python",
   "pygments_lexer": "ipython3",
   "version": "3.8.5"
  },
  "latex_envs": {
   "LaTeX_envs_menu_present": true,
   "autoclose": true,
   "autocomplete": true,
   "bibliofile": "biblio.bib",
   "cite_by": "apalike",
   "current_citInitial": 1,
   "eqLabelWithNumbers": false,
   "eqNumInitial": 1,
   "hotkeys": {
    "equation": "Ctrl-E",
    "itemize": "Ctrl-I"
   },
   "labels_anchors": false,
   "latex_user_defs": false,
   "report_style_numbering": false,
   "user_envs_cfg": false
  },
  "varInspector": {
   "cols": {
    "lenName": 16,
    "lenType": 16,
    "lenVar": 40
   },
   "kernels_config": {
    "python": {
     "delete_cmd_postfix": "",
     "delete_cmd_prefix": "del ",
     "library": "var_list.py",
     "varRefreshCmd": "print(var_dic_list())"
    },
    "r": {
     "delete_cmd_postfix": ") ",
     "delete_cmd_prefix": "rm(",
     "library": "var_list.r",
     "varRefreshCmd": "cat(var_dic_list()) "
    }
   },
   "types_to_exclude": [
    "module",
    "function",
    "builtin_function_or_method",
    "instance",
    "_Feature"
   ],
   "window_display": false
  }
 },
 "nbformat": 4,
 "nbformat_minor": 5
}
