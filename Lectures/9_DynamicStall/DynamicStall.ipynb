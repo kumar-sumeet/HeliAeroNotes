{
 "cells": [
  {
   "cell_type": "markdown",
   "id": "cec6b7d6",
   "metadata": {},
   "source": [
    "# Dynamic Stall"
   ]
  },
  {
   "cell_type": "code",
   "execution_count": null,
   "id": "03d2185d",
   "metadata": {},
   "outputs": [],
   "source": [
    "# read Leishman till 9.2 section for this chapter, maybe read Johnson as well"
   ]
  },
  {
   "cell_type": "markdown",
   "id": "10085163",
   "metadata": {},
   "source": [
    "## Static stall revisited"
   ]
  },
  {
   "cell_type": "code",
   "execution_count": null,
   "id": "ba39d4f9",
   "metadata": {},
   "outputs": [],
   "source": [
    "- \n",
    "- occurs when airfoil \n",
    "    - only occurs at low speeds\n",
    "- Fixed-wing aircraft undergo static stall"
   ]
  },
  {
   "cell_type": "markdown",
   "id": "ba182bb1",
   "metadata": {},
   "source": [
    "The aerodynamics rotary-wing section are much different from that of a fixed-wing in forward flight. As was mentioned in {ref}`content:FastForwardFlight:labels` Because of the blade pitching that is necessary during any forward motion of the rotor, static stall is not even a matter of concern."
   ]
  },
  {
   "cell_type": "markdown",
   "id": "cf03bb1d",
   "metadata": {},
   "source": [
    "## Dynamic Stall - "
   ]
  },
  {
   "cell_type": "code",
   "execution_count": null,
   "id": "53de4a04",
   "metadata": {},
   "outputs": [],
   "source": [
    "    \n",
    "from IPython.display import YouTubeVideo\n",
    "YouTubeVideo('uUGlPxAw9J0', width=500, height=270,start=71)\n"
   ]
  },
  {
   "cell_type": "markdown",
   "id": "7d3ec9b0",
   "metadata": {},
   "source": [
    "- occurs when airfoil angle of attack is beyond static stall angle\n",
    "- airfoil unsteady motion is involved\n",
    "    - pitching, heaving etc....\n",
    "- characteristic delay in flow separation compared to static stall\n",
    "    - this is very consequential; leads to high loads\n",
    "- large -ve moments once the shed vortex passes over the blade"
   ]
  },
  {
   "cell_type": "markdown",
   "id": "466a0a76",
   "metadata": {},
   "source": [
    "## Why is dynamic stall of concern?"
   ]
  },
  {
   "cell_type": "markdown",
   "id": "a31e810e",
   "metadata": {},
   "source": [
    "- High torsional and lifting loads occur during a dynamic stall cycle\n",
    "    - these can dictate the design limits of a blade\n",
    "- it can lead to stall flutter"
   ]
  },
  {
   "cell_type": "markdown",
   "id": "4e5b5047",
   "metadata": {},
   "source": [
    "## Modelling "
   ]
  },
  {
   "cell_type": "markdown",
   "id": "560a2ba2",
   "metadata": {},
   "source": [
    "- CFD methods\n",
    "- Semi-empirical methods"
   ]
  },
  {
   "cell_type": "code",
   "execution_count": null,
   "id": "b0accfce",
   "metadata": {},
   "outputs": [],
   "source": []
  }
 ],
 "metadata": {
  "hide_input": false,
  "kernelspec": {
   "display_name": "Python 3 (ipykernel)",
   "language": "python",
   "name": "python3"
  },
  "language_info": {
   "codemirror_mode": {
    "name": "ipython",
    "version": 3
   },
   "file_extension": ".py",
   "mimetype": "text/x-python",
   "name": "python",
   "nbconvert_exporter": "python",
   "pygments_lexer": "ipython3",
   "version": "3.8.5"
  },
  "varInspector": {
   "cols": {
    "lenName": 16,
    "lenType": 16,
    "lenVar": 40
   },
   "kernels_config": {
    "python": {
     "delete_cmd_postfix": "",
     "delete_cmd_prefix": "del ",
     "library": "var_list.py",
     "varRefreshCmd": "print(var_dic_list())"
    },
    "r": {
     "delete_cmd_postfix": ") ",
     "delete_cmd_prefix": "rm(",
     "library": "var_list.r",
     "varRefreshCmd": "cat(var_dic_list()) "
    }
   },
   "types_to_exclude": [
    "module",
    "function",
    "builtin_function_or_method",
    "instance",
    "_Feature"
   ],
   "window_display": false
  }
 },
 "nbformat": 4,
 "nbformat_minor": 5
}
