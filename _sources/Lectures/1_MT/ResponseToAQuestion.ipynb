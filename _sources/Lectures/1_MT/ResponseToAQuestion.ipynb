{
 "cells": [
  {
   "cell_type": "markdown",
   "id": "5c202dc1",
   "metadata": {
    "slideshow": {
     "slide_type": "skip"
    }
   },
   "source": [
    "# Response to a question"
   ]
  },
  {
   "cell_type": "markdown",
   "id": "c717c9c5",
   "metadata": {
    "slideshow": {
     "slide_type": "slide"
    }
   },
   "source": [
    "<p  style=\"  font-weight: bold; font-size:100%; color:black; text-align:left;\"> Q. In the derivation of the momentum theory, the momentum conservation equation was applied as T = rate of change of momentum = (final momentum - initial momentum) / t; applying this between stations 0 and 2 in the slipstream leads to the following\n",
    "\n",
    "$$ T = \\dot{m}v - 0 = (\\rho A v) v$$"
   ]
  },
  {
   "cell_type": "markdown",
   "id": "ff906099",
   "metadata": {
    "slideshow": {
     "slide_type": "-"
    }
   },
   "source": [
    "<p  style=\"  font-weight: bold; font-size:100%; color:black; text-align:left;\"> and not, \n",
    "\n",
    "$$ T = \\dot{m}w - 0= (\\rho A v) w $$"
   ]
  },
  {
   "cell_type": "markdown",
   "id": "513f50e1",
   "metadata": {
    "slideshow": {
     "slide_type": "-"
    }
   },
   "source": [
    "<p  style=\"  font-weight: bold; font-size:100%; color:black; text-align:left;\"> as was derived in the lecture. Which is the right equation? Why?"
   ]
  },
  {
   "cell_type": "markdown",
   "id": "f63145da",
   "metadata": {
    "slideshow": {
     "slide_type": "skip"
    }
   },
   "source": [
    "&nbsp;\n",
    "&nbsp;\n",
    "&nbsp;\n",
    "&nbsp;\n",
    "\n",
    "The derivation shown in the lecture notes used the following equations applying the balance laws -"
   ]
  },
  {
   "cell_type": "markdown",
   "id": "5f37350f",
   "metadata": {
    "slideshow": {
     "slide_type": "fragment"
    }
   },
   "source": [
    "<div style=\"float:right; width:45%;\" >\n",
    "    <img src=\"../../assets/MT_hover.png\" class=\"large\" />\n",
    "    <p style=\"text-align:center; color:gray; font-size:16px;\"> Hovering rotor flowfield model in momentum theory \n",
    "  </p>\n",
    "</div>\n",
    "\n",
    "Mass Conservation:$$ \\dot{m} = \\rho A v = \\rho A_{\\infty} w $$ \n",
    "Momentum Conservation: $$ T = \\dot{m}w = (\\rho A v) w $$ \n",
    "Energy Conservation: $$ T v = \\frac{1}{2} \\dot{m} w^2$$ "
   ]
  },
  {
   "cell_type": "markdown",
   "id": "6523ea74",
   "metadata": {
    "slideshow": {
     "slide_type": "skip"
    }
   },
   "source": [
    "The question raised above can be framed in the context of the energy balance equation as well. The following explains why the equations used in the lecture are correct.\n",
    "\n",
    "Fluid pressure works as a *push* rather than a *pull*. As work is done by the rotor, i.e. it increases pressure at station 2 within the actuator disk-based momentum theory model, the fluid can exchange that pressure increase for kinetic energy. This is the Bernoulli's principle where the pressure can be thought of as a *potential energy* of the flow that can be exchanged for kinetic energy, and vice versa. This exchange occurs without any losses within the framework of the assumptions that the Bernoulli's equation is based on - "
   ]
  },
  {
   "cell_type": "markdown",
   "id": "336dcf85",
   "metadata": {
    "slideshow": {
     "slide_type": "skip"
    }
   },
   "source": [
    "$$p+ \\frac{1}{2}\\rho v^2 = const$$"
   ]
  },
  {
   "cell_type": "markdown",
   "id": "2875bfb2",
   "metadata": {
    "slideshow": {
     "slide_type": "skip"
    }
   },
   "source": [
    "So, high static pressure at station 2 and low static pressure at station $\\infty$ (atmospheric pressure) is going to set the direction of the flow within the stream tube. Fluid from station 1, and in turn from station 0, is set in motion since fluids are continuous and shocks do not occur at the low subsonic speeds that arise in VTOL rotor flows. Since all the work, and by extension the static pressure increase, is assumed to be confined to the thin actuator disk, the movement of flow from station 0 to station 1 occurs by exchanging some of the static pressure to dynamic pressure. The result is that the rate flow of momentum at the actuator disk becomes $(\\rho vA)v$. However, static pressure calculation using Bernoulli's equation show that there is an additional pressure of $\\frac{3}{4}\\frac{T}{A}$ at station 2. This provides an additional upwards *push* and in turn adds to the overall thrust that the rotor is generating. The external work done by the rotor is not just an increase in fluid momentum, the *potential energy* (i.e. the static pressure) of the fluid is changed as well and needs to be accounted for to get an accurate estimate of the reaction force vector (i.e. thrust). Using the relation $ T = \\dot{m}w = (\\rho A v) w $ avoids that because the stations where the final and the initial momentums are considered are where the static pressure is the same (and therefore no unaccounted for energy storage). \n",
    "\n",
    "The flow can be assumed to be incompressible throught the exercise since the Mach number never exceeds $M=0.3$ at any point within the streamtube for conventional lifting rotors (this may not necessarily be true for jet exhaust in the case of the F35 or the Harrier jump-jet). "
   ]
  },
  {
   "cell_type": "markdown",
   "id": "fe7b7407",
   "metadata": {
    "slideshow": {
     "slide_type": "skip"
    }
   },
   "source": [
    "In order to convince yourself further about this, the following literature can be referred - {cite}`BA5` (Pg 21-23) and {cite}`BA2` (Pg 156)."
   ]
  }
 ],
 "metadata": {
  "celltoolbar": "Slideshow",
  "hide_input": false,
  "kernelspec": {
   "display_name": "Python 3 (ipykernel)",
   "language": "python",
   "name": "python3"
  },
  "language_info": {
   "codemirror_mode": {
    "name": "ipython",
    "version": 3
   },
   "file_extension": ".py",
   "mimetype": "text/x-python",
   "name": "python",
   "nbconvert_exporter": "python",
   "pygments_lexer": "ipython3",
   "version": "3.8.5"
  },
  "varInspector": {
   "cols": {
    "lenName": 16,
    "lenType": 16,
    "lenVar": 40
   },
   "kernels_config": {
    "python": {
     "delete_cmd_postfix": "",
     "delete_cmd_prefix": "del ",
     "library": "var_list.py",
     "varRefreshCmd": "print(var_dic_list())"
    },
    "r": {
     "delete_cmd_postfix": ") ",
     "delete_cmd_prefix": "rm(",
     "library": "var_list.r",
     "varRefreshCmd": "cat(var_dic_list()) "
    }
   },
   "types_to_exclude": [
    "module",
    "function",
    "builtin_function_or_method",
    "instance",
    "_Feature"
   ],
   "window_display": false
  }
 },
 "nbformat": 4,
 "nbformat_minor": 5
}
