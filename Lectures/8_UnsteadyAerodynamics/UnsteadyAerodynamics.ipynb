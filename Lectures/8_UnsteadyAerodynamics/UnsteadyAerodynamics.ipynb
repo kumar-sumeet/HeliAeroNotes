{
 "cells": [
  {
   "cell_type": "markdown",
   "id": "fb40e765",
   "metadata": {},
   "source": [
    "# Unsteady Aerodynamics"
   ]
  },
  {
   "cell_type": "markdown",
   "id": "0cda377b",
   "metadata": {},
   "source": [
    "## Steady/quasi-steady airfoil aerodynamics"
   ]
  },
  {
   "cell_type": "markdown",
   "id": "c374309d",
   "metadata": {},
   "source": []
  },
  {
   "cell_type": "markdown",
   "id": "d98c6c75",
   "metadata": {},
   "source": [
    "The starting vortex of the airfoil-fluid system is apparent."
   ]
  },
  {
   "cell_type": "markdown",
   "id": "550d8b01",
   "metadata": {},
   "source": [
    "\\begin{equation*}\n",
    "\\begin{split}\n",
    "C_l = 2\\pi\\left [\\alpha +\\frac{\\dot{h}}{V}+b \\left ( \\frac{1}{2}-a \\right ) \\frac{\\dot{\\alpha}}{V} \\right]\n",
    "\\end{split}\n",
    "\\label{eq:quasi_steady_aero} \\tag{...}\n",
    "\\end{equation*}"
   ]
  },
  {
   "cell_type": "markdown",
   "id": "2cfaeea8",
   "metadata": {},
   "source": [
    "Despite what the $\\dot{\\alpha}$ term in Eq $\\eqref{eq:quasi_steady_aero}$ might suggest, it does NOT model unsteady aerodynamics. "
   ]
  },
  {
   "cell_type": "markdown",
   "id": "0668b444",
   "metadata": {},
   "source": []
  },
  {
   "cell_type": "markdown",
   "id": "61312301",
   "metadata": {},
   "source": [
    "## Unsteady airfoil aerodynamics"
   ]
  },
  {
   "cell_type": "markdown",
   "id": "67348033",
   "metadata": {},
   "source": []
  },
  {
   "cell_type": "markdown",
   "id": "f805f8f1",
   "metadata": {},
   "source": [
    "The difference between the flow behavior in ... and .. is immediately apparent."
   ]
  },
  {
   "cell_type": "markdown",
   "id": "47639dd6",
   "metadata": {},
   "source": [
    "In summary, *unsteadiness* comes from accounting for the vorticity in the wake and when wake vorticity (as in the case of the starting vortex) is not acocunted for the flow is considered to be steady. In addition, a steady airfoil generates lift which is purely due to the circulation of the flow but an airfoil undergoing unsteady motion will generate an added lift that is due to the displacement of the surrounding fluid."
   ]
  },
  {
   "cell_type": "markdown",
   "id": "f445b1af",
   "metadata": {},
   "source": [
    "# add gif here of steady and unsteady airfoil from Waterlily"
   ]
  },
  {
   "cell_type": "markdown",
   "id": "755033c9",
   "metadata": {},
   "source": [
    "From the flow field animations above, it is clear that there is a significant difference between the wake of an airfoil when it maintains a constant angle of attck versus when the airfoil is pitching. The differences arise due to the shed vorticity in the airfoil wake. In case of steady airfoil, the starting vortex convects far away but in case of the pitching airfoil vorticity is constantly being shed due to the changing bound circulation around the airfoil. These shed vortices in the vicinity of the airfoil have the potential to influence the aerodynamics of the airfoil and need to be accounted for. The criterion used to decide the threshold when unsteady aerodynamic effects might be significant enough, that they cannot be ignored, is called reduced frequency. "
   ]
  },
  {
   "cell_type": "markdown",
   "id": "9cfdb342",
   "metadata": {},
   "source": []
  },
  {
   "cell_type": "code",
   "execution_count": null,
   "id": "3278983f",
   "metadata": {},
   "outputs": [],
   "source": []
  },
  {
   "cell_type": "markdown",
   "id": "b0cff6b2",
   "metadata": {},
   "source": []
  },
  {
   "cell_type": "markdown",
   "id": "7dd34f65",
   "metadata": {},
   "source": []
  },
  {
   "cell_type": "markdown",
   "id": "15065af1",
   "metadata": {},
   "source": []
  },
  {
   "cell_type": "markdown",
   "id": "8e92dd52",
   "metadata": {},
   "source": [
    "Look into this later---- \n",
    "\n",
    "** Caption and source needed ** \n",
    "\n",
    "\n",
    "\n",
    "<div class=\"image-grid2\">\n",
    "    <img  src=\"../../assets/T16.png\" class=\"large\"/>\n",
    "    <img  src=\"../../assets/T16_2.png\" class=\"large\"/>\n",
    "   \n",
    "</div>\n",
    "\n",
    "<div class=\"image-grid2\">\n",
    "  <p > Caption_image1 <a href=\"source_2\"> [source]</a>\n",
    "  </p>   \n",
    "  <p > Caption_image2 <a href=\"source_1\"> [source]</a>\n",
    "  </p> \n",
    "</div>\n",
    "\n"
   ]
  },
  {
   "cell_type": "markdown",
   "id": "1e214cc3",
   "metadata": {},
   "source": []
  },
  {
   "cell_type": "code",
   "execution_count": null,
   "id": "5e9ad80d",
   "metadata": {},
   "outputs": [],
   "source": []
  },
  {
   "cell_type": "code",
   "execution_count": null,
   "id": "fac2168a",
   "metadata": {},
   "outputs": [],
   "source": []
  },
  {
   "cell_type": "code",
   "execution_count": null,
   "id": "97f885e3",
   "metadata": {},
   "outputs": [],
   "source": []
  },
  {
   "cell_type": "markdown",
   "id": "b3ea055a",
   "metadata": {},
   "source": [
    "## Relevant concepts"
   ]
  },
  {
   "cell_type": "markdown",
   "id": "8c316b4d",
   "metadata": {},
   "source": [
    "An understanding of the following lies at the heart of developing an intuition for why the unsteady aerodynamics theories were formulated the way they were.  "
   ]
  },
  {
   "cell_type": "markdown",
   "id": "79af0af5",
   "metadata": {},
   "source": [
    "- circulatory effect of lifting flow"
   ]
  },
  {
   "cell_type": "markdown",
   "id": "078fa247",
   "metadata": {},
   "source": [
    "- Kutta-Joukowski theorem"
   ]
  },
  {
   "cell_type": "markdown",
   "id": "3fda5c91",
   "metadata": {},
   "source": [
    "- Kelvin's theorem of circulation"
   ]
  },
  {
   "cell_type": "code",
   "execution_count": 1,
   "id": "ac32d380",
   "metadata": {},
   "outputs": [
    {
     "data": {
      "image/jpeg": "[encoded data removed]",
      "text/html": [
       "\n",
       "        <iframe\n",
       "            width=\"500\"\n",
       "            height=\"270\"\n",
       "            src=\"https://www.youtube.com/embed/pOA3VJHCnWs?start=1557&end=1668\"\n",
       "            frameborder=\"0\"\n",
       "            allowfullscreen\n",
       "            \n",
       "        ></iframe>\n",
       "        "
      ],
      "text/plain": [
       "<IPython.lib.display.YouTubeVideo at 0x7fe924babe80>"
      ]
     },
     "execution_count": 1,
     "metadata": {},
     "output_type": "execute_result"
    }
   ],
   "source": [
    "from IPython.display import YouTubeVideo\n",
    "YouTubeVideo('pOA3VJHCnWs', width=500, height=270, start=1557, end=1668)"
   ]
  },
  {
   "cell_type": "code",
   "execution_count": null,
   "id": "4c4c4384",
   "metadata": {},
   "outputs": [],
   "source": []
  },
  {
   "cell_type": "code",
   "execution_count": null,
   "id": "2b975e44",
   "metadata": {},
   "outputs": [],
   "source": []
  },
  {
   "cell_type": "code",
   "execution_count": null,
   "id": "3e338a5a",
   "metadata": {},
   "outputs": [],
   "source": []
  }
 ],
 "metadata": {
  "hide_input": false,
  "kernelspec": {
   "display_name": "Python 3 (ipykernel)",
   "language": "python",
   "name": "python3"
  },
  "language_info": {
   "codemirror_mode": {
    "name": "ipython",
    "version": 3
   },
   "file_extension": ".py",
   "mimetype": "text/x-python",
   "name": "python",
   "nbconvert_exporter": "python",
   "pygments_lexer": "ipython3",
   "version": "3.8.5"
  },
  "latex_envs": {
   "LaTeX_envs_menu_present": true,
   "autoclose": true,
   "autocomplete": true,
   "bibliofile": "biblio.bib",
   "cite_by": "apalike",
   "current_citInitial": 1,
   "eqLabelWithNumbers": false,
   "eqNumInitial": 1,
   "hotkeys": {
    "equation": "Ctrl-E",
    "itemize": "Ctrl-I"
   },
   "labels_anchors": false,
   "latex_user_defs": false,
   "report_style_numbering": false,
   "user_envs_cfg": false
  },
  "varInspector": {
   "cols": {
    "lenName": 16,
    "lenType": 16,
    "lenVar": 40
   },
   "kernels_config": {
    "python": {
     "delete_cmd_postfix": "",
     "delete_cmd_prefix": "del ",
     "library": "var_list.py",
     "varRefreshCmd": "print(var_dic_list())"
    },
    "r": {
     "delete_cmd_postfix": ") ",
     "delete_cmd_prefix": "rm(",
     "library": "var_list.r",
     "varRefreshCmd": "cat(var_dic_list()) "
    }
   },
   "types_to_exclude": [
    "module",
    "function",
    "builtin_function_or_method",
    "instance",
    "_Feature"
   ],
   "window_display": false
  }
 },
 "nbformat": 4,
 "nbformat_minor": 5
}
