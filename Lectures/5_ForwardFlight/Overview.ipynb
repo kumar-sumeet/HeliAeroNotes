{
 "cells": [
  {
   "cell_type": "markdown",
   "id": "dfa8a569",
   "metadata": {},
   "source": [
    "# Overview"
   ]
  },
  {
   "cell_type": "code",
   "execution_count": null,
   "id": "c5f358ba",
   "metadata": {},
   "outputs": [],
   "source": []
  },
  {
   "cell_type": "markdown",
   "id": "bded3856",
   "metadata": {},
   "source": [
    "# Fixed-wing wake\n",
    "\n",
    "```{figure} ../../assets/C17Vortex.jpeg\n",
    "---\n",
    "height: 150px\n",
    "name: C17Vortex\n",
    "---\n",
    "C17 Vortex [source](https://en.wikipedia.org/wiki/Wingtip_vortices#/media/File:C17-Vortex.JPG)\n",
    "\n",
    "```{figure} ../../assets/FA18CVortex.jpeg\n",
    "---\n",
    "height: 150px\n",
    "name: FA18CVortex\n",
    "---\n",
    "FA18C Vortex [source](https://en.wikipedia.org/wiki/Wingtip_vortices#/media/File:FA-18C_vapor_LEX_and_wingtip_1.jpg)\n"
   ]
  },
  {
   "cell_type": "markdown",
   "id": "aaff7035",
   "metadata": {},
   "source": [
    "# Rotary-wing wake"
   ]
  },
  {
   "cell_type": "code",
   "execution_count": null,
   "id": "5e83b6f1",
   "metadata": {},
   "outputs": [],
   "source": []
  },
  {
   "cell_type": "code",
   "execution_count": null,
   "id": "beb9e26b",
   "metadata": {},
   "outputs": [],
   "source": []
  }
 ],
 "metadata": {
  "hide_input": false,
  "kernelspec": {
   "display_name": "Python 3 (ipykernel)",
   "language": "python",
   "name": "python3"
  },
  "language_info": {
   "codemirror_mode": {
    "name": "ipython",
    "version": 3
   },
   "file_extension": ".py",
   "mimetype": "text/x-python",
   "name": "python",
   "nbconvert_exporter": "python",
   "pygments_lexer": "ipython3",
   "version": "3.8.5"
  },
  "varInspector": {
   "cols": {
    "lenName": 16,
    "lenType": 16,
    "lenVar": 40
   },
   "kernels_config": {
    "python": {
     "delete_cmd_postfix": "",
     "delete_cmd_prefix": "del ",
     "library": "var_list.py",
     "varRefreshCmd": "print(var_dic_list())"
    },
    "r": {
     "delete_cmd_postfix": ") ",
     "delete_cmd_prefix": "rm(",
     "library": "var_list.r",
     "varRefreshCmd": "cat(var_dic_list()) "
    }
   },
   "types_to_exclude": [
    "module",
    "function",
    "builtin_function_or_method",
    "instance",
    "_Feature"
   ],
   "window_display": false
  }
 },
 "nbformat": 4,
 "nbformat_minor": 5
}
