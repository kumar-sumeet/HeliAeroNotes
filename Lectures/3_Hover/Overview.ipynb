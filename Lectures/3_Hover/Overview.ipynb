{
 "cells": [
  {
   "cell_type": "markdown",
   "id": "dfa8a569",
   "metadata": {},
   "source": [
    "# Overview"
   ]
  },
  {
   "cell_type": "markdown",
   "id": "156b09f4",
   "metadata": {},
   "source": []
  },
  {
   "cell_type": "markdown",
   "id": "97eebb90",
   "metadata": {},
   "source": [
    "``{admonition} Ideal\n",
    "The blade aerodynamics is steady in hover since no variation occurs over one rotor revolution. A constant rotor collective is applied and the rotor cyclics are zero. The result is a net thrust that passes right through the rotor shaft. Consequently the zero pitch and roll moments are generated. \n",
    "```"
   ]
  },
  {
   "cell_type": "markdown",
   "id": "7f9970c3",
   "metadata": {},
   "source": [
    "``{admonition} Real\n",
    "Helicopter center of gravity (CG) does not lie exactly below the rotor shaft. Fuel consumption, ingress egress of equipment or passenger, payload drop etc. are some of the mechanisms via which CG might move about during hover. Even pilots shifting in their seats will affect the CG. Clearly CG directly below the rotor shaft is an unrealistic expection. So symmetric lift distribution over the rotor disk in hover is not viable. Uneven blockage effects from the fuselage, distrubance from the air, minor differences in blade construction etc. exacerbate this situation. So non-zero rotor cyclic angles are necessary in hover.\n",
    "``` "
   ]
  },
  {
   "cell_type": "markdown",
   "id": "8145fe81",
   "metadata": {},
   "source": []
  },
  {
   "cell_type": "markdown",
   "id": "e7b5985e",
   "metadata": {},
   "source": []
  },
  {
   "cell_type": "markdown",
   "id": "e41f2561",
   "metadata": {},
   "source": []
  },
  {
   "cell_type": "markdown",
   "id": "08c8a8b7",
   "metadata": {},
   "source": []
  },
  {
   "cell_type": "markdown",
   "id": "70c21e5d",
   "metadata": {},
   "source": []
  },
  {
   "cell_type": "markdown",
   "id": "d5511b6c",
   "metadata": {},
   "source": []
  },
  {
   "cell_type": "markdown",
   "id": "127fa06a",
   "metadata": {},
   "source": []
  }
 ],
 "metadata": {
  "hide_input": false,
  "kernelspec": {
   "display_name": "Python 3 (ipykernel)",
   "language": "python",
   "name": "python3"
  },
  "language_info": {
   "codemirror_mode": {
    "name": "ipython",
    "version": 3
   },
   "file_extension": ".py",
   "mimetype": "text/x-python",
   "name": "python",
   "nbconvert_exporter": "python",
   "pygments_lexer": "ipython3",
   "version": "3.8.5"
  },
  "varInspector": {
   "cols": {
    "lenName": 16,
    "lenType": 16,
    "lenVar": 40
   },
   "kernels_config": {
    "python": {
     "delete_cmd_postfix": "",
     "delete_cmd_prefix": "del ",
     "library": "var_list.py",
     "varRefreshCmd": "print(var_dic_list())"
    },
    "r": {
     "delete_cmd_postfix": ") ",
     "delete_cmd_prefix": "rm(",
     "library": "var_list.r",
     "varRefreshCmd": "cat(var_dic_list()) "
    }
   },
   "types_to_exclude": [
    "module",
    "function",
    "builtin_function_or_method",
    "instance",
    "_Feature"
   ],
   "window_display": false
  }
 },
 "nbformat": 4,
 "nbformat_minor": 5
}
