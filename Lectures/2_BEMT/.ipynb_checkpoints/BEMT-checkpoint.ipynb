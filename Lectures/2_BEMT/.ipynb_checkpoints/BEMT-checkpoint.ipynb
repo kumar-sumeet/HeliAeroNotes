{
 "cells": [
  {
   "cell_type": "markdown",
   "id": "ff840622",
   "metadata": {},
   "source": [
    "# Blade Element Momentum Theory\n",
    "\n",
    "\n",
    "\"Remember that all models are wrong; the practical question is how wrong do they have to be to not be useful.\" \t\t\t\n",
    "\n",
    "[G. Box (1987)](https://en.wikipedia.org/wiki/All_models_are_wrong)\n",
    "\n"
   ]
  },
  {
   "cell_type": "code",
   "execution_count": null,
   "id": "4ad5b9a2",
   "metadata": {},
   "outputs": [],
   "source": []
  },
  {
   "cell_type": "code",
   "execution_count": null,
   "id": "fe056a90",
   "metadata": {},
   "outputs": [],
   "source": []
  },
  {
   "cell_type": "code",
   "execution_count": null,
   "id": "1bab6741",
   "metadata": {},
   "outputs": [],
   "source": [
    "#all details about equations about BEMT"
   ]
  },
  {
   "cell_type": "markdown",
   "id": "05399971",
   "metadata": {},
   "source": [
    "## BEMT in a nutshell\n",
    "\n",
    "### Blade aerodynamics\n",
    "- Airfoil tables\n",
    "\n",
    "### Wake model\n",
    "- Momentum theory"
   ]
  },
  {
   "cell_type": "code",
   "execution_count": null,
   "id": "d54ec7fe",
   "metadata": {},
   "outputs": [],
   "source": []
  },
  {
   "cell_type": "code",
   "execution_count": null,
   "id": "effe1277",
   "metadata": {},
   "outputs": [],
   "source": []
  },
  {
   "cell_type": "code",
   "execution_count": null,
   "id": "19015a2c",
   "metadata": {},
   "outputs": [],
   "source": []
  },
  {
   "cell_type": "code",
   "execution_count": null,
   "id": "cfb1182c",
   "metadata": {},
   "outputs": [],
   "source": []
  },
  {
   "cell_type": "code",
   "execution_count": null,
   "id": "23e258fa",
   "metadata": {},
   "outputs": [],
   "source": []
  },
  {
   "cell_type": "code",
   "execution_count": null,
   "id": "3366d08f",
   "metadata": {},
   "outputs": [],
   "source": []
  },
  {
   "cell_type": "code",
   "execution_count": null,
   "id": "3701b3c6",
   "metadata": {},
   "outputs": [],
   "source": []
  },
  {
   "cell_type": "markdown",
   "id": "4dda77ee",
   "metadata": {},
   "source": [
    "## BEMT: review\n",
    "\n",
    "* "
   ]
  },
  {
   "cell_type": "markdown",
   "id": "2c680ce9",
   "metadata": {},
   "source": [
    "## BEMT: ...\n",
    "\n",
    "* BEMT provides the simplest strategy of separating out the solutions of the blades aerodynamics and effect of the wake\n",
    "* Higher-fidelity solution strategies employ same principle\n",
    "* Different rotor wake models as well as methods to solve for the blade aerodynamics exist\n",
    "* Solving for rotor aerodynamics \n",
    "* "
   ]
  },
  {
   "cell_type": "code",
   "execution_count": null,
   "id": "19f5cd76",
   "metadata": {},
   "outputs": [],
   "source": []
  },
  {
   "cell_type": "code",
   "execution_count": null,
   "id": "b4c5c552",
   "metadata": {},
   "outputs": [],
   "source": []
  },
  {
   "cell_type": "code",
   "execution_count": null,
   "id": "d5a04106",
   "metadata": {},
   "outputs": [],
   "source": []
  },
  {
   "cell_type": "code",
   "execution_count": null,
   "id": "480bd970",
   "metadata": {},
   "outputs": [],
   "source": []
  }
 ],
 "metadata": {
  "hide_input": false,
  "kernelspec": {
   "display_name": "Python 3 (ipykernel)",
   "language": "python",
   "name": "python3"
  },
  "language_info": {
   "codemirror_mode": {
    "name": "ipython",
    "version": 3
   },
   "file_extension": ".py",
   "mimetype": "text/x-python",
   "name": "python",
   "nbconvert_exporter": "python",
   "pygments_lexer": "ipython3",
   "version": "3.8.5"
  },
  "varInspector": {
   "cols": {
    "lenName": 16,
    "lenType": 16,
    "lenVar": 40
   },
   "kernels_config": {
    "python": {
     "delete_cmd_postfix": "",
     "delete_cmd_prefix": "del ",
     "library": "var_list.py",
     "varRefreshCmd": "print(var_dic_list())"
    },
    "r": {
     "delete_cmd_postfix": ") ",
     "delete_cmd_prefix": "rm(",
     "library": "var_list.r",
     "varRefreshCmd": "cat(var_dic_list()) "
    }
   },
   "types_to_exclude": [
    "module",
    "function",
    "builtin_function_or_method",
    "instance",
    "_Feature"
   ],
   "window_display": false
  }
 },
 "nbformat": 4,
 "nbformat_minor": 5
}
