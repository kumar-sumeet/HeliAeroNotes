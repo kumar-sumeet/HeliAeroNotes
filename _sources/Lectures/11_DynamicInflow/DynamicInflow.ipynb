{
 "cells": [
  {
   "cell_type": "markdown",
   "id": "07a919d6",
   "metadata": {},
   "source": [
    "# Dynamic Inflow"
   ]
  },
  {
   "cell_type": "markdown",
   "id": "9905fe25",
   "metadata": {},
   "source": [
    "Section 1.3 in T20_1"
   ]
  },
  {
   "cell_type": "markdown",
   "id": "02477d50",
   "metadata": {},
   "source": [
    "In steady-state operation, the thrust and moments at the rotor hub remain constant with respect to time. Normally, rotor operational state can be regarded as steady-state. Note that here the reference is to the overall rotor thrust and moments and not the blade sectional loads. The latter vary signficantly (in forward flight state) but the former still remains constant in stead-state operation. The steadiness in the aforementioned case is broken during a maneuver such that the induced velocity at the rotor disk is function of time (in addition to being a $f(r,\\psi)$ that is always is). Maneuver here refers to the transient state of rotor operation that ensues when a quick enough rotor control input are given. "
   ]
  },
  {
   "cell_type": "markdown",
   "id": "2253c0e2",
   "metadata": {},
   "source": [
    "For e.g. a 'jump take-off' is a manuever adopted by overloaded helicopters where the collective input is given quickly. "
   ]
  },
  {
   "cell_type": "markdown",
   "id": "563be303",
   "metadata": {},
   "source": [
    "Actuator disk of Kinner is the steady state result and Pitt-Peters model extended this to the unsteady case[T20_1]"
   ]
  },
  {
   "cell_type": "markdown",
   "id": "c6eb9e74",
   "metadata": {},
   "source": []
  },
  {
   "cell_type": "markdown",
   "id": "19afda14",
   "metadata": {},
   "source": [
    "## Acceleration potential"
   ]
  },
  {
   "cell_type": "markdown",
   "id": "e6517fff",
   "metadata": {},
   "source": [
    "## Work of Kinner"
   ]
  },
  {
   "cell_type": "markdown",
   "id": "f132a1df",
   "metadata": {},
   "source": [
    "## Pitt-Peters model"
   ]
  }
 ],
 "metadata": {
  "hide_input": false,
  "kernelspec": {
   "display_name": "Python 3 (ipykernel)",
   "language": "python",
   "name": "python3"
  },
  "language_info": {
   "codemirror_mode": {
    "name": "ipython",
    "version": 3
   },
   "file_extension": ".py",
   "mimetype": "text/x-python",
   "name": "python",
   "nbconvert_exporter": "python",
   "pygments_lexer": "ipython3",
   "version": "3.8.5"
  },
  "varInspector": {
   "cols": {
    "lenName": 16,
    "lenType": 16,
    "lenVar": 40
   },
   "kernels_config": {
    "python": {
     "delete_cmd_postfix": "",
     "delete_cmd_prefix": "del ",
     "library": "var_list.py",
     "varRefreshCmd": "print(var_dic_list())"
    },
    "r": {
     "delete_cmd_postfix": ") ",
     "delete_cmd_prefix": "rm(",
     "library": "var_list.r",
     "varRefreshCmd": "cat(var_dic_list()) "
    }
   },
   "types_to_exclude": [
    "module",
    "function",
    "builtin_function_or_method",
    "instance",
    "_Feature"
   ],
   "window_display": false
  }
 },
 "nbformat": 4,
 "nbformat_minor": 5
}
