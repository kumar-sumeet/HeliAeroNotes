{
 "cells": [
  {
   "cell_type": "markdown",
   "metadata": {},
   "source": [
    "# Momentum Theory"
   ]
  },
  {
   "cell_type": "markdown",
   "metadata": {},
   "source": []
  },
  {
   "cell_type": "code",
   "execution_count": null,
   "metadata": {},
   "outputs": [],
   "source": [
    "#bring tiger model and airfoil cross section to class as prop"
   ]
  },
  {
   "cell_type": "markdown",
   "metadata": {},
   "source": []
  },
  {
   "cell_type": "markdown",
   "metadata": {},
   "source": []
  },
  {
   "cell_type": "markdown",
   "metadata": {},
   "source": [
    "## Airfoils\n",
    "\n",
    "- The most efficient lift generation devices - i.e. high lift per unit drag\n",
    "-"
   ]
  },
  {
   "cell_type": "markdown",
   "metadata": {},
   "source": [
    "## Breaking down the physics: airfoils \n",
    "\n",
    "- Aerodynamics problems involving airfoil performance can predominantly be understood in terms of Newton's 3rd law of motion.\n",
    "- Presence of airfoils in a moving fluid accelerate the flow \n",
    "- The resulting reaction forces manifest as lift and drag on the airfoil\n",
    "- "
   ]
  },
  {
   "cell_type": "markdown",
   "metadata": {},
   "source": [
    "## Breaking down the physics: rotors\n",
    "\n",
    "- Rotors are made up of wings (or blades) that have airfoil cross-section\n"
   ]
  },
  {
   "cell_type": "markdown",
   "metadata": {},
   "source": [
    "## Fundamentals of momentum theory"
   ]
  },
  {
   "cell_type": "markdown",
   "metadata": {},
   "source": [
    "\n",
    "\n",
    "[//]: # (add inflow image and corresponding eqs here)\n",
    "\n",
    "[//]: # (  - A link to an equation directive: ) \n",
    "\n",
    "\n",
    "The flow velocity at the rotor disk, $v_i$, is called induced velocity and is needed for accurate estimation of blade aerodynamics.\n",
    "The flow velocity at far downstream, $w$, is relevant for accounting for different rotor wake interaction phenomena - rotor-wing or rotor-fuselage interference effects, brownout, whiteout etc.\n",
    "\n",
    "[//]: # (whiteout/brownout videos here??)"
   ]
  },
  {
   "cell_type": "markdown",
   "metadata": {},
   "source": [
    "\\begin{equation*}\n",
    "\\begin{split}\n",
    "w_{t+1} &= (1 + r_{t+1}) s(w_t) + y_{t+1} \\\\\n",
    "a_2 &= b_2+c_2-d_2+e_2 \\\\\n",
    "a_2 &= b_2+c_2-d_2+e_2\n",
    "\\end{split}\n",
    "\\label{eq:first} \\tag{1}\n",
    "\\end{equation*}\n",
    "\n",
    "\\begin{equation*}\n",
    "a_2=b_2+c_2-d_2+e_2\n",
    "\\label{eq:second} \\tag{2}\n",
    "\\end{equation*} \n",
    "\n",
    "\n",
    "$\\eqref{eq:first}$ and $\\eqref{eq:second}$\n"
   ]
  },
  {
   "cell_type": "markdown",
   "metadata": {},
   "source": [
    "\n",
    "### Assumptions\n"
   ]
  },
  {
   "cell_type": "markdown",
   "metadata": {},
   "source": [
    "- (induced) flow velocity across the rotor disk is continuous\n",
    "    - continuity of fluids\n",
    "- \n",
    "\n",
    "infinite number of blades on the rotor\n",
    "- *induced velocities are small compared to the ??*"
   ]
  },
  {
   "cell_type": "markdown",
   "metadata": {},
   "source": []
  },
  {
   "cell_type": "markdown",
   "metadata": {},
   "source": []
  },
  {
   "cell_type": "markdown",
   "metadata": {},
   "source": []
  },
  {
   "cell_type": "markdown",
   "metadata": {},
   "source": [
    "\n",
    "\n",
    "Momentum theory only takes into account the rotor disc area. It does not take into account other rotor geometry parameters - blade twist, taper, chord, sweep angle (forward and back), anhedral/dihedral angle, or aerodynamic parameters - airfoil type."
   ]
  },
  {
   "cell_type": "markdown",
   "metadata": {},
   "source": [
    "\n",
    "<div class=\"image-grid2\">\n",
    "    <img  src=\"../../assets/1_MomentumTheory/propeller.jpg\" class=\"medium\"/>\n",
    "    <img  src=\"../../assets/1_MomentumTheory/rotor.jpg\" class=\"medium\"/>\n",
    "   \n",
    "</div>\n",
    "\n",
    "<div class=\"image-grid2\">\n",
    "  <p class=\"caption\"> Propeller <a href=\"https://commons.wikimedia.org/wiki/File:Engine_and_propellers_of_aircraft_close_up.jpg\"> [source]</a>\n",
    "  </p>   \n",
    "  <p  style=\"caption\"> Rotor <a href=\"https://en.wikipedia.org/wiki/Sikorsky_UH-60_Black_Hawk#/media/File:ROCA_UH-60M_Black_Hawk.jpg\"> [source]</a>\n",
    "  </p> \n",
    "</div>"
   ]
  },
  {
   "cell_type": "markdown",
   "metadata": {},
   "source": [
    "## Momentum theory: review"
   ]
  },
  {
   "cell_type": "markdown",
   "metadata": {},
   "source": [
    " - does not model rotor torque\n",
    " - it models the most dominant physics exhibited by rotors in steady state operation\n",
    "     - in general, it gets the trends from design parametric variations right\n",
    "     - hence can be used in preliminary design"
   ]
  },
  {
   "cell_type": "markdown",
   "metadata": {},
   "source": []
  },
  {
   "cell_type": "markdown",
   "metadata": {},
   "source": []
  },
  {
   "cell_type": "markdown",
   "metadata": {},
   "source": [
    "## Momentum theory: when is the fidelity sufficient?\n",
    "\n",
    "* Provides *good* estimate in steady conditions - climb, hover, descent\n",
    "* \n",
    "* "
   ]
  },
  {
   "cell_type": "markdown",
   "metadata": {},
   "source": [
    "## Momentum theory: when is the fidelity not sufficient?\n",
    "\n",
    "* Transient conditions - for e.g. maneuvers\n",
    "* Does not include aerodynamic limitations of an airfoil\n",
    "    * only maps thrust to induced velocity\n",
    "* k\n",
    "\n",
    "This is where the blade element momentum theory (BEMT) comes in."
   ]
  },
  {
   "cell_type": "markdown",
   "metadata": {},
   "source": [
    "## Are there better models?\n",
    "\n",
    "- some of the most high-fidelity analyses fall within the realm of CFD methods\n",
    "\n",
    "- vortex particle methods {cite}`A9_1` or the vorticity transport *(add citation)\n",
    "\n",
    "- dynamic inflow models {cite}`T20,T16,T24`\n",
    "\n",
    "- prescribed wake methods\n"
   ]
  },
  {
   "cell_type": "markdown",
   "metadata": {},
   "source": [
    "Except CFD methods and prescribed wake methods, all of the above are ways to model the rotor wake only i.e. evolution of the flow once it\n",
    "has been *disturbed* by the rotor blades (airfoil surfaces). Another model is needed to quantify this *disturbance* so that the wake models above take that as an input and ..."
   ]
  },
  {
   "cell_type": "markdown",
   "metadata": {},
   "source": []
  }
 ],
 "metadata": {
  "hide_input": false,
  "kernelspec": {
   "display_name": "Python 3",
   "language": "python",
   "name": "python3"
  },
  "language_info": {
   "codemirror_mode": {
    "name": "ipython",
    "version": 3
   },
   "file_extension": ".py",
   "mimetype": "text/x-python",
   "name": "python",
   "nbconvert_exporter": "python",
   "pygments_lexer": "ipython3",
   "version": "3.8.12"
  },
  "latex_envs": {
   "LaTeX_envs_menu_present": true,
   "autoclose": true,
   "autocomplete": false,
   "bibliofile": "biblio.bib",
   "cite_by": "apalike",
   "current_citInitial": 1,
   "eqLabelWithNumbers": false,
   "eqNumInitial": 1,
   "hotkeys": {
    "equation": "Ctrl-E",
    "itemize": "Ctrl-I"
   },
   "labels_anchors": false,
   "latex_user_defs": false,
   "report_style_numbering": false,
   "user_envs_cfg": false
  },
  "varInspector": {
   "cols": {
    "lenName": 16,
    "lenType": 16,
    "lenVar": 40
   },
   "kernels_config": {
    "python": {
     "delete_cmd_postfix": "",
     "delete_cmd_prefix": "del ",
     "library": "var_list.py",
     "varRefreshCmd": "print(var_dic_list())"
    },
    "r": {
     "delete_cmd_postfix": ") ",
     "delete_cmd_prefix": "rm(",
     "library": "var_list.r",
     "varRefreshCmd": "cat(var_dic_list()) "
    }
   },
   "types_to_exclude": [
    "module",
    "function",
    "builtin_function_or_method",
    "instance",
    "_Feature"
   ],
   "window_display": false
  }
 },
 "nbformat": 4,
 "nbformat_minor": 5
}
