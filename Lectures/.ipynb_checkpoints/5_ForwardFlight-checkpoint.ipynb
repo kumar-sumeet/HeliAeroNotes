{
 "cells": [
  {
   "cell_type": "markdown",
   "id": "6d7138e5",
   "metadata": {},
   "source": [
    "# Forward Flight"
   ]
  },
  {
   "cell_type": "code",
   "execution_count": 6,
   "id": "ffdb1201",
   "metadata": {},
   "outputs": [
    {
     "data": {
      "text/html": [
       "<video src=\"../assets/ElasticBlade_4.mp4\" loop autoplay  width=\"350\" >\n",
       "      Your browser does not support the <code>video</code> element.\n",
       "    </video>"
      ],
      "text/plain": [
       "<IPython.core.display.Video object>"
      ]
     },
     "execution_count": 6,
     "metadata": {},
     "output_type": "execute_result"
    }
   ],
   "source": [
    "from IPython.display import Video\n",
    "\n",
    "Video(\"../assets/ElasticBlade_4.mp4\",width=350,html_attributes=\"loop autoplay\")"
   ]
  },
  {
   "cell_type": "markdown",
   "id": "c43ff51a",
   "metadata": {},
   "source": []
  },
  {
   "cell_type": "markdown",
   "id": "1fefce58",
   "metadata": {},
   "source": []
  },
  {
   "cell_type": "markdown",
   "id": "275a8573",
   "metadata": {},
   "source": []
  },
  {
   "cell_type": "markdown",
   "id": "ad469bc0",
   "metadata": {},
   "source": []
  },
  {
   "cell_type": "markdown",
   "id": "8f512570",
   "metadata": {},
   "source": []
  },
  {
   "cell_type": "markdown",
   "id": "6c5f49b5",
   "metadata": {},
   "source": []
  },
  {
   "cell_type": "markdown",
   "id": "e610d4ce",
   "metadata": {},
   "source": []
  },
  {
   "cell_type": "markdown",
   "id": "3b01af2e",
   "metadata": {},
   "source": []
  },
  {
   "cell_type": "markdown",
   "id": "78a8f5f8",
   "metadata": {},
   "source": []
  },
  {
   "cell_type": "markdown",
   "id": "3559ea88",
   "metadata": {},
   "source": []
  },
  {
   "cell_type": "markdown",
   "id": "485555ae",
   "metadata": {},
   "source": []
  },
  {
   "cell_type": "markdown",
   "id": "7cb191bc",
   "metadata": {},
   "source": []
  },
  {
   "cell_type": "markdown",
   "id": "1361104d",
   "metadata": {},
   "source": []
  },
  {
   "cell_type": "markdown",
   "id": "9d73d568",
   "metadata": {},
   "source": []
  },
  {
   "cell_type": "markdown",
   "id": "de1be0b2",
   "metadata": {},
   "source": []
  },
  {
   "cell_type": "markdown",
   "id": "c3c530fe",
   "metadata": {},
   "source": []
  },
  {
   "cell_type": "markdown",
   "id": "cceb7c3f",
   "metadata": {},
   "source": []
  }
 ],
 "metadata": {
  "hide_input": false,
  "kernelspec": {
   "display_name": "Python 3 (ipykernel)",
   "language": "python",
   "name": "python3"
  },
  "language_info": {
   "codemirror_mode": {
    "name": "ipython",
    "version": 3
   },
   "file_extension": ".py",
   "mimetype": "text/x-python",
   "name": "python",
   "nbconvert_exporter": "python",
   "pygments_lexer": "ipython3",
   "version": "3.8.5"
  },
  "varInspector": {
   "cols": {
    "lenName": 16,
    "lenType": 16,
    "lenVar": 40
   },
   "kernels_config": {
    "python": {
     "delete_cmd_postfix": "",
     "delete_cmd_prefix": "del ",
     "library": "var_list.py",
     "varRefreshCmd": "print(var_dic_list())"
    },
    "r": {
     "delete_cmd_postfix": ") ",
     "delete_cmd_prefix": "rm(",
     "library": "var_list.r",
     "varRefreshCmd": "cat(var_dic_list()) "
    }
   },
   "types_to_exclude": [
    "module",
    "function",
    "builtin_function_or_method",
    "instance",
    "_Feature"
   ],
   "window_display": false
  }
 },
 "nbformat": 4,
 "nbformat_minor": 5
}
