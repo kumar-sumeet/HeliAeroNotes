{
 "cells": [
  {
   "cell_type": "markdown",
   "id": "e0d0a9e0",
   "metadata": {},
   "source": [
    "# Dynamic Inflow"
   ]
  },
  {
   "cell_type": "markdown",
   "id": "3483c137",
   "metadata": {},
   "source": [
    "The lack of ability to model transient wake i.e. $v_i(t)$, sets the stage for introducing dynamic inflow theory. Note that this only gets us $v_i$, i.e. it is a wake theory. The blade aerodynamics needs to be modelled separately but, as we shall see, the dynamic inflow models that'll be discussed put no restriction on the blade models used. The blade could be undergoing highly non-linear aerodynamics - for e.g. dynamic stall - and the blade model could be coupled with the dynamic inflow model and still be valid within the purview of dynamic inflow modelling."
   ]
  },
  {
   "cell_type": "markdown",
   "id": "7161abc2",
   "metadata": {},
   "source": [
    "The flow velocity normal to the rotor disk i.e. $v_i$ is modelled as given by the Eq ...\n",
    "\n",
    "\n",
    "\n"
   ]
  },
  {
   "cell_type": "code",
   "execution_count": null,
   "id": "187d0f7e",
   "metadata": {},
   "outputs": [],
   "source": []
  },
  {
   "cell_type": "code",
   "execution_count": null,
   "id": "75fc2d1e",
   "metadata": {},
   "outputs": [],
   "source": []
  },
  {
   "cell_type": "markdown",
   "id": "3b7683c9",
   "metadata": {},
   "source": [
    "Refs. - P116_1, P127"
   ]
  },
  {
   "cell_type": "markdown",
   "id": "5c690fff",
   "metadata": {},
   "source": []
  },
  {
   "cell_type": "markdown",
   "id": "e388a13e",
   "metadata": {},
   "source": []
  },
  {
   "cell_type": "markdown",
   "id": "b6bc71ec",
   "metadata": {},
   "source": [
    "Description of the step increase in blade pitch study (bot old and the UT Austin paper)\n",
    "\n",
    "figures\n",
    "\n",
    "\n",
    "The aerodynamic analysis discussed until now is incapable of predicting the results observed from the above studies. Momentum theory and BEMT based on quasi-steady airfoil aerodynamics. The aerodynamics, as it relates to the above experiments, due to sudden blade pitch changes cannot be modelled as quasi-steady anymore - the approximation fails here. Hence the need for a theory that accounts for the observed transient effects\n",
    "\n",
    "\n"
   ]
  },
  {
   "cell_type": "markdown",
   "id": "8341435e",
   "metadata": {},
   "source": []
  },
  {
   "cell_type": "markdown",
   "id": "e1222b57",
   "metadata": {},
   "source": []
  },
  {
   "cell_type": "markdown",
   "id": "676823d5",
   "metadata": {},
   "source": [
    "# Description\n",
    "\n",
    "- When rotor loads change as a function of time, so does the induced velocity\n",
    "-\n",
    "-\n",
    "- Dynamic inflow models help estimate induced velocity as a function of changing rotor loads\n",
    "- This is a wake model only!\n",
    "    - needs to be coupled with a blade aerodynamics model for rotor aerodynamics analyses"
   ]
  },
  {
   "cell_type": "markdown",
   "id": "feee5524",
   "metadata": {},
   "source": [
    "## Mathematical form\n",
    "\n",
    "T16 says -\n",
    "\n",
    "F =ma\n",
    "\n",
    "Euler eq.\n",
    "\n"
   ]
  },
  {
   "cell_type": "markdown",
   "id": "8aa6b605",
   "metadata": {},
   "source": [
    "## Characteristics\n",
    "\n",
    "- Equations simple in form\n",
    "    - \n",
    "- Computationally light \n",
    "    - used in real time flight simulators\n",
    "- Heirarchical in nature\n",
    "    - increasing number of states improves *accuracy* of the results [^DynInfl1]\n",
    "    - literature suggests that this might not always be the case, the blade aero and elastic deformation play a role as well \n",
    "    \n",
    "- Extensively used in aeroelastic stability analysis\n",
    "- \n",
    "\n",
    "```{figure} ../screenshots/11_DynamicInflow/T16_1.png\n",
    "---\n",
    "height: 150px\n",
    "name: directive-fig\n",
    "---\n",
    "Here is my figure caption!\n",
    "```\n",
    "\n",
    "[^DynInfl1]: The governing differential equations that the dynamic inflow equations are based on are themselves an approximation of the *true* governing equations (if one assumes the Navier-Stokes equations to the governing fluid equations that result in *exact* solutions). So by increasing the number of states, the dynamic inflow model tends towards the model represented by Eq. ...\n",
    "\n"
   ]
  },
  {
   "cell_type": "markdown",
   "id": "3feb88c9",
   "metadata": {},
   "source": []
  },
  {
   "cell_type": "markdown",
   "id": "2b408b40",
   "metadata": {},
   "source": []
  },
  {
   "cell_type": "markdown",
   "id": "b35a168c",
   "metadata": {},
   "source": [
    "## Pitt-Peters inflow model"
   ]
  },
  {
   "cell_type": "markdown",
   "id": "481cd16c",
   "metadata": {},
   "source": [
    "Look into the below\n",
    "```{figure} ../assets/T16_3.png \n",
    "```\n",
    "```{figure} ../assets/T16_4.png \n",
    "```"
   ]
  },
  {
   "cell_type": "markdown",
   "id": "dac51309",
   "metadata": {},
   "source": []
  },
  {
   "cell_type": "markdown",
   "id": "bbf51b24",
   "metadata": {},
   "source": [
    "## Peters-He inflow model\n",
    "\n",
    "sdfd"
   ]
  },
  {
   "cell_type": "markdown",
   "id": "20a9016e",
   "metadata": {},
   "source": []
  },
  {
   "cell_type": "markdown",
   "id": "5c9a9776",
   "metadata": {},
   "source": []
  },
  {
   "cell_type": "markdown",
   "id": "8eafdfb4",
   "metadata": {},
   "source": []
  },
  {
   "cell_type": "markdown",
   "id": "a7041b45",
   "metadata": {},
   "source": []
  },
  {
   "cell_type": "markdown",
   "id": "f7169e37",
   "metadata": {},
   "source": []
  },
  {
   "cell_type": "markdown",
   "id": "ded0f9df",
   "metadata": {},
   "source": []
  },
  {
   "cell_type": "markdown",
   "id": "0fd43fc3",
   "metadata": {},
   "source": []
  },
  {
   "cell_type": "markdown",
   "id": "449945c1",
   "metadata": {},
   "source": []
  },
  {
   "cell_type": "markdown",
   "id": "15351b84",
   "metadata": {},
   "source": []
  },
  {
   "cell_type": "markdown",
   "id": "85c792bd",
   "metadata": {},
   "source": []
  }
 ],
 "metadata": {
  "celltoolbar": "Edit Metadata",
  "hide_input": false,
  "kernelspec": {
   "display_name": "Python 3 (ipykernel)",
   "language": "python",
   "name": "python3"
  },
  "language_info": {
   "codemirror_mode": {
    "name": "ipython",
    "version": 3
   },
   "file_extension": ".py",
   "mimetype": "text/x-python",
   "name": "python",
   "nbconvert_exporter": "python",
   "pygments_lexer": "ipython3",
   "version": "3.8.5"
  },
  "varInspector": {
   "cols": {
    "lenName": 16,
    "lenType": 16,
    "lenVar": 40
   },
   "kernels_config": {
    "python": {
     "delete_cmd_postfix": "",
     "delete_cmd_prefix": "del ",
     "library": "var_list.py",
     "varRefreshCmd": "print(var_dic_list())"
    },
    "r": {
     "delete_cmd_postfix": ") ",
     "delete_cmd_prefix": "rm(",
     "library": "var_list.r",
     "varRefreshCmd": "cat(var_dic_list()) "
    }
   },
   "types_to_exclude": [
    "module",
    "function",
    "builtin_function_or_method",
    "instance",
    "_Feature"
   ],
   "window_display": false
  }
 },
 "nbformat": 4,
 "nbformat_minor": 5
}