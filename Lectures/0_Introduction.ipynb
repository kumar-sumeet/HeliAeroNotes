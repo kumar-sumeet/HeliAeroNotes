{
 "cells": [
  {
   "cell_type": "markdown",
   "id": "6ff36149",
   "metadata": {},
   "source": [
    "```{epigraph}\n",
    "\"If you're in trouble anywhere in the world, an airplane can fly over and drop flowers, but a helicopter can save your life.\"\n",
    "\n",
    "-- [Igor Sikorsky](https://www.sikorskyarchives.com/History.php) \n",
    "```"
   ]
  },
  {
   "cell_type": "markdown",
   "id": "7680730d",
   "metadata": {},
   "source": [
    "```{epigraph}\n",
    "\"Fortunately, engineers and technologists do not wait until everything is completely understood before building and trying new devices...\"\n",
    "\n",
    "-- [W. J. McCROSKEY](https://asmedigitalcollection.asme.org/fluidsengineering/article-abstract/99/1/8/435840/The-1976-Freeman-Scholar-Lecture-Some-Current?redirectedFrom=PDF) \n",
    "```"
   ]
  },
  {
   "cell_type": "markdown",
   "id": "3ee5095d",
   "metadata": {},
   "source": [
    "In case some of you were wondering that helicopters have been around for almost a century, surely engineers know everything there is to know about them. What contribution could you make to the state-of-the art in this field. The latter quote is particularly relevant \n",
    "\n",
    "Time and again, "
   ]
  },
  {
   "cell_type": "markdown",
   "id": "5ec12f35",
   "metadata": {},
   "source": [
    "Fixed-wing aerodynamics knowledge doesn't directly apply when studying rotor aerodynamics except the 2D airfoil aerodynamics. "
   ]
  },
  {
   "cell_type": "markdown",
   "id": "05488857",
   "metadata": {},
   "source": [
    "In order to study helicopter performance and dynamics one needs to be familiar with the mechanical complexity associated with the rotor design itself as well as the associated aerodynamics. While the two are intricately related we'll just look at the aerodynamics component in this course and bring up the rotor design complexities when they serve our purpose of better understanding the aerodynamics of the rotor."
   ]
  },
  {
   "cell_type": "code",
   "execution_count": null,
   "metadata": {
    "slideshow": {
     "slide_type": "-"
    },
    "tags": [
     "hide-input"
    ]
   },
   "outputs": [],
   "source": [
    "from IPython.display import IFrame"
   ]
  },
  {
   "cell_type": "markdown",
   "metadata": {
    "slideshow": {
     "slide_type": "-"
    }
   },
   "source": [
    "# Resources\n",
    "\n",
    "\n",
    "```{note}\n",
    "The tutorials from this section can be done online using Binder by clicking on the rocket icon in the top right of the tutorial page.\n",
    "```"
   ]
  },
  {
   "cell_type": "code",
   "execution_count": 1,
   "metadata": {
    "slideshow": {
     "slide_type": "-"
    },
    "tags": [
     "hide-input"
    ]
   },
   "outputs": [
    {
     "data": {
      "text/html": [
       "<iframe src=\"https://vtol.org/\" width=\"1000\" height=\"800\"></iframe>\n"
      ],
      "text/plain": [
       "<IPython.core.display.HTML object>"
      ]
     },
     "metadata": {},
     "output_type": "display_data"
    }
   ],
   "source": [
    "%%html\n",
    "<iframe src=\"https://vtol.org/\" width=\"1000\" height=\"800\"></iframe>"
   ]
  },
  {
   "cell_type": "markdown",
   "metadata": {
    "slideshow": {
     "slide_type": "-"
    }
   },
   "source": [
    "## The final grades in the course will be roughly based on the following distribution- \n",
    "\n",
    "- Reading assignment - 30%\n",
    "- Oral exam - 70%\n"
   ]
  },
  {
   "cell_type": "code",
   "execution_count": null,
   "id": "66dd6915",
   "metadata": {},
   "outputs": [],
   "source": []
  },
  {
   "cell_type": "markdown",
   "id": "3b244db1",
   "metadata": {},
   "source": [
    "# What makes a helicopter?\n",
    "\n",
    "```{figure} ../assets/bamby_faon.png\n",
    "---\n",
    "height: 150px\n",
    "name: bamby_faon\n",
    "---\n",
    "Bamby-Faon [source](https://vtol.org/qr/may-2021)\n",
    "```\n",
    "\n",
    "```{figure} ../assets/bamby_faon.png\n",
    "---\n",
    "height: 150px\n",
    "name: bamby_faon\n",
    "---\n",
    "Bamby-Faon [source](https://vtol.org/qr/may-2021)\n",
    "```\n",
    "\n",
    "```{figure} ../assets/Comanche.png\n",
    "---\n",
    "height: 150px\n",
    "name: Comanche\n",
    "---\n",
    "Comanche [source](https://vtol.org/images/dmImage/SourceImage/2018-January.JPG)\n",
    "```\n"
   ]
  },
  {
   "cell_type": "markdown",
   "metadata": {
    "slideshow": {
     "slide_type": "slide"
    }
   },
   "source": [
    "## What we'll learn during the course - a brief overview"
   ]
  },
  {
   "cell_type": "markdown",
   "metadata": {
    "slideshow": {
     "slide_type": "subslide"
    }
   },
   "source": [
    "\n",
    "\n",
    "- What makes the below design special from the rest of the (conventional design) helicopters that the speed record set by it *still* stands - 400 km/hr\n",
    "\n",
    "<center>\n",
    "    <img src=\"../assets/lynx.png\" class=\"medium\">\n",
    "    <p style=\"font-size:12px; color:gray; text-align:center;\" > Lynx <a href=\"https://vtol.org/qr/2015-ahs-history-calendar\"> [source]</a></p>\n",
    "\n",
    "</center>\n"
   ]
  },
  {
   "cell_type": "markdown",
   "metadata": {},
   "source": [
    "- What makes the below design special that it can *easily* do ~460 km/hr\n",
    "<center>\n",
    "    <img src=\"../assets/lynx.png\" class=\"medium\">\n",
    "    <p style=\"font-size:12px; color:gray; text-align:center;\" > Lynx <a href=\"https://vtol.org/qr/2015-ahs-history-calendar\"> [source]</a></p>\n",
    "\n",
    "</center>\n"
   ]
  },
  {
   "cell_type": "markdown",
   "metadata": {},
   "source": [
    "- What makes this design special that it still holds the flight altitude record of 12,442 m?\n",
    "    \n",
    "    \n",
    "<center>\n",
    "    <img src=\"../assets/Aerospatiale_SA-315B_HB-XTM.jpeg\" class=\"medium\">\n",
    "    <p style=\"font-size:12px; color:gray; text-align:center;\" > Aérospatiale SA 315B Lama <a href=\"https://en.wikipedia.org/wiki/A%C3%A9rospatiale_SA_315B_Lama#/media/File:Aerospatiale_SA-315B_HB-XTM.jpg\"> [source]</a></p>\n",
    "\n",
    "</center>    \n",
    "    \n",
    "\n"
   ]
  },
  {
   "cell_type": "code",
   "execution_count": null,
   "id": "ec866cb5",
   "metadata": {},
   "outputs": [],
   "source": []
  },
  {
   "cell_type": "markdown",
   "metadata": {},
   "source": [
    "```{danger} Do not try to just memorize formulae, try to understand their physical origins. A lot of the times you would be able to just substitute quantities in the formulae and get the expected result but you would not be able to appreciate the physics. you need to appreciate physics because blind application of formulae might sometimes result in unphysical results and you need to be ableto tell when that happens.\n",
    "``` "
   ]
  },
  {
   "cell_type": "code",
   "execution_count": null,
   "id": "29056236",
   "metadata": {},
   "outputs": [],
   "source": []
  },
  {
   "cell_type": "markdown",
   "metadata": {},
   "source": [
    "```{admonition} Food for Thought\n",
    "A common feature among all aircraft above seems to be the presence of atleast 2 rotors. Is a one-rotor design possible.\n",
    "Note: We are only concerned with aircraft that have VTOL capability.\n",
    "```"
   ]
  },
  {
   "cell_type": "markdown",
   "metadata": {},
   "source": [
    "# What makes a helicopter?\n",
    "\n",
    "\n",
    "<div class=\"image-grid2\">\n",
    "    <img  src=\"../assets/bamby_faon.png\" class=\"size_options\"/>\n",
    "    <img  src=\"../assets/Comanche.png\" class=\"size_options\"/>\n",
    "   \n",
    "</div>\n",
    "\n",
    "<div class=\"image-grid2\">\n",
    "  <p > Bamby Faon <a href=\"https://vtol.org/qr/may-2021\"> [source]</a>\n",
    "  </p>   \n",
    "  <p > Comanche <a href=\"https://vtol.org/images/dmImage/SourceImage/2018-January.JPG\"> [source]</a>\n",
    "  </p> \n",
    "</div>\n",
    "\n"
   ]
  },
  {
   "cell_type": "markdown",
   "id": "269ccd50",
   "metadata": {},
   "source": [
    "basically, almost any design imaginable, that was also possible with the technology level back then, \n",
    "was built and tested"
   ]
  },
  {
   "cell_type": "markdown",
   "metadata": {},
   "source": [
    "<center>\n",
    "    <img src=\"../assets/CJC1A_HummingBird.png\" class=\"medium\">\n",
    "    <p style=\"font-size:12px; color:gray; text-align:center;\" > CJC-1A Humming Bird <a href=\"https://vtol.org/qr/august-2019\"> [source]</a></p>\n",
    "\n",
    "</center>\n"
   ]
  },
  {
   "cell_type": "markdown",
   "metadata": {},
   "source": []
  },
  {
   "cell_type": "markdown",
   "metadata": {},
   "source": [
    "# Old vs New\n",
    "\n",
    "\n",
    "<center>\n",
    "    <img src=\"../assets/Curtiss-Wright_X-19_flying.jpeg\" class=\"medium\">\n",
    "    <p style=\"font-size:12px; color:gray; text-align:center;\" > Curtiss-Wright X-19 flying <a href=\"https://en.wikipedia.org/wiki/Curtiss-Wright_X-19#/media/File:Curtiss-Wright_X-19_flying.jpg\"> [source]</a></p>\n",
    "\n",
    "</center>\n",
    "\n"
   ]
  },
  {
   "cell_type": "code",
   "execution_count": null,
   "metadata": {},
   "outputs": [],
   "source": []
  }
 ],
 "metadata": {
  "celltoolbar": "Tags",
  "hide_input": false,
  "kernelspec": {
   "display_name": "Python 3",
   "language": "python",
   "name": "python3"
  },
  "language_info": {
   "codemirror_mode": {
    "name": "ipython",
    "version": 3
   },
   "file_extension": ".py",
   "mimetype": "text/x-python",
   "name": "python",
   "nbconvert_exporter": "python",
   "pygments_lexer": "ipython3",
   "version": "3.8.12"
  },
  "latex_envs": {
   "LaTeX_envs_menu_present": true,
   "autoclose": true,
   "autocomplete": true,
   "bibliofile": "biblio.bib",
   "cite_by": "apalike",
   "current_citInitial": 1,
   "eqLabelWithNumbers": false,
   "eqNumInitial": 1,
   "hotkeys": {
    "equation": "Ctrl-E",
    "itemize": "Ctrl-I"
   },
   "labels_anchors": false,
   "latex_user_defs": false,
   "report_style_numbering": false,
   "user_envs_cfg": false
  },
  "varInspector": {
   "cols": {
    "lenName": 16,
    "lenType": 16,
    "lenVar": 40
   },
   "kernels_config": {
    "python": {
     "delete_cmd_postfix": "",
     "delete_cmd_prefix": "del ",
     "library": "var_list.py",
     "varRefreshCmd": "print(var_dic_list())"
    },
    "r": {
     "delete_cmd_postfix": ") ",
     "delete_cmd_prefix": "rm(",
     "library": "var_list.r",
     "varRefreshCmd": "cat(var_dic_list()) "
    }
   },
   "types_to_exclude": [
    "module",
    "function",
    "builtin_function_or_method",
    "instance",
    "_Feature"
   ],
   "window_display": false
  }
 },
 "nbformat": 4,
 "nbformat_minor": 5
}
