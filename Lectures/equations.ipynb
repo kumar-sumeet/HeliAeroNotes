{
 "cells": [
  {
   "cell_type": "markdown",
   "id": "64730cb8",
   "metadata": {},
   "source": [
    "\\begin{equation}\n",
    "\\rho \\frac{D \\vec{u}}{D t}=-\\nabla p\n",
    "\\end{equation}"
   ]
  },
  {
   "cell_type": "markdown",
   "id": "158864e7",
   "metadata": {},
   "source": [
    "using\n",
    "\\begin{equation}\n",
    "\\frac{D \\vec{u}}{D t}=\\frac{\\partial \\vec{u}}{\\partial t}+\\vec{u} \\cdot(\\nabla \\vec{u})\n",
    "\\end{equation}"
   ]
  },
  {
   "cell_type": "markdown",
   "id": "cf8f03af",
   "metadata": {},
   "source": [
    "\\begin{equation}\n",
    "\\nabla(\\vec{u}. \\vec{u}) = 2 \\vec{u}(\\nabla \\vec{u}) + 2 \\vec{u}\\times (\\nabla \\times \\vec{u} )\n",
    "\\end{equation}"
   ]
  },
  {
   "cell_type": "markdown",
   "id": "8bc9a85a",
   "metadata": {},
   "source": [
    "\\begin{equation}\n",
    "\\begin{array}{l}\n",
    "\\nabla \\times \\vec{u}=0 \\\\\n",
    "\\vec{u}=\\nabla \\phi\n",
    "\\end{array}\n",
    "\\end{equation}"
   ]
  },
  {
   "cell_type": "markdown",
   "id": "6df2ea7b",
   "metadata": {},
   "source": [
    "\\begin{equation}\n",
    "\\frac{\\partial \\vec{u}}{\\partial t}+\\nabla {u^{2}}=-\\frac{\\nabla p}{\\rho}=-\\nabla\\left(\\frac{p}{\\rho}\\right)\n",
    "\\end{equation}"
   ]
  },
  {
   "cell_type": "markdown",
   "id": "41652121",
   "metadata": {},
   "source": [
    "\\begin{equation}\n",
    "\\begin{array}{l}\n",
    "\\displaystyle \\Rightarrow \\nabla\\left[\\frac{\\partial \\phi}{\\partial t}+u^{2}+\\frac{p}{\\rho}\\right]=0 \\\\\n",
    "\\displaystyle \\Rightarrow \\frac{\\partial \\phi}{\\partial t}+u^{2}+\\frac{p}{\\rho}=0\n",
    "\\end{array}\n",
    "\\end{equation}"
   ]
  },
  {
   "cell_type": "markdown",
   "id": "ff63ddcd",
   "metadata": {},
   "source": [
    "\\begin{equation}\n",
    "p-p_{\\infty}=- \\rho \\left[V_{\\infty} \\frac{\\partial \\phi}{\\partial x}+\\frac{\\partial \\phi}{\\partial t}\\right]\n",
    "\\end{equation}"
   ]
  },
  {
   "cell_type": "markdown",
   "id": "ad22b967",
   "metadata": {},
   "source": [
    "where\n",
    "\\begin{equation}\n",
    "\\begin{array}{l}\n",
    "\\vec{u}=\\left(V_{\\infty}+u\\right) \\hat{i}+v \\hat{j} \\\\\n",
    "\\vec{u}^{2}-V_{\\infty}^{2} \\approx 2 V_{\\infty} u\n",
    "\\end{array}\n",
    "\\end{equation}"
   ]
  },
  {
   "cell_type": "code",
   "execution_count": null,
   "id": "32ab2a39",
   "metadata": {},
   "outputs": [],
   "source": []
  }
 ],
 "metadata": {
  "kernelspec": {
   "display_name": "Python 3 (ipykernel)",
   "language": "python",
   "name": "python3"
  },
  "language_info": {
   "codemirror_mode": {
    "name": "ipython",
    "version": 3
   },
   "file_extension": ".py",
   "mimetype": "text/x-python",
   "name": "python",
   "nbconvert_exporter": "python",
   "pygments_lexer": "ipython3",
   "version": "3.8.13"
  },
  "latex_envs": {
   "LaTeX_envs_menu_present": true,
   "autoclose": true,
   "autocomplete": false,
   "bibliofile": "biblio.bib",
   "cite_by": "apalike",
   "current_citInitial": 1,
   "eqLabelWithNumbers": false,
   "eqNumInitial": 1,
   "hotkeys": {
    "equation": "Ctrl-E",
    "itemize": "Ctrl-I"
   },
   "labels_anchors": false,
   "latex_user_defs": false,
   "report_style_numbering": false,
   "user_envs_cfg": false
  }
 },
 "nbformat": 4,
 "nbformat_minor": 5
}
