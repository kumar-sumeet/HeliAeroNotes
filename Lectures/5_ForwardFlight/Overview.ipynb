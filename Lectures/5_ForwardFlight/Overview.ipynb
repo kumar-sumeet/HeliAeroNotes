{
 "cells": [
  {
   "cell_type": "markdown",
   "id": "7ba1923a",
   "metadata": {},
   "source": [
    "# Overview"
   ]
  },
  {
   "cell_type": "code",
   "execution_count": null,
   "id": "f4c666b0",
   "metadata": {},
   "outputs": [],
   "source": [
    "```{epigraph}\n",
    "\"If we [helicopter engineers] could see air, we would be a lot smarter.\"\n",
    "\n",
    "-- Ray W Prouty (Helicopter Aerodynamics I)  \n",
    "```\n",
    "\n"
   ]
  },
  {
   "cell_type": "markdown",
   "id": "6fb59e7b",
   "metadata": {},
   "source": [
    "On a conventional helicopter, the rotor is the sole entity responsible for generating thrust to counter the weight as well as the fuselage drag. While this characteristic itself leads to interesting aerodynamics and rotor performance attributes, there are a ton of pecularities arising just from edgewise rotor flight."
   ]
  },
  {
   "cell_type": "markdown",
   "id": "b11697e2",
   "metadata": {},
   "source": [
    "<center>\n",
    "    <img src=\"../../assets/forces.png\" class=\"medium\">\n",
    "    <p class=\"caption\"> UH60 <a href=\"https://en.wikipedia.org/wiki/Sikorsky_UH-60_Black_Hawk#/media/File:Jordanian_Air_Force_UH-60_Black_Hawk_helicopter_(cropped).jpg\"> [source]</a></p>\n",
    "\n",
    "</center>"
   ]
  },
  {
   "cell_type": "code",
   "execution_count": null,
   "id": "3ca2ba09",
   "metadata": {},
   "outputs": [],
   "source": []
  },
  {
   "cell_type": "code",
   "execution_count": null,
   "id": "4d50060b",
   "metadata": {},
   "outputs": [],
   "source": []
  },
  {
   "cell_type": "markdown",
   "id": "79620ba9",
   "metadata": {},
   "source": [
    "# Fixed-wing wake\n",
    "\n",
    "\n",
    "\n",
    "<div class=\"image-grid2\">\n",
    "    <img  src=\"../../assets/C17Vortex.jpeg\" class=\"medium\"/>\n",
    "    <img  src=\"../../assets/FA18CVortex.jpeg\" class=\"medium\"/>\n",
    "   \n",
    "</div>\n",
    "\n",
    "<div class=\"image-grid2\">\n",
    "  <p class=\"caption\"> C17 Vortex <a href=\"https://en.wikipedia.org/wiki/Wingtip_vortices#/media/File:C17-Vortex.JPG\"> [source]</a>\n",
    "  </p>   \n",
    "  <p  style=\"caption\"> FA18C Vortex <a href=\"https://en.wikipedia.org/wiki/Wingtip_vortices#/media/File:FA-18C_vapor_LEX_and_wingtip_1.jpg\"> [source]</a>\n",
    "  </p> \n",
    "</div>\n",
    "\n"
   ]
  },
  {
   "cell_type": "markdown",
   "id": "fba12e7b",
   "metadata": {},
   "source": [
    "# Rotary-wing wake"
   ]
  },
  {
   "cell_type": "code",
   "execution_count": null,
   "id": "d9c5a77d",
   "metadata": {},
   "outputs": [],
   "source": []
  },
  {
   "cell_type": "code",
   "execution_count": null,
   "id": "121b1df1",
   "metadata": {},
   "outputs": [],
   "source": []
  }
 ],
 "metadata": {
  "hide_input": false,
  "kernelspec": {
   "display_name": "Python 3 (ipykernel)",
   "language": "python",
   "name": "python3"
  },
  "language_info": {
   "codemirror_mode": {
    "name": "ipython",
    "version": 3
   },
   "file_extension": ".py",
   "mimetype": "text/x-python",
   "name": "python",
   "nbconvert_exporter": "python",
   "pygments_lexer": "ipython3",
   "version": "3.8.5"
  },
  "varInspector": {
   "cols": {
    "lenName": 16,
    "lenType": 16,
    "lenVar": 40
   },
   "kernels_config": {
    "python": {
     "delete_cmd_postfix": "",
     "delete_cmd_prefix": "del ",
     "library": "var_list.py",
     "varRefreshCmd": "print(var_dic_list())"
    },
    "r": {
     "delete_cmd_postfix": ") ",
     "delete_cmd_prefix": "rm(",
     "library": "var_list.r",
     "varRefreshCmd": "cat(var_dic_list()) "
    }
   },
   "types_to_exclude": [
    "module",
    "function",
    "builtin_function_or_method",
    "instance",
    "_Feature"
   ],
   "window_display": false
  }
 },
 "nbformat": 4,
 "nbformat_minor": 5
}
