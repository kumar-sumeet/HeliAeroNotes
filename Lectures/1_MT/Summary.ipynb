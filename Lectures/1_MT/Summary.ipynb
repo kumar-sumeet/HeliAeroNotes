{
 "cells": [
  {
   "cell_type": "code",
   "execution_count": 1,
   "metadata": {
    "hide_input": true,
    "slideshow": {
     "slide_type": "skip"
    },
    "tags": [
     "hide-input"
    ]
   },
   "outputs": [
    {
     "data": {
      "text/html": [
       "<style>\n",
       "\n",
       "\n",
       "img.smalsmal{\n",
       "    width:5%\n",
       "}\n",
       "\n",
       "\n",
       "img.small{\n",
       "    width: 20%;\n",
       "}\n",
       "\n",
       "img.medium\n",
       "{\n",
       "width: 30%;\n",
       "}\n",
       "\n",
       "img.big\n",
       "{\n",
       "    width: 120%;\n",
       "}\n",
       "\n",
       "img.large\n",
       "{\n",
       "    width: 70%;\n",
       "}\n",
       "\n",
       "\n",
       "img.left {\n",
       "    float: left;\n",
       "}\n",
       "\n",
       "img.right {\n",
       "    float: right;\n",
       "}\n",
       "\n",
       "\n",
       "\n",
       ".image-grid{\n",
       "\n",
       "    display: grid;\n",
       "    grid-template-columns: repeat(3, 1fr);\n",
       "    grid-gap: 16px; \n",
       "\n",
       "}\n",
       "\n",
       ".image-grid > img {\n",
       "    width: 100%;\n",
       "    height: 100%;\n",
       "    object-fit: contain;\n",
       "}\n",
       "\n",
       "\n",
       ".image-grid > p {\n",
       "    color: gray;\n",
       "    font-size: 16px;\n",
       "    text-align:left;\n",
       "    \n",
       "}\n",
       "\n",
       "\n",
       ".image-grid-col-2 {\n",
       "    grid-column: span 2;\n",
       "}\n",
       "\n",
       "\n",
       ".image-grid4{\n",
       "\n",
       "    display: grid;\n",
       "    grid-template-columns: repeat(4, 1fr);\n",
       "    grid-gap: 16px; \n",
       "\n",
       "}\n",
       "\n",
       ".image-grid4 > img {\n",
       "    width: 100%;\n",
       "    height: 100%;\n",
       "    object-fit: contain;\n",
       "}\n",
       "\n",
       "\n",
       ".image-grid4 > p {\n",
       "    color: gray;\n",
       "    font-size: 16px;\n",
       "    text-align:left;\n",
       "    \n",
       "}\n",
       "\n",
       "\n",
       "\n",
       ".image-grid2{\n",
       "\n",
       "    display: grid;\n",
       "    grid-template-columns: repeat(2, 1fr);\n",
       "    grid-gap: 16px; \n",
       "\n",
       "}\n",
       "\n",
       ".image-grid2 > img {\n",
       "    width: 100%;\n",
       "    height: 100%;\n",
       "    object-fit: contain;\n",
       "}\n",
       "\n",
       "\n",
       ".image-grid2 > p {\n",
       "    color: gray;\n",
       "    font-size: 16px;\n",
       "    text-align:left;\n",
       "    \n",
       "}\n",
       "\n",
       "\n",
       "</style>\n"
      ],
      "text/plain": [
       "<IPython.core.display.HTML object>"
      ]
     },
     "metadata": {},
     "output_type": "display_data"
    }
   ],
   "source": [
    "%%html\n",
    "<style>\n",
    "\n",
    "\n",
    "img.smalsmal{\n",
    "    width:5%\n",
    "}\n",
    "\n",
    "\n",
    "img.small{\n",
    "    width: 20%;\n",
    "}\n",
    "\n",
    "img.medium\n",
    "{\n",
    "width: 30%;\n",
    "}\n",
    "\n",
    "img.big\n",
    "{\n",
    "    width: 120%;\n",
    "}\n",
    "\n",
    "img.large\n",
    "{\n",
    "    width: 70%;\n",
    "}\n",
    "\n",
    "\n",
    "img.left {\n",
    "    float: left;\n",
    "}\n",
    "\n",
    "img.right {\n",
    "    float: right;\n",
    "}\n",
    "\n",
    "\n",
    "\n",
    ".image-grid{\n",
    "\n",
    "    display: grid;\n",
    "    grid-template-columns: repeat(3, 1fr);\n",
    "    grid-gap: 16px; \n",
    "\n",
    "}\n",
    "\n",
    ".image-grid > img {\n",
    "    width: 100%;\n",
    "    height: 100%;\n",
    "    object-fit: contain;\n",
    "}\n",
    "\n",
    "\n",
    ".image-grid > p {\n",
    "    color: gray;\n",
    "    font-size: 16px;\n",
    "    text-align:left;\n",
    "    \n",
    "}\n",
    "\n",
    "\n",
    ".image-grid-col-2 {\n",
    "    grid-column: span 2;\n",
    "}\n",
    "\n",
    "\n",
    ".image-grid4{\n",
    "\n",
    "    display: grid;\n",
    "    grid-template-columns: repeat(4, 1fr);\n",
    "    grid-gap: 16px; \n",
    "\n",
    "}\n",
    "\n",
    ".image-grid4 > img {\n",
    "    width: 100%;\n",
    "    height: 100%;\n",
    "    object-fit: contain;\n",
    "}\n",
    "\n",
    "\n",
    ".image-grid4 > p {\n",
    "    color: gray;\n",
    "    font-size: 16px;\n",
    "    text-align:left;\n",
    "    \n",
    "}\n",
    "\n",
    "\n",
    "\n",
    ".image-grid2{\n",
    "\n",
    "    display: grid;\n",
    "    grid-template-columns: repeat(2, 1fr);\n",
    "    grid-gap: 16px; \n",
    "\n",
    "}\n",
    "\n",
    ".image-grid2 > img {\n",
    "    width: 100%;\n",
    "    height: 100%;\n",
    "    object-fit: contain;\n",
    "}\n",
    "\n",
    "\n",
    ".image-grid2 > p {\n",
    "    color: gray;\n",
    "    font-size: 16px;\n",
    "    text-align:left;\n",
    "    \n",
    "}\n",
    "\n",
    "\n",
    "</style>"
   ]
  },
  {
   "cell_type": "markdown",
   "metadata": {
    "slideshow": {
     "slide_type": "slide"
    }
   },
   "source": [
    "# Summary"
   ]
  },
  {
   "cell_type": "markdown",
   "metadata": {
    "slideshow": {
     "slide_type": "-"
    }
   },
   "source": [
    "The momentum theory method discussed here is highly restrictive, since it does not provide but simultaneously incredibly useful ... Next we will talk about the blade element momentum theory method that tends to overcome some of the shortcomings of the momentum theory method."
   ]
  },
  {
   "cell_type": "markdown",
   "metadata": {
    "slideshow": {
     "slide_type": "-"
    }
   },
   "source": [
    "## Are there better models?"
   ]
  },
  {
   "cell_type": "markdown",
   "metadata": {
    "slideshow": {
     "slide_type": "-"
    }
   },
   "source": [
    "\n",
    "- some of the most high-fidelity analyses fall within the realm of CFD methods\n",
    "\n",
    "- vortex particle methods {cite}`A9_1` or the vorticity transport *(add citation)*\n",
    "\n",
    "- dynamic inflow models {cite}`T20,T16,T24`  \n",
    "\n",
    "- prescribed wake methods"
   ]
  },
  {
   "cell_type": "markdown",
   "metadata": {
    "slideshow": {
     "slide_type": "-"
    }
   },
   "source": [
    "Except CFD methods and prescribed wake methods, all of the above are ways to model the rotor wake only i.e. evolution of the flow once it\n",
    "has been *disturbed* by the rotor blades (airfoil surfaces). Another model is needed to quantify this *disturbance* so that the wake models above take that as an input and ..."
   ]
  },
  {
   "cell_type": "code",
   "execution_count": null,
   "metadata": {},
   "outputs": [],
   "source": []
  }
 ],
 "metadata": {
  "celltoolbar": "Slideshow",
  "hide_input": false,
  "kernelspec": {
   "display_name": "Python 3",
   "language": "python",
   "name": "python3"
  },
  "language_info": {
   "codemirror_mode": {
    "name": "ipython",
    "version": 3
   },
   "file_extension": ".py",
   "mimetype": "text/x-python",
   "name": "python",
   "nbconvert_exporter": "python",
   "pygments_lexer": "ipython3",
   "version": "3.8.12"
  },
  "latex_envs": {
   "LaTeX_envs_menu_present": true,
   "autoclose": true,
   "autocomplete": false,
   "bibliofile": "biblio.bib",
   "cite_by": "apalike",
   "current_citInitial": 1,
   "eqLabelWithNumbers": false,
   "eqNumInitial": 1,
   "hotkeys": {
    "equation": "Ctrl-E",
    "itemize": "Ctrl-I"
   },
   "labels_anchors": false,
   "latex_user_defs": false,
   "report_style_numbering": false,
   "user_envs_cfg": false
  },
  "varInspector": {
   "cols": {
    "lenName": 16,
    "lenType": 16,
    "lenVar": 40
   },
   "kernels_config": {
    "python": {
     "delete_cmd_postfix": "",
     "delete_cmd_prefix": "del ",
     "library": "var_list.py",
     "varRefreshCmd": "print(var_dic_list())"
    },
    "r": {
     "delete_cmd_postfix": ") ",
     "delete_cmd_prefix": "rm(",
     "library": "var_list.r",
     "varRefreshCmd": "cat(var_dic_list()) "
    }
   },
   "rise": {
    "autolaunch": false,
    "backimage": "../../assets/slidetemplate.png",
    "enable_chalkboard": true,
    "footer": "Sumeet Kumar, PhD candidate",
    "scroll": true
   },
   "types_to_exclude": [
    "module",
    "function",
    "builtin_function_or_method",
    "instance",
    "_Feature"
   ],
   "window_display": false
  }
 },
 "nbformat": 4,
 "nbformat_minor": 5
}
