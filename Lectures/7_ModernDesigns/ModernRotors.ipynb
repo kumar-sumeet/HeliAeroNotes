{
 "cells": [
  {
   "cell_type": "markdown",
   "id": "2838892c",
   "metadata": {},
   "source": [
    "# Overview"
   ]
  },
  {
   "cell_type": "markdown",
   "id": "3a8a7443",
   "metadata": {},
   "source": [
    "```{epigraph}\n",
    "\"History reminds us that aircraft development is not a wholly rational process. There is much chance and serendipity in RDT&E, and today’s reality could easily have been quite different. \"\n",
    "```\n",
    "\n",
    "<p style=\"text-align:right\" > <a href=\"https://www.cambridge.org/core/journals/aeronautical-journal/article/revitalising-advanced-rotorcraft-research-and-the-compound-helicopter/7884D8B377B406EEF885BB1E4C1EA943\"> R. A. Ormiston</a> </p>\n"
   ]
  },
  {
   "cell_type": "markdown",
   "id": "5097e969",
   "metadata": {},
   "source": [
    "Modern rotors in this chapter refers to rotor designs that include state-of-the-art and beyond state-of-the-art technologies in order to push the operational envelope of VTOL aircraft or improve their efficiency within the current operating envelope. Efficiency here refers to the three major aspects of rotor operation - power consumption, vibration and acoustics. This chapter refers to rotor designs and/or constitutive technologies that help improve rotorcraft within the scope of these parameters. In particular, the focus is on the following-"
   ]
  },
  {
   "cell_type": "markdown",
   "id": "014b0985",
   "metadata": {},
   "source": [
    "- advancing blade concept (ABC) design\n",
    "- higher harmonic blade control\n",
    "    - higher harmonic control (HHC) mechanism\n",
    "    - individual blade control (IBC) mechanism\n",
    "    - active trailing-edge flap (TEF) control\n",
    "- compound helicopter designs"
   ]
  },
  {
   "cell_type": "markdown",
   "id": "8c3f2148",
   "metadata": {},
   "source": [
    "The constitutive components of power consumption are, by now, apparent for all operational flight regimes. The main rotor is the biggest source of vibration experienced within the aircraft fuselage. In case of a perfectly balanced rotor, these vibrations are felt at frequencies that are dictated by the number of blades and the rate of rotation of the rotor. However, manufacturing tolerances dictate that not all blade (even on the same rotor) are exactly alike - both aerodynamically and structurally. This can potentially further increase vibratory loads within the fuselage. Aeroacoustic noise of a body is mainly dictated by its speed relative to the air (Mach number) and the pressure distribution over its surface. Given that rotor blade tips can reach Mach numbers of up to 0.9 in high-speed forward flight, they can be a signficant source of noise. Additionally, high noise can be caused during low speed flight as well - for e.g. when BVI occurs during descent flight. This is due to the sudden change in lift distribution (which is in turn a result of change in pressure distribution) over the blade that occurs when in hits the tip vortex from a preceding blade."
   ]
  },
  {
   "cell_type": "markdown",
   "id": "3f17dfe3",
   "metadata": {},
   "source": [
    "The ability to control the blade pitch only at 1/rev via the swashplate is a severe restriction when it comes to phenomena that occur on the rotor disc at frequencies >1/rev."
   ]
  },
  {
   "cell_type": "markdown",
   "id": "98c613f4",
   "metadata": {},
   "source": []
  },
  {
   "cell_type": "markdown",
   "id": "e6af2798",
   "metadata": {},
   "source": [
    "## Wind tunnel"
   ]
  },
  {
   "cell_type": "markdown",
   "id": "ea7850a3",
   "metadata": {},
   "source": [
    "Two wind tunnels feature prominently in experimental measurement campaigns involving rotorcraft\n",
    "\n",
    "- NASA Ames wind tunnel\n",
    "- Dutch DLR wind tunnel\n"
   ]
  },
  {
   "cell_type": "markdown",
   "id": "709c2659",
   "metadata": {},
   "source": [
    "### [NASA](https://www.nasa.gov/centers/langley/news/factsheets/WindTunnel.html#:~:text=The%20largest%20wind%20tunnel%20in,high%20and%2080%20feet%20wide.)"
   ]
  },
  {
   "cell_type": "markdown",
   "id": "efc793f8",
   "metadata": {},
   "source": [
    "\n",
    "This is the largest wind tunnel in the world with a 24.4 m x 36.6 m cross-section."
   ]
  },
  {
   "cell_type": "markdown",
   "id": "c8dc2524",
   "metadata": {},
   "source": [
    "<center>\n",
    "    <img src=\"../../assets/NASA_ARC.png\" class=\"large\">\n",
    "    <p  style=\"font-size:16px; color:gray; text-align:center;\"> NASA Ames Research Center <a href=\"https://en.wikipedia.org/wiki/Ames_Research_Center#/media/File:Aerial_View_of_the_NASA_Ames_Research_Center_-_GPN-2000-001560.jpg\">[source] </a></p>\n",
    "\n",
    "</center>"
   ]
  },
  {
   "cell_type": "markdown",
   "id": "6a8d2419",
   "metadata": {},
   "source": [
    "<div class=\"image-grid3\">\n",
    "    <img  src=\"../../assets/XH59_ARC.png\" class=\"small\"/>\n",
    "    <img  src=\"../../assets/Bo105_ARC.png\" class=\"small\"/>\n",
    "    <img  src=\"../../assets/UH60_ARC.png\" class=\"small\"/>\n",
    "</div>\n",
    "\n",
    "<div class=\"image-grid3\">\n",
    "    <p style=\"font-size:12px; color:gray; text-align:center;\"  > XH-59 <a href=\"https://www.sikorskyarchives.com/S-69%20(XH-59A).php\"> [source]</a></p>\n",
    "    <p style=\"font-size:12px; color:gray; text-align:center;\"  >  Bo 105 <a href=\"https://ntrs.nasa.gov/api/citations/19950026278/downloads/19950026278.pdf\"> [source]</a></p>\n",
    "    <p style=\"font-size:12px; color:gray; text-align:center;\"  > UH-60 <a href=\"https://rotorcraft.arc.nasa.gov/Publications/files/AHS12_WTFlightCompare_Norman.pdf\"> [source]</a></p>\n",
    "</div>\n"
   ]
  },
  {
   "cell_type": "markdown",
   "id": "9c8c1aa7",
   "metadata": {},
   "source": [
    "\n",
    "<center>\n",
    "    <img src=\"../../assets/UH60IBC.png\" class=\"medium\">\n",
    "    <p style=\"font-size:12px; color:gray; text-align:center;\"  > UH-60 IBC <a href=\"https://rotorcraft.arc.nasa.gov/Research/Programs/UH-60_IBC.html\"> [source]</a></p>\n",
    "\n",
    "</center>\n"
   ]
  },
  {
   "cell_type": "markdown",
   "id": "09814608",
   "metadata": {},
   "source": [
    "<div class=\"image-grid\">\n",
    "    <img  src=\"../../assets/SMART1.png\" class=\"medium\"/>\n",
    "    <img  src=\"../../assets/SMART2.png\" class=\"medium\"/>\n",
    "    <img  src=\"../../assets/SMART3.png\" class=\"medium\"/> \n",
    "</div>\n",
    "\n",
    "<div class=\"image-grid\">\n",
    "  <p > SMART <a href=\"https://rotorcraft.arc.nasa.gov/Publications/files/straub_2009_783.pdf\"> [source]</a>\n",
    "  </p>   \n",
    "  <p > SMART <a href=\"https://rotorcraft.arc.nasa.gov/Publications/files/straub_2009_783.pdf\"> [source] </a>\n",
    "  </p> \n",
    "  <p > SMART <a href=\"https://rotorcraft.arc.nasa.gov/Publications/files/straub_2009_783.pdf\"> [source]</a>\n",
    "  </p> \n",
    "</div>\n",
    "\n"
   ]
  },
  {
   "cell_type": "markdown",
   "id": "bd4bc41e",
   "metadata": {},
   "source": [
    "## DNW"
   ]
  },
  {
   "cell_type": "markdown",
   "id": "c8ad8b95",
   "metadata": {},
   "source": [
    "The 'Large Low-speed Facility' at the German-Dutch Wind tunnels (DNW LLF) has been extensively used to test scaled models of different rotors. In particular, the UH60 and Bo 105 scaled models have been extensively tested here."
   ]
  },
  {
   "cell_type": "markdown",
   "id": "0826d3b3",
   "metadata": {},
   "source": [
    "<center>\n",
    "    <img src=\"../../assets/DNW_LLF.png\" class=\"large\">\n",
    "    <p  style=\"font-size:16px; color:gray; text-align:center;\"> DNW LLF <a href=\"https://www.linkedin.com/company/dnw-german-dutch-wind-tunnels/?trk=public_profile_profile-section-card_subtitle-click&original_referer=https%3A%2F%2Fwww%2Egoogle%2Ecom%2F&originalSubdomain=be\">[source] </a></p>\n",
    "\n",
    "</center>"
   ]
  },
  {
   "cell_type": "markdown",
   "id": "8cc0edee",
   "metadata": {},
   "source": [
    "<div class=\"image-grid3\">\n",
    "    <img  src=\"../../assets/UH60_DNW.png\" class=\"small\"/>\n",
    "    <img  src=\"../../assets/HART_II.png\" class=\"small\"/>\n",
    "    <img  src=\"../../assets/META_DNW.jpeg\" class=\"small\"/>\n",
    "</div>\n",
    "\n",
    "<div class=\"image-grid3\">\n",
    "    <p style=\"font-size:12px; color:gray; text-align:center;\"  > UH60-scaled rotor <a href=\"https://rotorcraft.arc.nasa.gov/Publications/files/AHS12_WTFlightCompare_Norman.pdf\"> [source]</a></p>\n",
    "    <p style=\"font-size:12px; color:gray; text-align:center;\"  > HART II rotor (scaled Bo 105) <a href=\"https://apps.dtic.mil/sti/pdfs/ADA526789.pdf\"> [source]</a></p>\n",
    "    <p style=\"font-size:12px; color:gray; text-align:center;\"  > META (Mehrfach-Taumelscheiben-System) rotor <a href=\"https://www.dlr.de/content/de/artikel/news/2016/20160623_dlr-testet-neuartige-methode-fuer-leisere-hubschrauber_18379.html\"> [source]</a></p>\n",
    "</div>"
   ]
  },
  {
   "cell_type": "markdown",
   "id": "4f85d52f",
   "metadata": {},
   "source": [
    "## Basic VTOL configuration"
   ]
  },
  {
   "cell_type": "markdown",
   "id": "97e601cd",
   "metadata": {},
   "source": [
    "This is all you need to be able to perform the missions defined by the capabilities of a VTOL aircraft"
   ]
  },
  {
   "cell_type": "markdown",
   "id": "9ec09327",
   "metadata": {},
   "source": [
    "<div class=\"image-grid2\">\n",
    "    <img src=\"../../assets/HillerROERotorcycle.jpeg\" class=\"medium\">\n",
    "    <img src=\"../../assets/Backpack_Helicopter.jpeg\" class=\"medium\">\n",
    "</div>\n",
    "\n",
    "<div class=\"image-grid2\">\n",
    "    <p style=\"font-size:12px; color:gray; text-align:center;\"> Hiller ROE Rotorcycle <a href=\"https://en.wikipedia.org/wiki/Hiller_ROE_Rotorcycle#/media/File:Hiller_YROE-1.jpg\"> [source]</a></p>\n",
    "    <p style=\"font-size:12px; color:gray; text-align:center;\" > Pentecost HX-1 Hoppi-Copter <a href=\"https://en.wikipedia.org/wiki/Hoppi-Copter#/media/File:Pentecost_Backpack_Helicopter.JPG\"> [source]</a></p>\n",
    "</div>\n"
   ]
  },
  {
   "cell_type": "code",
   "execution_count": null,
   "id": "2366ed5d",
   "metadata": {
    "hide_input": true,
    "tags": [
     "hide-input"
    ]
   },
   "outputs": [],
   "source": [
    "from IPython.display import YouTubeVideo\n",
    "YouTubeVideo('GIY63dz7bY0', width=500, height=270)"
   ]
  },
  {
   "cell_type": "code",
   "execution_count": 1,
   "id": "a617d9bc",
   "metadata": {
    "tags": [
     "hide-input"
    ]
   },
   "outputs": [
    {
     "data": {
      "image/jpeg": "[encoded data removed]",
      "text/html": [
       "\n",
       "        <iframe\n",
       "            width=\"500\"\n",
       "            height=\"270\"\n",
       "            src=\"https://www.youtube.com/embed/suHOLFhbwsM\"\n",
       "            frameborder=\"0\"\n",
       "            allowfullscreen\n",
       "            \n",
       "        ></iframe>\n",
       "        "
      ],
      "text/plain": [
       "<IPython.lib.display.YouTubeVideo at 0x7fda23ad7100>"
      ]
     },
     "execution_count": 1,
     "metadata": {},
     "output_type": "execute_result"
    }
   ],
   "source": [
    "from IPython.display import YouTubeVideo\n",
    "YouTubeVideo('suHOLFhbwsM', width=500, height=270)"
   ]
  },
  {
   "cell_type": "markdown",
   "id": "2bae469c",
   "metadata": {},
   "source": [
    "## Advancing blade concept (ABC) or rigid rotor "
   ]
  },
  {
   "cell_type": "markdown",
   "id": "43b43aa6",
   "metadata": {},
   "source": [
    "<center>\n",
    "    <img src=\"../../assets/ABC2.png\" class=\"medium\">\n",
    "    <p style=\"font-size:12px; color:gray; text-align:center;\"  > Lateral loading symmetry on ABC rotor  <a href=\"https://www.sikorskyarchives.com/S-69%20(XH-59A).php\"> [source]</a></p>\n",
    "\n",
    "</center>\n",
    "\n",
    "\n"
   ]
  },
  {
   "cell_type": "markdown",
   "id": "4db78b20",
   "metadata": {},
   "source": [
    "The XH-59 from Sikorsky was the first design incorporating this design philosophy\n",
    "- no blade hinges\n",
    "- no tail rotor - yaw control?\n",
    "    - differential collective for yaw control in hover/low speed\n",
    "    - gearbox designed with differential speed capability!!\n",
    "    - vertical tail in fast \n",
    "-"
   ]
  },
  {
   "cell_type": "markdown",
   "id": "9fdba803",
   "metadata": {},
   "source": [
    "read P152"
   ]
  },
  {
   "cell_type": "markdown",
   "id": "ae4cb0b7",
   "metadata": {},
   "source": [
    "The version without thrust compounding achieved 296 km/hr and the one with turbojets installed achieved 488 km/hr {cite}`Add48`."
   ]
  },
  {
   "cell_type": "markdown",
   "id": "9427fe34",
   "metadata": {},
   "source": [
    "<center>\n",
    "    <img src=\"../../assets/XH59Ad.png\" class=\"medium\">\n",
    "    <p style=\"font-size:12px; color:gray; text-align:center;\"  > Sikorsky XH-59 <a href=\"https://www.sikorskyarchives.com/S-69%20(XH-59A).php\"> [source]</a></p>\n",
    "\n",
    "</center>\n"
   ]
  },
  {
   "cell_type": "markdown",
   "id": "34c451b1",
   "metadata": {},
   "source": [
    "```{epigraph}\n",
    "\"Being a concept demonstrator, the XH-59A had a number of compromises in its design to hold program cost down.  Primarily among these was the use of separate engines for rotor power and auxiliary propulsion.  In a more developed design, a single propulsion system would power both the rotor and an auxiliary propulsion propeller or ducted fan.  A high cost item at the time was the monolithic titanium blade spars.  Composite materials technology would soon appear which could produce a better blade, with almost infinite options in geometry, at a substantially reduced cost and lighter weight.\n",
    "\n",
    "Rotor vibration characteristics were acknowledged at the end of the test program as being too high for a production vehicle.  Design studies showed that four-bladed rotors would dramatically reduce the rotors’ vibratory characteristics. \"\n",
    "\n",
    "-- [Sikorsky Archives](https://www.sikorskyarchives.com/S-69%20(XH-59A).php) \n",
    "```"
   ]
  },
  {
   "cell_type": "markdown",
   "id": "e3ccbc9c",
   "metadata": {},
   "source": [
    "```{admonition} Aside\n",
    "Strangely, Sikorsky were a bit more upbeat during the development and testing phase writing - \"...It has been determined that with no vibration treatment installed (absorbers or isolators) the vibration levels are the same magnitude as untreated current generation helicopters...\" at the [36th AHS Annual Forum] (https://vtol.org/store/product/advancing-blade-concepts-abc-tm-high-speed-development-2257.cfm) \n",
    "```"
   ]
  },
  {
   "cell_type": "markdown",
   "id": "6656cfe5",
   "metadata": {},
   "source": [
    "## Coaxial rotors"
   ]
  },
  {
   "cell_type": "markdown",
   "id": "5fb40366",
   "metadata": {},
   "source": [
    "20 years and a lot of lessons learnt later"
   ]
  },
  {
   "cell_type": "markdown",
   "id": "88d6de17",
   "metadata": {},
   "source": []
  },
  {
   "cell_type": "markdown",
   "id": "750ee060",
   "metadata": {},
   "source": []
  },
  {
   "cell_type": "markdown",
   "id": "ade22c9d",
   "metadata": {},
   "source": []
  },
  {
   "cell_type": "markdown",
   "id": "04873550",
   "metadata": {},
   "source": []
  },
  {
   "cell_type": "markdown",
   "id": "53ee8314",
   "metadata": {},
   "source": []
  }
 ],
 "metadata": {
  "celltoolbar": "Tags",
  "hide_input": false,
  "kernelspec": {
   "display_name": "Python 3 (ipykernel)",
   "language": "python",
   "name": "python3"
  },
  "language_info": {
   "codemirror_mode": {
    "name": "ipython",
    "version": 3
   },
   "file_extension": ".py",
   "mimetype": "text/x-python",
   "name": "python",
   "nbconvert_exporter": "python",
   "pygments_lexer": "ipython3",
   "version": "3.8.5"
  },
  "latex_envs": {
   "LaTeX_envs_menu_present": true,
   "autoclose": true,
   "autocomplete": true,
   "bibliofile": "biblio.bib",
   "cite_by": "apalike",
   "current_citInitial": 1,
   "eqLabelWithNumbers": false,
   "eqNumInitial": 1,
   "hotkeys": {
    "equation": "Ctrl-E",
    "itemize": "Ctrl-I"
   },
   "labels_anchors": false,
   "latex_user_defs": false,
   "report_style_numbering": false,
   "user_envs_cfg": false
  },
  "varInspector": {
   "cols": {
    "lenName": 16,
    "lenType": 16,
    "lenVar": 40
   },
   "kernels_config": {
    "python": {
     "delete_cmd_postfix": "",
     "delete_cmd_prefix": "del ",
     "library": "var_list.py",
     "varRefreshCmd": "print(var_dic_list())"
    },
    "r": {
     "delete_cmd_postfix": ") ",
     "delete_cmd_prefix": "rm(",
     "library": "var_list.r",
     "varRefreshCmd": "cat(var_dic_list()) "
    }
   },
   "types_to_exclude": [
    "module",
    "function",
    "builtin_function_or_method",
    "instance",
    "_Feature"
   ],
   "window_display": false
  }
 },
 "nbformat": 4,
 "nbformat_minor": 5
}
