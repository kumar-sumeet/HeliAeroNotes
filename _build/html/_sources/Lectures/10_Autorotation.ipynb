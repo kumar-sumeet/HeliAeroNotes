{
 "cells": [
  {
   "cell_type": "markdown",
   "id": "f1058e6c",
   "metadata": {},
   "source": []
  },
  {
   "cell_type": "markdown",
   "id": "2e80d7b4",
   "metadata": {},
   "source": [
    "Autogyros (or Gyrocopters) are a class of aircraft with a pusher prop and a rotor that is tilted backwards and rotate freely in the air.\n",
    "\n",
    "\n",
    "\n",
    "```{figure} ../assets/autogyro.jpg\n",
    "---\n",
    "height: 150px\n",
    "name: autogyro\n",
    "---\n",
    "autogyro [source](https://en.wikipedia.org/wiki/Autogyro#/media/File:362934-gryocopter-pilot-norman-surplus-uploaded-august-11-2015-taken-from-surplus-website.jpg)\n",
    "```\n",
    "\n",
    "So the rotor is unpowered and provides lift using autorotation\n",
    "Jumpy take-off exhibited by "
   ]
  },
  {
   "cell_type": "code",
   "execution_count": null,
   "id": "fee5904f",
   "metadata": {},
   "outputs": [],
   "source": [
    "from IPython.display import YouTubeVideo\n",
    "YouTubeVideo('hI5cAgWmShU', width=500, height=270)\n",
    "\n",
    "#need to prevent this code cell from showing at all!! (not even 'click to see')"
   ]
  },
  {
   "cell_type": "markdown",
   "id": "afbf3720",
   "metadata": {},
   "source": []
  },
  {
   "cell_type": "markdown",
   "id": "01ef8618",
   "metadata": {},
   "source": []
  },
  {
   "cell_type": "markdown",
   "id": "2a0f246f",
   "metadata": {},
   "source": []
  },
  {
   "cell_type": "markdown",
   "id": "67b5386c",
   "metadata": {},
   "source": []
  },
  {
   "cell_type": "markdown",
   "id": "ea020cef",
   "metadata": {},
   "source": []
  },
  {
   "cell_type": "markdown",
   "id": "a48711e2",
   "metadata": {},
   "source": []
  },
  {
   "cell_type": "markdown",
   "id": "bd722122",
   "metadata": {},
   "source": []
  },
  {
   "cell_type": "markdown",
   "id": "bac25a73",
   "metadata": {},
   "source": []
  }
 ],
 "metadata": {
  "hide_input": false,
  "kernelspec": {
   "display_name": "Python 3 (ipykernel)",
   "language": "python",
   "name": "python3"
  },
  "language_info": {
   "codemirror_mode": {
    "name": "ipython",
    "version": 3
   },
   "file_extension": ".py",
   "mimetype": "text/x-python",
   "name": "python",
   "nbconvert_exporter": "python",
   "pygments_lexer": "ipython3",
   "version": "3.8.5"
  },
  "varInspector": {
   "cols": {
    "lenName": 16,
    "lenType": 16,
    "lenVar": 40
   },
   "kernels_config": {
    "python": {
     "delete_cmd_postfix": "",
     "delete_cmd_prefix": "del ",
     "library": "var_list.py",
     "varRefreshCmd": "print(var_dic_list())"
    },
    "r": {
     "delete_cmd_postfix": ") ",
     "delete_cmd_prefix": "rm(",
     "library": "var_list.r",
     "varRefreshCmd": "cat(var_dic_list()) "
    }
   },
   "types_to_exclude": [
    "module",
    "function",
    "builtin_function_or_method",
    "instance",
    "_Feature"
   ],
   "window_display": false
  }
 },
 "nbformat": 4,
 "nbformat_minor": 5
}
