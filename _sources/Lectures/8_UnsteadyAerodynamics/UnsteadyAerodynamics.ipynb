{
 "cells": [
  {
   "cell_type": "markdown",
   "id": "fb40e765",
   "metadata": {},
   "source": [
    "# Unsteady Aerodynamics"
   ]
  },
  {
   "cell_type": "markdown",
   "id": "5ead6c1d",
   "metadata": {},
   "source": [
    "The relevance of unsteady aerodynamics modelling usually comes up in the context flutter, rapid maneuvers, insect/bird flapping flight etc. Loosely speaking, whenever lift-generating structures flex *large enough*, and at *large enough* rates, using steady or even quasi-steady aerodynamics within the BEMT theory leads to inaccuracies and corrections need to be made to account for the aerodynamic loads experienced in such situations. Below is an example of the degree of elastic deformation that a helicopter rotor blade undergoes. Notice that the video is slowed down dramatically (S-56 had a time period of about 0.31s). "
   ]
  },
  {
   "cell_type": "code",
   "execution_count": 1,
   "id": "31e3a2e4",
   "metadata": {},
   "outputs": [
    {
     "data": {
      "image/jpeg": "[encoded data removed]",
      "text/html": [
       "\n",
       "        <iframe\n",
       "            width=\"500\"\n",
       "            height=\"270\"\n",
       "            src=\"https://www.youtube.com/embed/srjbnvTWRJI\"\n",
       "            frameborder=\"0\"\n",
       "            allowfullscreen\n",
       "            \n",
       "        ></iframe>\n",
       "        "
      ],
      "text/plain": [
       "<IPython.lib.display.YouTubeVideo at 0x7f7eeacc4340>"
      ]
     },
     "execution_count": 1,
     "metadata": {},
     "output_type": "execute_result"
    }
   ],
   "source": [
    "from IPython.display import YouTubeVideo\n",
    "YouTubeVideo('srjbnvTWRJI', width=800, height=400)"
   ]
  },
  {
   "cell_type": "markdown",
   "id": "6337db65",
   "metadata": {},
   "source": [
    "# Steady vs Quasi-steady vs Unsteady"
   ]
  },
  {
   "cell_type": "markdown",
   "id": "577eec0c",
   "metadata": {},
   "source": [
    "Fluid behavior independent of time is refered to as steady. When an explicit time-dependence exists, the flow is said to be unsteady. However, in the context of fluid-structure interaction or scenarios where the aerodynamic surface itself is deforming- for e.g. rotor blades, insect wings etc - a third category of fluid modelling called quasi-steady aerodynamics is often used. This is usually of intermediate fidelity compared between the steady and unsteady aerodynamics modelling. Here the kinematics of the structure deformation are included in evaluating the instantaneous angle of attack. Thereafter, the steady aerodynamics based airfoil characteristics are used to evaluate the instantaneous aerodynamic loads. The effect of the shed vorticity in the wake, which you'll learn is what fundamentally lends *unsteadiness* to the airfoil aerodynamics, is completely neglected. So in quasi-steady aerodynamics the unsteadiness due to the structure motion/deformation is included but the aerodynamics is considered to be time-independent."
   ]
  },
  {
   "cell_type": "code",
   "execution_count": null,
   "id": "c8a74eec",
   "metadata": {},
   "outputs": [],
   "source": []
  },
  {
   "cell_type": "markdown",
   "id": "4140f238",
   "metadata": {},
   "source": [
    "Fundamentally, the motion (or relative oncoming flow) that any airfoil section of the blade is undergoing (experiencing) here can be broken down into the following mutually independent forms. Here, the blade positions in pitch, flap and lead-lag direction are all functions of time. Clearly, the airfoil lift, drag and moments are going to be functions of time as well."
   ]
  },
  {
   "cell_type": "markdown",
   "id": "a0f45ed7",
   "metadata": {},
   "source": [
    "<center>\n",
    "    <img src=\"../../assets/B3_82_UnsteadyAirfoilMotion.png\" class=\"large\">\n",
    "    <p  style=\"font-size:16px; color:gray; text-align:center;\"> Vorticity of a continuum particle [taken from Principles in Helicopter Aerodynamics by JG Leishman] </p>\n",
    "\n",
    "</center>"
   ]
  },
  {
   "cell_type": "markdown",
   "id": "b94a0f8a",
   "metadata": {},
   "source": [
    "The idea with regard to accounting for unsteady aerodynamic effects on rotors is not unlike the steady aerodynamics. The NSE are time dependent so, in principle, solving those equations gives one the aerodynamic forces and moments as a function of time. However, the reason that this is not done is not just that one would have to wait a anywhere from a few hours to a few days for simple simulations. As was stressed in the review chapter on 2D aerodynamics solving the complete set of NSE, while *exact*, is less amenable to intuitive understanding of the phenomena being modelled. Which is why all the engineering theories that were proposed in an effort to understand fluid behavior on lifting bodies, in the aftermath of the first powered aircraft flight, were all highly intuitive and based on direct verifiable evidence. For e.g. the phenomenon of bound circulation around an airfoil was verified in REf.....(**the paper with Glauert and rest from Taha's lecture**) using ...  A theory would be detailed outlining the effect of unsteady flow on 2D airfoil sections. ... "
   ]
  },
  {
   "cell_type": "code",
   "execution_count": null,
   "id": "cf158179",
   "metadata": {},
   "outputs": [],
   "source": []
  },
  {
   "cell_type": "markdown",
   "id": "0cda377b",
   "metadata": {},
   "source": [
    "## Steady/quasi-steady airfoil aerodynamics"
   ]
  },
  {
   "cell_type": "markdown",
   "id": "c374309d",
   "metadata": {},
   "source": []
  },
  {
   "cell_type": "markdown",
   "id": "d98c6c75",
   "metadata": {},
   "source": [
    "The starting vortex of the airfoil-fluid system is apparent."
   ]
  },
  {
   "cell_type": "markdown",
   "id": "550d8b01",
   "metadata": {},
   "source": [
    "<div style=\"float:right; width:43%;\" >\n",
    "    <img src=\"../../assets/B3_85_QuasiSteadyAirfoil.png\" class=\"big\" />\n",
    "    <p style=\"font-size:16px; color:gray; text-align:center;\" > Quasi-steady airfoil aerodynamics [taken from Principles in Helicopter Aerodynamics by JG Leishman] </p>\n",
    "</div>\n",
    "\n",
    "$$\n",
    "C_l = 2\\pi\\left [\\alpha +\\frac{\\dot{h}}{V}+b \\left ( \\frac{1}{2}-a \\right ) \\frac{\\dot{\\alpha}}{V} \\right]\n",
    "$$"
   ]
  },
  {
   "cell_type": "markdown",
   "id": "2cfaeea8",
   "metadata": {},
   "source": [
    "Despite what the $\\dot{\\alpha}$ term in Eq $\\eqref{eq:quasi_steady_aero}$ might suggest, it does NOT model unsteady aerodynamics. "
   ]
  },
  {
   "cell_type": "markdown",
   "id": "0668b444",
   "metadata": {},
   "source": []
  },
  {
   "cell_type": "markdown",
   "id": "61312301",
   "metadata": {},
   "source": [
    "# Unsteady airfoil aerodynamics: Overview"
   ]
  },
  {
   "cell_type": "code",
   "execution_count": null,
   "id": "d885197f",
   "metadata": {},
   "outputs": [],
   "source": []
  },
  {
   "cell_type": "markdown",
   "id": "67348033",
   "metadata": {},
   "source": [
    "Whenever a quick change in the flow conditions or the airfoil angle of attack occurs, the airfoil aerodynamics can be very different from its steady/quasi-steady counterpart. That said, the very concepts that help analyse the physics of airfoil aerodynamics, and quantify the aerodynamic forces, can be used to explain the physics behind the aerodynamic behavior of airfoils. "
   ]
  },
  {
   "cell_type": "code",
   "execution_count": null,
   "id": "5b7c8e4b",
   "metadata": {},
   "outputs": [],
   "source": [
    "#Amine unsteady vs steady airfoil result goes here"
   ]
  },
  {
   "cell_type": "code",
   "execution_count": null,
   "id": "3a17f29e",
   "metadata": {},
   "outputs": [],
   "source": [
    "# put a picture here like in https://www.youtube.com/watch?v=SpZwyQYd2WA&list=PLCheZLRn7G_ynSVQc9X8hClVxvNLf6hjW&index=29 at 3:53"
   ]
  },
  {
   "cell_type": "code",
   "execution_count": null,
   "id": "6ee2d477",
   "metadata": {},
   "outputs": [],
   "source": []
  },
  {
   "cell_type": "markdown",
   "id": "5ca9bd9c",
   "metadata": {},
   "source": [
    "Recall the Kelvin's circulation theorem and the generation of the starting vortex that takes place as a result of bound circulation getting established around an wing section."
   ]
  },
  {
   "cell_type": "code",
   "execution_count": 2,
   "id": "ddc5b8e5",
   "metadata": {
    "scrolled": true
   },
   "outputs": [
    {
     "data": {
      "text/html": [
       "\n",
       "        <iframe\n",
       "            width=\"500\"\n",
       "            height=\"270\"\n",
       "            src=\"https://www.youtube.com/embed/VcggiVSf5F\"\n",
       "            frameborder=\"0\"\n",
       "            allowfullscreen\n",
       "            \n",
       "        ></iframe>\n",
       "        "
      ],
      "text/plain": [
       "<IPython.lib.display.YouTubeVideo at 0x7f7eeac69970>"
      ]
     },
     "execution_count": 2,
     "metadata": {},
     "output_type": "execute_result"
    }
   ],
   "source": [
    "from IPython.display import YouTubeVideo\n",
    "YouTubeVideo('VcggiVSf5F', width=500, height=270)"
   ]
  },
  {
   "cell_type": "markdown",
   "id": "35f322fb",
   "metadata": {},
   "source": [
    "A series of stillshots from the video above are also available in {cite}`BA14`."
   ]
  },
  {
   "cell_type": "markdown",
   "id": "ab8f55ea",
   "metadata": {},
   "source": [
    "The figure below shows the build-up of lift when the angle of attack of is changed instantaneously. The airfoil lift coefficient ($C_L$), instead of following an instantaneous change, undergoes a gradual rise in $C_L$ and theoretically reaching the steady state value at infinite time. However, $C_L$ is considered to have reached a steady-state value after a finite time... The peculiar aspect about the form of the $C_L$ curve is that it is no longer directly proportional to the $\\alpha$, with the proportionality constant given by $2\\pi$ from thin airfoil theory. We will later discuss the Theodorsen theory to predict this unsteady behavior of pitching and plunging airfoils with reasonable accuracy. This theory is based on potential flow assumption so clearly this *delay* in lift exhibited is not somehow related compressibility of the fluid (incompressiblity assumption used in potential flow analyses). "
   ]
  },
  {
   "cell_type": "markdown",
   "id": "0adf6460",
   "metadata": {},
   "source": [
    "<center>\n",
    "    <img src=\"../../assets/A23_2_AirfoilStepInput.png\" class=\"small\">\n",
    "    <p  style=\"font-size:16px; color:gray; text-align:center;\"> Airfoil lift developement after step-input <a href=\"https://arc.aiaa.org/doi/pdf/10.2514/6.2019-1853\">[source] </a> </p>\n",
    "\n",
    "</center>"
   ]
  },
  {
   "cell_type": "markdown",
   "id": "508a5ddb",
   "metadata": {},
   "source": [
    "The above result is not purely of academic interest. Autogyros[^Autogyros] are capable of undertaking a jump take-off where the rotors are spun to high RPM at zero collective and then a rapid increase in collective allows the autogyro to take off as a helicopter. While the change in blade section $\\alpha$ is not exactly instantaneous, the central point is that the associated unsteadiness cannot be ignored if one needs to accurately quantify blade aerodynamic forces. Such unsteady development of aerodynamic forces is also central to understanding what amount of forces are generated, for e.g., on fixed-wing fighter aircraft during a rapid pitch-up manuever. Large civilian fixed-wing aircraft typically never undergo maneuvers rapid enough for unsteady effects to be of any substantial effect, wing flutter phenomenon being the exception , so quasi-steady aerodynamic modelling suffices.\n",
    "\n",
    "[^Autogyros]: They are a class of rotorcraft where an unpowered rotor spins in windmill operating state during flight to generate the vertical thrust necessary to stay aloft while a propeller generates horizontal thrust to overcome drag from the free-spinning rotor. On some designs a clutch mechanism allows to divert engine power to the rotor for initial spin-up while on the ground to facilitate the jump take-off maneuver. "
   ]
  },
  {
   "cell_type": "markdown",
   "id": "39dc3b47",
   "metadata": {},
   "source": [
    "<div class=\"image-grid2\">\n",
    "    <img  src=\"../../assets/Add40_Fig24_AutogyroJumpTakeOff.png\" class=\"medium\"/>\n",
    "    <img  src=\"../../assets/B3_Fig1048_CollectiveRamp.png\" class=\"medium\"/>\n",
    "</div>\n",
    "\n",
    "<div class=\"image-grid2\">\n",
    "  <p > Schematic showing an autogyro undergoing a jump take-off <a href=\"https://arc.aiaa.org/doi/pdf/10.2514/1.1205\">[source] </a>\n",
    "  </p> \n",
    "  <p >  Effect of \"ramp\" increase in rotor collective on rotor thrust  <a href=\"https://www.cambridge.org/us/academic/subjects/engineering/aerospace-engineering/principles-helicopter-aerodynamics-2nd-edition-1?format=HB&isbn=9781107013353\">[source]) </a>\n",
    "  </p>       \n",
    "</div>"
   ]
  },
  {
   "cell_type": "markdown",
   "id": "c8d00063",
   "metadata": {},
   "source": [
    "At first sight the results corresponding to step change in airfoil $\\alpha$ and ramp change in rotor collective (which by extension can be seen as a ramp change in blade section $\\alpha$) might suggest that there are different aerodynamic mechanisms at play here in the two scenarios. The unsteady lift approaches the steady state lift assymptotically from the bottom while there is a clear overshoot in the latter case. This is in part because the former is a purely 2D case but the latter is a 3D aerodynamics case. From the ensuing discusion it'll be clear that fundamentally similar aerodynamic phenomena are responsible for responses observed in either cases. "
   ]
  },
  {
   "cell_type": "markdown",
   "id": "6f63dfd7",
   "metadata": {},
   "source": [
    "**the bit about unsteadiness given by differential equation and not algebraic equation**{cite}`A23_2`"
   ]
  },
  {
   "cell_type": "markdown",
   "id": "f805f8f1",
   "metadata": {},
   "source": [
    "The difference between the flow behavior in ... and .. is immediately apparent."
   ]
  },
  {
   "cell_type": "markdown",
   "id": "a5cc3bac",
   "metadata": {},
   "source": []
  },
  {
   "cell_type": "markdown",
   "id": "80e1bbf9",
   "metadata": {},
   "source": []
  },
  {
   "cell_type": "markdown",
   "id": "51bc5948",
   "metadata": {},
   "source": []
  },
  {
   "cell_type": "markdown",
   "id": "5ad2a705",
   "metadata": {},
   "source": []
  },
  {
   "cell_type": "markdown",
   "id": "c4e05b1f",
   "metadata": {},
   "source": []
  },
  {
   "cell_type": "markdown",
   "id": "fb24e15e",
   "metadata": {},
   "source": []
  },
  {
   "cell_type": "markdown",
   "id": "47639dd6",
   "metadata": {},
   "source": [
    "In summary, *unsteadiness* comes from accounting for the vorticity in the wake and when wake vorticity (as in the case of the starting vortex) is not acocunted for the flow is considered to be steady. In addition, a steady airfoil generates lift which is purely due to the circulation of the flow but an airfoil undergoing unsteady motion will generate an added lift that is due to the displacement of the surrounding fluid."
   ]
  },
  {
   "cell_type": "markdown",
   "id": "f445b1af",
   "metadata": {},
   "source": [
    "# add gif here of steady and unsteady airfoil from Waterlily"
   ]
  },
  {
   "cell_type": "markdown",
   "id": "755033c9",
   "metadata": {},
   "source": [
    "From the flow field animations above, it is clear that there is a significant difference between the wake of an airfoil when it maintains a constant angle of attck versus when the airfoil is pitching. The differences arise due to the shed vorticity in the airfoil wake. In case of steady airfoil, the starting vortex convects far away but in case of the pitching airfoil vorticity is constantly being shed due to the changing bound circulation around the airfoil. These shed vortices in the vicinity of the airfoil have the potential to influence the aerodynamics of the airfoil and need to be accounted for. The criterion used to decide the threshold when unsteady aerodynamic effects might be significant enough, that they cannot be ignored, is called reduced frequency. "
   ]
  },
  {
   "cell_type": "markdown",
   "id": "9cfdb342",
   "metadata": {},
   "source": []
  },
  {
   "cell_type": "code",
   "execution_count": null,
   "id": "3278983f",
   "metadata": {},
   "outputs": [],
   "source": []
  },
  {
   "cell_type": "markdown",
   "id": "b0cff6b2",
   "metadata": {},
   "source": []
  },
  {
   "cell_type": "markdown",
   "id": "7dd34f65",
   "metadata": {},
   "source": []
  },
  {
   "cell_type": "markdown",
   "id": "15065af1",
   "metadata": {},
   "source": []
  },
  {
   "cell_type": "markdown",
   "id": "8e92dd52",
   "metadata": {},
   "source": [
    "Look into this later---- \n",
    "\n",
    "** Caption and source needed ** \n",
    "\n",
    "\n",
    "\n",
    "<div class=\"image-grid2\">\n",
    "    <img  src=\"../../assets/T16.png\" class=\"large\"/>\n",
    "    <img  src=\"../../assets/T16_2.png\" class=\"large\"/>\n",
    "   \n",
    "</div>\n",
    "\n",
    "<div class=\"image-grid2\">\n",
    "  <p > Caption_image1 <a href=\"source_2\"> [source]</a>\n",
    "  </p>   \n",
    "  <p > Caption_image2 <a href=\"source_1\"> [source]</a>\n",
    "  </p> \n",
    "</div>\n",
    "\n"
   ]
  },
  {
   "cell_type": "markdown",
   "id": "1e214cc3",
   "metadata": {},
   "source": []
  },
  {
   "cell_type": "code",
   "execution_count": 9,
   "id": "fac2168a",
   "metadata": {
    "cell_style": "center"
   },
   "outputs": [
    {
     "data": {
      "text/html": [
       "<video src=\"../../assets/PitchingAndMorphingAirfoil.mp4\" loop autoplay  width=\"350\" >\n",
       "      Your browser does not support the <code>video</code> element.\n",
       "    </video>"
      ],
      "text/plain": [
       "<IPython.core.display.Video object>"
      ]
     },
     "execution_count": 9,
     "metadata": {},
     "output_type": "execute_result"
    }
   ],
   "source": [
    "from IPython.display import Video\n",
    "Video(\"../../assets/PitchingAndMorphingAirfoil.mp4\",width=350,html_attributes=\"loop autoplay\")"
   ]
  },
  {
   "cell_type": "code",
   "execution_count": null,
   "id": "97f885e3",
   "metadata": {},
   "outputs": [],
   "source": []
  },
  {
   "cell_type": "markdown",
   "id": "b3ea055a",
   "metadata": {},
   "source": [
    "# Relevant concepts needed"
   ]
  },
  {
   "cell_type": "markdown",
   "id": "86b1e176",
   "metadata": {},
   "source": [
    "## Concepts already covered"
   ]
  },
  {
   "cell_type": "markdown",
   "id": "2b1b7974",
   "metadata": {},
   "source": [
    "The necessary concepts for steady fluid analysis have already been covered in the review lecture. Here we build on those concepts and extend them to analyse unsteady fluid behavior. "
   ]
  },
  {
   "cell_type": "markdown",
   "id": "8c316b4d",
   "metadata": {},
   "source": [
    "An understanding of the following lies at the heart of developing an intuition for why the unsteady aerodynamics theories were formulated the way they were.  "
   ]
  },
  {
   "cell_type": "markdown",
   "id": "c751246e",
   "metadata": {},
   "source": [
    "- NSE to potential flow theory model"
   ]
  },
  {
   "cell_type": "markdown",
   "id": "79af0af5",
   "metadata": {},
   "source": [
    "- circulatory effect of lifting flow"
   ]
  },
  {
   "cell_type": "markdown",
   "id": "e18f9122",
   "metadata": {},
   "source": []
  },
  {
   "cell_type": "markdown",
   "id": "078fa247",
   "metadata": {},
   "source": [
    "- Kutta-Joukowski theorem"
   ]
  },
  {
   "cell_type": "markdown",
   "id": "a4850278",
   "metadata": {},
   "source": []
  },
  {
   "cell_type": "markdown",
   "id": "3fda5c91",
   "metadata": {},
   "source": [
    "- Kelvin's theorem of circulation"
   ]
  },
  {
   "cell_type": "markdown",
   "id": "0d4be972",
   "metadata": {},
   "source": [
    "- role of *sharp* trailing-edge"
   ]
  },
  {
   "cell_type": "code",
   "execution_count": 1,
   "id": "ac32d380",
   "metadata": {},
   "outputs": [
    {
     "data": {
      "image/jpeg": "[encoded data removed]",
      "text/html": [
       "\n",
       "        <iframe\n",
       "            width=\"500\"\n",
       "            height=\"270\"\n",
       "            src=\"https://www.youtube.com/embed/pOA3VJHCnWs?start=1557&end=1668\"\n",
       "            frameborder=\"0\"\n",
       "            allowfullscreen\n",
       "            \n",
       "        ></iframe>\n",
       "        "
      ],
      "text/plain": [
       "<IPython.lib.display.YouTubeVideo at 0x7fe4aa04ea00>"
      ]
     },
     "execution_count": 1,
     "metadata": {},
     "output_type": "execute_result"
    }
   ],
   "source": [
    "from IPython.display import YouTubeVideo\n",
    "YouTubeVideo('pOA3VJHCnWs', width=500, height=270, start=1557, end=1668)"
   ]
  },
  {
   "cell_type": "markdown",
   "id": "d9c1b9cb",
   "metadata": {},
   "source": [
    "There are 4 fundamental constructs in potential flow theory that, when used in combination, help fully define potential flow about any body of any given defined shape {cite}`BA1`(Pg 157). These constructs are parallel uniform flow, sources, sinks, doublets and point vortex. Sources and sinks are essentially the construct since all that changes between them is the sign of the flow direction"
   ]
  },
  {
   "cell_type": "markdown",
   "id": "cfc36993",
   "metadata": {},
   "source": [
    "## Conformal mapping"
   ]
  },
  {
   "cell_type": "markdown",
   "id": "3cb51660",
   "metadata": {},
   "source": [
    "The development of the potential flow theory to analyse flow around a spinning cylinder and the resultant lift have already been discussed. However, one would imagine that being able to carry out the same excercise for an airfoil would be a more fruitful excercise. And you wouldn't be wrong but the analysis of the flow around a cylinder, albeit seldom relevant for aerospace applications, is directly related to airfoil analysis or analysis around any given random geometry. The mathematical framework that bridges the two comes from complex analysis called conformal mapping. It states that a mapping or complex function $f(Y)$ can be found that transforms a domain in $Y$ to a domain in $f$ and conversely a function $Y(f)$ exists that carries out the reverse operation. This means that if we can find such a function that maps a circle to an airfoil then using the same function the entire flowfield around the circle (which we already know) can be mapped to that around an airfoil. So we wouldn't even explicitly be solving the flow around an airfoil, just get the result for a 2D cylinder and apply the transformation. So far so good, but what is $f(Y)$? "
   ]
  },
  {
   "cell_type": "markdown",
   "id": "a11c270b",
   "metadata": {},
   "source": [
    "<center>\n",
    "    <img src=\"../../assets/B24_fig6_5mod.png\" class=\"small\">\n",
    "    <p  style=\"font-size:16px; color:gray; text-align:center;\"> Complex mapping from one domain to another (modified from <a href=\"https://www.cambridge.org/core/books/lowspeed-aerodynamics/077FAF851C4582F1B7593809752C44AE\">[source]) </a></p>\n",
    "\n",
    "</center>"
   ]
  },
  {
   "cell_type": "markdown",
   "id": "504b76e8",
   "metadata": {},
   "source": [
    "### Mapping function"
   ]
  },
  {
   "cell_type": "markdown",
   "id": "929513e0",
   "metadata": {},
   "source": [
    "Before even being able to define $f(Y)$, what are the properties that $f(Y)$ should have? For one it needs to be one-to-one i.e. take every point in $Y$ to a unique point in $f$. In addition, the mapping needs to be differentiable because as we'll see the velocities get scaled by the derivative at the point of interest. The same is true of $Y(f)$. "
   ]
  },
  {
   "cell_type": "markdown",
   "id": "22904ceb",
   "metadata": {},
   "source": [
    "$$z = \\xi + \\frac{a^2}{\\xi} $$\n",
    "<center>\n",
    "    <img src=\"../../assets/B24_fig6_9mod.png\" class=\"small\">\n",
    "    <p  style=\"font-size:16px; color:gray; text-align:center;\"> Joukowski transformation from circle to cambered airfoil (modified from <a href=\"https://www.cambridge.org/core/books/lowspeed-aerodynamics/077FAF851C4582F1B7593809752C44AE\">[source]) </a></p>\n",
    "\n",
    "</center>"
   ]
  },
  {
   "cell_type": "markdown",
   "id": "485fcd5f",
   "metadata": {},
   "source": [
    "$$\\xi = a e^{i\\theta}$$\n",
    "$$\\Rightarrow z = \\xi + \\frac{a^2}{\\xi} = 2a\\cos \\theta$$"
   ]
  },
  {
   "cell_type": "markdown",
   "id": "9a894897",
   "metadata": {},
   "source": [
    "The circle in the $\\xi$ domain maps to a line of zero thickness in the $z$ domain. This is the airfoil of interest in this case with zero thickness and the leading and trailing edges located at $x = -a$ and $+a$, respectively."
   ]
  },
  {
   "cell_type": "markdown",
   "id": "9361295b",
   "metadata": {},
   "source": [
    "Now that the mapping function itself is known, it is relatively straightforward to obtain the flowfield around an airfoil once the flowfield around the cylinder is known. Now, it is one thing to obtain the simplest combination of elementary flows that results in a circular streamline (i.e. doublet in uniform flow) and whole different level of complexity to ensure, that given any kind of flow field (i.e. any combination of elementary flows), a circular streamline can be established. For e.g. the solution of the flow field around a circle in uniform flow was already derived but what if the flow now has an 'anlge of attack' as shown above? This is where the circle theorem proposed by Milne-Thompson {cite}`Add56` comes in."
   ]
  },
  {
   "cell_type": "markdown",
   "id": "eddef643",
   "metadata": {},
   "source": [
    "```{admonition} Circle theorem\n",
    "The circle theorem helps obtain the complex flow field around a cyclinder in the most general case. It states that if $F(z)$ is the flow field in the absence of the cylinder then the flow field in the presence of the cylinder is given by $F(z)+\\bar{F}(\\frac{a^2}{z})$. The solution is based on the idea of images such that a streamline denoting a solid boundary defines a circle. More details can be obtained from {cite}`BA2`(Page 422-423) and {cite}`Add56`. \n",
    "```"
   ]
  },
  {
   "cell_type": "markdown",
   "id": "91f9cb41",
   "metadata": {},
   "source": [
    "Using the circle theorem, the flow field around the cylinder without any circulation is given by"
   ]
  },
  {
   "cell_type": "markdown",
   "id": "68a22930",
   "metadata": {},
   "source": [
    "\\begin{equation*}\n",
    "\\begin{split}\n",
    "F_{total} &=F(\\xi)+\\bar{F}(\\frac{a^2}{\\xi}) \\\\\n",
    "&= U_\\infty e^{-i\\alpha} \\xi + \\overline{U_\\infty e^{-i\\alpha} \\frac{a^2}{\\bar{\\xi}}} \\\\ \n",
    "&=U_\\infty e^{-i\\alpha} \\xi + U_\\infty e^{i\\alpha} \\frac{a^2}{\\xi}\n",
    "\\end{split}\n",
    "\\end{equation*}"
   ]
  },
  {
   "cell_type": "markdown",
   "id": "70aebfdf",
   "metadata": {},
   "source": [
    "With the circulation $\\Gamma$, the flow field is given by"
   ]
  },
  {
   "cell_type": "markdown",
   "id": "8fab44e4",
   "metadata": {},
   "source": [
    "$$F_{total} = U_\\infty e^{-i\\alpha} \\xi + U_\\infty e^{i\\alpha} \\frac{a^2}{\\xi}+  \\frac{\\Gamma}{2\\pi i}\\text{ln} \\xi $$"
   ]
  },
  {
   "cell_type": "markdown",
   "id": "6c5c6ada",
   "metadata": {},
   "source": [
    "The velocity field can be obtained both in the $\\xi$ domain as well as the $z$ domain. Note that we are primarily interested in the velocity at the surface of the geometry itself because the pressure distribution, and by extension the total lift, can be then obtained using the Bernoulli's equation."
   ]
  },
  {
   "cell_type": "markdown",
   "id": "e23300df",
   "metadata": {},
   "source": [
    "$$\\frac{d F}{d \\xi}=U_{\\infty} e^{-i \\alpha}-U_{\\infty} e^{i \\alpha} \\frac{a^2}{\\xi^2}-\\frac{\\Gamma}{2 \\pi i \\xi}$$"
   ]
  },
  {
   "cell_type": "markdown",
   "id": "deb82840",
   "metadata": {},
   "source": [
    "Velocity at the cylinder surface"
   ]
  },
  {
   "cell_type": "markdown",
   "id": "f166a42b",
   "metadata": {},
   "source": [
    "$$\\Rightarrow F'(|\\xi|=a) = \\frac{d F}{d \\xi} =U_\\infty e^{-i\\alpha}-U_\\infty e^{i(\\alpha-2 \\theta)}+\\frac{i\\Gamma}{2 \\pi a} e^{-i \\theta}$$"
   ]
  },
  {
   "cell_type": "markdown",
   "id": "b081bd18",
   "metadata": {},
   "source": [
    "Similarly, velocity in the $z$ domain can be obtained as"
   ]
  },
  {
   "cell_type": "markdown",
   "id": "2ac54789",
   "metadata": {},
   "source": [
    "\\begin{equation*}\n",
    "\\begin{split}\n",
    "w(z)&=\\frac{\\frac{d F}{d\\xi}}{\\frac{d z}{d\\xi}} \\\\\n",
    "&=\\frac{\\frac{d F}{d\\xi}}{{1-a^2 / \\xi^2}}\\\\\n",
    "&=\\frac{U_{\\infty} e^{-i \\alpha} \\xi - U_{\\infty} e^{i \\alpha}\\frac{a^2}{\\xi}-\\frac{\\Gamma}{2 \\pi i}}{\\xi-\\frac{a^2}{\\xi}}\\\\\n",
    "& =\\frac{U_{\\infty} \\cos \\alpha \\left(\\xi-\\frac{a^2}{\\xi}\\right)-i U_{\\infty} \\sin \\alpha \\left(\\xi+\\frac{a^2}{\\xi}\\right)-\\frac{\\Gamma}{2 \\pi}}{\\xi-\\frac{a^2}{\\xi}} \\\\\n",
    "& =U_{\\infty} \\cos \\alpha-i \\frac{U_{\\infty} z\\sin \\alpha - \\frac{\\Gamma}{2 \\pi}}{\\xi-\\frac{a^2}{\\xi}} \\\\\n",
    "& =U_{\\infty} \\cos \\alpha-i \\frac{U_{\\infty} z\\sin \\alpha - \\frac{\\Gamma}{2 \\pi}}{\\sqrt{z^2-4a^2}} \\\\\n",
    "\\end{split}\n",
    "\\end{equation*}"
   ]
  },
  {
   "cell_type": "markdown",
   "id": "acd9f796",
   "metadata": {},
   "source": [
    "It was already states in the context of a cylinder that the lift generated is entirely dependent on the circulation. This is true also in the case of the mapped velocity distribution around the airfoil of zero thickness in the $z$ domain. We call the mapped zero-thickness geometry in the $z$ domain an airfoil because the same circulation $\\Gamma$ is also sustained now in the $z$ domain. Recall that $\\Gamma$ is an arbitrary quantity but lift generated by an airfoil at a given angle of attack is unique and is directly dictated by the amount of $\\Gamma$. So how is a unique $\\Gamma$ established at a given angle of attack $\\alpha$. This is where the empirically established Kutta condition comes in."
   ]
  },
  {
   "cell_type": "markdown",
   "id": "f0240825",
   "metadata": {},
   "source": [
    "<center>\n",
    "    <img src=\"../../assets/B37_fig4_19.png\" class=\"small\">\n",
    "    <p  style=\"font-size:16px; color:gray; text-align:center;\"> Kutta condition based on the nature of the trailing edge shape. <a href=\"https://www.mheducation.com/highered/product/fundamentals-aerodynamics-anderson/M9781259129919.html\">[source] </a></p>\n",
    "\n",
    "</center>"
   ]
  },
  {
   "cell_type": "markdown",
   "id": "3d4916a8",
   "metadata": {},
   "source": [
    "It is worth noting that the velocity over the airfoil $w(z)$ blows up at $z=\\pm 2a$ unless the numerator $U_{\\infty} z\\sin \\alpha - \\frac{\\Gamma}{2 \\pi}$ goes to zero too. Problem is that the denominator goes to zero at $z=\\pm 2a$ but the numerator can only be made zero at either the trailing edge $+2a$ or the leading edge $-2a$. The Kutta condition states that the velocity at the trailing edge needs to be finite so the unique circulation then obtained is given by "
   ]
  },
  {
   "cell_type": "markdown",
   "id": "37e74d29",
   "metadata": {},
   "source": [
    "$$\\Gamma = 4 \\pi a U_{\\infty}\\sin \\alpha = \\pi c U_{\\infty}\\sin \\alpha$$"
   ]
  },
  {
   "cell_type": "markdown",
   "id": "4accfc34",
   "metadata": {},
   "source": [
    "Using the Kutta-Joukowski relation and the definition of coefficient of lift"
   ]
  },
  {
   "cell_type": "markdown",
   "id": "0a21f660",
   "metadata": {},
   "source": [
    "$$C_L = 2\\pi \\sin \\alpha \\approx 2\\pi \\alpha$$"
   ]
  },
  {
   "cell_type": "markdown",
   "id": "6937695e",
   "metadata": {},
   "source": [
    "Using the Bernoulli's equation, the pressure distribution is given by -"
   ]
  },
  {
   "cell_type": "markdown",
   "id": "92110a9e",
   "metadata": {},
   "source": [
    "$$p(x) = \\rho U_\\infty^2\\sin 2\\alpha \\sqrt{\\frac{a - x}{a+x}}$$"
   ]
  },
  {
   "cell_type": "markdown",
   "id": "50f5ff09",
   "metadata": {},
   "source": [
    "The center of pressure then turns out to be at the quarter chord. Note that the potential flow theory formulation still leaves the unphysical infinite velocity at the leading edge unresolved. However, this is considered acceptable because in reality a high pressure suction peak is observed at the leading edge but not at the trailing edge. Potential flow solution with the Kutta condition imposed is qualitatively able to reproduce that scenario and the infinite velocity at $z=-2a$ can be considered as a mathematical consequence of idealisation of the flow. "
   ]
  },
  {
   "cell_type": "markdown",
   "id": "7addd830",
   "metadata": {},
   "source": [
    "## Method of singularities"
   ]
  },
  {
   "cell_type": "markdown",
   "id": "6f5617b2",
   "metadata": {},
   "source": [
    "The method of singularities presents an alternate technique of obtaining the flow field around an airfoil. Here, the flow field is obtained by directly placing singularities on the airfoil surface and satisfying the no penetration boundary condition on the surface of the airfoil itself. Afterall, this is the bare minimum physical law that the fluid flowing around the airfoil has to satisfy - it cannot flow through the surface of the airfoil. \n",
    "\n",
    "\n"
   ]
  },
  {
   "cell_type": "markdown",
   "id": "8f9cbae9",
   "metadata": {},
   "source": [
    "### A simple case"
   ]
  },
  {
   "cell_type": "markdown",
   "id": "3ab4b413",
   "metadata": {},
   "source": [
    "The simplest formulation of this modelling stragety involves idealisation of the airfoil with a vortex of strength $\\Gamma$ at the airfoil quarter chord. "
   ]
  },
  {
   "cell_type": "markdown",
   "id": "c650e049",
   "metadata": {},
   "source": [
    "<center>\n",
    "    <img src=\"../../assets/QuarterChordVortex.png\" class=\"small\">\n",
    "    <p  style=\"font-size:16px; color:gray; text-align:center;\"> Idealisation of flow around an airfoil using a vortex at the quarter chord.</p>\n",
    "\n",
    "</center>"
   ]
  },
  {
   "cell_type": "markdown",
   "id": "fd8b8e90",
   "metadata": {},
   "source": [
    "However, unlike the conformal mapping technique above where $\\Gamma$ is the total circulation due to distributed vorticity over the airfoil, the strength of $\\Gamma$ here is obtained by satifying the no penetration condition only at a single point on the airfoil called the collocation point. In this case, the collocation point is chosen to be the $3c/4$ location to be resultant $\\Gamma$ to be consistent with the result obtained from conformal mapping technique. "
   ]
  },
  {
   "cell_type": "markdown",
   "id": "3eac9286",
   "metadata": {},
   "source": [
    "### General case"
   ]
  },
  {
   "cell_type": "markdown",
   "id": "f7120113",
   "metadata": {},
   "source": []
  },
  {
   "cell_type": "markdown",
   "id": "e38976f8",
   "metadata": {},
   "source": [
    "<center>\n",
    "    <img src=\"../../assets/GammaDistribution.png\" class=\"small\">\n",
    "    <p  style=\"font-size:16px; color:gray; text-align:center;\"> Idealisation of an airfoil via distribution of singularities</p>\n",
    "\n",
    "</center>"
   ]
  },
  {
   "cell_type": "markdown",
   "id": "351ae49e",
   "metadata": {},
   "source": [
    "Since the unknown $\\gamma(x)$ is an unknown distribution, it cannot be simply obtained via just a single equation as the 'simple case' above. Rather the no penetration boundary condition needs to be satisfied at each point on the airfoil surface."
   ]
  },
  {
   "cell_type": "markdown",
   "id": "670a74c8",
   "metadata": {},
   "source": [
    "<center>\n",
    "    <img src=\"../../assets/GammaDistribution.png\" class=\"small\">\n",
    "    <p  style=\"font-size:16px; color:gray; text-align:center;\"> Idealisation of an airfoil via distribution of singularities</p>\n",
    "\n",
    "</center>"
   ]
  },
  {
   "cell_type": "markdown",
   "id": "52e24cd2",
   "metadata": {},
   "source": [
    "\\begin{aligned}\n",
    " \\left.V_{\\perp}\\right)_\\gamma &= \\left.V_{\\perp}\\right)_{U_{\\infty}} \\\\\n",
    "\\Rightarrow \\int \\frac{\\gamma(x) d x^{\\prime}}{2 \\pi\\left(x-x^{\\prime}\\right)} &= U_{\\infty} \\sin \\left(\\alpha-\\theta_c\\right) \\\\\n",
    "\\end{aligned}"
   ]
  },
  {
   "cell_type": "markdown",
   "id": "6f20c088",
   "metadata": {},
   "source": [
    "Therefore, the governing equation for $\\gamma(x)$ is given by-"
   ]
  },
  {
   "cell_type": "markdown",
   "id": "f8eb9413",
   "metadata": {},
   "source": [
    "$$\\int \\frac{\\gamma(x) d x^{\\prime}}{2 \\pi\\left(x-x^{\\prime}\\right)} = U_{\\infty} \\sin \\left(\\alpha-\\frac{dy_c}{dx}\\right)\n",
    "$$"
   ]
  },
  {
   "cell_type": "markdown",
   "id": "7400c1b2",
   "metadata": {},
   "source": [
    "```{admonition} Sohngen's formula\n",
    "The circle theorem helps obtain the complex flow field around a cyclinder in the most general case. It states that if $F(z)$ is the flow field in the absence of the cylinder then the flow field in the presence of the cylinder is given by $F(z)+\\bar{F}(\\frac{a^2}{z})$. The solution is based on the idea of images such that a streamline denoting a solid boundary defines a circle. More details can be obtained from {cite}`BA2`(Page 422-423) and {cite}`Add56`. \n",
    "```"
   ]
  },
  {
   "cell_type": "markdown",
   "id": "1692dfd1",
   "metadata": {},
   "source": [
    "## Unsteady Development of Steady lift"
   ]
  },
  {
   "cell_type": "markdown",
   "id": "1d763963",
   "metadata": {},
   "source": [
    "We now know that in case of an impulsively started flow, Kelvin's theorem needs to apply and consequently a starting vortex is shed in the wake as a vorticity of equal magnitude develops around the airfoil. In reality, this circulation develops due to the viscous property of fluids which is completely ignored in the potential flow theory that has been used as the modelling strategy. Instead, the Kutta condition has been used to uniquely quantify the circulatory effect around the airfoil. Based on the level of modelling fidelity, this unsteady scenario that exists at the moment of generation of the starting vortex, the total lift can be evaluated using either distributed vorticity method or the concentrated vorticity method discussed above."
   ]
  },
  {
   "cell_type": "markdown",
   "id": "86e8060f",
   "metadata": {},
   "source": [
    "<center>\n",
    "    <img src=\"../../assets/Bound_StartingVortex_t0+.png\" class=\"small\">\n",
    "    <p  style=\"font-size:16px; color:gray; text-align:center;\"> Two levels of modelling instantaneous circulation due to bound and starting vortex after impulsive start of flow</p>\n",
    "\n",
    "</center>\n"
   ]
  },
  {
   "cell_type": "markdown",
   "id": "6b8a766e",
   "metadata": {},
   "source": [
    "Since the starting vortex is close to the airfoil it induces a velocity on the surface of the airfoil much like the induced velocity concept we've now become familiar with in the context of finte-wing theory. *So even 2D airfoils experience an induced velocity when unsteadiness is accounted for.* As time progresses the starting vortex drifts apart from the airfoil and the corresponding induced velocity effect on the airfoil decreases. After sufficiently long time, the effect of the starting vortex is negligible so its even its mere presence is ignored and we have the familiar picture of steady-state lift generation around an airfoil represented as bound vorticity that we are familiar with. "
   ]
  },
  {
   "cell_type": "markdown",
   "id": "d2da2475",
   "metadata": {},
   "source": [
    "<center>\n",
    "    <img src=\"../../assets/Bound_Vortex_largetime.png\" class=\"small\">\n",
    "    <p  style=\"font-size:16px; color:gray; text-align:center;\"> Two levels of modelling instantaneous circulation due to bound and starting vortex after impulsive start of flow</p>\n",
    "\n",
    "</center>\n"
   ]
  },
  {
   "cell_type": "markdown",
   "id": "c0e6f935",
   "metadata": {},
   "source": [
    "## Unsteady Lift due to Airfoil Motion"
   ]
  },
  {
   "cell_type": "markdown",
   "id": "80807478",
   "metadata": {},
   "source": [
    "Now, extending the above strategy of modelling *true* unsteadiness i.e. the airfoil is undergoing motion such that its angle of attack is constantly changing. Using the physical model that has been used until now based on established fluid dynamics prinicples, airfoil motion immediately implies changing angle of attack. This in turn means a varying bound circulation around the airfoil and, therefore, more 'starting' vortices except now they are refered to as shed vortices. Like the starting vortex in the case of steady flow, shed vortices are emanated from the airfoil trailing-edge and thereafter move with the free stream flow and their effect on the airfoil can be neglected when they get far fro the airfoil. However, due to the varying bound vorticity around the airfoil there is new shed vortices continuously introduced into the flow from the trailing-edge. Even after sufficiently long time the lift generated by the airfoil will not reach a steady state because - 1) the airfoil is moving so the angle of attack is not constant and 2) the airfoil is continuously under the influence of induced velocity of shed vortices. The shed vortices are continuously drifting away from the airfoil so their effect on the airfoil is also continuously varying. Keeping track of this time varying strength and position of shed vortices, in order to quantify their influence on the airfoil and thereby help evaluate the net lift generated by the airfoil is what unsteady aerodynamics analysis is all about in a nutshell. If you do not account for the effect of the wake, then one ends up with the steady aerodynamics domain of analysis. "
   ]
  },
  {
   "cell_type": "markdown",
   "id": "b7246109",
   "metadata": {},
   "source": [
    "<center>\n",
    "    <img src=\"../../assets/Bound_ShedVortex_unsteady.png\" class=\"small\">\n",
    "    <p  style=\"font-size:16px; color:gray; text-align:center;\"> Instantaneous circulation due to bound and starting vortex after impulsive start of flow</p>\n",
    "\n",
    "</center>  "
   ]
  },
  {
   "cell_type": "markdown",
   "id": "c8c5fdf5",
   "metadata": {},
   "source": [
    "Next we look at the classical Theordorsen model to predict unsteady pressure distribution around thin airfoils."
   ]
  },
  {
   "cell_type": "code",
   "execution_count": null,
   "id": "baef9df0",
   "metadata": {},
   "outputs": [],
   "source": []
  },
  {
   "cell_type": "code",
   "execution_count": null,
   "id": "3cf2f711",
   "metadata": {},
   "outputs": [],
   "source": []
  },
  {
   "cell_type": "code",
   "execution_count": null,
   "id": "9818ced6",
   "metadata": {},
   "outputs": [],
   "source": []
  },
  {
   "cell_type": "code",
   "execution_count": null,
   "id": "ff0042f1",
   "metadata": {},
   "outputs": [],
   "source": []
  },
  {
   "cell_type": "code",
   "execution_count": null,
   "id": "46f40ce1",
   "metadata": {},
   "outputs": [],
   "source": []
  },
  {
   "cell_type": "markdown",
   "id": "9e4253c1",
   "metadata": {},
   "source": [
    "$$\\nabla^2 \\phi = 0$$"
   ]
  },
  {
   "cell_type": "markdown",
   "id": "6aaa182b",
   "metadata": {},
   "source": [
    "Since $\\phi$ is a continuous and differentiable complex function, all we need to do is identify what it would look like for common flow conditions. For e.g. in case of uniform flow from left to right $\\phi(z) = z$, $\\phi(z) = 1/z$... Adding the two represents the flow over a circle which certainly is of practical utility. Essentially, the following equation gives us the flow velocity around a cylinder over the entire fluid domain "
   ]
  },
  {
   "cell_type": "markdown",
   "id": "7523501f",
   "metadata": {},
   "source": [
    "$$\\phi(z) = z+\\frac{1}{z}$$"
   ]
  },
  {
   "cell_type": "markdown",
   "id": "1868733f",
   "metadata": {},
   "source": [
    "The above result on its own doesn't represent significant progress towards our goal of being able to quantify lift around an airfoil/flat plate. The missing piece of the puzzle is the Reimann mapping theorem which allows us to convert the circular domain, for which we know the fluid flow solution, into any other closed shape imaginable. Of course the shape we are particularly interested in is that of a flat plate. "
   ]
  },
  {
   "cell_type": "markdown",
   "id": "342196b4",
   "metadata": {},
   "source": []
  },
  {
   "cell_type": "markdown",
   "id": "3df6af87",
   "metadata": {},
   "source": []
  },
  {
   "cell_type": "markdown",
   "id": "e68df105",
   "metadata": {},
   "source": []
  },
  {
   "cell_type": "markdown",
   "id": "f7aead99",
   "metadata": {},
   "source": []
  },
  {
   "cell_type": "markdown",
   "id": "68e57b45",
   "metadata": {},
   "source": []
  },
  {
   "cell_type": "markdown",
   "id": "8f8ecd9d",
   "metadata": {},
   "source": [
    "Potential flow theory is based on the inviscid assumption so clearly the predicted drag force (i.e. force along the direction of flow) is zero leading to the d'Alembert's paradox. Of course this is not much of a paradox now given we modelled the fluid as an ideal fluid is some sense by ignoring viscosity altogether."
   ]
  }
 ],
 "metadata": {
  "hide_input": false,
  "kernelspec": {
   "display_name": "Python 3 (ipykernel)",
   "language": "python",
   "name": "python3"
  },
  "language_info": {
   "codemirror_mode": {
    "name": "ipython",
    "version": 3
   },
   "file_extension": ".py",
   "mimetype": "text/x-python",
   "name": "python",
   "nbconvert_exporter": "python",
   "pygments_lexer": "ipython3",
   "version": "3.8.5"
  },
  "latex_envs": {
   "LaTeX_envs_menu_present": true,
   "autoclose": true,
   "autocomplete": true,
   "bibliofile": "biblio.bib",
   "cite_by": "apalike",
   "current_citInitial": 1,
   "eqLabelWithNumbers": false,
   "eqNumInitial": 1,
   "hotkeys": {
    "equation": "Ctrl-E",
    "itemize": "Ctrl-I"
   },
   "labels_anchors": false,
   "latex_user_defs": false,
   "report_style_numbering": false,
   "user_envs_cfg": false
  },
  "varInspector": {
   "cols": {
    "lenName": 16,
    "lenType": 16,
    "lenVar": 40
   },
   "kernels_config": {
    "python": {
     "delete_cmd_postfix": "",
     "delete_cmd_prefix": "del ",
     "library": "var_list.py",
     "varRefreshCmd": "print(var_dic_list())"
    },
    "r": {
     "delete_cmd_postfix": ") ",
     "delete_cmd_prefix": "rm(",
     "library": "var_list.r",
     "varRefreshCmd": "cat(var_dic_list()) "
    }
   },
   "types_to_exclude": [
    "module",
    "function",
    "builtin_function_or_method",
    "instance",
    "_Feature"
   ],
   "window_display": false
  }
 },
 "nbformat": 4,
 "nbformat_minor": 5
}
