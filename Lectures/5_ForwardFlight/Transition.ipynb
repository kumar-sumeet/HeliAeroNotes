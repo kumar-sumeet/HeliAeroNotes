{
 "cells": [
  {
   "cell_type": "markdown",
   "metadata": {},
   "source": [
    "# Transition"
   ]
  },
  {
   "cell_type": "markdown",
   "metadata": {},
   "source": [
    "As the helicopter moves from a hover flight state to a forward flight state, the rotor wake undergoes quite a bit of transformation so much so that the momentum theory approximations incur significant error making them inapplicable. Momentum theory again becomes applicable as higher forward flight speeds are attained. This *special* forward flight region 0< ${\\mu}$ <0.1 is generally referred to as the transition region where due to the proximity of the rotor tip vortices to the following blades leads to impulsive loadings, which in turn results in high noise and vibrations. Needless to say transition region is not comfortable for people inside the helicopter or for those in the neighbourhood it is flying over."
   ]
  },
  {
   "cell_type": "markdown",
   "metadata": {},
   "source": [
    "## How does one achieve $V_F$>0?"
   ]
  },
  {
   "cell_type": "markdown",
   "metadata": {},
   "source": [
    "This is not a trivial question to ask. From basic understanding of airfoil aerodynamics, it is relatively obvious that to achieve hover at a given MTOW, the rotor collective needs to be increased until the helicopter leaves the ground. Once in hover, the main rotor thrust needs to be tilted so that a component of the rotor thrust accelerates the helicopter until enough parasite drag builds up to counter it."
   ]
  },
  {
   "cell_type": "markdown",
   "metadata": {},
   "source": [
    "<div style=\"float:right; width:55%\"; >\n",
    "    <img src=\"../../assets/forces_moment.png\" />\n",
    "    <p style=\"font-size:12px; color:gray; text-align:center;\"> Forces and moments balance about CG </p>\n",
    "</div>\n",
    "\n",
    "\n",
    "&nbsp;\n",
    "\n",
    "\n",
    "Net force and angular momentum of the aircraft should equal zero\n",
    "\t\n",
    "Vertical component of thrust = aircraft weight\n",
    "\n",
    "Horizontal component of thrust = aircraft drag"
   ]
  },
  {
   "cell_type": "markdown",
   "metadata": {},
   "source": [
    "- increase collective for hover ($V_F=0$)\n",
    "- from hover to $V_F>0$\n",
    "    - "
   ]
  },
  {
   "cell_type": "markdown",
   "metadata": {},
   "source": [
    "- if rotor collective not decreased as $V_F$ increases, hecliopter starts climbing ('translational lift')"
   ]
  },
  {
   "cell_type": "markdown",
   "metadata": {},
   "source": [
    "## Rolling/Pitching moment"
   ]
  },
  {
   "cell_type": "markdown",
   "metadata": {},
   "source": [
    "- Blade flapping\n",
    "- Thrust vector tilt (a figure here would be nice)"
   ]
  },
  {
   "cell_type": "markdown",
   "metadata": {},
   "source": [
    "Flapping of the rotor disc generates moment at the rotor hub that in turn changes the orientation of the entire aircraft. "
   ]
  },
  {
   "cell_type": "markdown",
   "metadata": {},
   "source": []
  },
  {
   "cell_type": "markdown",
   "metadata": {},
   "source": []
  },
  {
   "cell_type": "markdown",
   "metadata": {},
   "source": [
    "## Characteristic power bucket curve"
   ]
  },
  {
   "cell_type": "markdown",
   "metadata": {},
   "source": [
    "As was mentioned earlier for hover, large mass flow through the rotor disk is key to thrust efficiency of a rotor. When a rotor is tilted for forward flight, a component of the oncoming flow velocity goes through the rotor disk. This increases the effective mass flow rate of air through the disk."
   ]
  },
  {
   "cell_type": "markdown",
   "metadata": {},
   "source": [
    "&nbsp;\n",
    "\n",
    "<center>\n",
    "    <img src=\"../../assets/power_curve.png\" class=\"large\">\n",
    "    <p  style=\"font-size:12px; color:gray; text-align:center;\">\n",
    "</center>"
   ]
  },
  {
   "cell_type": "markdown",
   "metadata": {},
   "source": []
  },
  {
   "cell_type": "markdown",
   "metadata": {},
   "source": []
  },
  {
   "cell_type": "markdown",
   "metadata": {},
   "source": []
  },
  {
   "cell_type": "markdown",
   "metadata": {},
   "source": []
  },
  {
   "cell_type": "markdown",
   "metadata": {},
   "source": [
    "(content:5_FF_T_La:labels)=\n",
    "## Lift assymetry:  a rotor is not just a propeller placed in a different plane\n",
    "\n",
    "- Forward (edgewise) motion of the rotor as a whole creates assymetry of dynamic pressure\n",
    "- If nothing is done, this simply results in more aerodynamic lift in the region of higher dynamic pressure\n",
    "- As revolutionary as it might have been to mechanically implement this during the early days of the evolution of the helicopter rotor system, pitching the rotor blade and thereby controlling the angle of attack has become the most reliable manner we can achieve this"
   ]
  },
  {
   "cell_type": "markdown",
   "metadata": {},
   "source": [
    "\n",
    "<center>\n",
    "    <img src=\"../../assets/ABC1.png\" class=\"size_option\">\n",
    "    <p style=\"font-size:12px; color:gray; text-align:center;\"  > ABC1 <a href=\"https://www.sikorskyarchives.com/S-69%20(XH-59A).php\"> [source]</a></p>\n",
    "\n",
    "</center>\n",
    "\n",
    "\n"
   ]
  },
  {
   "cell_type": "markdown",
   "metadata": {},
   "source": [
    "Having said that, a rotor design that is basically a propeller placed horizontally on top of the helicopter fuselage presents a lot of interesting possibilities. Of course, the aforementioned problems wouldn't magically go away. So the challenge is to come up with a solution strategy different from what the early pioneers of rotorcraft came up with. We'll talk more about this when discussing modern rotor designs.  "
   ]
  }
 ],
 "metadata": {
  "hide_input": false,
  "kernelspec": {
   "display_name": "Python 3",
   "language": "python",
   "name": "python3"
  },
  "language_info": {
   "codemirror_mode": {
    "name": "ipython",
    "version": 3
   },
   "file_extension": ".py",
   "mimetype": "text/x-python",
   "name": "python",
   "nbconvert_exporter": "python",
   "pygments_lexer": "ipython3",
   "version": "3.8.12"
  },
  "latex_envs": {
   "LaTeX_envs_menu_present": true,
   "autoclose": true,
   "autocomplete": true,
   "bibliofile": "biblio.bib",
   "cite_by": "apalike",
   "current_citInitial": 1,
   "eqLabelWithNumbers": false,
   "eqNumInitial": 1,
   "hotkeys": {
    "equation": "Ctrl-E",
    "itemize": "Ctrl-I"
   },
   "labels_anchors": false,
   "latex_user_defs": false,
   "report_style_numbering": false,
   "user_envs_cfg": false
  },
  "varInspector": {
   "cols": {
    "lenName": 16,
    "lenType": 16,
    "lenVar": 40
   },
   "kernels_config": {
    "python": {
     "delete_cmd_postfix": "",
     "delete_cmd_prefix": "del ",
     "library": "var_list.py",
     "varRefreshCmd": "print(var_dic_list())"
    },
    "r": {
     "delete_cmd_postfix": ") ",
     "delete_cmd_prefix": "rm(",
     "library": "var_list.r",
     "varRefreshCmd": "cat(var_dic_list()) "
    }
   },
   "types_to_exclude": [
    "module",
    "function",
    "builtin_function_or_method",
    "instance",
    "_Feature"
   ],
   "window_display": false
  }
 },
 "nbformat": 4,
 "nbformat_minor": 5
}
