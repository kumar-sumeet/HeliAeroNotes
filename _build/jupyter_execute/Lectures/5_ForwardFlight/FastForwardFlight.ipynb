{
 "cells": [
  {
   "cell_type": "markdown",
   "id": "11646f93",
   "metadata": {},
   "source": [
    "# Fast Forward Flight"
   ]
  },
  {
   "cell_type": "code",
   "execution_count": 1,
   "id": "7c2d01de",
   "metadata": {},
   "outputs": [
    {
     "data": {
      "text/html": [
       "<video src=\"../../assets/ElasticBlade_4.mp4\" loop autoplay  width=\"350\" >\n",
       "      Your browser does not support the <code>video</code> element.\n",
       "    </video>"
      ],
      "text/plain": [
       "<IPython.core.display.Video object>"
      ]
     },
     "execution_count": 1,
     "metadata": {},
     "output_type": "execute_result"
    }
   ],
   "source": [
    "from IPython.display import Video\n",
    "\n",
    "Video(\"../../assets/ElasticBlade_4.mp4\",width=350,html_attributes=\"loop autoplay\")"
   ]
  },
  {
   "cell_type": "code",
   "execution_count": 12,
   "id": "35aade6b",
   "metadata": {},
   "outputs": [
    {
     "data": {
      "text/html": [
       "\n",
       "<iframe\n",
       "    width=\"700\"\n",
       "    height=\"350\"\n",
       "    src=\"../assets/ElasticBlade_4.mp4\"\n",
       "    frameborder=\"0\"\n",
       "    allowfullscreen\n",
       "\n",
       "></iframe>\n"
      ],
      "text/plain": [
       "<IPython.lib.display.IFrame at 0x7fd7b0891a30>"
      ]
     },
     "execution_count": 12,
     "metadata": {},
     "output_type": "execute_result"
    }
   ],
   "source": []
  },
  {
   "cell_type": "markdown",
   "id": "3c8d4f0f",
   "metadata": {},
   "source": []
  },
  {
   "cell_type": "markdown",
   "id": "f6bc510c",
   "metadata": {},
   "source": []
  },
  {
   "cell_type": "markdown",
   "id": "ce7fc57f",
   "metadata": {},
   "source": []
  },
  {
   "cell_type": "markdown",
   "id": "6d5a86a6",
   "metadata": {},
   "source": []
  },
  {
   "cell_type": "markdown",
   "id": "a9ae4af8",
   "metadata": {},
   "source": []
  },
  {
   "cell_type": "markdown",
   "id": "d6ca0515",
   "metadata": {},
   "source": []
  },
  {
   "cell_type": "markdown",
   "id": "9e3447e9",
   "metadata": {},
   "source": []
  },
  {
   "cell_type": "markdown",
   "id": "e444a13a",
   "metadata": {},
   "source": []
  },
  {
   "cell_type": "markdown",
   "id": "b503975d",
   "metadata": {},
   "source": []
  },
  {
   "cell_type": "markdown",
   "id": "d6c7da12",
   "metadata": {},
   "source": []
  },
  {
   "cell_type": "markdown",
   "id": "b16259ae",
   "metadata": {},
   "source": []
  },
  {
   "cell_type": "markdown",
   "id": "f338486a",
   "metadata": {},
   "source": []
  },
  {
   "cell_type": "markdown",
   "id": "bcc41d3e",
   "metadata": {},
   "source": []
  },
  {
   "cell_type": "markdown",
   "id": "02025edd",
   "metadata": {},
   "source": []
  },
  {
   "cell_type": "markdown",
   "id": "f8181040",
   "metadata": {},
   "source": []
  },
  {
   "cell_type": "markdown",
   "id": "06095722",
   "metadata": {},
   "source": []
  }
 ],
 "metadata": {
  "celltoolbar": "Edit Metadata",
  "hide_input": false,
  "kernelspec": {
   "display_name": "Python 3 (ipykernel)",
   "language": "python",
   "name": "python3"
  },
  "language_info": {
   "codemirror_mode": {
    "name": "ipython",
    "version": 3
   },
   "file_extension": ".py",
   "mimetype": "text/x-python",
   "name": "python",
   "nbconvert_exporter": "python",
   "pygments_lexer": "ipython3",
   "version": "3.8.5"
  },
  "varInspector": {
   "cols": {
    "lenName": 16,
    "lenType": 16,
    "lenVar": 40
   },
   "kernels_config": {
    "python": {
     "delete_cmd_postfix": "",
     "delete_cmd_prefix": "del ",
     "library": "var_list.py",
     "varRefreshCmd": "print(var_dic_list())"
    },
    "r": {
     "delete_cmd_postfix": ") ",
     "delete_cmd_prefix": "rm(",
     "library": "var_list.r",
     "varRefreshCmd": "cat(var_dic_list()) "
    }
   },
   "types_to_exclude": [
    "module",
    "function",
    "builtin_function_or_method",
    "instance",
    "_Feature"
   ],
   "window_display": false
  }
 },
 "nbformat": 4,
 "nbformat_minor": 5
}