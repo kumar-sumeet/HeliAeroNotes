{
 "cells": [
  {
   "cell_type": "markdown",
   "metadata": {},
   "source": [
    "# Overview"
   ]
  },
  {
   "cell_type": "code",
   "execution_count": null,
   "metadata": {},
   "outputs": [],
   "source": []
  },
  {
   "cell_type": "markdown",
   "metadata": {},
   "source": [
    "## Wind tunnel"
   ]
  },
  {
   "cell_type": "markdown",
   "metadata": {},
   "source": [
    "Two wind tunnels feature prominently in experimental measurement campaigns involving rotorcraft\n",
    "\n",
    "- NASA Ames wind tunnel\n",
    "- Dutch DLR wind tunnel\n"
   ]
  },
  {
   "cell_type": "markdown",
   "metadata": {},
   "source": [
    "### [NASA](https://www.nasa.gov/centers/langley/news/factsheets/WindTunnel.html#:~:text=The%20largest%20wind%20tunnel%20in,high%20and%2080%20feet%20wide.)"
   ]
  },
  {
   "cell_type": "markdown",
   "metadata": {},
   "source": [
    "\n",
    "This is the largest wind tunnel in the world with a 24.4 m x 36.6 m cross-section."
   ]
  },
  {
   "cell_type": "markdown",
   "metadata": {},
   "source": [
    "\n",
    "<center>\n",
    "    <img src=\"../../assets/UH60IBC.png\" class=\"medium\">\n",
    "    <p style=\"font-size:12px; color:gray; text-align:center;\"  > UH-60 IBC <a href=\"https://rotorcraft.arc.nasa.gov/Research/Programs/UH-60_IBC.html\"> [source]</a></p>\n",
    "\n",
    "</center>\n"
   ]
  },
  {
   "cell_type": "markdown",
   "metadata": {},
   "source": [
    "<div class=\"image-grid\">\n",
    "    <img  src=\"../../assets/SMART1.png\" class=\"medium\"/>\n",
    "    <img  src=\"../../assets/SMART2.png\" class=\"medium\"/>\n",
    "    <img  src=\"../../assets/SMART3.png\" class=\"medium\"/> \n",
    "</div>\n",
    "\n",
    "<div class=\"image-grid\">\n",
    "  <p > SMART <a href=\"https://rotorcraft.arc.nasa.gov/Publications/files/straub_2009_783.pdf\"> [source]</a>\n",
    "  </p>   \n",
    "  <p > SMART <a href=\"https://rotorcraft.arc.nasa.gov/Publications/files/straub_2009_783.pdf\"> [source] </a>\n",
    "  </p> \n",
    "  <p > SMART <a href=\"https://rotorcraft.arc.nasa.gov/Publications/files/straub_2009_783.pdf\"> [source]</a>\n",
    "  </p> \n",
    "</div>\n",
    "\n"
   ]
  },
  {
   "cell_type": "markdown",
   "metadata": {},
   "source": []
  },
  {
   "cell_type": "markdown",
   "metadata": {},
   "source": [
    "\n",
    "<center>\n",
    "    <img src=\"../../assets/XH59Ames.png\" class=\"medium\">\n",
    "    <p style=\"font-size:12px; color:gray; text-align:center;\"  > Sikorsky XH-59 <a href=\"https://www.sikorskyarchives.com/S-69%20(XH-59A).php\"> [source]</a></p>\n",
    "\n",
    "</center>\n",
    "\n"
   ]
  },
  {
   "cell_type": "markdown",
   "metadata": {},
   "source": [
    "## Basic VTOL configuration"
   ]
  },
  {
   "cell_type": "markdown",
   "metadata": {},
   "source": [
    "This is all you need to be able to perform the missions defined by the capabilities of a VTOL aircraft"
   ]
  },
  {
   "cell_type": "markdown",
   "metadata": {},
   "source": [
    "<center>\n",
    "    <img src=\"../../assets/HillerROERotorcycle.jpeg\" class=\"medium\">\n",
    "    <p style=\"font-size:12px; color:gray; text-align:center;\"> Hiller ROE Rotorcycle <a href=\"https://en.wikipedia.org/wiki/Hiller_ROE_Rotorcycle#/media/File:Hiller_YROE-1.jpg\"> [source]</a></p>\n",
    "\n",
    "</center>\n"
   ]
  },
  {
   "cell_type": "code",
   "execution_count": null,
   "metadata": {
    "hide_input": true,
    "tags": [
     "hide-input"
    ]
   },
   "outputs": [],
   "source": [
    "from IPython.display import YouTubeVideo\n",
    "YouTubeVideo('GIY63dz7bY0', width=500, height=270)"
   ]
  },
  {
   "cell_type": "markdown",
   "metadata": {},
   "source": [
    "<center>\n",
    "    <img src=\"../../assets/Backpack_Helicopter.jpeg\" class=\"medium\">\n",
    "    <p style=\"font-size:12px; color:gray; text-align:center;\" > Pentecost HX-1 Hoppi-Copter <a href=\"https://en.wikipedia.org/wiki/Hoppi-Copter#/media/File:Pentecost_Backpack_Helicopter.JPG\"> [source]</a></p>\n",
    "\n",
    "</center>\n",
    "\n"
   ]
  },
  {
   "cell_type": "code",
   "execution_count": null,
   "metadata": {
    "tags": [
     "hide-input"
    ]
   },
   "outputs": [],
   "source": [
    "from IPython.display import YouTubeVideo\n",
    "YouTubeVideo('suHOLFhbwsM', width=500, height=270)"
   ]
  },
  {
   "cell_type": "markdown",
   "metadata": {},
   "source": [
    "## Advancing blade concept (ABC) or rigid rotor "
   ]
  },
  {
   "cell_type": "markdown",
   "metadata": {},
   "source": [
    "<center>\n",
    "    <img src=\"../../assets/ABC2.png\" class=\"medium\">\n",
    "    <p style=\"font-size:12px; color:gray; text-align:center;\"  > Lateral loading symmetry on ABC rotor  <a href=\"https://www.sikorskyarchives.com/S-69%20(XH-59A).php\"> [source]</a></p>\n",
    "\n",
    "</center>\n",
    "\n",
    "\n"
   ]
  },
  {
   "cell_type": "markdown",
   "metadata": {},
   "source": [
    "The XH-59 from Sikorsky was the first design incorporating this design philosophy\n",
    "- no blade hinges\n",
    "- no tail rotor - yaw control?\n",
    "    - differential collective for yaw control in hover/low speed\n",
    "    - gearbox designed with differential speed capability!!\n",
    "    - vertical tail in fast \n",
    "-"
   ]
  },
  {
   "cell_type": "markdown",
   "metadata": {},
   "source": [
    "read P152"
   ]
  },
  {
   "cell_type": "markdown",
   "metadata": {},
   "source": [
    "<center>\n",
    "    <img src=\"../../assets/XH59Ad.png\" class=\"medium\">\n",
    "    <p style=\"font-size:12px; color:gray; text-align:center;\"  > Sikorsky XH-59 <a href=\"https://www.sikorskyarchives.com/S-69%20(XH-59A).php\"> [source]</a></p>\n",
    "\n",
    "</center>\n"
   ]
  },
  {
   "cell_type": "markdown",
   "metadata": {},
   "source": [
    "```{epigraph}\n",
    "\"Being a concept demonstrator, the XH-59A had a number of compromises in its design to hold program cost down.  Primarily among these was the use of separate engines for rotor power and auxiliary propulsion.  In a more developed design, a single propulsion system would power both the rotor and an auxiliary propulsion propeller or ducted fan.  A high cost item at the time was the monolithic titanium blade spars.  Composite materials technology would soon appear which could produce a better blade, with almost infinite options in geometry, at a substantially reduced cost and lighter weight.\n",
    "\n",
    "Rotor vibration characteristics were acknowledged at the end of the test program as being too high for a production vehicle.  Design studies showed that four-bladed rotors would dramatically reduce the rotors’ vibratory characteristics. \"\n",
    "\n",
    "-- [Sikorsky Archives](https://www.sikorskyarchives.com/S-69%20(XH-59A).php) \n",
    "```"
   ]
  },
  {
   "cell_type": "markdown",
   "metadata": {},
   "source": [
    "```{admonition} Aside\n",
    "Strangely, Sikorsky were a bit more upbeat during the development and testing phase writing - \"...It has been determined that with no vibration treatment installed (absorbers or isolators) the vibration levels are the same magnitude as untreated current generation helicopters...\" at the [36th AHS Annual Forum] (https://vtol.org/store/product/advancing-blade-concepts-abc-tm-high-speed-development-2257.cfm) \n",
    "```"
   ]
  },
  {
   "cell_type": "markdown",
   "metadata": {},
   "source": [
    "## Coaxial rotors"
   ]
  },
  {
   "cell_type": "markdown",
   "metadata": {},
   "source": [
    "20 years and a lot of lessons learnt later"
   ]
  },
  {
   "cell_type": "markdown",
   "metadata": {},
   "source": []
  },
  {
   "cell_type": "markdown",
   "metadata": {},
   "source": []
  },
  {
   "cell_type": "markdown",
   "metadata": {},
   "source": []
  },
  {
   "cell_type": "markdown",
   "metadata": {},
   "source": []
  },
  {
   "cell_type": "markdown",
   "metadata": {},
   "source": []
  },
  {
   "cell_type": "code",
   "execution_count": null,
   "metadata": {},
   "outputs": [],
   "source": []
  }
 ],
 "metadata": {
  "celltoolbar": "Tags",
  "hide_input": false,
  "kernelspec": {
   "display_name": "Python 3",
   "language": "python",
   "name": "python3"
  },
  "language_info": {
   "codemirror_mode": {
    "name": "ipython",
    "version": 3
   },
   "file_extension": ".py",
   "mimetype": "text/x-python",
   "name": "python",
   "nbconvert_exporter": "python",
   "pygments_lexer": "ipython3",
   "version": "3.8.12"
  },
  "latex_envs": {
   "LaTeX_envs_menu_present": true,
   "autoclose": true,
   "autocomplete": true,
   "bibliofile": "biblio.bib",
   "cite_by": "apalike",
   "current_citInitial": 1,
   "eqLabelWithNumbers": false,
   "eqNumInitial": 1,
   "hotkeys": {
    "equation": "Ctrl-E",
    "itemize": "Ctrl-I"
   },
   "labels_anchors": false,
   "latex_user_defs": false,
   "report_style_numbering": false,
   "user_envs_cfg": false
  },
  "varInspector": {
   "cols": {
    "lenName": 16,
    "lenType": 16,
    "lenVar": 40
   },
   "kernels_config": {
    "python": {
     "delete_cmd_postfix": "",
     "delete_cmd_prefix": "del ",
     "library": "var_list.py",
     "varRefreshCmd": "print(var_dic_list())"
    },
    "r": {
     "delete_cmd_postfix": ") ",
     "delete_cmd_prefix": "rm(",
     "library": "var_list.r",
     "varRefreshCmd": "cat(var_dic_list()) "
    }
   },
   "types_to_exclude": [
    "module",
    "function",
    "builtin_function_or_method",
    "instance",
    "_Feature"
   ],
   "window_display": false
  }
 },
 "nbformat": 4,
 "nbformat_minor": 5
}
