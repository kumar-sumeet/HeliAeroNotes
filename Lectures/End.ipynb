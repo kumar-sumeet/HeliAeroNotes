{
 "cells": [
  {
   "cell_type": "markdown",
   "id": "71d240bc",
   "metadata": {},
   "source": [
    "# Concluding Remarks"
   ]
  },
  {
   "cell_type": "markdown",
   "id": "94f28c45",
   "metadata": {},
   "source": [
    "Within this course we have barely scratched the surface with regards to the aerodynamics aspect of analysing rotorcraft behavior and performance. Given that this course focussed only on the rotor aerodynamics, the other two important aspects relevant for helicopter analysis - control and structural deformation - were not talked about. I'm definitely not without bias when I say that rotorcraft aerodynamics is (probably) the most complicated and unsettled aspect about rotorcraft. This is perhaps evident from the ...  \n",
    "\n",
    "Our focus was mostly on simple momentum and blade element momentum theories. Given the simplicity of these theories, they make cause and effect relation between different physical rotor parameters very evident. \n",
    "\n",
    "If the content of the course up until now has been of interest to you then there are a number of areas that the research community is actively working on, they are listed below. Alternately, you can visit ... and browse through the latest conference and journal papers. Rotorcraft research is of course not limited to the publications in these forums but I believe they provide a decent overview of what people in this field are busy with. "
   ]
  },
  {
   "cell_type": "markdown",
   "id": "6283c0c7",
   "metadata": {},
   "source": [
    "#### Problems actively being tackled"
   ]
  },
  {
   "cell_type": "code",
   "execution_count": null,
   "id": "e352138f",
   "metadata": {},
   "outputs": [],
   "source": [
    "# add vtol forum website here"
   ]
  },
  {
   "cell_type": "markdown",
   "id": "10af76c5",
   "metadata": {},
   "source": [
    "- Whirl flutter\n",
    "- \n",
    "- \n",
    "- Leveraging advances in computational sciences\n",
    "    - GPUs for real-time flow field solvers \n",
    "    - Improving CFD-based solution strategies\n",
    "    - Simultaneously exploring mid-fidelity flow-field solutions strategies (e.g. vortex particle methods)\n",
    "    "
   ]
  },
  {
   "cell_type": "markdown",
   "id": "8560c193",
   "metadata": {},
   "source": [
    "Last but not the least, attributing a repsonse or observed/measured behavior to "
   ]
  }
 ],
 "metadata": {
  "hide_input": false,
  "kernelspec": {
   "display_name": "Python 3 (ipykernel)",
   "language": "python",
   "name": "python3"
  },
  "language_info": {
   "codemirror_mode": {
    "name": "ipython",
    "version": 3
   },
   "file_extension": ".py",
   "mimetype": "text/x-python",
   "name": "python",
   "nbconvert_exporter": "python",
   "pygments_lexer": "ipython3",
   "version": "3.8.5"
  },
  "varInspector": {
   "cols": {
    "lenName": 16,
    "lenType": 16,
    "lenVar": 40
   },
   "kernels_config": {
    "python": {
     "delete_cmd_postfix": "",
     "delete_cmd_prefix": "del ",
     "library": "var_list.py",
     "varRefreshCmd": "print(var_dic_list())"
    },
    "r": {
     "delete_cmd_postfix": ") ",
     "delete_cmd_prefix": "rm(",
     "library": "var_list.r",
     "varRefreshCmd": "cat(var_dic_list()) "
    }
   },
   "types_to_exclude": [
    "module",
    "function",
    "builtin_function_or_method",
    "instance",
    "_Feature"
   ],
   "window_display": false
  }
 },
 "nbformat": 4,
 "nbformat_minor": 5
}
