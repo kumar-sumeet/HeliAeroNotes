{
 "cells": [
  {
   "cell_type": "markdown",
   "id": "1979fa4f",
   "metadata": {},
   "source": [
    "# Tail Rotor"
   ]
  },
  {
   "cell_type": "markdown",
   "id": "11abca86",
   "metadata": {},
   "source": []
  },
  {
   "cell_type": "markdown",
   "id": "2def8027",
   "metadata": {},
   "source": [
    "## Why is a tail rotor needed?"
   ]
  },
  {
   "cell_type": "markdown",
   "id": "89037454",
   "metadata": {},
   "source": [
    "- Provides directional stability, yaw control and balances main rotor torque\n"
   ]
  },
  {
   "cell_type": "markdown",
   "id": "c7f1f5e2",
   "metadata": {},
   "source": []
  },
  {
   "cell_type": "markdown",
   "id": "0914c6ba",
   "metadata": {},
   "source": []
  },
  {
   "cell_type": "markdown",
   "id": "52723258",
   "metadata": {},
   "source": [
    "Is a single rotor design possible?"
   ]
  },
  {
   "cell_type": "markdown",
   "id": "6f71c22c",
   "metadata": {},
   "source": []
  },
  {
   "cell_type": "markdown",
   "id": "ec70432d",
   "metadata": {},
   "source": []
  },
  {
   "cell_type": "markdown",
   "id": "d279f634",
   "metadata": {},
   "source": [
    "## Who needs a *tail* rotor!?"
   ]
  },
  {
   "cell_type": "markdown",
   "id": "0740d9cc",
   "metadata": {},
   "source": [
    "```{figure} ../../assets/FaireyGyrodyne.jpeg\n",
    "---\n",
    "height: 150px\n",
    "name: FaireyGyrodyne\n",
    "---\n",
    "Fairey Gyrodyne [[source]](https://en.wikipedia.org/wiki/Fairey_FB-1_Gyrodyne#/media/File:Fairey_FB-1_Gyrodyne.jpg)\n",
    "```"
   ]
  },
  {
   "cell_type": "markdown",
   "id": "fb30bdcf",
   "metadata": {},
   "source": [
    "```{figure} ../../assets/FaireyRotodyne.jpeg\n",
    "---\n",
    "height: 150px\n",
    "name: FaireyRotodyne\n",
    "---\n",
    "Fairey Rotodyne [[source]](https://en.wikipedia.org/wiki/Fairey_Rotodyne#/media/File:SFF_002-1055526_Fairey_Rotodyne.jpg)\n",
    "```"
   ]
  },
  {
   "cell_type": "code",
   "execution_count": null,
   "id": "8cfa9a39",
   "metadata": {},
   "outputs": [],
   "source": [
    "```{figure} ../../assets/Add17.png\n",
    "---\n",
    "height: 150px\n",
    "name: Add17\n",
    "---\n",
    "Different 'tail' placement {cite}'Add17'\n",
    "```"
   ]
  },
  {
   "cell_type": "markdown",
   "id": "b879a3a1",
   "metadata": {},
   "source": [
    "## Surviving loss of tail rotor "
   ]
  },
  {
   "cell_type": "code",
   "execution_count": null,
   "id": "01148106",
   "metadata": {},
   "outputs": [],
   "source": [
    "#could possibly also talk about the accident from Prouty II-38 but feels unnecessary"
   ]
  },
  {
   "cell_type": "markdown",
   "id": "c7450355",
   "metadata": {},
   "source": [
    "- Survivability or continued control of helicopter depends on \n",
    "    - flight condition when loss happens\n",
    "    - degree of damage/loss and helicopter design to cope with that loss\n",
    "- Loss at high speed\n",
    "    - Large vertical stabilizers allow continued operation using a side slip\n",
    "    - This has to be balanced with need for high speed sideward flight (an issue in the Apache program – read Prouty II chapter 40 for details)\n",
    "- Loss at low speed or hover\n",
    "    - Autorotation\n"
   ]
  },
  {
   "cell_type": "code",
   "execution_count": null,
   "id": "f8062dc8",
   "metadata": {},
   "outputs": [],
   "source": []
  },
  {
   "cell_type": "code",
   "execution_count": null,
   "id": "236f1ca5",
   "metadata": {},
   "outputs": [],
   "source": []
  },
  {
   "cell_type": "code",
   "execution_count": null,
   "id": "bf1e20ed",
   "metadata": {},
   "outputs": [],
   "source": []
  },
  {
   "cell_type": "code",
   "execution_count": null,
   "id": "7866a632",
   "metadata": {},
   "outputs": [],
   "source": []
  },
  {
   "cell_type": "code",
   "execution_count": null,
   "id": "598e3100",
   "metadata": {},
   "outputs": [],
   "source": []
  },
  {
   "cell_type": "code",
   "execution_count": null,
   "id": "564245c7",
   "metadata": {},
   "outputs": [],
   "source": []
  }
 ],
 "metadata": {
  "hide_input": false,
  "kernelspec": {
   "display_name": "Python 3 (ipykernel)",
   "language": "python",
   "name": "python3"
  },
  "language_info": {
   "codemirror_mode": {
    "name": "ipython",
    "version": 3
   },
   "file_extension": ".py",
   "mimetype": "text/x-python",
   "name": "python",
   "nbconvert_exporter": "python",
   "pygments_lexer": "ipython3",
   "version": "3.8.5"
  },
  "varInspector": {
   "cols": {
    "lenName": 16,
    "lenType": 16,
    "lenVar": 40
   },
   "kernels_config": {
    "python": {
     "delete_cmd_postfix": "",
     "delete_cmd_prefix": "del ",
     "library": "var_list.py",
     "varRefreshCmd": "print(var_dic_list())"
    },
    "r": {
     "delete_cmd_postfix": ") ",
     "delete_cmd_prefix": "rm(",
     "library": "var_list.r",
     "varRefreshCmd": "cat(var_dic_list()) "
    }
   },
   "types_to_exclude": [
    "module",
    "function",
    "builtin_function_or_method",
    "instance",
    "_Feature"
   ],
   "window_display": false
  }
 },
 "nbformat": 4,
 "nbformat_minor": 5
}
