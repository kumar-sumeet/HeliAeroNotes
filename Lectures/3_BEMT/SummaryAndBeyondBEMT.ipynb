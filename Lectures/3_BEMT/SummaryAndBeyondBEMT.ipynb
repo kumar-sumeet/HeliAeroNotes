{
 "cells": [
  {
   "cell_type": "markdown",
   "id": "310ef9a8",
   "metadata": {},
   "source": [
    "# Summary and Beyond BEMT"
   ]
  },
  {
   "cell_type": "markdown",
   "id": "2a305b23",
   "metadata": {},
   "source": [
    "BEMT is a pretty useful framework to see trends during initial conceptual design phase of a rotorcraft. Generally, it is also the go-to modelling approach when it is not necessary to model high frequency blade elastic motion - for e.g. during flight dynamics analyses of rotorcraft. This applies not only to large scale multi-ton rotorcraft but also to drones {cite}`Add43`. The latter almost always have rigid blades so the need to model elastic blade motion doesn't even arise. The research community continues to tweak and develop BEMT models in an effort to improve the accuracy of their results without having to opt for higher-fidelity methods - for e.g. {cite}`Add43_1`, {cite}`Add1`. These should convince you of the relevance of BEMT within the context of analysis of new rotor designs. Of course BEMT is not the complete story and, based on the assumptions that the theory is built on, there is room for better aerodynamic models that model more physics than the BEMT does. Such models do exist and are briefly discussed below in general terms.   "
   ]
  },
  {
   "cell_type": "markdown",
   "id": "6396ea31",
   "metadata": {},
   "source": [
    "Lifting-line theory with inflow theory"
   ]
  },
  {
   "cell_type": "markdown",
   "id": "cc5f081c",
   "metadata": {},
   "source": [
    "Blade section aerodynamcis ->circulation"
   ]
  },
  {
   "cell_type": "markdown",
   "id": "e1c201f2",
   "metadata": {},
   "source": [
    "Biot-Savart Law"
   ]
  },
  {
   "cell_type": "markdown",
   "id": "6569d555",
   "metadata": {},
   "source": [
    " - A kinematic concept rather than dynamic\n",
    "     - 'induction' fallacy\n",
    "     \n",
    " - \n",
    " "
   ]
  },
  {
   "cell_type": "markdown",
   "id": "336f1698",
   "metadata": {},
   "source": [
    "Finally, the formulation we have gone through assumed azimuthal symmetry of induced inflow. This assumption is valide only for hover and axial flight but breaks down during edgewise rotor flight. However, BEMT has been extended to model rotor performance also in forward flight taking into account the variation of induced inflow both over the radial span of the blade as well as the azimuth location. Generally, these are termed as 'hybrid' BEMT and you can find them in literature using this term. "
   ]
  }
 ],
 "metadata": {
  "hide_input": false,
  "kernelspec": {
   "display_name": "Python 3 (ipykernel)",
   "language": "python",
   "name": "python3"
  },
  "language_info": {
   "codemirror_mode": {
    "name": "ipython",
    "version": 3
   },
   "file_extension": ".py",
   "mimetype": "text/x-python",
   "name": "python",
   "nbconvert_exporter": "python",
   "pygments_lexer": "ipython3",
   "version": "3.8.5"
  },
  "varInspector": {
   "cols": {
    "lenName": 16,
    "lenType": 16,
    "lenVar": 40
   },
   "kernels_config": {
    "python": {
     "delete_cmd_postfix": "",
     "delete_cmd_prefix": "del ",
     "library": "var_list.py",
     "varRefreshCmd": "print(var_dic_list())"
    },
    "r": {
     "delete_cmd_postfix": ") ",
     "delete_cmd_prefix": "rm(",
     "library": "var_list.r",
     "varRefreshCmd": "cat(var_dic_list()) "
    }
   },
   "types_to_exclude": [
    "module",
    "function",
    "builtin_function_or_method",
    "instance",
    "_Feature"
   ],
   "window_display": false
  }
 },
 "nbformat": 4,
 "nbformat_minor": 5
}
