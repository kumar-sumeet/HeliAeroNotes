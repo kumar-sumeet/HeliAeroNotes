{
 "cells": [
  {
   "cell_type": "markdown",
   "id": "ea01d824",
   "metadata": {},
   "source": [
    "# Figure of Merit"
   ]
  },
  {
   "cell_type": "code",
   "execution_count": null,
   "id": "765520c4",
   "metadata": {},
   "outputs": [],
   "source": [
    "#Effects of ... parametric variation of ...\n",
    "\n",
    "# P117_2 has a ton of figures that could go into this chapter"
   ]
  },
  {
   "cell_type": "markdown",
   "id": "d7b801a6",
   "metadata": {},
   "source": [
    "Is a measure of rotor $\\textit{hover}$ efficiency but care needs to be taken when applying it to two entirely different rotors - for e.g. different $\\sigma(r)$, $V_{tip}$ etc. See {cite}`` "
   ]
  },
  {
   "cell_type": "markdown",
   "id": "e01091cb",
   "metadata": {},
   "source": [
    "$$FM=\\frac{C_{T}^{\\frac{3}{2}}}{\\sqrt{2}C_Q} = \\frac{T\\sqrt{DL}}{P\\sqrt{2\\rho}}$$"
   ]
  },
  {
   "cell_type": "markdown",
   "id": "91b51207",
   "metadata": {},
   "source": [
    "From the above expression, a casual observer might be mislead into thinking that a higher $DL$ is desirable since it leads to a higher FM."
   ]
  },
  {
   "cell_type": "markdown",
   "id": "1146d8e5",
   "metadata": {},
   "source": [
    "## "
   ]
  },
  {
   "cell_type": "markdown",
   "id": "547051b6",
   "metadata": {},
   "source": [
    "Airfoils tend to have best aerodynamic efficiency at a given angle of attack where the L/D is highest. Ideally, a rotor with every section operating at its corresponding best L/D would be best "
   ]
  },
  {
   "cell_type": "code",
   "execution_count": null,
   "id": "35eba365",
   "metadata": {},
   "outputs": [],
   "source": []
  },
  {
   "cell_type": "markdown",
   "id": "8c9e0b7f",
   "metadata": {},
   "source": [
    "$$\n",
    "F M= \\displaystyle \\frac{C_{P_{\\text{ideal}}}}{C_{P_{i}}+C_{P_{0}}} =\\frac{ \\lambda_h C_T} {\\kappa\\lambda_h C_T + \\frac {\\sigma C_d0}{8}} = \\frac{ 1}{\\kappa+ \\frac{ 3}{4} \\frac{C_{d0} / C_l}{\\lambda_h} }\n",
    "$$"
   ]
  },
  {
   "cell_type": "markdown",
   "id": "1e8ffde2",
   "metadata": {},
   "source": [
    "$\\kappa$ is a manifestation of cumulative loss-inducing physical effects that have been ignored and is a property of the rotor. In general, this takes a value of 1.10-1.15. Assuming $\\lambda_h$ is given by the momentum theory result, then a higher figure of merit is simply obtained by having blade sections composed of airfoils with higher L/D. Based on this reasoning, FM can be mistaken for overall rotor thrust efficiency just as how L/D is the aerodynamic efficieny of an airfoil. However,...  "
   ]
  },
  {
   "cell_type": "markdown",
   "id": "45236750",
   "metadata": {},
   "source": [
    "<center>\n",
    "    <img src=\"../../assets/P152_2_2.png\" class=\"medium\">\n",
    "    <p class=\"caption\"> FM of some well known designs <a href=\"https://www.google.com/search?q=AN+ABC+STATUS+REPORT&oq=AN+ABC+STATUS+REPORT&aqs=chrome..69i57.709j0j7&sourceid=chrome&ie=UTF-8\">[source] </a></p>\n",
    "\n",
    "</center>\n"
   ]
  },
  {
   "cell_type": "markdown",
   "id": "15dc0743",
   "metadata": {},
   "source": [
    "## Importance of disk loading"
   ]
  },
  {
   "cell_type": "code",
   "execution_count": null,
   "id": "df3868a8",
   "metadata": {},
   "outputs": [],
   "source": []
  },
  {
   "cell_type": "code",
   "execution_count": null,
   "id": "1ef4cb04",
   "metadata": {},
   "outputs": [],
   "source": []
  },
  {
   "cell_type": "code",
   "execution_count": null,
   "id": "d18c2afc",
   "metadata": {},
   "outputs": [],
   "source": []
  }
 ],
 "metadata": {
  "hide_input": false,
  "kernelspec": {
   "display_name": "Python 3 (ipykernel)",
   "language": "python",
   "name": "python3"
  },
  "language_info": {
   "codemirror_mode": {
    "name": "ipython",
    "version": 3
   },
   "file_extension": ".py",
   "mimetype": "text/x-python",
   "name": "python",
   "nbconvert_exporter": "python",
   "pygments_lexer": "ipython3",
   "version": "3.8.5"
  },
  "varInspector": {
   "cols": {
    "lenName": 16,
    "lenType": 16,
    "lenVar": 40
   },
   "kernels_config": {
    "python": {
     "delete_cmd_postfix": "",
     "delete_cmd_prefix": "del ",
     "library": "var_list.py",
     "varRefreshCmd": "print(var_dic_list())"
    },
    "r": {
     "delete_cmd_postfix": ") ",
     "delete_cmd_prefix": "rm(",
     "library": "var_list.r",
     "varRefreshCmd": "cat(var_dic_list()) "
    }
   },
   "types_to_exclude": [
    "module",
    "function",
    "builtin_function_or_method",
    "instance",
    "_Feature"
   ],
   "window_display": false
  }
 },
 "nbformat": 4,
 "nbformat_minor": 5
}
