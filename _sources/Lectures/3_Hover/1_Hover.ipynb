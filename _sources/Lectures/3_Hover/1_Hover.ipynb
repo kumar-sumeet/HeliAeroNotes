{
 "cells": [
  {
   "cell_type": "markdown",
   "id": "dfa8a569",
   "metadata": {
    "slideshow": {
     "slide_type": "slide"
    }
   },
   "source": [
    "# Hover"
   ]
  },
  {
   "cell_type": "markdown",
   "id": "156b09f4",
   "metadata": {
    "slideshow": {
     "slide_type": "-"
    }
   },
   "source": [
    "```{epigraph}\n",
    "An isolated rotor is difficult to simulate... the rotor community requires many more elements of the hovering rotorcraft to be reliably and swiftly simulated.\n",
    " \n",
    "```\n",
    "<p style=\"text-align:right\" > <a href=\"https://www.aiaa-hpw.org/hpw-vision\"> AIAA Rotorcraft Hover Prediction Workshop</a> </p>"
   ]
  },
  {
   "cell_type": "markdown",
   "id": "8b9fea8a",
   "metadata": {
    "slideshow": {
     "slide_type": "skip"
    }
   },
   "source": [
    "We used the momentum theory to analyse the thrust, power and induced velocity relationships for a rotor in hover and in climb. A ton of assumptions were introduced in order to be able to form nice closed-form analytical expressions that can be used to do quick back-of-the-envelope calculations easily. Even though the induced power factor $\\kappa$ was introduced for a more accurate estimate of induce power, by accounting for some of the effects not accounted for in momentum theory, the reality is far more complex and some of it is further discussed below. Suffice it to say that some of the brightest minds in the field of rotor aerodynamics get together on a regular basis at the AIAA conferences to share advancements that they've made towards accurately predicting every aspect of a hovering rotor using CFD from first principles. These include rotor power consumption, thrust generated, trim angles, tip vortex motion in wake etc. "
   ]
  },
  {
   "cell_type": "markdown",
   "id": "97eebb90",
   "metadata": {
    "slideshow": {
     "slide_type": "skip"
    }
   },
   "source": [
    "```{admonition} Ideal hover scenario\n",
    "The blade aerodynamics is steady in hover since no variation occurs over one rotor revolution. A specific amount of rotor collective is applied and the rotor cyclics are zero. The result is a net thrust vector that is along the rotor shaft. Consequently, zero pitch and roll moments are generated. \n",
    "```"
   ]
  },
  {
   "cell_type": "markdown",
   "id": "7f9970c3",
   "metadata": {
    "slideshow": {
     "slide_type": "skip"
    }
   },
   "source": [
    "```{note} Real hover scenario\n",
    "Helicopter center of gravity (CG) does not lie exactly below the rotor shaft. Fuel consumption, ingress/egress of equipment or passengers, payload drop etc. are some of the mechanisms via which CG might move about during hover. Even pilots shifting in their seats will affect the CG. Clearly CG directly below the rotor shaft is an unrealistic expection. So symmetric lift distribution over the rotor disk in hover is not viable. Uneven blockage effects from the fuselage, disturbance from the air, minor differences in blade construction (manufacturing defects) etc. exacerbate this situation. Additionally, the rotor shaft angle is tilted forward with respect to the fuselage in order to maintain a favorable fuselage attitude during high speed forward flight. During hover, the rotor disk needs to be tilted backwards, to account for the shaft tilt, and sidewards to account for the lateral force due to tail rotor thrust, so non-zero rotor cyclic angles become necessary in hover. \n",
    "``` "
   ]
  },
  {
   "cell_type": "markdown",
   "id": "8145fe81",
   "metadata": {
    "slideshow": {
     "slide_type": "slide"
    }
   },
   "source": [
    "## Definition"
   ]
  },
  {
   "cell_type": "markdown",
   "id": "e7b5985e",
   "metadata": {
    "slideshow": {
     "slide_type": "-"
    }
   },
   "source": [
    "How do you define the hover state? Does the helicopter in the video below hover at any time during the shown manuever?"
   ]
  },
  {
   "cell_type": "code",
   "execution_count": 12,
   "id": "d1b1cd3d",
   "metadata": {
    "hide_input": false,
    "scrolled": true,
    "slideshow": {
     "slide_type": "-"
    }
   },
   "outputs": [
    {
     "data": {
      "image/jpeg": "[encoded data removed]",
      "text/html": [
       "\n",
       "        <iframe\n",
       "            width=\"500\"\n",
       "            height=\"270\"\n",
       "            src=\"https://www.youtube.com/embed/Jk3HRrMhrjw\"\n",
       "            frameborder=\"0\"\n",
       "            allowfullscreen\n",
       "            \n",
       "        ></iframe>\n",
       "        "
      ],
      "text/plain": [
       "<IPython.lib.display.YouTubeVideo at 0x7fc2763bd790>"
      ]
     },
     "execution_count": 12,
     "metadata": {},
     "output_type": "execute_result"
    }
   ],
   "source": [
    "from IPython.display import YouTubeVideo\n",
    "YouTubeVideo('Jk3HRrMhrjw', width=500, height=270)"
   ]
  },
  {
   "cell_type": "markdown",
   "id": "08c8a8b7",
   "metadata": {
    "hide_input": true,
    "slideshow": {
     "slide_type": "fragment"
    }
   },
   "source": [
    "No. At no point during the maneuver shown does the free stream velocity become zero with respect to the helicopter."
   ]
  },
  {
   "cell_type": "markdown",
   "id": "c6a52c49",
   "metadata": {
    "slideshow": {
     "slide_type": "slide"
    }
   },
   "source": [
    "## Hover at different MTOW"
   ]
  },
  {
   "cell_type": "markdown",
   "id": "ef641d69",
   "metadata": {
    "slideshow": {
     "slide_type": "skip"
    }
   },
   "source": [
    "The maximum take-off weight (MTOW) of a given design can vary based on the amount of fuel and payload onboard. Clearly, even without considering the ability to achieve forward flight, a helicopter rotor has to be capable of producing varying amounts of thrust in order to balance the weight in these different scenarios. How is that achieved?\n",
    "\n",
    "A wing can be made to generate varying lift via a number of mechanisms-"
   ]
  },
  {
   "cell_type": "markdown",
   "id": "8ee558e7",
   "metadata": {
    "slideshow": {
     "slide_type": "fragment"
    }
   },
   "source": [
    "<div style=\"float:right; width:35%;\" >\n",
    "    <img src=\"../../assets/B28_fig1_12.png\" class=\"bih\" />\n",
    "    <p style=\"text-align:center; color:gray; font-size:16px;\"> Helicopter rotor blade pitch control via swashplate <a href=\"https://ntrs.nasa.gov/citations/19790013868\"> [source]</a>  </p>\n",
    "</div>\n",
    "\n",
    "- vary area\n",
    "    - change chord and/or radius\n",
    "    - feasible but not a practical option\n",
    "- vary dynamic pressure\n",
    "    - via RPM control\n",
    "    - helicopters have a fixed RPM though!\n",
    "- vary $\\alpha$\n",
    "    - no direct control over $\\alpha$ (due to $v_i$)\n",
    "    - done by controlling blade pitch"
   ]
  },
  {
   "cell_type": "markdown",
   "id": "df48d929",
   "metadata": {
    "slideshow": {
     "slide_type": "skip"
    }
   },
   "source": [
    "While discussing airfoil aerodynamics, it is common to speak of the angle of attack as if it is a variable one has direct control over. While this works in the context of 2D aerodynamics, in the case of 3D (finite-wing) aerodynamics effects at the wing tips (see the following section) render $\\alpha$ a byproduct of the aerodynamics and pitch angle serves as the more relevant control variable in its stead. Helicopter rotors control the amount of rotor thrust by changing the pitch angle of all the blades *collectively*. This is achieved by movement of the swashplate up and down along the shaft axis and the resulting pitch angle component is refered to simply as the **collective** and denoted $\\theta_0$. The pitching motion of the blades itself is referred to as **feathering** (motion)."
   ]
  },
  {
   "cell_type": "markdown",
   "id": "65f9863b",
   "metadata": {
    "slideshow": {
     "slide_type": "slide"
    }
   },
   "source": [
    "## Flowfield"
   ]
  },
  {
   "cell_type": "markdown",
   "id": "a92dc7af",
   "metadata": {
    "slideshow": {
     "slide_type": "skip"
    }
   },
   "source": [
    "The rotor wake discussed within the momentum theory model consisted of a uniform inflow velocity at the rotor disk and, correspondingly, also at every cross-section of the rotor streamtube. There were no additional aerodynamic *features* that were included because of the simplicity of the uniform pressure difference actuator disk model. In reality, a rotor is composed of discrete number of blades i.e. the lifting surfaces of the blades are finite and do not cover the entire rotor disk (as is implicitly assumed in the momentum theory approach). Additionaly, the rotor blades have a finite span that leads to critical phenomena occuring at the blade tips i.e. at the outboard edge of the rotor disk. The blade end towards the root cut-out region is not so relevant as will become clear."
   ]
  },
  {
   "cell_type": "markdown",
   "id": "70c21e5d",
   "metadata": {
    "cell_style": "center",
    "slideshow": {
     "slide_type": "-"
    }
   },
   "source": [
    "<div style=\"float:right; width:43%;\" >\n",
    "    <img src=\"../../assets/bo105_schlieren.jpeg\" class=\"big\" />\n",
    "    <p style=\"text-align:center; color:gray; font-size:16px;\"> Bo 105 rotor wake visualized using Schlieren method <a href=\"https://www.greencarcongress.com/2014/01/20140109-dlr.html\"> [source]</a>  </p>\n",
    "</div>\n",
    "\n",
    "- tip vortex roll up \n",
    "    - phenomena similar to fixed-wings\n",
    "    - stronger than fixed-wing cases\n",
    "    - blades generate most lift outboard\n",
    "- root vortex also exists but much weaker\n",
    "    - usually not even modelled \n",
    "- induced velocity $v_i$ is *due to* tip vortices\n",
    "    - Biot-Savart law"
   ]
  },
  {
   "cell_type": "markdown",
   "id": "a3e009cc",
   "metadata": {
    "slideshow": {
     "slide_type": "skip"
    }
   },
   "source": [
    "It was mentioned earlier that, much like fixed-wing aircraft, helicopter rotor blades are finite wings (i.e. have a finite span) and exhibit similar aerodynamic phenomena of vortex roll-up at the tip. This contributes to additional power consumption, within the momentum theory model, because the blades are aerodynamically less efficient due to the vortex roll-up phenomena. You can think of it as an equivalent reduction in the rotor radius but instead of using an equivalent rotor radius, that is smaller than the radius of the real rotor being modelled,  the effect is simply manifested via the $\\kappa$ parameter.  "
   ]
  },
  {
   "cell_type": "markdown",
   "id": "d9b510b2",
   "metadata": {
    "cell_style": "split",
    "slideshow": {
     "slide_type": "subslide"
    }
   },
   "source": [
    "\n",
    "<div style=\"float:left; \" >\n",
    "    <img src=\"../../assets/B0_3_12.png\" class=\"large\" />\n",
    "    <p style=\"text-align:left;font-size:16px; color:gray;\"> Rotor wake model using vortex theory (taken from Rotor Aeromechanics by Wayne Johnson) </p>\n",
    "</div>"
   ]
  },
  {
   "cell_type": "code",
   "execution_count": 13,
   "id": "7e24214b",
   "metadata": {
    "cell_style": "split",
    "hide_input": false,
    "scrolled": false,
    "slideshow": {
     "slide_type": "-"
    }
   },
   "outputs": [
    {
     "data": {
      "image/jpeg": "[encoded data removed]",
      "text/html": [
       "\n",
       "        <iframe\n",
       "            width=\"400\"\n",
       "            height=\"200\"\n",
       "            src=\"https://www.youtube.com/embed/JXkWSgU-CL0\"\n",
       "            frameborder=\"0\"\n",
       "            allowfullscreen\n",
       "            \n",
       "        ></iframe>\n",
       "        "
      ],
      "text/plain": [
       "<IPython.lib.display.YouTubeVideo at 0x7fc2763bdcd0>"
      ]
     },
     "execution_count": 13,
     "metadata": {},
     "output_type": "execute_result"
    }
   ],
   "source": [
    "from IPython.display import YouTubeVideo\n",
    "YouTubeVideo('JXkWSgU-CL0', width=400, height=200)"
   ]
  },
  {
   "cell_type": "code",
   "execution_count": 10,
   "id": "17659222",
   "metadata": {
    "cell_style": "split",
    "hide_input": false,
    "scrolled": true,
    "slideshow": {
     "slide_type": "-"
    }
   },
   "outputs": [
    {
     "data": {
      "image/jpeg": "[encoded data removed]",
      "text/html": [
       "\n",
       "        <iframe\n",
       "            width=\"400\"\n",
       "            height=\"200\"\n",
       "            src=\"https://www.youtube.com/embed/ViKYFsN3p24\"\n",
       "            frameborder=\"0\"\n",
       "            allowfullscreen\n",
       "            \n",
       "        ></iframe>\n",
       "        "
      ],
      "text/plain": [
       "<IPython.lib.display.YouTubeVideo at 0x7fc275b97940>"
      ]
     },
     "execution_count": 10,
     "metadata": {},
     "output_type": "execute_result"
    }
   ],
   "source": [
    "from IPython.display import YouTubeVideo\n",
    "YouTubeVideo('ViKYFsN3p24', width=400, height=200)"
   ]
  },
  {
   "cell_type": "code",
   "execution_count": 11,
   "id": "f3a45f40",
   "metadata": {
    "cell_style": "split",
    "hide_input": false,
    "scrolled": true,
    "slideshow": {
     "slide_type": "-"
    }
   },
   "outputs": [
    {
     "data": {
      "image/jpeg": "[encoded data removed]",
      "text/html": [
       "\n",
       "        <iframe\n",
       "            width=\"400\"\n",
       "            height=\"200\"\n",
       "            src=\"https://www.youtube.com/embed/lslarZiRJhg\"\n",
       "            frameborder=\"0\"\n",
       "            allowfullscreen\n",
       "            \n",
       "        ></iframe>\n",
       "        "
      ],
      "text/plain": [
       "<IPython.lib.display.YouTubeVideo at 0x7fc275bcf730>"
      ]
     },
     "execution_count": 11,
     "metadata": {},
     "output_type": "execute_result"
    }
   ],
   "source": [
    "from IPython.display import YouTubeVideo\n",
    "YouTubeVideo('lslarZiRJhg', width=400, height=200)"
   ]
  },
  {
   "cell_type": "markdown",
   "id": "4373e2d8",
   "metadata": {
    "slideshow": {
     "slide_type": "skip"
    }
   },
   "source": [
    "The right cylindrical wake model of a rotor was first proposed by Joukowsky as the case of an ideal model {cite}`BDI1`(Section 1.2). Such a wake structure is valid only in the limit of a lightly loaded rotor because otherwise wake contraction has to be accounted for in order to obtain accurate results. "
   ]
  },
  {
   "cell_type": "markdown",
   "id": "453ee9e2",
   "metadata": {
    "slideshow": {
     "slide_type": "skip"
    }
   },
   "source": [
    "'Free-wake' models are commonly used to model rotor tip vortices as shown below. There are many more solution strategies to model the effects of vortices trailing from the rotor blades and some of these are implemented in the rotor analysis codes such as CAMRAD II, RCAS, CHARM, Dymore etc. - these are just some of the standard codes used for rotorcraft analyses in industry and academia. The induced velocity, from these vortices, is calculated using the Biot-Savart law and gives a more accurate estimate compared to the annular momentum theory that was introduced in the BEMT chapter. It is worth noting the constriction of the rotor streamtube in the wake of the rotor. This constriction has been observed to occur for rotors in reality and is something that the momentum theory models as well.  "
   ]
  },
  {
   "cell_type": "markdown",
   "id": "2670e619",
   "metadata": {
    "slideshow": {
     "slide_type": "subslide"
    }
   },
   "source": [
    "<center>\n",
    "    <img src=\"../../assets/4blade_hover.gif\" class=\"medium\">\n",
    "    <p style=\"text-align:center; color:gray; font-size:16px;\"> Free-wake simulation of a 4 bladed rotor in hover flight </p>\n",
    "\n",
    "</center>"
   ]
  },
  {
   "cell_type": "markdown",
   "id": "0bf2323c",
   "metadata": {
    "slideshow": {
     "slide_type": "skip"
    }
   },
   "source": [
    "The above description of the effects of the trailing tip vortices on the induced velocity, and therefore on induced power itself, might make a casual observer think that a straightforward implementation of design solutions used on fixed-wing aircraft to minimize induced drag might work just as well for rotors. Bell Textron Inc has recently procured a <a href=\"https://patents.google.com/patent/US10625847B2/en\">patent</a> on that front but, as is true with any other patent application, there is limited supporting data provided whether the mechanism actually would perform its desired function without having any detrimental effects (viz. high vibration and high drag in forward flight). Forward flight performance is particularly relevant because induced power forms a smaller and smaller proportion of the overall power consumption as helicopter flight speed is increased."
   ]
  },
  {
   "cell_type": "markdown",
   "id": "d76d13ac",
   "metadata": {
    "slideshow": {
     "slide_type": "subslide"
    }
   },
   "source": [
    "<center>\n",
    "    <img src=\"../../assets/Bell_patent_splitwinglet.png\" class=\"medium\">\n",
    "    <p  style=\"font-size:16px; color:gray; text-align:center;\"> Bell patent: Split-winglet on rotor blades <a href=\"https://patents.google.com/patent/US10625847B2/en\">[source] </a></p>\n",
    "\n",
    "</center>"
   ]
  },
  {
   "cell_type": "markdown",
   "id": "5f5959ab",
   "metadata": {},
   "source": [
    "## Momentum theory meets vortex theory"
   ]
  },
  {
   "cell_type": "markdown",
   "id": "5ec60b3e",
   "metadata": {},
   "source": [
    "Ths abstraction of the rotor as an actuator disk proposed by Froude was not immediately apparent to folks studying rotor/propeller flows during the early 20th century and indeed it took vortex theory contribution from  to {cite}`BDI1`(Section 1.2). Here the familiar horseshoe vortex analysis approach of fixed-wings was applied to rotating wings"
   ]
  },
  {
   "cell_type": "markdown",
   "id": "5e5008f2",
   "metadata": {},
   "source": [
    "The schematics below represent the vortex models based on the Joukowsky and Betz, respectively."
   ]
  },
  {
   "cell_type": "markdown",
   "id": "6c912ca5",
   "metadata": {},
   "source": [
    "<div class=\"image-grid2\">\n",
    "    <img  src=\"../../assets/BDI1_Fig11a.png\" class=\"small\"/>\n",
    "    <img  src=\"../../assets/BDI1_Fig11b.png\" class=\"small\" />\n",
    "</div>\n",
    "\n",
    "<div class=\"image-grid2\">\n",
    "  <p style=\"font-size:16px; color:gray; text-align:left;\"> BERP rotor <a href=\"https://repository.tudelft.nl/islandora/object/uuid%3A45821f64-7948-4aa7-9753-16282e61671e\"> [source]</a></p>\n",
    "  <p style=\"font-size:16px; color:gray; text-align:left;\"> Blue Edge rotor <a href=\"https://repository.tudelft.nl/islandora/object/uuid%3A45821f64-7948-4aa7-9753-16282e61671e\"> [source]</a></p>\n",
    "</div>"
   ]
  },
  {
   "cell_type": "markdown",
   "id": "5ff94e0b",
   "metadata": {},
   "source": [
    "{cite}`BDI1`((Section ...) show that in the limit of an infinite number of blades and rotating at infinite speed, either models converge to the momentum theory results. So indeed the real rotor, modelled here using *real* effects such as vorticity effects of blades, could be modelled perfectly using momentum theory if only in a slightly unrealistic limiting case. Of course there are no rotors with an infinite number of blades that spin an infinite speed, so clearly the momentum theory result would fall short of predicting reality but.... "
   ]
  },
  {
   "cell_type": "markdown",
   "id": "9e3cc562",
   "metadata": {},
   "source": [
    "## Blade-vortex interaction"
   ]
  },
  {
   "cell_type": "markdown",
   "id": "c444bbba",
   "metadata": {
    "slideshow": {
     "slide_type": "skip"
    }
   },
   "source": [
    "In order to accurately model a rotor in hover, the effect of the tip vortices needs to be captured with a high degree of accuracy. These strong concentrated *tornadoes* of air have a significant influence on the local aerodynamics at each blade section. This influence reduces with the distance from the tip vortex but that doesn't mean that the inboard sections are shielded from this effect. As is clear from the foregoing discussion, tip vortices from preceding blades can pass close to the inboard sections of the following blades. In extreme scenarios like when the helicopter suddenly pitches during hover or during a descent maneuver, the blades end up passing very close to or even *slicing* through the tip vortices from preceding blades. This phenomenon is refered to as BVI (blade vortex interaction) and is a source of high vibrations felt within the helicopter fuselage and high noise radiation. Quite simply, this is due to sudden loading changes that occur on the blade as shown in the figure below."
   ]
  },
  {
   "cell_type": "markdown",
   "id": "e1d33bac",
   "metadata": {
    "slideshow": {
     "slide_type": "subslide"
    }
   },
   "source": [
    "<center>\n",
    "    <img src=\"../../assets/B0_fig9_22.png\" class=\"big\">\n",
    "    <p  style=\"font-size:16px; color:gray; text-align:center;\"> Schematic of blade-vortex interaction and the induce loading <a href=\"https://www.cambridge.org/core/books/rotorcraft-aeromechanics/6DE729BB2AFED9F94E59823086568C1E\">[source] </a></p>\n",
    "\n",
    "</center>"
   ]
  },
  {
   "cell_type": "markdown",
   "id": "cda764d1",
   "metadata": {
    "slideshow": {
     "slide_type": "skip"
    }
   },
   "source": [
    "The velocity field within a fluid satisfies the following equations related to the rate of expansion of the fluid and local vorticity ($\\boldsymbol{\\omega}$), respectively -"
   ]
  },
  {
   "cell_type": "markdown",
   "id": "1f308ce4",
   "metadata": {
    "slideshow": {
     "slide_type": "-"
    }
   },
   "source": [
    "$$\\nabla \\cdot \\boldsymbol{u}=\\Delta$$"
   ]
  },
  {
   "cell_type": "markdown",
   "id": "9053afdb",
   "metadata": {
    "slideshow": {
     "slide_type": "fragment"
    }
   },
   "source": [
    "$$\\quad \\nabla \\times \\boldsymbol{u}=\\boldsymbol{\\omega} $$"
   ]
  },
  {
   "cell_type": "markdown",
   "id": "68162e32",
   "metadata": {
    "slideshow": {
     "slide_type": "skip"
    }
   },
   "source": [
    "Based on the <a href=\"https://en.wikipedia.org/wiki/Helmholtz_decomposition\"> Helmhlotz theorem</a>, the velocity field can always be represented as a sum of a divergence of a scalar potential function ($\\phi$) and a solenoidal field ($\\boldsymbol{B}$) as - "
   ]
  },
  {
   "cell_type": "markdown",
   "id": "c6587ff7",
   "metadata": {},
   "source": [
    "$$\\boldsymbol{u} = \\nabla\\boldsymbol{\\phi} + \\nabla \\times \\boldsymbol{B}$$"
   ]
  },
  {
   "cell_type": "markdown",
   "id": "3a33135c",
   "metadata": {
    "slideshow": {
     "slide_type": "skip"
    }
   },
   "source": [
    "In case of an incompressible fluid, the following equations are satisifed - "
   ]
  },
  {
   "cell_type": "markdown",
   "id": "76f4a131",
   "metadata": {},
   "source": [
    "$$\\nabla \\cdot \\boldsymbol{u}=0$$"
   ]
  },
  {
   "cell_type": "markdown",
   "id": "878991c0",
   "metadata": {},
   "source": [
    "$$\\quad \\nabla \\times \\boldsymbol{u}=\\boldsymbol{\\omega} \\Rightarrow  \\nabla \\cdot \\boldsymbol{\\omega}=0$$"
   ]
  },
  {
   "cell_type": "markdown",
   "id": "09e77a52",
   "metadata": {},
   "source": [
    "In which case, the velocity field is given by the equation - "
   ]
  },
  {
   "cell_type": "markdown",
   "id": "b40e21c1",
   "metadata": {},
   "source": [
    "$$\\boldsymbol{u} = \\nabla \\times \\boldsymbol{B}$$"
   ]
  },
  {
   "cell_type": "markdown",
   "id": "4e6b1407",
   "metadata": {},
   "source": [
    "$$ \\Rightarrow \\quad \\nabla \\times \\boldsymbol{u}=\\boldsymbol{\\omega} = \\nabla \\times \\nabla \\times \\boldsymbol{B}$$"
   ]
  },
  {
   "cell_type": "markdown",
   "id": "3cb2a9b2",
   "metadata": {},
   "source": [
    "{cite}`BA2`(Section 2.4)"
   ]
  },
  {
   "cell_type": "markdown",
   "id": "45ad4d2a",
   "metadata": {},
   "source": []
  },
  {
   "cell_type": "markdown",
   "id": "d98448b2",
   "metadata": {},
   "source": []
  },
  {
   "cell_type": "markdown",
   "id": "f7f0840b",
   "metadata": {},
   "source": []
  },
  {
   "cell_type": "markdown",
   "id": "50c8c04a",
   "metadata": {},
   "source": [
    "The Poisson equation can be solved using the Green's function approach"
   ]
  },
  {
   "cell_type": "markdown",
   "id": "28e4b0d6",
   "metadata": {},
   "source": [
    "$$\\mathbf{u}_v=-\\frac{\\kappa}{4 \\pi} \\oint \\frac{\\mathbf{s} \\times d \\mathbf{l}\\left(\\mathbf{x}^{\\prime}\\right)}{s^3}$$"
   ]
  },
  {
   "cell_type": "markdown",
   "id": "a14df54b",
   "metadata": {},
   "source": []
  },
  {
   "cell_type": "markdown",
   "id": "1cf83512",
   "metadata": {},
   "source": [
    "Biot Savart Law"
   ]
  },
  {
   "cell_type": "markdown",
   "id": "79d574f2",
   "metadata": {},
   "source": [
    "Idealised vs real vortices"
   ]
  },
  {
   "cell_type": "markdown",
   "id": "101a7505",
   "metadata": {},
   "source": []
  },
  {
   "cell_type": "markdown",
   "id": "d2497ca4",
   "metadata": {
    "slideshow": {
     "slide_type": "slide"
    }
   },
   "source": [
    "## \"Steady\" aerodynamics hover"
   ]
  },
  {
   "cell_type": "markdown",
   "id": "bc965f19",
   "metadata": {
    "slideshow": {
     "slide_type": "skip"
    }
   },
   "source": [
    "It might appear that the hover, given the symmetry of flow conditions and their steady state nature, would be computationally the easiest flight state to model. However, the simple fact remains that the trailing tip vortices do not quickly convect away from the rotor (how would they? small $v_i$ is desirable, remember), unlike in fixed-wing flight. Consequently accounting for the influence of tip vortices on rotor blades is of paramount importance and small deficiencies in the modelling strategies can lead to inaccurate vortex strengths and/or trajectories. This in turn has an influence on the blade loads and vice versa - local blade aerodynamics affects the wake and the wake influences the blade aerodynamics. \n",
    "\n",
    "The following show results from a rotor hover test carried out on a calm night on a whirl tower. The variations registered in the measurements suggest that slight unsteadiness associated with evolution of the tip vortices can have a non-negligible influence on the rotor aerodynamics. Fluctuations of ~1% are not negligible and a difference of 0.015 in FM distinguishes a better rotor from a good one. "
   ]
  },
  {
   "cell_type": "markdown",
   "id": "5865de9c",
   "metadata": {
    "slideshow": {
     "slide_type": "-"
    }
   },
   "source": [
    "<center>\n",
    "    <img src=\"../../assets/Prouty_I_10-2.png\" class=\"big\">\n",
    "    <p style=\"font-size:16px; color:gray; text-align:center;\" >Variability in rotor performance in hover [taken from Helicopter Aerodynamics I by RW Prouty] </p>\n",
    "</center>"
   ]
  },
  {
   "cell_type": "markdown",
   "id": "61a95544",
   "metadata": {
    "slideshow": {
     "slide_type": "skip"
    }
   },
   "source": [
    "When analysing a coaxial rotor design in hover the situation is even worse. Due to the passing of lifting surfaces (i.e. blades) in close proximity to each other, the rotors no longer behave as the sum of two isolated rotors.   "
   ]
  },
  {
   "cell_type": "markdown",
   "id": "cfb1c48b",
   "metadata": {
    "slideshow": {
     "slide_type": "subslide"
    }
   },
   "source": [
    "<div class=\"image-grid\">\n",
    "    <img  src=\"../../assets/X2.jpeg\" class=\"big\"/>\n",
    "    <img  src=\"../../assets/Raider.jpeg\" class=\"big\"/>\n",
    "    <img  src=\"../../assets/Defiant.jpg\" class=\"big\" />\n",
    "</div>\n",
    "\n",
    "<div class=\"image-grid\">\n",
    "  <p style=\"font-size:16px; color:gray; text-align:left;\"> Sikorsky X2 <a href=\"https://www.wired.com/2010/08/sikorsky-x2-breaks-helicopter-speed-record/\"> [source]</a></p>   \n",
    "  <p style=\"font-size:16px; color:gray; text-align:left;\"> Sikorsky S-97 Raider <a href=\"https://en.wikipedia.org/wiki/Sikorsky_S-97_Raider#/media/File:Sikorsky_S-97_Raider_in_flight.jpg\"> [source]</a></p>\n",
    "  <p style=\"font-size:16px; color:gray; text-align:left;\"> Sikorsky Boeing SB-1 Defiant <a href=\"https://en.wikipedia.org/wiki/Sikorsky%E2%80%93Boeing_SB-1_Defiant#/media/File:Sikorsky%E2%80%93Boeing_SB-1_Defiant_(cropped).jpg\"> [source]</a></p>\n",
    "</div>"
   ]
  },
  {
   "cell_type": "markdown",
   "id": "127fa06a",
   "metadata": {
    "slideshow": {
     "slide_type": "subslide"
    }
   },
   "source": [
    "<div style=\"float:right; width:43%;\" >\n",
    "    <img src=\"../../assets/AT1_6_6.png\" class=\"big\" />\n",
    "    <p style=\"text-align:center; color:gray; font-size:16px;\"> Sikorsky X2-like rotor in hover <a href=\"https://deepblue.lib.umich.edu/handle/2027.42/163227\"> [source]</a>\n",
    "  </p>\n",
    "</div>\n",
    "\n",
    "- load oscillations due to blade passage \n",
    "- 2$N_b$ blade passes per revolution\n",
    "    - vibration at 2$N_b$/rev\n",
    "- oscillation $\\approx 20\\%$ of mean thrust"
   ]
  },
  {
   "cell_type": "markdown",
   "id": "195eb2f5",
   "metadata": {
    "slideshow": {
     "slide_type": "skip"
    }
   },
   "source": [
    "```{admonition} Aside\n",
    "Do you think the fluctuating normal force coefficient CFz, as shown in the figure, generated by each rotor can be obtained using any of the theories that we have learnt so far in the course?\n",
    "```"
   ]
  },
  {
   "cell_type": "markdown",
   "id": "4d7a7995",
   "metadata": {
    "slideshow": {
     "slide_type": "skip"
    }
   },
   "source": [
    "Such high thrust oscillations are intrinsic to coaxial rotor designs. High vibrations were one of the reasons that Sikorsky <a href=\"https://www.sikorskyarchives.com/S-69%20(XH-59A).php\">discontinued the XH-59A program </a> (precursor to the succesful X2 demonstrator). They still exist on the <a href=\"https://en.wikipedia.org/wiki/Sikorsky_S-97_Raider\">Raider </a> and <a href=\"https://en.wikipedia.org/wiki/Sikorsky%E2%80%93Boeing_SB-1_Defiant\">Defiant </a> designs, currently being extensively tested as a viable proposal to replace ageing helicopter fleet in the US armed forces, but are taken care of using vibration supressors."
   ]
  },
  {
   "cell_type": "markdown",
   "id": "5a56feae",
   "metadata": {
    "slideshow": {
     "slide_type": "skip"
    }
   },
   "source": [
    "Another aspect of rotor design worth mentioning here is from the structural design point of view. Consider for e.g. the cases of the Bo 105 rotor ($R= 4.912$ m, blade weight $m_b\\approx 45$ kg, and $\\Omega = 44.505$ rad/s) and the UH60 rotor ($R= 8.178$ m, blade weight $m_b\\approx 95$ kg, and $\\Omega = 27.017$ rad/s). The former is a 2.5 ton helicopter and the latter a 10 ton design. "
   ]
  },
  {
   "cell_type": "markdown",
   "id": "7835a6cd",
   "metadata": {
    "slideshow": {
     "slide_type": "skip"
    }
   },
   "source": [
    "\\begin{align}\n",
    "\\text{Bo 105 hinge force} &\\approx m_b*\\Omega^2 *(R/2)\\\\\n",
    "&= 218906 \\quad \\text{N} \\\\\n",
    "\\text{UH60 hinge force} &\\approx m_b*\\Omega^2 *(R/2)\\\\\n",
    "&= 283540 \\quad \\text{N} \\\\\n",
    "\\end{align}"
   ]
  },
  {
   "cell_type": "markdown",
   "id": "2f7a225f",
   "metadata": {
    "slideshow": {
     "slide_type": "skip"
    }
   },
   "source": [
    "The hinge where the blades are attached to the rotor head experience incredibly high radial forces because of centrifugal loads on the blades. If the blades are all exactly alike, these high loads are not of huge concern because they would be balanced by an equal centrifugal force on the other blades. For this reason, helicopter rotors are, much like propellers or turbine rotors, precisely built to specifications and with minimal engineering tolerances so that each blade is alike structurally and aerodynamically. However, during manufacturing slight mismatches do occur in structural mass distribution, for e.g., that lead to unbalanced forces acting on the rotor shaft resulting in the vibration felt within the fuselage. An ideal computational analysis of a rotor in hover - i.e. blades with matching properties and assuming azimuthal symmetry - will result in the induced vibration by the rotor being zero."
   ]
  }
 ],
 "metadata": {
  "celltoolbar": "Slideshow",
  "hide_input": false,
  "kernelspec": {
   "display_name": "Python 3 (ipykernel)",
   "language": "python",
   "name": "python3"
  },
  "language_info": {
   "codemirror_mode": {
    "name": "ipython",
    "version": 3
   },
   "file_extension": ".py",
   "mimetype": "text/x-python",
   "name": "python",
   "nbconvert_exporter": "python",
   "pygments_lexer": "ipython3",
   "version": "3.8.5"
  },
  "rise": {
   "autolaunch": false,
   "backimage": "../../assets/tum_bg_top_right.png",
   "enable_chalkboard": true,
   "footer": "Sumeet Kumar, PhD candidate",
   "scroll": true
  },
  "varInspector": {
   "cols": {
    "lenName": 16,
    "lenType": 16,
    "lenVar": 40
   },
   "kernels_config": {
    "python": {
     "delete_cmd_postfix": "",
     "delete_cmd_prefix": "del ",
     "library": "var_list.py",
     "varRefreshCmd": "print(var_dic_list())"
    },
    "r": {
     "delete_cmd_postfix": ") ",
     "delete_cmd_prefix": "rm(",
     "library": "var_list.r",
     "varRefreshCmd": "cat(var_dic_list()) "
    }
   },
   "types_to_exclude": [
    "module",
    "function",
    "builtin_function_or_method",
    "instance",
    "_Feature"
   ],
   "window_display": false
  }
 },
 "nbformat": 4,
 "nbformat_minor": 5
}
