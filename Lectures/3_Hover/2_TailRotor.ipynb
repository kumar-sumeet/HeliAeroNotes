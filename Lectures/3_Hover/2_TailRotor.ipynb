{
 "cells": [
  {
   "cell_type": "markdown",
   "id": "4611c317",
   "metadata": {
    "slideshow": {
     "slide_type": "slide"
    }
   },
   "source": [
    "# Tail Rotor"
   ]
  },
  {
   "cell_type": "markdown",
   "id": "341e2c84",
   "metadata": {
    "slideshow": {
     "slide_type": "skip"
    }
   },
   "source": [
    "Quite simply, the reaction from rotating the main rotor (CCW, say) has the tendency to spin the rest of the helicopter in the opposite direction (CW). In forward flight, the vertical tail surface can be succesfully used to generate enough force (or moment about the helicopter CG) so as to counteract this (CW) moment. However, in hover or low speed flight a different mechanism is needed to balance the overall yaw moments for safe and sustained operation."
   ]
  },
  {
   "cell_type": "markdown",
   "id": "df056b89",
   "metadata": {
    "slideshow": {
     "slide_type": "-"
    }
   },
   "source": [
    "<center>\n",
    "    <img src=\"../../assets/UH60.jpeg\" />\n",
    "    <p style=\"font-size:16px; color:gray; text-align:center;\"> Conventional design UH60 helicopter<a href=\"https://en.wikipedia.org/wiki/Sikorsky_UH-60_Black_Hawk#/media/File:Jordanian_Air_Force_UH-60_Black_Hawk_helicopter_(cropped).jpg\"> [source]</a>)</p>\n",
    "</center>"
   ]
  },
  {
   "cell_type": "markdown",
   "id": "8887b403",
   "metadata": {
    "slideshow": {
     "slide_type": "skip"
    }
   },
   "source": [
    "Early designs focussed on different multi-rotor configurations and some of these are shown below (refered to by the name of their inventor and the country). They were all experimental prototypes and were all abandoned because the configurations were mechanical too complex to be reliable for the technology at the time. Ultimately the main rotor + tail rotor design from Igor Sikorsky became the norm. "
   ]
  },
  {
   "cell_type": "markdown",
   "id": "72fab96a",
   "metadata": {
    "slideshow": {
     "slide_type": "subslide"
    }
   },
   "source": [
    "<div class=\"image-grid2\">\n",
    "    <img  src=\"../../assets/old_multirotor_1.png\" class=\"big\"/>\n",
    "    <img  src=\"../../assets/old_multirotor_2.png\" class=\"big\"/>\n",
    "</div>\n",
    "\n",
    "<div class=\"image-grid2\">\n",
    "  <p   > de Bothezat (USA, 1922) <a href=\"https://www.cambridge.org/core/books/rotorcraft-aeromechanics/6DE729BB2AFED9F94E59823086568C1E\"> [source]</a>\n",
    "  </p>   \n",
    "  <p  > Pescara (Spain, 1924) <a href=\"https://www.cambridge.org/core/books/rotorcraft-aeromechanics/6DE729BB2AFED9F94E59823086568C1E\"> [source]</a>\n",
    "  </p> \n",
    "</div>\n",
    "\n",
    "\n",
    "<div class=\"image-grid2\">\n",
    "    <img  src=\"../../assets/old_multirotor_3.png\" class=\"big\"/>\n",
    "    <img  src=\"../../assets/old_multirotor_4.png\" class=\"big\"/>\n",
    "</div>\n",
    "\n",
    "<div class=\"image-grid2\">\n",
    "  <p   > Oemichen (France, 1924) <a href=\"https://www.cambridge.org/core/books/rotorcraft-aeromechanics/6DE729BB2AFED9F94E59823086568C1E\"> [source]</a>\n",
    "  </p>   \n",
    "  <p  > d Ascenio (Italy, 1930) <a href=\"https://www.cambridge.org/core/books/rotorcraft-aeromechanics/6DE729BB2AFED9F94E59823086568C1E\"> [source]</a>\n",
    "  </p> \n",
    "</div>"
   ]
  },
  {
   "cell_type": "markdown",
   "id": "6e20b9c6",
   "metadata": {
    "slideshow": {
     "slide_type": "skip"
    }
   },
   "source": [
    "The initial resitance to the main rotor + tail rotor configuration is totally understandable, after all why should energy be expended separately just to balance the torque!? The tail rotor contributes nothing towards thrust generation in hover or forward flight in order to counter the drag and weight of the aircraft - unless canted, the tail rotor of the UH60 is canted by 20 deg which helps it to contribute to lift by about 181 kg {cite}`U19`. The tail rotor of the experimental prototype RAH-66 was similarly canted."
   ]
  },
  {
   "cell_type": "markdown",
   "id": "ad2fb7c7",
   "metadata": {
    "slideshow": {
     "slide_type": "subslide"
    }
   },
   "source": [
    "<div class=\"image-grid2\">\n",
    "    <img src=\"../../assets/UH60_tailcant.jpg\" class=\"medium\">\n",
    "    <img  src=\"../../assets/Comanche.png\" class=\"size_options\"/>\n",
    "   \n",
    "</div>\n",
    "\n",
    "<div class=\"image-grid2\">\n",
    "    <p style=\"font-size:16px; color:gray; text-align:center;\" > UH-60 <a href=\"https://commons.wikimedia.org/wiki/File:MH-60M_DAP_firing_2.75_inch_rockets_at_a_test_ground.jpg\"> [source]</a></p>  \n",
    "    <p style=\"font-size:16px; color:gray; text-align:center;\"> Boeing-Sikorsky RAH-66 Comanche <a href=\"https://vtol.org/images/dmImage/SourceImage/2018-January.JPG\"> [source]</a>\n",
    "  </p> \n",
    "</div>"
   ]
  },
  {
   "cell_type": "markdown",
   "id": "bc4e73cc",
   "metadata": {
    "slideshow": {
     "slide_type": "slide"
    }
   },
   "source": [
    "# Who needs a *tail* rotor!?"
   ]
  },
  {
   "cell_type": "markdown",
   "id": "9762e6a3",
   "metadata": {
    "slideshow": {
     "slide_type": "skip"
    }
   },
   "source": [
    "Alternate mechanisms or arrangments of rotors are possible in order to have trimmed rotorcraft flight. For e.g., instead of thrust generated using a tail-rotor, compressed air can be pushed out through slots over the tail boom and is referred to as the NOTAR (\"no tail rotor\") concept. The Matra-Cantinieau \"Bamby-Faon\" was one of the early designs that implemented such a mechanism. Alternately, a propeller placed on one side of the rotorcraft can help achieve moment balance much like a tail rotor - see Fairey Gyrodyne figure below. The advantage here is that the thrust generated by the propeller can additionally assist the main rotor in forward flight."
   ]
  },
  {
   "cell_type": "markdown",
   "id": "64cfdc03",
   "metadata": {
    "slideshow": {
     "slide_type": "-"
    }
   },
   "source": [
    "<div class=\"image-grid2\">\n",
    "    <img src=\"../../assets/bamby_faon.png\" class=\"medium\">\n",
    "    <img  src=\"../../assets/FaireyGyrodyne.jpeg\" class=\"medium\"/>\n",
    "</div>\n",
    "\n",
    "<div class=\"image-grid2\">\n",
    "    <p class=\"caption\"> Matra-Cantinieau \"Bamby-Faon\" <a href=\"https://vtol.org/qr/may-2021\"> [source]</a>\n",
    "  </p>\n",
    "    <p > Fairey Gyrodyne <a href=\"https://en.wikipedia.org/wiki/Fairey_FB-1_Gyrodyne#/media/File:Fairey_FB-1_Gyrodyne.jpg\"> [source]</a>\n",
    "    </p>\n",
    "</div>"
   ]
  },
  {
   "cell_type": "markdown",
   "id": "84e0479f",
   "metadata": {
    "slideshow": {
     "slide_type": "skip"
    }
   },
   "source": [
    "In case there is no torque necessary to drive the rotor, i.e. the power needed to drive the rotor is obtained via alternate means, then the anti-torque mechanism can be entirely done away with. The Fairey Rotordyne was one such design where tip-jets provided the reactionary forces in order to turn the main rotor. In addition to assisting the rotor in forward flight, the pusher propellers on this design ensured controllability in all regimes of flight - yaw control in low-speed flight would be difficult, if not impossible, with just a main rotor driven by tip-jets and no tail rotor. "
   ]
  },
  {
   "cell_type": "markdown",
   "id": "5f9d1ba9",
   "metadata": {
    "slideshow": {
     "slide_type": "subslide"
    }
   },
   "source": [
    "<div class=\"image-grid2\">\n",
    "    <img src=\"../../assets/Add17.png\" class=\"medium\">\n",
    "    <img src=\"../../assets/FaireyRotodyne.jpeg\" class=\"medium\">\n",
    "</div>\n",
    "\n",
    "<div class=\"image-grid2\">\n",
    "    <p > Schematic of a \"tip thrust-driven\" rotor <a href=\"https://vtol.org/store/product/limitations-in-helicopter-design-6258.cfm\"> [source]</a> \n",
    "    </p>\n",
    "    <p > Fairey Rotodyne <a href=\"https://en.wikipedia.org/wiki/Fairey_Rotodyne#/media/File:SFF_002-1055526_Fairey_Rotodyne.jpg\"> [source]</a>     \n",
    "    </p>\n",
    "</div>\n"
   ]
  },
  {
   "cell_type": "markdown",
   "id": "432c982f",
   "metadata": {
    "slideshow": {
     "slide_type": "slide"
    }
   },
   "source": [
    "# Surviving loss of tail rotor "
   ]
  },
  {
   "cell_type": "markdown",
   "id": "0dceef8f",
   "metadata": {
    "slideshow": {
     "slide_type": "-"
    }
   },
   "source": [
    "- Survivability or continued control of helicopter depends on \n",
    "    - flight condition when loss happens\n",
    "    - degree of damage/loss and helicopter design to cope with that loss"
   ]
  },
  {
   "cell_type": "markdown",
   "id": "ffdd9d52",
   "metadata": {
    "slideshow": {
     "slide_type": "fragment"
    }
   },
   "source": [
    "- Loss at high speed\n",
    "    - Large vertical stabilizers allow continued operation using a side slip\n",
    "    - This has to be balanced with need for high speed sideward flight\n",
    "        - issue in the Apache program {cite}`B32_1`(chapter 40)"
   ]
  },
  {
   "cell_type": "markdown",
   "id": "f916c181",
   "metadata": {
    "slideshow": {
     "slide_type": "skip"
    }
   },
   "source": [
    "- Loss at low speed or hover\n",
    "    - Autorotation[^autorotation_conditionsapply]\n",
    "\n",
    "[^autorotation_conditionsapply]: autorotation maneuver cannot be safely performed from every point within the operational envelope of the helicopter"
   ]
  },
  {
   "cell_type": "markdown",
   "id": "1403cb5c",
   "metadata": {
    "slideshow": {
     "slide_type": "slide"
    }
   },
   "source": [
    "# Single rotor design possible?"
   ]
  },
  {
   "cell_type": "code",
   "execution_count": 2,
   "id": "685ff0b9",
   "metadata": {
    "hide_input": true,
    "slideshow": {
     "slide_type": "-"
    }
   },
   "outputs": [
    {
     "data": {
      "image/jpeg": "[encoded data removed]",
      "text/html": [
       "\n",
       "        <iframe\n",
       "            width=\"1000\"\n",
       "            height=\"600\"\n",
       "            src=\"https://www.youtube.com/embed/ycUOa6GbaKA\"\n",
       "            frameborder=\"0\"\n",
       "            allowfullscreen\n",
       "            \n",
       "        ></iframe>\n",
       "        "
      ],
      "text/plain": [
       "<IPython.lib.display.YouTubeVideo at 0x7f7f47950670>"
      ]
     },
     "execution_count": 2,
     "metadata": {},
     "output_type": "execute_result"
    }
   ],
   "source": [
    "from IPython.display import YouTubeVideo\n",
    "YouTubeVideo('ycUOa6GbaKA', width=1000, height=600)"
   ]
  }
 ],
 "metadata": {
  "celltoolbar": "Slideshow",
  "hide_input": false,
  "kernelspec": {
   "display_name": "Python 3 (ipykernel)",
   "language": "python",
   "name": "python3"
  },
  "language_info": {
   "codemirror_mode": {
    "name": "ipython",
    "version": 3
   },
   "file_extension": ".py",
   "mimetype": "text/x-python",
   "name": "python",
   "nbconvert_exporter": "python",
   "pygments_lexer": "ipython3",
   "version": "3.8.5"
  },
  "latex_envs": {
   "LaTeX_envs_menu_present": true,
   "autoclose": true,
   "autocomplete": true,
   "bibliofile": "biblio.bib",
   "cite_by": "apalike",
   "current_citInitial": 1,
   "eqLabelWithNumbers": false,
   "eqNumInitial": 1,
   "hotkeys": {
    "equation": "Ctrl-E",
    "itemize": "Ctrl-I"
   },
   "labels_anchors": false,
   "latex_user_defs": false,
   "report_style_numbering": false,
   "user_envs_cfg": false
  },
  "rise": {
   "autolaunch": false,
   "backimage": "../../assets/tum_bg_top_right.png",
   "enable_chalkboard": true,
   "footer": "Sumeet Kumar, PhD candidate",
   "scroll": true
  },
  "varInspector": {
   "cols": {
    "lenName": 16,
    "lenType": 16,
    "lenVar": 40
   },
   "kernels_config": {
    "python": {
     "delete_cmd_postfix": "",
     "delete_cmd_prefix": "del ",
     "library": "var_list.py",
     "varRefreshCmd": "print(var_dic_list())"
    },
    "r": {
     "delete_cmd_postfix": ") ",
     "delete_cmd_prefix": "rm(",
     "library": "var_list.r",
     "varRefreshCmd": "cat(var_dic_list()) "
    }
   },
   "types_to_exclude": [
    "module",
    "function",
    "builtin_function_or_method",
    "instance",
    "_Feature"
   ],
   "window_display": false
  }
 },
 "nbformat": 4,
 "nbformat_minor": 5
}
