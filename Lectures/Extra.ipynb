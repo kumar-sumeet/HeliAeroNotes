{
 "cells": [
  {
   "cell_type": "markdown",
   "id": "fb63a9ab",
   "metadata": {},
   "source": [
    "# Extra"
   ]
  },
  {
   "cell_type": "markdown",
   "id": "f30fce84",
   "metadata": {},
   "source": [
    "### when equation with numbering are needed"
   ]
  },
  {
   "cell_type": "markdown",
   "id": "9b84e065",
   "metadata": {},
   "source": [
    "\\begin{align}\n",
    "T =W &= \\dot{m}w\\\\\n",
    "&= 2 \\dot{m}v\n",
    "\\end{align}"
   ]
  },
  {
   "cell_type": "markdown",
   "id": "c1a4bb60",
   "metadata": {},
   "source": [
    "\n",
    "\n",
    " # (add inflow image and corresponding eqs here)\n",
    "\n",
    "\\begin{equation*}\n",
    "\\begin{split}\n",
    "w_{t+1} &= (1 + r_{t+1}) s(w_t) + y_{t+1} \\\\\n",
    "a_2 &= b_2+c_2-d_2+e_2 \\\\\n",
    "a_2 &= b_2+c_2-d_2+e_2\n",
    "\\end{split}\n",
    "\\label{eq:first} \\tag{1}\n",
    "\\end{equation*}\n",
    "\n",
    "\\begin{equation*}\n",
    "a_2=b_2+c_2-d_2+e_2\n",
    "\\label{eq:second} \\tag{2}\n",
    "\\end{equation*} \n",
    "\n",
    "\n",
    "$\\eqref{eq:first}$ and $\\eqref{eq:second}$\n",
    "\n"
   ]
  },
  {
   "cell_type": "code",
   "execution_count": null,
   "id": "2edc79f5",
   "metadata": {},
   "outputs": [],
   "source": []
  },
  {
   "cell_type": "code",
   "execution_count": null,
   "id": "ff7c9a92",
   "metadata": {},
   "outputs": [],
   "source": [
    "#from MT"
   ]
  },
  {
   "cell_type": "markdown",
   "id": "f7a96271",
   "metadata": {},
   "source": [
    "## Detour: a shallow dive into relevant minutae\n",
    "Textbooks related to rotor aerodynamics tend to present details of the momentum theory where the assumptions involved are simply stated, so as to be taken at face value, rather than intuitively explain their origins or why they make sense. So before we dive into the details of the momentum theory itself, let us go over the physics that would help us better understand the context of the assumptions involved. \n",
    "### Airfoils\n",
    "\n",
    "- The most efficient lift generation devices - i.e. high lift per unit drag\n",
    "- Aerodynamics problems involving airfoil performance can predominantly be understood in terms of Newton's 3rd law of motion.\n",
    "- Presence of airfoils in a moving fluid accelerate the flow \n",
    "- The resulting reaction forces manifest as lift and drag on the airfoil\n",
    "- \n",
    "### Rotors \n",
    "- Rotors are made up of wings (or blades) that have airfoil cross-section\n",
    "- \n",
    "- generate thrust by accelerating a large mass of air \n",
    "    - Newton's 2nd law of motion!\n"
   ]
  },
  {
   "cell_type": "markdown",
   "id": "c446893c",
   "metadata": {},
   "source": [
    "```{note} \n",
    "Bernoulli's equation relates pressure and velocity for inviscid, incompressible, steady, irrotational.\n",
    "```"
   ]
  },
  {
   "cell_type": "markdown",
   "id": "2c72406a",
   "metadata": {},
   "source": [
    "<div style=\"float:right; width:43%;\" >\n",
    "    <img src=\"../../assets/Prouty_lowleveltheory.png\" class=\"big\" />\n",
    "    <p style=\"text-align:center; color:gray; font-size:16px;\"> Model vs experiment correlation [taken from Helicopter Aerodynamics I: RW Prouty]  </p>\n",
    "</div>\n",
    "\n",
    "<div class=\"image-grid2\">\n",
    "    <img  src=\"../../assets/1_MomentumTheory/propeller.jpg\" class=\"small\"/>\n",
    "    <img  src=\"../../assets/1_MomentumTheory/rotor.jpg\" class=\"small\"/>\n",
    "   \n",
    "</div>\n",
    "\n",
    "<div class=\"image-grid2\">\n",
    "  <p> Propeller <a href=\"https://commons.wikimedia.org/wiki/File:Engine_and_propellers_of_aircraft_close_up.jpg\"> [source]</a>\n",
    "  </p>   \n",
    "  <p> Rotor <a href=\"https://en.wikipedia.org/wiki/Sikorsky_UH-60_Black_Hawk#/media/File:ROCA_UH-60M_Black_Hawk.jpg\"> [source]</a>\n",
    "  </p> \n",
    "</div>\n"
   ]
  },
  {
   "cell_type": "code",
   "execution_count": 8,
   "id": "bc7a1f2f",
   "metadata": {},
   "outputs": [
    {
     "data": {
      "text/html": [
       "\n",
       "        <iframe\n",
       "            width=\"1000\"\n",
       "            height=\"1000\"\n",
       "            src=\"../assets/Dynamic_Inflow_Equations.pdf\"\n",
       "            frameborder=\"0\"\n",
       "            allowfullscreen\n",
       "            \n",
       "        ></iframe>\n",
       "        "
      ],
      "text/plain": [
       "<IPython.lib.display.IFrame at 0x7fe3b287ba60>"
      ]
     },
     "execution_count": 8,
     "metadata": {},
     "output_type": "execute_result"
    }
   ],
   "source": [
    "from IPython.display import IFrame\n",
    "IFrame('../assets/Dynamic_Inflow_Equations.pdf', width=1000, height=1000)"
   ]
  },
  {
   "cell_type": "code",
   "execution_count": null,
   "id": "573e9c21",
   "metadata": {},
   "outputs": [],
   "source": []
  },
  {
   "cell_type": "code",
   "execution_count": null,
   "id": "33eca1c0",
   "metadata": {},
   "outputs": [],
   "source": []
  },
  {
   "cell_type": "code",
   "execution_count": null,
   "id": "a9143503",
   "metadata": {},
   "outputs": [],
   "source": []
  }
 ],
 "metadata": {
  "hide_input": false,
  "kernelspec": {
   "display_name": "Python 3 (ipykernel)",
   "language": "python",
   "name": "python3"
  },
  "language_info": {
   "codemirror_mode": {
    "name": "ipython",
    "version": 3
   },
   "file_extension": ".py",
   "mimetype": "text/x-python",
   "name": "python",
   "nbconvert_exporter": "python",
   "pygments_lexer": "ipython3",
   "version": "3.8.5"
  },
  "varInspector": {
   "cols": {
    "lenName": 16,
    "lenType": 16,
    "lenVar": 40
   },
   "kernels_config": {
    "python": {
     "delete_cmd_postfix": "",
     "delete_cmd_prefix": "del ",
     "library": "var_list.py",
     "varRefreshCmd": "print(var_dic_list())"
    },
    "r": {
     "delete_cmd_postfix": ") ",
     "delete_cmd_prefix": "rm(",
     "library": "var_list.r",
     "varRefreshCmd": "cat(var_dic_list()) "
    }
   },
   "types_to_exclude": [
    "module",
    "function",
    "builtin_function_or_method",
    "instance",
    "_Feature"
   ],
   "window_display": false
  }
 },
 "nbformat": 4,
 "nbformat_minor": 5
}
