{
 "cells": [
  {
   "cell_type": "markdown",
   "id": "5d806f0f",
   "metadata": {},
   "source": [
    "# Individual Blade Control"
   ]
  },
  {
   "cell_type": "markdown",
   "id": "0fa8c5b9",
   "metadata": {},
   "source": [
    "The swashplate and pitch links afford the ability to control the pitch angle of the rotor blades as they complete one revolution. The geometry of this entire setup is standard on ALL helicopters that are currently flight certified. So if the principal method of rotor blade pitch control on a helicopter is via a swashplate, which is essentially all designs except the Kama K-Max, then this control is achieved at 1/rev. "
   ]
  },
  {
   "cell_type": "code",
   "execution_count": 1,
   "id": "83d1a395",
   "metadata": {
    "hide_input": false,
    "tags": [
     "hide-input"
    ]
   },
   "outputs": [
    {
     "data": {
      "image/jpeg": "[encoded data removed]",
      "text/html": [
       "\n",
       "        <iframe\n",
       "            width=\"500\"\n",
       "            height=\"270\"\n",
       "            src=\"https://www.youtube.com/embed/mBOa45fLNOk\"\n",
       "            frameborder=\"0\"\n",
       "            allowfullscreen\n",
       "            \n",
       "        ></iframe>\n",
       "        "
      ],
      "text/plain": [
       "<IPython.lib.display.YouTubeVideo at 0x7fd07504fcd0>"
      ]
     },
     "execution_count": 1,
     "metadata": {},
     "output_type": "execute_result"
    }
   ],
   "source": [
    "from IPython.display import YouTubeVideo\n",
    "YouTubeVideo('mBOa45fLNOk', width=500, height=270)"
   ]
  },
  {
   "cell_type": "code",
   "execution_count": 2,
   "id": "40df077a",
   "metadata": {
    "hide_input": false,
    "scrolled": true,
    "tags": [
     "hide-input"
    ]
   },
   "outputs": [
    {
     "data": {
      "image/jpeg": "[encoded data removed]",
      "text/html": [
       "\n",
       "        <iframe\n",
       "            width=\"500\"\n",
       "            height=\"270\"\n",
       "            src=\"https://www.youtube.com/embed/t9AYMNh6lXU\"\n",
       "            frameborder=\"0\"\n",
       "            allowfullscreen\n",
       "            \n",
       "        ></iframe>\n",
       "        "
      ],
      "text/plain": [
       "<IPython.lib.display.YouTubeVideo at 0x7fd07504fca0>"
      ]
     },
     "execution_count": 2,
     "metadata": {},
     "output_type": "execute_result"
    }
   ],
   "source": [
    "from IPython.display import YouTubeVideo\n",
    "YouTubeVideo('t9AYMNh6lXU', width=500, height=270)"
   ]
  },
  {
   "cell_type": "markdown",
   "id": "f53efc72",
   "metadata": {},
   "source": [
    "<div class=\"image-grid3\">\n",
    "    <img  src=\"../../assets/Bo105_IBC_ARC.png\" class=\"big\"/>\n",
    "    <img  src=\"../../assets/Bo105_hub.jpeg\" class=\"big\"/>\n",
    "    <img  src=\"../../assets/Bo105_IBChub.png\" class=\"big\" />\n",
    "\n",
    "   \n",
    "</div>\n",
    "\n",
    "<div class=\"image-grid3\">\n",
    "  <p style=\"font-size:16px; color:gray; text-align:left;\"> Bo 105 rotor test set in NASA Ames wind tunnel <a href=\"https://ntrs.nasa.gov/api/citations/20205003457/downloads/Jacklin%20TP-20205003457_Vol%20I_Final_7-13-2020.pdf\"> [source]</a></p>   \n",
    "  <p style=\"font-size:16px; color:gray; text-align:left;\"> Bo 105 rotor hub with regular pitch links\n",
    "    <a href=\"https://b-domke.de/AviationImages/Rotorhead/0416.html\"> [source]</a></p>\n",
    "  <p style=\"font-size:16px; color:gray; text-align:left;\"> Bo 105 IBC pitch link hydraulic actuators <a href=\"https://ntrs.nasa.gov/api/citations/20205003457/downloads/Jacklin%20TP-20205003457_Vol%20I_Final_7-13-2020.pdf\"> [source]</a></p>   \n",
    "</div>\n",
    "\n",
    "<div class=\"image-grid3\">\n",
    "    <img  src=\"../../assets/UH60_IBC_ARC.png\" class=\"big\"/>\n",
    "    <img  src=\"../../assets/UH60_rotor_hub.jpeg\" class=\"big\"/>\n",
    "    <img  src=\"../../assets/UH60_IBC_pitch_link.png\" class=\"big\" />\n",
    "</div>\n",
    "\n",
    "<div class=\"image-grid3\">\n",
    "  <p style=\"font-size:16px; color:gray; text-align:left;\"> UH60 rotor test set in NASA Ames wind tunnel <a href=\"https://apps.dtic.mil/sti/pdfs/ADA480625.pdf\"> [source]</a></p>   \n",
    "  <p style=\"font-size:16px; color:gray; text-align:left;\"> UH60 rotor hub with regular pitch links\n",
    "    <a href=\"https://b-domke.de/AviationImages/Rotorhead/11775.html\"> [source]</a></p>\n",
    "  <p style=\"font-size:16px; color:gray; text-align:left;\"> UH60 IBC pitch link hydraulic actuators <a href=\"https://rotorcraft.arc.nasa.gov/Publications/files/Norman_09AHS_IBC_Final_reva.pdf\"> [source]</a></p>   \n",
    "</div>"
   ]
  },
  {
   "cell_type": "code",
   "execution_count": null,
   "id": "41316554",
   "metadata": {},
   "outputs": [],
   "source": []
  },
  {
   "cell_type": "markdown",
   "id": "6fcdb020",
   "metadata": {},
   "source": [
    "## Short historical background "
   ]
  },
  {
   "cell_type": "markdown",
   "id": "1da93363",
   "metadata": {},
   "source": [
    "Below is a short history of the concerted effort, by both academia/research institutes and industry alike, into exploring the potential of advanced higher harmonic rotor control technologies."
   ]
  },
  {
   "cell_type": "code",
   "execution_count": null,
   "id": "907707f1",
   "metadata": {},
   "outputs": [],
   "source": [
    "### HHC"
   ]
  },
  {
   "cell_type": "code",
   "execution_count": null,
   "id": "3e36a570",
   "metadata": {},
   "outputs": [],
   "source": []
  },
  {
   "cell_type": "code",
   "execution_count": null,
   "id": "f8fca416",
   "metadata": {},
   "outputs": [],
   "source": [
    "### IBC"
   ]
  },
  {
   "cell_type": "markdown",
   "id": "4ab316c9",
   "metadata": {},
   "source": [
    "The Bo 105 full-scale rotor was separately tested in 1993 and 1994 as part of a US-German collaborative effort to explore advanced rotor technologies. "
   ]
  },
  {
   "cell_type": "code",
   "execution_count": null,
   "id": "493c0b2f",
   "metadata": {},
   "outputs": [],
   "source": [
    "### Other active rotor concepts"
   ]
  },
  {
   "cell_type": "markdown",
   "id": "66698d37",
   "metadata": {},
   "source": [
    "A number of test campaigns have been undertaken with regard to IBC rotor studies. In particular, the Bo 105 full-scale rotor was separately tested in 1993 and 1994 as part of a US-German collaborative effort to explore advanced rotor technologies.  All of these studies were carried out in the NASA Ames wind tunnel."
   ]
  },
  {
   "cell_type": "markdown",
   "id": "da2d27e2",
   "metadata": {},
   "source": []
  },
  {
   "cell_type": "markdown",
   "id": "4882469b",
   "metadata": {},
   "source": []
  },
  {
   "cell_type": "markdown",
   "id": "702174e9",
   "metadata": {},
   "source": []
  },
  {
   "cell_type": "markdown",
   "id": "92570380",
   "metadata": {},
   "source": [
    "Experimental measurements from the UH60 rotor "
   ]
  },
  {
   "cell_type": "markdown",
   "id": "20529b41",
   "metadata": {},
   "source": [
    "<div class=\"image-grid3\">\n",
    "    <img  src=\"../../assets/U11_1_fig8_1.png\" class=\"big\"/>\n",
    "    <img  src=\"../../assets/U11_1_fig8_2.png\" class=\"big\"/>\n",
    "    <img  src=\"../../assets/U11_1_fig9_1.png\" class=\"big\" />\n",
    "</div>\n",
    "\n",
    "<div class=\"image-grid3\">\n",
    "  <p style=\"font-size:16px; color:gray; text-align:left;\"> UH60 rotor test set in NASA Ames wind tunnel <a href=\"https://rotorcraft.arc.nasa.gov/Publications/files/Norman_09AHS_IBC_Final_reva.pdf\"> [source]</a></p>   \n",
    "  <p style=\"font-size:16px; color:gray; text-align:left;\"> UH60 rotor hub with regular pitch links\n",
    "    <a href=\"https://rotorcraft.arc.nasa.gov/Publications/files/Norman_09AHS_IBC_Final_reva.pdf\"> [source]</a></p>\n",
    "  <p style=\"font-size:16px; color:gray; text-align:left;\"> UH60 IBC pitch link hydraulic actuators <a href=\"https://rotorcraft.arc.nasa.gov/Publications/files/Norman_09AHS_IBC_Final_reva.pdf\"> [source]</a></p>   \n",
    "</div>"
   ]
  },
  {
   "cell_type": "code",
   "execution_count": null,
   "id": "fc9b4ac9",
   "metadata": {},
   "outputs": [],
   "source": []
  },
  {
   "cell_type": "markdown",
   "id": "74413b02",
   "metadata": {},
   "source": []
  }
 ],
 "metadata": {
  "celltoolbar": "Tags",
  "hide_input": false,
  "kernelspec": {
   "display_name": "Python 3 (ipykernel)",
   "language": "python",
   "name": "python3"
  },
  "language_info": {
   "codemirror_mode": {
    "name": "ipython",
    "version": 3
   },
   "file_extension": ".py",
   "mimetype": "text/x-python",
   "name": "python",
   "nbconvert_exporter": "python",
   "pygments_lexer": "ipython3",
   "version": "3.8.5"
  },
  "latex_envs": {
   "LaTeX_envs_menu_present": true,
   "autoclose": true,
   "autocomplete": true,
   "bibliofile": "biblio.bib",
   "cite_by": "apalike",
   "current_citInitial": 1,
   "eqLabelWithNumbers": false,
   "eqNumInitial": 1,
   "hotkeys": {
    "equation": "Ctrl-E",
    "itemize": "Ctrl-I"
   },
   "labels_anchors": false,
   "latex_user_defs": false,
   "report_style_numbering": false,
   "user_envs_cfg": false
  },
  "varInspector": {
   "cols": {
    "lenName": 16,
    "lenType": 16,
    "lenVar": 40
   },
   "kernels_config": {
    "python": {
     "delete_cmd_postfix": "",
     "delete_cmd_prefix": "del ",
     "library": "var_list.py",
     "varRefreshCmd": "print(var_dic_list())"
    },
    "r": {
     "delete_cmd_postfix": ") ",
     "delete_cmd_prefix": "rm(",
     "library": "var_list.r",
     "varRefreshCmd": "cat(var_dic_list()) "
    }
   },
   "types_to_exclude": [
    "module",
    "function",
    "builtin_function_or_method",
    "instance",
    "_Feature"
   ],
   "window_display": false
  }
 },
 "nbformat": 4,
 "nbformat_minor": 5
}
