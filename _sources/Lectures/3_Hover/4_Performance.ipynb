{
 "cells": [
  {
   "cell_type": "markdown",
   "id": "eb31da34",
   "metadata": {},
   "source": [
    "# Performance: Aérospatiale SA 315B Lama"
   ]
  },
  {
   "cell_type": "markdown",
   "id": "1c80da7e",
   "metadata": {},
   "source": [
    "The requirements of high altitude operation are relatively simple and can be inferred from the basic physics encountered within the scope of the momentum theory and blade element theory. Operating a helicopter in hover mode in high altitudes implies that the induced velocity would be high, which implies a correspondingly large power requirement. So it is apparent that the installed engines would need to have a high power rating. However, just increasing the installed engine power is not a sure shot solution since the rotor blades stall needs to be avoided before peak operational altitude is achieved."
   ]
  },
  {
   "cell_type": "markdown",
   "id": "06c21e4d",
   "metadata": {},
   "source": [
    "The Aérospatiale SA 315B Lama was known for its superior high altitude performance and was the go-to helicopter for high-altitude operations in all the high-altitude mountain ranges in the world."
   ]
  },
  {
   "cell_type": "markdown",
   "id": "38354370",
   "metadata": {},
   "source": [
    "Large mass flow through the rotor disk is key to hover efficiency of rotorcraft. A single powerful turboshaft engine, skids instead of wheels, a skeletal tail boom etc all minimised structural weight in case of the Lama. The high engine rating of 649 kW (de-rated to 410 kW) ensured that the helicopter had a substantial power margin - at 1500 kg of take-off weight and rotor diameter of 11 m, momentum theory calculations show that only about 116 kW of power is needed to maintain hover at sea-level."
   ]
  },
  {
   "cell_type": "markdown",
   "id": "f97668e4",
   "metadata": {},
   "source": [
    "<center>\n",
    "    <img src=\"../../assets/Aerospatiale_SA-315B_HB-XTM.jpeg\" class=\"large\">\n",
    "    <p style=\"font-size:16px; color:gray; text-align:center;\"> Aérospatiale SA 315B Lama  <a href=\"https://en.wikipedia.org/wiki/A%C3%A9rospatiale_SA_315B_Lama#/media/File:Aerospatiale_SA-315B_HB-XTM.jpg\"> [source]</a></p>\n",
    "</center>"
   ]
  }
 ],
 "metadata": {
  "hide_input": false,
  "kernelspec": {
   "display_name": "Python 3 (ipykernel)",
   "language": "python",
   "name": "python3"
  },
  "language_info": {
   "codemirror_mode": {
    "name": "ipython",
    "version": 3
   },
   "file_extension": ".py",
   "mimetype": "text/x-python",
   "name": "python",
   "nbconvert_exporter": "python",
   "pygments_lexer": "ipython3",
   "version": "3.8.5"
  },
  "latex_envs": {
   "LaTeX_envs_menu_present": true,
   "autoclose": true,
   "autocomplete": true,
   "bibliofile": "biblio.bib",
   "cite_by": "apalike",
   "current_citInitial": 1,
   "eqLabelWithNumbers": false,
   "eqNumInitial": 1,
   "hotkeys": {
    "equation": "Ctrl-E",
    "itemize": "Ctrl-I"
   },
   "labels_anchors": false,
   "latex_user_defs": false,
   "report_style_numbering": false,
   "user_envs_cfg": false
  },
  "varInspector": {
   "cols": {
    "lenName": 16,
    "lenType": 16,
    "lenVar": 40
   },
   "kernels_config": {
    "python": {
     "delete_cmd_postfix": "",
     "delete_cmd_prefix": "del ",
     "library": "var_list.py",
     "varRefreshCmd": "print(var_dic_list())"
    },
    "r": {
     "delete_cmd_postfix": ") ",
     "delete_cmd_prefix": "rm(",
     "library": "var_list.r",
     "varRefreshCmd": "cat(var_dic_list()) "
    }
   },
   "types_to_exclude": [
    "module",
    "function",
    "builtin_function_or_method",
    "instance",
    "_Feature"
   ],
   "window_display": false
  }
 },
 "nbformat": 4,
 "nbformat_minor": 5
}
