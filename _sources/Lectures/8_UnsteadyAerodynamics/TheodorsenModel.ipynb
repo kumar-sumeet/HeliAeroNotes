{
 "cells": [
  {
   "cell_type": "markdown",
   "id": "87222978",
   "metadata": {},
   "source": [
    "# Theodorsen Theory"
   ]
  },
  {
   "cell_type": "markdown",
   "id": "79608b46",
   "metadata": {},
   "source": [
    "Theodore Theodorsen was first to publish a complete and detailed solution to the problem of aerodynamic loads on an oscillating lifting surface. Chapter 5 in {cite}`BAE0` is a great resource for understanding the theoretical foundations of the Theodorsen model (even *better* than the original paper by Dr Theodorsen that describes the model {cite}`A21`).\n",
    "\n",
    "That said, the complete derivation is mathematically involved and requires meticulously solving a lot of complex-valued integrals. Here we will start with the final results proposed by Theodorsen and work our way to backwards with the motivation to understand the expressions involved intuitively and take assummptions involved at face value."
   ]
  },
  {
   "cell_type": "markdown",
   "id": "661084ea",
   "metadata": {},
   "source": [
    "Developed the frequency response of lift"
   ]
  },
  {
   "cell_type": "markdown",
   "id": "1aad5157",
   "metadata": {},
   "source": [
    "## Mathematical formulation: final equations"
   ]
  },
  {
   "cell_type": "markdown",
   "id": "772272e9",
   "metadata": {},
   "source": [
    "<div style=\"float:right; width:43%;\" >\n",
    "    <img src=\"../../assets/theodorsen_airfoil.jpeg\" class=\"big\" />\n",
    "    <p style=\"text-align:center; color:gray; font-size:16px;\"> Mi-6\n",
    "  </p>\n",
    "</div>"
   ]
  },
  {
   "cell_type": "code",
   "execution_count": null,
   "id": "878db6af",
   "metadata": {},
   "outputs": [],
   "source": []
  },
  {
   "cell_type": "markdown",
   "id": "93b3ed96",
   "metadata": {},
   "source": [
    "The final equations are a result of the airfoil kinematics and the complex valued function $C(k)$, commonly referred to as the Theodorsen function in literature. The former ... and the latter manifests the time history of the oscillation, thereby incorporating hysteresis effects in the aerodynamic loads experienced by an airfoil. "
   ]
  },
  {
   "cell_type": "markdown",
   "id": "76889172",
   "metadata": {},
   "source": [
    "### apparent mass terms"
   ]
  },
  {
   "cell_type": "markdown",
   "id": "cdb11aa1",
   "metadata": {},
   "source": [
    "- lift without circulation!\n",
    "    - this is impossible in steady state aerodynamics!!\n",
    "- relevant in high frequency oscillations\n",
    "- ignored in civil engineering analyses"
   ]
  },
  {
   "cell_type": "markdown",
   "id": "7e290a32",
   "metadata": {},
   "source": []
  },
  {
   "cell_type": "markdown",
   "id": "0279bfa9",
   "metadata": {},
   "source": []
  },
  {
   "cell_type": "markdown",
   "id": "0e087b26",
   "metadata": {},
   "source": [
    "## Relevant building blocks"
   ]
  },
  {
   "cell_type": "markdown",
   "id": "7172ba71",
   "metadata": {},
   "source": [
    "Understanding the Theodorsen theory requires a refresher of a number of theoretical aerodynamics concepts."
   ]
  },
  {
   "cell_type": "markdown",
   "id": "456f79b3",
   "metadata": {},
   "source": [
    "### Potential flow theory"
   ]
  },
  {
   "cell_type": "markdown",
   "id": "e5d26bba",
   "metadata": {},
   "source": [
    "The simple"
   ]
  },
  {
   "cell_type": "markdown",
   "id": "3861a45e",
   "metadata": {},
   "source": [
    "Basic building blocks -"
   ]
  },
  {
   "cell_type": "markdown",
   "id": "979973a2",
   "metadata": {},
   "source": [
    "- source\n",
    "- sink\n",
    "- vortex\n",
    "- doublet pair"
   ]
  },
  {
   "cell_type": "markdown",
   "id": "7d8132c7",
   "metadata": {},
   "source": [
    "Note that the flow representation in case of the vortex is valid everywhere except at its center where the vorticity is non-zero which implies that the fluid particles there have a rotation associate with them. Since potential flow theory models only irrotational flow, the flow velocity based on the potential flow theory formulation is undefined there."
   ]
  },
  {
   "cell_type": "markdown",
   "id": "805bba47",
   "metadata": {},
   "source": [
    "### Kutta condition"
   ]
  },
  {
   "cell_type": "markdown",
   "id": "03f3b91e",
   "metadata": {},
   "source": [
    "Potential flow theor alone cannot determine the amount of circulation around a body. This is true even in the case of steady aerodynamics and thin airfoil theory results such as the lift curve slope being $2\\pi$, $C_m_{c/4}=0$ etc. are obtained after imposing an additional condition based on the flow physics. Purely following the mathematical construct of potential flow theory would not give us a unique solution (and hence *no* solution) \n",
    "\n",
    "The amount of circulation decides where the stagnation points would be."
   ]
  },
  {
   "cell_type": "markdown",
   "id": "a9a8f9d6",
   "metadata": {},
   "source": [
    "- Kutta condition"
   ]
  },
  {
   "cell_type": "markdown",
   "id": "0f147dab",
   "metadata": {},
   "source": [
    "### No penetration boundary condition"
   ]
  },
  {
   "cell_type": "markdown",
   "id": "34e3366d",
   "metadata": {},
   "source": [
    "Fluid cannot penetrate the surface of the body in consideration. This seems like a trivial concept to state explicitly but remember that when a problem involving fluids is mathematically stated, the condition at the boundaries of the fluid need to be clearl defined. In the case of an airfoil moving about it *infinite* fluid, the surface of the airfoil forms one of the boundaries (the other boundary is at infinite distance away and not a source of any discturbance). What happens to the fluid at this boundary, i.e. the surface of the airfoil, dictates what happens in the rest of the fluid. This behavior of the fluid, specifically the velocity in the case of an incompressible flow, is the quantity of interest because this would then eventually lead to the amount of lift generated from the subsequent behavior of the fluid due to the airfoil motion. Since we know from physical observations that fluid parcels do not permeate through object surfaces, the motion of the fluid at this boundary is exactly matched with the motion of the airfoil surface. This is refered to as the no penetration boundary condition."
   ]
  },
  {
   "cell_type": "markdown",
   "id": "32a5a336",
   "metadata": {},
   "source": []
  },
  {
   "cell_type": "markdown",
   "id": "6d14260a",
   "metadata": {},
   "source": [
    "### Conservation of circulation"
   ]
  },
  {
   "cell_type": "markdown",
   "id": "82d4ecc3",
   "metadata": {},
   "source": []
  },
  {
   "cell_type": "markdown",
   "id": "35332e50",
   "metadata": {},
   "source": [
    "### Conformal mapping"
   ]
  },
  {
   "cell_type": "markdown",
   "id": "4f53d1e1",
   "metadata": {},
   "source": [
    "The above four frameworks/concepts are sufficient to solve for the unsteady aerodynamic behavior. However, the Laplace's equation cannot be directly solved for the flow around an airfoil (or flat plate even, the flat plate being an idealisation the solutions for which are much easier to obtain analytically in closed form). "
   ]
  },
  {
   "cell_type": "markdown",
   "id": "c9767e8a",
   "metadata": {},
   "source": [
    "<center>\n",
    "    <img src=\"../../assets/BAE0_fig5_14.png\" class=\"medium\">\n",
    "    <p  style=\"font-size:16px; color:gray; text-align:center;\"> Conformal mapping [taken from Aeroelasticity by Bisplinghoff, Ashley and Halfman]</p>\n",
    "\n",
    "</center>\n",
    "\n",
    "Conformal mapping refers to a complex analysis technique of transforming one domain to another while preserving (signed) Euclidean angles.\n",
    "\n",
    "\n",
    "The conformal map that achieves this is called the Joukowski transformation where the body in the $\\Xi$ domain is a cylinder and it is mapped to a flat plate. How exactly the relation comes about is a different branch of mathematics altogether but for our purposes suffice it to say that this convenient relation exists and is simple enough to quickly see that indeed the boundary of the circle gets mapped to the boundary of the flat plate.\n",
    "- Joukowski transformation\n",
    "\n",
    "The amount of circulation in the flow is undecided. Some more physics needs to be modelled in order to account for this. We could either go to the origins of the potential flow theory and see if some of the assumptions made can be relaxed to include more physics. This is bound to make the equations more involved that the Laplace equation. Alternately, ... This is done using the Kutta condition. "
   ]
  },
  {
   "cell_type": "markdown",
   "id": "3c441353",
   "metadata": {},
   "source": [
    "### Unsteady Bernoulli's equation"
   ]
  },
  {
   "cell_type": "markdown",
   "id": "f75f3494",
   "metadata": {},
   "source": [
    "Linearized unsteady Bernoulli's equation - "
   ]
  },
  {
   "cell_type": "markdown",
   "id": "b597e412",
   "metadata": {},
   "source": [
    "## Putting it all together"
   ]
  },
  {
   "cell_type": "markdown",
   "id": "53f40383",
   "metadata": {},
   "source": [
    "### added mass - laplace + no-penetration"
   ]
  },
  {
   "cell_type": "markdown",
   "id": "59b4ef66",
   "metadata": {},
   "source": [
    "Sources and sinks balance to give a closed body\n",
    "If body accelerates then it is easy to imagine that the stregnth of the sources and sinks would not match (they would match if no acceleration, i.e. motion at constant velocity). Their strength comes from the velocity at the surface from the motion.\n",
    "When the body accelerates, there is an inertial effect the body feels that can translate to a force along the axis of motion. So if the general case of a pitching, plunging and surging airfoil is considered even a 'drag' effect is possible and so is a 'thrust' effect."
   ]
  },
  {
   "cell_type": "markdown",
   "id": "2d6d8db0",
   "metadata": {},
   "source": [
    "accelerate airfoil in vaccum and accelerate it in fluid difference"
   ]
  },
  {
   "cell_type": "markdown",
   "id": "2729f526",
   "metadata": {},
   "source": [
    "The added mass terms do not represent a dynamical system - any acceleration reflects an instantaneous change in loads. This is due to fluid incompressibility assumption."
   ]
  },
  {
   "cell_type": "markdown",
   "id": "e4a21b11",
   "metadata": {},
   "source": [
    "This is a valid mathematical solution to the Laplace equation but from the physics of the solution "
   ]
  },
  {
   "cell_type": "markdown",
   "id": "09b010d5",
   "metadata": {},
   "source": [
    "### circulatory terms - kutta + circ conservation"
   ]
  },
  {
   "cell_type": "markdown",
   "id": "4270a086",
   "metadata": {},
   "source": [
    "The no-penetration condition is again not violated. The added mass derivation took care of the motion of the flat plate by appropriately establishing the no-penetration condition. So the Kutta condition is now applied in order to make velocity at the trailing edge 0. The Kutta condition is satisfied by introducing circulation while keeping in mind that the circulation is conserved. "
   ]
  },
  {
   "cell_type": "markdown",
   "id": "3c1987ae",
   "metadata": {},
   "source": [
    "$$v_{\\theta_{NC}} + v_{\\theta_C} = v_{\\theta} = 0$$"
   ]
  },
  {
   "cell_type": "markdown",
   "id": "3a13c8e1",
   "metadata": {},
   "source": [
    "A non-zero $v_{\\theta}$ in the in the XZ-domain will lead to infinite velocity in the xz-domain at the trailing-edge. Since such a result is not physically possible, and indeed the velocity at the trailing-edge is zero"
   ]
  },
  {
   "cell_type": "markdown",
   "id": "8beef0f7",
   "metadata": {},
   "source": [
    "## Time-domain representation"
   ]
  },
  {
   "cell_type": "markdown",
   "id": "f7598d49",
   "metadata": {},
   "source": [
    "### Wagner's solution"
   ]
  },
  {
   "cell_type": "markdown",
   "id": "0a35eb62",
   "metadata": {},
   "source": [
    "**It seems like the result of Fig 1 in A23_2 is inconcsistent with Wagners theory (why is half the lift not obtained instantaneously???)**"
   ]
  },
  {
   "cell_type": "markdown",
   "id": "bc943d86",
   "metadata": {},
   "source": []
  }
 ],
 "metadata": {
  "hide_input": false,
  "kernelspec": {
   "display_name": "Python 3 (ipykernel)",
   "language": "python",
   "name": "python3"
  },
  "language_info": {
   "codemirror_mode": {
    "name": "ipython",
    "version": 3
   },
   "file_extension": ".py",
   "mimetype": "text/x-python",
   "name": "python",
   "nbconvert_exporter": "python",
   "pygments_lexer": "ipython3",
   "version": "3.8.5"
  },
  "varInspector": {
   "cols": {
    "lenName": 16,
    "lenType": 16,
    "lenVar": 40
   },
   "kernels_config": {
    "python": {
     "delete_cmd_postfix": "",
     "delete_cmd_prefix": "del ",
     "library": "var_list.py",
     "varRefreshCmd": "print(var_dic_list())"
    },
    "r": {
     "delete_cmd_postfix": ") ",
     "delete_cmd_prefix": "rm(",
     "library": "var_list.r",
     "varRefreshCmd": "cat(var_dic_list()) "
    }
   },
   "types_to_exclude": [
    "module",
    "function",
    "builtin_function_or_method",
    "instance",
    "_Feature"
   ],
   "window_display": false
  }
 },
 "nbformat": 4,
 "nbformat_minor": 5
}
