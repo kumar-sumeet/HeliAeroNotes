{
 "cells": [
  {
   "cell_type": "markdown",
   "id": "6c601dc9",
   "metadata": {},
   "source": [
    "# Overview"
   ]
  },
  {
   "cell_type": "code",
   "execution_count": null,
   "id": "dbb5d30f",
   "metadata": {},
   "outputs": [],
   "source": []
  },
  {
   "cell_type": "code",
   "execution_count": null,
   "id": "0abffb41",
   "metadata": {},
   "outputs": [],
   "source": []
  },
  {
   "cell_type": "code",
   "execution_count": null,
   "id": "8072cc9b",
   "metadata": {},
   "outputs": [],
   "source": []
  },
  {
   "cell_type": "code",
   "execution_count": null,
   "id": "b7eb47e7",
   "metadata": {},
   "outputs": [],
   "source": []
  },
  {
   "cell_type": "code",
   "execution_count": null,
   "id": "901f23d6",
   "metadata": {},
   "outputs": [],
   "source": []
  },
  {
   "cell_type": "markdown",
   "id": "b6dab12c",
   "metadata": {},
   "source": [
    "## Old vs the New"
   ]
  },
  {
   "cell_type": "markdown",
   "id": "76e76977",
   "metadata": {},
   "source": [
    "```{figure} ../../assets/HillerROERotorcycle.jpeg\n",
    "---\n",
    "height: 150px\n",
    "name: HillerROERotorcycle\n",
    "---\n",
    "Hiller ROE Rotorcycle [source](https://en.wikipedia.org/wiki/Hiller_ROE_Rotorcycle#/media/File:Hiller_YROE-1.jpg)\n",
    "```"
   ]
  },
  {
   "cell_type": "code",
   "execution_count": null,
   "id": "85f5d0ca",
   "metadata": {},
   "outputs": [],
   "source": [
    "from IPython.display import YouTubeVideo\n",
    "YouTubeVideo('GIY63dz7bY0', width=500, height=270)"
   ]
  },
  {
   "cell_type": "markdown",
   "id": "6e3f1f19",
   "metadata": {},
   "source": [
    "```{figure} ../../assets/Backpack_Helicopter.jpeg\n",
    "---\n",
    "height: 150px\n",
    "name: Backpack_Helicopter\n",
    "---\n",
    "Pentecost HX-1 Hoppi-Copter [source](https://en.wikipedia.org/wiki/Hoppi-Copter#/media/File:Pentecost_Backpack_Helicopter.JPG)\n",
    "```"
   ]
  },
  {
   "cell_type": "code",
   "execution_count": null,
   "id": "ef37485f",
   "metadata": {},
   "outputs": [],
   "source": [
    "from IPython.display import YouTubeVideo\n",
    "YouTubeVideo('suHOLFhbwsM', width=500, height=270)"
   ]
  },
  {
   "cell_type": "code",
   "execution_count": null,
   "id": "fcc2256c",
   "metadata": {},
   "outputs": [],
   "source": []
  }
 ],
 "metadata": {
  "hide_input": false,
  "kernelspec": {
   "display_name": "Python 3 (ipykernel)",
   "language": "python",
   "name": "python3"
  },
  "language_info": {
   "codemirror_mode": {
    "name": "ipython",
    "version": 3
   },
   "file_extension": ".py",
   "mimetype": "text/x-python",
   "name": "python",
   "nbconvert_exporter": "python",
   "pygments_lexer": "ipython3",
   "version": "3.8.5"
  },
  "varInspector": {
   "cols": {
    "lenName": 16,
    "lenType": 16,
    "lenVar": 40
   },
   "kernels_config": {
    "python": {
     "delete_cmd_postfix": "",
     "delete_cmd_prefix": "del ",
     "library": "var_list.py",
     "varRefreshCmd": "print(var_dic_list())"
    },
    "r": {
     "delete_cmd_postfix": ") ",
     "delete_cmd_prefix": "rm(",
     "library": "var_list.r",
     "varRefreshCmd": "cat(var_dic_list()) "
    }
   },
   "types_to_exclude": [
    "module",
    "function",
    "builtin_function_or_method",
    "instance",
    "_Feature"
   ],
   "window_display": false
  }
 },
 "nbformat": 4,
 "nbformat_minor": 5
}
