{
 "cells": [
  {
   "cell_type": "markdown",
   "id": "3000a96b",
   "metadata": {},
   "source": [
    "# Summary"
   ]
  },
  {
   "cell_type": "markdown",
   "id": "a4d6757e",
   "metadata": {},
   "source": [
    "- rotor lift in forward flight reduces with advancing ratio\n",
    "- tendency to roll avoided by limiting lift capability on advancing side"
   ]
  },
  {
   "cell_type": "markdown",
   "id": "435c3ee5",
   "metadata": {},
   "source": [
    "We'll talk in the following lectures about how each of the effects can be countered to varying degrees and how the corresponding solutions in turn result in losing some of the benefits of the conventional rotor. This is one of the main reasons an *optimal* helicopter design is always in the context of the specific requirements/mission targets as no one solution/design feature works across the board over the entire operational envelope."
   ]
  }
 ],
 "metadata": {
  "hide_input": false,
  "kernelspec": {
   "display_name": "Python 3 (ipykernel)",
   "language": "python",
   "name": "python3"
  },
  "language_info": {
   "codemirror_mode": {
    "name": "ipython",
    "version": 3
   },
   "file_extension": ".py",
   "mimetype": "text/x-python",
   "name": "python",
   "nbconvert_exporter": "python",
   "pygments_lexer": "ipython3",
   "version": "3.8.5"
  },
  "varInspector": {
   "cols": {
    "lenName": 16,
    "lenType": 16,
    "lenVar": 40
   },
   "kernels_config": {
    "python": {
     "delete_cmd_postfix": "",
     "delete_cmd_prefix": "del ",
     "library": "var_list.py",
     "varRefreshCmd": "print(var_dic_list())"
    },
    "r": {
     "delete_cmd_postfix": ") ",
     "delete_cmd_prefix": "rm(",
     "library": "var_list.r",
     "varRefreshCmd": "cat(var_dic_list()) "
    }
   },
   "types_to_exclude": [
    "module",
    "function",
    "builtin_function_or_method",
    "instance",
    "_Feature"
   ],
   "window_display": false
  }
 },
 "nbformat": 4,
 "nbformat_minor": 5
}
