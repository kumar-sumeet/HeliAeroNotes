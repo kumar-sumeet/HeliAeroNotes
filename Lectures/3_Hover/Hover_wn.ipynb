{
 "cells": [
  {
   "cell_type": "markdown",
   "metadata": {},
   "source": [
    "# "
   ]
  },
  {
   "cell_type": "markdown",
   "metadata": {},
   "source": [
    "-Do not try to just memorize formulae, try to understand their physical origins. A lot of the times you would be able to just substitute quantities in the formulae and get the expected result but you would not be able to appreciate the physics. you need to appreciate physics because blind application of formulae might sometimes result in unphysical results and you need to be ableto tell when that happens. "
   ]
  },
  {
   "cell_type": "markdown",
   "metadata": {},
   "source": [
    "# Hover"
   ]
  },
  {
   "cell_type": "markdown",
   "metadata": {},
   "source": [
    "Hovering helicopter, $$ \\overline{v}_{ground}=0 $$\n",
    "\n",
    "- (This includes vertical as well as horizontal velocities!)\n"
   ]
  },
  {
   "cell_type": "markdown",
   "metadata": {},
   "source": [
    "## The big question "
   ]
  },
  {
   "cell_type": "markdown",
   "metadata": {},
   "source": [
    "Quantifying the power necessary to stay aloft!\n",
    "-Sure there are issues of whether the aircraft can be controlled. \n",
    "\n",
    "Structural stresses are not exceeded but if there isn't sufficient power to  **unreadable text** , everything else is pointless. "
   ]
  },
  {
   "cell_type": "markdown",
   "metadata": {},
   "source": [
    "To do that we take inspiration from physical propellers. Ships were around way before aircraft. "
   ]
  },
  {
   "cell_type": "markdown",
   "metadata": {},
   "source": [
    "## Raukine & Froude"
   ]
  },
  {
   "cell_type": "markdown",
   "metadata": {},
   "source": [
    "### Actuator Disk \n",
    "- Model the propeller plane as a disk of zero thickness that supports a pressure diff/discontinuity but not in velocity. \n"
   ]
  },
  {
   "cell_type": "markdown",
   "metadata": {},
   "source": [
    "\n",
    "\n",
    "Using Bernoulli's equation : relates pressure and velocity for inviscid, incompressible, steady, irrotational. "
   ]
  },
  {
   "cell_type": "markdown",
   "metadata": {},
   "source": [
    "\\begin{gather*}\n",
    "p_2-p_1= \\frac{T}{A}\\\\\n",
    "p_0+\\frac{1}{2} p_w^2-p_0 = \\frac{T}{A}= \\frac{1}{2} p w^2\\\\\n",
    "\\end{gather*}"
   ]
  },
  {
   "cell_type": "markdown",
   "metadata": {},
   "source": [
    "\\begin{gather*}\n",
    "\\textrm{Momentum Conservation:  } T = \\dot{m} = (\\rho A v) w \\\\\n",
    "\\textrm{Energy Conservation:     } T v = \\frac{1}{2} \\dot{m} w^2\\\\\n",
    "\\end{gather*}\n"
   ]
  },
  {
   "cell_type": "markdown",
   "metadata": {},
   "source": [
    "$T / A = \\frac{1}{2} \\rho w^2$  and $ 2v = w$"
   ]
  },
  {
   "cell_type": "markdown",
   "metadata": {},
   "source": [
    "$$ v= \\sqrt{\\frac{T}{2 \\rho A}}$$"
   ]
  },
  {
   "cell_type": "markdown",
   "metadata": {},
   "source": [
    "\\begin{equation}\n",
    "\\begin{array}{l}\n",
    "V=\\sqrt{\\frac{T}{2 p A}}\\\\\n",
    "\\quad C_{T}=\\frac{T}{p^{A}(\\Omega Q)^{2}}\\\\\n",
    "\\end{array}\n",
    "\\end{equation}"
   ]
  },
  {
   "cell_type": "markdown",
   "metadata": {},
   "source": [
    "\\begin{equation}\n",
    "\\begin{array}{l}\n",
    "P=T_{v}=\\frac{T^{3 / 2}}{\\sqrt{2 P A}}\\\\\n",
    "\\quad C_{P}=\\frac{P}{P A(\\Omega R)^{3}}\\\\\n",
    "\\end{array}\n",
    "\\end{equation}"
   ]
  },
  {
   "cell_type": "markdown",
   "metadata": {},
   "source": [
    "$$\\frac{P}{T}=V=\\sqrt{\\frac{(T / A)}{2}}$$  \n",
    "\n",
    "$\\frac{T}{P} $ called power loading. "
   ]
  },
  {
   "cell_type": "markdown",
   "metadata": {},
   "source": [
    "The rotor power obtained via this analysis is the best case scenario pediction. In reality it will always be higher.\n",
    "\n",
    "- No flow losses assumed. \n",
    "- Induced velocity is uniform over the disk. "
   ]
  },
  {
   "cell_type": "markdown",
   "metadata": {},
   "source": [
    "The above analysis work for a propeller on a stationary aircraft!"
   ]
  },
  {
   "cell_type": "markdown",
   "metadata": {},
   "source": [
    "## Climb"
   ]
  },
  {
   "cell_type": "markdown",
   "metadata": {},
   "source": [
    "$$\\dot{m}=p A(V+v) $$\n",
    "\n",
    "\n",
    "$$ T=\\dot{m} \\omega $$\n",
    "\n",
    "\n",
    "$$ T(V+v)=\\frac{1}{2} \\dot{m}(V+w)^{2}-\\frac{1}{2} \\dot{m} V^{2}=\\frac{1}{2} \\dot{m} \\omega(\\omega+2 V)$$\n",
    "\n",
    "\n",
    "$$\\Rightarrow \\omega=2 v $$\n",
    "\n",
    "$$\\left(p_{0}+\\frac{1}{2} p(V+w)^{2}\\right)-\\left(p_{0}+\\frac{1}{2} p V^{2}\\right)=T / A$$ "
   ]
  },
  {
   "cell_type": "markdown",
   "metadata": {},
   "source": [
    "$$ \\Rightarrow \\frac{1}{2} p \\omega^{2}+p V_{\\omega} = T / A$$\n",
    "$$ \\Rightarrow \\frac{1}{2} \\rho \\omega(\\omega+V)=T / A $$\n",
    "\n",
    "substitude $2v$ and solve quadratic"
   ]
  },
  {
   "cell_type": "markdown",
   "metadata": {},
   "source": [
    "$\\begin{aligned} V &=-\\frac{V}{2}+\\sqrt{\\left(\\frac{V}{2}\\right)^{2}+\\frac{T}{2 \\rho A}} \\\\ &=-\\frac{V}{2}+\\sqrt{\\left(\\frac{V}{2}\\right)^{2}+V_{h}^{2}} \\text{         }<V_{h} \\end{aligned}$  \n",
    "\n",
    "So climbing velocity!"
   ]
  },
  {
   "cell_type": "markdown",
   "metadata": {},
   "source": [
    "- Why is the other root ignored?"
   ]
  },
  {
   "cell_type": "markdown",
   "metadata": {},
   "source": [
    "Think about the origins of induced velocity $v$ being lower than $V_h$"
   ]
  },
  {
   "cell_type": "markdown",
   "metadata": {},
   "source": [
    "- For steady climb case \n",
    "\\begin{align}\n",
    "T =W &= \\dot{m}\\omega\\\\\n",
    "&= 2 \\dot{m}v\n",
    "\\end{align}"
   ]
  },
  {
   "cell_type": "markdown",
   "metadata": {},
   "source": [
    "but in climb $\\dot{m}$ is larger than  $\\rho A (V+v)$"
   ]
  },
  {
   "cell_type": "markdown",
   "metadata": {},
   "source": [
    "$$P = T (V+v)$$\n",
    "\n",
    "$$\\frac{P}{T} = \\frac{V}{2}+ \\sqrt{ \\left(\\frac{V}{2} \\right)^2 + V_h^2}$$"
   ]
  },
  {
   "cell_type": "markdown",
   "metadata": {},
   "source": [
    "**Possible sources of losses in an operational rotor:**\n",
    "\n",
    "\n"
   ]
  },
  {
   "cell_type": "markdown",
   "metadata": {},
   "source": [
    "tip losses + profile power "
   ]
  },
  {
   "cell_type": "markdown",
   "metadata": {},
   "source": [
    "### Figure of Merit "
   ]
  },
  {
   "cell_type": "markdown",
   "metadata": {},
   "source": [
    "Is a measure of rotor $\\textit{hover}$ efficiency: "
   ]
  },
  {
   "cell_type": "markdown",
   "metadata": {},
   "source": [
    "$$\n",
    "F M= \\displaystyle \\frac{C_{p_{\\text{ideal}}}}{C_{p_{i}}+C_{p_{0}}}\n",
    "$$"
   ]
  }
 ],
 "metadata": {
  "kernelspec": {
   "display_name": "Python 3",
   "language": "python",
   "name": "python3"
  },
  "language_info": {
   "codemirror_mode": {
    "name": "ipython",
    "version": 3
   },
   "file_extension": ".py",
   "mimetype": "text/x-python",
   "name": "python",
   "nbconvert_exporter": "python",
   "pygments_lexer": "ipython3",
   "version": "3.8.12"
  },
  "latex_envs": {
   "LaTeX_envs_menu_present": true,
   "autoclose": true,
   "autocomplete": true,
   "bibliofile": "biblio.bib",
   "cite_by": "apalike",
   "current_citInitial": 1,
   "eqLabelWithNumbers": true,
   "eqNumInitial": 1,
   "hotkeys": {
    "equation": "Ctrl-E",
    "itemize": "Ctrl-I"
   },
   "labels_anchors": false,
   "latex_user_defs": false,
   "report_style_numbering": false,
   "user_envs_cfg": false
  }
 },
 "nbformat": 4,
 "nbformat_minor": 4
}
