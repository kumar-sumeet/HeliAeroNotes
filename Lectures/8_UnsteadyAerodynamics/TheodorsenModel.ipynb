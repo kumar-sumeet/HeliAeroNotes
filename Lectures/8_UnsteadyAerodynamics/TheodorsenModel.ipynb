{
 "cells": [
  {
   "cell_type": "markdown",
   "id": "87222978",
   "metadata": {},
   "source": [
    "# Theodorsen Theory"
   ]
  },
  {
   "cell_type": "markdown",
   "id": "79608b46",
   "metadata": {},
   "source": [
    "Theodore Theodorsen was first to publish a complete and detailed solution to the problem of aerodynamic loads on an oscillating lifting surface. Chapter 5 in {cite}`BAE0` is a great resource for understanding the theoretical foundations of the Theodorsen model (even *better* than the original paper by Dr Theodorsen that describes the model {cite}`A21`).\n",
    "\n",
    "That said, the complete derivation is mathematically involved and requires meticulously solvinga lot of complex-valued integrals. Here we will start with the final results proposed by Theodorsen and work our way to backwards with the motivation to understand the expressions involved intuitively and take assummptions involved at face value."
   ]
  },
  {
   "cell_type": "markdown",
   "id": "1aad5157",
   "metadata": {},
   "source": [
    "## Mathematical formulation"
   ]
  },
  {
   "cell_type": "markdown",
   "id": "772272e9",
   "metadata": {},
   "source": [
    "<div style=\"float:right; width:43%;\" >\n",
    "    <img src=\"../../assets/theodorsen_airfoil.jpeg\" class=\"big\" />\n",
    "    <p style=\"text-align:center; color:gray; font-size:16px;\"> Mi-6\n",
    "  </p>\n",
    "</div>"
   ]
  },
  {
   "cell_type": "markdown",
   "id": "76889172",
   "metadata": {},
   "source": [
    "## What does it all mean!?"
   ]
  },
  {
   "cell_type": "markdown",
   "id": "cdb11aa1",
   "metadata": {},
   "source": [
    "- apparent mass terms\n",
    "    - relevant in high frequency oscillations\n",
    "    - sometimes ignored in civil engineering analyses"
   ]
  },
  {
   "cell_type": "markdown",
   "id": "7e290a32",
   "metadata": {},
   "source": []
  },
  {
   "cell_type": "markdown",
   "id": "0279bfa9",
   "metadata": {},
   "source": []
  },
  {
   "cell_type": "markdown",
   "id": "0e087b26",
   "metadata": {},
   "source": [
    "## Preliminaries"
   ]
  },
  {
   "cell_type": "markdown",
   "id": "7172ba71",
   "metadata": {},
   "source": [
    "Understanding the Theodorsen theory requires a refresher of a number of theoretical aerodynamics concepts."
   ]
  },
  {
   "cell_type": "markdown",
   "id": "73b213be",
   "metadata": {},
   "source": [
    "- Joukowski transformation"
   ]
  },
  {
   "cell_type": "markdown",
   "id": "fe90bf7d",
   "metadata": {},
   "source": []
  },
  {
   "cell_type": "markdown",
   "id": "a9a8f9d6",
   "metadata": {},
   "source": [
    "- Kutta condition"
   ]
  },
  {
   "cell_type": "markdown",
   "id": "3c441353",
   "metadata": {},
   "source": []
  }
 ],
 "metadata": {
  "hide_input": false,
  "kernelspec": {
   "display_name": "Python 3 (ipykernel)",
   "language": "python",
   "name": "python3"
  },
  "language_info": {
   "codemirror_mode": {
    "name": "ipython",
    "version": 3
   },
   "file_extension": ".py",
   "mimetype": "text/x-python",
   "name": "python",
   "nbconvert_exporter": "python",
   "pygments_lexer": "ipython3",
   "version": "3.8.5"
  },
  "varInspector": {
   "cols": {
    "lenName": 16,
    "lenType": 16,
    "lenVar": 40
   },
   "kernels_config": {
    "python": {
     "delete_cmd_postfix": "",
     "delete_cmd_prefix": "del ",
     "library": "var_list.py",
     "varRefreshCmd": "print(var_dic_list())"
    },
    "r": {
     "delete_cmd_postfix": ") ",
     "delete_cmd_prefix": "rm(",
     "library": "var_list.r",
     "varRefreshCmd": "cat(var_dic_list()) "
    }
   },
   "types_to_exclude": [
    "module",
    "function",
    "builtin_function_or_method",
    "instance",
    "_Feature"
   ],
   "window_display": false
  }
 },
 "nbformat": 4,
 "nbformat_minor": 5
}
