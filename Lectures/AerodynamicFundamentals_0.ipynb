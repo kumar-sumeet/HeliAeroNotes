{
 "cells": [
  {
   "cell_type": "markdown",
   "id": "a21dfa24",
   "metadata": {},
   "source": [
    "# Review of Aerodynamics Concepts"
   ]
  },
  {
   "cell_type": "markdown",
   "id": "5979d97f",
   "metadata": {},
   "source": []
  },
  {
   "cell_type": "markdown",
   "id": "438e0d94",
   "metadata": {},
   "source": [
    "## NSE"
   ]
  },
  {
   "cell_type": "markdown",
   "id": "8e08fd25",
   "metadata": {},
   "source": []
  },
  {
   "cell_type": "markdown",
   "id": "cb30d6b1",
   "metadata": {},
   "source": []
  },
  {
   "cell_type": "markdown",
   "id": "3d94a58d",
   "metadata": {},
   "source": [
    "### Non-dimensionalisation\n",
    "Add57_2 - \"All these\n",
    "quantities are non-dimensionalized (denoted by ˆ) with respect\n",
    "to their corresponding ‘characteristic’ measures. The choice of\n",
    "a characteristic measure is somewhat arbitrary and often based\n",
    "on the physicist’s intuition of which constants of the system\n",
    "are physically meaningful. For example, when modeling the\n",
    "flow around a section of a high aspect ratio wing, the chord\n",
    "length is often used as the characteristic length measure. \"\n",
    "\n",
    "\n",
    "Add stuff about Eq 2 from Add57_2"
   ]
  },
  {
   "cell_type": "markdown",
   "id": "23e2e54c",
   "metadata": {},
   "source": []
  },
  {
   "cell_type": "markdown",
   "id": "e7a6b9e2",
   "metadata": {},
   "source": []
  },
  {
   "cell_type": "markdown",
   "id": "a617ff53",
   "metadata": {},
   "source": []
  },
  {
   "cell_type": "markdown",
   "id": "65ada651",
   "metadata": {},
   "source": [
    "## Method of singularities\n",
    "\n",
    "The method of singularities presents an alternate technique of obtaining the flow field around an airfoil. Here, the flow field is obtained by directly placing singularities on the airfoil surface and satisfying the no penetration boundary condition on the surface of the airfoil itself. Afterall, this is the bare minimum physical law that the fluid flowing around the airfoil has to satisfy - it cannot flow through the surface of the airfoil. \n",
    "\n",
    "### A simple case\n",
    "The simplest formulation of this modelling stragety involves idealisation of the airfoil with a vortex of strength $\\Gamma$ at the airfoil quarter chord. \n",
    "<center>\n",
    "    <img src=\"../../assets/QuarterChordVortex.png\" class=\"big\">\n",
    "    <p  style=\"font-size:16px; color:gray; text-align:center;\"> Idealisation of flow around an airfoil using a vortex at the quarter chord.</p>\n",
    "\n",
    "</center>\n",
    "However, unlike the conformal mapping technique above where $\\Gamma$ is the total circulation due to distributed vorticity over the airfoil, the strength of $\\Gamma$ here is obtained by satifying the no penetration condition only at a single point on the airfoil called the collocation point. In this case, the collocation point is chosen to be the $3c/4$ location to be resultant $\\Gamma$ to be consistent with the result obtained from conformal mapping technique.\n",
    "\n",
    "### General case\n",
    "<center>\n",
    "    <img src=\"../../assets/GammaDistribution.png\" class=\"big\">\n",
    "    <p  style=\"font-size:16px; color:gray; text-align:center;\"> Idealisation of an airfoil via distribution of singularities</p>\n",
    "\n",
    "</center>\n",
    "Since the unknown $\\gamma(x)$ is an unknown distribution, it cannot be simply obtained via just a single equation as the 'simple case' above. Rather the no penetration boundary condition needs to be satisfied at each point on the airfoil surface.\n",
    "<center>\n",
    "    <img src=\"../../assets/GammaDistributionNoPenetration.png\" class=\"large\">\n",
    "    <p  style=\"font-size:16px; color:gray; text-align:center;\"> Idealisation of an airfoil via distribution of singularities</p>\n",
    "\n",
    "</center>\n",
    "\n",
    "\\begin{aligned}\n",
    " \\left.V_{\\perp}\\right)_\\gamma &= \\left.V_{\\perp}\\right)_{U_{\\infty}} \\\\\n",
    "\\Rightarrow \\int \\frac{\\gamma(x) d x^{\\prime}}{2 \\pi\\left(x-x^{\\prime}\\right)} &= U_{\\infty} \\sin \\left(\\alpha-\\theta_c\\right) \\\\\n",
    "\\end{aligned}\n",
    "\n",
    "Therefore, the governing equation for $\\gamma(x)$ is given by-\n",
    "$$\\int \\frac{\\gamma(x) d x^{\\prime}}{2 \\pi\\left(x-x^{\\prime}\\right)} = U_{\\infty} \\sin \\left(\\alpha-\\frac{dy_c}{dx}\\right)\n",
    "$$"
   ]
  },
  {
   "cell_type": "markdown",
   "id": "a8427ae6",
   "metadata": {},
   "source": [
    "```{admonition} Sohngen's formula\n",
    "The circle theorem helps obtain the complex flow field around a cyclinder in the most general case. It states that if $F(z)$ is the flow field in the absence of the cylinder then the flow field in the presence of the cylinder is given by $F(z)+\\bar{F}(\\frac{a^2}{z})$. The solution is based on the idea of images such that a streamline denoting a solid boundary defines a circle. More details can be obtained from {cite}`BA2`(Page 422-423) and {cite}`Add56`. \n",
    "```"
   ]
  },
  {
   "cell_type": "markdown",
   "id": "db464060",
   "metadata": {},
   "source": []
  },
  {
   "cell_type": "markdown",
   "id": "7f132c2c",
   "metadata": {},
   "source": [
    "Sources and sinks balance to give a closed body\n",
    "If body accelerates then it is easy to imagine that the stregnth of the sources and sinks would not match (they would match if no acceleration, i.e. motion at constant velocity). Their strength comes from the velocity at the surface from the motion.\n",
    "When the body accelerates, there is an inertial effect the body feels that can translate to a force along the axis of motion. So if the general case of a pitching, plunging and surging airfoil is considered even a 'drag' effect is possible and so is a 'thrust' effect.\n",
    "\n",
    "The added mass terms do not represent a dynamical system - any acceleration reflects an instantaneous change in loads. This is due to fluid incompressibility assumption. (**is it though??**)\n",
    "## Time-domain representation\n",
    "### Wagner's solution\n",
    "**It seems like the result of Fig 1 in A23_2 is inconcsistent with Wagners theory (why is half the lift not obtained instantaneously???)**"
   ]
  },
  {
   "cell_type": "markdown",
   "id": "87968360",
   "metadata": {},
   "source": [
    "Moment acting about the hinge of the trailine-edge flap is\n",
    "\\begin{equation*} \n",
    "\\begin{split}\n",
    "M_\\beta= & \\underbrace{-\\rho b^2\\left[\\left\\{-2 T_z-T_1+T_4\\left(a-\\frac{1}{2}\\right)\\right\\} v b \\dot{\\alpha}+2 T_{13} b^2 \\ddot{\\alpha}+\\frac{1}{\\pi} v^2 \\beta\\left(T_5-T_4 T_{10}\\right)-\\frac{1}{2 \\pi} v b \\dot{\\beta} T_4 T_{11}-\\frac{1}{\\pi} T_3 b^2 \\ddot{\\beta} -T_1 b \\ddot{h}\\right]}_\\text{added mass} \\\\\n",
    "& \\underbrace{-\\rho v b^2 T_{12} C(k)\\left[v \\alpha+\\dot{h}+b\\left(\\frac{1}{2}-a\\right) \\dot{\\alpha}+\\frac{1}{\\pi} T_{10} v \\beta+b \\frac{1}{2 \\pi} T_{11} \\dot{\\beta}\\right]}_\\text{circulatory}\n",
    "\\end{split}\n",
    "\\end{equation*}"
   ]
  },
  {
   "cell_type": "markdown",
   "id": "0bbea496",
   "metadata": {},
   "source": []
  },
  {
   "cell_type": "markdown",
   "id": "46d34256",
   "metadata": {},
   "source": []
  },
  {
   "cell_type": "markdown",
   "id": "ace4e0fe",
   "metadata": {},
   "source": []
  },
  {
   "cell_type": "markdown",
   "id": "994eb507",
   "metadata": {},
   "source": []
  },
  {
   "cell_type": "markdown",
   "id": "2c1885f2",
   "metadata": {},
   "source": []
  }
 ],
 "metadata": {
  "hide_input": false,
  "kernelspec": {
   "display_name": "Python 3 (ipykernel)",
   "language": "python",
   "name": "python3"
  },
  "language_info": {
   "codemirror_mode": {
    "name": "ipython",
    "version": 3
   },
   "file_extension": ".py",
   "mimetype": "text/x-python",
   "name": "python",
   "nbconvert_exporter": "python",
   "pygments_lexer": "ipython3",
   "version": "3.8.5"
  },
  "varInspector": {
   "cols": {
    "lenName": 16,
    "lenType": 16,
    "lenVar": 40
   },
   "kernels_config": {
    "python": {
     "delete_cmd_postfix": "",
     "delete_cmd_prefix": "del ",
     "library": "var_list.py",
     "varRefreshCmd": "print(var_dic_list())"
    },
    "r": {
     "delete_cmd_postfix": ") ",
     "delete_cmd_prefix": "rm(",
     "library": "var_list.r",
     "varRefreshCmd": "cat(var_dic_list()) "
    }
   },
   "types_to_exclude": [
    "module",
    "function",
    "builtin_function_or_method",
    "instance",
    "_Feature"
   ],
   "window_display": false
  }
 },
 "nbformat": 4,
 "nbformat_minor": 5
}
