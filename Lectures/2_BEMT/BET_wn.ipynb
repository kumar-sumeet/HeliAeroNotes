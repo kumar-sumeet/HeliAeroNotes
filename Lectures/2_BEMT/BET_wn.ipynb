{
 "cells": [
  {
   "cell_type": "markdown",
   "metadata": {},
   "source": [
    "# Blade Element Theory "
   ]
  },
  {
   "cell_type": "markdown",
   "metadata": {},
   "source": [
    "$\\rightarrow$ A ton of simplifications involved in the theoretical framework involving momentum theory. \n",
    "- No blade level resolution. \n",
    "\n",
    "$\\rightarrow$ BET incorporates the blade level aero but also involves a lot of new simplifiying assumptions so that nice closed form expressions are possible. \n",
    "Otherwise things can get hopelessly too complicated very easily. "
   ]
  },
  {
   "cell_type": "markdown",
   "metadata": {},
   "source": [
    "$$d F_{Z}=d L-d D \\sin \\phi$$\n",
    "\n",
    "$$d T=N(d L-d D \\sin \\phi)$$\n",
    "\n",
    "$$d C_{T}=\\frac{N C_{l} \\frac{1}{2} p U_{T}^{2} c d y}{\\rho (\\Omega R^{2}) R^{2}}$$\n",
    "\n",
    "$$d C_{T}=\\frac{\\sigma}{2} C_{l} r^{2} d r$$"
   ]
  },
  {
   "cell_type": "markdown",
   "metadata": {},
   "source": [
    "$\\begin{aligned} \\int d C_{T} &=\\frac{\\sigma}{2} C_{l_{ k}} \\int \\alpha x^{2} d x \\\\ &=\\frac{\\sigma}{2} C_{l_{k}} \\int(\\theta-\\phi) r^{2} d r \\\\ \n",
    "\\end{aligned}$"
   ]
  },
  {
   "cell_type": "markdown",
   "metadata": {},
   "source": [
    "Using $$ \\frac{U_P}{U_r} = \\frac {\\lambda \\Omega R}{\\Omega y} $$"
   ]
  },
  {
   "cell_type": "markdown",
   "metadata": {},
   "source": [
    "$ \\begin{aligned}\n",
    "\\int d C_{T} &= \\frac{\\sigma}{2} C_{l_{k}} \\int(\\theta-\\phi) r^{2} d r \\\\\n",
    "&=\\frac{\\sigma}{2} C_{l_{ k}} \\int \\theta r^2 - dr dr \\\\\n",
    "\\end{aligned}$"
   ]
  },
  {
   "cell_type": "markdown",
   "metadata": {},
   "source": [
    "$ \\theta$ and $\\lambda$ are constants. "
   ]
  },
  {
   "cell_type": "markdown",
   "metadata": {},
   "source": [
    "$$\\Rightarrow C_{T}=\\frac{\\sigma}{2} C_{l_{k}}\\left(\\frac{\\theta_{0}}{3}-\\frac{\\lambda}{2}\\right)=\\frac{\\sigma}{2} C_{k_{k}}\\left(\\frac{\\theta_{0}}{3}-\\frac{1}{2} \\sqrt{\\frac{C_T}{2}}\\right)$$\n",
    "\n",
    "\n",
    "\n",
    "$$\\Rightarrow \\theta_{0}=\\frac{6 C_{T}}{\\sigma_{C_{l_{k}}}}+\\frac{3}{2} \\sqrt{\\frac{C_{T}}{2}}$$"
   ]
  },
  {
   "cell_type": "markdown",
   "metadata": {},
   "source": [
    "$\\frac{3}{2} \\sqrt{\\frac{C_{T}}{2}}$ is induced drag term  (just like fixed wing)"
   ]
  },
  {
   "cell_type": "markdown",
   "metadata": {},
   "source": [
    "All the simplifications in the derivatives now afford us the possibility to easily see the effect of varying one quantity on the other. "
   ]
  },
  {
   "cell_type": "markdown",
   "metadata": {},
   "source": [
    "$\\begin{aligned}\n",
    "\\theta&= \\theta_{0} +\\gamma \\theta_{t \\omega} \\quad \\quad\\quad \\lambda=\\text { uniform } \\\\ C_{T} &=\\frac{\\sigma}{2} C_{l k}\\left[ \\frac{\\theta_{0}}{3}+\\frac{\\theta_{t \\omega}}{4}-\\frac{\\lambda}{2} \\right] \\\\ &=\\frac{\\sigma}{2} C_{l_{k}}\\left[\\frac{\\theta_{75}}{3}-\\frac{\\lambda}{2}\\right] \\end{aligned}$"
   ]
  },
  {
   "cell_type": "markdown",
   "metadata": {},
   "source": [
    "decently interesting result. "
   ]
  },
  {
   "cell_type": "markdown",
   "metadata": {},
   "source": [
    "- Uniform inflow has been used in the above formulation. \n",
    "- But we now know from ex that $\\lambda$ is not uniform, so something more than M-theory is needed to get to that. \n",
    "- Alfred Gessow proposed the BEMT to obtain $\\lambda (r)$\n",
    "- M theory, with its uniform $\\lambda$ assumption gives the least power required. Its not due to neglect of certain phenomena that contributes to power loss but due to the uniform $\\lambda$ approximation. "
   ]
  },
  {
   "cell_type": "markdown",
   "metadata": {},
   "source": [
    "$T=\\dot{m} v=P A v^{2}$\n",
    "\n",
    "$P=\\frac{1}{2} \\dot{m} v^{2}=\\frac{1}{2} P A v_{0}^{3}$"
   ]
  },
  {
   "cell_type": "markdown",
   "metadata": {},
   "source": [
    "\\begin{aligned} d T &=d \\dot{m} v_{i} \\\\\n",
    "&=2 p 2 \\pi y d y\\left(v_{c}+v_{i}\\right) v_{i} \\\\\n",
    "\\end{aligned}"
   ]
  },
  {
   "cell_type": "markdown",
   "metadata": {},
   "source": [
    "\\begin{aligned}\n",
    "d C_{T} &=\\frac{4 \\pi p\\left(V_{c}+v_{i}\\right) v_{i} y d y}{p \\pi R^{2}(\\Omega R)^{2}} \\\\ \\end{aligned}"
   ]
  },
  {
   "cell_type": "markdown",
   "metadata": {},
   "source": [
    "\\begin{aligned}\n",
    "&=4 \\lambda \\lambda_{i} r dr  =4 \\lambda \\left(\\lambda-\\lambda_{c}\\right)r d r \n",
    "\\end{aligned}"
   ]
  },
  {
   "cell_type": "markdown",
   "metadata": {},
   "source": [
    "\\begin{aligned}\n",
    "C_{T} &= 4 \\int \\lambda \\left(\\lambda-\\lambda_{c}\\right) r d r    \\quad \\quad \\text{Climb case}\\\\\n",
    "&= 4 \\int \\lambda^{2} r d r      \\quad \\quad \\quad \\quad \\quad \\text{Hover case}\n",
    "\\end{aligned}"
   ]
  },
  {
   "cell_type": "markdown",
   "metadata": {},
   "source": [
    "From BEPT:          $ \\displaystyle \\quad d C_{T}=\\frac{\\sigma}{2} C_{l_{\\alpha}}\\left(\\theta r^{2}-d r\\right) d r$ \n",
    "    \n",
    "    \n",
    "From annular Momentum Theory :    $\\displaystyle \\quad d C_{T}=4 \\lambda\\left(\\lambda-\\lambda_{c}\\right)rd r$ "
   ]
  },
  {
   "cell_type": "markdown",
   "metadata": {},
   "source": [
    "$\\displaystyle d C_{T}=\\frac{\\sigma}{2} C_{l_{\\alpha}}\\left(\\theta r^{2}-d r\\right) d r = d C_{T}=4 \\lambda\\left(\\lambda-\\lambda_{c}\\right)rd r$ "
   ]
  },
  {
   "cell_type": "markdown",
   "metadata": {},
   "source": [
    "$\\displaystyle \\Rightarrow \\frac{\\sigma C_{l_{\\alpha}} \\theta r}{8}-\\frac{\\sigma C_{l_{\\alpha}}}{8} \\lambda=\\lambda^{2}-\\lambda_{c} \\lambda$\n",
    "\n",
    "$\\displaystyle \\Rightarrow \\lambda^{2}+\\left(\\frac{\\sigma C_{l_{\\alpha}}}{8}-\\lambda_{c}\\right) \\lambda-\\frac{\\sigma C_{l_{\\alpha}} \\theta r}{8}=0$\n"
   ]
  },
  {
   "cell_type": "markdown",
   "metadata": {},
   "source": [
    "$\\lambda\\left(r, \\lambda_{c}\\right)= \\displaystyle \\pm \\sqrt{\\frac{\\left(\\frac{\\sigma C_{l_{\\alpha}}}{8}-\\lambda_c \\right)^2+\\frac{\\sigma C_{l_{\\alpha}} \\theta_{r}}{2}}{4}} = \\displaystyle \\frac{  \\frac{\\sigma C_{l_{\\alpha}}}{8}- \\lambda_c}{2}$\n",
    "\n",
    "\n",
    "$a x^{2}+b x+c$\n",
    "$\\longrightarrow-b \\pm \\sqrt{b^{2}-4 a c}$   $ \\quad \\quad$ For $\\lambda_c=0$"
   ]
  },
  {
   "cell_type": "markdown",
   "metadata": {},
   "source": [
    "\\begin{equation}\n",
    "\\lambda (r)=\\frac{\\sigma C_{l_{\\alpha}}}{16}\\left[-1+\\sqrt{1+\\frac{32}{\\sigma C_{l_{\\alpha}}} \\theta_{r}}\\right]\n",
    "\\end{equation}"
   ]
  },
  {
   "cell_type": "markdown",
   "metadata": {},
   "source": [
    "In here $\\sigma$ is blade sizing, $C_{l_{\\alpha}}$ airfoil aerodynamics, $\\theta_r$ blade twist. \n"
   ]
  },
  {
   "cell_type": "markdown",
   "metadata": {},
   "source": [
    "ALWAYS some form of simplification manifests in the engineering framework of rotorcraft problems. 3-D FEM and DNS is not possible for rotorcraft problems as of now. So, problem specific simplifications are introduced. "
   ]
  },
  {
   "cell_type": "markdown",
   "metadata": {},
   "source": [
    "- $C_p$ during hover or high $M$ can be solved using momentum theory and rigid blades fairly accurately. \n",
    "- Obtaining accurate trim angles requires elastic blade modelling. \n",
    "- Obtaining blade vibration during descent flight, for e.g. requires free wake modelling. "
   ]
  },
  {
   "cell_type": "markdown",
   "metadata": {},
   "source": [
    "Propellers are ALWAYS in climb mode and are highly twisted for this reason. \n"
   ]
  },
  {
   "cell_type": "markdown",
   "metadata": {},
   "source": [
    "After obtaining $\\lambda(r)$, $C_T$ can be obtained by just substituting back in \n",
    "$$C_T = \\int 4 \\lambda (\\lambda - \\lambda_c)rdr $$"
   ]
  },
  {
   "cell_type": "markdown",
   "metadata": {},
   "source": [
    "This result is based on a lot of simple ideas but provides a lot of insight. A lot of what follows is a direct consequence of this formulation so it is really important to just be clean about how we got this expression.  "
   ]
  },
  {
   "cell_type": "markdown",
   "metadata": {},
   "source": [
    "Remember \n",
    "- from BET derivation: \n",
    "\n",
    "\\begin{aligned}\n",
    "dC_T &= \\frac{\\sigma}{2} C_l {r}^2d{r} \\\\ \n",
    "&=\\frac{\\sigma}{2} \\left(\\frac{\\theta_{tip}}{r} - \\frac{\\bar{\\lambda}}{r}\\right){r}^2 d{r}     \\quad \\quad \\text{ideal twist}\\\\ \n",
    "\\end{aligned}\n",
    "\n",
    "\n"
   ]
  },
  {
   "cell_type": "markdown",
   "metadata": {},
   "source": [
    "uniform $\\bar{\\lambda}$"
   ]
  },
  {
   "cell_type": "markdown",
   "metadata": {},
   "source": [
    "\\begin{aligned}\n",
    "\\alpha &= \\displaystyle \\frac{\\theta_{tip}-\\bar{\\lambda}}{r}\\\\\n",
    "&= \\displaystyle \\frac{ \\alpha_{tip}}{r}\n",
    "\\end{aligned}"
   ]
  },
  {
   "cell_type": "markdown",
   "metadata": {},
   "source": [
    "$$\\Rightarrow C_T= \\frac{\\sigma}{4}C_{l_{\\alpha}}\\alpha_{tip}$$"
   ]
  },
  {
   "cell_type": "markdown",
   "metadata": {},
   "source": [
    "$$C_l = C_{l_{\\alpha}} \\frac{\\alpha_{tip}}{r}$$"
   ]
  },
  {
   "cell_type": "markdown",
   "metadata": {},
   "source": [
    "- from M theory: \n",
    "\n",
    "$$ d C_t = 4 \\bar{{\\lambda}}^2 r dr $$\n",
    "\n",
    "$ \\Rightarrow \\bar{{\\lambda}} = \\displaystyle \\sqrt{\\frac{\\sigma r C_{l_{\\alpha}}\\bar{\\alpha}}{8}}$"
   ]
  },
  {
   "cell_type": "markdown",
   "metadata": {},
   "source": [
    "\\begin{aligned}\n",
    "\\frac{C_{T}}{2}&=\\frac{\\sigma r C_{l_{k}} \\bar{\\alpha}}{8} \\\\\n",
    "\\sigma&=\\frac{4 C_{T}}{C_{l_{\\alpha}} \\bar{\\alpha}} \\frac{1}{r}\n",
    "\\end{aligned}\n",
    "\n",
    "hyperbolic solidity!\n"
   ]
  },
  {
   "cell_type": "markdown",
   "metadata": {},
   "source": [
    "So optimum rotor with ideal twist would have to have increasingly high $C_l$ values inboard. "
   ]
  },
  {
   "cell_type": "markdown",
   "metadata": {},
   "source": [
    "But $C_l$ here is representative to the lift force generated and we have assumed $\\sigma$ is constant."
   ]
  },
  {
   "cell_type": "markdown",
   "metadata": {},
   "source": [
    "We could alternately increase lifting surface area so as to get the most out of aerodynamic efficiency of lifting surfaces. Assuming all sections are at $\\alpha = \\alpha|_{L/D}$"
   ]
  },
  {
   "cell_type": "markdown",
   "metadata": {},
   "source": [
    "\\begin{equation}\n",
    "\\begin{array}{l}\n",
    "\\Rightarrow d C_{T}=\\frac{\\sigma}{2} C_{l_{\\alpha}} \\alpha_{L/D} r^{2} d r \\qquad\\left(\\theta-\\frac{\\lambda}{r}\\right) \\text { mistake in Leishman }\\\\\n",
    "d C_{T}=4 d^{2} r d r \\Rightarrow d= \\displaystyle \\sqrt{\\frac{\\sigma r C_{l_{k}}}\\alpha_{L/D}} \n",
    "\\end{array}\n",
    "\\end{equation}"
   ]
  },
  {
   "cell_type": "markdown",
   "metadata": {},
   "source": [
    "**above cell is unclear**"
   ]
  },
  {
   "cell_type": "markdown",
   "metadata": {},
   "source": [
    "to keep $\\lambda \\text { constant}$\n",
    "\n",
    "make $\\sigma r = \\text{constant}$"
   ]
  },
  {
   "cell_type": "markdown",
   "metadata": {},
   "source": [
    "## Practical hovering rotor "
   ]
  },
  {
   "cell_type": "markdown",
   "metadata": {},
   "source": [
    "$$ K = \\frac { C_{P_{actual}}}{C_{P_{ideal}}}$$ induced power factor (due to interaction of the linearity of $\\theta$)"
   ]
  },
  {
   "cell_type": "markdown",
   "metadata": {},
   "source": [
    "too much twist detrimental for forward flight $\\rightarrow$ leads to inboard section stalling on the retreating side **unreadable text** negative loading on the outboard of advancing side. "
   ]
  },
  {
   "cell_type": "markdown",
   "metadata": {},
   "source": [
    "## $\\text{Practical} $ $\\sigma / \\text{taper} $    **unsure???**"
   ]
  },
  {
   "cell_type": "markdown",
   "metadata": {},
   "source": [
    "Slight linear taper to avoid high $\\alpha$ near the root. \n",
    "In theory, allows to maintain best $\\alpha_{L / D}$ at all blade sections. \n",
    "\n",
    "Remember all this being done with sole objective of optimising a hovering rotor!"
   ]
  },
  {
   "cell_type": "markdown",
   "metadata": {},
   "source": [
    "## Weighted Solidity \n",
    "\n",
    "The idea comes from a need for comparing two rotor designs that have different planform shapes. \n",
    "\n",
    "Note: Comparing two rotors using this concept only works when the designs are not significantly different from rectangular blades. Because **otherwise other (???)** aerodynamic effects come into play and this simple concept seizes to be useful. "
   ]
  },
  {
   "cell_type": "markdown",
   "metadata": {},
   "source": [
    "$$\n",
    "C_{T}=\\frac{1}{2} \\int_{0}^{1} \\sigma C_{l} r^{2} d r=\\frac{\\sigma_{e}}{2} \\int_{0}^{1} C_{l r^{2}} d r\n",
    "$$\n",
    "Assuming const. $C_{l} \\quad \\Rightarrow \\sigma_{e} \\int r^{2} d r=\\int \\sigma r^{2} d r$\n",
    "$$\n",
    "\\Rightarrow \\sigma_{e}=3 \\int \\sigma r^{2} d r\n",
    "$$"
   ]
  },
  {
   "cell_type": "markdown",
   "metadata": {},
   "source": [
    "This definition is relevant because $C_T / \\sigma$ is used as a measure of the lifting capability of the rotor since it is nothing but the average lift coefficient of the blade sections. "
   ]
  },
  {
   "cell_type": "markdown",
   "metadata": {},
   "source": [
    "$$\\frac{C_T}{\\sigma_e}= \\frac{\\bar{C_l}}{6}$$       \n",
    "$$ \\frac{C_T}{\\sigma_e}\\vert_{max} \\approx 0.15$$"
   ]
  },
  {
   "cell_type": "markdown",
   "metadata": {},
   "source": [
    "Increase in rotor $C_T$ limited by lifting ability on retreating side. High $\\sigma_e$ will ensure larger blade area contributes to rotor thrust on the retreating side so angles of attack on retreating side can be made lower (for same $C_T$). "
   ]
  },
  {
   "cell_type": "markdown",
   "metadata": {},
   "source": [
    "### Profile power of Optimal Rotor: "
   ]
  },
  {
   "cell_type": "markdown",
   "metadata": {},
   "source": [
    "$$d F_{x}=d L \\sin \\phi+d D \\cos \\phi$$\n",
    "$$d P=(b d L+d D) N \\Omega y$$\n",
    "$$d C_{P_0}=\\frac{\\sigma}{2} C_{d} r^{3} d r$$"
   ]
  },
  {
   "cell_type": "markdown",
   "metadata": {},
   "source": [
    "$$\\Rightarrow C_P = \\frac{1}{2} C_{d_{0}} \\int {\\frac{\\sigma_{tip}r^3}{r}} d r=\\frac{C_{d_{0}} \\sigma_{tip}}{6}$$"
   ]
  },
  {
   "cell_type": "markdown",
   "metadata": {},
   "source": [
    "## Blade tip losses "
   ]
  },
  {
   "cell_type": "markdown",
   "metadata": {},
   "source": [
    "Where can this knowledge be applied: \n",
    " - Generally rotors of any size without in-plane flow (i.e. hover & climb modes) So definitely can use for propellers too!\n",
    " - Difference between propeller and rotor? \n",
    " "
   ]
  },
  {
   "cell_type": "markdown",
   "metadata": {},
   "source": [
    "Helicopter Engineering involves a great deal of optimization. \n",
    "- For e.g. even in jover $C_T = W$ but $W$ can very 30-40%. \n",
    "- Including the effect of forward flight opens up a Pandora's box of issues. \n"
   ]
  },
  {
   "cell_type": "markdown",
   "metadata": {},
   "source": [
    "**Q.** Why does the inflow in hower case develop the way it does? i.e. from above the rotor to below. (Taking analogy from fixed-wing aircraft doesn't really help)"
   ]
  },
  {
   "cell_type": "markdown",
   "metadata": {},
   "source": [
    "**Q.** Difference between propellers (no edgewise flow) and rotors (wake not connected away easily) High $V_{ind}$ so wake is connected away. (But they also have high rpm!?)"
   ]
  },
  {
   "cell_type": "code",
   "execution_count": null,
   "metadata": {},
   "outputs": [],
   "source": []
  }
 ],
 "metadata": {
  "kernelspec": {
   "display_name": "Python 3",
   "language": "python",
   "name": "python3"
  },
  "language_info": {
   "codemirror_mode": {
    "name": "ipython",
    "version": 3
   },
   "file_extension": ".py",
   "mimetype": "text/x-python",
   "name": "python",
   "nbconvert_exporter": "python",
   "pygments_lexer": "ipython3",
   "version": "3.8.12"
  },
  "latex_envs": {
   "LaTeX_envs_menu_present": true,
   "autoclose": true,
   "autocomplete": true,
   "bibliofile": "biblio.bib",
   "cite_by": "apalike",
   "current_citInitial": 1,
   "eqLabelWithNumbers": true,
   "eqNumInitial": 1,
   "hotkeys": {
    "equation": "Ctrl-E",
    "itemize": "Ctrl-I"
   },
   "labels_anchors": false,
   "latex_user_defs": false,
   "report_style_numbering": false,
   "user_envs_cfg": false
  }
 },
 "nbformat": 4,
 "nbformat_minor": 4
}
