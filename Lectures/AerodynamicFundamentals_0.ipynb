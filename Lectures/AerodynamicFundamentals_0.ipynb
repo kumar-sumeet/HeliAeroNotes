{
 "cells": [
  {
   "cell_type": "markdown",
   "id": "a21dfa24",
   "metadata": {},
   "source": [
    "# Review of Aerodynamics Concepts"
   ]
  },
  {
   "cell_type": "markdown",
   "id": "5979d97f",
   "metadata": {},
   "source": []
  },
  {
   "cell_type": "markdown",
   "id": "438e0d94",
   "metadata": {},
   "source": [
    "## NSE"
   ]
  },
  {
   "cell_type": "markdown",
   "id": "8e08fd25",
   "metadata": {},
   "source": []
  },
  {
   "cell_type": "markdown",
   "id": "cb30d6b1",
   "metadata": {},
   "source": []
  },
  {
   "cell_type": "markdown",
   "id": "3d94a58d",
   "metadata": {},
   "source": [
    "### Non-dimensionalisation\n",
    "Add57_2 - \"All these\n",
    "quantities are non-dimensionalized (denoted by ˆ) with respect\n",
    "to their corresponding ‘characteristic’ measures. The choice of\n",
    "a characteristic measure is somewhat arbitrary and often based\n",
    "on the physicist’s intuition of which constants of the system\n",
    "are physically meaningful. For example, when modeling the\n",
    "flow around a section of a high aspect ratio wing, the chord\n",
    "length is often used as the characteristic length measure. \"\n",
    "\n",
    "\n",
    "Add stuff about Eq 2 from Add57_2"
   ]
  },
  {
   "cell_type": "markdown",
   "id": "23e2e54c",
   "metadata": {},
   "source": []
  },
  {
   "cell_type": "markdown",
   "id": "e7a6b9e2",
   "metadata": {},
   "source": []
  },
  {
   "cell_type": "markdown",
   "id": "a617ff53",
   "metadata": {},
   "source": []
  },
  {
   "cell_type": "markdown",
   "id": "65ada651",
   "metadata": {},
   "source": []
  },
  {
   "cell_type": "markdown",
   "id": "a8427ae6",
   "metadata": {},
   "source": []
  },
  {
   "cell_type": "markdown",
   "id": "db464060",
   "metadata": {},
   "source": []
  },
  {
   "cell_type": "markdown",
   "id": "7f132c2c",
   "metadata": {},
   "source": []
  },
  {
   "cell_type": "markdown",
   "id": "87968360",
   "metadata": {},
   "source": []
  },
  {
   "cell_type": "markdown",
   "id": "0bbea496",
   "metadata": {},
   "source": []
  },
  {
   "cell_type": "markdown",
   "id": "46d34256",
   "metadata": {},
   "source": []
  },
  {
   "cell_type": "markdown",
   "id": "ace4e0fe",
   "metadata": {},
   "source": []
  },
  {
   "cell_type": "markdown",
   "id": "994eb507",
   "metadata": {},
   "source": []
  },
  {
   "cell_type": "markdown",
   "id": "2c1885f2",
   "metadata": {},
   "source": []
  }
 ],
 "metadata": {
  "hide_input": false,
  "kernelspec": {
   "display_name": "Python 3 (ipykernel)",
   "language": "python",
   "name": "python3"
  },
  "language_info": {
   "codemirror_mode": {
    "name": "ipython",
    "version": 3
   },
   "file_extension": ".py",
   "mimetype": "text/x-python",
   "name": "python",
   "nbconvert_exporter": "python",
   "pygments_lexer": "ipython3",
   "version": "3.8.5"
  },
  "varInspector": {
   "cols": {
    "lenName": 16,
    "lenType": 16,
    "lenVar": 40
   },
   "kernels_config": {
    "python": {
     "delete_cmd_postfix": "",
     "delete_cmd_prefix": "del ",
     "library": "var_list.py",
     "varRefreshCmd": "print(var_dic_list())"
    },
    "r": {
     "delete_cmd_postfix": ") ",
     "delete_cmd_prefix": "rm(",
     "library": "var_list.r",
     "varRefreshCmd": "cat(var_dic_list()) "
    }
   },
   "types_to_exclude": [
    "module",
    "function",
    "builtin_function_or_method",
    "instance",
    "_Feature"
   ],
   "window_display": false
  }
 },
 "nbformat": 4,
 "nbformat_minor": 5
}
