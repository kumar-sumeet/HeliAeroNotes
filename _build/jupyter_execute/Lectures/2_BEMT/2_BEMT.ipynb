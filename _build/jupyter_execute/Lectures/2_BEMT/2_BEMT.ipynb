{
 "cells": [
  {
   "cell_type": "markdown",
   "id": "ff840622",
   "metadata": {},
   "source": [
    "# Blade Element Momentum Theory\n",
    "\n",
    "\n",
    "\"Remember that all models are wrong; the practical question is how wrong do they have to be to not be useful.\" \t\t\t\n",
    "\n",
    "[G. Box (1987)](https://en.wikipedia.org/wiki/All_models_are_wrong)\n",
    "\n"
   ]
  },
  {
   "cell_type": "code",
   "execution_count": 1,
   "id": "1bab6741",
   "metadata": {},
   "outputs": [],
   "source": [
    "#all details about equations about BEMT"
   ]
  },
  {
   "cell_type": "code",
   "execution_count": null,
   "id": "2dcfe980",
   "metadata": {},
   "outputs": [],
   "source": []
  },
  {
   "cell_type": "code",
   "execution_count": null,
   "id": "d54ec7fe",
   "metadata": {},
   "outputs": [],
   "source": []
  },
  {
   "cell_type": "code",
   "execution_count": null,
   "id": "3701b3c6",
   "metadata": {},
   "outputs": [],
   "source": []
  },
  {
   "cell_type": "markdown",
   "id": "4dda77ee",
   "metadata": {},
   "source": [
    "## BEMT: review\n",
    "\n",
    "* "
   ]
  },
  {
   "cell_type": "markdown",
   "id": "2c680ce9",
   "metadata": {},
   "source": [
    "## BEMT: ...\n",
    "\n",
    "* BEMT provides the simplest strategy of separating out the solutions of the blades aerodynamics and effect of the wake\n",
    "* Higher-fidelity solution strategies employ same principle\n",
    "* Different rotor wake models as well as methods to solve for the blade aerodynamics exist\n",
    "* Solving for rotor aerodynamics \n",
    "* "
   ]
  },
  {
   "cell_type": "code",
   "execution_count": null,
   "id": "19f5cd76",
   "metadata": {},
   "outputs": [],
   "source": []
  },
  {
   "cell_type": "code",
   "execution_count": null,
   "id": "b4c5c552",
   "metadata": {},
   "outputs": [],
   "source": []
  },
  {
   "cell_type": "code",
   "execution_count": null,
   "id": "d5a04106",
   "metadata": {},
   "outputs": [],
   "source": []
  },
  {
   "cell_type": "code",
   "execution_count": null,
   "id": "480bd970",
   "metadata": {},
   "outputs": [],
   "source": []
  }
 ],
 "metadata": {
  "hide_input": false,
  "kernelspec": {
   "display_name": "Python 3 (ipykernel)",
   "language": "python",
   "name": "python3"
  },
  "language_info": {
   "codemirror_mode": {
    "name": "ipython",
    "version": 3
   },
   "file_extension": ".py",
   "mimetype": "text/x-python",
   "name": "python",
   "nbconvert_exporter": "python",
   "pygments_lexer": "ipython3",
   "version": "3.8.5"
  },
  "varInspector": {
   "cols": {
    "lenName": 16,
    "lenType": 16,
    "lenVar": 40
   },
   "kernels_config": {
    "python": {
     "delete_cmd_postfix": "",
     "delete_cmd_prefix": "del ",
     "library": "var_list.py",
     "varRefreshCmd": "print(var_dic_list())"
    },
    "r": {
     "delete_cmd_postfix": ") ",
     "delete_cmd_prefix": "rm(",
     "library": "var_list.r",
     "varRefreshCmd": "cat(var_dic_list()) "
    }
   },
   "types_to_exclude": [
    "module",
    "function",
    "builtin_function_or_method",
    "instance",
    "_Feature"
   ],
   "window_display": false
  }
 },
 "nbformat": 4,
 "nbformat_minor": 5
}