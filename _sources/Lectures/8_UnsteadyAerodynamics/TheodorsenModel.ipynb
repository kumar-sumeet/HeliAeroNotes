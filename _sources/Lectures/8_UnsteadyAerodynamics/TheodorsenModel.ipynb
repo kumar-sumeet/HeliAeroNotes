{
 "cells": [
  {
   "cell_type": "markdown",
   "id": "becoming-programmer",
   "metadata": {},
   "source": [
    "# Theodorsen Theory"
   ]
  },
  {
   "cell_type": "markdown",
   "id": "golden-florist",
   "metadata": {},
   "source": [
    "```{epigraph}\n",
    "\"...why linear systems are so important. The answer is simple: because we can solve them!\"\n",
    " \n",
    "```\n",
    "<p style=\"text-align:right\" > <a href=\"https://www.feynmanlectures.caltech.edu/I_25.html\"> Richard Feynman</a> </p>"
   ]
  },
  {
   "cell_type": "markdown",
   "id": "hundred-comment",
   "metadata": {},
   "source": [
    "Theodore Theodorsen was first to publish a complete and detailed solution to the problem of aerodynamic loads on an oscillating lifting surface. Chapter 5 in {cite}`BAE0` is a great resource for understanding the theoretical foundations of the Theodorsen model (even *better* than the original paper by Dr Theodorsen that describes the model {cite}`A21`). That said, the complete derivation is mathematically involved and requires meticulously solving a lot of complex-valued integrals. Here we will start with the final results proposed by Theodorsen and work our way to backwards with the motivation to understand the expressions involved intuitively and take assummptions involved at face value.\n",
    "\n"
   ]
  },
  {
   "cell_type": "markdown",
   "id": "parliamentary-bracket",
   "metadata": {},
   "source": [
    "The Theodorsen theory, or alternately the Theodorsen model, has been developed in the frequency domain i.e. the variable of interest is the frequency of input. The input in this case refers to the frequency at which the airfoil is moving. The Theodorsen theory only accounts for the pitching and heaving motions of the airfoil."
   ]
  },
  {
   "cell_type": "markdown",
   "id": "economic-istanbul",
   "metadata": {},
   "source": [
    "```{admonition} Aside: Linear time-invariant systems (LTI)\n",
    "The behavior of a dynamical system ccan be mathematically represented using the input forcing $x(t)$, the output response $y(t)$ and the operator $h$ that operates on the input.\n",
    "<center>\n",
    "    <img src=\"../../assets/B25_Pg44_1.png\" class=\"large\">\n",
    "</center>\n",
    "If we just focus on the cases where the operator $h$ is given by only a combination of the following -\n",
    "<center>\n",
    "    <img src=\"../../assets/B25_Pg43.png\" class=\"large\">\n",
    "</center>\n",
    "In this case, the system is expected to have the following characteristics-\n",
    "<div class=\"image-grid3\">\n",
    "    <img  src=\"../../assets/B25_Pg44_2.png\" class=\"medium\"/>\n",
    "    <img  src=\"../../assets/B25_Pg45.png\" class=\"medium\"/>\n",
    "    <img  src=\"../../assets/B25_Pg46.png\" class=\"medium\"/>\n",
    "</div>\n",
    "\n",
    "<div class=\"image-grid3\"> \n",
    "  <p > \n",
    "  </p> \n",
    "  <p > \n",
    "  </p> \n",
    "  <p > \n",
    "  </p> \n",
    "</div>\n",
    "\n",
    "The discussion above and all the corresponding figures shown have been obtained from <p><a href=\"https://drive.google.com/file/d/1LAjaDDViFG4H7dQ6PQVHo8XSQHS59GJf/view?pli=1\">[source] </a></p>.\n",
    "```"
   ]
  },
  {
   "cell_type": "markdown",
   "id": "substantial-sperm",
   "metadata": {},
   "source": [
    "```{admonition} Aside: Frequency Response\n",
    "In the analysis of dynamical systems there has been sufficient progress so much so that there are multiple domains of modelling strategies that are available for one to chose from - frequency response, state-space, time-domain and impulse response. All these strategies apply to linear systems only and are equivalent in that any one form can bbe obtained from any one of the other forms. Dynamical systems are often studied in the frequency domain because the linearity assumption means that solving for the system response becomes especially straightforward once the trasfer function $G(s)$ of the system is known. $G(s)$ relates the input forcing of the system at a given frequency to the output response of the system at the same frequency but now at a different amplitude as well as a phase shift.\n",
    "<center>\n",
    "    <img src=\"../../assets/FreqResponse.png\" class=\"medium\">\n",
    "</center>\n",
    "<center>\n",
    "    <img src=\"../../assets/BodePlot.png\" class=\"large\">\n",
    "    <p  style=\"font-size:16px; color:gray; text-align:center;\"> Bode plot <a href=\"https://commons.wikimedia.org/wiki/Bode_plot\">[source] </a></p>\n",
    "\n",
    "</center>\n",
    "```\n",
    "\n",
    "$$s=i\\omega$$\n",
    "$$\\frac{B}{A}=\\left | G(s) \\right |$$\n",
    "$$\\phi=\\text{arg}(G(s))$$\n"
   ]
  },
  {
   "cell_type": "markdown",
   "id": "printable-school",
   "metadata": {},
   "source": []
  },
  {
   "cell_type": "markdown",
   "id": "least-reporter",
   "metadata": {},
   "source": [
    "# Limitations\n",
    "\n",
    "The model is a solution of the unsteady potential flow so the problem of fluid flow represents a linear problem."
   ]
  },
  {
   "cell_type": "markdown",
   "id": "compressed-retirement",
   "metadata": {},
   "source": [
    "# Mathematical formulation: final equations"
   ]
  },
  {
   "cell_type": "markdown",
   "id": "center-invite",
   "metadata": {},
   "source": [
    "<center>\n",
    "    <img src=\"../../assets/A21_fig2.png\" class=\"large\">\n",
    "    <p  style=\"font-size:16px; color:gray; text-align:center;\"> Airfoil+trailing-edge flap model in Theodorsen model <a href=\"https://ntrs.nasa.gov/api/citations/19930090935/downloads/19930090935.pdf\">[source] </a></p>\n",
    "\n",
    "</center>"
   ]
  },
  {
   "cell_type": "markdown",
   "id": "defined-clothing",
   "metadata": {},
   "source": [
    "The scchematic model of the airfoil with trailing-edge used in the Theodorsen model is shown above. The airfoil is placed such that the origin coincides with the mid-chord of the airfoil. The total chord length is $2b$ where $b$ is referred to as the semi-chord. This is done because quite often it is the semi-chord that keeps popping up in expressions rather than the total chord itself. The symbol $c$ is reserved for the distance of the flap hinge from the mid-chord."
   ]
  },
  {
   "cell_type": "markdown",
   "id": "transparent-pasta",
   "metadata": {},
   "source": [
    "The total lift acting on the complete airfoil (i.e. together with flap) is"
   ]
  },
  {
   "cell_type": "markdown",
   "id": "weekly-somewhere",
   "metadata": {},
   "source": [
    "\\begin{aligned}\n",
    "L= \\underbrace{-\\rho b^2\\left(v \\pi \\ddot{\\alpha}+\\pi \\ddot{h}-\\pi b a \\ddot{\\alpha}-v T_4 \\dot{\\beta}-T_1 b \\ddot{\\beta}\\right)}_\\text{added mass} \\underbrace{-2 \\pi \\rho v b C(k)\\left\\{v \\alpha+\\dot{h}+ b\\left(\\frac{1}{2}-a\\right) \\dot{\\alpha}+\\frac{1}{\\pi} T_{10} v \\beta\\right.  \\left.+b \\frac{1}{2 \\pi} T_{11} \\dot{\\beta}\\right\\}}_\\text{circulatory}\n",
    "\\end{aligned}"
   ]
  },
  {
   "cell_type": "markdown",
   "id": "south-worst",
   "metadata": {},
   "source": [
    "Moment acting about the hinge of the trailine-edge flap is"
   ]
  },
  {
   "cell_type": "markdown",
   "id": "baking-popularity",
   "metadata": {},
   "source": [
    "\\begin{aligned}\n",
    "M_\\beta= & \\underbrace{-\\rho b^2\\left[\\left\\{-2 T_z-T_1+T_4\\left(a-\\frac{1}{2}\\right)\\right\\} v b \\dot{\\alpha}+2 T_{13} b^2 \\ddot{\\alpha}+\\frac{1}{\\pi} v^2 \\beta\\left(T_5-T_4 T_{10}\\right)-\\frac{1}{2 \\pi} v b \\dot{\\beta} T_4 T_{11}-\\frac{1}{\\pi} T_3 b^2 \\ddot{\\beta} -T_1 b \\ddot{h}\\right]}_\\text{added mass} \\\\\n",
    "& \\underbrace{-\\rho v b^2 T_{12} C(k)\\left[v \\alpha+\\dot{h}+b\\left(\\frac{1}{2}-a\\right) \\dot{\\alpha}+\\frac{1}{\\pi} T_{10} v \\beta+b \\frac{1}{2 \\pi} T_{11} \\dot{\\beta}\\right]}_\\text{circulatory}\n",
    "\\end{aligned}"
   ]
  },
  {
   "cell_type": "markdown",
   "id": "expensive-method",
   "metadata": {},
   "source": [
    "Moment acting about the hinge of the trailine-edge flap is"
   ]
  },
  {
   "cell_type": "markdown",
   "id": "searching-reproduction",
   "metadata": {},
   "source": [
    "\\begin{aligned}\n",
    "M_\\alpha = & \\underbrace{-\\rho b^2\\left[\\pi\\left(\\frac{1}{2}-a\\right) v b \\dot{\\alpha}+\\pi b^2\\left(\\frac{1}{8}+a^2\\right) \\ddot{\\alpha} +\\left(T_4+T_{10}\\right) v^2 \\beta +\\left(T_1-T_8-(c-a) T_4+\\frac{1}{2} T_{11}\\right) v b \\dot{\\beta} -\\left(T_7+(c-a) T_1\\right) b^2 \\ddot{\\beta}-a \\pi b \\ddot{h}\\right]}_\\text{added mass} \\\\\n",
    "& \\underbrace{+2 \\rho v b^2 \\pi\\left(a+\\frac{1}{2}\\right) C(k)\\left[v \\alpha+\\dot{h}+b\\left(\\frac{1}{2}-a\\right) \\dot{\\alpha}\\right.  \\left.+\\frac{1}{\\pi} T_{10} v \\beta+b \\frac{1}{2} T_{11} \\dot{\\beta}\\right]}_\\text{circulatory}\n",
    "\\end{aligned}"
   ]
  },
  {
   "cell_type": "markdown",
   "id": "threaded-memorial",
   "metadata": {},
   "source": [
    "The final equations are a result of the airfoil kinematics and the complex valued function $C(k)$, commonly referred to as the Theodorsen function in literature. The former ... and the latter manifests the time history of the oscillation, thereby incorporating hysteresis effects in the aerodynamic loads experienced by an airfoil. "
   ]
  },
  {
   "cell_type": "markdown",
   "id": "changing-wesley",
   "metadata": {},
   "source": [
    "### apparent mass terms"
   ]
  },
  {
   "cell_type": "markdown",
   "id": "correct-fraud",
   "metadata": {},
   "source": [
    "- lift without circulation!\n",
    "    - this is impossible in steady state aerodynamics!!\n",
    "- relevant in high frequency oscillations\n",
    "- ignored in civil engineering analyses"
   ]
  },
  {
   "cell_type": "markdown",
   "id": "foster-shade",
   "metadata": {},
   "source": [
    "## Relevant building blocks"
   ]
  },
  {
   "cell_type": "markdown",
   "id": "driven-atlantic",
   "metadata": {},
   "source": [
    "Understanding the Theodorsen theory requires a refresher of a number of theoretical aerodynamics concepts."
   ]
  },
  {
   "cell_type": "markdown",
   "id": "bacterial-evanescence",
   "metadata": {},
   "source": [
    "- Potential flow theory\n",
    "- Kutta condition\n",
    "- No-penetration boundary condition\n",
    "- Conservation of circulation\n",
    "- Conformal mapping\n",
    "    - Joukowski transformation\n",
    "- Unsteady Bernoulli's equation    "
   ]
  },
  {
   "cell_type": "markdown",
   "id": "atomic-string",
   "metadata": {},
   "source": [
    "The first four concepts mentioned above are sufficient to solve for the unsteady aerodynamic behavior. However, the Laplace's equation cannot be directly solved for the flow around an airfoil easily (or flat plate even, the flat plate being an idealisation the solutions for which are much easier to obtain analytically in closed form). "
   ]
  },
  {
   "cell_type": "markdown",
   "id": "offensive-sleep",
   "metadata": {},
   "source": [
    "## Non-circulatory lift"
   ]
  },
  {
   "cell_type": "markdown",
   "id": "crucial-alpha",
   "metadata": {},
   "source": [
    "So the problem boils down to solving the Laplacian for the flow around a circular cross-section and then using the conformal mapping to obtain the flow around the thin airfoil profile. Thereafter, once the potential function in the z-plane is obtained only the corresponding potential function value at the airfoil surface is of interest since it, and its derivates, are directly related to the aerodynamic pressure forces. The pressure forces can be integrated over the entire airfoil to obtain forces and moments."
   ]
  },
  {
   "cell_type": "markdown",
   "id": "2dc6439e",
   "metadata": {},
   "source": [
    "### Potential flow theory and conformal mapping"
   ]
  },
  {
   "cell_type": "markdown",
   "id": "collected-northern",
   "metadata": {},
   "source": [
    "The Theodorsen's model begins with the conformal representation of a flat plate (airfoil) as a circle. The idea is to place sources around the circle so that a circular streamline is obtained that imitates a circle placed in a fluid. Thereafter, using conformal mapping principles the fluid velocity distribution around the airfoil can be obtained."
   ]
  },
  {
   "cell_type": "markdown",
   "id": "compliant-stretch",
   "metadata": {},
   "source": [
    "<center>\n",
    "    <img src=\"../../assets/TheodorsenConformal1.png\" class=\"medium\">\n",
    "    <p  style=\"font-size:16px; color:gray; text-align:center;\"> Conformal representation of a flat plate (airfoil) as a circle within the Theodorsen model.</p>\n",
    "\n",
    "</center>\n"
   ]
  },
  {
   "cell_type": "markdown",
   "id": "bizarre-commander",
   "metadata": {},
   "source": [
    "Recall that the complex function $F(\\xi)$ can be written down for the case of a source/sink. In case the source/sink is not exactly as the origin, an offset can be applied as"
   ]
  },
  {
   "cell_type": "markdown",
   "id": "generous-rings",
   "metadata": {},
   "source": [
    "$$F(\\xi) = \\frac{\\frac{b}{2}q(\\varphi)d\\varphi}{2\\pi}\\text{ln} (\\xi-\\frac{b}{2}e^{i\\varphi}) - \\frac{\\frac{b}{2}q(\\varphi)d\\varphi}{2\\pi}\\text{ln} (\\xi-\\frac{b}{2}e^{-i\\varphi})$$"
   ]
  },
  {
   "cell_type": "markdown",
   "id": "controlled-flooring",
   "metadata": {},
   "source": [
    "The corresponding velocity in the complex plane is"
   ]
  },
  {
   "cell_type": "markdown",
   "id": "about-image",
   "metadata": {},
   "source": [
    "\\begin{equation*} \n",
    "\\begin{split} \n",
    "\\bar{W}=\\frac{d F}{d \\xi}&=\\frac{q(\\varphi) b d \\varphi}{4 \\pi}\\left[\\frac{1}{\\xi-\\frac{b}{2} e^{i\\varphi}}-\\frac{1}{\\xi-\\frac{b}{2} e^{-i\\varphi}}\\right]\\\\\n",
    "&=\\frac{q(\\varphi) b^2 d \\varphi}{4 \\pi} \\frac{2 i \\sin \\varphi}{r^2 e^{2 i \\theta}-\\frac{b}{2} r e^{i \\theta}(2 \\cos \\varphi)+\\frac{b^2}{4}}\n",
    "\\end{split}\n",
    "\\end{equation*}"
   ]
  },
  {
   "cell_type": "markdown",
   "id": "attached-dispatch",
   "metadata": {},
   "source": [
    "$$\\bar{W}=V_{\\text{real}}+iV_{\\text{imag}} = (dV_{r}-idV_{\\theta})e^{-i\\theta}$$"
   ]
  },
  {
   "cell_type": "markdown",
   "id": "polyphonic-savannah",
   "metadata": {},
   "source": [
    "where $\\xi=re^{i\\theta}$, $dV_{r}$ and $dV_{\\theta}$ denote the contribution to $V_r$ and $V_\\theta$ at location $\\xi$ due to the source/sink pair on the circle at $\\frac{b}{2}e^{i\\varphi}$ and $\\frac{b}{2}e^{-i\\varphi}$. An integration over all such source/sink pairs over the entire cylinder will give the net radial and tangential flow velocities at any point in the domain. In particular, the tangential flow velocity at the cylinder surface i.e. at $r=\\frac{b}{2}$ simplifies to"
   ]
  },
  {
   "cell_type": "markdown",
   "id": "89de9b51",
   "metadata": {},
   "source": [
    "$$V_\\theta(\\frac{b}{2},\\theta) = -\\frac{1}{2\\pi }\\int_{0}^{\\pi }\\frac{q_\\varphi \\sin\\varphi d\\varphi}{\\cos \\theta -\\cos \\varphi}$$"
   ]
  },
  {
   "cell_type": "markdown",
   "id": "8c03104b",
   "metadata": {},
   "source": [
    "Similarly, the expression for $V_r(\\frac{b}{2},\\theta)$ can be obtained but some additional treatment is required so only the final expression will be stated here. "
   ]
  },
  {
   "cell_type": "markdown",
   "id": "e2a5015e",
   "metadata": {},
   "source": [
    "$$V_r(\\frac{b}{2},\\theta) = \\frac{q(\\theta)}{2}$$"
   ]
  },
  {
   "cell_type": "markdown",
   "id": "fb1f089d",
   "metadata": {},
   "source": [
    "### No-penetration boundary condition"
   ]
  },
  {
   "cell_type": "markdown",
   "id": "f71a1f3f",
   "metadata": {},
   "source": [
    "The velocity field at the cylinder surface is a function of the source/sink distribution strength $q(\\theta)$. This is an unknown quantity but knowledge about the motion of the airfoil can help arrive at a unique distribution using the no-penetration boundary condition.."
   ]
  },
  {
   "cell_type": "markdown",
   "id": "548d8a48",
   "metadata": {},
   "source": [
    "<center>\n",
    "    <img src=\"../../assets/TheodorsenAirfoilMotion.png\" class=\"medium\">\n",
    "    <p  style=\"font-size:16px; color:gray; text-align:center;\"> Representative airfoil motion involving pitching and plunging together with forward motion.</p>\n",
    "\n",
    "</center>"
   ]
  },
  {
   "cell_type": "markdown",
   "id": "04ac4279",
   "metadata": {
    "slideshow": {
     "slide_type": "slide"
    }
   },
   "source": [
    "In the airfoil domain, the velocity normal to the airfoil surface due to its motion is given by"
   ]
  },
  {
   "cell_type": "markdown",
   "id": "common-abraham",
   "metadata": {},
   "source": [
    "$$V_{\\text {motion }}(x, y=0)= V_{\\text {airfoil }}=-U_\\infty \\sin\\alpha-\\dot{h} \\cos \\alpha-\\dot{\\alpha}(x-a b) $$"
   ]
  },
  {
   "cell_type": "markdown",
   "id": "aa0ecff8",
   "metadata": {},
   "source": [
    "Theodorsen theory is concerned with only small motions of the airfoil such that the small angle approximation can be applied."
   ]
  },
  {
   "cell_type": "markdown",
   "id": "8e543441",
   "metadata": {},
   "source": [
    "$$\\Rightarrow V_{\\text {motion }}(x, y=0)= V_{\\text {airfoil }}\\approx-U_\\infty \\alpha-\\dot{h} -\\dot{\\alpha}(x-a b) $$"
   ]
  },
  {
   "cell_type": "markdown",
   "id": "834f8f9e",
   "metadata": {},
   "source": [
    "This is related to the radial velocity in the $\\xi$ domain on the surface of the cylinder by the relation-"
   ]
  },
  {
   "cell_type": "markdown",
   "id": "855c8bc0",
   "metadata": {},
   "source": [
    "$$V_r(\\frac{b}{2},\\theta) = 2\\sin \\theta V_{motion}$$"
   ]
  },
  {
   "cell_type": "markdown",
   "id": "differential-justice",
   "metadata": {},
   "source": [
    "We have already derived earlier that the velocity at the circle is related to the velocity at the airfoil surface by-"
   ]
  },
  {
   "cell_type": "markdown",
   "id": "focused-prerequisite",
   "metadata": {},
   "source": [
    "$$V_\\theta(R) = 2 U_\\infty \\sin \\theta$$"
   ]
  },
  {
   "cell_type": "markdown",
   "id": "9d216c74",
   "metadata": {},
   "source": [
    "### Putting it all together"
   ]
  },
  {
   "cell_type": "markdown",
   "id": "964ff92d",
   "metadata": {},
   "source": [
    "$$V_r(\\frac{b}{2},\\theta) = 2\\sin \\theta V_{motion}$$"
   ]
  },
  {
   "cell_type": "markdown",
   "id": "0b5b5e3e",
   "metadata": {},
   "source": [
    "$$V_r(\\frac{b}{2},\\theta) = \\frac{q(\\theta)}{2}$$"
   ]
  },
  {
   "cell_type": "markdown",
   "id": "3c0976b1",
   "metadata": {},
   "source": [
    "$$\\Rightarrow q(\\theta) = 4\\sin\\theta V_{motion}$$"
   ]
  },
  {
   "cell_type": "markdown",
   "id": "373cd1ff",
   "metadata": {},
   "source": [
    "Once the distribution of source/sinks is known around the cylinder then the tangential flow velocity at the cylinder surface $V_\\theta(\\frac{b}{2},\\theta)$ can be evaluated"
   ]
  },
  {
   "cell_type": "markdown",
   "id": "93b31eb7",
   "metadata": {},
   "source": [
    "\n",
    "\\begin{equation*} \n",
    "\\begin{split} \n",
    "V_\\theta(\\frac{b}{2},\\theta) &= -\\frac{1}{2\\pi }\\int_{0}^{\\pi }\\frac{q(\\varphi) \\sin\\varphi d\\varphi}{\\cos \\theta -\\cos \\varphi}\\\\\n",
    "&=-\\frac{1}{2\\pi }\\int_{0}^{\\pi }\\frac{4\\sin\\varphi V_{motion} \\sin\\varphi d\\varphi}{\\cos \\theta -\\cos \\varphi}\n",
    "\\end{split}\n",
    "\\end{equation*}"
   ]
  },
  {
   "cell_type": "markdown",
   "id": "748d9322",
   "metadata": {},
   "source": [
    "Again, skipping the intermediate steps the final result obtained as a consequence of carrying out the above integration is as follows-"
   ]
  },
  {
   "cell_type": "markdown",
   "id": "82f1e739",
   "metadata": {},
   "source": [
    "$$V_\\theta(\\frac{b}{2},\\theta)=2\\left[(U \\alpha+\\dot{h}-\\dot{\\alpha} a b) \\cos \\theta+\\frac{\\dot{\\alpha}b}{2} \\cos 2 \\theta\\right]$$"
   ]
  },
  {
   "cell_type": "markdown",
   "id": "5d755130",
   "metadata": {},
   "source": []
  },
  {
   "cell_type": "markdown",
   "id": "e686896f",
   "metadata": {},
   "source": [
    "\\begin{aligned}\n",
    "\\phi(\\theta) &= \\int_{\\pi}^{\\theta}\\frac{-q_\\varphi}{2\\sin \\varphi} (-b\\sin \\varphi d\\varphi) \\\\\n",
    "& =\\frac{-b}{2}\\int_{\\theta}^{\\pi}q_\\varphi d\\varphi \\\\\n",
    "\\end{aligned}"
   ]
  },
  {
   "cell_type": "markdown",
   "id": "d650975f",
   "metadata": {},
   "source": []
  },
  {
   "cell_type": "markdown",
   "id": "applied-newport",
   "metadata": {},
   "source": [
    "### Lift estimation"
   ]
  },
  {
   "cell_type": "markdown",
   "id": "8fb3c149",
   "metadata": {},
   "source": []
  },
  {
   "cell_type": "markdown",
   "id": "ordered-vehicle",
   "metadata": {},
   "source": [
    "## Results"
   ]
  },
  {
   "cell_type": "markdown",
   "id": "3bcc78c0",
   "metadata": {},
   "source": []
  },
  {
   "cell_type": "markdown",
   "id": "quiet-retention",
   "metadata": {},
   "source": [
    "### added mass - laplace + no-penetration"
   ]
  },
  {
   "cell_type": "markdown",
   "id": "superb-government",
   "metadata": {},
   "source": [
    "Sources and sinks balance to give a closed body\n",
    "If body accelerates then it is easy to imagine that the stregnth of the sources and sinks would not match (they would match if no acceleration, i.e. motion at constant velocity). Their strength comes from the velocity at the surface from the motion.\n",
    "When the body accelerates, there is an inertial effect the body feels that can translate to a force along the axis of motion. So if the general case of a pitching, plunging and surging airfoil is considered even a 'drag' effect is possible and so is a 'thrust' effect."
   ]
  },
  {
   "cell_type": "markdown",
   "id": "continuous-bruce",
   "metadata": {},
   "source": [
    "accelerate airfoil in vaccum and accelerate it in fluid difference"
   ]
  },
  {
   "cell_type": "markdown",
   "id": "accessible-arizona",
   "metadata": {},
   "source": [
    "The added mass terms do not represent a dynamical system - any acceleration reflects an instantaneous change in loads. This is due to fluid incompressibility assumption."
   ]
  },
  {
   "cell_type": "markdown",
   "id": "nearby-obligation",
   "metadata": {},
   "source": [
    "This is a valid mathematical solution to the Laplace equation but from the physics of the solution "
   ]
  },
  {
   "cell_type": "markdown",
   "id": "pretty-inspiration",
   "metadata": {},
   "source": [
    "### circulatory terms - kutta + circ conservation"
   ]
  },
  {
   "cell_type": "markdown",
   "id": "swedish-hazard",
   "metadata": {},
   "source": [
    "The no-penetration condition is again not violated. The added mass derivation took care of the motion of the flat plate by appropriately establishing the no-penetration condition. So the Kutta condition is now applied in order to make velocity at the trailing edge 0. The Kutta condition is satisfied by introducing circulation while keeping in mind that the circulation is conserved. "
   ]
  },
  {
   "cell_type": "markdown",
   "id": "electronic-sperm",
   "metadata": {},
   "source": [
    "$$v_{\\theta_{NC}} + v_{\\theta_C} = v_{\\theta} = 0$$"
   ]
  },
  {
   "cell_type": "markdown",
   "id": "inner-formation",
   "metadata": {},
   "source": [
    "A non-zero $v_{\\theta}$ in the in the XZ-domain will lead to infinite velocity in the xz-domain at the trailing-edge. Since such a result is not physically possible, and indeed the velocity at the trailing-edge is zero"
   ]
  },
  {
   "cell_type": "markdown",
   "id": "earlier-theorem",
   "metadata": {},
   "source": [
    "## Time-domain representation"
   ]
  },
  {
   "cell_type": "markdown",
   "id": "chicken-cinema",
   "metadata": {},
   "source": [
    "### Wagner's solution"
   ]
  },
  {
   "cell_type": "markdown",
   "id": "subtle-conservative",
   "metadata": {},
   "source": [
    "**It seems like the result of Fig 1 in A23_2 is inconcsistent with Wagners theory (why is half the lift not obtained instantaneously???)**"
   ]
  },
  {
   "cell_type": "markdown",
   "id": "enhanced-subsection",
   "metadata": {},
   "source": []
  },
  {
   "cell_type": "markdown",
   "id": "819713fa",
   "metadata": {},
   "source": []
  },
  {
   "cell_type": "markdown",
   "id": "1e57480f",
   "metadata": {},
   "source": [
    "# Summary"
   ]
  },
  {
   "cell_type": "markdown",
   "id": "52a43b79",
   "metadata": {},
   "source": [
    "Potential flow theory is based on the inviscid assumption so clearly the predicted drag force (i.e. force along the direction of flow) is zero leading to the d'Alembert's paradox. Of course this is not much of a paradox now given we modelled the fluid as an ideal fluid is some sense by ignoring viscosity altogether.\n",
    "\n",
    "In summary, *unsteadiness* comes from accounting for the vorticity in the wake and when wake vorticity (as in the case of the starting vortex) is not acocunted for the flow is considered to be steady. In addition, a steady airfoil generates lift which is purely due to the circulation of the flow but an airfoil undergoing unsteady motion will generate an added lift that is due to the displacement of the surrounding fluid.\n",
    "\n",
    "From the discussion till now, it is clear that there is a significant difference between the wake of an airfoil when it maintains a constant angle of attck versus when the airfoil is pitching. The difference arises due to the shed vorticity in the airfoil wake. In case of steady airfoil, the starting vortex convects far away but in case of the pitching airfoil vorticity is constantly being shed due to the changing bound circulation around the airfoil. These shed vortices in the vicinity of the airfoil have the potential to influence the aerodynamics of the airfoil and need to be accounted for. The criterion used to decide the threshold when unsteady aerodynamic effects might be significant enough, that they cannot be ignored, is called reduced frequency. "
   ]
  }
 ],
 "metadata": {
  "hide_input": false,
  "kernelspec": {
   "display_name": "Python 3 (ipykernel)",
   "language": "python",
   "name": "python3"
  },
  "language_info": {
   "codemirror_mode": {
    "name": "ipython",
    "version": 3
   },
   "file_extension": ".py",
   "mimetype": "text/x-python",
   "name": "python",
   "nbconvert_exporter": "python",
   "pygments_lexer": "ipython3",
   "version": "3.8.5"
  },
  "varInspector": {
   "cols": {
    "lenName": 16,
    "lenType": 16,
    "lenVar": 40
   },
   "kernels_config": {
    "python": {
     "delete_cmd_postfix": "",
     "delete_cmd_prefix": "del ",
     "library": "var_list.py",
     "varRefreshCmd": "print(var_dic_list())"
    },
    "r": {
     "delete_cmd_postfix": ") ",
     "delete_cmd_prefix": "rm(",
     "library": "var_list.r",
     "varRefreshCmd": "cat(var_dic_list()) "
    }
   },
   "types_to_exclude": [
    "module",
    "function",
    "builtin_function_or_method",
    "instance",
    "_Feature"
   ],
   "window_display": false
  }
 },
 "nbformat": 4,
 "nbformat_minor": 5
}
