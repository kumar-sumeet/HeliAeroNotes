{
 "cells": [
  {
   "cell_type": "markdown",
   "id": "056828fe",
   "metadata": {
    "slideshow": {
     "slide_type": "slide"
    }
   },
   "source": [
    "# Blade element theory"
   ]
  },
  {
   "cell_type": "markdown",
   "id": "cee783a0",
   "metadata": {
    "slideshow": {
     "slide_type": "-"
    }
   },
   "source": [
    "```{epigraph}\n",
    "\"Remember that all models are wrong; the practical question is how wrong do they have to be to not be useful.\" \n",
    "```\n",
    "<p style=\"text-align:right\" > <a href=\"https://en.wikipedia.org/wiki/All_models_are_wrong\"> G. Box (1987)</a> </p>\n"
   ]
  },
  {
   "cell_type": "markdown",
   "id": "bfe72b8d",
   "metadata": {
    "slideshow": {
     "slide_type": "skip"
    }
   },
   "source": [
    "Despite all the simplifications involved in the theoretical framework involving momentum theory, all the reasons why it is relevant were laid out in an earlier lecture. This was the only theory known for rotor analysis around the time VTOL inventions were taking-off (pun intended). So, for what its worth, initial helicopter rotor designs were surely dictated in some manner by analyses based on momentum theory. One major drawback that has been stressed upon is the lack of any direct relation between rotor aerodynamics and blade sectional aerodynamics. The Blade Element Theory (BET) takes care of that by incorporating airfoil aerodynamics. Therefore, unlike momentum theory which only has radius as the design variable, BET can be used in a more detailed design of the rotor. The central idea is that rotors are made up of blades (or wings) whose cross-sections are shaped like airfoils. The integrated effect of discretized sections of the blades leads to all the rotor forces and moments experienced at the rotor hub. In the following, the airfoil aerodynamics are accounted for but certain simplfying assumptions still persist lest things get hopelessly complicated. In general, BET refers to a whole class of modelling frameworks where the inflow velocity at the rotor disk is evaluated using a separate model - ranging from simple momentum theory to vortex-based models - while the blade aerodynamics is evaluated using blade 2D section (airfoil) aerodynamics. "
   ]
  },
  {
   "cell_type": "markdown",
   "id": "fc95ba9f",
   "metadata": {
    "slideshow": {
     "slide_type": "skip"
    }
   },
   "source": [
    "The spacing between rotor blades is generally large enough that there is no blade-blade interference except perhaps in the case of co-axial rotors where the rotors are stacked close to each other. There is another form of blade-blade interference that exists in the form of interaction of the wake of the blades. This is referred to as BVI and in helicopter rotors this occurs during low speed flight when the rotor disk has a low negative tilt or positive tilt angle. When none of the aforementioned intereference effects occur, the rotor blade can be modelled as an independent entity and simply the sum of the time-varying forces on each blade can be added together to give the rotor forces over time. One can go a step further and model the blade itself as being composed of number of airfoil sections. That way the blade lift and drag, and by extension rotor thrust and torque, can be evaluated as function of airfoil aerodynamic characteristics and the local flow angle of attack at each section. That is precisely the premise of this chapter and the next. Note that the fundamental assumption here is that each blade section operates independent of all other blade sections. This assumption is not entirely acceptable for rotors because in certain positions over the rotor azimuth substantial radial flow can occur over the blade span, influencing the section boundary layers and the aerodynamics at any given blade section. However, radial flow corrections can be carried along the lines of sweep corrections in fixed-wing analysis {cite}`B0`(Section 6.22) and will not be further discussed here. Additionally, when blade-blade interactions do occur and absolutely need to be accounted for, the underlying rotor analysis is still be based on BET or BEMT and additional vortex-based modelling strategies can be incorporated to account for such effects. All in all, BET is a powerful rotor modelling framework that combined with a judicious application of correction strategies can lead to very accurate results. In fact, this solution strategy forms the basis of rotorcraft analysis models commonly referred to as 'comprehensive analysis' within the community. "
   ]
  },
  {
   "cell_type": "markdown",
   "id": "6597066c",
   "metadata": {
    "slideshow": {
     "slide_type": "skip"
    }
   },
   "source": [
    "```{admonition} Disclaimer\n",
    "Helicopter blades are flexible structures generally classified as beams due to their slender nature i.e. their length or span is quite larger compared to their width or chord. Thrust producing rotors of any kind are basically cantilevered beams so they undergo quite a bit elastic deformation. In case of helicopters, edgewise or forward flight of the rotor introduces periodic loading on the blades. Early rotor designs used blades made out of metal but current designs almost are constructed using composite materials due to their better fatigue properties {cite}`BD10`(Chapter 1, Pg 2). Whenever elastic aerodynamic structures are involved, there can be no standalone structural analysis or standalone aerodynamic analysis that would lead to a accurate result. The aerodynamic loading affects the structural deformation and that in turn influences the aerodynamic loads. This is a classic fluid-structure interaction problem that is encountered on helicopter rotors. That said, the trends in rotor performance can usually be captured very well assuming rigid rotor blades as well as provide insight into the phenomenology of rotor physics.  \n",
    "```"
   ]
  },
  {
   "cell_type": "markdown",
   "id": "1353af76",
   "metadata": {
    "slideshow": {
     "slide_type": "slide"
    }
   },
   "source": [
    "## Mathematical formulation"
   ]
  },
  {
   "cell_type": "markdown",
   "id": "c607b68a",
   "metadata": {
    "slideshow": {
     "slide_type": "skip"
    }
   },
   "source": [
    "Now that rotor parameters (beyond just radius) can be accounted for using BET, the following definitions come in handy - "
   ]
  },
  {
   "cell_type": "markdown",
   "id": "b15ffc73",
   "metadata": {
    "slideshow": {
     "slide_type": "skip"
    }
   },
   "source": [
    "Inflow ratio "
   ]
  },
  {
   "cell_type": "markdown",
   "id": "d94a5c02",
   "metadata": {
    "slideshow": {
     "slide_type": "skip"
    }
   },
   "source": [
    "$$ \\lambda  = v_i / \\Omega R $$"
   ]
  },
  {
   "cell_type": "markdown",
   "id": "5414c7f3",
   "metadata": {
    "slideshow": {
     "slide_type": "skip"
    }
   },
   "source": [
    "Non-dimensional radial location "
   ]
  },
  {
   "cell_type": "markdown",
   "id": "bd33f261",
   "metadata": {
    "slideshow": {
     "slide_type": "skip"
    }
   },
   "source": [
    "$$r = y/R$$"
   ]
  },
  {
   "cell_type": "markdown",
   "id": "0422331c",
   "metadata": {
    "slideshow": {
     "slide_type": "skip"
    }
   },
   "source": [
    "Solidity of the rotor "
   ]
  },
  {
   "cell_type": "markdown",
   "id": "57b8a5b1",
   "metadata": {
    "slideshow": {
     "slide_type": "skip"
    }
   },
   "source": [
    "$$\\sigma = NcR / \\pi R^2 = Nc / \\pi R$$"
   ]
  },
  {
   "cell_type": "markdown",
   "id": "8b2540d3",
   "metadata": {
    "hide_input": true,
    "slideshow": {
     "slide_type": "-"
    }
   },
   "source": [
    "<center>\n",
    "    <img src=\"../../assets/BEMT_1.png\" class=\"large\">\n",
    "    <p style=\"font-size:16px; color:gray; text-align:center;\" > Schematic of the blade model in BET <a href=\"\"> </a></p>\n",
    "</center>"
   ]
  },
  {
   "cell_type": "markdown",
   "id": "b40c9d2f",
   "metadata": {
    "rise": {
     "scroll": true
    },
    "slideshow": {
     "slide_type": "subslide"
    }
   },
   "source": [
    "<div style=\"float:right; width:43%;\" >\n",
    "    <img src=\"../../assets/BET_airfoil_loads.png\" class=\"big\" />\n",
    "    <p style=\"font-size:16px; color:gray; text-align:center;\" > Schematic of the flow and loads at a blade section <a href=\"\"> </a></p>\n",
    "</div>\n",
    "\n",
    "\n",
    "$$d F_{Z}=d L \\cos \\phi-d D \\sin \\phi$$\n",
    "\n",
    "$$d T=N(d L  \\cos \\phi-d D \\sin \\phi) \\approx N d L$$\n",
    "\n",
    "$$\\Rightarrow d C_{T}=\\frac{N C_{l} \\frac{1}{2} \\rho U_{T}^{2} c d y}{\\rho (\\Omega R^{2}) \\piR^{2}}$$\n",
    "\n",
    "$$d C_{T}=\\frac{\\sigma}{2} C_{l} r^{2} d r$$"
   ]
  },
  {
   "cell_type": "markdown",
   "id": "0a73b49a",
   "metadata": {
    "slideshow": {
     "slide_type": "skip"
    }
   },
   "source": [
    "Note that the lift and drag vectors shown in schematics are not scaled for clarity of representation. In reality, an airfoil exhibits lift/drag of upto 80 and a more accurate vectorial representation of airfoil lift and drag is given by the following schematic"
   ]
  },
  {
   "cell_type": "markdown",
   "id": "2ed6df4e",
   "metadata": {
    "slideshow": {
     "slide_type": "subslide"
    }
   },
   "source": [
    "<center>\n",
    "    <img src=\"../../assets/BA14_Fig81.png\" class=\"small\">\n",
    "    <p  style=\"font-size:16px; color:gray; text-align:center;\"> Representative aerodynamic lift and drag on an airfoil (modified from <a href=\"https://www.cambridge.org/core/books/lowspeed-aerodynamics/077FAF851C4582F1B7593809752C44AE\">[source]) </a></p>\n",
    "\n",
    "</center>"
   ]
  },
  {
   "cell_type": "markdown",
   "id": "56387e60",
   "metadata": {
    "slideshow": {
     "slide_type": "skip"
    }
   },
   "source": [
    "Assuming that the airfoil operates within the range where $C_l$ varies linearly with $\\alpha$, the thrust coefficient contribution due to the blade elements can be integrated and written as "
   ]
  },
  {
   "cell_type": "markdown",
   "id": "7707f6e8",
   "metadata": {
    "slideshow": {
     "slide_type": "subslide"
    }
   },
   "source": [
    "\\begin{equation*}\n",
    "\\begin{split}\n",
    "\\int d C_{T} &=\\int\\frac{\\sigma}{2} C_{l} r^{2} d r \\\\\n",
    "&=\\frac{\\sigma}{2} C_{l_{\\alpha}} \\int \\alpha r^{2} dr \\\\ \n",
    "&=\\frac{\\sigma}{2} C_{l_{\\alpha}} \\int(\\theta-\\phi) r^{2} d r \\\\ \n",
    "&=\\frac{\\sigma}{2} C_{l_{\\alpha}} \\int(\\theta-\\frac{U_P}{U_T}) r^{2} d r \\\\ \n",
    "&=\\frac{\\sigma}{2} C_{l_{\\alpha}} \\int(\\theta-\\frac {\\lambda \\Omega R}{\\Omega y}) r^{2} d r \\\\ \n",
    "&=\\frac{\\sigma}{2} C_{l_{\\alpha}} \\int (\\theta r^2 - \\lambda r) dr \\\\\n",
    "\\end{split}\n",
    "\\label{eq:CT_Cl} \\tag{1}\n",
    "\\end{equation*}"
   ]
  },
  {
   "cell_type": "markdown",
   "id": "7a81e257",
   "metadata": {
    "slideshow": {
     "slide_type": "skip"
    }
   },
   "source": [
    "where $U_P$ is the flow velocity perpendicular to the rotor disk (which in the case of hover is simply $v_i$) and $U_T$ is the tangential flow velocity in the plane of the rotor disk."
   ]
  },
  {
   "cell_type": "markdown",
   "id": "4bc29b21",
   "metadata": {
    "slideshow": {
     "slide_type": "skip"
    }
   },
   "source": [
    "In case of untwisted blades and uniform inflow, $\\theta$ and $\\lambda$ are constants. This is a highly restrictive assumption and one that is not found on real-world VTOL aircraft. Blades on all rotors have some built-in twist, this includes aircraft propellers, helicopter rotors, wind turbines etc. Slender rotor blades, as seen on full-scale helicopters or on wind turbines, can never be manufactured to be perfectly rigid so they undergo elastic torsion deformation that brings in an additional component to the twist of the blade due to elastic torsion. This elastic twist is dynamic in nature which in turn leads to a dynamic variation in blade sectional pitch (which in turn affects the angle of attack) and the resulting aerodynamic loads. As you can imagine this opens up a Pandora's box of physics that needs to be modelled. So for the purposes of our discussion here we also assume that the blades are perfectly rigid so that blade elastic deformation does not need to be accounted for at all. "
   ]
  },
  {
   "cell_type": "markdown",
   "id": "b4f6a423",
   "metadata": {
    "slideshow": {
     "slide_type": "subslide"
    }
   },
   "source": [
    "$$\\Rightarrow C_{T}=\\frac{\\sigma}{2} C_{l_{\\alpha}}\\left(\\frac{\\theta_{0}}{3}-\\frac{\\lambda}{2}\\right)=\\frac{\\sigma}{6} C_{l_{\\alpha}}\\left(\\theta_{0}-\\frac{3}{2} \\sqrt{\\frac{C_T}{2}}\\right)$$"
   ]
  },
  {
   "cell_type": "markdown",
   "id": "c4b98e71",
   "metadata": {
    "slideshow": {
     "slide_type": "skip"
    }
   },
   "source": [
    "where $\\frac{3}{2} \\sqrt{\\frac{C_{T}}{2}}$ is induced drag term. Correspondingly, if the amount of collective input is known then the resultant rotor thrust can be obtained."
   ]
  },
  {
   "cell_type": "markdown",
   "id": "a0cadec8",
   "metadata": {
    "slideshow": {
     "slide_type": "subslide"
    }
   },
   "source": [
    "$$\\Rightarrow \\theta_{0}=\\frac{6 C_{T}}{\\sigma C_{l_{\\alpha}}}+\\frac{3}{2} \\sqrt{\\frac{C_{T}}{2}}$$"
   ]
  },
  {
   "cell_type": "markdown",
   "id": "57c1b5b9",
   "metadata": {
    "slideshow": {
     "slide_type": "skip"
    }
   },
   "source": [
    "All the simplifying assumptions made under the umbrella of the BET now afford us the possibility to easily see the effect of one or more physical parameters, associated with the rotor, on the performance. "
   ]
  },
  {
   "cell_type": "markdown",
   "id": "aece59bb",
   "metadata": {
    "slideshow": {
     "slide_type": "skip"
    }
   },
   "source": [
    "In case of linear blade twist, the thrust coefficient can be calculated as follows"
   ]
  },
  {
   "cell_type": "markdown",
   "id": "b1424866",
   "metadata": {
    "slideshow": {
     "slide_type": "subslide"
    }
   },
   "source": [
    "\\begin{equation*}\n",
    "\\begin{split}\n",
    "\\theta&= \\theta_{0} +r \\theta_{t \\omega}; \\quad \\lambda=\\text { uniform } \\\\ \n",
    "C_{T} &=\\frac{\\sigma}{2} C_{l_{\\alpha}}\\left[ \\frac{\\theta_{0}}{3}+\\frac{\\theta_{t \\omega}}{4}-\\frac{\\lambda}{2} \\right] \\\\ &=\\frac{\\sigma}{2} C_{l_{\\alpha}}\\left[\\frac{\\theta_{75}}{3}-\\frac{\\lambda}{2}\\right] \n",
    "\\end{split}\n",
    "\\end{equation*}"
   ]
  },
  {
   "cell_type": "markdown",
   "id": "01627ddd",
   "metadata": {
    "slideshow": {
     "slide_type": "skip"
    }
   },
   "source": [
    "Based on the above result, it appears natural to use the pitch angle at $r=0.75$ as the collective angle value for a linearly twisted blade. As an example, the Bo 105 helicopter rotor has blades with a linear twist of $-8^°$ over a span of $R=4.912$ m. Due to the presence of root cut out, the lifting section of the blade has an effective twist of only $-6.6^°$ over its span."
   ]
  },
  {
   "cell_type": "markdown",
   "id": "771d24db",
   "metadata": {
    "slideshow": {
     "slide_type": "slide"
    }
   },
   "source": [
    "### Summary and conclusions"
   ]
  },
  {
   "cell_type": "markdown",
   "id": "85318812",
   "metadata": {
    "slideshow": {
     "slide_type": "-"
    }
   },
   "source": [
    "- Rotor aerodynamics as a cumulative of the airfoil aerodynamic properties\n",
    "- Uniform inflow-based results derived\n",
    "- In reality $\\lambda$ is not uniform, so there is room for a better model"
   ]
  },
  {
   "cell_type": "markdown",
   "id": "e463e1f1",
   "metadata": {
    "slideshow": {
     "slide_type": "skip"
    }
   },
   "source": [
    "A natural extension from here then is to account for the variation $\\lambda (r)$. Alfred Gessow proposed the blade element momentum theory (BEMT) that does precisely that."
   ]
  }
 ],
 "metadata": {
  "celltoolbar": "Slideshow",
  "hide_input": false,
  "kernelspec": {
   "display_name": "Python 3 (ipykernel)",
   "language": "python",
   "name": "python3"
  },
  "language_info": {
   "codemirror_mode": {
    "name": "ipython",
    "version": 3
   },
   "file_extension": ".py",
   "mimetype": "text/x-python",
   "name": "python",
   "nbconvert_exporter": "python",
   "pygments_lexer": "ipython3",
   "version": "3.8.5"
  },
  "latex_envs": {
   "LaTeX_envs_menu_present": true,
   "autoclose": true,
   "autocomplete": true,
   "bibliofile": "biblio.bib",
   "cite_by": "apalike",
   "current_citInitial": 1,
   "eqLabelWithNumbers": false,
   "eqNumInitial": 1,
   "hotkeys": {
    "equation": "Ctrl-E",
    "itemize": "Ctrl-I"
   },
   "labels_anchors": false,
   "latex_user_defs": false,
   "report_style_numbering": false,
   "user_envs_cfg": false
  },
  "rise": {
   "autolaunch": false,
   "backimage": "../../assets/tum_bg_top_right.png",
   "enable_chalkboard": true,
   "footer": "Sumeet Kumar, PhD candidate",
   "scroll": true
  },
  "varInspector": {
   "cols": {
    "lenName": 16,
    "lenType": 16,
    "lenVar": 40
   },
   "kernels_config": {
    "python": {
     "delete_cmd_postfix": "",
     "delete_cmd_prefix": "del ",
     "library": "var_list.py",
     "varRefreshCmd": "print(var_dic_list())"
    },
    "r": {
     "delete_cmd_postfix": ") ",
     "delete_cmd_prefix": "rm(",
     "library": "var_list.r",
     "varRefreshCmd": "cat(var_dic_list()) "
    }
   },
   "types_to_exclude": [
    "module",
    "function",
    "builtin_function_or_method",
    "instance",
    "_Feature"
   ],
   "window_display": false
  }
 },
 "nbformat": 4,
 "nbformat_minor": 5
}
