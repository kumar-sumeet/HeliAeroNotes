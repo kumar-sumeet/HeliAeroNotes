{
 "cells": [
  {
   "cell_type": "markdown",
   "id": "bizarre-paris",
   "metadata": {
    "hide_input": true,
    "slideshow": {
     "slide_type": "slide"
    }
   },
   "source": [
    "# Course Overview"
   ]
  },
  {
   "cell_type": "markdown",
   "id": "historic-compilation",
   "metadata": {
    "slideshow": {
     "slide_type": "-"
    }
   },
   "source": [
    "```{epigraph}\n",
    "\"If you're in trouble anywhere in the world, an airplane can fly over and drop flowers, but a helicopter can save your life.\"\n",
    "```\n",
    "\n",
    "<p style=\"text-align:right\" > <a href=\"https://www.sikorskyarchives.com/History.php\"> Igor Sikorsky</a> </p>\n"
   ]
  },
  {
   "cell_type": "markdown",
   "id": "agreed-limitation",
   "metadata": {
    "slideshow": {
     "slide_type": "-"
    }
   },
   "source": [
    "```{epigraph}\n",
    "\"...whatever progress the airplane might make, the helicopter will be taken up by advanced students of aeronautics.\"\n",
    "```\n",
    "\n",
    "<p style=\"text-align:right\" > <a href=\"https://books.google.de/books?id=PNDXCwAAQBAJ&printsec=frontcover\"> Thomas Edison (1908)</a> </p>\n"
   ]
  },
  {
   "cell_type": "markdown",
   "id": "played-ready",
   "metadata": {
    "slideshow": {
     "slide_type": "slide"
    }
   },
   "source": [
    "## Objective"
   ]
  },
  {
   "cell_type": "markdown",
   "id": "macro-convention",
   "metadata": {
    "slideshow": {
     "slide_type": "skip"
    }
   },
   "source": [
    "The objective of this course is to introduce physical concepts that are relevant for understanding and analysis of rotary-wings (as helicopter rotors are also referred to) in hover, axial and edgewise flight. The course would focus predominantly on aerodynamic aspects of vertical take-off and landing (VTOL) flight. Knowledge of aerodynamics of fixed-wing aircraft doesn't directly apply when studying *rotating* wings (hence the name *rotary-wing*). Of course, fundamental fluid dynamics concepts that govern the aerodynamics of fixed-wings also govern the aerodynamics of rotary-winged aircraft. However, as you would learn in the course, the manner in which the flow field evolves and the consitutuent flow structures are very different for these two classes of flying vehicles. Additionally, airfoil stall and unsteady aerodynamics theories are usually only briefly discussed in the context of fixed-wing aircraft but are fundamental to accurately predict rotorcraft performance. These will be encapsulated towards the end of the course detailing the aspects of. A lot of jargon, specific to rotorcraft, will be introduced as well. "
   ]
  },
  {
   "cell_type": "markdown",
   "id": "structured-premises",
   "metadata": {
    "slideshow": {
     "slide_type": "skip"
    }
   },
   "source": [
    "In order to study helicopter performance and dynamics one needs to be familiar with the mechanical complexity associated with the rotor structural design as well as the associated aerodynamics. While the two are intricately related we'll just look at the aerodynamics component in this course and bring up issues related to rotor elasticity when they serve our purpose of better understanding the aerodynamics. Broadly, the following themes/topics would be covered in this course -"
   ]
  },
  {
   "cell_type": "markdown",
   "id": "administrative-criterion",
   "metadata": {
    "slideshow": {
     "slide_type": "-"
    }
   },
   "source": [
    "- Momentum theory\n",
    "- Blade element momentum theory\n",
    "- Flight analysis in hover and forward flight\n",
    "- Compound helicopters\n",
    "- Modern rotor designs/active rotors\n",
    "- Unsteady Aerodynamics\n",
    "- Dynamic Stall"
   ]
  },
  {
   "cell_type": "markdown",
   "id": "legislative-wheat",
   "metadata": {
    "slideshow": {
     "slide_type": "slide"
    }
   },
   "source": [
    "## Books"
   ]
  },
  {
   "cell_type": "markdown",
   "id": "informed-center",
   "metadata": {
    "slideshow": {
     "slide_type": "-"
    }
   },
   "source": [
    "- Helicopter Aerodynamics by Ray Prouty (Vols. I, II and III) \n",
    "\n",
    "- Principles in Helicopter Aerodynamics by JG Leishman\n",
    "\n",
    "- Rotorcraft Aeromechanics by Wayne Johnson\n",
    "\n",
    "&nbsp;\n",
    "\n",
    "<div class=\"image-grid\">\n",
    "    <img  src=\"../assets/RayProutyBook1.png\" class=\"small\"/>\n",
    "    <img  src=\"../assets/B3.png\" class=\"small\"/>\n",
    "    <img  src=\"../assets/B0.png\" class=\"small\"/>\n",
    "\n",
    "   \n",
    "</div>\n",
    "\n",
    "<div class=\"image-grid\">\n",
    "  <p> Helicopter Aerodynamics\n",
    "  </p>\n",
    "  <p > Principles in Helicopter Aerodynamics\n",
    "  </p>\n",
    "  <p >  Rotorcraft Aeromechanics\n",
    "  </p>   \n",
    "\n",
    "</div>\n"
   ]
  },
  {
   "cell_type": "markdown",
   "id": "subsequent-treat",
   "metadata": {
    "slideshow": {
     "slide_type": "slide"
    }
   },
   "source": [
    "&nbsp;\n",
    "\n",
    "## Final grades"
   ]
  },
  {
   "cell_type": "markdown",
   "id": "fdf2fa70",
   "metadata": {
    "slideshow": {
     "slide_type": "-"
    }
   },
   "source": [
    "- Written Exam - 100%"
   ]
  },
  {
   "cell_type": "markdown",
   "id": "better-tribune",
   "metadata": {
    "slideshow": {
     "slide_type": "skip"
    }
   },
   "source": [
    " <p  style=\"  font-weight: bold; font-size:150%; color:black; text-align:center;\"> General Overview\n"
   ]
  },
  {
   "cell_type": "markdown",
   "id": "de2ae6f9",
   "metadata": {
    "slideshow": {
     "slide_type": "skip"
    }
   },
   "source": [
    "The term rotorcraft is used to refer to all aircraft that use large diameter[^LargeDiameter] rotors in order to achieve VTOL flight {cite}`B0`.  As the title of the course suggests, (for the sake of simplicity) here we would only deal with aerodynamics of helicopters i.e. that of a single main rotor+tail rotor design. That is not to say that the principles learned could not applied to rotorcraft with multiple rotors and wings. \n",
    "\n",
    "[^LargeDiameter]: As will become clearer as we go along in the course, the large diameter is not just a distinguishing design feature for classification purposes but rather a fundamental requirement for improved efficiency."
   ]
  },
  {
   "cell_type": "markdown",
   "id": "fifteen-garbage",
   "metadata": {
    "slideshow": {
     "slide_type": "slide"
    }
   },
   "source": [
    "## What makes a helicopter?"
   ]
  },
  {
   "cell_type": "markdown",
   "id": "ae70c233",
   "metadata": {
    "slideshow": {
     "slide_type": "skip"
    }
   },
   "source": [
    "A helicopter is a rotorcraft where one or more spinning rotors provide the thrust necessary for it to exhibit VTOL ability[^HelicopterDefinition]. A number of design configurations currently exist for helicopters. The most apparent difference is the number of *lifting* rotors and their placement over the aircraft. This is the source of many differences in overall aircraft performance and mission capabilities among the various designs shown below. Note that Autogyros fall within a class of their own and are not considered 'helicopters' since the rotor is not powered, as a consequence of which they cannot undertake sustained VTOL operations (a most distinctive feature of helicopters). \n",
    "\n",
    "[^HelicopterDefinition]: With the flood of practical design configurations possible due to the electrifcation of VTOL industry, this distinction of what precisely is a helicopter and what isn't have become blurry and this definition is mostly of academic relevance.  "
   ]
  },
  {
   "cell_type": "markdown",
   "id": "colored-grenada",
   "metadata": {
    "slideshow": {
     "slide_type": "-"
    }
   },
   "source": [
    "&nbsp;\n",
    "\n",
    "<div class=\"image-grid4\">\n",
    "    <img  src=\"../assets/Mi6Wing.jpeg\" class=\"big\"/>\n",
    "    <img  src=\"../assets/V22.jpeg\" class=\"big\"/>\n",
    "    <img  src=\"../assets/tandem_2.jpg\" class=\"big\" />\n",
    "    <img  src=\"../assets/kmax.jpeg\" class=\"big\"/>   \n",
    "</div>\n",
    "\n",
    "<div class=\"image-grid4\">\n",
    "  <p   > Mil Mi 6: lift-compounded <a href=\"https://en.wikipedia.org/wiki/Mil_Mi-6#/media/File:Mi-6_(cropped).jpg\"> [source]</a>\n",
    "  </p>   \n",
    "  <p  > Boeing V-22 Osprey: tilt-rotor<a href=\"https://en.wikipedia.org/wiki/Bell_Boeing_V-22_Osprey#/media/File:MV-22_mcas_Miramar_2014.JPG\"> [source]</a>\n",
    "  </p> \n",
    "  <p   > Boeing CH-47 Chinook: tandem rotor<a href=\"https://en.wikipedia.org/wiki/Boeing_CH-47_Chinook#/media/File:Pinnacle_manuever.jpg\"> [source]</a>\n",
    "  </p>\n",
    "  <p   > Kaman K-MAX: intermeshing rotor <a href=\"https://en.wikipedia.org/wiki/Kaman_K-MAX#/media/File:Kaman_K-MAX_-_Marine_Corps_Air_Station_Yuma_(cropped).jpg\"> [source]</a>\n",
    "  </p>\n",
    "</div>\n",
    "\n",
    "\n",
    "\n",
    "<div class=\"image-grid4\">\n",
    "    <img  src=\"../assets/Piasecki_X-49.jpeg\" class=\"big\"/>\n",
    "    <img  src=\"../assets/FaireyGyrodyne.jpeg\" class=\"big\"/>\n",
    "    <img  src=\"../assets/autogyro.jpg\" class=\"big\"/>\n",
    "    <img  src=\"../assets/x3.png\" class=\"big\"/>\n",
    "   \n",
    "</div>\n",
    "\n",
    "<div class=\"image-grid4\">\n",
    "  <p   > Piasecki X-49: thrust- and lift-compounded <a href=\"https://en.wikipedia.org/wiki/Piasecki_X-49#/media/File:Piasecki_X-49-3_(cropped).jpg\"> [source]</a>\n",
    "  </p>   \n",
    "  <p  >  Fairey Gyrodyne: no 'tail' rotor <a href=\"https://en.wikipedia.org/wiki/Fairey_FB-1_Gyrodyne#/media/File:Fairey_FB-1_Gyrodyne.jpg\"> [source]</a>\n",
    "  </p> \n",
    "  <p   > Autogyro <a href=\"https://en.wikipedia.org/wiki/Autogyro#/media/File:362934-gryocopter-pilot-norman-surplus-uploaded-august-11-2015-taken-from-surplus-website.jpg\"> [source]</a>\n",
    "  </p>\n",
    "  <p   > Airbus X3 Racer: thrust compounded<a href=\"https://vtol.org/qr/2015-ahs-history-calendar\"> [source]</a>\n",
    "  </p>\n",
    "</div>"
   ]
  },
  {
   "cell_type": "markdown",
   "id": "committed-devices",
   "metadata": {
    "slideshow": {
     "slide_type": "skip"
    }
   },
   "source": [
    "```{admonition} Food for Thought\n",
    "A common feature among all aircraft above seems to be the presence of atleast 2 rotors. Is a one-rotor design possible?\n",
    "Note: We are only concerned with aircraft that have VTOL capability.\n",
    "```"
   ]
  },
  {
   "cell_type": "markdown",
   "id": "dated-howard",
   "metadata": {
    "slideshow": {
     "slide_type": "slide"
    }
   },
   "source": [
    "## VTOL"
   ]
  },
  {
   "cell_type": "markdown",
   "id": "mighty-advertising",
   "metadata": {
    "slideshow": {
     "slide_type": "-"
    }
   },
   "source": [
    "- The central idea is to take-off and land vertically\n",
    "    - ...and do so with good efficiency\n",
    "\n",
    "- Which of the below adhere to this principle best? \n",
    "\n",
    "  - why? (hint: large rotor)\n",
    "  \n",
    "- A century of research has established the conventional design to be the most efficient... for now! \n",
    "    - caveats (weight class, tandem rotors)\n",
    "\n",
    "- What about the performance outside vertical take-off and landing operating state?\n",
    "\n",
    "<div class=\"image-grid\">\n",
    "    <img  src=\"../assets/spacex.jpg\" class=\"small\"/>\n",
    "    <img  src=\"../assets/harrier.jpeg\" class=\"small\"/>\n",
    "    <img  src=\"../assets/h160.jpg\" class=\"small\" />\n",
    "\n",
    "   \n",
    "</div>\n",
    "\n",
    "<div class=\"image-grid\">\n",
    "  <p   > Space X rockets <a href=\"https://en.wikipedia.org/wiki/SpaceX#/media/File:Falcon_Heavy_Side_Boosters_landing_on_LZ1_and_LZ2_-_2018_(25254688767).jpg\"> [source]</a>\n",
    "  </p>   \n",
    "  <p  > Harrier jump jet <a href=\"https://en.wikipedia.org/wiki/Harrier_Jump_Jet#/media/File:Spanish_EAV-8B_Harrier_II+_%22Cobra%22_(27448607244)_(cropped).jpg\"> [source]</a>\n",
    "  </p> \n",
    "  <p   > H160 <a href=\"https://en.wikipedia.org/wiki/Airbus_Helicopters_H160#/media/File:Airbus_Helicopters_H160_(cropped).jpg\"> [source]</a>\n",
    "  </p>\n",
    "</div>\n"
   ]
  },
  {
   "cell_type": "markdown",
   "id": "mighty-cooperation",
   "metadata": {
    "slideshow": {
     "slide_type": "slide"
    }
   },
   "source": [
    "## Required power (Bucket) curve\n"
   ]
  },
  {
   "cell_type": "markdown",
   "id": "connected-oxford",
   "metadata": {
    "slideshow": {
     "slide_type": "-"
    }
   },
   "source": [
    "\n",
    "&nbsp;\n",
    "<center>\n",
    "    <img src=\"../assets/power_curve.png\" class=\"large\">\n",
    "    <p  style=\"font-size:16px; color:gray; text-align:center;\">\n",
    "</center>"
   ]
  },
  {
   "cell_type": "markdown",
   "id": "thick-elevation",
   "metadata": {
    "slideshow": {
     "slide_type": "skip"
    }
   },
   "source": [
    "Many pecularities associated with helicopters can be inferred from the required power breakdown over the operational regime. The decrease in the total power that follows immediately after the helicopter transitions from hover to forwards flight is striking. It is apparent that the highest power is consumed by a helicopter in high fast forward flight operation but power requirement at hover also plays a critical deisn role. Of course, why that is exactly the case would be covered in detail in the following lectures. This unintuitive behavior of the power consumption by a helicopter leads to interesting performance characteristics. After all, why should a helicopter that is still with respect to the ground consume more energy per unit time that one that is moving forward (and therefore has associated drag that needs to be overcome)?! This also has critical design consequences - for e.g., 'hot and high' hover requirements might end up deciding the size of the engine installed because of high power requirement."
   ]
  },
  {
   "cell_type": "markdown",
   "id": "executed-highlight",
   "metadata": {
    "slideshow": {
     "slide_type": "slide"
    }
   },
   "source": [
    "## VTOL issues "
   ]
  },
  {
   "cell_type": "markdown",
   "id": "collect-andorra",
   "metadata": {
    "slideshow": {
     "slide_type": "-"
    }
   },
   "source": [
    "- Large thrust mismatch between VTOL and cruise \n",
    "\n",
    "  - either engines must be far more oversized for cruise, or that separate thrust devices are needed purely for the vertical flight"
   ]
  },
  {
   "cell_type": "markdown",
   "id": "experimental-atlantic",
   "metadata": {
    "slideshow": {
     "slide_type": "fragment"
    }
   },
   "source": [
    "- Trim\n",
    "    - Distribution of the thrust around the center of gravity for hover\n",
    "    - Mechanical complexity to facilitate the above"
   ]
  },
  {
   "cell_type": "markdown",
   "id": "smart-reporter",
   "metadata": {
    "slideshow": {
     "slide_type": "fragment"
    }
   },
   "source": [
    "- Fuel efficiency\n",
    "\n",
    "  - powered lift is inherently less efficient form than aerodynamic lift\n",
    "  \n",
    "  - using more engines and shafts to drive more propulsors decreases efficiencies further"
   ]
  },
  {
   "cell_type": "markdown",
   "id": "alpine-sewing",
   "metadata": {
    "slideshow": {
     "slide_type": "slide"
    }
   },
   "source": [
    "## Wheel of (Mis)fortune"
   ]
  },
  {
   "cell_type": "markdown",
   "id": "sexual-connecticut",
   "metadata": {
    "slideshow": {
     "slide_type": "-"
    }
   },
   "source": [
    "<div style=\"float:right; width:43%;\" >\n",
    "    <img src=\"../assets/wheel.jpg\" class=\"big\" />\n",
    "    <p style=\"text-align:center; color:gray; font-size:16px;\"> AHS Wheel <a href=\"https://vertipedia-legacy.vtol.org/vstol/wheel.htm\"> [source]</a>\n",
    "  </p>\n",
    "</div>\n",
    "\n",
    "\n",
    "\n",
    "<!--- this list next to a float doesn't wrap in slideshow view for some reason \n",
    "possible to insert manual breaks, or use regular text without bullets-->\n",
    "\n",
    "- Most V/STOVL aircraft never <br>\n",
    "  entered production stage\n",
    "  \n",
    "- MANY engineering strategies tried <br>\n",
    "  out to make helicopters go fast. <br>\n",
    "  Almost all failed.  \n",
    "  \n",
    "- Some concepts making a comeback \n",
    "\n",
    "  - piston/turboshaft power <br>\n",
    "    different from electric!\n",
    "    \n",
    "  - advances in structures (this <br>\n",
    "    also makes the conventional <br>\n",
    "    design more lucrative)"
   ]
  },
  {
   "cell_type": "markdown",
   "id": "electrical-paradise",
   "metadata": {
    "slideshow": {
     "slide_type": "skip"
    }
   },
   "source": [
    "Basically, almost any design imaginable, that was also possible with the technology level back then, \n",
    "was built and tested. "
   ]
  },
  {
   "cell_type": "markdown",
   "id": "alternate-white",
   "metadata": {
    "slideshow": {
     "slide_type": "slide"
    }
   },
   "source": [
    "## Aircraft trim"
   ]
  },
  {
   "cell_type": "markdown",
   "id": "tight-people",
   "metadata": {
    "slideshow": {
     "slide_type": "-"
    }
   },
   "source": [
    "<div style=\"float:right; width:55%\"; >\n",
    "    <img src=\"../assets/forces_moment.png\" />\n",
    "    <p style=\"font-size:16px; color:gray; text-align:center;\"> Forces and moments balance about CG (modified from<a href=\"https://en.wikipedia.org/wiki/Sikorsky_UH-60_Black_Hawk#/media/File:Jordanian_Air_Force_UH-60_Black_Hawk_helicopter_(cropped).jpg\"> [source]</a>)</p>\n",
    "</div>\n",
    "\n",
    "\n",
    "&nbsp;\n",
    "\n",
    "\n",
    "Net force and angular momentum of the aircraft should equal zero\n",
    "\t\n",
    "Vertical component of thrust = aircraft weight\n",
    "\n",
    "Horizontal component of thrust = aircraft drag\n",
    "\n",
    "Unbalanced moment = pitch/roll moment"
   ]
  },
  {
   "cell_type": "markdown",
   "id": "muslim-ukraine",
   "metadata": {
    "slideshow": {
     "slide_type": "slide"
    }
   },
   "source": [
    "## Real-world applications"
   ]
  },
  {
   "cell_type": "markdown",
   "id": "filled-upper",
   "metadata": {
    "slideshow": {
     "slide_type": "skip"
    }
   },
   "source": [
    "The eventual goal would be to apply the concepts learned during the course to real world rotors (since rotors are central to helicopter performance and lifting abilities, in most scenarios a good rotor design leads to a good helicopter design [^RealWorld])\n",
    "\n",
    "[^RealWorld]: This is not universally true. "
   ]
  },
  {
   "cell_type": "markdown",
   "id": "indoor-trauma",
   "metadata": {
    "slideshow": {
     "slide_type": "skip"
    }
   },
   "source": [
    "<p  style=\"  font-weight: bold; \"> What makes the below design special from the rest of the (conventional design) helicopters that the speed record set by it *still* stands - 400 km/hr?"
   ]
  },
  {
   "cell_type": "markdown",
   "id": "instant-overall",
   "metadata": {
    "slideshow": {
     "slide_type": "subslide"
    }
   },
   "source": [
    "<center>\n",
    "    <img src=\"../assets/lynx.png\" class=\"medium\">\n",
    "    <p style=\"font-size:16px; color:gray; text-align:center;\" > Augusta Westland Lynx <a href=\"https://vtol.org/qr/2015-ahs-history-calendar\"> [source]</a></p>\n",
    "\n",
    "</center>"
   ]
  },
  {
   "cell_type": "markdown",
   "id": "isolated-genetics",
   "metadata": {
    "slideshow": {
     "slide_type": "skip"
    }
   },
   "source": [
    "<p  style=\"  font-weight: bold; \">What makes the below design special that it can *easily* do ~460 km/hr?"
   ]
  },
  {
   "cell_type": "markdown",
   "id": "rubber-kinase",
   "metadata": {
    "slideshow": {
     "slide_type": "subslide"
    }
   },
   "source": [
    "    \n",
    "<center>\n",
    "    <img src=\"../assets/Defiant.jpg\" class=\"medium\">\n",
    "    <p  style=\"font-size:16px; color:gray; text-align:center;\"> Sikorsky–Boeing SB-1 Defiant <a href=\"https://en.wikipedia.org/wiki/Sikorsky%E2%80%93Boeing_SB-1_Defiant#/media/File:Sikorsky%E2%80%93Boeing_SB-1_Defiant_(cropped).jpg\">[source] </a></p>\n",
    "\n",
    "</center>\n"
   ]
  },
  {
   "cell_type": "markdown",
   "id": "abandoned-market",
   "metadata": {
    "slideshow": {
     "slide_type": "skip"
    }
   },
   "source": [
    "<p  style=\"  font-weight: bold; \">What makes this design special that it still holds the flight altitude record of 12,442 m?"
   ]
  },
  {
   "cell_type": "markdown",
   "id": "reliable-horse",
   "metadata": {
    "slideshow": {
     "slide_type": "subslide"
    }
   },
   "source": [
    "<center>\n",
    "    <img src=\"../assets/Aerospatiale_SA-315B_HB-XTM.jpeg\" class=\"medium\">\n",
    "    <p  style=\"font-size:16px; color:gray; text-align:center;\"> Aérospatiale SA 315B Lama <a href=\"https://en.wikipedia.org/wiki/A%C3%A9rospatiale_SA_315B_Lama#/media/File:Aerospatiale_SA-315B_HB-XTM.jpg\">[source] </a></p>\n",
    "\n",
    "</center>\n"
   ]
  },
  {
   "cell_type": "markdown",
   "id": "attempted-asbestos",
   "metadata": {
    "slideshow": {
     "slide_type": "skip"
    }
   },
   "source": [
    "<p  style=\"  font-weight: bold; \">What is making the concept of electric VTOLs or eVTOLs so attractive? Is it just swiping the fuel tank for a battery?"
   ]
  },
  {
   "cell_type": "markdown",
   "id": "frequent-retailer",
   "metadata": {
    "slideshow": {
     "slide_type": "subslide"
    }
   },
   "source": [
    "&nbsp;\n",
    "\n",
    "\n",
    "<div class=\"image-grid4\">\n",
    "    <img  src=\"../assets/volocopter.jpg\" class=\"large\"/>\n",
    "    <img  src=\"../assets/eHang.webp\" class=\"large\"/>\n",
    "    <img  src=\"../assets/CityAirbus.jpeg\" class=\"big\"/>\n",
    "    <img  src=\"../assets/lilium.jpeg\" class=\"big\"/>\n",
    "</div>\n",
    "\n",
    "<div class=\"image-grid4\">\n",
    "  <p   > Volocopter<a href=\"https://mediahub-volocopter.pixxio.media/start/detail/1684#downloadarea\"> [source]</a>\n",
    "  </p>   \n",
    "  <p  > EHang <a href=\"https://newatlas.com/aircraft/ehang-production-facility-video/\"> [source]</a>\n",
    "  </p> \n",
    "  <p   > Airbus CityAirbus <a href=\"https://en.wikipedia.org/wiki/Airbus_CityAirbus#/media/File:Airbus_CityAirbus_D-HCIA_hovering.jpg\"> [source]</a>\n",
    "  </p>\n",
    "  <p   > Lilium <a href=\"https://www.google.com/url?sa=i&url=https%3A%2F%2Flilium.com%2F&psig=AOvVaw1_Jrye3JhZxoubTUKVt1Vq&ust=1650618196918000&source=images&cd=vfe&ved=0CAwQjRxqFwoTCKjlv6jmpPcCFQAAAAAdAAAAABAD\"> [source]</a>\n",
    "  </p>\n",
    "</div>\n"
   ]
  },
  {
   "cell_type": "markdown",
   "id": "polished-think",
   "metadata": {
    "slideshow": {
     "slide_type": "slide"
    }
   },
   "source": [
    "## Lectures 1 and 2"
   ]
  },
  {
   "cell_type": "markdown",
   "id": "nuclear-hardware",
   "metadata": {
    "slideshow": {
     "slide_type": "-"
    }
   },
   "source": [
    "*Fluid behavior around rotors and airfoil using the Newton's second law of motion.*"
   ]
  },
  {
   "cell_type": "markdown",
   "id": "a1f2a026",
   "metadata": {
    "slideshow": {
     "slide_type": "-"
    }
   },
   "source": [
    "<center>\n",
    "    <img src=\"../assets/MT_hover.png\" class=\"medium\" />\n",
    "    <p style=\"text-align:center; color:gray; font-size:16px;\"> Hovering rotor flowfield model in momentum theory</p>\n",
    "</center>\n",
    "\n"
   ]
  },
  {
   "cell_type": "markdown",
   "id": "approved-circle",
   "metadata": {
    "slideshow": {
     "slide_type": "slide"
    }
   },
   "source": [
    "## Lectures 3 and 4"
   ]
  },
  {
   "cell_type": "markdown",
   "id": "08a0b8b9",
   "metadata": {
    "slideshow": {
     "slide_type": "-"
    }
   },
   "source": [
    "*Rotor performance as a cumulative effect of airfoil sections that make up the rotor blades.*"
   ]
  },
  {
   "cell_type": "markdown",
   "id": "77d8db53",
   "metadata": {
    "slideshow": {
     "slide_type": "-"
    }
   },
   "source": [
    "<center>\n",
    "    <img src=\"../assets/BET_airfoil_loads.png\" class=\"medium\" />\n",
    "    <p style=\"font-size:16px; color:gray; text-align:center;\" > 2D blade section aerodynamic loads <a href=\"\"> </a></p>\n",
    "</center>\n"
   ]
  },
  {
   "cell_type": "markdown",
   "id": "collective-terror",
   "metadata": {
    "slideshow": {
     "slide_type": "slide"
    }
   },
   "source": [
    "## Lectures 5 and 6"
   ]
  },
  {
   "cell_type": "markdown",
   "id": "feee1683",
   "metadata": {
    "slideshow": {
     "slide_type": "-"
    }
   },
   "source": [
    "*Fundamental flow structures that characterise a rotor in hover*"
   ]
  },
  {
   "cell_type": "markdown",
   "id": "atmospheric-parliament",
   "metadata": {
    "slideshow": {
     "slide_type": "-"
    }
   },
   "source": [
    "<div class=\"image-grid2\">\n",
    "    <img src=\"../assets/bo105_schlieren.jpeg\" class=\"big\" />\n",
    "    <img src=\"../assets/4blade_hover.gif\" class=\"medium\">\n",
    "</div>\n",
    "\n",
    "<div class=\"image-grid2\">\n",
    "  <p style=\"text-align:center; color:gray; font-size:16px;\"> Bo 105 rotor wake visualized using Schlieren method <a href=\"https://www.greencarcongress.com/2014/01/20140109-dlr.html\"> [source]</a>  </p>\n",
    "  <p style=\"text-align:center; color:gray; font-size:16px;\"> Free-wake simulation of a 4 bladed rotor in hover flight </p> \n",
    "\n",
    "</div>"
   ]
  },
  {
   "cell_type": "markdown",
   "id": "agricultural-birthday",
   "metadata": {
    "slideshow": {
     "slide_type": "slide"
    }
   },
   "source": [
    "## Lectures 7 and 8"
   ]
  },
  {
   "cell_type": "markdown",
   "id": "abd81d38",
   "metadata": {
    "slideshow": {
     "slide_type": "-"
    }
   },
   "source": [
    "*Rotor blade motion and performance analysis in forward flight*"
   ]
  },
  {
   "cell_type": "markdown",
   "id": "normal-charm",
   "metadata": {
    "slideshow": {
     "slide_type": "-"
    }
   },
   "source": [
    "<div class=\"image-grid2\">\n",
    "    <img src=\"../assets/forces_moment.png\" class=\"big\" />\n",
    "    <img src=\"../assets/4blade_02_flipped.gif\" class=\"medium\">\n",
    "</div>    \n",
    "\n",
    "<div class=\"image-grid2\">\n",
    "    <p style=\"font-size:16px; color:gray; text-align:center;\"> Forces and moments balance about CG  (modified from<a href=\"https://en.wikipedia.org/wiki/Sikorsky_UH-60_Black_Hawk#/media/File:Jordanian_Air_Force_UH-60_Black_Hawk_helicopter_(cropped).jpg\"> [source]</a>)</p>\n",
    "  <p style=\"text-align:center; color:gray; font-size:16px;\"> Free-wake simulation of a 4 bladed rotor in forward flight </p> \n",
    "\n",
    "</div>"
   ]
  },
  {
   "cell_type": "markdown",
   "id": "devoted-quarterly",
   "metadata": {
    "slideshow": {
     "slide_type": "slide"
    }
   },
   "source": [
    "## Lecture 9: Modern rotor designs"
   ]
  },
  {
   "cell_type": "markdown",
   "id": "ff9a77b4",
   "metadata": {
    "slideshow": {
     "slide_type": "-"
    }
   },
   "source": [
    "*Types of modern rotor systems and the problems (with conventional rotors) that they address*"
   ]
  },
  {
   "cell_type": "markdown",
   "id": "1cc91e95",
   "metadata": {
    "slideshow": {
     "slide_type": "-"
    }
   },
   "source": [
    "<div class=\"image-grid2\">\n",
    "    <img  src=\"../assets/BERP.jpeg\" class=\"small\"/>\n",
    "    <img  src=\"../assets/Blue_Edge.jpeg\" class=\"small\" />\n",
    "</div>\n",
    "\n",
    "<div class=\"image-grid2\">\n",
    "  <p style=\"font-size:16px; color:gray; text-align:left;\"> BERP rotor <a href=\"https://en.wikipedia.org/wiki/BERP_rotor#/media/File:Eh101_keishicho.jpg\"> [source]</a></p>\n",
    "  <p style=\"font-size:16px; color:gray; text-align:left;\"> Blue Edge rotor <a href=\"https://en.wikipedia.org/wiki/Blue_Edge#/media/File:Airbus_Helicopters,_F-WWPL,_Airbus_Helicopters_H160_(49579577323).jpg\"> [source]</a></p>\n",
    "</div>\n",
    "\n",
    "<div class=\"image-grid2\">\n",
    "    <img  src=\"../assets/Raider.jpeg\" class=\"small\"/>\n",
    "    <img  src=\"../assets/Bo105_IBC.png\" class=\"small\" />\n",
    "</div>\n",
    "\n",
    "<div class=\"image-grid2\">\n",
    "  <p style=\"font-size:16px; color:gray; text-align:left;\"> Sikorsky Raider <a href=\"https://en.wikipedia.org/wiki/Sikorsky_S-97_Raider#/media/File:Sikorsky_S-97_Raider_in_flight.jpg\"> [source]</a></p>\n",
    "  <p style=\"font-size:16px; color:gray; text-align:left;\"> Bo 105 IBC (1990) <a href=\"https://www.semanticscholar.org/paper/Advanced-vibration-reduction-by-IBC-technology-Roth/aeb1d405dd7700bfc3524a66e8dfcb9536f93465\"> [source]</a></p>\n",
    "</div>\n"
   ]
  },
  {
   "cell_type": "markdown",
   "id": "environmental-vienna",
   "metadata": {
    "slideshow": {
     "slide_type": "slide"
    }
   },
   "source": [
    "## Lecture 10 and 11: Unsteady Aerodynamics"
   ]
  },
  {
   "cell_type": "markdown",
   "id": "91a41356",
   "metadata": {
    "slideshow": {
     "slide_type": "-"
    }
   },
   "source": [
    "*Quantify the effect of unsteady blade motion of section aerodynamics*"
   ]
  },
  {
   "cell_type": "markdown",
   "id": "moderate-snapshot",
   "metadata": {
    "slideshow": {
     "slide_type": "-"
    }
   },
   "source": [
    "<center>\n",
    "    <img src=\"../assets/B3_8_8.png\" class=\"large\">\n",
    "    <p  style=\"font-size:16px; color:gray; text-align:center;\"> Effect of airfoil pitching motion on aerodynamic lift [taken from Principles in Helicopter Aerodynamics by JG Leishman] </p>\n",
    "\n",
    "</center>\n"
   ]
  },
  {
   "cell_type": "markdown",
   "id": "powerful-saudi",
   "metadata": {
    "slideshow": {
     "slide_type": "slide"
    }
   },
   "source": [
    "## Lecture 12: Dynamic Stall"
   ]
  },
  {
   "cell_type": "markdown",
   "id": "ae373a11",
   "metadata": {
    "slideshow": {
     "slide_type": "-"
    }
   },
   "source": [
    "*Quantify the aerodynamic effects of blade unsteadiness due to large pitching motion*"
   ]
  },
  {
   "cell_type": "markdown",
   "id": "mexican-bridge",
   "metadata": {
    "slideshow": {
     "slide_type": "-"
    }
   },
   "source": [
    "<center>\n",
    "    <img src=\"../assets/Add44.png\" class=\"large\">\n",
    "    <p  style=\"font-size:16px; color:gray; text-align:center;\"> Dynamic stall cycle of NACA 23012 <a href=\"https://link.springer.com/article/10.1007/BF00575335\">[source] </a></p>\n",
    "\n",
    "</center>"
   ]
  }
 ],
 "metadata": {
  "celltoolbar": "Slideshow",
  "hide_input": false,
  "kernelspec": {
   "display_name": "Python 3 (ipykernel)",
   "language": "python",
   "name": "python3"
  },
  "language_info": {
   "codemirror_mode": {
    "name": "ipython",
    "version": 3
   },
   "file_extension": ".py",
   "mimetype": "text/x-python",
   "name": "python",
   "nbconvert_exporter": "python",
   "pygments_lexer": "ipython3",
   "version": "3.8.5"
  },
  "latex_envs": {
   "LaTeX_envs_menu_present": true,
   "autoclose": true,
   "autocomplete": true,
   "bibliofile": "biblio.bib",
   "cite_by": "apalike",
   "current_citInitial": 1,
   "eqLabelWithNumbers": false,
   "eqNumInitial": 1,
   "hotkeys": {
    "equation": "Ctrl-E",
    "itemize": "Ctrl-I"
   },
   "labels_anchors": false,
   "latex_user_defs": false,
   "report_style_numbering": false,
   "user_envs_cfg": false
  },
  "rise": {
   "autolaunch": false,
   "backimage": "../assets/tum_bg_top_right.png",
   "enable_chalkboard": true,
   "footer": "Sumeet Kumar, PhD candidate",
   "scroll": true
  },
  "varInspector": {
   "cols": {
    "lenName": 16,
    "lenType": 16,
    "lenVar": 40
   },
   "kernels_config": {
    "python": {
     "delete_cmd_postfix": "",
     "delete_cmd_prefix": "del ",
     "library": "var_list.py",
     "varRefreshCmd": "print(var_dic_list())"
    },
    "r": {
     "delete_cmd_postfix": ") ",
     "delete_cmd_prefix": "rm(",
     "library": "var_list.r",
     "varRefreshCmd": "cat(var_dic_list()) "
    }
   },
   "types_to_exclude": [
    "module",
    "function",
    "builtin_function_or_method",
    "instance",
    "_Feature"
   ],
   "window_display": false
  }
 },
 "nbformat": 4,
 "nbformat_minor": 5
}
