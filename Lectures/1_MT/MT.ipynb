{
 "cells": [
  {
   "cell_type": "markdown",
   "id": "226f3b55",
   "metadata": {},
   "source": [
    "# Momentum Theory"
   ]
  },
  {
   "cell_type": "markdown",
   "id": "293321f9",
   "metadata": {},
   "source": []
  },
  {
   "cell_type": "code",
   "execution_count": null,
   "id": "ebd30ba4",
   "metadata": {},
   "outputs": [],
   "source": [
    "#bring tiger model and airfoil cross section to class as prop"
   ]
  },
  {
   "cell_type": "markdown",
   "id": "4054a17f",
   "metadata": {},
   "source": []
  },
  {
   "cell_type": "markdown",
   "id": "de730f13",
   "metadata": {},
   "source": []
  },
  {
   "cell_type": "markdown",
   "id": "f645c452",
   "metadata": {},
   "source": [
    "## Airfoils\n",
    "\n",
    "- The most efficient lift generation devices - i.e. high lift per unit drag\n",
    "-"
   ]
  },
  {
   "cell_type": "markdown",
   "id": "ddbddd9a",
   "metadata": {},
   "source": [
    "## Breaking down the physics: airfoils \n",
    "\n",
    "- Aerodynamics problems involving airfoil performance can predominantly be understood in terms of Newton's 3rd law of motion.\n",
    "- Presence of airfoils in a moving fluid accelerate the flow \n",
    "- The resulting reaction forces manifest as lift and drag on the airfoil\n",
    "- "
   ]
  },
  {
   "cell_type": "markdown",
   "id": "fe2282df",
   "metadata": {},
   "source": [
    "## Breaking down the physics: rotors\n",
    "\n",
    "- Rotors are made up of wings (or blades) that have airfoil cross-section\n"
   ]
  },
  {
   "cell_type": "code",
   "execution_count": null,
   "id": "bc030555",
   "metadata": {},
   "outputs": [],
   "source": []
  },
  {
   "cell_type": "markdown",
   "id": "4a6bf7e7",
   "metadata": {},
   "source": [
    "## How do helicopters stay in the air?"
   ]
  },
  {
   "cell_type": "markdown",
   "id": "a0249631",
   "metadata": {},
   "source": [
    "By accelerating a large mass of air (Newton's third law of motion).   "
   ]
  },
  {
   "cell_type": "markdown",
   "id": "fc655679",
   "metadata": {},
   "source": [
    "```{epigraph}\n",
    "\"The essential theory of flight can be reduced to a comparatively simple statement, though it becomes a highly complicated affair as it is presented in figures and formulae.\"\n",
    "\n",
    "-- Juan de la Cierva (taken from Principles in Helicopter Aerodynamics by Leishman)\n",
    "```"
   ]
  },
  {
   "cell_type": "code",
   "execution_count": null,
   "id": "e5e0a806",
   "metadata": {},
   "outputs": [],
   "source": []
  },
  {
   "cell_type": "markdown",
   "id": "22b31b52",
   "metadata": {},
   "source": [
    "## Fundamentals of momentum theory"
   ]
  },
  {
   "cell_type": "markdown",
   "id": "83cb851a",
   "metadata": {},
   "source": [
    "\n",
    "\n",
    "[//]: # (add inflow image and corresponding eqs here)\n",
    "\n",
    "$$\n",
    "  w_{t+1} = (1 + r_{t+1}) s(w_t) + y_{t+1} \\\\\n",
    "  a_2=b_2+c_2-d_2+e_2  \\\\\n",
    "  a_2=b_2+c_2-d_2+e_2\n",
    "$$ (my_label)\n",
    "$$\n",
    "  a_2=b_2+c_2-d_2+e_2\n",
    "$$ (my_other_label)\n",
    "\n",
    "[//]: # (  - A link to an equation directive: {eq}`my_label`  ) \n",
    "\n",
    "\n"
   ]
  },
  {
   "cell_type": "markdown",
   "id": "fde62e29",
   "metadata": {},
   "source": [
    "## Hover"
   ]
  },
  {
   "cell_type": "markdown",
   "id": "af391845",
   "metadata": {},
   "source": [
    "How do you define the hover state? Does the helicopter in the video below hover at any time during the shown manuever?"
   ]
  },
  {
   "cell_type": "code",
   "execution_count": 1,
   "id": "3c19ece3",
   "metadata": {},
   "outputs": [
    {
     "data": {
      "image/jpeg": "[encoded data removed]",
      "text/html": [
       "\n",
       "        <iframe\n",
       "            width=\"500\"\n",
       "            height=\"270\"\n",
       "            src=\"https://www.youtube.com/embed/Jk3HRrMhrjw\"\n",
       "            frameborder=\"0\"\n",
       "            allowfullscreen\n",
       "            \n",
       "        ></iframe>\n",
       "        "
      ],
      "text/plain": [
       "<IPython.lib.display.YouTubeVideo at 0x7fd26048e5b0>"
      ]
     },
     "execution_count": 1,
     "metadata": {},
     "output_type": "execute_result"
    }
   ],
   "source": [
    "from IPython.display import YouTubeVideo\n",
    "YouTubeVideo('Jk3HRrMhrjw', width=500, height=270)\n"
   ]
  },
  {
   "cell_type": "markdown",
   "id": "e1060d43",
   "metadata": {},
   "source": [
    "$$ \\overline{v}_{freestream}=0 $$"
   ]
  },
  {
   "cell_type": "markdown",
   "id": "2e28ef01",
   "metadata": {},
   "source": [
    "This includes vertical as well as horizontal velocities!"
   ]
  },
  {
   "cell_type": "markdown",
   "id": "29a9ff29",
   "metadata": {},
   "source": [
    "How do you quantify the power necessary to stay aloft!? "
   ]
  },
  {
   "cell_type": "markdown",
   "id": "66db5938",
   "metadata": {},
   "source": [
    "Sure, there are issues of whether the aircraft can be controlled, structural stresses are not exceeded etc. but if there isn't sufficient power to even operate, everything else is pointless. To evaluate required power, we adopt the model used first for analysing ship propellers (ships were around way before aircraft were)."
   ]
  },
  {
   "cell_type": "code",
   "execution_count": null,
   "id": "c538a615",
   "metadata": {},
   "outputs": [],
   "source": [
    "## Raukine & Froude actuator disk model"
   ]
  },
  {
   "cell_type": "markdown",
   "id": "870634e4",
   "metadata": {},
   "source": [
    "As per this physical mode, the propeller plane is assumed as a disk of zero thickness that supports a pressure difference/discontinuity but not in velocity."
   ]
  },
  {
   "cell_type": "markdown",
   "id": "54be97d0",
   "metadata": {},
   "source": [
    "\n",
    "### Assumptions\n"
   ]
  },
  {
   "cell_type": "markdown",
   "id": "e112e229",
   "metadata": {},
   "source": [
    "- (induced) flow velocity across the rotor disk is continuous\n",
    "    - continuity of fluids\n",
    "- \n",
    "\n",
    "infinite number of blades on the rotor\n",
    "- *induced velocities are small compared to the ??*"
   ]
  },
  {
   "cell_type": "code",
   "execution_count": null,
   "id": "f137f7bc",
   "metadata": {},
   "outputs": [],
   "source": []
  },
  {
   "cell_type": "markdown",
   "id": "274a252d",
   "metadata": {},
   "source": [
    "```{note} \n",
    "Bernoulli's equation relates pressure and velocity for inviscid, incompressible, steady, irrotational.\n",
    "```"
   ]
  },
  {
   "cell_type": "markdown",
   "id": "9e0ba59f",
   "metadata": {},
   "source": [
    "\\begin{gather*}\n",
    "p_2-p_1= \\frac{T}{A}\\\\\n",
    "p_0+\\frac{1}{2} p_w^2-p_0 = \\frac{T}{A}= \\frac{1}{2} p w^2\\\\\n",
    "\\end{gather*}"
   ]
  },
  {
   "cell_type": "markdown",
   "id": "2ae68efe",
   "metadata": {},
   "source": [
    "\\begin{gather*}\n",
    "\\textrm{Momentum Conservation:  } T = \\dot{m} = (\\rho A v) w \\\\\n",
    "\\textrm{Energy Conservation:     } T v = \\frac{1}{2} \\dot{m} w^2\\\\\n",
    "\\end{gather*}\n"
   ]
  },
  {
   "cell_type": "markdown",
   "id": "39f21911",
   "metadata": {},
   "source": [
    "$T / A = \\frac{1}{2} \\rho w^2$  and $ 2v = w$"
   ]
  },
  {
   "cell_type": "markdown",
   "id": "56a42f60",
   "metadata": {},
   "source": [
    "$$ v= \\sqrt{\\frac{T}{2 \\rho A}}$$"
   ]
  },
  {
   "cell_type": "markdown",
   "id": "35c0409c",
   "metadata": {},
   "source": [
    "\\begin{equation}\n",
    "\\begin{array}{l}\n",
    "V=\\sqrt{\\frac{T}{2 p A}}\\\\\n",
    "\\quad C_{T}=\\frac{T}{p^{A}(\\Omega Q)^{2}}\\\\\n",
    "\\end{array}\n",
    "\\end{equation}"
   ]
  },
  {
   "cell_type": "markdown",
   "id": "5a737841",
   "metadata": {},
   "source": [
    "\\begin{equation}\n",
    "\\begin{array}{l}\n",
    "P=T_{v}=\\frac{T^{3 / 2}}{\\sqrt{2 P A}}\\\\\n",
    "\\quad C_{P}=\\frac{P}{P A(\\Omega R)^{3}}\\\\\n",
    "\\end{array}\n",
    "\\end{equation}"
   ]
  },
  {
   "cell_type": "markdown",
   "id": "572c409d",
   "metadata": {},
   "source": [
    "$$\\frac{P}{T}=V=\\sqrt{\\frac{(T / A)}{2}}$$  \n",
    "\n",
    "$\\frac{T}{P} $ called power loading. "
   ]
  },
  {
   "cell_type": "markdown",
   "id": "4fe5dbcd",
   "metadata": {},
   "source": [
    "## Summary"
   ]
  },
  {
   "cell_type": "markdown",
   "id": "a9d0a031",
   "metadata": {},
   "source": [
    "The rotor power obtained via this analysis is the best case scenario pediction. In reality it will always be higher.\n",
    "\n",
    "- No flow losses assumed. \n",
    "- Induced velocity is uniform over the disk. "
   ]
  },
  {
   "cell_type": "markdown",
   "id": "880a19c0",
   "metadata": {},
   "source": []
  },
  {
   "cell_type": "code",
   "execution_count": null,
   "id": "56ff65c6",
   "metadata": {},
   "outputs": [],
   "source": []
  },
  {
   "cell_type": "code",
   "execution_count": null,
   "id": "dbe0e086",
   "metadata": {},
   "outputs": [],
   "source": []
  },
  {
   "cell_type": "code",
   "execution_count": null,
   "id": "81133cf1",
   "metadata": {},
   "outputs": [],
   "source": []
  },
  {
   "cell_type": "code",
   "execution_count": null,
   "id": "85b8420b",
   "metadata": {},
   "outputs": [],
   "source": []
  },
  {
   "cell_type": "markdown",
   "id": "7b541cd8",
   "metadata": {},
   "source": [
    "The flow velocity at the rotor disk, $v_i$, is called induced velocity and is needed for accurate estimation of blade aerodynamics.\n",
    "The flow velocity at far downstream, $w$, is relevant for accounting for different rotor wake interaction phenomena - rotor-wing or rotor-fuselage interference effects, brownout, whiteout etc.\n",
    "\n",
    "[//]: # (whiteout/brownout videos here??)"
   ]
  },
  {
   "cell_type": "markdown",
   "id": "50a14feb",
   "metadata": {},
   "source": [
    "## Detour: interference effects"
   ]
  },
  {
   "cell_type": "markdown",
   "id": "d65c483b",
   "metadata": {},
   "source": [
    "```{figure} ../../assets/1_MomentumTheory/Mi6Wing.jpg\n",
    "---\n",
    "height: 150px\n",
    "name: Mi6Wing\n",
    "---\n",
    "Mi-6 [[source]](https://en.wikipedia.org/wiki/Mil_Mi-6#/media/File:Mi-6_(cropped).jpg)\n",
    "```"
   ]
  },
  {
   "cell_type": "markdown",
   "id": "9377fa86",
   "metadata": {},
   "source": []
  },
  {
   "cell_type": "markdown",
   "id": "b8afb36a",
   "metadata": {},
   "source": [
    "## Detour: brownout/whiteout"
   ]
  },
  {
   "cell_type": "markdown",
   "id": "9c14d6ee",
   "metadata": {},
   "source": [
    "High induced velocities from the rotor can kick up dust/snow on unprepared landing grounds. This leads to degradation in visual cues that are necessary for pilots to maintain aircraft orientation. "
   ]
  },
  {
   "cell_type": "code",
   "execution_count": 2,
   "id": "c4967145",
   "metadata": {
    "scrolled": true
   },
   "outputs": [
    {
     "data": {
      "image/jpeg": "[encoded data removed]",
      "text/html": [
       "\n",
       "        <iframe\n",
       "            width=\"500\"\n",
       "            height=\"270\"\n",
       "            src=\"https://www.youtube.com/embed/RODMMX3SOBs\"\n",
       "            frameborder=\"0\"\n",
       "            allowfullscreen\n",
       "            \n",
       "        ></iframe>\n",
       "        "
      ],
      "text/plain": [
       "<IPython.lib.display.YouTubeVideo at 0x7fd2604ec160>"
      ]
     },
     "execution_count": 2,
     "metadata": {},
     "output_type": "execute_result"
    }
   ],
   "source": [
    "YouTubeVideo('RODMMX3SOBs', width=500, height=270)"
   ]
  },
  {
   "cell_type": "markdown",
   "id": "d8c9c660",
   "metadata": {},
   "source": []
  },
  {
   "cell_type": "markdown",
   "id": "69ec7be4",
   "metadata": {},
   "source": [
    "```{admonition} Aside\n",
    "Dust is even otherwise a major concern due to moving mechanical components involved. Heavy maintainance is warranted when operating in a dusty environment. \n",
    "\n",
    "\"... (during the Vietnam war) dust put more helicopters out of commission than enemy action\"\n",
    "\n",
    "-- [Military archives](https://www.usace.army.mil/About/History/Historical-Vignettes/Military-Construction-Combat/054-Helicopter-Dust/) \n",
    "\n",
    "\"... America’s elite rescue force had lost eight men, seven helicopters, and a C-130, and had not even made contact with the enemy. It was a debacle. It defined the word “debacle.”\"\n",
    "\n",
    "---- [article](https://www.theatlantic.com/magazine/archive/2006/05/the-desert-one-debacle/304803/) detailing the failed Iran hostage rescue attempt by American Delta forces (an unexpected dust cloud encountered en-route was one of the leading causes of the failure)\n",
    "```"
   ]
  },
  {
   "cell_type": "markdown",
   "id": "8a553e38",
   "metadata": {},
   "source": []
  },
  {
   "cell_type": "markdown",
   "id": "500ccd81",
   "metadata": {},
   "source": [
    "## Momentum theory: rotor in climb"
   ]
  },
  {
   "cell_type": "markdown",
   "id": "4e412b84",
   "metadata": {},
   "source": [
    "$$\\dot{m}=p A(V+v) $$\n",
    "\n",
    "\n",
    "$$ T=\\dot{m} \\omega $$\n",
    "\n",
    "\n",
    "$$ T(V+v)=\\frac{1}{2} \\dot{m}(V+w)^{2}-\\frac{1}{2} \\dot{m} V^{2}=\\frac{1}{2} \\dot{m} \\omega(\\omega+2 V)$$\n",
    "\n",
    "\n",
    "$$\\Rightarrow \\omega=2 v $$\n",
    "\n",
    "$$\\left(p_{0}+\\frac{1}{2} p(V+w)^{2}\\right)-\\left(p_{0}+\\frac{1}{2} p V^{2}\\right)=T / A$$ "
   ]
  },
  {
   "cell_type": "markdown",
   "id": "31272940",
   "metadata": {},
   "source": [
    "$$ \\Rightarrow \\frac{1}{2} p \\omega^{2}+p V_{\\omega} = T / A$$\n",
    "$$ \\Rightarrow \\frac{1}{2} \\rho \\omega(\\omega+V)=T / A $$\n",
    "\n",
    "substitude $2v$ and solve quadratic"
   ]
  },
  {
   "cell_type": "markdown",
   "id": "193e9dd8",
   "metadata": {},
   "source": [
    "$\\begin{aligned} V &=-\\frac{V}{2}+\\sqrt{\\left(\\frac{V}{2}\\right)^{2}+\\frac{T}{2 \\rho A}} \\\\ &=-\\frac{V}{2}+\\sqrt{\\left(\\frac{V}{2}\\right)^{2}+V_{h}^{2}} \\text{         }<V_{h} \\end{aligned}$  \n",
    "\n",
    "So climbing velocity!"
   ]
  },
  {
   "cell_type": "markdown",
   "id": "ec4df12f",
   "metadata": {},
   "source": [
    "- Why is the other root ignored?"
   ]
  },
  {
   "cell_type": "markdown",
   "id": "35a978e2",
   "metadata": {},
   "source": [
    "Think about the origins of induced velocity $v$ being lower than $V_h$"
   ]
  },
  {
   "cell_type": "markdown",
   "id": "ac854be2",
   "metadata": {},
   "source": [
    "- For steady climb case \n",
    "\\begin{align}\n",
    "T =W &= \\dot{m}\\omega\\\\\n",
    "&= 2 \\dot{m}v\n",
    "\\end{align}"
   ]
  },
  {
   "cell_type": "markdown",
   "id": "798fa788",
   "metadata": {},
   "source": [
    "but in climb $\\dot{m}$ is larger than  $\\rho A (V+v)$"
   ]
  },
  {
   "cell_type": "markdown",
   "id": "ba481f8d",
   "metadata": {},
   "source": [
    "$$P = T (V+v)$$\n",
    "\n",
    "$$\\frac{P}{T} = \\frac{V}{2}+ \\sqrt{ \\left(\\frac{V}{2} \\right)^2 + V_h^2}$$"
   ]
  },
  {
   "cell_type": "markdown",
   "id": "a4254541",
   "metadata": {},
   "source": []
  },
  {
   "cell_type": "markdown",
   "id": "bdbb4514",
   "metadata": {},
   "source": []
  },
  {
   "cell_type": "markdown",
   "id": "cb533420",
   "metadata": {},
   "source": []
  },
  {
   "cell_type": "markdown",
   "id": "01803651",
   "metadata": {},
   "source": []
  },
  {
   "cell_type": "markdown",
   "id": "881f8fed",
   "metadata": {},
   "source": []
  },
  {
   "cell_type": "markdown",
   "id": "71fbabe3",
   "metadata": {},
   "source": [
    "## Momentum theory: applications"
   ]
  },
  {
   "cell_type": "markdown",
   "id": "45f39b26",
   "metadata": {},
   "source": [
    "- propeller driven aircraft\n",
    "- VAWT/HAWT wind turbines\n",
    "- tidal turbines"
   ]
  },
  {
   "cell_type": "code",
   "execution_count": null,
   "id": "41b01e07",
   "metadata": {},
   "outputs": [],
   "source": []
  },
  {
   "cell_type": "code",
   "execution_count": null,
   "id": "dc5b9fee",
   "metadata": {},
   "outputs": [],
   "source": []
  },
  {
   "cell_type": "markdown",
   "id": "bb850f54",
   "metadata": {},
   "source": [
    "\n",
    "\n",
    "Momentum theory only takes into account the rotor disc area. It does not take into account other rotor geometry parameters - blade twist, taper, chord, sweep angle (forward and back), anhedral/dihedral angle, or aerodynamic parameters - airfoil type."
   ]
  },
  {
   "cell_type": "markdown",
   "id": "c27f4c4c",
   "metadata": {},
   "source": [
    "```{figure} ../../assets/1_MomentumTheory/propeller.jpg\n",
    "---\n",
    "height: 150px\n",
    "name: propeller\n",
    "---\n",
    "Propeller [[source]](https://commons.wikimedia.org/wiki/File:Engine_and_propellers_of_aircraft_close_up.jpg)\n",
    "```"
   ]
  },
  {
   "cell_type": "markdown",
   "id": "298e6702",
   "metadata": {},
   "source": [
    "```{figure} ../../assets/1_MomentumTheory/rotor.jpg\n",
    "---\n",
    "height: 150px\n",
    "name: rotor\n",
    "---\n",
    "Helicopter rotor [source](https://en.wikipedia.org/wiki/Sikorsky_UH-60_Black_Hawk#/media/File:ROCA_UH-60M_Black_Hawk.jpg)\n",
    "```"
   ]
  },
  {
   "cell_type": "code",
   "execution_count": null,
   "id": "dcf74320",
   "metadata": {},
   "outputs": [],
   "source": []
  },
  {
   "cell_type": "markdown",
   "id": "5905eeb5",
   "metadata": {},
   "source": [
    "## Momentum theory: review"
   ]
  },
  {
   "cell_type": "markdown",
   "id": "687df7d7",
   "metadata": {},
   "source": [
    " - does not model rotor torque\n",
    " - it models the most dominant physics exhibited by rotors in steady state operation\n",
    "     - in general, it gets the trends from design parametric variations right\n",
    "     - hence can be used in preliminary design"
   ]
  },
  {
   "cell_type": "markdown",
   "id": "d7a6c75f",
   "metadata": {},
   "source": [
    "##### Possible sources of losses in an operational rotor: \n",
    "\n"
   ]
  },
  {
   "cell_type": "markdown",
   "id": "4ef25415",
   "metadata": {},
   "source": [
    "tip losses + profile power "
   ]
  },
  {
   "cell_type": "markdown",
   "id": "7041d17a",
   "metadata": {},
   "source": []
  },
  {
   "cell_type": "markdown",
   "id": "69255d05",
   "metadata": {},
   "source": []
  },
  {
   "cell_type": "markdown",
   "id": "8a46d381",
   "metadata": {},
   "source": [
    "## Momentum theory: when is the fidelity sufficient?\n",
    "\n",
    "* Provides *good* estimate in steady conditions - climb, hover, descent\n",
    "* \n",
    "* "
   ]
  },
  {
   "cell_type": "markdown",
   "id": "5c68e75d",
   "metadata": {},
   "source": [
    "## Momentum theory: when is the fidelity not sufficient?\n",
    "\n",
    "* Transient conditions - for e.g. maneuvers\n",
    "* Does not include aerodynamic limitations of an airfoil\n",
    "    * only maps thrust to induced velocity\n",
    "* k\n",
    "\n",
    "This is where the blade element momentum theory (BEMT) comes in."
   ]
  },
  {
   "cell_type": "markdown",
   "id": "1aefb831",
   "metadata": {},
   "source": [
    "## Are there better models?\n",
    "\n",
    "- some of the most high-fidelity analyses fall within the realm of CFD methods\n",
    "\n",
    "- vortex particle methods {cite}`A9_1` or the vorticity transport *(add citation)*\n",
    "\n",
    "- dynamic inflow models {cite}`T20,T16,T24`  \n",
    "\n",
    "- prescribed wake methods\n"
   ]
  },
  {
   "cell_type": "markdown",
   "id": "3319c849",
   "metadata": {},
   "source": [
    "Except CFD methods and prescribed wake methods, all of the above are ways to model the rotor wake only i.e. evolution of the flow once it\n",
    "has been *disturbed* by the rotor blades (airfoil surfaces). Another model is needed to quantify this *disturbance* so that the wake models above take that as an input and ..."
   ]
  },
  {
   "cell_type": "code",
   "execution_count": null,
   "id": "eb328d9f",
   "metadata": {},
   "outputs": [],
   "source": []
  },
  {
   "cell_type": "code",
   "execution_count": null,
   "id": "11a05ba3",
   "metadata": {},
   "outputs": [],
   "source": []
  },
  {
   "cell_type": "markdown",
   "id": "0010e3d0",
   "metadata": {},
   "source": []
  }
 ],
 "metadata": {
  "hide_input": false,
  "kernelspec": {
   "display_name": "Python 3 (ipykernel)",
   "language": "python",
   "name": "python3"
  },
  "language_info": {
   "codemirror_mode": {
    "name": "ipython",
    "version": 3
   },
   "file_extension": ".py",
   "mimetype": "text/x-python",
   "name": "python",
   "nbconvert_exporter": "python",
   "pygments_lexer": "ipython3",
   "version": "3.8.5"
  },
  "varInspector": {
   "cols": {
    "lenName": 16,
    "lenType": 16,
    "lenVar": 40
   },
   "kernels_config": {
    "python": {
     "delete_cmd_postfix": "",
     "delete_cmd_prefix": "del ",
     "library": "var_list.py",
     "varRefreshCmd": "print(var_dic_list())"
    },
    "r": {
     "delete_cmd_postfix": ") ",
     "delete_cmd_prefix": "rm(",
     "library": "var_list.r",
     "varRefreshCmd": "cat(var_dic_list()) "
    }
   },
   "types_to_exclude": [
    "module",
    "function",
    "builtin_function_or_method",
    "instance",
    "_Feature"
   ],
   "window_display": false
  }
 },
 "nbformat": 4,
 "nbformat_minor": 5
}
