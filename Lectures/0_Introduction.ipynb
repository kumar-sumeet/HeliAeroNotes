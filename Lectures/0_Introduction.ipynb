{
 "cells": [
  {
   "cell_type": "markdown",
   "id": "55b994c9",
   "metadata": {},
   "source": [
    "# Introduction"
   ]
  },
  {
   "cell_type": "markdown",
   "id": "6ff36149",
   "metadata": {},
   "source": [
    "```{epigraph}\n",
    "\"If you're in trouble anywhere in the world, an airplane can fly over and drop flowers, but a helicopter can save your life.\"\n",
    "\n",
    "-- [Igor Sikorsky](https://www.sikorskyarchives.com/History.php) \n",
    "```"
   ]
  },
  {
   "cell_type": "markdown",
   "id": "7d17bab8",
   "metadata": {},
   "source": [
    "## Objective"
   ]
  },
  {
   "cell_type": "markdown",
   "id": "5ec12f35",
   "metadata": {},
   "source": [
    "The objective of this course is to introduce physical concepts that are relevant for understanding and analysis of rotary-wings (as helicopter rotors are also referred to) in hover, axial and edgewise flight. The course would focus predominantly on aerodynamic aspects of vertical take-off and landing (VTOL) flight. Knowledge of aerodynamics of fixed-wing aircraft doesn't directly apply when studying *rotating* wings (hence the name *rotary-wing*). Of course, fundamental fluid dynamics concepts that govern the aerodynamics of fixed-wings also govern the aerodynamics of rotary-winged aircraft. However, as you would learn in the course, the manner in which the flow field evolves and the consitutuent flow structures are very different for the two classes of flying vehicles. Additionally, airfoil stall and unsteady aerodynamics theories are usually discussed in the context of fixed-wing aircraft but are fundamental to accurately predict rotorcraft performance and will be introduced in this course. A lot of jargon, specific to rotorcraft, will be introduced as well. The structural dynamics is very different too but that's for another course.   "
   ]
  },
  {
   "cell_type": "markdown",
   "id": "05488857",
   "metadata": {},
   "source": [
    "In order to study helicopter performance and dynamics one needs to be familiar with the mechanical complexity associated with the rotor design itself as well as the associated aerodynamics. While the two are intricately related we'll just look at the aerodynamics component in this course and bring up the rotor design complexities when they serve our purpose of better understanding the aerodynamics of the rotor."
   ]
  },
  {
   "cell_type": "code",
   "execution_count": null,
   "id": "295cd6ef",
   "metadata": {},
   "outputs": [],
   "source": []
  },
  {
   "cell_type": "code",
   "execution_count": null,
   "id": "f54cd1e8",
   "metadata": {
    "slideshow": {
     "slide_type": "-"
    }
   },
   "outputs": [],
   "source": [
    "from IPython.display import IFrame"
   ]
  },
  {
   "cell_type": "markdown",
   "id": "d2b2828f",
   "metadata": {
    "slideshow": {
     "slide_type": "slide"
    }
   },
   "source": [
    "## Resources\n"
   ]
  },
  {
   "cell_type": "markdown",
   "id": "76ca1ac0",
   "metadata": {
    "slideshow": {
     "slide_type": "skip"
    }
   },
   "source": [
    "The website of the Vertical Flight Society (VFS), previously called the Amercian Helicopter Society (AHS), is a great resource of everything rotorcraft-related. You are encouraged to explore it. If there any conference papers (found under Education->Proceedings) you are interested in, then feel free to drop by and I'll show you how it can be done - TUM is a subscriber but free download requires a few tricky clicks!"
   ]
  },
  {
   "cell_type": "code",
   "execution_count": 2,
   "id": "9ed24f8e",
   "metadata": {
    "hide_input": true,
    "slideshow": {
     "slide_type": "-"
    }
   },
   "outputs": [
    {
     "data": {
      "text/html": [
       "<iframe src=\"https://vtol.org/\" width=\"1000\" height=\"1000\"></iframe>\n"
      ],
      "text/plain": [
       "<IPython.core.display.HTML object>"
      ]
     },
     "metadata": {},
     "output_type": "display_data"
    }
   ],
   "source": [
    "%%html\n",
    "<iframe src=\"https://vtol.org/\" width=\"1000\" height=\"1000\"></iframe>"
   ]
  },
  {
   "cell_type": "markdown",
   "id": "fb4704f3",
   "metadata": {},
   "source": [
    "<div style=\"float:right; width:43%;\" >\n",
    "    <img src=\"../assets/B0.png\" class=\"big\" />\n",
    "    <p style=\"text-align:center; color:gray; font-size:60%;\"> Rotorcraft Aeromechanics\n",
    "</div>\n",
    "\n",
    "- Rotorcraft Aeromechanics by Wayne Johnson\n",
    "\n",
    "<div style=\"float:right; width:43%;\" >\n",
    "    <img src=\"../assets/B3.png\" class=\"big\" />\n",
    "    <p style=\"text-align:center; color:gray; font-size:60%;\"> Rotorcraft Aeromechanics\n",
    "</div>\n",
    "\n",
    "- Principles in Helicopter Aerodynamics by JG Leishman"
   ]
  },
  {
   "cell_type": "markdown",
   "id": "7b4fec08",
   "metadata": {
    "slideshow": {
     "slide_type": "slide"
    }
   },
   "source": [
    "## Final grades\n",
    "\n",
    "- Reading assignment - 30%\n",
    "- Oral exam - 70%\n"
   ]
  },
  {
   "cell_type": "markdown",
   "id": "18149adc",
   "metadata": {
    "slideshow": {
     "slide_type": "slide"
    }
   },
   "source": [
    "<div align=\"center\">\n",
    "  <font size=\"+3\"><b>A General Overview</b></font>\n",
    "</div>"
   ]
  },
  {
   "cell_type": "markdown",
   "id": "39f49a53",
   "metadata": {
    "slideshow": {
     "slide_type": "slide"
    }
   },
   "source": [
    "## What makes a helicopter?"
   ]
  },
  {
   "cell_type": "markdown",
   "id": "3b244db1",
   "metadata": {
    "slideshow": {
     "slide_type": "-"
    }
   },
   "source": [
    "\n",
    "\n",
    "```{figure} ../assets/bamby_faon.png\n",
    "---\n",
    "height: 150px\n",
    "name: bamby_faon\n",
    "---\n",
    "Bamby-Faon [source](https://vtol.org/qr/may-2021)\n",
    "```\n",
    "\n",
    "```{figure} ../assets/bamby_faon.png\n",
    "---\n",
    "height: 150px\n",
    "name: bamby_faon\n",
    "---\n",
    "Bamby-Faon [source](https://vtol.org/qr/may-2021)\n",
    "```\n",
    "\n",
    "```{figure} ../assets/Comanche.png\n",
    "---\n",
    "height: 150px\n",
    "name: Comanche\n",
    "---\n",
    "Comanche [source](https://vtol.org/images/dmImage/SourceImage/2018-January.JPG)\n",
    "```\n"
   ]
  },
  {
   "cell_type": "markdown",
   "id": "6471ca36",
   "metadata": {},
   "source": [
    "```{admonition} Food for Thought\n",
    "A common feature among all aircraft above seems to be the presence of atleast 2 rotors. Is a one-rotor design possible.\n",
    "Note: We are only concerned with aircraft that have VTOL capability.\n",
    "```"
   ]
  },
  {
   "cell_type": "markdown",
   "id": "269ccd50",
   "metadata": {},
   "source": []
  },
  {
   "cell_type": "markdown",
   "id": "0f8ce125",
   "metadata": {},
   "source": [
    "CJC1A_HummingBird\n",
    "```{figure} ../assets/CJC1A_HummingBird.png\n",
    "---\n",
    "height: 150px\n",
    "name: CJC1A_HummingBird\n",
    "---\n",
    "CJC-1A Humming Bird [source](https://vtol.org/qr/august-2019)\n",
    "```\n"
   ]
  },
  {
   "cell_type": "markdown",
   "id": "1894d0e5",
   "metadata": {
    "slideshow": {
     "slide_type": "slide"
    }
   },
   "source": [
    "## Helicopters / VTOL / STOVL"
   ]
  },
  {
   "cell_type": "markdown",
   "id": "d2097236",
   "metadata": {
    "slideshow": {
     "slide_type": "-"
    }
   },
   "source": [
    "- The central idea is to take-off and land vertically at BEST EFFICIENCY\n",
    "\n",
    "- Which of the below adhere to this principle best? \n",
    "\n",
    "  - why? (hint: large rotor)\n",
    "  \n",
    "- A century of research has established the conventional design to be the most efficient (for now!) – caveats (weight class, tandem rotors)\n",
    "\n",
    "- What about the performance outside this manuever (i.e. hover)?\n",
    "\n",
    "<div class=\"image-grid\">\n",
    "    <img  src=\"../../assets/spacex.jpeg\" class=\"big\"/>\n",
    "    <img  src=\"../../assets/carrier.jpg\" class=\"big\"/>\n",
    "    <img  src=\"../../assets/h160.jpg\" class=\"big\" />\n",
    "\n",
    "   \n",
    "</div>\n",
    "\n",
    "<div class=\"image-grid\">\n",
    "  <p   > Space X \n",
    "  </p>   \n",
    "  <p  > Carrier\n",
    "  </p> \n",
    "  <p   > H160\n",
    "  </p>\n",
    "</div>\n"
   ]
  },
  {
   "cell_type": "markdown",
   "id": "21f995f2",
   "metadata": {
    "slideshow": {
     "slide_type": "slide"
    }
   },
   "source": [
    "## Required power (Bucket) curve"
   ]
  },
  {
   "cell_type": "markdown",
   "id": "77f6572b",
   "metadata": {
    "slideshow": {
     "slide_type": "-"
    }
   },
   "source": [
    "&nbsp;\n",
    "\n",
    "<center>\n",
    "    <img src=\"../../assets/power_curve.png\" class=\"large\">\n",
    "</center>"
   ]
  },
  {
   "cell_type": "markdown",
   "id": "a9ff8758",
   "metadata": {
    "slideshow": {
     "slide_type": "skip"
    }
   },
   "source": [
    "Many pecularities associated with helicopters can be inferred from the required power breakdown over the operational regime. The decrease in the total power that follows immediately after the helicopter transitions from hover to forwards flight is striking. It is apparent that the highest power is consumed by a helicopter in hover and in high fast forward flight states. Of course, why that is exactly the case would be covered in detail in the following lectures. This unintuitive behavior of the power consumption by a helicopter (after all, why should a helicopter that is still with respect to the ground consume more energy per unit time that one that is moving forward and therefore has associated drag that needs to be overcome?!) leads to interesting performance characteristics. This also has critical design consequences - 'hot and high' hover requirements might end up deciding the size of the engine installed because of high power requirement."
   ]
  },
  {
   "cell_type": "markdown",
   "id": "b5e6bfcd",
   "metadata": {
    "slideshow": {
     "slide_type": "slide"
    }
   },
   "source": [
    "## V/STOVL aircraft issues "
   ]
  },
  {
   "cell_type": "markdown",
   "id": "a86c09e9",
   "metadata": {
    "slideshow": {
     "slide_type": "-"
    }
   },
   "source": [
    "- Large thrust mismatch between vertical flight and cruise \n",
    "\n",
    "  - either engines must be far more oversized for cruise, or that separate thrust devices are needed purely for the vertical flight\n",
    "\n",
    "- Distribution of the thrust around the center of gravity for hover\n",
    "\n",
    "- Mechanical complexity to facilitate the above\n",
    "\n",
    "- Fuel efficiency\n",
    "\n",
    "  - powered lift is inherently less efficient form than aerodynamic lift\n",
    "  \n",
    "  - using more engines and shafts to drive more propulsors decreases efficiencies further\n"
   ]
  },
  {
   "cell_type": "markdown",
   "id": "aa246751",
   "metadata": {
    "slideshow": {
     "slide_type": "slide"
    }
   },
   "source": [
    "## Wheel of (Mis)fortune"
   ]
  },
  {
   "cell_type": "markdown",
   "id": "aafa7462",
   "metadata": {
    "slideshow": {
     "slide_type": "-"
    }
   },
   "source": [
    "<div style=\"float:right; width:43%;\" >\n",
    "    <img src=\"../assets/wheel.jpg\" class=\"big\" />\n",
    "    <p style=\"text-align:center; color:gray; font-size:60%;\"> AHS Wheel <a href=\"https://vertipedia-legacy.vtol.org/vstol/wheel.htm\"> [source]</a>\n",
    "  </p>\n",
    "</div>\n",
    "\n",
    "\n",
    "\n",
    "<!--- this list next to a float doesn't wrap in slideshow view for some reason \n",
    "possible to insert manual breaks, or use regular text without bullets-->\n",
    "\n",
    "- Most V/STOVL aircraft never <br>\n",
    "  entered production stage\n",
    "  \n",
    "- MANY engineering strategies tried <br>\n",
    "  out to make helicopters go fast. <br>\n",
    "  Almost all failed.  \n",
    "  \n",
    "- Some concepts making a comeback \n",
    "\n",
    "  - piston/turboshaft power <br>\n",
    "    different from electric!\n",
    "    \n",
    "  - advances in structures (this <br>\n",
    "    also makes the conventional <br>\n",
    "    design more lucrative)"
   ]
  },
  {
   "cell_type": "markdown",
   "id": "18ec19d2",
   "metadata": {
    "slideshow": {
     "slide_type": "skip"
    }
   },
   "source": [
    "Basically, almost any design imaginable, that was also possible with the technology level back then, \n",
    "was built and tested. "
   ]
  },
  {
   "cell_type": "markdown",
   "id": "d04a9c18",
   "metadata": {
    "slideshow": {
     "slide_type": "slide"
    }
   },
   "source": [
    "## Newton's laws of motion apply"
   ]
  },
  {
   "cell_type": "markdown",
   "id": "9f52299f",
   "metadata": {},
   "source": [
    "<div style=\"float:right; width:55%\"; >\n",
    "    <img src=\"../assets/forces_moment.png\" />\n",
    "    <p style=\"font-size:55%; color:gray; text-align:center;\"> Forces and moments balance about CG </p>\n",
    "</div>\n",
    "\n",
    "\n",
    "&nbsp;\n",
    "\n",
    "\n",
    "Net force and angular momentum of the aircraft should equal zero\n",
    "\t\n",
    "Vertical component of thrust = aircraft weight\n",
    "\n",
    "Horizontal component of thrust = aircraft drag"
   ]
  },
  {
   "cell_type": "markdown",
   "id": "1f4cdad0",
   "metadata": {},
   "source": []
  },
  {
   "cell_type": "markdown",
   "id": "4e50048b",
   "metadata": {},
   "source": []
  },
  {
   "cell_type": "markdown",
   "id": "003da989",
   "metadata": {},
   "source": []
  },
  {
   "cell_type": "markdown",
   "id": "b7d44ed4",
   "metadata": {},
   "source": []
  },
  {
   "cell_type": "markdown",
   "id": "90a0e1c7",
   "metadata": {
    "slideshow": {
     "slide_type": "subslide"
    }
   },
   "source": [
    "\n",
    "\n",
    "- What makes the below design special from the rest of the (conventional design) helicopters that the speed record set by it *still* stands - 400 km/hr\n",
    "    \n",
    "```{figure} ../assets/lynx.png\n",
    "---\n",
    "height: 150px\n",
    "name: lynx\n",
    "---\n",
    "Lynx [source](https://vtol.org/qr/2015-ahs-history-calendar)\n",
    "```\n"
   ]
  },
  {
   "cell_type": "markdown",
   "id": "544b7427",
   "metadata": {
    "slideshow": {
     "slide_type": "subslide"
    }
   },
   "source": [
    "- What makes the below design special that it can *easily* do ~460 km/hr\n",
    "    \n",
    "<center>\n",
    "    <img src=\"../assets/Defiant.jpg\" class=\"medium\">\n",
    "    <p class=\"caption\"> Sikorsky–Boeing SB-1 Defiant <a href=\"https://en.wikipedia.org/wiki/Sikorsky%E2%80%93Boeing_SB-1_Defiant#/media/File:Sikorsky%E2%80%93Boeing_SB-1_Defiant_(cropped).jpg\">[source] </a></p>\n",
    "\n",
    "</center>\n"
   ]
  },
  {
   "cell_type": "markdown",
   "id": "74196335",
   "metadata": {
    "slideshow": {
     "slide_type": "subslide"
    }
   },
   "source": [
    "- What makes this design special that it still holds the flight altitude record of 12,442 m?\n",
    "<center>\n",
    "    <img src=\"../assets/Aerospatiale_SA-315B_HB-XTM.jpeg\" class=\"medium\">\n",
    "    <p class=\"caption\"> Aérospatiale SA 315B Lama <a href=\"https://en.wikipedia.org/wiki/A%C3%A9rospatiale_SA_315B_Lama#/media/File:Aerospatiale_SA-315B_HB-XTM.jpg\">[source] </a></p>\n",
    "\n",
    "</center>\n"
   ]
  },
  {
   "cell_type": "code",
   "execution_count": null,
   "id": "66dd6915",
   "metadata": {},
   "outputs": [],
   "source": []
  },
  {
   "cell_type": "markdown",
   "id": "4eba4501",
   "metadata": {},
   "source": [
    "# Old vs New\n",
    "\n",
    "```{figure} ../assets/Curtiss-Wright_X-19_flying.jpeg\n",
    "---\n",
    "height: 150px\n",
    "name: Curtiss-Wright_X-19_flying\n",
    "---\n",
    "Curtiss-Wright_X-19_flying [source](https://en.wikipedia.org/wiki/Curtiss-Wright_X-19#/media/File:Curtiss-Wright_X-19_flying.jpg)\n",
    "```\n",
    "\n",
    "```{figure} ../assets/Curtiss-Wright_X-19_flying.jpeg\n",
    "---\n",
    "height: 150px\n",
    "name: Curtiss-Wright_X-19_flying\n",
    "---\n",
    "Curtiss-Wright_X-19_flying [source](https://en.wikipedia.org/wiki/Curtiss-Wright_X-19#/media/File:Curtiss-Wright_X-19_flying.jpg)\n",
    "```\n"
   ]
  }
 ],
 "metadata": {
  "celltoolbar": "Slideshow",
  "hide_input": false,
  "kernelspec": {
   "display_name": "Python 3 (ipykernel)",
   "language": "python",
   "name": "python3"
  },
  "language_info": {
   "codemirror_mode": {
    "name": "ipython",
    "version": 3
   },
   "file_extension": ".py",
   "mimetype": "text/x-python",
   "name": "python",
   "nbconvert_exporter": "python",
   "pygments_lexer": "ipython3",
   "version": "3.8.5"
  },
  "varInspector": {
   "cols": {
    "lenName": 16,
    "lenType": 16,
    "lenVar": 40
   },
   "kernels_config": {
    "python": {
     "delete_cmd_postfix": "",
     "delete_cmd_prefix": "del ",
     "library": "var_list.py",
     "varRefreshCmd": "print(var_dic_list())"
    },
    "r": {
     "delete_cmd_postfix": ") ",
     "delete_cmd_prefix": "rm(",
     "library": "var_list.r",
     "varRefreshCmd": "cat(var_dic_list()) "
    }
   },
   "types_to_exclude": [
    "module",
    "function",
    "builtin_function_or_method",
    "instance",
    "_Feature"
   ],
   "window_display": false
  }
 },
 "nbformat": 4,
 "nbformat_minor": 5
}
