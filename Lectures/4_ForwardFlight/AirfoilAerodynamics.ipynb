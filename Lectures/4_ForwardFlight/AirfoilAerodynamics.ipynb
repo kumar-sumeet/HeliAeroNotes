{
 "cells": [
  {
   "cell_type": "markdown",
   "id": "7f6a9c7d",
   "metadata": {},
   "source": [
    "## Airfoil Aerodynamics"
   ]
  },
  {
   "cell_type": "markdown",
   "id": "b489ab3e",
   "metadata": {},
   "source": [
    "The rotor performance is an accumulated effect of the blade section (airfoil) aerodynamics over one rotor revolution. So the natural question arises, what kind of airfoil performance characteristics ($C_L$, $C_D$, $C_M$) are desirable for rotorcraft applications? The answer is not immediately obvious because, unlike their fixed-wing counterparts, helicopter blades experience varying oncoming flow velocities and different operating angles of attack over one revolution. Nevertheless, certain broad trends exist."
   ]
  },
  {
   "cell_type": "markdown",
   "id": "488cfc42",
   "metadata": {},
   "source": [
    "- balance advancing side and retreating aerodynamics\n",
    "    - low drag-divergence Mach number on advancing side (thin airfoils)\n",
    "    - high $C_{l_{max}}$ on retreating side (thick, cambered airfoils)\n",
    "- thin airfoils outboard, and thick, cambered airfoils inboard\n",
    "- good erodynamic efficiency\n",
    "    - high $\\frac{C_L}{C_D}$\n",
    "- low $C_M$"
   ]
  },
  {
   "cell_type": "markdown",
   "id": "2ec8ad6b",
   "metadata": {},
   "source": [
    "Early helicopters had symmetric airfoils (for e.g. NACA0012 airfoil on UH1). "
   ]
  },
  {
   "cell_type": "markdown",
   "id": "d22642f6",
   "metadata": {},
   "source": [
    "Low $C_M$ is a highly desirable attribute because airfoil $C_M$ can easily result in high blade twist. This leads to high pitch-link loads which in turn causes the need for larger/more powerful actuators to control blade pitch. High pitch-link loads also lead to higher vibration.  "
   ]
  },
  {
   "cell_type": "markdown",
   "id": "061256af",
   "metadata": {},
   "source": [
    "Airfoil section exhibit $C_M$=0 or nearly zero only for a limited range of *normal* operating conditions. In extreme rotor operating conditions, when the blade section undergoes compressibility effects (high speed) or stall (high loading), the airfoil is operating outside its *normal* operating conditions and will likely exhibit high negative $C_M$. This is why high speed flight and "
   ]
  },
  {
   "cell_type": "markdown",
   "id": "1b58c481",
   "metadata": {},
   "source": [
    "Boeing AH-64 Apache initially had *straight* blade tips. This resulted in large "
   ]
  },
  {
   "cell_type": "markdown",
   "id": "884230a9",
   "metadata": {},
   "source": [
    "<div class=\"image-grid\">\n",
    "    <img  src=\"../../assets/YAH64_notipsweep.png\" class=\"medium\"/>\n",
    "    <img  src=\"../../assets/AH64A_tipsweep.jpeg\" class=\"medium\"/>\n",
    "</div>\n",
    "\n",
    "<div class=\"image-grid\">\n",
    "    <p style=\"font-size:16px; color:gray; text-align:center;\"  > Hughes YAH-64 Advanced Attack Helicopter (prototype to the production AH-64 design)  <a href=\"https://www.thisdayinaviation.com/tag/yah-64/#:~:text=The%20YAH%2D64%20was%20designed,49.42%20feet%20(15.063%20meters).\"> [source]</a></p>\n",
    "    <p style=\"font-size:16px; color:gray; text-align:center;\"  >  Boeing AH-64 Apache  <a href=\"https://en.wikipedia.org/wiki/File:Hatzerim_270613_Apache.jpg\"> [source]</a></p>\n",
    "</div>\n"
   ]
  },
  {
   "cell_type": "markdown",
   "id": "815ec552",
   "metadata": {},
   "source": [
    "## Choosing rotor airfoils"
   ]
  },
  {
   "cell_type": "markdown",
   "id": "df2bfb6f",
   "metadata": {},
   "source": [
    "The rotor blade experiences a highly variable aerodynamics environment as it undegoes one revolution. Identifying the most suitable airfoil is made difficult as a consequence. In addition, the unsteady aerodynamics behavior of the airfoil also becomes relevant (as would be discussed later). Understandably, the choice of airfoil section is much more complicated in comparison to a fixed-wing aircraft where the airfoil can simply be optimised for cruise speed. The oncoming flow velocity is then fixed and the angle of attack of the airfoil sections on an operational wing do not vary much (low speed performance for landing and take-off is taken care of using flaps and slats). In contrast, at a given cruise speed the rotor blade section sees harmonically varying oncoming flow velocity while undergoing pitching and additional motion due to blade elastic deformation."
   ]
  },
  {
   "cell_type": "code",
   "execution_count": null,
   "id": "5eb10348",
   "metadata": {},
   "outputs": [],
   "source": [
    "from IPython.display import YouTubeVideo\n",
    "YouTubeVideo('Ug6W7_tafnc')#, width=500, height=00)"
   ]
  },
  {
   "cell_type": "markdown",
   "id": "f1661412",
   "metadata": {},
   "source": [
    "- low control loads due to blade twist\n",
    "    - low $C_m$\n",
    "\n",
    "- generate sufficient lift on retreating side\n",
    "    - high $C_{Lmax}$ at low to moderate Mach numbers\n",
    "    \n",
    "- no shocks or high drag at advancing blade tips\n",
    "    - high critical Mach number\n",
    "\n",
    "- no undesirable unsteady aerodynamic behavior\n",
    "    - no (unusually bad) dynamic stall characteristics"
   ]
  },
  {
   "cell_type": "markdown",
   "id": "ffaa5055",
   "metadata": {},
   "source": [
    "It is difficult for one airfoil to be the best in terms of each of the aforementioned performance criteria.\n",
    "\n",
    "Early helicopter designs had symmetric airfoil since they have zero pitching moment...."
   ]
  },
  {
   "cell_type": "markdown",
   "id": "610ad173",
   "metadata": {},
   "source": [
    "<center>\n",
    "    <img src=\"../../assets/UH1_airfoil.jpeg\" class=\"medium\">\n",
    "    <p style=\"font-size:16px; color:gray; text-align:center;\"> NACA0012 airfoil profile of UH-1 Huey <a href=\"https://www.pagunblog.com/2011/05/29/lucky-gunner-shoot-day-one-photos/img_0505/\"> [source]</a></p>\n",
    "</center>\n"
   ]
  },
  {
   "cell_type": "markdown",
   "id": "c0845cf0",
   "metadata": {},
   "source": [
    "## Airfoil performance vs Rotor performance"
   ]
  },
  {
   "cell_type": "markdown",
   "id": "cb9d1a1a",
   "metadata": {},
   "source": [
    "<center>\n",
    "    <img src=\"../../screenshots/3_/P32_1.png\" class=\"medium\">\n",
    "    <p style=\"font-size:12px; color:gray; text-align:center;\"> P32 <a href=\"\"> [source]</a></p>\n",
    "\n",
    "</center>\n",
    "\n",
    "\n",
    "**CAPTION and SOURCE needed**"
   ]
  },
  {
   "cell_type": "markdown",
   "id": "4c80176a",
   "metadata": {},
   "source": [
    "## Rotor performance limitations"
   ]
  },
  {
   "cell_type": "markdown",
   "id": "7258f110",
   "metadata": {},
   "source": [
    "In hover, the limit to how much thrust a rotor can generate, vis-à-vis the MTOW capability, is related to just the maximum lift coefficient $C_L_{max}$ that the blade airfoil section can sustain. There is no single corresponding parameter for the limitation in forward flight condition. "
   ]
  },
  {
   "cell_type": "markdown",
   "id": "54a388a9",
   "metadata": {},
   "source": [
    "### Advancing blade tip - high Mach number "
   ]
  },
  {
   "cell_type": "markdown",
   "id": "ae03b8a1",
   "metadata": {},
   "source": [
    "- shock at advancing blade tip \n",
    "    - cause high blade pitching moments (vibration)\n",
    "    - leads to high drag"
   ]
  },
  {
   "cell_type": "markdown",
   "id": "8e66044b",
   "metadata": {},
   "source": [
    "### Rotor lifting ability with advance ratio"
   ]
  },
  {
   "cell_type": "markdown",
   "id": "34e353b1",
   "metadata": {},
   "source": [
    "- maximum possible blade loading decreases with $\\mu$\n",
    "-"
   ]
  },
  {
   "cell_type": "markdown",
   "id": "a75ffd0f",
   "metadata": {},
   "source": [
    "<div class=\"image-grid3\">\n",
    "    <img  src=\"../../assets/contour_Fz.png\" class=\"medium\"/>\n",
    "    <img  src=\"../../assets/contour_Fz.png\" class=\"medium\"/>\n",
    "    <img  src=\"../../assets/contour_Fz.png\" class=\"medium\"/>\n",
    "</div>\n",
    "\n",
    "<div class=\"image-grid3\">\n",
    "  <p style=\"text-align:center; color:gray; font-size:16px;\"> Angle of attack  </p>\n",
    "  <p style=\"text-align:center; color:gray; font-size:16px;\"> Induced velocity  </p>\n",
    "  <p style=\"text-align:center; color:gray; font-size:16px;\"> Normal force </p>\n",
    "</div>\n",
    "\n",
    "- Negative lift $\\psi = 90°$\n",
    "- "
   ]
  }
 ],
 "metadata": {
  "hide_input": false,
  "kernelspec": {
   "display_name": "Python 3 (ipykernel)",
   "language": "python",
   "name": "python3"
  },
  "language_info": {
   "codemirror_mode": {
    "name": "ipython",
    "version": 3
   },
   "file_extension": ".py",
   "mimetype": "text/x-python",
   "name": "python",
   "nbconvert_exporter": "python",
   "pygments_lexer": "ipython3",
   "version": "3.8.5"
  },
  "rise": {
   "autolaunch": false,
   "backimage": "../../assets/tum_bg_top_right.png",
   "enable_chalkboard": true,
   "footer": "Sumeet Kumar, PhD candidate",
   "scroll": true
  },
  "varInspector": {
   "cols": {
    "lenName": 16,
    "lenType": 16,
    "lenVar": 40
   },
   "kernels_config": {
    "python": {
     "delete_cmd_postfix": "",
     "delete_cmd_prefix": "del ",
     "library": "var_list.py",
     "varRefreshCmd": "print(var_dic_list())"
    },
    "r": {
     "delete_cmd_postfix": ") ",
     "delete_cmd_prefix": "rm(",
     "library": "var_list.r",
     "varRefreshCmd": "cat(var_dic_list()) "
    }
   },
   "types_to_exclude": [
    "module",
    "function",
    "builtin_function_or_method",
    "instance",
    "_Feature"
   ],
   "window_display": false
  }
 },
 "nbformat": 4,
 "nbformat_minor": 5
}
