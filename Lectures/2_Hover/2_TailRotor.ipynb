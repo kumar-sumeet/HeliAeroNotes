{
 "cells": [
  {
   "cell_type": "markdown",
   "id": "4611c317",
   "metadata": {},
   "source": [
    "# Tail Rotor"
   ]
  },
  {
   "cell_type": "markdown",
   "id": "341e2c84",
   "metadata": {},
   "source": [
    "Quite simply, the reaction from rotating the main rotor (CCW, say) has the tendency to spin the rest of the helicopter in the opposite direction (CW). In forward, the vertical tail surface can be succesfully used to generate enough thrust (or moment about the helicopter CG) so as to counteract this CW moment. However, in hover or low speed flight a mechanism is needed to balance the overall yaw moments for the aircraft to be stable. "
   ]
  },
  {
   "cell_type": "markdown",
   "id": "8887b403",
   "metadata": {},
   "source": [
    "Early designs focussed on two main rotor designs, tandem as well as coaxial, before the main rotor + tail rotor configuration was reliably shown by Igor Sikorsky to be the most viable design. The initial resitance to this approach is totally understandable, after all why should energy be expended separately just to balance the torque!?"
   ]
  },
  {
   "cell_type": "markdown",
   "id": "59d2159f",
   "metadata": {},
   "source": []
  },
  {
   "cell_type": "code",
   "execution_count": null,
   "id": "1c809863",
   "metadata": {},
   "outputs": [],
   "source": []
  },
  {
   "cell_type": "markdown",
   "id": "c2e8c5df",
   "metadata": {},
   "source": [
    "Multirotor designs were tried out first but ultimately the main rotor + tail rotor design from Igor Sikorsky became the norm. (show multirotor designs here)"
   ]
  },
  {
   "cell_type": "code",
   "execution_count": null,
   "id": "826ff84e",
   "metadata": {},
   "outputs": [],
   "source": []
  },
  {
   "cell_type": "code",
   "execution_count": null,
   "id": "964dfce3",
   "metadata": {},
   "outputs": [],
   "source": []
  },
  {
   "cell_type": "code",
   "execution_count": null,
   "id": "d8539992",
   "metadata": {},
   "outputs": [],
   "source": []
  },
  {
   "cell_type": "markdown",
   "id": "11a04070",
   "metadata": {},
   "source": [
    "## Why is a tail rotor needed?"
   ]
  },
  {
   "cell_type": "markdown",
   "id": "cccfa2f5",
   "metadata": {},
   "source": [
    "- Provides directional stability, yaw control and balances main rotor torque\n"
   ]
  },
  {
   "cell_type": "markdown",
   "id": "375a3ec1",
   "metadata": {},
   "source": []
  },
  {
   "cell_type": "markdown",
   "id": "e0065082",
   "metadata": {},
   "source": []
  },
  {
   "cell_type": "markdown",
   "id": "31a666d1",
   "metadata": {},
   "source": [
    "Is a single rotor design possible?"
   ]
  },
  {
   "cell_type": "markdown",
   "id": "28e51ec1",
   "metadata": {},
   "source": []
  },
  {
   "cell_type": "markdown",
   "id": "a36f0439",
   "metadata": {},
   "source": [
    "Sizing the tail rotor!!"
   ]
  },
  {
   "cell_type": "markdown",
   "id": "bc4e73cc",
   "metadata": {},
   "source": [
    "## Who needs a *tail* rotor!?"
   ]
  },
  {
   "cell_type": "markdown",
   "id": "64cfdc03",
   "metadata": {},
   "source": [
    "<center>\n",
    "    <img src=\"../../assets/FaireyGyrodyne.jpeg\" class=\"medium\">\n",
    "    <p style=\"font-size:12px; color:gray; text-align:center;\"  > Fairey Gyrodyne <a href=\"https://en.wikipedia.org/wiki/Fairey_FB-1_Gyrodyne#/media/File:Fairey_FB-1_Gyrodyne.jpg\"> [source]</a></p>\n",
    "\n",
    "</center>"
   ]
  },
  {
   "cell_type": "markdown",
   "id": "8865dc07",
   "metadata": {},
   "source": [
    "<center>\n",
    "    <img src=\"../../assets/FaireyRotodyne.jpeg\" class=\"medium\">\n",
    "    <p style=\"font-size:12px; color:gray; text-align:center;\"  > Fairey Rotodyne <a href=\"https://en.wikipedia.org/wiki/Fairey_Rotodyne#/media/File:SFF_002-1055526_Fairey_Rotodyne.jpg\"> [source]</a></p>\n",
    "\n",
    "</center>"
   ]
  },
  {
   "cell_type": "markdown",
   "id": "0b5a47e4",
   "metadata": {},
   "source": [
    "<center>\n",
    "    <img src=\"../../assets/Add17.png\" class=\"medium\">\n",
    "    <p style=\"font-size:12px; color:gray; text-align:center;\"  > Add17 </p>\n",
    "\n",
    "</center>\n",
    "\n",
    "Different 'tail' placement {cite}`Add17`\n"
   ]
  },
  {
   "cell_type": "markdown",
   "id": "432c982f",
   "metadata": {},
   "source": [
    "## Surviving loss of tail rotor "
   ]
  },
  {
   "cell_type": "code",
   "execution_count": null,
   "id": "58bb6e77",
   "metadata": {},
   "outputs": [],
   "source": [
    "#could possibly also talk about the accident from Prouty II-38 but feels unnecessary"
   ]
  },
  {
   "cell_type": "markdown",
   "id": "0dceef8f",
   "metadata": {},
   "source": [
    "- Survivability or continued control of helicopter depends on \n",
    "    - flight condition when loss happens\n",
    "    - degree of damage/loss and helicopter design to cope with that loss\n",
    "- Loss at high speed\n",
    "    - Large vertical stabilizers allow continued operation using a side slip\n",
    "    - This has to be balanced with need for high speed sideward flight (an issue in the Apache program – read Prouty II chapter 40 for details)\n",
    "- Loss at low speed or hover\n",
    "    - Autorotation\n"
   ]
  },
  {
   "cell_type": "markdown",
   "id": "22ba9665",
   "metadata": {},
   "source": [
    "<div class=\"image-grid2\">\n",
    "    <img  src=\"../../assets/bamby_faon.png\" class=\"size_options\"/>\n",
    "    <img  src=\"../../assets/Comanche.png\" class=\"size_options\"/>\n",
    "   \n",
    "</div>\n",
    "\n",
    "<div class=\"image-grid2\">\n",
    "  <p > Bamby Faon <a href=\"https://vtol.org/qr/may-2021\"> [source]</a>\n",
    "  </p>   \n",
    "  <p > Comanche <a href=\"https://vtol.org/images/dmImage/SourceImage/2018-January.JPG\"> [source]</a>\n",
    "  </p> \n",
    "</div>\n",
    "\n"
   ]
  },
  {
   "cell_type": "markdown",
   "id": "aaa69d6a",
   "metadata": {},
   "source": [
    "<center>\n",
    "    <img src=\"../assets/CJC1A_HummingBird.png\" class=\"medium\">\n",
    "    <p style=\"font-size:12px; color:gray; text-align:center;\" > CJC-1A Humming Bird <a href=\"https://vtol.org/qr/august-2019\"> [source]</a></p>\n",
    "\n",
    "</center>\n"
   ]
  },
  {
   "cell_type": "markdown",
   "id": "ae998e4f",
   "metadata": {},
   "source": [
    "<center>\n",
    "    <img src=\"../../assets/UH60_tailcant.jpg\" class=\"medium\">\n",
    "    <p style=\"font-size:12px; color:gray; text-align:center;\" > UH60 tail rotor <a href=\"https://commons.wikimedia.org/wiki/File:MH-60M_DAP_firing_2.75_inch_rockets_at_a_test_ground.jpg\"> [source]</a></p>\n",
    "\n",
    "</center>\n"
   ]
  },
  {
   "cell_type": "markdown",
   "id": "df32e074",
   "metadata": {},
   "source": [
    "The tail rotor of the UH60 is canted by 20 deg, generating lift of about 181 kg <a href=\"https://verticalmag.com/features/the-black-hawk-at-40/\"> [source]</a>  {cite}`U19`. "
   ]
  },
  {
   "cell_type": "code",
   "execution_count": null,
   "id": "cadcb8f6",
   "metadata": {},
   "outputs": [],
   "source": []
  },
  {
   "cell_type": "code",
   "execution_count": null,
   "id": "d6aa1ae7",
   "metadata": {},
   "outputs": [],
   "source": []
  }
 ],
 "metadata": {
  "hide_input": false,
  "kernelspec": {
   "display_name": "Python 3 (ipykernel)",
   "language": "python",
   "name": "python3"
  },
  "language_info": {
   "codemirror_mode": {
    "name": "ipython",
    "version": 3
   },
   "file_extension": ".py",
   "mimetype": "text/x-python",
   "name": "python",
   "nbconvert_exporter": "python",
   "pygments_lexer": "ipython3",
   "version": "3.8.5"
  },
  "latex_envs": {
   "LaTeX_envs_menu_present": true,
   "autoclose": true,
   "autocomplete": true,
   "bibliofile": "biblio.bib",
   "cite_by": "apalike",
   "current_citInitial": 1,
   "eqLabelWithNumbers": false,
   "eqNumInitial": 1,
   "hotkeys": {
    "equation": "Ctrl-E",
    "itemize": "Ctrl-I"
   },
   "labels_anchors": false,
   "latex_user_defs": false,
   "report_style_numbering": false,
   "user_envs_cfg": false
  },
  "varInspector": {
   "cols": {
    "lenName": 16,
    "lenType": 16,
    "lenVar": 40
   },
   "kernels_config": {
    "python": {
     "delete_cmd_postfix": "",
     "delete_cmd_prefix": "del ",
     "library": "var_list.py",
     "varRefreshCmd": "print(var_dic_list())"
    },
    "r": {
     "delete_cmd_postfix": ") ",
     "delete_cmd_prefix": "rm(",
     "library": "var_list.r",
     "varRefreshCmd": "cat(var_dic_list()) "
    }
   },
   "types_to_exclude": [
    "module",
    "function",
    "builtin_function_or_method",
    "instance",
    "_Feature"
   ],
   "window_display": false
  }
 },
 "nbformat": 4,
 "nbformat_minor": 5
}
