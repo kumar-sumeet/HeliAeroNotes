{
 "cells": [
  {
   "cell_type": "markdown",
   "id": "69c5cc18",
   "metadata": {
    "slideshow": {
     "slide_type": "slide"
    }
   },
   "source": [
    "# Blade element momentum theory"
   ]
  },
  {
   "cell_type": "markdown",
   "id": "539f5a94",
   "metadata": {
    "slideshow": {
     "slide_type": "skip"
    }
   },
   "source": [
    "From the momentum theory analysis, the following relations were obtained relating rate of mass flow of fluid (air) through the rotor disk, the thrust generated, and the corresponding power required."
   ]
  },
  {
   "cell_type": "markdown",
   "id": "27ed08ef",
   "metadata": {
    "slideshow": {
     "slide_type": "subslide"
    }
   },
   "source": [
    "$$T=\\dot{m} w=2\\rho A v_i^{2}$$\n",
    "\n",
    "$$P=\\frac{1}{2} \\dot{m} w^{2}=2 \\rho A v_{i}^{3}$$"
   ]
  },
  {
   "cell_type": "markdown",
   "id": "4a762cee",
   "metadata": {
    "slideshow": {
     "slide_type": "skip"
    }
   },
   "source": [
    "It was assumed that the inflow velocity $v_i$ was uniform over the entire rotor disk. In reality that is not true. However, instead of analysing the more general case where $v_i = f(r,\\psi)$, we continue working with the axial flight scenario where $v_i$ is some function of only $r$ (azimuthal symmetry). In order to arrive at the thrust and power relations like above, the rotor disk is discretised into rings and elemental thrust contribution from each ring is calculated. The overall rotor thrust is then just an integrated quantity. "
   ]
  },
  {
   "cell_type": "markdown",
   "id": "154938a7",
   "metadata": {
    "slideshow": {
     "slide_type": "slide"
    }
   },
   "source": [
    "## Annular momentum theory"
   ]
  },
  {
   "cell_type": "markdown",
   "id": "6eaf481d",
   "metadata": {
    "slideshow": {
     "slide_type": "-"
    }
   },
   "source": [
    "<center>\n",
    "    <img src=\"../../assets/BEMT_4.png\" class=\"big\">\n",
    "    <p style=\"font-size:16px; color:gray; text-align:center;\" > Annular momentum theory model </p>\n",
    "</center>"
   ]
  },
  {
   "cell_type": "markdown",
   "id": "54d72569",
   "metadata": {
    "slideshow": {
     "slide_type": "subslide"
    }
   },
   "source": [
    "\\begin{align}\n",
    "d T & =wd \\dot{m} \\\\\n",
    "&= 2v_{i} \\rho 2 \\pi y d y\\left(V_{c}+v_{i}\\right) \\\\\n",
    "d C_{T} & =\\frac{4 \\pi \\rho\\left(V_{c}+v_{i}\\right) v_{i} y d y}{\\rho \\pi R^{2}(\\Omega R)^{2}}\\\\\n",
    "&=4 \\lambda \\lambda_{i} r dr \\\\\n",
    "&=4 \\lambda \\left(\\lambda-\\lambda_{c}\\right)r d r \\\\\n",
    "C_{T} &= 4 \\int \\lambda \\left(\\lambda-\\lambda_{c}\\right) r d r \\quad \\quad \\text{Climb case}\\\\\n",
    "&= 4 \\int \\lambda^{2} r d r \\quad \\quad \\quad \\quad \\quad \\text{Hover case}\n",
    "\\end{align}"
   ]
  },
  {
   "cell_type": "markdown",
   "id": "56ab197b",
   "metadata": {
    "slideshow": {
     "slide_type": "skip"
    }
   },
   "source": [
    "where, the inflow ratio $\\lambda = (V_c+v_i)/\\Omega R$ [^lambda], $\\lambda_i = (v_i)/\\Omega R$ and $\\lambda_c = (v_c)/\\Omega R$\n",
    "\n",
    "[^lambda]: in a past lecture, $\\lambda = v_i/\\Omega R$ was stated for hover case. In general, it is the ratio of the total flow velocity at the rotor disk and the blade tip speed."
   ]
  },
  {
   "cell_type": "markdown",
   "id": "45e29ea4",
   "metadata": {
    "slideshow": {
     "slide_type": "skip"
    }
   },
   "source": [
    "The expressions obtained above relate rotor thrust in case the inflow velocity is a function of radial location. This is a massive improvement from the uniform inflow case but we would still like it if the model incorporated airfoil aerodynamics in some way. Recall that a similar relation was obtained for the thrust coefficient using BET but, in lieu of being able to quantify the inflow velocity more appropriately, simply the uniform inflow momentum theory result was used. Marrying the two give us the blade element momentum theory (BEMT)."
   ]
  },
  {
   "cell_type": "markdown",
   "id": "fe8fe9a6",
   "metadata": {
    "slideshow": {
     "slide_type": "slide"
    }
   },
   "source": [
    "## Blade element momentum theory (BEMT)"
   ]
  },
  {
   "cell_type": "markdown",
   "id": "c84bb08f",
   "metadata": {
    "slideshow": {
     "slide_type": "-"
    }
   },
   "source": [
    "\n",
    "From BET:          $ \\displaystyle \\quad d C_{T}=\\frac{\\sigma}{2} C_{l_{\\alpha}}\\left(\\theta r^{2}-\\lambda r\\right) d r$ \n",
    "    \n",
    "    \n",
    "From annular momentum theory :    $\\displaystyle \\quad d C_{T}=4 \\lambda\\left(\\lambda-\\lambda_{c}\\right)rd r$ "
   ]
  },
  {
   "cell_type": "markdown",
   "id": "2c8faf73",
   "metadata": {
    "slideshow": {
     "slide_type": "subslide"
    }
   },
   "source": [
    "$$\\Rightarrow\\displaystyle d C_{T}=\\frac{\\sigma}{2} C_{l_{\\alpha}}\\left(\\theta r^{2}-\\lambda r \\right) d r =4 \\lambda\\left(\\lambda-\\lambda_{c}\\right)rd r$$"
   ]
  },
  {
   "cell_type": "markdown",
   "id": "ffab795d",
   "metadata": {
    "slideshow": {
     "slide_type": "skip"
    }
   },
   "source": [
    "$$\\displaystyle \\Rightarrow \\frac{\\sigma C_{l_{\\alpha}} \\theta r}{8}-\\frac{\\sigma C_{l_{\\alpha}}}{8} \\lambda=\\lambda^{2}-\\lambda_{c} \\lambda$$"
   ]
  },
  {
   "cell_type": "markdown",
   "id": "e720c6fa",
   "metadata": {
    "slideshow": {
     "slide_type": "fragment"
    }
   },
   "source": [
    "$$\\displaystyle \\Rightarrow \\lambda^{2}+\\left(\\frac{\\sigma C_{l_{\\alpha}}}{8}-\\lambda_{c}\\right) \\lambda-\\frac{\\sigma C_{l_{\\alpha}} \\theta r}{8}=0$$"
   ]
  },
  {
   "cell_type": "markdown",
   "id": "74ae2b14",
   "metadata": {
    "slideshow": {
     "slide_type": "fragment"
    }
   },
   "source": [
    "$$\n",
    "\\lambda\\left(r\\right)= \\displaystyle \\pm \\sqrt{\\frac{\\left(\\frac{\\sigma C_{l_{\\alpha}}}{8}-\\lambda_c \\right)^2+\\frac{\\sigma C_{l_{\\alpha}} \\theta r}{2}}{4}} - \\displaystyle \\frac{  \\frac{\\sigma C_{l_{\\alpha}}}{8}- \\lambda_c}{2}\n",
    "$$\n"
   ]
  },
  {
   "cell_type": "markdown",
   "id": "679da3eb",
   "metadata": {
    "slideshow": {
     "slide_type": "skip"
    }
   },
   "source": [
    "Here again the negative root is ignored because it does not comply with the physical system we assumed in the beginning i.e. flow velocity at every cross-section of the stream tube is downwards. Further, if just the hover inflow velocity is concerned, the following expression can be derived:"
   ]
  },
  {
   "cell_type": "markdown",
   "id": "52bfcecf",
   "metadata": {
    "slideshow": {
     "slide_type": "fragment"
    }
   },
   "source": [
    "\\begin{equation*}\n",
    "\\begin{split}\n",
    "\\lambda (r)=\\frac{\\sigma C_{l_{\\alpha}}}{16}\\left[-1+\\sqrt{1+\\frac{32}{\\sigma C_{l_{\\alpha}}} \\theta r}\\right],\\quad\\quad\\quad \\text{for} \\quad\\lambda_c=0\n",
    "\\end{split}\n",
    "\\label{eq:BEMT_lambda} \\tag{2}\n",
    "\\end{equation*}"
   ]
  },
  {
   "cell_type": "markdown",
   "id": "aa7a513c",
   "metadata": {
    "slideshow": {
     "slide_type": "skip"
    }
   },
   "source": [
    "Eq $\\eqref{eq:BEMT_lambda}$ is one the most useful results one can obtain in so far as the amount of effort required in understanding the origins of that result, as well the ease of analysing real rotors with it, is concerned. This expression takes into account the following - blade geometry via $\\sigma$, airfoil aerodynamics via $C_{l_{\\alpha}}$ and blade twist distribution via $\\theta$. After obtaining $\\lambda(r)$, $C_T$ can be obtained by just substituting back in $C_T = \\int 4 \\lambda (\\lambda - \\lambda_c)rdr $ (or should you use the BET expression $ \\displaystyle \\quad d C_{T}=\\frac{\\sigma}{2} C_{l_{\\alpha}}\\left(\\theta r^{2}-\\lambda r\\right) d r$ ?)."
   ]
  },
  {
   "cell_type": "markdown",
   "id": "fb52f4c5",
   "metadata": {
    "slideshow": {
     "slide_type": "fragment"
    }
   },
   "source": [
    "**Is there something that you can think of that Eq. $\\eqref{eq:BEMT_lambda}$ doesn't model/account for?**"
   ]
  },
  {
   "cell_type": "markdown",
   "id": "53978cb3",
   "metadata": {
    "slideshow": {
     "slide_type": "skip"
    }
   },
   "source": [
    "*Airfoils are a 2D entity whose aerodynamic characteristics provide us with basic building blocks for modelling overall aerodynamics of real 3D wings (the technical term usually used to refer to the 3D wing aerodynamics is finite-wing aerodynamics). In reality aerodynamics are always 3D, atleast in the context of flying vehicles. Turns out the situation in 3D is not a straightforward conglomeration of the 2D section aerodynamics. There are additional effects that occur in real flows over wings which do not occur when the flow is assumed to be 2D. Not accounting for these 3D effects, depending on how potent they are compared to the 2D aerodynamics, can lead to inaccurate results. So, while the Eq $\\eqref{eq:BEMT_lambda}$ is useful for all the reasons given earlier, it doesn't model everything. For example, the trailing tip vortex from the blade tips has a significant influence on the blade aerodynamics but is not modelled in the formulation presented above. In addition, the effects of blade spanwise radial flow, unsteady aerodynamics (these occur also in 2D), dynamic stall margin, additional vortex roll-ups are not accounted for.*"
   ]
  },
  {
   "cell_type": "markdown",
   "id": "3b830e6b",
   "metadata": {
    "slideshow": {
     "slide_type": "slide"
    }
   },
   "source": [
    "## Ideal twist"
   ]
  },
  {
   "cell_type": "markdown",
   "id": "2e3bab28",
   "metadata": {
    "slideshow": {
     "slide_type": "skip"
    }
   },
   "source": [
    "<div style=\"float:right; width:43%;\" >\n",
    "    <img src=\"../../assets/propeller.jpg\" class=\"big\" />\n",
    "    <p style=\"font-size:16px; color:gray; text-align:center;\" > Propeller <a href=\"https://commons.wikimedia.org/wiki/File:Engine_and_propellers_of_aircraft_close_up.jpg\">[source] </a></p>\n",
    "</div>\n",
    "\n",
    "Based on the inflow relation in Eq $\\eqref{eq:BEMT_lambda}$, it can be seen that the $\\lambda(r)=$ const is obtained if $\\theta r =$ const. This twist distribution is refered to as hyperbolic twist and would result in minimum induced power for a rotor (provided none of the other terms in Eq $\\eqref{eq:BEMT_lambda}$ are a function of $r$ of course). In reality, helicopter blades tend to have more or less a linear twist distribution of about -8° to -16°. While better hover performance is possible with even greater blade twist, it is detrimental to forward flight performance (leads to inboard sections stalling on retreating side) and so a compromise needs to be made. Propellers on the other hand are always in climb mode, which makes their operational environment to always have azimuthal symmetry (function of $r$), and are therefore highly twisted."
   ]
  },
  {
   "cell_type": "markdown",
   "id": "1f941a99",
   "metadata": {
    "slideshow": {
     "slide_type": "-"
    }
   },
   "source": [
    "$$\\lambda (r)=\\frac{\\sigma C_{l_{\\alpha}}}{16}\\left[-1+\\sqrt{1+\\frac{32}{\\sigma C_{l_{\\alpha}}} \\theta r}\\right]$$"
   ]
  },
  {
   "cell_type": "markdown",
   "id": "591aaceb",
   "metadata": {
    "slideshow": {
     "slide_type": "fragment"
    }
   },
   "source": [
    "<div class=\"image-grid2\">\n",
    "    <img  src=\"../../assets/B3_fig3_6.png\" class=\"medium\"/>\n",
    "    <img  src=\"../../assets/U2_figA_2.png\" class=\"medium\"/>\n",
    "</div>\n",
    "\n",
    "<div class=\"image-grid2\">\n",
    "  <p style=\"text-align:center; color:gray; font-size:16px;\"> Ideal blade twist distribution <a href=\"https://www.cambridge.org/de/academic/subjects/engineering/aerospace-engineering/principles-helicopter-aerodynamics-2nd-edition-1?format=HB&isbn=9781107013353\">[source] </a> </p>\n",
    "  <p style= \"font-size:16px; color:gray; text-align:center;\"> UH-60 rotor blade twist <a href=\"https://ntrs.nasa.gov/citations/19830004795\"> [source]</a></p>\n",
    "</div>"
   ]
  },
  {
   "cell_type": "markdown",
   "id": "4f0476bd",
   "metadata": {
    "slideshow": {
     "slide_type": "slide"
    }
   },
   "source": [
    "## Optimum hovering rotor"
   ]
  },
  {
   "cell_type": "markdown",
   "id": "14eb63e0",
   "metadata": {
    "slideshow": {
     "slide_type": "skip"
    }
   },
   "source": [
    "From a theoretical point of view, a rotor design with a uniform distribution of inflow velocity over the rotor disk will lead to minimum induced power consumption. This is the power expended to impart kinetic energy to the flow in the rotor wake. Turns out, minimum work needs to be done by the rotor (and hence minimum induced power) when this flow velocity is constant over the disk. With the development of the BEMT principles above, we now look at what design requirements could the uniform inflow condition pose on the rotor geometry."
   ]
  },
  {
   "cell_type": "markdown",
   "id": "6db43140",
   "metadata": {
    "slideshow": {
     "slide_type": "skip"
    }
   },
   "source": [
    " Recall from BET derivation:"
   ]
  },
  {
   "cell_type": "markdown",
   "id": "1feec869",
   "metadata": {
    "slideshow": {
     "slide_type": "-"
    }
   },
   "source": [
    "\\begin{equation*}\n",
    "\\begin{split}\n",
    "dC_T &= \\frac{\\sigma}{2} C_l {r}^2d{r} \\\\ \n",
    "&=\\frac{\\sigma}{2}C_{l_{\\alpha}} \\left(\\frac{\\theta_{tip}}{r} - \\frac{\\bar{\\lambda}}{r}\\right){r}^2 d{r} \\\\ \n",
    "\\end{split}\n",
    "\\label{eq:BEMT_idealtwist} \\tag{3}\n",
    "\\end{equation*}"
   ]
  },
  {
   "cell_type": "markdown",
   "id": "4822ed46",
   "metadata": {
    "slideshow": {
     "slide_type": "skip"
    }
   },
   "source": [
    "where the ideal blade twist assumption has been made and $\\bar{\\lambda}$ is the uniform inflow ratio and the angle of attack $\\alpha$ is given by,"
   ]
  },
  {
   "cell_type": "markdown",
   "id": "7c4a482e",
   "metadata": {
    "slideshow": {
     "slide_type": "fragment"
    }
   },
   "source": [
    "$$ \\alpha = \\displaystyle \\frac{\\theta_{tip}-\\bar{\\lambda}}{r}= \\displaystyle \\frac{ \\alpha_{tip}}{r}$$"
   ]
  },
  {
   "cell_type": "markdown",
   "id": "2490a918",
   "metadata": {
    "slideshow": {
     "slide_type": "skip"
    }
   },
   "source": [
    "So, the lift generated at a given blade section can be given by,"
   ]
  },
  {
   "cell_type": "markdown",
   "id": "03c8a391",
   "metadata": {
    "slideshow": {
     "slide_type": "fragment"
    }
   },
   "source": [
    "$$C_l = C_{l_{\\alpha}} \\frac{\\alpha_{tip}}{r}$$"
   ]
  },
  {
   "cell_type": "markdown",
   "id": "9ae2cbf8",
   "metadata": {
    "slideshow": {
     "slide_type": "skip"
    }
   },
   "source": [
    "The overall rotor thrust, based on Eq $\\eqref{eq:BEMT_idealtwist}$, is then a function of the relative lifting surface area of the blades with respect to the rotos disk (i.e $\\sigma$)."
   ]
  },
  {
   "cell_type": "markdown",
   "id": "716e4461",
   "metadata": {
    "slideshow": {
     "slide_type": "fragment"
    }
   },
   "source": [
    "$$\\Rightarrow C_T= \\frac{\\sigma}{4}C_{l_{\\alpha}}\\alpha_{tip}$$"
   ]
  },
  {
   "cell_type": "markdown",
   "id": "c88355f6",
   "metadata": {
    "slideshow": {
     "slide_type": "skip"
    }
   },
   "source": [
    "So, within the scope of momentum and blade element momentum theories, a uniform induced velocity requires a hyperbolic blade twist which translates to a hyperbolic angle of attack distribution over the span of the blade. Even if it is not immediately obvious why such a design is not a practically feasible, it certainly sounds *wrong* - afterall hyperbolic twist is not realisable in practice. The more pertinent fact relates to the aerodynamics of airfoils, in that they don't keep producing lift as the angle of attack is increased hyperbolically - they stall beyond an angle, called the static stall angle. However, given the way Eq $\\eqref{eq:BEMT_idealtwist}$ has been written down can be a recipe for confusion if one forgets that it is valid only in the linear regime of airfoil angle of attack. The presence of a root cut-out region on the rotor brings some relief, even if the hyperbolic profile is followed, because the angle of attack doesn't need to keep increasing infinitely to realise uniform inflow towards the center of rotation. "
   ]
  },
  {
   "cell_type": "markdown",
   "id": "8769a941",
   "metadata": {
    "slideshow": {
     "slide_type": "skip"
    }
   },
   "source": [
    "Airfoils tend to exhibit best aerodynamic efficiency (i.e. generating highest lift for a unit amount of drag incurred) only at a certain $\\alpha$ for a given $M$. So it seems desirable that all the blade sections should be operating at that value in order to minimise profile drag. Note that we have not discussed profile drag until now but it doesn't take a stretch of the imagination to realise that the overall rotor would be most efficient if all blade sections were operating at $\\alpha$ for best $L/D$ (henceforth refered to as $\\alpha_{L/D}$). This angle varies slightly as a function of $M$, so different blade sections would need to operate at slightly different $\\alpha_{L/D}$ in reality. We look at the geometric consequences of operating every blade section at $\\alpha_{L/D}$ and assume that it is independent of $M$ and hence constant for all blade sections."
   ]
  },
  {
   "cell_type": "markdown",
   "id": "58399535",
   "metadata": {
    "slideshow": {
     "slide_type": "slide"
    }
   },
   "source": [
    "Recall from momentum theory:"
   ]
  },
  {
   "cell_type": "markdown",
   "id": "662c0d09",
   "metadata": {
    "slideshow": {
     "slide_type": "-"
    }
   },
   "source": [
    "\\begin{equation*}\n",
    "\\begin{split}\n",
    "d C_T = 4 \\bar{{\\lambda}}^2 r dr\n",
    "\\end{split}\n",
    "\\label{eq:MT_idealtwist} \\tag{4}\n",
    "\\end{equation*}"
   ]
  },
  {
   "cell_type": "markdown",
   "id": "7cf037f3",
   "metadata": {
    "slideshow": {
     "slide_type": "skip"
    }
   },
   "source": [
    "Comparing Eqs. $\\eqref{eq:BEMT_idealtwist}$ and $\\eqref{eq:MT_idealtwist}$, the corresponding (uniform) inflow ratio when the angle of attack is $\\bar{\\alpha}_{L/D}$ over the span of the blade is given by:"
   ]
  },
  {
   "cell_type": "markdown",
   "id": "a8252612",
   "metadata": {
    "slideshow": {
     "slide_type": "-"
    }
   },
   "source": [
    "\\begin{equation*}\n",
    "\\begin{split}\n",
    "\\Rightarrow \\bar{{\\lambda}} = \\displaystyle \\sqrt{\\frac{\\sigma r C_{l_{\\alpha}}\\bar{\\alpha}_{L/D}}{8}}\n",
    "\\end{split}\n",
    "\\label{eq:optimum_rotor} \\tag{5}\n",
    "\\end{equation*}"
   ]
  },
  {
   "cell_type": "markdown",
   "id": "06919757",
   "metadata": {
    "slideshow": {
     "slide_type": "skip"
    }
   },
   "source": [
    "With all blade sections operating at constant $\\bar{\\alpha}_{L/D}$, and uniform inflow over the entire rotor disk, from Eq. $\\eqref{eq:optimum_rotor}$ it is apparent that the rotor solidity would need to vary hyperbolically. This result is again not physically feasible but points to the benefits of introducing blade taper - i.e. progressively smaller chord outboard would help achieve best rotor performance based on the discussion so far."
   ]
  },
  {
   "cell_type": "markdown",
   "id": "5d69431e",
   "metadata": {
    "slideshow": {
     "slide_type": "fragment"
    }
   },
   "source": [
    "<center>\n",
    "    <img src=\"../../assets/B3_fig3_11.png\" class=\"big\" />\n",
    "    <p style=\"font-size:16px; color:gray; text-align:center;\" > Optimum blade taper <a href=\"https://www.cambridge.org/de/academic/subjects/engineering/aerospace-engineering/principles-helicopter-aerodynamics-2nd-edition-1?format=HB&isbn=9781107013353\">[source] </a></p>\n",
    "</center>"
   ]
  },
  {
   "cell_type": "markdown",
   "id": "58e28039",
   "metadata": {
    "slideshow": {
     "slide_type": "slide"
    }
   },
   "source": [
    "## Profile power "
   ]
  },
  {
   "cell_type": "markdown",
   "id": "d573c048",
   "metadata": {
    "slideshow": {
     "slide_type": "skip"
    }
   },
   "source": [
    "The power consumption of a thrust-producing rotor in hover can be divided into induced power and profile power. The former has been discussed at length and is a result of the rotor imparting kinetic energy to the flow perpendicular to the rotor disk. This is real phenomena that occurs in operational rotors and can be attributed to the 3D nature of the flow over a rotor blade (more on this later). The power expended to overcome drag due to viscosity of the flow is refered to as profile power and can be obtained in a straightforward manner following the same principles used to obtain induced power."
   ]
  },
  {
   "cell_type": "markdown",
   "id": "81118bd3",
   "metadata": {
    "slideshow": {
     "slide_type": "-"
    }
   },
   "source": [
    "<div style=\"float:right; width:43%;\" >\n",
    "    <img src=\"../../assets/BET_airfoil_loads.png\" class=\"big\" />\n",
    "    <p style=\"font-size:16px; color:gray; text-align:center;\" > 2D blade section aerodynamic loads <a href=\"\"> </a></p>\n",
    "</div>\n",
    "\n",
    "$$d F_{x}=d L \\sin \\phi+d D \\cos \\phi$$\n",
    "$$d P= dP_i + dP_0=(\\phi d L+d D) N \\Omega y$$\n",
    "$$d P_0=N \\Omega y dD$$ \n",
    "$$d C_{P_0}=\\frac{\\sigma}{2} C_{d} r^{3} d r$$"
   ]
  },
  {
   "cell_type": "markdown",
   "id": "697f1e75",
   "metadata": {
    "slideshow": {
     "slide_type": "skip"
    }
   },
   "source": [
    "Caarying out the above integration for the case of the optimum hovering rotor: "
   ]
  },
  {
   "cell_type": "markdown",
   "id": "fe871767",
   "metadata": {
    "slideshow": {
     "slide_type": "fragment"
    }
   },
   "source": [
    "$$\\Rightarrow C_{P_0} = \\frac{1}{2} C_{d_{0}} \\int {\\frac{\\sigma_{tip}r^3}{r}} d r=\\frac{C_{d_{0}} \\sigma_{tip}}{6}$$"
   ]
  },
  {
   "cell_type": "markdown",
   "id": "fcd218aa",
   "metadata": {
    "slideshow": {
     "slide_type": "slide"
    }
   },
   "source": [
    "## Limitations"
   ]
  },
  {
   "cell_type": "markdown",
   "id": "9e63dd78",
   "metadata": {
    "slideshow": {
     "slide_type": "skip"
    }
   },
   "source": [
    "Modern manufacturing practices provide the flexibility of contructing blade with planforms that can potentially improve rotor efficiency - performance as well as acoustics. Given some of the optimised planforms that have been put into use recently (see below), the corresponding rotors cannot be analysed just using BEMT. This is because these rotors accrue performance benefits (power, acoustics, vibration) by predominantly exploiting 3D aerodynamic phenomena - such as blade vortex interaction (BVI), vortex roll-up, stall margin improvement etc. State-of-the-art rotors such as these are not a straightforward result of simply using airfoils that have shown improved 2D aerodynamic characteristics but an involved excercise of alleviating detrimental aerodynamic effects that are known to occur at the rotor level."
   ]
  },
  {
   "cell_type": "markdown",
   "id": "2c6449cc",
   "metadata": {
    "cell_style": "center",
    "slideshow": {
     "slide_type": "-"
    }
   },
   "source": [
    "<div class=\"image-grid\">\n",
    "    <img  src=\"../../assets/ACRB.jpeg\" class=\"small\"/>\n",
    "    <img  src=\"../../assets/Blue_edge.jpeg\" class=\"small\"/>\n",
    "    <img  src=\"../../assets/BERP.jpeg\" class=\"small\"/>\n",
    "\n",
    "   \n",
    "</div>\n",
    "\n",
    "<div class=\"image-grid\">\n",
    "  <p >  Advanced Chinook Rotor Blade (ACRB) <a href=\"https://www.boeing.com/features/2017/01/chinook-blades-01-17.page\"> [source]</a>\n",
    "  </p>   \n",
    "  <p > Blue-Edge blade <a href=\"https://hal.archives-ouvertes.fr/hal-01413109/document\"> [source]</a>\n",
    "  </p>\n",
    "  <p> British Experimental Rotor Programme (BERP) blade <a href=\"https://en.wikipedia.org/wiki/BERP_rotor#/media/File:Eh101_keishicho.jpg\"> [source]</a>\n",
    "  </p>\n",
    "\n",
    "</div>\n"
   ]
  },
  {
   "cell_type": "code",
   "execution_count": 1,
   "id": "5cbf30a7",
   "metadata": {
    "cell_style": "center",
    "hide_input": true,
    "scrolled": true,
    "slideshow": {
     "slide_type": "skip"
    }
   },
   "outputs": [
    {
     "data": {
      "image/jpeg": "[encoded data removed]",
      "text/html": [
       "\n",
       "        <iframe\n",
       "            width=\"700\"\n",
       "            height=\"300\"\n",
       "            src=\"https://www.youtube.com/embed/2t3uCDJhce8\"\n",
       "            frameborder=\"0\"\n",
       "            allowfullscreen\n",
       "            \n",
       "        ></iframe>\n",
       "        "
      ],
      "text/plain": [
       "<IPython.lib.display.YouTubeVideo at 0x7fc05df4e9a0>"
      ]
     },
     "execution_count": 1,
     "metadata": {},
     "output_type": "execute_result"
    }
   ],
   "source": [
    "from IPython.display import YouTubeVideo\n",
    "YouTubeVideo('2t3uCDJhce8', width=700, height=300)"
   ]
  },
  {
   "cell_type": "code",
   "execution_count": 2,
   "id": "6597c867",
   "metadata": {
    "hide_input": true,
    "slideshow": {
     "slide_type": "skip"
    }
   },
   "outputs": [
    {
     "data": {
      "image/jpeg": "[encoded data removed]",
      "text/html": [
       "\n",
       "        <iframe\n",
       "            width=\"700\"\n",
       "            height=\"300\"\n",
       "            src=\"https://www.youtube.com/embed/OchreIBZknI\"\n",
       "            frameborder=\"0\"\n",
       "            allowfullscreen\n",
       "            \n",
       "        ></iframe>\n",
       "        "
      ],
      "text/plain": [
       "<IPython.lib.display.YouTubeVideo at 0x7fc05dbcfb80>"
      ]
     },
     "execution_count": 2,
     "metadata": {},
     "output_type": "execute_result"
    }
   ],
   "source": [
    "YouTubeVideo('OchreIBZknI', width=700, height=300)"
   ]
  },
  {
   "cell_type": "markdown",
   "id": "1847bfdf",
   "metadata": {
    "slideshow": {
     "slide_type": "skip"
    }
   },
   "source": [
    "The new Chinook rotor in action can be seen here <a href=\"https://www.boeing.com/features/2017/01/chinook-blades-01-17.page\"> [source]</a>. Although, the ride was probably not a very smooth one <a href=\"https://verticalmag.com/news/new-chinook-rotor-blades-rattle-troops-early-testing/\"> [source]</a>."
   ]
  },
  {
   "cell_type": "markdown",
   "id": "138a501d",
   "metadata": {
    "slideshow": {
     "slide_type": "slide"
    }
   },
   "source": [
    "## Weighted Solidity "
   ]
  },
  {
   "cell_type": "markdown",
   "id": "afbca16c",
   "metadata": {
    "slideshow": {
     "slide_type": "skip"
    }
   },
   "source": [
    "The idea comes from a need for comparing two rotor designs that have different planform shapes[^weighted_solidity].\n",
    "\n",
    "[^weighted_solidity]: Comparing two rotors using this concept only works when the designs are not significantly different from rectangular blades. Because different aerodynamic effects come into play otherwise and this simple concept seizes to be useful."
   ]
  },
  {
   "cell_type": "markdown",
   "id": "cb29e80a",
   "metadata": {
    "slideshow": {
     "slide_type": "-"
    }
   },
   "source": [
    "$$\\sigma_{rotor} = \\frac{\\text {blade area}}{\\text {rotor area}} =\\int_{0}^{1}\\sigma dr $$"
   ]
  },
  {
   "cell_type": "markdown",
   "id": "8f7e716f",
   "metadata": {
    "slideshow": {
     "slide_type": "skip"
    }
   },
   "source": [
    "The thrust-weighted solidity, as the name implies, is the *fictional* solidity of the rotor obtained by weighting the solidity at a particular section with the corresponding thrust generated. A rotor with a larger lifting area on the outboard sections can, in principle, be more efficient than a rotor with rectangular blades for the same overall solidity. This is because the former has larger lifting surface in the region of high dynamic pressure and can generate more thrust, and a naive comparision might suggest this rotor to be *better* than the rotor with rectangular blades. In such a scenario, the thrust-weighted solidity of the rotors needs to be matched for a fair comparison."
   ]
  },
  {
   "cell_type": "markdown",
   "id": "ac89c34a",
   "metadata": {
    "slideshow": {
     "slide_type": "-"
    }
   },
   "source": [
    "$$C_T=\\frac{1}{2}\\int_{0}^{1}\\sigma C_l r^2 dr = \\frac{\\sigma_e}{2}\\int_{0}^{1} C_l r^2 dr$$"
   ]
  },
  {
   "cell_type": "markdown",
   "id": "1abaebf1",
   "metadata": {
    "slideshow": {
     "slide_type": "-"
    }
   },
   "source": [
    "$$\\Rightarrow \\sigma_e=\\frac{\\frac{1}{2}\\int_{0}^{1}\\sigma \\bar{C_l} r^2 dr}{\\frac{1}{2}\\int_{0}^{1} \\bar{C_l} r^2 dr} = 3\\int_{0}^{1}\\sigma r^2 dr$$"
   ]
  },
  {
   "cell_type": "markdown",
   "id": "2129ff41",
   "metadata": {
    "slideshow": {
     "slide_type": "skip"
    }
   },
   "source": [
    "$\\sigma_e$ here is the thrust-weighted solidity for the case of a uniform $C_l$ rotor. Alternately, power-weighted solidity is also used as a basis for comparing different rotor designs."
   ]
  },
  {
   "cell_type": "markdown",
   "id": "969f90a0",
   "metadata": {
    "slideshow": {
     "slide_type": "skip"
    }
   },
   "source": [
    "$$ \\sigma_e=\\frac{\\frac{1}{2}\\int_{0}^{1}\\sigma C_{d0} r^3 dr}{\\frac{1}{2}\\int_{0}^{1} C_{d0} r^3 dr} = 4\\int_{0}^{1}\\sigma r^2 dr$$"
   ]
  },
  {
   "cell_type": "markdown",
   "id": "6e376e93",
   "metadata": {
    "slideshow": {
     "slide_type": "skip"
    }
   },
   "source": [
    "This definition is also relevant because $C_T / \\sigma$ is used as a measure of the lifting capability of the rotor since it is nothing but the average lift coefficient of the blade sections. "
   ]
  },
  {
   "cell_type": "markdown",
   "id": "e34a68ee",
   "metadata": {
    "slideshow": {
     "slide_type": "skip"
    }
   },
   "source": [
    "$$\\frac{C_T}{\\sigma_e}= \\frac{\\bar{C_l}}{6}$$       \n",
    "$$ \\frac{C_T}{\\sigma_e}\\vert_{max} \\approx 0.15$$"
   ]
  },
  {
   "cell_type": "markdown",
   "id": "68739fa6",
   "metadata": {
    "slideshow": {
     "slide_type": "skip"
    }
   },
   "source": [
    "The rotor $C_T$ in forward flight is limited by the lifting ability of the blades when they are on the retreating side. High $\\sigma_e$ will ensure larger blade area contributes to rotor thrust on the retreating side so angles of attack on retreating side can be made lower (for same $C_T$)[^loaded_statement].\n",
    "\n",
    "[^loaded_statement]: This is a pretty loaded statement and will become clearer when forward flight has been discussed. "
   ]
  },
  {
   "cell_type": "markdown",
   "id": "e58b2c9f",
   "metadata": {
    "slideshow": {
     "slide_type": "slide"
    }
   },
   "source": [
    "## Summary and conclusion"
   ]
  },
  {
   "cell_type": "markdown",
   "id": "103d8087",
   "metadata": {
    "slideshow": {
     "slide_type": "-"
    }
   },
   "source": [
    "- Simplest strategy of separating out the solutions of the blades aerodynamics and effect of the inflow\n",
    "- Higher-fidelity solution strategies employ same principle!\n",
    "- Different rotor wake models as well as methods to solve for the blade aerodynamics exist\n",
    "    - some of the most high-fidelity analyses fall within the realm of CFD methods\n",
    "    - vortex particle methods {cite}`A9_1` \n",
    "    - dynamic inflow models {cite}`T20,T16,T24`  \n",
    "    - prescribed wake methods"
   ]
  }
 ],
 "metadata": {
  "celltoolbar": "Slideshow",
  "hide_input": false,
  "kernelspec": {
   "display_name": "Python 3 (ipykernel)",
   "language": "python",
   "name": "python3"
  },
  "language_info": {
   "codemirror_mode": {
    "name": "ipython",
    "version": 3
   },
   "file_extension": ".py",
   "mimetype": "text/x-python",
   "name": "python",
   "nbconvert_exporter": "python",
   "pygments_lexer": "ipython3",
   "version": "3.8.5"
  },
  "latex_envs": {
   "LaTeX_envs_menu_present": true,
   "autoclose": true,
   "autocomplete": false,
   "bibliofile": "biblio.bib",
   "cite_by": "apalike",
   "current_citInitial": 1,
   "eqLabelWithNumbers": false,
   "eqNumInitial": 1,
   "hotkeys": {
    "equation": "Ctrl-E",
    "itemize": "Ctrl-I"
   },
   "labels_anchors": false,
   "latex_user_defs": false,
   "report_style_numbering": false,
   "user_envs_cfg": false
  },
  "varInspector": {
   "cols": {
    "lenName": 16,
    "lenType": 16,
    "lenVar": 40
   },
   "kernels_config": {
    "python": {
     "delete_cmd_postfix": "",
     "delete_cmd_prefix": "del ",
     "library": "var_list.py",
     "varRefreshCmd": "print(var_dic_list())"
    },
    "r": {
     "delete_cmd_postfix": ") ",
     "delete_cmd_prefix": "rm(",
     "library": "var_list.r",
     "varRefreshCmd": "cat(var_dic_list()) "
    }
   },
   "rise": {
    "autolaunch": true,
    "backimage": "assets/tum_bg_top_right.png",
    "enable_chalkboard": true,
    "footer": "Sumeet Kumar, PhD candidate",
    "scroll": true,
    "start_slideshow_at": "beginning"
   },
   "types_to_exclude": [
    "module",
    "function",
    "builtin_function_or_method",
    "instance",
    "_Feature"
   ],
   "window_display": false
  }
 },
 "nbformat": 4,
 "nbformat_minor": 5
}
