{
 "cells": [
  {
   "cell_type": "markdown",
   "id": "29830c1e",
   "metadata": {},
   "source": [
    "# Compound Helicopters"
   ]
  },
  {
   "cell_type": "code",
   "execution_count": null,
   "id": "d4253056",
   "metadata": {},
   "outputs": [],
   "source": [
    "#read about the compound papers of johnson and yeo. apparently they suggest an optimum distribution of lift between wing and rotor"
   ]
  },
  {
   "cell_type": "code",
   "execution_count": null,
   "id": "7026cccf",
   "metadata": {},
   "outputs": [],
   "source": []
  },
  {
   "cell_type": "code",
   "execution_count": null,
   "id": "34519f12",
   "metadata": {},
   "outputs": [],
   "source": []
  },
  {
   "cell_type": "code",
   "execution_count": null,
   "id": "1bf6141c",
   "metadata": {},
   "outputs": [],
   "source": []
  },
  {
   "cell_type": "code",
   "execution_count": null,
   "id": "cb4c6598",
   "metadata": {},
   "outputs": [],
   "source": []
  },
  {
   "cell_type": "markdown",
   "id": "07bf70bb",
   "metadata": {},
   "source": [
    "```{figure} ../../assets/H21.jpeg\n",
    "---\n",
    "height: 150px\n",
    "name: H21\n",
    "---\n",
    "Piasecki H-21 'flying banana' [[source]](https://en.wikipedia.org/wiki/Piasecki_H-21#/media/File:Piasecki_H-21_(modified).jpg)\n",
    "```"
   ]
  },
  {
   "cell_type": "markdown",
   "id": "d6711f6c",
   "metadata": {},
   "source": [
    "```{figure} ../../assets/UH1.jpeg\n",
    "---\n",
    "height: 150px\n",
    "name: UH1\n",
    "---\n",
    "Bell UH-1 'Heuy' [[source]](https://en.wikipedia.org/wiki/Bell_UH-1_Iroquois#/media/File:UH1_Huey_-_Fly_Navy_2017_(26938005897).jpg)\n",
    "```"
   ]
  },
  {
   "cell_type": "markdown",
   "id": "ebd54c52",
   "metadata": {},
   "source": [
    "A design was called for that was quieter, the Huey could be heard from 10 km away (https://verticalmag.com/features/the-black-hawk-at-40/).  "
   ]
  },
  {
   "cell_type": "markdown",
   "id": "50c4f4e4",
   "metadata": {},
   "source": [
    "```{figure} ../../assets/S67.jpeg\n",
    "---\n",
    "height: 150px\n",
    "name: S67\n",
    "---\n",
    "Sikorsky S-67 Blackhawk [[source]](https://verticalmag.com/features/the-original-blackhawk-the-sikorsky-s-67/)\n",
    "```"
   ]
  },
  {
   "cell_type": "markdown",
   "id": "dced1822",
   "metadata": {},
   "source": [
    "## Lift-compounding"
   ]
  },
  {
   "cell_type": "markdown",
   "id": "9a31f8f2",
   "metadata": {},
   "source": [
    "### S-67 (the original 'Blackhawk')\n",
    "\n",
    "(source) - https://verticalmag.com/features/the-original-blackhawk-the-sikorsky-s-67/\n",
    "- Sleek fuselage with tandem seating of pilots\n",
    "    - Wings with speed brakes\n",
    "- swept back tips to relieve compressibility effects during high $V_tip$ on advancing side\n",
    "- (probably the first) vertical fin with large camber\n",
    "    - Helicopter could fly without tail rotor at 74 km/hr and higher!!\n",
    "- "
   ]
  },
  {
   "cell_type": "markdown",
   "id": "40e8e47a",
   "metadata": {},
   "source": [
    "S-67 prototype crashed leading to shutting down of the program. Boeing AH-64 design won the contract. Later Sikorsky won the contract for replacing utility helicopters for the US armed forces and named that design the Blackhawk."
   ]
  },
  {
   "cell_type": "markdown",
   "id": "fcd1acea",
   "metadata": {},
   "source": []
  },
  {
   "cell_type": "markdown",
   "id": "b7b235de",
   "metadata": {},
   "source": []
  },
  {
   "cell_type": "markdown",
   "id": "7e466b45",
   "metadata": {},
   "source": []
  },
  {
   "cell_type": "markdown",
   "id": "01f00251",
   "metadata": {},
   "source": []
  },
  {
   "cell_type": "markdown",
   "id": "9a36e830",
   "metadata": {},
   "source": []
  },
  {
   "cell_type": "markdown",
   "id": "a1578e0c",
   "metadata": {},
   "source": []
  },
  {
   "cell_type": "markdown",
   "id": "57127739",
   "metadata": {},
   "source": []
  },
  {
   "cell_type": "markdown",
   "id": "20e6b89c",
   "metadata": {},
   "source": []
  },
  {
   "cell_type": "markdown",
   "id": "0dff599e",
   "metadata": {},
   "source": []
  },
  {
   "cell_type": "markdown",
   "id": "69fa6b1a",
   "metadata": {},
   "source": []
  },
  {
   "cell_type": "markdown",
   "id": "e8a90a4f",
   "metadata": {},
   "source": []
  },
  {
   "cell_type": "markdown",
   "id": "fc272d0a",
   "metadata": {},
   "source": []
  },
  {
   "cell_type": "markdown",
   "id": "36453890",
   "metadata": {},
   "source": []
  },
  {
   "cell_type": "markdown",
   "id": "ef8d172f",
   "metadata": {},
   "source": []
  }
 ],
 "metadata": {
  "hide_input": false,
  "kernelspec": {
   "display_name": "Python 3 (ipykernel)",
   "language": "python",
   "name": "python3"
  },
  "language_info": {
   "codemirror_mode": {
    "name": "ipython",
    "version": 3
   },
   "file_extension": ".py",
   "mimetype": "text/x-python",
   "name": "python",
   "nbconvert_exporter": "python",
   "pygments_lexer": "ipython3",
   "version": "3.8.5"
  },
  "varInspector": {
   "cols": {
    "lenName": 16,
    "lenType": 16,
    "lenVar": 40
   },
   "kernels_config": {
    "python": {
     "delete_cmd_postfix": "",
     "delete_cmd_prefix": "del ",
     "library": "var_list.py",
     "varRefreshCmd": "print(var_dic_list())"
    },
    "r": {
     "delete_cmd_postfix": ") ",
     "delete_cmd_prefix": "rm(",
     "library": "var_list.r",
     "varRefreshCmd": "cat(var_dic_list()) "
    }
   },
   "types_to_exclude": [
    "module",
    "function",
    "builtin_function_or_method",
    "instance",
    "_Feature"
   ],
   "window_display": false
  }
 },
 "nbformat": 4,
 "nbformat_minor": 5
}
