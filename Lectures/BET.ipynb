{
 "cells": [
  {
   "cell_type": "markdown",
   "metadata": {},
   "source": [
    "## Blade Element Theory "
   ]
  },
  {
   "cell_type": "markdown",
   "metadata": {},
   "source": [
    "$\\rightarrow$ A ton of simplifications involved in the theoretical framework involving momentum theory. \n",
    "- No blade level resolution. \n",
    "\n",
    "$\\rightarrow$ BET incorporates the blade level aero but also involves a lot of new simplifiying assumptions so that nice closed form expressions are possible. \n",
    "Otherwise things can get hopelessly too complicated very easily. "
   ]
  },
  {
   "cell_type": "markdown",
   "metadata": {},
   "source": [
    "$$d F_{Z}=d L-d D \\sin \\phi$$\n",
    "\n",
    "$$d T=N(d L-d D \\sin \\phi)$$\n",
    "\n",
    "$$d C_{T}=\\frac{N C_{l} \\frac{1}{2} p U_{T}^{2} c d y}{\\rho (\\Omega R^{2}) R^{2}}$$\n",
    "\n",
    "$$d C_{T}=\\frac{\\sigma}{2} C_{l} r^{2} d r$$"
   ]
  },
  {
   "cell_type": "markdown",
   "metadata": {},
   "source": [
    "$\\begin{aligned} \\int d C_{T} &=\\frac{\\sigma}{2} C_{l_{ k}} \\int \\alpha x^{2} d x \\\\ &=\\frac{\\sigma}{2} C_{l_{k}} \\int(\\theta-\\phi) r^{2} d r \\\\ \n",
    "\\end{aligned}$"
   ]
  },
  {
   "cell_type": "markdown",
   "metadata": {},
   "source": [
    "Using $$ \\frac{U_P}{U_r} = \\frac {\\lambda \\Omega R}{\\Omega y} $$"
   ]
  },
  {
   "cell_type": "markdown",
   "metadata": {},
   "source": [
    "$ \\begin{aligned}\n",
    "\\int d C_{T} &= \\frac{\\sigma}{2} C_{l_{k}} \\int(\\theta-\\phi) r^{2} d r \\\\\n",
    "&=\\frac{\\sigma}{2} C_{l_{ k}} \\int \\theta r^2 - dr dr \\\\\n",
    "\\end{aligned}$"
   ]
  },
  {
   "cell_type": "markdown",
   "metadata": {},
   "source": [
    "$ \\theta$ and $\\lambda$ are constants. "
   ]
  },
  {
   "cell_type": "markdown",
   "metadata": {},
   "source": [
    "$$\\Rightarrow C_{T}=\\frac{\\sigma}{2} C_{l_{k}}\\left(\\frac{\\theta_{0}}{3}-\\frac{\\lambda}{2}\\right)=\\frac{\\sigma}{2} C_{k_{k}}\\left(\\frac{\\theta_{0}}{3}-\\frac{1}{2} \\sqrt{\\frac{C_T}{2}}\\right)$$\n",
    "\n",
    "\n",
    "\n",
    "$$\\Rightarrow \\theta_{0}=\\frac{6 C_{T}}{\\sigma_{C_{l_{k}}}}+\\frac{3}{2} \\sqrt{\\frac{C_{T}}{2}}$$"
   ]
  },
  {
   "cell_type": "markdown",
   "metadata": {},
   "source": [
    "$\\frac{3}{2} \\sqrt{\\frac{C_{T}}{2}}$ is induced drag term  (just like fixed wing)"
   ]
  },
  {
   "cell_type": "markdown",
   "metadata": {},
   "source": [
    "All the simplifications in the derivatives now afford us the possibility to easily see the effect of varying one quantity on the other. "
   ]
  },
  {
   "cell_type": "markdown",
   "metadata": {},
   "source": [
    "$\\begin{aligned}\n",
    "\\theta&= \\theta_{0} +\\gamma \\theta_{t \\omega} \\quad \\quad\\quad \\lambda=\\text { uniform } \\\\ C_{T} &=\\frac{\\sigma}{2} C_{l k}\\left[ \\frac{\\theta_{0}}{3}+\\frac{\\theta_{t \\omega}}{4}-\\frac{\\lambda}{2} \\right] \\\\ &=\\frac{\\sigma}{2} C_{l_{k}}\\left[\\frac{\\theta_{75}}{3}-\\frac{\\lambda}{2}\\right] \\end{aligned}$"
   ]
  },
  {
   "cell_type": "markdown",
   "metadata": {},
   "source": [
    "decently interesting result. "
   ]
  },
  {
   "cell_type": "markdown",
   "metadata": {},
   "source": [
    "- Uniform inflow has been used in the above formulation. \n",
    "- But we now know from ex that $\\lambda$ is not uniform, so something more than M-theory is needed to get to that. \n",
    "- Alfred Gessow proposed the BEMT to obtain $\\lambda (r)$\n",
    "- M theory, with its uniform $\\lambda$ assumption gives the least power required. Its not due to neglect of certain phenomena that contributes to power loss but due to the uniform $\\lambda$ approximation. "
   ]
  },
  {
   "cell_type": "markdown",
   "metadata": {},
   "source": [
    "$T=\\dot{m} v=P A v^{2}$\n",
    "\n",
    "$P=\\frac{1}{2} \\dot{m} v^{2}=\\frac{1}{2} P A v_{0}^{3}$"
   ]
  },
  {
   "cell_type": "markdown",
   "metadata": {},
   "source": [
    "\\begin{aligned} d T &=d \\dot{m} v_{i} \\\\ &=2 p 2 \\pi y d y\\left(v_{c}+v_{i}\\right) v_{i} \\\\\n",
    "\\end{aligned}"
   ]
  },
  {
   "cell_type": "markdown",
   "metadata": {},
   "source": [
    "\\begin{aligned}\n",
    "d C_{T} &=\\frac{4 \\pi p\\left(V_{c}+v_{i}\\right) v_{i} y d y}{p \\pi R^{2}(\\Omega R)^{2}} \\\\ \\end{aligned}"
   ]
  },
  {
   "cell_type": "markdown",
   "metadata": {},
   "source": [
    "\\begin{aligned}\n",
    "&=4 \\lambda \\lambda_{i} r dr  =4 \\lambda \\left(\\lambda-\\lambda_{c}\\right)r d r \n",
    "\\end{aligned}"
   ]
  },
  {
   "cell_type": "markdown",
   "metadata": {},
   "source": [
    "\\begin{aligned}\n",
    "C_{T} &= 4 \\int \\lambda \\left(\\lambda-\\lambda_{c}\\right) r d r \\quad \\quad \\text{Climb case}\\\\\n",
    "&= 4 \\int \\lambda^{2} r d r \\quad \\quad \\quad \\quad \\quad \\text{Hover case}\n",
    "\\end{aligned}"
   ]
  },
  {
   "cell_type": "markdown",
   "metadata": {},
   "source": [
    "From BEPT:          $ \\displaystyle \\quad d C_{T}=\\frac{\\sigma}{2} C_{l_{\\alpha}}\\left(\\theta r^{2}-d r\\right) d r$ \n",
    "    \n",
    "    \n",
    "From annular Momentum Theory :    $\\displaystyle \\quad d C_{T}=4 \\lambda\\left(\\lambda-\\lambda_{c}\\right)rd r$ "
   ]
  },
  {
   "cell_type": "markdown",
   "metadata": {},
   "source": [
    "$\\displaystyle d C_{T}=\\frac{\\sigma}{2} C_{l_{\\alpha}}\\left(\\theta r^{2}-d r\\right) d r = d C_{T}=4 \\lambda\\left(\\lambda-\\lambda_{c}\\right)rd r$ "
   ]
  },
  {
   "cell_type": "markdown",
   "metadata": {},
   "source": [
    "$\\displaystyle \\Rightarrow \\frac{\\sigma C_{l_{\\alpha}} \\theta r}{8}-\\frac{\\sigma C_{l_{\\alpha}}}{8} \\lambda=\\lambda^{2}-\\lambda_{c} \\lambda$\n",
    "\n",
    "$\\displaystyle \\Rightarrow \\lambda^{2}+\\left(\\frac{\\sigma C_{l_{\\alpha}}}{8}-\\lambda_{c}\\right) \\lambda-\\frac{\\sigma C_{l_{\\alpha}} \\theta r}{8}=0$\n"
   ]
  },
  {
   "cell_type": "markdown",
   "metadata": {},
   "source": [
    "$\\lambda\\left(r, \\lambda_{c}\\right)= \\displaystyle \\pm \\sqrt{\\frac{\\left(\\frac{\\sigma C_{l_{\\alpha}}}{8}-\\lambda_c \\right)^2+\\frac{\\sigma C_{l_{\\alpha}} \\theta_{r}}{2}}{4}} = \\displaystyle \\frac{  \\frac{\\sigma C_{l_{\\alpha}}}{8}- \\lambda_c}{2}$\n",
    "\n",
    "\n",
    "$a x^{2}+b x+c$\n",
    "$\\longrightarrow-b \\pm \\sqrt{b^{2}-4 a c}$   $ \\quad \\quad$ For $\\lambda_c=0$"
   ]
  },
  {
   "cell_type": "markdown",
   "metadata": {},
   "source": [
    "\\begin{equation}\n",
    "\\lambda (r)=\\frac{\\sigma C_{l_{\\alpha}}}{16}\\left[-1+\\sqrt{1+\\frac{32}{\\sigma C_{l_{\\alpha}}} \\theta_{r}}\\right]\n",
    "\\end{equation}"
   ]
  },
  {
   "cell_type": "markdown",
   "metadata": {},
   "source": [
    "In here $\\sigma$ is blade sizing, $C_{l_{\\alpha}}$ airfoil aerodynamics, $\\theta_r$ blade twist. \n"
   ]
  },
  {
   "cell_type": "markdown",
   "metadata": {},
   "source": [
    "ALWAYS some form of simplification manifests in the engineering framework of rotorcraft problems. 3-D FEM and DNS is not possible for rotorcraft problems as of now. So, problem specific simplifications are introduced. "
   ]
  },
  {
   "cell_type": "markdown",
   "metadata": {},
   "source": [
    "- $C_p$ during hover or high $M$ can be solved using momentum theory and rigid blades fairly accurately. \n",
    "- Obtaining accurate trim angles requires elastc blade modelling. \n",
    "- Obtaining blade vibration during descent flight, for e.g. requires free wake modelling. "
   ]
  },
  {
   "cell_type": "code",
   "execution_count": null,
   "metadata": {},
   "outputs": [],
   "source": []
  },
  {
   "cell_type": "code",
   "execution_count": null,
   "metadata": {},
   "outputs": [],
   "source": []
  },
  {
   "cell_type": "code",
   "execution_count": null,
   "metadata": {},
   "outputs": [],
   "source": []
  },
  {
   "cell_type": "code",
   "execution_count": null,
   "metadata": {},
   "outputs": [],
   "source": []
  },
  {
   "cell_type": "code",
   "execution_count": null,
   "metadata": {},
   "outputs": [],
   "source": []
  },
  {
   "cell_type": "code",
   "execution_count": null,
   "metadata": {},
   "outputs": [],
   "source": []
  }
 ],
 "metadata": {
  "kernelspec": {
   "display_name": "Python 3",
   "language": "python",
   "name": "python3"
  },
  "language_info": {
   "codemirror_mode": {
    "name": "ipython",
    "version": 3
   },
   "file_extension": ".py",
   "mimetype": "text/x-python",
   "name": "python",
   "nbconvert_exporter": "python",
   "pygments_lexer": "ipython3",
   "version": "3.8.12"
  },
  "latex_envs": {
   "LaTeX_envs_menu_present": true,
   "autoclose": true,
   "autocomplete": true,
   "bibliofile": "biblio.bib",
   "cite_by": "apalike",
   "current_citInitial": 1,
   "eqLabelWithNumbers": true,
   "eqNumInitial": 1,
   "hotkeys": {
    "equation": "Ctrl-E",
    "itemize": "Ctrl-I"
   },
   "labels_anchors": false,
   "latex_user_defs": false,
   "report_style_numbering": false,
   "user_envs_cfg": false
  }
 },
 "nbformat": 4,
 "nbformat_minor": 4
}
