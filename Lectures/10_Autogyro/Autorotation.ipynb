{
 "cells": [
  {
   "cell_type": "markdown",
   "id": "7596d4b5",
   "metadata": {},
   "source": [
    "# Autorotation"
   ]
  },
  {
   "cell_type": "markdown",
   "id": "dad803f1",
   "metadata": {},
   "source": [
    "- Fundamental to every helicopter design\n",
    "    - prevents it from \"falling like a rock\" in case of mishap\n"
   ]
  },
  {
   "cell_type": "markdown",
   "id": "e7962274",
   "metadata": {},
   "source": [
    "<div style=\"float:right; width:43%;\" >\n",
    "    <img src=\"../../assets/B0_fig4_4.png\" class=\"big\" />\n",
    "    <p style=\"text-align:center; color:gray; font-size:16px;\"> ...  </p>\n",
    "</div>\n"
   ]
  },
  {
   "cell_type": "code",
   "execution_count": null,
   "id": "a48ffb1a",
   "metadata": {},
   "outputs": [],
   "source": []
  },
  {
   "cell_type": "code",
   "execution_count": null,
   "id": "cce948bf",
   "metadata": {},
   "outputs": [],
   "source": []
  }
 ],
 "metadata": {
  "hide_input": false,
  "kernelspec": {
   "display_name": "Python 3 (ipykernel)",
   "language": "python",
   "name": "python3"
  },
  "language_info": {
   "codemirror_mode": {
    "name": "ipython",
    "version": 3
   },
   "file_extension": ".py",
   "mimetype": "text/x-python",
   "name": "python",
   "nbconvert_exporter": "python",
   "pygments_lexer": "ipython3",
   "version": "3.8.5"
  },
  "varInspector": {
   "cols": {
    "lenName": 16,
    "lenType": 16,
    "lenVar": 40
   },
   "kernels_config": {
    "python": {
     "delete_cmd_postfix": "",
     "delete_cmd_prefix": "del ",
     "library": "var_list.py",
     "varRefreshCmd": "print(var_dic_list())"
    },
    "r": {
     "delete_cmd_postfix": ") ",
     "delete_cmd_prefix": "rm(",
     "library": "var_list.r",
     "varRefreshCmd": "cat(var_dic_list()) "
    }
   },
   "types_to_exclude": [
    "module",
    "function",
    "builtin_function_or_method",
    "instance",
    "_Feature"
   ],
   "window_display": false
  }
 },
 "nbformat": 4,
 "nbformat_minor": 5
}
