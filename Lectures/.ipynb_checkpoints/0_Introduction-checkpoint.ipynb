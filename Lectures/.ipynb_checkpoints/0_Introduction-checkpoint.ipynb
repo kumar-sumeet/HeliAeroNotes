{
 "cells": [
  {
   "cell_type": "code",
   "execution_count": 1,
   "metadata": {
    "hide_input": true,
    "slideshow": {
     "slide_type": "skip"
    },
    "tags": [
     "hide-input"
    ]
   },
   "outputs": [
    {
     "data": {
      "text/html": [
       "<style>\n",
       "\n",
       "\n",
       "img.smalsmal{\n",
       "    width:5%\n",
       "}\n",
       "\n",
       "\n",
       "img.small{\n",
       "    width: 20%;\n",
       "}\n",
       "\n",
       "img.medium\n",
       "{\n",
       "width: 30%;\n",
       "}\n",
       "\n",
       "img.big\n",
       "{\n",
       "    width: 120%;\n",
       "}\n",
       "\n",
       "img.large\n",
       "{\n",
       "    width: 70%;\n",
       "}\n",
       "\n",
       "\n",
       "img.left {\n",
       "    float: left;\n",
       "}\n",
       "\n",
       "img.right {\n",
       "    float: right;\n",
       "}\n",
       "\n",
       "\n",
       "\n",
       ".image-grid{\n",
       "\n",
       "    display: grid;\n",
       "    grid-template-columns: repeat(3, 1fr);\n",
       "    grid-gap: 16px; \n",
       "\n",
       "}\n",
       "\n",
       ".image-grid > img {\n",
       "    width: 100%;\n",
       "    height: 100%;\n",
       "    object-fit: contain;\n",
       "}\n",
       "\n",
       "\n",
       ".image-grid > p {\n",
       "    color: gray;\n",
       "    font-size: 16px;\n",
       "    text-align:left;\n",
       "    \n",
       "}\n",
       "\n",
       "\n",
       ".image-grid-col-2 {\n",
       "    grid-column: span 2;\n",
       "}\n",
       "\n",
       "\n",
       ".image-grid4{\n",
       "\n",
       "    display: grid;\n",
       "    grid-template-columns: repeat(4, 1fr);\n",
       "    grid-gap: 16px; \n",
       "\n",
       "}\n",
       "\n",
       ".image-grid4 > img {\n",
       "    width: 100%;\n",
       "    height: 100%;\n",
       "    object-fit: contain;\n",
       "}\n",
       "\n",
       "\n",
       ".image-grid4 > p {\n",
       "    color: gray;\n",
       "    font-size: 16px;\n",
       "    text-align:left;\n",
       "    \n",
       "}\n",
       "\n",
       "\n",
       "\n",
       ".image-grid2{\n",
       "\n",
       "    display: grid;\n",
       "    grid-template-columns: repeat(2, 1fr);\n",
       "    grid-gap: 16px; \n",
       "\n",
       "}\n",
       "\n",
       ".image-grid2 > img {\n",
       "    width: 100%;\n",
       "    height: 100%;\n",
       "    object-fit: contain;\n",
       "}\n",
       "\n",
       "\n",
       ".image-grid2 > p {\n",
       "    color: gray;\n",
       "    font-size: 16px;\n",
       "    text-align:left;\n",
       "    \n",
       "}\n",
       "\n",
       "\n",
       "</style>\n"
      ],
      "text/plain": [
       "<IPython.core.display.HTML object>"
      ]
     },
     "metadata": {},
     "output_type": "display_data"
    }
   ],
   "source": [
    "%%html\n",
    "<style>\n",
    "\n",
    "\n",
    "img.smalsmal{\n",
    "    width:5%\n",
    "}\n",
    "\n",
    "\n",
    "img.small{\n",
    "    width: 20%;\n",
    "}\n",
    "\n",
    "img.medium\n",
    "{\n",
    "width: 30%;\n",
    "}\n",
    "\n",
    "img.big\n",
    "{\n",
    "    width: 120%;\n",
    "}\n",
    "\n",
    "img.large\n",
    "{\n",
    "    width: 70%;\n",
    "}\n",
    "\n",
    "\n",
    "img.left {\n",
    "    float: left;\n",
    "}\n",
    "\n",
    "img.right {\n",
    "    float: right;\n",
    "}\n",
    "\n",
    "\n",
    "\n",
    ".image-grid{\n",
    "\n",
    "    display: grid;\n",
    "    grid-template-columns: repeat(3, 1fr);\n",
    "    grid-gap: 16px; \n",
    "\n",
    "}\n",
    "\n",
    ".image-grid > img {\n",
    "    width: 100%;\n",
    "    height: 100%;\n",
    "    object-fit: contain;\n",
    "}\n",
    "\n",
    "\n",
    ".image-grid > p {\n",
    "    color: gray;\n",
    "    font-size: 16px;\n",
    "    text-align:left;\n",
    "    \n",
    "}\n",
    "\n",
    "\n",
    ".image-grid-col-2 {\n",
    "    grid-column: span 2;\n",
    "}\n",
    "\n",
    "\n",
    ".image-grid4{\n",
    "\n",
    "    display: grid;\n",
    "    grid-template-columns: repeat(4, 1fr);\n",
    "    grid-gap: 16px; \n",
    "\n",
    "}\n",
    "\n",
    ".image-grid4 > img {\n",
    "    width: 100%;\n",
    "    height: 100%;\n",
    "    object-fit: contain;\n",
    "}\n",
    "\n",
    "\n",
    ".image-grid4 > p {\n",
    "    color: gray;\n",
    "    font-size: 16px;\n",
    "    text-align:left;\n",
    "    \n",
    "}\n",
    "\n",
    "\n",
    "\n",
    ".image-grid2{\n",
    "\n",
    "    display: grid;\n",
    "    grid-template-columns: repeat(2, 1fr);\n",
    "    grid-gap: 16px; \n",
    "\n",
    "}\n",
    "\n",
    ".image-grid2 > img {\n",
    "    width: 100%;\n",
    "    height: 100%;\n",
    "    object-fit: contain;\n",
    "}\n",
    "\n",
    "\n",
    ".image-grid2 > p {\n",
    "    color: gray;\n",
    "    font-size: 16px;\n",
    "    text-align:left;\n",
    "    \n",
    "}\n",
    "\n",
    "\n",
    "</style>"
   ]
  },
  {
   "cell_type": "markdown",
   "metadata": {
    "slideshow": {
     "slide_type": "slide"
    }
   },
   "source": [
    "# Fundamentals of Helicopter Aerodynamics"
   ]
  },
  {
   "cell_type": "markdown",
   "metadata": {
    "slideshow": {
     "slide_type": "-"
    }
   },
   "source": [
    "```{epigraph}\n",
    "\"If you're in trouble anywhere in the world, an airplane can fly over and drop \n",
    "flowers, but a helicopter can save your life.\"\n",
    "```\n",
    "\n",
    "<p style=\"text-align:right\" > <a href=\"https://www.sikorskyarchives.com/History.php\"> Igor Sikorsky</a> </p>\n"
   ]
  },
  {
   "cell_type": "markdown",
   "metadata": {
    "slideshow": {
     "slide_type": "slide"
    }
   },
   "source": [
    "## Objective"
   ]
  },
  {
   "cell_type": "markdown",
   "metadata": {
    "slideshow": {
     "slide_type": "-"
    }
   },
   "source": [
    "The objective of this course is to introduce physical concepts that are relevant for understanding and analysis of rotary-wings (as helicopter rotors are also referred to) in hover, axial and edgewise flight. The course would focus predominantly on aerodynamic aspects of vertical take-off and landing (VTOL) flight. Knowledge of aerodynamics of fixed-wing aircraft doesn't directly apply when studying *rotating* wings (hence the name *rotary-wing*). Of course, fundamental fluid dynamics concepts that govern the aerodynamics of fixed-wings also govern the aerodynamics of rotary-winged aircraft. However, as you would learn in the course, the manner in which the flow field evolves and the consitutuent flow structures are very different for the two classes of flying vehicles. Additionally, airfoil stall and unsteady aerodynamics theories are usually discussed in the context of fixed-wing aircraft but are fundamental to accurately predict rotorcraft performance and will be introduced in this course. A lot of jargon, specific to rotorcraft, will be introduced as well. The structural dynamics is very different too but that's for another course.   "
   ]
  },
  {
   "cell_type": "markdown",
   "metadata": {},
   "source": [
    "In order to study helicopter performance and dynamics one needs to be familiar with the mechanical complexity associated with the rotor structural design as well as the associated aerodynamics. While the two are intricately related we'll just look at the aerodynamics component in this course and bring up the rotor design complexities when they serve our purpose of better understanding the aerodynamics of the rotor."
   ]
  },
  {
   "cell_type": "markdown",
   "metadata": {
    "slideshow": {
     "slide_type": "slide"
    }
   },
   "source": [
    " <p  style=\"font-size:100%; color:black; text-align:center;\"> Resources \n"
   ]
  },
  {
   "cell_type": "markdown",
   "metadata": {
    "slideshow": {
     "slide_type": "skip"
    }
   },
   "source": [
    "The website of the Vertical Flight Society (VFS), previously called the Amercian Helicopter Society (AHS), is a great resource of everything rotorcraft-related. You are encouraged to explore it. If there any conference papers (found under Education->Proceedings) you are interested in, then feel free to drop by and I'll show you how it can be done - TUM is a subscriber but free download requires a few tricky clicks!"
   ]
  },
  {
   "cell_type": "markdown",
   "metadata": {
    "hide_input": false,
    "slideshow": {
     "slide_type": "slide"
    }
   },
   "source": [
    "### Website"
   ]
  },
  {
   "cell_type": "code",
   "execution_count": 2,
   "metadata": {
    "hide_input": true,
    "scrolled": false,
    "slideshow": {
     "slide_type": "-"
    }
   },
   "outputs": [
    {
     "data": {
      "text/html": [
       "<iframe src=\"https://vtol.org/\" width=\"1200\" height=\"1000\"></iframe>\n"
      ],
      "text/plain": [
       "<IPython.core.display.HTML object>"
      ]
     },
     "metadata": {},
     "output_type": "display_data"
    }
   ],
   "source": [
    "%%html\n",
    "<iframe src=\"https://vtol.org/\" width=\"1200\" height=\"1000\"></iframe>"
   ]
  },
  {
   "cell_type": "markdown",
   "metadata": {
    "slideshow": {
     "slide_type": "slide"
    }
   },
   "source": [
    "### Books"
   ]
  },
  {
   "cell_type": "markdown",
   "metadata": {
    "slideshow": {
     "slide_type": "-"
    }
   },
   "source": [
    "&nbsp;\n",
    "\n",
    "- Rotorcraft Aeromechanics by Wayne Johnson\n"
   ]
  },
  {
   "cell_type": "markdown",
   "metadata": {
    "slideshow": {
     "slide_type": "subslide"
    }
   },
   "source": [
    "<div style=\"float:right; width:43%;\" >\n",
    "    <img src=\"../assets/B3.png\" class=\"big\" />\n",
    "    <p style=\"text-align:center; color:gray; font-size:12px;\"> Principles in Helicopter Aerodynamics\n",
    "</div>\n",
    "\n",
    "\n",
    "<div style=\"float:right; width:43%;\" >\n",
    "    <img src=\"../assets/B3.png\" class=\"large\" />\n",
    "    <p style=\"text-align:center; color:gray; font-size:16px;\"> Principles in Helicopter Aerodynamics\n",
    "</div>\n"
   ]
  },
  {
   "cell_type": "markdown",
   "metadata": {
    "slideshow": {
     "slide_type": "subslide"
    }
   },
   "source": [
    "<div style=\"float:right; width:43%;\" >\n",
    "    <img src=\"../assets/RayProutyBook1.png\" class=\"large\" />\n",
    "    <p style=\"text-align:center; color:gray; font-size:16px;\"> Helicopter Aerodynamics\n",
    "</div>\n",
    "\n",
    "- Helicopter Aerodynamics by Ray Prouty (Vols. I, II and III)"
   ]
  },
  {
   "cell_type": "markdown",
   "metadata": {
    "slideshow": {
     "slide_type": "slide"
    }
   },
   "source": [
    "&nbsp;\n",
    "\n",
    "\n",
    "## Final grades\n",
    "\n",
    "- Reading assignment - 30%\n",
    "- Oral exam(?) - 70%\n"
   ]
  },
  {
   "cell_type": "markdown",
   "metadata": {
    "slideshow": {
     "slide_type": "slide"
    }
   },
   "source": [
    "<div align=\"center\">\n",
    "  <font size=\"+3\"><b>A General Overview</b></font>\n",
    "</div>"
   ]
  },
  {
   "cell_type": "markdown",
   "metadata": {
    "slideshow": {
     "slide_type": "slide"
    }
   },
   "source": [
    "## What makes a helicopter?"
   ]
  },
  {
   "cell_type": "markdown",
   "metadata": {
    "slideshow": {
     "slide_type": "skip"
    }
   },
   "source": [
    "A number of design configurations currently exist for helicopters. The most apparent difference is the number of lifting rotors and their placement over the aircraft. This is the source of many differences in overall aircraft performance and mission capabilities among these various designs."
   ]
  },
  {
   "cell_type": "markdown",
   "metadata": {
    "slideshow": {
     "slide_type": "-"
    }
   },
   "source": [
    "&nbsp;\n",
    "\n",
    "<div class=\"image-grid4\">\n",
    "    <img  src=\"../assets/design_1.jpg\" class=\"big\"/>\n",
    "    <img  src=\"../assets/osprey.png\" class=\"big\"/>\n",
    "    <img  src=\"../assets/tandem.png\" class=\"big\" />\n",
    "    <img  src=\"../assets/intermeshing.png\" class=\"big\"/>   \n",
    "</div>\n",
    "\n",
    "<div class=\"image-grid4\">\n",
    "  <p   > Wing <a href=\"https://vtol.org/qr/2015-ahs-history-calendar\"> [source]</a>\n",
    "  </p>   \n",
    "  <p  > Tilt rotor<a href=\"https://vtol.org/qr/2015-ahs-history-calendar\"> [source]</a>\n",
    "  </p> \n",
    "  <p   > Tandem rotor<a href=\"https://vtol.org/qr/2015-ahs-history-calendar\"> [source]</a>\n",
    "  </p>\n",
    "  <p   > Intermeshing rotor <a href=\"https://vtol.org/qr/2015-ahs-history-calendar\"> [source]</a>\n",
    "  </p>\n",
    "</div>\n",
    "\n",
    "\n",
    "\n",
    "<div class=\"image-grid4\">\n",
    "    <img  src=\"../assets/concept_1.png\" class=\"big\"/>\n",
    "    <img  src=\"../assets/concept_2.png\" class=\"big\"/>\n",
    "    <img  src=\"../assets/concept_3.png\" class=\"big\"/>\n",
    "    <img  src=\"../assets/x3.png\" class=\"big\"/>\n",
    "   \n",
    "</div>\n",
    "\n",
    "<div class=\"image-grid4\">\n",
    "  <p   > Concept <a href=\"https://vtol.org/qr/2015-ahs-history-calendar\"> [source]</a>\n",
    "  </p>   \n",
    "  <p  > Concept<a href=\"https://vtol.org/qr/2015-ahs-history-calendar\"> [source]</a>\n",
    "  </p> \n",
    "  <p   > Concept<a href=\"https://vtol.org/qr/2015-ahs-history-calendar\"> [source]</a>\n",
    "  </p>\n",
    "  <p   > Thrust compound<a href=\"https://vtol.org/qr/2015-ahs-history-calendar\"> [source]</a>\n",
    "  </p>\n",
    "</div>"
   ]
  },
  {
   "cell_type": "markdown",
   "metadata": {
    "slideshow": {
     "slide_type": "skip"
    }
   },
   "source": [
    "```{admonition} Food for Thought\n",
    "A common feature among all aircraft above seems to be the presence of atleast 2 rotors. Is a one-rotor design possible.\n",
    "Note: We are only concerned with aircraft that have VTOL capability.\n",
    "```"
   ]
  },
  {
   "cell_type": "markdown",
   "metadata": {
    "slideshow": {
     "slide_type": "slide"
    }
   },
   "source": [
    "## Helicopters / VTOL / STOVL"
   ]
  },
  {
   "cell_type": "markdown",
   "metadata": {
    "slideshow": {
     "slide_type": "-"
    }
   },
   "source": [
    "- The central idea is to take-off and land vertically at BEST EFFICIENCY\n",
    "\n",
    "- Which of the below adhere to this principle best? \n",
    "\n",
    "  - why? (hint: large rotor)\n",
    "  \n",
    "- A century of research has established the conventional design to be the most efficient (for now!) – caveats (weight class, tandem rotors)\n",
    "\n",
    "- What about the performance outside this manuever (i.e. hover)?\n",
    "\n",
    "<div class=\"image-grid\">\n",
    "    <img  src=\"../assets/spacex.jpeg\" class=\"big\"/>\n",
    "    <img  src=\"../assets/carrier.jpg\" class=\"big\"/>\n",
    "    <img  src=\"../assets/h160.jpg\" class=\"big\" />\n",
    "\n",
    "   \n",
    "</div>\n",
    "\n",
    "<div class=\"image-grid\">\n",
    "  <p   > Space X \n",
    "  </p>   \n",
    "  <p  > Carrier\n",
    "  </p> \n",
    "  <p   > H160\n",
    "  </p>\n",
    "</div>\n"
   ]
  },
  {
   "cell_type": "markdown",
   "metadata": {
    "slideshow": {
     "slide_type": "-"
    }
   },
   "source": [
    "## Required power (Bucket) curve\n"
   ]
  },
  {
   "cell_type": "markdown",
   "metadata": {
    "slideshow": {
     "slide_type": "-"
    }
   },
   "source": [
    "\n",
    "&nbsp;\n",
    "<center>\n",
    "    <img src=\"../assets/power_curve.png\" class=\"large\">\n",
    "    <p  style=\"font-size:16px; color:gray; text-align:center;\">\n",
    "</center>"
   ]
  },
  {
   "cell_type": "markdown",
   "metadata": {
    "slideshow": {
     "slide_type": "skip"
    }
   },
   "source": [
    "Many pecularities associated with helicopters can be inferred from the required power breakdown over the operational regime. The decrease in the total power that follows immediately after the helicopter transitions from hover to forwards flight is striking. It is apparent that the highest power is consumed by a helicopter in hover and in high fast forward flight states. Of course, why that is exactly the case would be covered in detail in the following lectures. This unintuitive behavior of the power consumption by a helicopter (after all, why should a helicopter that is still with respect to the ground consume more energy per unit time that one that is moving forward and therefore has associated drag that needs to be overcome?!) leads to interesting performance characteristics. This also has critical design consequences - 'hot and high' hover requirements might end up deciding the size of the engine installed because of high power requirement."
   ]
  },
  {
   "cell_type": "markdown",
   "metadata": {
    "slideshow": {
     "slide_type": "slide"
    }
   },
   "source": [
    "## V/STOVL aircraft issues "
   ]
  },
  {
   "cell_type": "markdown",
   "metadata": {
    "slideshow": {
     "slide_type": "-"
    }
   },
   "source": [
    "- Large thrust mismatch between vertical flight and cruise \n",
    "\n",
    "  - either engines must be far more oversized for cruise, or that separate thrust devices are needed purely for the vertical flight\n",
    "\n",
    "- Distribution of the thrust around the center of gravity for hover\n",
    "\n",
    "- Mechanical complexity to facilitate the above\n",
    "\n",
    "- Fuel efficiency\n",
    "\n",
    "  - powered lift is inherently less efficient form than aerodynamic lift\n",
    "  \n",
    "  - using more engines and shafts to drive more propulsors decreases efficiencies further\n"
   ]
  },
  {
   "cell_type": "markdown",
   "metadata": {
    "slideshow": {
     "slide_type": "slide"
    }
   },
   "source": [
    "## Wheel of (Mis)fortune"
   ]
  },
  {
   "cell_type": "markdown",
   "metadata": {
    "slideshow": {
     "slide_type": "-"
    }
   },
   "source": [
    "<div style=\"float:right; width:43%;\" >\n",
    "    <img src=\"../assets/wheel.jpg\" class=\"big\" />\n",
    "    <p style=\"text-align:center; color:gray; font-size:16px;\"> AHS Wheel <a href=\"https://vertipedia-legacy.vtol.org/vstol/wheel.htm\"> [source]</a>\n",
    "  </p>\n",
    "</div>\n",
    "\n",
    "\n",
    "\n",
    "<!--- this list next to a float doesn't wrap in slideshow view for some reason \n",
    "possible to insert manual breaks, or use regular text without bullets-->\n",
    "\n",
    "- Most V/STOVL aircraft never <br>\n",
    "  entered production stage\n",
    "  \n",
    "- MANY engineering strategies tried <br>\n",
    "  out to make helicopters go fast. <br>\n",
    "  Almost all failed.  \n",
    "  \n",
    "- Some concepts making a comeback \n",
    "\n",
    "  - piston/turboshaft power <br>\n",
    "    different from electric!\n",
    "    \n",
    "  - advances in structures (this <br>\n",
    "    also makes the conventional <br>\n",
    "    design more lucrative)"
   ]
  },
  {
   "cell_type": "markdown",
   "metadata": {
    "slideshow": {
     "slide_type": "skip"
    }
   },
   "source": [
    "Basically, almost any design imaginable, that was also possible with the technology level back then, \n",
    "was built and tested. "
   ]
  },
  {
   "cell_type": "markdown",
   "metadata": {
    "slideshow": {
     "slide_type": "slide"
    }
   },
   "source": [
    "## Newton's laws of motion: aircraft"
   ]
  },
  {
   "cell_type": "markdown",
   "metadata": {},
   "source": [
    "<div style=\"float:right; width:55%\"; >\n",
    "    <img src=\"../assets/forces_moment.png\" />\n",
    "    <p style=\"font-size:16px; color:gray; text-align:center;\"> Forces and moments balance about CG </p>\n",
    "</div>\n",
    "\n",
    "\n",
    "&nbsp;\n",
    "\n",
    "\n",
    "Net force and angular momentum of the aircraft should equal zero\n",
    "\t\n",
    "Vertical component of thrust = aircraft weight\n",
    "\n",
    "Horizontal component of thrust = aircraft drag"
   ]
  },
  {
   "cell_type": "markdown",
   "metadata": {
    "slideshow": {
     "slide_type": "slide"
    }
   },
   "source": [
    "## Newton's laws of motion: aerodynamics"
   ]
  },
  {
   "cell_type": "markdown",
   "metadata": {
    "slideshow": {
     "slide_type": "subslide"
    }
   },
   "source": [
    "- relative motion (between fluid and airfoil) necessary to generate lifting force\n",
    "\n",
    "- relative motion achieved using rotating the blades (wings)\n",
    "\n",
    "- ..."
   ]
  },
  {
   "cell_type": "markdown",
   "metadata": {
    "slideshow": {
     "slide_type": "slide"
    }
   },
   "source": [
    "## Real-world application"
   ]
  },
  {
   "cell_type": "markdown",
   "metadata": {
    "slideshow": {
     "slide_type": "skip"
    }
   },
   "source": [
    "The eventual goal would be to apply the concepts learned during the course to real world rotors (since rotors are central to helicopter performance and lifting abilities, in most scenarios a good rotor design leads to a good helicopter design [^RealWorld])\n",
    "\n",
    "[^RealWorld]: This is not universally true. "
   ]
  },
  {
   "cell_type": "markdown",
   "metadata": {
    "slideshow": {
     "slide_type": "skip"
    }
   },
   "source": [
    "What makes the below design special from the rest of the (conventional design) helicopters that the speed record set by it *still* stands - 400 km/hr"
   ]
  },
  {
   "cell_type": "markdown",
   "metadata": {
    "slideshow": {
     "slide_type": "subslide"
    }
   },
   "source": [
    "<center>\n",
    "    <img src=\"../assets/lynx.png\" class=\"medium\">\n",
    "    <p style=\"font-size:16px; color:gray; text-align:center;\" > Lynx <a href=\"https://vtol.org/qr/2015-ahs-history-calendar\"> [source]</a></p>\n",
    "\n",
    "</center>"
   ]
  },
  {
   "cell_type": "markdown",
   "metadata": {
    "slideshow": {
     "slide_type": "skip"
    }
   },
   "source": [
    "What makes the below design special that it can *easily* do ~460 km/hr"
   ]
  },
  {
   "cell_type": "markdown",
   "metadata": {
    "slideshow": {
     "slide_type": "subslide"
    }
   },
   "source": [
    "    \n",
    "<center>\n",
    "    <img src=\"../assets/Defiant.jpg\" class=\"medium\">\n",
    "    <p  style=\"font-size:16px; color:gray; text-align:center;\"> Sikorsky–Boeing SB-1 Defiant <a href=\"https://en.wikipedia.org/wiki/Sikorsky%E2%80%93Boeing_SB-1_Defiant#/media/File:Sikorsky%E2%80%93Boeing_SB-1_Defiant_(cropped).jpg\">[source] </a></p>\n",
    "\n",
    "</center>\n"
   ]
  },
  {
   "cell_type": "markdown",
   "metadata": {
    "slideshow": {
     "slide_type": "skip"
    }
   },
   "source": [
    "What makes this design special that it still holds the flight altitude record of 12,442 m?"
   ]
  },
  {
   "cell_type": "markdown",
   "metadata": {
    "slideshow": {
     "slide_type": "subslide"
    }
   },
   "source": [
    "<center>\n",
    "    <img src=\"../assets/Aerospatiale_SA-315B_HB-XTM.jpeg\" class=\"medium\">\n",
    "    <p  style=\"font-size:16px; color:gray; text-align:center;\"> Aérospatiale SA 315B Lama <a href=\"https://en.wikipedia.org/wiki/A%C3%A9rospatiale_SA_315B_Lama#/media/File:Aerospatiale_SA-315B_HB-XTM.jpg\">[source] </a></p>\n",
    "\n",
    "</center>\n"
   ]
  },
  {
   "cell_type": "markdown",
   "metadata": {
    "slideshow": {
     "slide_type": "skip"
    }
   },
   "source": [
    "What is making the concept of electric VTOLs or eVTOLs so attractive? Is it just swiping the fuel tank for a battery?"
   ]
  },
  {
   "cell_type": "markdown",
   "metadata": {
    "slideshow": {
     "slide_type": "subslide"
    }
   },
   "source": [
    "&nbsp;\n",
    "\n",
    "\n",
    "<div class=\"image-grid4\">\n",
    "    <img  src=\"../assets/volocopter.jpg\" class=\"large\"/>\n",
    "    <img  src=\"../assets/eHang.webp\" class=\"large\"/>\n",
    "    <img  src=\"../assets/CityAirbus.jpeg\" class=\"big\"/>\n",
    "    <img  src=\"../assets/lilium.jpeg\" class=\"big\"/>\n",
    "</div>\n",
    "\n",
    "<div class=\"image-grid4\">\n",
    "  <p   > Volocopter<a href=\"https://mediahub-volocopter.pixxio.media/start/detail/1684#downloadarea\"> [source]</a>\n",
    "  </p>   \n",
    "  <p  > EHang <a href=\"https://newatlas.com/aircraft/ehang-production-facility-video/\"> [source]</a>\n",
    "  </p> \n",
    "  <p   > Airbus CityAirbus <a href=\"https://en.wikipedia.org/wiki/Airbus_CityAirbus#/media/File:Airbus_CityAirbus_D-HCIA_hovering.jpg\"> [source]</a>\n",
    "  </p>\n",
    "  <p   > Lilium <a href=\"https://www.google.com/url?sa=i&url=https%3A%2F%2Flilium.com%2F&psig=AOvVaw1_Jrye3JhZxoubTUKVt1Vq&ust=1650618196918000&source=images&cd=vfe&ved=0CAwQjRxqFwoTCKjlv6jmpPcCFQAAAAAdAAAAABAD\"> [source]</a>\n",
    "  </p>\n",
    "</div>\n"
   ]
  },
  {
   "cell_type": "code",
   "execution_count": null,
   "metadata": {},
   "outputs": [],
   "source": []
  }
 ],
 "metadata": {
  "celltoolbar": "Tags",
  "hide_input": false,
  "kernelspec": {
   "display_name": "Python 3",
   "language": "python",
   "name": "python3"
  },
  "language_info": {
   "codemirror_mode": {
    "name": "ipython",
    "version": 3
   },
   "file_extension": ".py",
   "mimetype": "text/x-python",
   "name": "python",
   "nbconvert_exporter": "python",
   "pygments_lexer": "ipython3",
   "version": "3.8.12"
  },
  "latex_envs": {
   "LaTeX_envs_menu_present": true,
   "autoclose": true,
   "autocomplete": true,
   "bibliofile": "biblio.bib",
   "cite_by": "apalike",
   "current_citInitial": 1,
   "eqLabelWithNumbers": false,
   "eqNumInitial": 1,
   "hotkeys": {
    "equation": "Ctrl-E",
    "itemize": "Ctrl-I"
   },
   "labels_anchors": false,
   "latex_user_defs": false,
   "report_style_numbering": false,
   "user_envs_cfg": false
  },
  "rise": {
   "autolaunch": false,
   "backimage": "../assets/slidetemplate.png",
   "enable_chalkboard": true,
   "footer": "Sumeet Kumar, PhD candidate",
   "scroll": true
  },
  "varInspector": {
   "cols": {
    "lenName": 16,
    "lenType": 16,
    "lenVar": 40
   },
   "kernels_config": {
    "python": {
     "delete_cmd_postfix": "",
     "delete_cmd_prefix": "del ",
     "library": "var_list.py",
     "varRefreshCmd": "print(var_dic_list())"
    },
    "r": {
     "delete_cmd_postfix": ") ",
     "delete_cmd_prefix": "rm(",
     "library": "var_list.r",
     "varRefreshCmd": "cat(var_dic_list()) "
    }
   },
   "types_to_exclude": [
    "module",
    "function",
    "builtin_function_or_method",
    "instance",
    "_Feature"
   ],
   "window_display": false
  }
 },
 "nbformat": 4,
 "nbformat_minor": 5
}
