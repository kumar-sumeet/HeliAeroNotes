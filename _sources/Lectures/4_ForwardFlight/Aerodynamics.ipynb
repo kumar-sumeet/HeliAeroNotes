{
 "cells": [
  {
   "cell_type": "markdown",
   "id": "a5a73515",
   "metadata": {
    "slideshow": {
     "slide_type": "slide"
    }
   },
   "source": [
    "# Aerodynamics in forward flight"
   ]
  },
  {
   "cell_type": "markdown",
   "id": "449c23a3",
   "metadata": {
    "slideshow": {
     "slide_type": "-"
    }
   },
   "source": [
    "```{epigraph}\n",
    "\"Whatever helps hover, hurts forward flight, and whatever helps forward flight hurts hover.\" \n",
    "```\n",
    "<p style=\"text-align:right\" >  Ray Prouty (Helicopter Aerodynamics Vol. II) </p>\n"
   ]
  },
  {
   "cell_type": "markdown",
   "id": "31b10859",
   "metadata": {
    "slideshow": {
     "slide_type": "slide"
    }
   },
   "source": [
    "# Airfoil Characteristics"
   ]
  },
  {
   "cell_type": "markdown",
   "id": "e8e4532c",
   "metadata": {
    "slideshow": {
     "slide_type": "skip"
    }
   },
   "source": [
    "The rotor performance is an accumulated effect of the blade section (airfoil) aerodynamics over one rotor revolution. So the natural question arises, what kind of airfoil performance characteristics ($C_L$, $C_D$, $C_M$) are desirable for rotorcraft applications? The answer is not immediately obvious because, unlike their fixed-wing counterparts, helicopter blades experience varying oncoming flow velocities and different operating angles of attack over one revolution. Nevertheless, certain broad trends exist."
   ]
  },
  {
   "cell_type": "markdown",
   "id": "8ad4818f",
   "metadata": {
    "slideshow": {
     "slide_type": "-"
    }
   },
   "source": [
    "- balance advancing side and retreating aerodynamics\n",
    "    - low drag-divergence Mach number on advancing side (thin airfoils)\n",
    "    - high $C_{l_{max}}$ on retreating side (thick, cambered airfoils)\n",
    "- thin airfoils outboard, and thick, cambered airfoils inboard\n",
    "- good erodynamic efficiency\n",
    "    - high $\\frac{C_L}{C_D}$\n",
    "- low $C_M$"
   ]
  },
  {
   "cell_type": "markdown",
   "id": "b5c5bcbf",
   "metadata": {},
   "source": [
    "Early helicopters had symmetric airfoils (for e.g. NACA0012 airfoil on UH1). "
   ]
  },
  {
   "cell_type": "markdown",
   "id": "16ef2a8c",
   "metadata": {},
   "source": [
    "Low $C_M$ is a highly desirable attribute because airfoil $C_M$ can easily result in high blade twist. This leads to high pitch-link loads which in turn causes the need for larger/more powerful actuators to control blade pitch. High pitch-link loads also lead to higher vibration.  "
   ]
  },
  {
   "cell_type": "markdown",
   "id": "53446ec6",
   "metadata": {},
   "source": [
    "Airfoil section exhibit $C_M$=0 or nearly zero only for a limited range of *normal* operating conditions. In extreme rotor operating conditions, when the blade section undergoes compressibility effects (high speed) or stall (high loading), the airfoil is operating outside its *normal* operating conditions and will likely exhibit high negative $C_M$. This is why high speed flight and "
   ]
  },
  {
   "cell_type": "markdown",
   "id": "ad233b3c",
   "metadata": {},
   "source": [
    "Boeing AH-64 Apache initially had *straight* blade tips. This resulted in large "
   ]
  },
  {
   "cell_type": "markdown",
   "id": "09f788b0",
   "metadata": {},
   "source": [
    "## Choosing rotor airfoils"
   ]
  },
  {
   "cell_type": "markdown",
   "id": "ced9cfd6",
   "metadata": {},
   "source": [
    "The rotor blade experiences a highly variable aerodynamics environment as it undegoes one revolution. Identifying the most suitable airfoil is made difficult as a consequence. In addition, the unsteady aerodynamics behavior of the airfoil also becomes relevant (as would be discussed later). Understandably, the choice of airfoil section is much more complicated in comparison to a fixed-wing aircraft where the airfoil can simply be optimised for cruise speed. The oncoming flow velocity is then fixed and the angle of attack of the airfoil sections on an operational wing do not vary much. In contrast, at a given cruise speed the rotor blade section sees harmonically varying oncoming flow velocity while undergoing pitching and additional motion due to blade elastic deformation."
   ]
  },
  {
   "cell_type": "markdown",
   "id": "3717d9e1",
   "metadata": {},
   "source": [
    "- low control loads due to blade twist\n",
    "    - low $C_m$\n",
    "\n",
    "- generate sufficient lift on retreating side\n",
    "    - high $C_{Lmax}$ at low to moderate Mach numbers\n",
    "    \n",
    "- no shocks or high drag at advancing blade tips\n",
    "    - high critical Mach number\n",
    "\n",
    "- no undesirable unsteady aerodynamic behavior\n",
    "    - no (unusually bad) dynamic stall characteristics"
   ]
  },
  {
   "cell_type": "markdown",
   "id": "d589cede",
   "metadata": {},
   "source": [
    "It is near impossible for one airfoil to be the best in terms of each of the aforementioned performance criteria.\n",
    "\n"
   ]
  },
  {
   "cell_type": "markdown",
   "id": "8c39857e",
   "metadata": {},
   "source": [
    "Earliest helicopter designs had symmetric airfoil since they have zero pitching moment...."
   ]
  },
  {
   "cell_type": "markdown",
   "id": "e1dcbeaa",
   "metadata": {},
   "source": [
    "<center>\n",
    "    <img src=\"../../assets/UH1_airfoil.jpeg\" class=\"medium\">\n",
    "    <p style=\"font-size:12px; color:gray; text-align:center;\"> NACA0012 airfoil profile of UH1 Huey <a href=\"https://www.pagunblog.com/2011/05/29/lucky-gunner-shoot-day-one-photos/img_0505/\"> [source]</a></p>\n",
    "\n",
    "</center>\n"
   ]
  },
  {
   "cell_type": "markdown",
   "id": "5effb22e",
   "metadata": {},
   "source": [
    "## talk about blade/wing sweep( from understanding aero) here"
   ]
  },
  {
   "cell_type": "markdown",
   "id": "3fa9bb3f",
   "metadata": {},
   "source": [
    "<center>\n",
    "    <img src=\"../../assets/AH64_earlyversion.jpeg\" class=\"medium\">\n",
    "    <p style=\"font-size:12px; color:gray; text-align:center;\"> P32 <a href=\"https://en.wikipedia.org/wiki/Boeing_AH-64_Apache#/media/File:Hughes_experimental_copter.jpg\"> [source]</a></p>\n",
    "\n",
    "</center>\n"
   ]
  },
  {
   "cell_type": "markdown",
   "id": "1b1f8c5a",
   "metadata": {},
   "source": [
    "# Airfoil performance vs Rotor performance"
   ]
  },
  {
   "cell_type": "markdown",
   "id": "c9edba42",
   "metadata": {},
   "source": [
    "<center>\n",
    "    <img src=\"../../screenshots/3_/P32_1.png\" class=\"medium\">\n",
    "    <p style=\"font-size:12px; color:gray; text-align:center;\"> P32 <a href=\"\"> [source]</a></p>\n",
    "\n",
    "</center>\n",
    "\n",
    "\n",
    "**CAPTION and SOURCE needed**"
   ]
  },
  {
   "cell_type": "code",
   "execution_count": null,
   "id": "c5830a59",
   "metadata": {},
   "outputs": [],
   "source": []
  },
  {
   "cell_type": "markdown",
   "id": "3b46c4b4",
   "metadata": {},
   "source": [
    "## Rotor performance limitations"
   ]
  },
  {
   "cell_type": "markdown",
   "id": "9fc9b318",
   "metadata": {},
   "source": [
    "In hover, the limit to how much thrust a rotor can generate, vis-à-vis the MTOW capability, is related to just the maximum lift coefficient $C_L_{max}$ that the blade airfoil section can sustain. There is no single corresponding parameter for the limitation in forward flight condition. "
   ]
  },
  {
   "cell_type": "markdown",
   "id": "2a662ad9",
   "metadata": {},
   "source": [
    "### Advancing blade tip - high Mach number "
   ]
  },
  {
   "cell_type": "markdown",
   "id": "5b0e52ef",
   "metadata": {},
   "source": [
    "- shock at advancing blade tip \n",
    "    - cause high blade pitching moments (vibration)\n",
    "    - leads to high drag"
   ]
  },
  {
   "cell_type": "markdown",
   "id": "cfb54bd9",
   "metadata": {},
   "source": [
    "### Rotor lifting ability with advance ratio"
   ]
  },
  {
   "cell_type": "markdown",
   "id": "d55ad4e0",
   "metadata": {},
   "source": [
    "- maximum possible blade loading decreases with $\\mu$\n",
    "-"
   ]
  },
  {
   "cell_type": "markdown",
   "id": "179e3f41",
   "metadata": {},
   "source": [
    "<div class=\"image-grid3\">\n",
    "    <img  src=\"../../assets/contour_Fz.png\" class=\"medium\"/>\n",
    "    <img  src=\"../../assets/contour_Fz.png\" class=\"medium\"/>\n",
    "    <img  src=\"../../assets/contour_Fz.png\" class=\"medium\"/>\n",
    "</div>\n",
    "\n",
    "<div class=\"image-grid3\">\n",
    "  <p style=\"text-align:center; color:gray; font-size:16px;\"> Angle of attack  </p>\n",
    "  <p style=\"text-align:center; color:gray; font-size:16px;\"> Induced velocity  </p>\n",
    "  <p style=\"text-align:center; color:gray; font-size:16px;\"> Normal force </p>\n",
    "</div>\n",
    "\n",
    "- Negative lift $\\psi = 90°$\n",
    "- "
   ]
  },
  {
   "cell_type": "markdown",
   "id": "3de59e09",
   "metadata": {},
   "source": []
  },
  {
   "cell_type": "markdown",
   "id": "57b7cd6d",
   "metadata": {},
   "source": [
    "### Blade stall"
   ]
  },
  {
   "cell_type": "markdown",
   "id": "4007b111",
   "metadata": {},
   "source": [
    "The slowest sustainable flight speed of fixed-wing aircraft is dictated by wing stall. As a consequence, this dictates the minimum speed at which landing and take-off of an aircraft is possible. In contrast, blade stall in helicopter rotors occurs in fast forward flight and limits the top speed at which the rotor can generate sufficient thrust to sustain forward motion at that speed."
   ]
  },
  {
   "cell_type": "markdown",
   "id": "bb75ccae",
   "metadata": {},
   "source": [
    "## What happens if you ... ?"
   ]
  },
  {
   "cell_type": "markdown",
   "id": "2ac9aa15",
   "metadata": {},
   "source": [
    "This was exactly what was investigated and published by FJ McHugh in {cite}`P67`. An experimental study was carried out using a model rotor because computational codes were not realiable enought to be used to examine the complex rotor aeromechanics at high forward speeds. Advance ratios 0-0.64 were investigated using a conventional rotor design"
   ]
  },
  {
   "cell_type": "markdown",
   "id": "2e93dc15",
   "metadata": {},
   "source": [
    "<center>\n",
    "    <img src=\"../../assets/P67_1.png\" class=\"medium\">\n",
    "    <p style=\"font-size:12px; color:gray; text-align:center;\" > P67 <a href=\"https://vtol.org/store/product/what-are-the-lift-and-propulsive-force-limits-at-high-speed-for-the-conventional-rotor-12979.cfm\"> [source]</a></p>\n",
    "\n",
    "</center>"
   ]
  },
  {
   "cell_type": "markdown",
   "id": "331ffc93",
   "metadata": {},
   "source": []
  },
  {
   "cell_type": "code",
   "execution_count": null,
   "id": "1b88d2ec",
   "metadata": {},
   "outputs": [],
   "source": []
  },
  {
   "cell_type": "markdown",
   "id": "cdd42b14",
   "metadata": {},
   "source": [
    "# Further reading\n",
    "\n",
    "Bousman, W., Airfoil Design and Rotorcraft Performance. https://apps.dtic.mil/sti/citations/ADA480709"
   ]
  },
  {
   "cell_type": "code",
   "execution_count": null,
   "id": "75f4ac40",
   "metadata": {},
   "outputs": [],
   "source": []
  }
 ],
 "metadata": {
  "celltoolbar": "Slideshow",
  "hide_input": false,
  "kernelspec": {
   "display_name": "Python 3 (ipykernel)",
   "language": "python",
   "name": "python3"
  },
  "language_info": {
   "codemirror_mode": {
    "name": "ipython",
    "version": 3
   },
   "file_extension": ".py",
   "mimetype": "text/x-python",
   "name": "python",
   "nbconvert_exporter": "python",
   "pygments_lexer": "ipython3",
   "version": "3.8.5"
  },
  "latex_envs": {
   "LaTeX_envs_menu_present": true,
   "autoclose": true,
   "autocomplete": true,
   "bibliofile": "biblio.bib",
   "cite_by": "apalike",
   "current_citInitial": 1,
   "eqLabelWithNumbers": false,
   "eqNumInitial": 1,
   "hotkeys": {
    "equation": "Ctrl-E",
    "itemize": "Ctrl-I"
   },
   "labels_anchors": false,
   "latex_user_defs": false,
   "report_style_numbering": false,
   "user_envs_cfg": false
  },
  "varInspector": {
   "cols": {
    "lenName": 16,
    "lenType": 16,
    "lenVar": 40
   },
   "kernels_config": {
    "python": {
     "delete_cmd_postfix": "",
     "delete_cmd_prefix": "del ",
     "library": "var_list.py",
     "varRefreshCmd": "print(var_dic_list())"
    },
    "r": {
     "delete_cmd_postfix": ") ",
     "delete_cmd_prefix": "rm(",
     "library": "var_list.r",
     "varRefreshCmd": "cat(var_dic_list()) "
    }
   },
   "types_to_exclude": [
    "module",
    "function",
    "builtin_function_or_method",
    "instance",
    "_Feature"
   ],
   "window_display": false
  }
 },
 "nbformat": 4,
 "nbformat_minor": 5
}
