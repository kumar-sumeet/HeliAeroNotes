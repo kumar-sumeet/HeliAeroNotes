{
 "cells": [
  {
   "cell_type": "markdown",
   "id": "fc2536f8",
   "metadata": {
    "hide_input": true,
    "slideshow": {
     "slide_type": "slide"
    }
   },
   "source": [
    "# Course Overview"
   ]
  },
  {
   "cell_type": "markdown",
   "id": "7b27d9fa",
   "metadata": {
    "slideshow": {
     "slide_type": "-"
    }
   },
   "source": [
    "```{epigraph}\n",
    "\"If you're in trouble anywhere in the world, an airplane can fly over and drop flowers, but a helicopter can save your life.\"\n",
    "```\n",
    "\n",
    "<p style=\"text-align:right\" > <a href=\"https://www.sikorskyarchives.com/History.php\"> Igor Sikorsky</a> </p>\n"
   ]
  },
  {
   "cell_type": "markdown",
   "id": "33eb2dd6",
   "metadata": {
    "slideshow": {
     "slide_type": "slide"
    }
   },
   "source": [
    "## Objective"
   ]
  },
  {
   "cell_type": "markdown",
   "id": "68be80b6",
   "metadata": {
    "slideshow": {
     "slide_type": "skip"
    }
   },
   "source": [
    "The objective of this course is to introduce physical concepts that are relevant for understanding and analysis of rotary-wings (as helicopter rotors are also referred to) in hover, axial and edgewise flight. The course would focus predominantly on aerodynamic aspects of vertical take-off and landing (VTOL) flight. Knowledge of aerodynamics of fixed-wing aircraft doesn't directly apply when studying *rotating* wings (hence the name *rotary-wing*). Of course, fundamental fluid dynamics concepts that govern the aerodynamics of fixed-wings also govern the aerodynamics of rotary-winged aircraft. However, as you would learn in the course, the manner in which the flow field evolves and the consitutuent flow structures are very different for the two classes of flying vehicles. Additionally, airfoil stall and unsteady aerodynamics theories are usually only briefly discussed in the context of fixed-wing aircraft but are fundamental to accurately predict rotorcraft performance and will be introduced in this course. A lot of jargon, specific to rotorcraft, will be introduced as well. "
   ]
  },
  {
   "cell_type": "markdown",
   "id": "0fde8820",
   "metadata": {
    "slideshow": {
     "slide_type": "skip"
    }
   },
   "source": [
    "In order to study helicopter performance and dynamics one needs to be familiar with the mechanical complexity associated with the rotor structural design as well as the associated aerodynamics. While the two are intricately related we'll just look at the aerodynamics component in this course and bring up issues related to rotor elasticity when they serve our purpose of better understanding the aerodynamics. Broadly, the following themes/topics would be covered in this course -"
   ]
  },
  {
   "cell_type": "markdown",
   "id": "d7abf66c",
   "metadata": {
    "slideshow": {
     "slide_type": "-"
    }
   },
   "source": [
    "- Momentum theory\n",
    "- Blade element momentum theory\n",
    "- Flight analysis in hover and forward flight\n",
    "- Compound helicopters\n",
    "- Modern rotor designs/active rotors\n",
    "- Autogyros\n",
    "- Unsteady Aerodynamics\n",
    "- Dynamic Stall"
   ]
  },
  {
   "cell_type": "markdown",
   "id": "eb96e74a",
   "metadata": {
    "slideshow": {
     "slide_type": "slide"
    }
   },
   "source": [
    " <p  style=\"  font-weight: bold; font-size:150%; color:black; text-align:center;\"> Resources "
   ]
  },
  {
   "cell_type": "markdown",
   "id": "94963f66",
   "metadata": {
    "slideshow": {
     "slide_type": "skip"
    }
   },
   "source": [
    "The website of the Vertical Flight Society (VFS), previously called the Amercian Helicopter Society (AHS), is a great resource of everything rotorcraft-related. You are encouraged to explore it. If there any conference papers (found under Education->Proceedings) you are interested in, then feel free to drop by and I'll show you how it can be done - TUM is a subscriber but free download requires a few tricky clicks!"
   ]
  },
  {
   "cell_type": "markdown",
   "id": "3387cc50",
   "metadata": {
    "hide_input": false,
    "slideshow": {
     "slide_type": "slide"
    }
   },
   "source": [
    "### Website"
   ]
  },
  {
   "cell_type": "code",
   "execution_count": 3,
   "id": "809e0045",
   "metadata": {
    "hide_input": true,
    "scrolled": true,
    "slideshow": {
     "slide_type": "-"
    },
    "tags": [
     "hide-input"
    ]
   },
   "outputs": [
    {
     "data": {
      "text/html": [
       "<iframe src=\"https://vtol.org/\" width=\"1200\" height=\"1000\"></iframe>\n"
      ],
      "text/plain": [
       "<IPython.core.display.HTML object>"
      ]
     },
     "metadata": {},
     "output_type": "display_data"
    }
   ],
   "source": [
    "%%html \n",
    "<iframe src=\"https://vtol.org/\" width=\"1200\" height=\"1000\"></iframe>"
   ]
  },
  {
   "cell_type": "markdown",
   "id": "4647ecb7",
   "metadata": {
    "slideshow": {
     "slide_type": "slide"
    }
   },
   "source": [
    "### Books"
   ]
  },
  {
   "cell_type": "markdown",
   "id": "69ae99f4",
   "metadata": {
    "slideshow": {
     "slide_type": "-"
    }
   },
   "source": [
    "- Rotorcraft Aeromechanics by Wayne Johnson\n",
    "\n",
    "- Principles in Helicopter Aerodynamics by JG Leishman\n",
    "\n",
    "- Helicopter Aerodynamics by Ray Prouty (Vols. I, II and III) \n",
    "\n",
    "&nbsp;\n",
    "\n",
    "<div class=\"image-grid\">\n",
    "    <img  src=\"../assets/B0.png\" class=\"small\"/>\n",
    "    <img  src=\"../assets/B3.png\" class=\"small\"/>\n",
    "    <img  src=\"../assets/RayProutyBook1.png\" class=\"small\"/>\n",
    "\n",
    "   \n",
    "</div>\n",
    "\n",
    "<div class=\"image-grid\">\n",
    "  <p >  Rotorcraft Aeromechanics\n",
    "  </p>   \n",
    "  <p > Principles in Helicopter Aerodynamics\n",
    "  </p>\n",
    "  <p> Helicopter Aerodynamics\n",
    "  </p>\n",
    "\n",
    "</div>\n"
   ]
  },
  {
   "cell_type": "markdown",
   "id": "5df6d515",
   "metadata": {
    "slideshow": {
     "slide_type": "slide"
    }
   },
   "source": [
    "&nbsp;\n",
    "\n",
    "## Final grades\n",
    "\n",
    "- Reading assignment - 40%\n",
    "- Oral(?) exam - 60%\n"
   ]
  },
  {
   "cell_type": "markdown",
   "id": "f5272db2",
   "metadata": {
    "slideshow": {
     "slide_type": "slide"
    }
   },
   "source": [
    " <p  style=\"  font-weight: bold; font-size:150%; color:black; text-align:center;\"> General Overview\n"
   ]
  },
  {
   "cell_type": "markdown",
   "id": "9723f907",
   "metadata": {
    "slideshow": {
     "slide_type": "slide"
    }
   },
   "source": [
    "## What makes a helicopter?"
   ]
  },
  {
   "cell_type": "markdown",
   "id": "0fb1249d",
   "metadata": {
    "slideshow": {
     "slide_type": "skip"
    }
   },
   "source": [
    "A number of design configurations currently exist for helicopters. The most apparent difference is the number of lifting rotors and their placement over the aircraft. This is the source of many differences in overall aircraft performance and mission capabilities among these various designs."
   ]
  },
  {
   "cell_type": "markdown",
   "id": "e1bf0040",
   "metadata": {
    "slideshow": {
     "slide_type": "skip"
    }
   },
   "source": [
    "A number of design configurations currently exist for helicopters. The most apparent difference is the number of lifting rotors and their placement over the aircraft. This is the source of many differences in overall aircraft performance and mission capabilities among these various designs."
   ]
  },
  {
   "cell_type": "markdown",
   "id": "36dbc83b",
   "metadata": {
    "slideshow": {
     "slide_type": "-"
    }
   },
   "source": [
    "&nbsp;\n",
    "\n",
    "<div class=\"image-grid4\">\n",
    "    <img  src=\"../assets/Mi6Wing.jpeg\" class=\"big\"/>\n",
    "    <img  src=\"../assets/V22.jpeg\" class=\"big\"/>\n",
    "    <img  src=\"../assets/tandem_2.jpg\" class=\"big\" />\n",
    "    <img  src=\"../assets/kmax.jpeg\" class=\"big\"/>   \n",
    "</div>\n",
    "\n",
    "<div class=\"image-grid4\">\n",
    "  <p   > Mil Mi 6: lift-compounded <a href=\"https://en.wikipedia.org/wiki/Mil_Mi-6#/media/File:Mi-6_(cropped).jpg\"> [source]</a>\n",
    "  </p>   \n",
    "  <p  > Boeing V-22 Osprey: tilt-rotor<a href=\"https://en.wikipedia.org/wiki/Bell_Boeing_V-22_Osprey#/media/File:MV-22_mcas_Miramar_2014.JPG\"> [source]</a>\n",
    "  </p> \n",
    "  <p   > Boeing CH-47 Chinook: tandem rotor<a href=\"https://en.wikipedia.org/wiki/Boeing_CH-47_Chinook#/media/File:Pinnacle_manuever.jpg\"> [source]</a>\n",
    "  </p>\n",
    "  <p   > Kaman K-MAX: intermeshing rotor <a href=\"https://en.wikipedia.org/wiki/Kaman_K-MAX#/media/File:Kaman_K-MAX_-_Marine_Corps_Air_Station_Yuma_(cropped).jpg\"> [source]</a>\n",
    "  </p>\n",
    "</div>\n",
    "\n",
    "\n",
    "\n",
    "<div class=\"image-grid4\">\n",
    "    <img  src=\"../assets/Piasecki_X-49.jpeg\" class=\"big\"/>\n",
    "    <img  src=\"../assets/FaireyGyrodyne.jpeg\" class=\"big\"/>\n",
    "    <img  src=\"../assets/autogyro.jpg\" class=\"big\"/>\n",
    "    <img  src=\"../assets/x3.png\" class=\"big\"/>\n",
    "   \n",
    "</div>\n",
    "\n",
    "<div class=\"image-grid4\">\n",
    "  <p   > Piasecki X-49: thrust- and lift-compounded <a href=\"https://en.wikipedia.org/wiki/Piasecki_X-49#/media/File:Piasecki_X-49-3_(cropped).jpg\"> [source]</a>\n",
    "  </p>   \n",
    "  <p  >  Fairey Gyrodyne: no 'tail' rotor <a href=\"https://en.wikipedia.org/wiki/Fairey_FB-1_Gyrodyne#/media/File:Fairey_FB-1_Gyrodyne.jpg\"> [source]</a>\n",
    "  </p> \n",
    "  <p   > Autogyro <a href=\"https://en.wikipedia.org/wiki/Autogyro#/media/File:362934-gryocopter-pilot-norman-surplus-uploaded-august-11-2015-taken-from-surplus-website.jpg\"> [source]</a>\n",
    "  </p>\n",
    "  <p   > Airbus X3 Racer: thrust compounded<a href=\"https://vtol.org/qr/2015-ahs-history-calendar\"> [source]</a>\n",
    "  </p>\n",
    "</div>"
   ]
  },
  {
   "cell_type": "markdown",
   "id": "c42df97b",
   "metadata": {
    "slideshow": {
     "slide_type": "skip"
    }
   },
   "source": [
    "```{admonition} Food for Thought\n",
    "A common feature among all aircraft above seems to be the presence of atleast 2 rotors. Is a one-rotor design possible?\n",
    "Note: We are only concerned with aircraft that have VTOL capability.\n",
    "```"
   ]
  },
  {
   "cell_type": "markdown",
   "id": "2ac5d37b",
   "metadata": {
    "slideshow": {
     "slide_type": "slide"
    }
   },
   "source": [
    "## Helicopters / VTOL / STOVL"
   ]
  },
  {
   "cell_type": "markdown",
   "id": "fdd3689b",
   "metadata": {
    "slideshow": {
     "slide_type": "-"
    }
   },
   "source": [
    "- The central idea is to take-off and land vertically at BEST EFFICIENCY\n",
    "\n",
    "- Which of the below adhere to this principle best? \n",
    "\n",
    "  - why? (hint: large rotor)\n",
    "  \n",
    "- A century of research has established the conventional design to be the most efficient (for now!) – caveats (weight class, tandem rotors)\n",
    "\n",
    "- What about the performance outside this manuever (i.e. hover)?\n",
    "\n",
    "<div class=\"image-grid\">\n",
    "    <img  src=\"../assets/spacex.jpg\" class=\"small\"/>\n",
    "    <img  src=\"../assets/harrier.jpeg\" class=\"small\"/>\n",
    "    <img  src=\"../assets/h160.jpg\" class=\"small\" />\n",
    "\n",
    "   \n",
    "</div>\n",
    "\n",
    "<div class=\"image-grid\">\n",
    "  <p   > Space X rockets <a href=\"https://en.wikipedia.org/wiki/SpaceX#/media/File:Falcon_Heavy_Side_Boosters_landing_on_LZ1_and_LZ2_-_2018_(25254688767).jpg\"> [source]</a>\n",
    "  </p>   \n",
    "  <p  > Harrier jump jet <a href=\"https://en.wikipedia.org/wiki/Harrier_Jump_Jet#/media/File:Spanish_EAV-8B_Harrier_II+_%22Cobra%22_(27448607244)_(cropped).jpg\"> [source]</a>\n",
    "  </p> \n",
    "  <p   > H160 <a href=\"https://en.wikipedia.org/wiki/Airbus_Helicopters_H160#/media/File:Airbus_Helicopters_H160_(cropped).jpg\"> [source]</a>\n",
    "  </p>\n",
    "</div>\n"
   ]
  },
  {
   "cell_type": "markdown",
   "id": "48631ac2",
   "metadata": {
    "slideshow": {
     "slide_type": "slide"
    }
   },
   "source": [
    "## Required power (Bucket) curve\n"
   ]
  },
  {
   "cell_type": "markdown",
   "id": "69bdb0e5",
   "metadata": {
    "slideshow": {
     "slide_type": "-"
    }
   },
   "source": [
    "\n",
    "&nbsp;\n",
    "<center>\n",
    "    <img src=\"../assets/power_curve.png\" class=\"large\">\n",
    "    <p  style=\"font-size:16px; color:gray; text-align:center;\">\n",
    "</center>"
   ]
  },
  {
   "cell_type": "markdown",
   "id": "011b2df9",
   "metadata": {
    "slideshow": {
     "slide_type": "skip"
    }
   },
   "source": [
    "Many pecularities associated with helicopters can be inferred from the required power breakdown over the operational regime. The decrease in the total power that follows immediately after the helicopter transitions from hover to forwards flight is striking. It is apparent that the highest power is consumed by a helicopter in hover and in high fast forward flight states. Of course, why that is exactly the case would be covered in detail in the following lectures. This unintuitive behavior of the power consumption by a helicopter (after all, why should a helicopter that is still with respect to the ground consume more energy per unit time that one that is moving forward and therefore has associated drag that needs to be overcome?!) leads to interesting performance characteristics. This also has critical design consequences - for e.g., 'hot and high' hover requirements might end up deciding the size of the engine installed because of high power requirement."
   ]
  },
  {
   "cell_type": "markdown",
   "id": "aeb7b2b3",
   "metadata": {
    "slideshow": {
     "slide_type": "slide"
    }
   },
   "source": [
    "## V/STOVL aircraft issues "
   ]
  },
  {
   "cell_type": "markdown",
   "id": "2a2a2148",
   "metadata": {
    "slideshow": {
     "slide_type": "-"
    }
   },
   "source": [
    "- Large thrust mismatch between vertical flight and cruise \n",
    "\n",
    "  - either engines must be far more oversized for cruise, or that separate thrust devices are needed purely for the vertical flight"
   ]
  },
  {
   "cell_type": "markdown",
   "id": "2e556f40",
   "metadata": {
    "slideshow": {
     "slide_type": "fragment"
    }
   },
   "source": [
    "- Distribution of the thrust around the center of gravity for hover"
   ]
  },
  {
   "cell_type": "markdown",
   "id": "f1bd43c5",
   "metadata": {
    "slideshow": {
     "slide_type": "fragment"
    }
   },
   "source": [
    "- Mechanical complexity to facilitate the above"
   ]
  },
  {
   "cell_type": "markdown",
   "id": "30beb33d",
   "metadata": {
    "slideshow": {
     "slide_type": "fragment"
    }
   },
   "source": [
    "- Fuel efficiency\n",
    "\n",
    "  - powered lift is inherently less efficient form than aerodynamic lift\n",
    "  \n",
    "  - using more engines and shafts to drive more propulsors decreases efficiencies further"
   ]
  },
  {
   "cell_type": "markdown",
   "id": "7edaf493",
   "metadata": {
    "slideshow": {
     "slide_type": "slide"
    }
   },
   "source": [
    "## Wheel of (Mis)fortune"
   ]
  },
  {
   "cell_type": "markdown",
   "id": "f5dd328b",
   "metadata": {
    "slideshow": {
     "slide_type": "-"
    }
   },
   "source": [
    "<div style=\"float:right; width:43%;\" >\n",
    "    <img src=\"../assets/wheel.jpg\" class=\"big\" />\n",
    "    <p style=\"text-align:center; color:gray; font-size:16px;\"> AHS Wheel <a href=\"https://vertipedia-legacy.vtol.org/vstol/wheel.htm\"> [source]</a>\n",
    "  </p>\n",
    "</div>\n",
    "\n",
    "\n",
    "\n",
    "<!--- this list next to a float doesn't wrap in slideshow view for some reason \n",
    "possible to insert manual breaks, or use regular text without bullets-->\n",
    "\n",
    "- Most V/STOVL aircraft never <br>\n",
    "  entered production stage\n",
    "  \n",
    "- MANY engineering strategies tried <br>\n",
    "  out to make helicopters go fast. <br>\n",
    "  Almost all failed.  \n",
    "  \n",
    "- Some concepts making a comeback \n",
    "\n",
    "  - piston/turboshaft power <br>\n",
    "    different from electric!\n",
    "    \n",
    "  - advances in structures (this <br>\n",
    "    also makes the conventional <br>\n",
    "    design more lucrative)"
   ]
  },
  {
   "cell_type": "markdown",
   "id": "40240a2c",
   "metadata": {
    "slideshow": {
     "slide_type": "skip"
    }
   },
   "source": [
    "Basically, almost any design imaginable, that was also possible with the technology level back then, \n",
    "was built and tested. "
   ]
  },
  {
   "cell_type": "markdown",
   "id": "6b02c319",
   "metadata": {
    "slideshow": {
     "slide_type": "slide"
    }
   },
   "source": [
    "## Aircraft balance of forces and moments"
   ]
  },
  {
   "cell_type": "markdown",
   "id": "e32e6008",
   "metadata": {},
   "source": [
    "<div style=\"float:right; width:55%\"; >\n",
    "    <img src=\"../assets/forces_moment.png\" />\n",
    "    <p style=\"font-size:16px; color:gray; text-align:center;\"> Forces and moments balance about CG (modified from<a href=\"https://en.wikipedia.org/wiki/Sikorsky_UH-60_Black_Hawk#/media/File:Jordanian_Air_Force_UH-60_Black_Hawk_helicopter_(cropped).jpg\"> [source]</a>)</p>\n",
    "</div>\n",
    "\n",
    "\n",
    "&nbsp;\n",
    "\n",
    "\n",
    "Net force and angular momentum of the aircraft should equal zero\n",
    "\t\n",
    "Vertical component of thrust = aircraft weight\n",
    "\n",
    "Horizontal component of thrust = aircraft drag\n",
    "\n",
    "Unbalanced moment = pitch/roll moment"
   ]
  },
  {
   "cell_type": "markdown",
   "id": "2b26a88d",
   "metadata": {
    "slideshow": {
     "slide_type": "slide"
    }
   },
   "source": [
    "## Rotor aerodynamics"
   ]
  },
  {
   "cell_type": "markdown",
   "id": "aab5b767",
   "metadata": {
    "slideshow": {
     "slide_type": "-"
    }
   },
   "source": [
    "- relative motion (between fluid and airfoil) necessary to generate lifting force"
   ]
  },
  {
   "cell_type": "markdown",
   "id": "9853ceec",
   "metadata": {
    "slideshow": {
     "slide_type": "fragment"
    }
   },
   "source": [
    "- relative motion achieved using rotating the blades (wings)"
   ]
  },
  {
   "cell_type": "markdown",
   "id": "d4e469f0",
   "metadata": {
    "slideshow": {
     "slide_type": "fragment"
    }
   },
   "source": [
    "- is there a connection between airfoil efficiency and rotor efficiency?"
   ]
  },
  {
   "cell_type": "markdown",
   "id": "3a6b259a",
   "metadata": {
    "slideshow": {
     "slide_type": "fragment"
    }
   },
   "source": [
    "- special performance criteria for rotary-wing application?\n",
    "    - stall performance, $C_m$, $L/D$ etc."
   ]
  },
  {
   "cell_type": "markdown",
   "id": "b3ce18bd",
   "metadata": {
    "slideshow": {
     "slide_type": "slide"
    }
   },
   "source": [
    "## Real-world applications"
   ]
  },
  {
   "cell_type": "markdown",
   "id": "643f0028",
   "metadata": {
    "slideshow": {
     "slide_type": "skip"
    }
   },
   "source": [
    "The eventual goal would be to apply the concepts learned during the course to real world rotors (since rotors are central to helicopter performance and lifting abilities, in most scenarios a good rotor design leads to a good helicopter design [^RealWorld])\n",
    "\n",
    "[^RealWorld]: This is not universally true. "
   ]
  },
  {
   "cell_type": "markdown",
   "id": "c2469297",
   "metadata": {
    "slideshow": {
     "slide_type": "skip"
    }
   },
   "source": [
    "<p  style=\"  font-weight: bold; \"> What makes the below design special from the rest of the (conventional design) helicopters that the speed record set by it *still* stands - 400 km/hr?"
   ]
  },
  {
   "cell_type": "markdown",
   "id": "6ff7cd84",
   "metadata": {
    "slideshow": {
     "slide_type": "subslide"
    }
   },
   "source": [
    "<center>\n",
    "    <img src=\"../assets/lynx.png\" class=\"medium\">\n",
    "    <p style=\"font-size:16px; color:gray; text-align:center;\" > Augusta Westland Lynx <a href=\"https://vtol.org/qr/2015-ahs-history-calendar\"> [source]</a></p>\n",
    "\n",
    "</center>"
   ]
  },
  {
   "cell_type": "markdown",
   "id": "71437e6e",
   "metadata": {
    "slideshow": {
     "slide_type": "skip"
    }
   },
   "source": [
    "<p  style=\"  font-weight: bold; \">What makes the below design special that it can *easily* do ~460 km/hr?"
   ]
  },
  {
   "cell_type": "markdown",
   "id": "19b8b802",
   "metadata": {
    "slideshow": {
     "slide_type": "subslide"
    }
   },
   "source": [
    "    \n",
    "<center>\n",
    "    <img src=\"../assets/Defiant.jpg\" class=\"medium\">\n",
    "    <p  style=\"font-size:16px; color:gray; text-align:center;\"> Sikorsky–Boeing SB-1 Defiant <a href=\"https://en.wikipedia.org/wiki/Sikorsky%E2%80%93Boeing_SB-1_Defiant#/media/File:Sikorsky%E2%80%93Boeing_SB-1_Defiant_(cropped).jpg\">[source] </a></p>\n",
    "\n",
    "</center>\n"
   ]
  },
  {
   "cell_type": "markdown",
   "id": "6d0c7c00",
   "metadata": {
    "slideshow": {
     "slide_type": "skip"
    }
   },
   "source": [
    "<p  style=\"  font-weight: bold; \">What makes this design special that it still holds the flight altitude record of 12,442 m?"
   ]
  },
  {
   "cell_type": "markdown",
   "id": "9b64bd99",
   "metadata": {
    "slideshow": {
     "slide_type": "subslide"
    }
   },
   "source": [
    "<center>\n",
    "    <img src=\"../assets/Aerospatiale_SA-315B_HB-XTM.jpeg\" class=\"medium\">\n",
    "    <p  style=\"font-size:16px; color:gray; text-align:center;\"> Aérospatiale SA 315B Lama <a href=\"https://en.wikipedia.org/wiki/A%C3%A9rospatiale_SA_315B_Lama#/media/File:Aerospatiale_SA-315B_HB-XTM.jpg\">[source] </a></p>\n",
    "\n",
    "</center>\n"
   ]
  },
  {
   "cell_type": "markdown",
   "id": "cac087d7",
   "metadata": {
    "slideshow": {
     "slide_type": "skip"
    }
   },
   "source": [
    "<p  style=\"  font-weight: bold; \">What is making the concept of electric VTOLs or eVTOLs so attractive? Is it just swiping the fuel tank for a battery?"
   ]
  },
  {
   "cell_type": "markdown",
   "id": "d2da8f7c",
   "metadata": {
    "slideshow": {
     "slide_type": "subslide"
    }
   },
   "source": [
    "&nbsp;\n",
    "\n",
    "\n",
    "<div class=\"image-grid4\">\n",
    "    <img  src=\"../assets/volocopter.jpg\" class=\"large\"/>\n",
    "    <img  src=\"../assets/eHang.webp\" class=\"large\"/>\n",
    "    <img  src=\"../assets/CityAirbus.jpeg\" class=\"big\"/>\n",
    "    <img  src=\"../assets/lilium.jpeg\" class=\"big\"/>\n",
    "</div>\n",
    "\n",
    "<div class=\"image-grid4\">\n",
    "  <p   > Volocopter<a href=\"https://mediahub-volocopter.pixxio.media/start/detail/1684#downloadarea\"> [source]</a>\n",
    "  </p>   \n",
    "  <p  > EHang <a href=\"https://newatlas.com/aircraft/ehang-production-facility-video/\"> [source]</a>\n",
    "  </p> \n",
    "  <p   > Airbus CityAirbus <a href=\"https://en.wikipedia.org/wiki/Airbus_CityAirbus#/media/File:Airbus_CityAirbus_D-HCIA_hovering.jpg\"> [source]</a>\n",
    "  </p>\n",
    "  <p   > Lilium <a href=\"https://www.google.com/url?sa=i&url=https%3A%2F%2Flilium.com%2F&psig=AOvVaw1_Jrye3JhZxoubTUKVt1Vq&ust=1650618196918000&source=images&cd=vfe&ved=0CAwQjRxqFwoTCKjlv6jmpPcCFQAAAAAdAAAAABAD\"> [source]</a>\n",
    "  </p>\n",
    "</div>\n"
   ]
  },
  {
   "cell_type": "markdown",
   "id": "cb58ed50",
   "metadata": {
    "slideshow": {
     "slide_type": "slide"
    }
   },
   "source": [
    "## Rotors: state-of-the-art and beyond"
   ]
  },
  {
   "cell_type": "markdown",
   "id": "e457a28c",
   "metadata": {
    "slideshow": {
     "slide_type": "-"
    }
   },
   "source": [
    "<div class=\"image-grid\">\n",
    "    <img  src=\"../assets/Raider.jpeg\" class=\"big\"/>\n",
    "    <img  src=\"../assets/Bo105_IBC.png\" class=\"big\" />\n",
    "    <img  src=\"../assets/SMART_rotor.png\" class=\"big\"/>\n",
    "\n",
    "   \n",
    "</div>\n",
    "\n",
    "<div class=\"image-grid\">\n",
    "  <p style=\"font-size:55%; color:gray; text-align:left;\"> Sikorsky Raider <a href=\"https://en.wikipedia.org/wiki/Sikorsky_S-97_Raider#/media/File:Sikorsky_S-97_Raider_in_flight.jpg\"> [source]</a></p>\n",
    "  <p style=\"font-size:55%; color:gray; text-align:left;\"> Bo 105 IBC (1990) <a href=\"https://www.semanticscholar.org/paper/Advanced-vibration-reduction-by-IBC-technology-Roth/aeb1d405dd7700bfc3524a66e8dfcb9536f93465\"> [source]</a></p>\n",
    "  <p style=\"font-size:55%; color:gray; text-align:left;\"> SMART rotor (2008) <a href=\"https://rotorcraft.arc.nasa.gov/Publications/files/straub_2009_783.pdf\"> [source]</a></p>   \n",
    "</div>"
   ]
  },
  {
   "cell_type": "markdown",
   "id": "5e006c5a",
   "metadata": {
    "slideshow": {
     "slide_type": "slide"
    }
   },
   "source": [
    "## Unsteady aerodynamics"
   ]
  },
  {
   "cell_type": "markdown",
   "id": "93365ae0",
   "metadata": {
    "slideshow": {
     "slide_type": "-"
    }
   },
   "source": [
    "<center>\n",
    "    <img src=\"../assets/B3_8_8.png\" class=\"large\">\n",
    "    <p  style=\"font-size:16px; color:gray; text-align:center;\"> Effect of airfoil pitching motion on aerodynamic lift [taken from Principles in Helicopter Aerodynamics by JG Leishman] </p>\n",
    "\n",
    "</center>\n"
   ]
  },
  {
   "cell_type": "markdown",
   "id": "a7c6f6bf",
   "metadata": {
    "slideshow": {
     "slide_type": "slide"
    }
   },
   "source": [
    "## Dynamic stall"
   ]
  },
  {
   "cell_type": "markdown",
   "id": "16c7519b",
   "metadata": {
    "slideshow": {
     "slide_type": "-"
    }
   },
   "source": [
    "<center>\n",
    "    <img src=\"../assets/Add44.png\" class=\"large\">\n",
    "    <p  style=\"font-size:16px; color:gray; text-align:center;\"> Dynamic stall cycle of NACA 23012 <a href=\"https://link.springer.com/article/10.1007/BF00575335\">[source] </a></p>\n",
    "\n",
    "</center>"
   ]
  }
 ],
 "metadata": {
  "celltoolbar": "Slideshow",
  "hide_input": false,
  "kernelspec": {
   "display_name": "Python 3 (ipykernel)",
   "language": "python",
   "name": "python3"
  },
  "language_info": {
   "codemirror_mode": {
    "name": "ipython",
    "version": 3
   },
   "file_extension": ".py",
   "mimetype": "text/x-python",
   "name": "python",
   "nbconvert_exporter": "python",
   "pygments_lexer": "ipython3",
   "version": "3.8.5"
  },
  "latex_envs": {
   "LaTeX_envs_menu_present": true,
   "autoclose": true,
   "autocomplete": true,
   "bibliofile": "biblio.bib",
   "cite_by": "apalike",
   "current_citInitial": 1,
   "eqLabelWithNumbers": false,
   "eqNumInitial": 1,
   "hotkeys": {
    "equation": "Ctrl-E",
    "itemize": "Ctrl-I"
   },
   "labels_anchors": false,
   "latex_user_defs": false,
   "report_style_numbering": false,
   "user_envs_cfg": false
  },
  "rise": {
   "autolaunch": false,
   "backimage": "../assets/tum_bg_top_right.png",
   "enable_chalkboard": true,
   "footer": "Sumeet Kumar, PhD candidate",
   "scroll": true
  },
  "varInspector": {
   "cols": {
    "lenName": 16,
    "lenType": 16,
    "lenVar": 40
   },
   "kernels_config": {
    "python": {
     "delete_cmd_postfix": "",
     "delete_cmd_prefix": "del ",
     "library": "var_list.py",
     "varRefreshCmd": "print(var_dic_list())"
    },
    "r": {
     "delete_cmd_postfix": ") ",
     "delete_cmd_prefix": "rm(",
     "library": "var_list.r",
     "varRefreshCmd": "cat(var_dic_list()) "
    }
   },
   "types_to_exclude": [
    "module",
    "function",
    "builtin_function_or_method",
    "instance",
    "_Feature"
   ],
   "window_display": false
  }
 },
 "nbformat": 4,
 "nbformat_minor": 5
}
