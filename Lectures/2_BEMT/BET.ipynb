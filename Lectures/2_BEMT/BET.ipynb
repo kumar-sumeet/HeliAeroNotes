{
 "cells": [
  {
   "cell_type": "markdown",
   "id": "ff840622",
   "metadata": {
    "slideshow": {
     "slide_type": "slide"
    }
   },
   "source": [
    "# Blade element theory (BET)"
   ]
  },
  {
   "cell_type": "markdown",
   "id": "4a57845f",
   "metadata": {
    "slideshow": {
     "slide_type": "-"
    }
   },
   "source": [
    "```{epigraph}\n",
    "\n",
    "\"Remember that all models are wrong; the practical question is how wrong do they have to be to not be useful.\" \n",
    "-- [G. Box (1987)](https://en.wikipedia.org/wiki/All_models_are_wrong)\n",
    "\n",
    "```"
   ]
  },
  {
   "cell_type": "markdown",
   "id": "8672bf2e",
   "metadata": {},
   "source": [
    "$\\rightarrow$ A ton of simplifications involved in the theoretical framework involving momentum theory. \n",
    "- No blade level resolution. \n",
    "\n",
    "$\\rightarrow$ BET incorporates the blade level aero but also involves a lot of new simplifiying assumptions so that nice closed form expressions are possible. \n",
    "Otherwise things can get hopelessly too complicated very easily. "
   ]
  },
  {
   "cell_type": "markdown",
   "id": "e7cc665e",
   "metadata": {
    "slideshow": {
     "slide_type": "slide"
    }
   },
   "source": [
    "### Mathematical formulation"
   ]
  },
  {
   "cell_type": "markdown",
   "id": "e85493bf",
   "metadata": {
    "slideshow": {
     "slide_type": "-"
    }
   },
   "source": [
    "<center>\n",
    "    <img src=\"../../assets/BEMT_1.png\" class=\"medium\">\n",
    "    <p class=\"caption\"> Schematic of the blade model in BET <a href=\"\"> </a></p>\n",
    "</center>"
   ]
  },
  {
   "cell_type": "markdown",
   "id": "5c49f8d9",
   "metadata": {
    "rise": {
     "scroll": true
    },
    "slideshow": {
     "slide_type": "subslide"
    }
   },
   "source": [
    "<div style=\"float:right; width:43%;\" >\n",
    "    <img src=\"../../assets/BEMT_3.png\" class=\"big\" />\n",
    "</div>\n",
    "\n",
    "\n",
    "$$d F_{Z}=d L-d D \\sin \\phi$$\n",
    "\n",
    "$$d T=N(d L-d D \\sin \\phi)$$\n",
    "\n",
    "$$d C_{T}=\\frac{N C_{l} \\frac{1}{2} p U_{T}^{2} c d y}{\\rho (\\Omega R^{2}) R^{2}}$$\n",
    "\n",
    "$$d C_{T}=\\frac{\\sigma}{2} C_{l} r^{2} d r$$\n",
    "\n",
    "$\\begin{aligned} \\int d C_{T} &=\\frac{\\sigma}{2} C_{l_{ k}} \\int \\alpha x^{2} d x \\\\ &=\\frac{\\sigma}{2} C_{l_{k}} \\int(\\theta-\\phi) r^{2} d r \\\\ \n",
    "\\end{aligned}$\n",
    "\n",
    "Using $$ \\frac{U_P}{U_r} = \\frac {\\lambda \\Omega R}{\\Omega y} $$\n",
    "\n",
    "$ \\begin{aligned}\n",
    "\\int d C_{T} &= \\frac{\\sigma}{2} C_{l_{k}} \\int(\\theta-\\phi) r^{2} d r \\\\\n",
    "&=\\frac{\\sigma}{2} C_{l_{ k}} \\int \\theta r^2 - dr dr \\\\\n",
    "\\end{aligned}$\n",
    "\n",
    "$ \\theta$ and $\\lambda$ are constants. \n",
    "\n",
    "$$\\Rightarrow C_{T}=\\frac{\\sigma}{2} C_{l_{k}}\\left(\\frac{\\theta_{0}}{3}-\\frac{\\lambda}{2}\\right)=\\frac{\\sigma}{2} C_{k_{k}}\\left(\\frac{\\theta_{0}}{3}-\\frac{1}{2} \\sqrt{\\frac{C_T}{2}}\\right)$$\n",
    "\n",
    "\n",
    "\n",
    "$$\\Rightarrow \\theta_{0}=\\frac{6 C_{T}}{\\sigma_{C_{l_{k}}}}+\\frac{3}{2} \\sqrt{\\frac{C_{T}}{2}}$$\n",
    "\n",
    "$\\frac{3}{2} \\sqrt{\\frac{C_{T}}{2}}$ is induced drag term  (just like fixed wing)"
   ]
  },
  {
   "cell_type": "markdown",
   "id": "f17f1637",
   "metadata": {
    "slideshow": {
     "slide_type": "skip"
    }
   },
   "source": [
    "All the simplifying assumptions made under the umder the umbrella of the BET now afford us the possibility to easily see the effect of varying one or more physical parameters, associated with the rotor, on the performance. "
   ]
  },
  {
   "cell_type": "markdown",
   "id": "07fb99c9",
   "metadata": {},
   "source": [
    "$\\begin{aligned}\n",
    "\\theta&= \\theta_{0} +\\gamma \\theta_{t \\omega} \\quad \\quad\\quad \\lambda=\\text { uniform } \\\\ C_{T} &=\\frac{\\sigma}{2} C_{l_{\\alpha}}\\left[ \\frac{\\theta_{0}}{3}+\\frac{\\theta_{t \\omega}}{4}-\\frac{\\lambda}{2} \\right] \\\\ &=\\frac{\\sigma}{2} C_{l_{\\alpha}}\\left[\\frac{\\theta_{75}}{3}-\\frac{\\lambda}{2}\\right] \\end{aligned}$"
   ]
  },
  {
   "cell_type": "markdown",
   "id": "d2f760cf",
   "metadata": {},
   "source": [
    "decently interesting result. "
   ]
  },
  {
   "cell_type": "markdown",
   "id": "3853b78e",
   "metadata": {
    "slideshow": {
     "slide_type": "slide"
    }
   },
   "source": [
    "### Summary and conclusions"
   ]
  },
  {
   "cell_type": "markdown",
   "id": "a1315cfb",
   "metadata": {
    "slideshow": {
     "slide_type": "-"
    }
   },
   "source": [
    "- BET models the rotor aerodynamics as a cumulative of the airfoil aerodynamic properties\n",
    "- Uniform inflow has been used in the above formulation. \n",
    "- In reality $\\lambda$ is not uniform, so something more than M-theory is needed to get to that. "
   ]
  },
  {
   "cell_type": "markdown",
   "id": "7fb6c714",
   "metadata": {
    "slideshow": {
     "slide_type": "skip"
    }
   },
   "source": [
    "A natural extension from here then is to account for the variation $\\lambda (r)$. Alfred Gessow proposed the blade element momentum theory (BEMT) that does precisely that."
   ]
  }
 ],
 "metadata": {
  "celltoolbar": "Slideshow",
  "hide_input": false,
  "kernelspec": {
   "display_name": "Python 3 (ipykernel)",
   "language": "python",
   "name": "python3"
  },
  "language_info": {
   "codemirror_mode": {
    "name": "ipython",
    "version": 3
   },
   "file_extension": ".py",
   "mimetype": "text/x-python",
   "name": "python",
   "nbconvert_exporter": "python",
   "pygments_lexer": "ipython3",
   "version": "3.8.5"
  },
  "varInspector": {
   "cols": {
    "lenName": 16,
    "lenType": 16,
    "lenVar": 40
   },
   "kernels_config": {
    "python": {
     "delete_cmd_postfix": "",
     "delete_cmd_prefix": "del ",
     "library": "var_list.py",
     "varRefreshCmd": "print(var_dic_list())"
    },
    "r": {
     "delete_cmd_postfix": ") ",
     "delete_cmd_prefix": "rm(",
     "library": "var_list.r",
     "varRefreshCmd": "cat(var_dic_list()) "
    }
   },
   "types_to_exclude": [
    "module",
    "function",
    "builtin_function_or_method",
    "instance",
    "_Feature"
   ],
   "window_display": false
  }
 },
 "nbformat": 4,
 "nbformat_minor": 5
}
