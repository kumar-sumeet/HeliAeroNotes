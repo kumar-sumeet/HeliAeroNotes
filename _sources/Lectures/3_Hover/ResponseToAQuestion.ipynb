{
 "cells": [
  {
   "cell_type": "markdown",
   "id": "5c202dc1",
   "metadata": {
    "slideshow": {
     "slide_type": "skip"
    }
   },
   "source": [
    "# Response to a question"
   ]
  },
  {
   "cell_type": "markdown",
   "id": "c717c9c5",
   "metadata": {
    "slideshow": {
     "slide_type": "slide"
    }
   },
   "source": [
    "<p  style=\"  font-weight: bold; font-size:100%; color:black; text-align:left;\"> Q. Why is the induced power consumed by a rotor minimum only when the induced velocity is uniform over the rotor disk?"
   ]
  },
  {
   "cell_type": "markdown",
   "id": "f63145da",
   "metadata": {
    "slideshow": {
     "slide_type": "-"
    }
   },
   "source": [
    "<center>\n",
    "    <img src=\"../../assets/uniformVnonuniform.png\" class=\"big\">\n",
    "    <p  style=\"font-size:16px; color:gray; text-align:center;\"> Motion of two parcels of air under uniform and non-uniform inflow condition </p>\n",
    "\n",
    "</center>"
   ]
  },
  {
   "cell_type": "markdown",
   "id": "6523ea74",
   "metadata": {
    "slideshow": {
     "slide_type": "skip"
    }
   },
   "source": [
    "Sustained operation of the rotor, in hover, say, occurs at the expense of imparting momentum to the surrounding air. The kinetic energy imparted to the flow is an expense that one would like to minimise in order to minimise operating costs (less fuel burn). There is little that the pilot can do in this regard (especially in hover) and the rotor design dictates how efficient it is in an operating state. This efficiency refers to not just low drag - i.e. the cumulative effect of profile drag of the blades - but also how the rotor influences the surrounding air and provides it a momentum opposite to the direction of thrust. Turns out inefficient ways of accelerating the flow exist which would lead to larger and larger induced power consumption. Demonstrating this for the case of a real rotor (with finite number of blades) would require substantial effort detailing the mathematical formulation of a rotor with minimum induced power (see <a href=\"https://www.ingentaconnect.com/contentone/ahs/jahs/2010/00000055/00000004/art00006?crawler=true\"> here </a>and <a href=\"https://dspace.mit.edu/bitstream/handle/1721.1/47341/30057064-MIT.pdf?sequence=2\">here</a>). However, the principle idea behind the argument can be explained relatively easily using the momentum theory-based actuator disk model. \n",
    "\n",
    "If two parcels of air of same mass are assumed to be imparted different velocities (ergo different momentum) as they pass through the actuator disk then the inflow through the rotor disk can be understood to be non-uniform. In case of steady state hover, every subsequent parcel of air that follows the same streamline would be accelerated similarly and so the non-uniform inflow will be sustained. If the rest of the inflow is assumed to be uniform, then given that the mass of each of two parcels (that are differentially accelerated) is the same then the reduction is velocity of one parcel is the same as the increase in the velocity of the other (net thrust has to remain same). The total kinetic energy of the wake can be written as -"
   ]
  },
  {
   "cell_type": "markdown",
   "id": "ba57614e",
   "metadata": {},
   "source": [
    "$$\\text{Momentum of decelerated parcel} = m_p(v_i-\\delta v_i)$$\n",
    "$$\\text{Momentum of accelerated parcel} = m_p(v_i+\\delta v_i)$$\n",
    "\n",
    "$$\\text{Total KE of wake} = \\text{KE of uniform inflow wake} + \\frac{1}{2}m_p(v_i-\\delta v_i)^2 + \\frac{1}{2}m_p(v_i+\\delta v_i)^2$$"
   ]
  },
  {
   "cell_type": "markdown",
   "id": "b0795662",
   "metadata": {},
   "source": [
    "\\begin{align}\n",
    "\\text{Total KE of wake} &= \\text{KE of rest of uniform inflow wake} + \\frac{1}{2}m_p(v_i-\\delta v_i)^2 + \\frac{1}{2}m_p(v_i+\\delta v_i)^2 \\\\\n",
    "&= \\text{KE}_{rest-uniform} + m_p(v_i^2+\\delta v_i^2) \\\\\n",
    "&= \\text{KE}_{uniform} + m_p(\\delta v_i^2) \\\\\n",
    "\\end{align}"
   ]
  },
  {
   "cell_type": "markdown",
   "id": "f132ef17",
   "metadata": {},
   "source": [
    "So compared to the case where the entire inflow through the rotor disk passes at the same velocity, the *slightly* non-uniform case ends up with additional energy in the flow and is the source of higher induced power. "
   ]
  }
 ],
 "metadata": {
  "celltoolbar": "Slideshow",
  "hide_input": false,
  "kernelspec": {
   "display_name": "Python 3 (ipykernel)",
   "language": "python",
   "name": "python3"
  },
  "language_info": {
   "codemirror_mode": {
    "name": "ipython",
    "version": 3
   },
   "file_extension": ".py",
   "mimetype": "text/x-python",
   "name": "python",
   "nbconvert_exporter": "python",
   "pygments_lexer": "ipython3",
   "version": "3.8.5"
  },
  "varInspector": {
   "cols": {
    "lenName": 16,
    "lenType": 16,
    "lenVar": 40
   },
   "kernels_config": {
    "python": {
     "delete_cmd_postfix": "",
     "delete_cmd_prefix": "del ",
     "library": "var_list.py",
     "varRefreshCmd": "print(var_dic_list())"
    },
    "r": {
     "delete_cmd_postfix": ") ",
     "delete_cmd_prefix": "rm(",
     "library": "var_list.r",
     "varRefreshCmd": "cat(var_dic_list()) "
    }
   },
   "types_to_exclude": [
    "module",
    "function",
    "builtin_function_or_method",
    "instance",
    "_Feature"
   ],
   "window_display": false
  }
 },
 "nbformat": 4,
 "nbformat_minor": 5
}
