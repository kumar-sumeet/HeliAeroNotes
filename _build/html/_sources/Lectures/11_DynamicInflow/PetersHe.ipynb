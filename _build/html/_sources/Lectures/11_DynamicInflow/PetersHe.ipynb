{
 "cells": [
  {
   "cell_type": "markdown",
   "id": "e0d0a9e0",
   "metadata": {},
   "source": [
    "# Peters-He Inflow Model"
   ]
  },
  {
   "cell_type": "markdown",
   "id": "24e618ef",
   "metadata": {},
   "source": [
    "## Motivation\n",
    "\n",
    "- For what its worth - it is used extensively in control studies"
   ]
  },
  {
   "cell_type": "markdown",
   "id": "ff9307ec",
   "metadata": {},
   "source": [
    "## Assumptions\n",
    "\n",
    "- Euler equation\n",
    "$$\n",
    "  a=b\n",
    "$$ (euler)\n",
    "- Actuator disk assumptions\n",
    "    - Flow velocity continuous\n",
    "    $$\n",
    "      a=b\n",
    "    $$ (continuity)\n",
    "    - Pressure distribution continuous over the rotor disk, discontinuous across it\n",
    "    - Flat rotor disk\n"
   ]
  },
  {
   "cell_type": "markdown",
   "id": "22a6bd97",
   "metadata": {},
   "source": [
    "# Fundamental ideas\n",
    "\n",
    "- 3D, incompressible, potential flow equations for a rotor with arbitrary blade loadings\n",
    "- completely analytical solution, no numerical discretization involved!\n",
    "\n",
    "- The result is a set of ordinary differential equations in time for a finite number of\n",
    "aerodynamic states that describe the induced flow field at the rotor disk. Thus, the theory\n",
    "includes implicitly all effects of shed and trailing vorticity including tip relief, dynamic inflow,\n",
    "and conventional Theodorsen/Loewy unsteady aerodynamics. \n",
    "\n",
    "- find a basis of functions that can be superimposed to give inflow\n",
    "    - *fidelity varies with number of basis functions included (read somewhere this is not always true)*\n",
    "- "
   ]
  },
  {
   "cell_type": "code",
   "execution_count": null,
   "id": "098cb45c",
   "metadata": {},
   "outputs": [],
   "source": []
  },
  {
   "cell_type": "markdown",
   "id": "3483c137",
   "metadata": {},
   "source": [
    "The lack of ability to model transient wake i.e. $v_i(t)$, sets the stage for introducing dynamic inflow theory. Note that this only gets us $v_i$, i.e. it is a wake theory. The blade aerodynamics needs to be modelled separately but, as we shall see, the dynamic inflow models that'll be discussed put no restriction on the blade models used. The blade could be undergoing highly non-linear aerodynamics - for e.g. dynamic stall - and the blade model could be coupled with the dynamic inflow model and still be valid within the purview of dynamic inflow modelling."
   ]
  },
  {
   "cell_type": "markdown",
   "id": "7161abc2",
   "metadata": {},
   "source": [
    "The flow velocity normal to the rotor disk i.e. $v_i$ is modelled as given by the Eq ...\n",
    "\n",
    "\n",
    "\n"
   ]
  },
  {
   "cell_type": "code",
   "execution_count": null,
   "id": "75fc2d1e",
   "metadata": {},
   "outputs": [],
   "source": []
  },
  {
   "cell_type": "markdown",
   "id": "3b7683c9",
   "metadata": {},
   "source": [
    "Refs. - P116_1, P127"
   ]
  },
  {
   "cell_type": "markdown",
   "id": "e388a13e",
   "metadata": {},
   "source": []
  },
  {
   "cell_type": "markdown",
   "id": "b6bc71ec",
   "metadata": {},
   "source": [
    "Description of the step increase in blade pitch study (bot old and the UT Austin paper)\n",
    "\n",
    "figures\n",
    "\n",
    "\n",
    "The aerodynamic analysis discussed until now is incapable of predicting the results observed from the above studies. Momentum theory and BEMT based on quasi-steady airfoil aerodynamics. The aerodynamics, as it relates to the above experiments, due to sudden blade pitch changes cannot be modelled as quasi-steady anymore - the approximation fails here. Hence the need for a theory that accounts for the observed transient effects\n",
    "\n",
    "\n"
   ]
  },
  {
   "cell_type": "markdown",
   "id": "e1222b57",
   "metadata": {},
   "source": []
  },
  {
   "cell_type": "markdown",
   "id": "676823d5",
   "metadata": {},
   "source": [
    "# Description\n",
    "\n",
    "- When rotor loads change as a function of time, so does the induced velocity\n",
    "-\n",
    "-\n",
    "- Dynamic inflow models help estimate induced velocity as a function of changing rotor loads\n",
    "- This is a wake model only!\n",
    "    - needs to be coupled with a blade aerodynamics model for rotor aerodynamics analyses"
   ]
  },
  {
   "cell_type": "markdown",
   "id": "feee5524",
   "metadata": {},
   "source": [
    "## Mathematical form\n",
    "\n",
    "T16 says -\n",
    "\n",
    "F =ma\n",
    "\n",
    "Euler eq. (linearised - small $v_i$ assumption)\n",
    "\n",
    "In ellipsoidal coordinates leads to - \n",
    "\n",
    "```{figure} ../../assets/P116_1.png\n",
    "---\n",
    "height: 150px\n",
    "name: P116_1\n",
    "---\n",
    "...\n",
    "```\n",
    "<!--- the above should be written separately using individual solutions of A2.4.2-A2.3.4 in T16 --->\n",
    "- Legendre polynomials properties \n",
    "    - T16 Appendix A2.3-A2.6\n",
    "<!--- use Figs 3.8 and 3.9 from T24 here --->\n",
    "\n",
    "```{figure} ../../assets/P116_1-2.png\n",
    "---\n",
    "height: 150px\n",
    "name: P116_1-2\n",
    "---\n",
    "...\n",
    "```\n",
    "<!--- From P116_1, things go in the following order - Eq 2-9, 22-28, 29,  --->"
   ]
  },
  {
   "cell_type": "code",
   "execution_count": null,
   "id": "25a8881c",
   "metadata": {},
   "outputs": [],
   "source": []
  },
  {
   "cell_type": "markdown",
   "id": "c1e850e1",
   "metadata": {},
   "source": [
    "Now that a mathematiccal model exists relating pressure with induced velocity,  \n",
    "pressure can in turn be obtained using a suitable blade model."
   ]
  },
  {
   "cell_type": "markdown",
   "id": "8aa6b605",
   "metadata": {},
   "source": [
    "## Characteristics\n",
    "\n",
    "- Equations simple in form\n",
    "    - \n",
    "- Computationally light \n",
    "    - used in real time flight simulators\n",
    "- Heirarchical in nature\n",
    "    - increasing number of states improves *accuracy* of the results [^DynInfl1]\n",
    "    - literature suggests that this might not always be the case, the blade aero and elastic deformation play a role as well \n",
    "    \n",
    "- Extensively used in aeroelastic stability analysis\n",
    "- \n",
    "\n",
    "```{figure} ../../assets/T16_1.png\n",
    "---\n",
    "height: 150px\n",
    "name: directive-fig\n",
    "---\n",
    "Here is my figure caption!\n",
    "```\n",
    "\n",
    "[^DynInfl1]: The governing differential equations that the dynamic inflow equations are based on are themselves an approximation of the *true* governing equations (if one assumes the Navier-Stokes equations to the governing fluid equations that result in *exact* solutions). So by increasing the number of states, the dynamic inflow model tends towards the model represented by Eq. ...\n",
    "\n"
   ]
  },
  {
   "cell_type": "markdown",
   "id": "dac51309",
   "metadata": {},
   "source": []
  },
  {
   "cell_type": "markdown",
   "id": "85c792bd",
   "metadata": {},
   "source": []
  }
 ],
 "metadata": {
  "celltoolbar": "Edit Metadata",
  "hide_input": false,
  "kernelspec": {
   "display_name": "Python 3 (ipykernel)",
   "language": "python",
   "name": "python3"
  },
  "language_info": {
   "codemirror_mode": {
    "name": "ipython",
    "version": 3
   },
   "file_extension": ".py",
   "mimetype": "text/x-python",
   "name": "python",
   "nbconvert_exporter": "python",
   "pygments_lexer": "ipython3",
   "version": "3.8.5"
  },
  "varInspector": {
   "cols": {
    "lenName": 16,
    "lenType": 16,
    "lenVar": 40
   },
   "kernels_config": {
    "python": {
     "delete_cmd_postfix": "",
     "delete_cmd_prefix": "del ",
     "library": "var_list.py",
     "varRefreshCmd": "print(var_dic_list())"
    },
    "r": {
     "delete_cmd_postfix": ") ",
     "delete_cmd_prefix": "rm(",
     "library": "var_list.r",
     "varRefreshCmd": "cat(var_dic_list()) "
    }
   },
   "types_to_exclude": [
    "module",
    "function",
    "builtin_function_or_method",
    "instance",
    "_Feature"
   ],
   "window_display": false
  }
 },
 "nbformat": 4,
 "nbformat_minor": 5
}
