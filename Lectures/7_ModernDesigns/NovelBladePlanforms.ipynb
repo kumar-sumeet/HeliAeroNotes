{
 "cells": [
  {
   "cell_type": "markdown",
   "id": "f87d7584",
   "metadata": {},
   "source": [
    "# Novel Blade Planforms"
   ]
  },
  {
   "cell_type": "code",
   "execution_count": 1,
   "id": "1bc84c1c",
   "metadata": {},
   "outputs": [
    {
     "data": {
      "image/jpeg": "[encoded data removed]",
      "text/html": [
       "\n",
       "        <iframe\n",
       "            width=\"700\"\n",
       "            height=\"400\"\n",
       "            src=\"https://www.youtube.com/embed/ki-CxkRuAxY?start=65&end=80\"\n",
       "            frameborder=\"0\"\n",
       "            allowfullscreen\n",
       "            \n",
       "        ></iframe>\n",
       "        "
      ],
      "text/plain": [
       "<IPython.lib.display.YouTubeVideo at 0x7fc5aebacd30>"
      ]
     },
     "execution_count": 1,
     "metadata": {},
     "output_type": "execute_result"
    }
   ],
   "source": [
    "from IPython.display import YouTubeVideo\n",
    "YouTubeVideo('ki-CxkRuAxY', width=700, height=400, start=65, end= 106)"
   ]
  },
  {
   "cell_type": "code",
   "execution_count": null,
   "id": "b662f173",
   "metadata": {},
   "outputs": [],
   "source": []
  },
  {
   "cell_type": "markdown",
   "id": "45d3f2cd",
   "metadata": {},
   "source": [
    "<div class=\"image-grid2\">\n",
    "    <img  src=\"../../assets/BERP.jpeg\" class=\"big\"/>\n",
    "    <img  src=\"../../assets/BERP_blade.png\" class=\"big\"/>\n",
    "\n",
    "</div>\n",
    "\n",
    "<div class=\"image-grid2\">\n",
    "  <p style=\"font-size:55%; color:gray; text-align:left;\"> BERP rotor on EH101 <a href=\"https://en.wikipedia.org/wiki/BERP_rotor#/media/File:Eh101_keishicho.jpg\"> [source]</a></p>\n",
    "  <p style=\"font-size:55%; color:gray; text-align:left;\"> BERP blade <a href=\"https://vtol.org/store/product/the-aerodynamics-of-the-helicopter-world-speed-record-1341.cfm\"> [source]</a></p>\n",
    "</div>\n",
    "\n",
    "<div class=\"image-grid2\">\n",
    "    <img  src=\"../../assets/Blue_Edge.jpeg\" class=\"big\" />\n",
    "    <img  src=\"../../assets/Blue_Edge_blade.png\" class=\"big\" />\n",
    "</div>\n",
    "\n",
    "<div class=\"image-grid2\">\n",
    "  <p style=\"font-size:55%; color:gray; text-align:left;\"> Blue Edge rotor on H160 <a href=\"https://en.wikipedia.org/wiki/Blue_Edge#/media/File:Airbus_Helicopters,_F-WWPL,_Airbus_Helicopters_H160_(49579577323).jpg\"> [source]</a></p>\n",
    "  <p style=\"font-size:55%; color:gray; text-align:left;\"> Blue Edge blade <a href=\"https://vtol.org/store/product/from-erato-basic-research-to-the-blue-edge-rotor-blade-12434.cfm\"> [source]</a></p>\n",
    "</div>"
   ]
  },
  {
   "cell_type": "code",
   "execution_count": null,
   "id": "53e42694",
   "metadata": {},
   "outputs": [],
   "source": []
  },
  {
   "cell_type": "code",
   "execution_count": null,
   "id": "1d45cf82",
   "metadata": {},
   "outputs": [],
   "source": []
  },
  {
   "cell_type": "code",
   "execution_count": null,
   "id": "209789c6",
   "metadata": {},
   "outputs": [],
   "source": []
  },
  {
   "cell_type": "code",
   "execution_count": null,
   "id": "92e97cec",
   "metadata": {},
   "outputs": [],
   "source": []
  },
  {
   "cell_type": "code",
   "execution_count": null,
   "id": "4bafc356",
   "metadata": {},
   "outputs": [],
   "source": []
  },
  {
   "cell_type": "code",
   "execution_count": null,
   "id": "f8403f6a",
   "metadata": {},
   "outputs": [],
   "source": []
  }
 ],
 "metadata": {
  "hide_input": false,
  "kernelspec": {
   "display_name": "Python 3 (ipykernel)",
   "language": "python",
   "name": "python3"
  },
  "language_info": {
   "codemirror_mode": {
    "name": "ipython",
    "version": 3
   },
   "file_extension": ".py",
   "mimetype": "text/x-python",
   "name": "python",
   "nbconvert_exporter": "python",
   "pygments_lexer": "ipython3",
   "version": "3.8.5"
  },
  "varInspector": {
   "cols": {
    "lenName": 16,
    "lenType": 16,
    "lenVar": 40
   },
   "kernels_config": {
    "python": {
     "delete_cmd_postfix": "",
     "delete_cmd_prefix": "del ",
     "library": "var_list.py",
     "varRefreshCmd": "print(var_dic_list())"
    },
    "r": {
     "delete_cmd_postfix": ") ",
     "delete_cmd_prefix": "rm(",
     "library": "var_list.r",
     "varRefreshCmd": "cat(var_dic_list()) "
    }
   },
   "types_to_exclude": [
    "module",
    "function",
    "builtin_function_or_method",
    "instance",
    "_Feature"
   ],
   "window_display": false
  }
 },
 "nbformat": 4,
 "nbformat_minor": 5
}
