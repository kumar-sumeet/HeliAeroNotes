{
 "cells": [
  {
   "cell_type": "markdown",
   "id": "c9de6a2b",
   "metadata": {},
   "source": [
    "# Blade element momentum theory"
   ]
  },
  {
   "cell_type": "code",
   "execution_count": null,
   "id": "95b11f30",
   "metadata": {},
   "outputs": [],
   "source": []
  },
  {
   "cell_type": "markdown",
   "id": "9464fde8",
   "metadata": {},
   "source": [
    "$T=\\dot{m} v=P A v^{2}$\n",
    "\n",
    "$P=\\frac{1}{2} \\dot{m} v^{2}=\\frac{1}{2} P A v_{0}^{3}$"
   ]
  },
  {
   "cell_type": "markdown",
   "id": "7bd94b14",
   "metadata": {},
   "source": [
    "\\begin{aligned} d T &=d \\dot{m} v_{i} \\\\ &=2 p 2 \\pi y d y\\left(v_{c}+v_{i}\\right) v_{i} \\\\\n",
    "\\end{aligned}"
   ]
  },
  {
   "cell_type": "markdown",
   "id": "6a3a2b0d",
   "metadata": {},
   "source": [
    "\\begin{aligned}\n",
    "d C_{T} &=\\frac{4 \\pi p\\left(V_{c}+v_{i}\\right) v_{i} y d y}{p \\pi R^{2}(\\Omega R)^{2}} \\\\ \\end{aligned}"
   ]
  },
  {
   "cell_type": "markdown",
   "id": "ba6ff3e6",
   "metadata": {},
   "source": [
    "\\begin{aligned}\n",
    "&=4 \\lambda \\lambda_{i} r dr  =4 \\lambda \\left(\\lambda-\\lambda_{c}\\right)r d r \n",
    "\\end{aligned}"
   ]
  },
  {
   "cell_type": "markdown",
   "id": "8ce1c253",
   "metadata": {},
   "source": [
    "\\begin{aligned}\n",
    "C_{T} &= 4 \\int \\lambda \\left(\\lambda-\\lambda_{c}\\right) r d r \\quad \\quad \\text{Climb case}\\\\\n",
    "&= 4 \\int \\lambda^{2} r d r \\quad \\quad \\quad \\quad \\quad \\text{Hover case}\n",
    "\\end{aligned}"
   ]
  },
  {
   "cell_type": "markdown",
   "id": "df96c35c",
   "metadata": {},
   "source": [
    "From BEPT:          $ \\displaystyle \\quad d C_{T}=\\frac{\\sigma}{2} C_{l_{\\alpha}}\\left(\\theta r^{2}-d r\\right) d r$ \n",
    "    \n",
    "    \n",
    "From annular Momentum Theory :    $\\displaystyle \\quad d C_{T}=4 \\lambda\\left(\\lambda-\\lambda_{c}\\right)rd r$ "
   ]
  },
  {
   "cell_type": "markdown",
   "id": "f9adde42",
   "metadata": {},
   "source": [
    "$\\displaystyle d C_{T}=\\frac{\\sigma}{2} C_{l_{\\alpha}}\\left(\\theta r^{2}-d r\\right) d r = d C_{T}=4 \\lambda\\left(\\lambda-\\lambda_{c}\\right)rd r$ "
   ]
  },
  {
   "cell_type": "markdown",
   "id": "1741e784",
   "metadata": {},
   "source": [
    "$\\displaystyle \\Rightarrow \\frac{\\sigma C_{l_{\\alpha}} \\theta r}{8}-\\frac{\\sigma C_{l_{\\alpha}}}{8} \\lambda=\\lambda^{2}-\\lambda_{c} \\lambda$\n",
    "\n",
    "$\\displaystyle \\Rightarrow \\lambda^{2}+\\left(\\frac{\\sigma C_{l_{\\alpha}}}{8}-\\lambda_{c}\\right) \\lambda-\\frac{\\sigma C_{l_{\\alpha}} \\theta r}{8}=0$\n"
   ]
  },
  {
   "cell_type": "markdown",
   "id": "a7181fe5",
   "metadata": {},
   "source": [
    "$\\lambda\\left(r, \\lambda_{c}\\right)= \\displaystyle \\pm \\sqrt{\\frac{\\left(\\frac{\\sigma C_{l_{\\alpha}}}{8}-\\lambda_c \\right)^2+\\frac{\\sigma C_{l_{\\alpha}} \\theta_{r}}{2}}{4}} = \\displaystyle \\frac{  \\frac{\\sigma C_{l_{\\alpha}}}{8}- \\lambda_c}{2}$\n",
    "\n",
    "\n",
    "$a x^{2}+b x+c$\n",
    "$\\longrightarrow-b \\pm \\sqrt{b^{2}-4 a c}$   $ \\quad \\quad$ For $\\lambda_c=0$"
   ]
  },
  {
   "cell_type": "markdown",
   "id": "5ddef1de",
   "metadata": {},
   "source": [
    "\\begin{equation}\n",
    "\\lambda (r)=\\frac{\\sigma C_{l_{\\alpha}}}{16}\\left[-1+\\sqrt{1+\\frac{32}{\\sigma C_{l_{\\alpha}}} \\theta_{r}}\\right]\n",
    "\\end{equation}"
   ]
  },
  {
   "cell_type": "markdown",
   "id": "88a8fc48",
   "metadata": {},
   "source": [
    "In here $\\sigma$ is blade sizing, $C_{l_{\\alpha}}$ airfoil aerodynamics, $\\theta_r$ blade twist. \n"
   ]
  },
  {
   "cell_type": "markdown",
   "id": "63bcc2a8",
   "metadata": {},
   "source": [
    "ALWAYS some form of simplification manifests in the engineering framework of rotorcraft problems. 3-D FEM and DNS is not possible for rotorcraft problems as of now. So, problem specific simplifications are introduced. "
   ]
  },
  {
   "cell_type": "markdown",
   "id": "33b04d36",
   "metadata": {},
   "source": [
    "- $C_p$ during hover or high $M$ can be solved using momentum theory and rigid blades fairly accurately. \n",
    "- Obtaining accurate trim angles requires elastc blade modelling. \n",
    "- Obtaining blade vibration during descent flight, for e.g. requires free wake modelling. "
   ]
  },
  {
   "cell_type": "markdown",
   "id": "3a8c2cf5",
   "metadata": {},
   "source": [
    "Propellers are ALWAYS in climb mode and are highly twisted for this reason. \n"
   ]
  },
  {
   "cell_type": "markdown",
   "id": "1f233a9b",
   "metadata": {},
   "source": [
    "After obtaining $\\lambda(r)$, $C_T$ can be obtained by just substituting back in \n",
    "$$C_T = \\int 4 \\lambda (\\lambda - \\lambda_c)rdr $$"
   ]
  },
  {
   "cell_type": "markdown",
   "id": "72ca905d",
   "metadata": {},
   "source": [
    "This result is based on a lot of simple ideas but provides a lot of insight. A lot of what follows is a direct consequence of this formulation so it is really important to just be clean about how we got this expression.  "
   ]
  },
  {
   "cell_type": "markdown",
   "id": "bf66d075",
   "metadata": {},
   "source": [
    "Remember \n",
    "- from BET derivation: \n",
    "\n",
    "\\begin{aligned}\n",
    "dC_T &= \\frac{\\sigma}{2} C_l {r}^2d{r} \\\\ \n",
    "&=\\frac{\\sigma}{2} \\left(\\frac{\\theta_{tip}}{r} - \\frac{\\bar{\\lambda}}{r}\\right){r}^2 d{r}     \\quad \\quad \\text{ideal twist}\\\\ \n",
    "\\end{aligned}\n",
    "\n",
    "\n"
   ]
  },
  {
   "cell_type": "markdown",
   "id": "b450807e",
   "metadata": {},
   "source": [
    "uniform $\\bar{\\lambda}$"
   ]
  },
  {
   "cell_type": "markdown",
   "id": "435eeec6",
   "metadata": {},
   "source": [
    "\\begin{aligned}\n",
    "\\alpha &= \\displaystyle \\frac{\\theta_{tip}-\\bar{\\lambda}}{r}\\\\\n",
    "&= \\displaystyle \\frac{ \\alpha_{tip}}{r}\n",
    "\\end{aligned}"
   ]
  },
  {
   "cell_type": "markdown",
   "id": "24f63d60",
   "metadata": {},
   "source": [
    "$$\\Rightarrow C_T= \\frac{\\sigma}{4}C_{l_{\\alpha}}\\alpha_{tip}$$"
   ]
  },
  {
   "cell_type": "markdown",
   "id": "33e1cd75",
   "metadata": {},
   "source": [
    "$$C_l = C_{l_{\\alpha}} \\frac{\\alpha_{tip}}{r}$$"
   ]
  },
  {
   "cell_type": "markdown",
   "id": "202e60ae",
   "metadata": {},
   "source": [
    "- from M theory: \n",
    "\n",
    "$$ d C_t = 4 \\bar{{\\lambda}}^2 r dr $$\n",
    "\n",
    "$ \\Rightarrow \\bar{{\\lambda}} = \\displaystyle \\sqrt{\\frac{\\sigma r C_{l_{\\alpha}}\\bar{\\alpha}}{8}}$"
   ]
  },
  {
   "cell_type": "markdown",
   "id": "60ca20dc",
   "metadata": {},
   "source": [
    "\\begin{aligned}\n",
    "\\frac{C_{T}}{2}&=\\frac{\\sigma r C_{l_{k}} \\bar{\\alpha}}{8} \\\\\n",
    "\\sigma&=\\frac{4 C_{T}}{C_{l_{\\alpha}} \\bar{\\alpha}} \\frac{1}{r}\n",
    "\\end{aligned}\n",
    "\n",
    "hyperbolic solidity!\n"
   ]
  },
  {
   "cell_type": "markdown",
   "id": "06438605",
   "metadata": {},
   "source": [
    "So optimum rotor with ideal twist would have to have increasingly high $C_l$ values inboard. "
   ]
  },
  {
   "cell_type": "markdown",
   "id": "c44c5c11",
   "metadata": {},
   "source": [
    "But $C_l$ here is representative to the lift force generated and we have assumed $\\sigma$ is constant."
   ]
  },
  {
   "cell_type": "markdown",
   "id": "91f435cd",
   "metadata": {},
   "source": [
    "We could alternately increase lifting surface area so as to get the most out of aerodynamic efficiency of lifting surfaces. Assuming all sections are at $\\alpha = \\alpha|_{L/D}$"
   ]
  },
  {
   "cell_type": "markdown",
   "id": "97a401d7",
   "metadata": {},
   "source": [
    "\\begin{equation}\n",
    "\\begin{array}{l}\n",
    "\\Rightarrow d C_{T}=\\frac{\\sigma}{2} C_{l_{\\alpha}} \\alpha_{L/D} r^{2} d r \\quad\\left(\\theta-\\frac{\\lambda}{r}\\right) \\text { mistake in Leishman }\\\\\n",
    "d C_{T}=4 d^{2} r d r \\Rightarrow d= \\displaystyle \\sqrt{\\frac{\\sigma r C_{l_{k}}}\\alpha_{L/D}} \n",
    "\\end{array}\n",
    "\\end{equation}"
   ]
  },
  {
   "cell_type": "markdown",
   "id": "20b4baa1",
   "metadata": {},
   "source": [
    "**above cell is unclear**"
   ]
  },
  {
   "cell_type": "markdown",
   "id": "174d346e",
   "metadata": {},
   "source": [
    "to keep $\\lambda \\text { constant}$\n",
    "\n",
    "make $\\sigma r = \\text{constant}$"
   ]
  },
  {
   "cell_type": "markdown",
   "id": "6462d726",
   "metadata": {},
   "source": [
    "## Practical hovering rotor "
   ]
  },
  {
   "cell_type": "markdown",
   "id": "33ade009",
   "metadata": {},
   "source": [
    "$$ K = \\frac { C_{P_{actual}}}{C_{P_{ideal}}}$$ induced power factor (due to interaction of the linearity of $\\theta$)"
   ]
  },
  {
   "cell_type": "markdown",
   "id": "1a11fe28",
   "metadata": {},
   "source": [
    "too much twist detrimental for forward flight $\\rightarrow$ leads to inboard section stalling on the retreating side **unreadable text** negative loading on the outboard of advancing side. "
   ]
  },
  {
   "cell_type": "markdown",
   "id": "e74a09d4",
   "metadata": {},
   "source": [
    "## $\\text{Practical} $ $\\sigma / \\text{taper} $    **unsure???**"
   ]
  },
  {
   "cell_type": "markdown",
   "id": "f49198d5",
   "metadata": {},
   "source": [
    "Slight linear taper to avoid high $\\alpha$ near the root. \n",
    "In theory, allows to maintain best $\\alpha_{L / D}$ at all blade sections. \n",
    "\n",
    "Remember all this being done with sole objective of optimising a hovering rotor!"
   ]
  },
  {
   "cell_type": "markdown",
   "id": "070525ab",
   "metadata": {},
   "source": [
    "## Weighted Solidity \n",
    "\n",
    "The idea comes from a need for comparing two rotor designs that have different planform shapes. \n",
    "\n",
    "Note: Comparing two rotors using this concept only works when the designs are not significantly different from rectangular blades. Because **otherwise other (???)** aerodynamic effects come into play and this simple concept seizes to be useful. "
   ]
  },
  {
   "cell_type": "markdown",
   "id": "ff97d4eb",
   "metadata": {},
   "source": [
    "$$\n",
    "C_{T}=\\frac{1}{2} \\int_{0}^{1} \\sigma C_{l} r^{2} d r=\\frac{\\sigma_{e}}{2} \\int_{0}^{1} C_{l r^{2}} d r\n",
    "$$\n",
    "Assuming const. $C_{l} \\quad \\Rightarrow \\sigma_{e} \\int r^{2} d r=\\int \\sigma r^{2} d r$\n",
    "$$\n",
    "\\Rightarrow \\sigma_{e}=3 \\int \\sigma r^{2} d r\n",
    "$$"
   ]
  },
  {
   "cell_type": "markdown",
   "id": "1b9fe779",
   "metadata": {},
   "source": [
    "This definition is relevant because $C_T / \\sigma$ is used as a measure of the lifting capability of the rotor since it is nothing but the average lift coefficient of the blade sections. "
   ]
  },
  {
   "cell_type": "markdown",
   "id": "f9a694a7",
   "metadata": {},
   "source": [
    "$$\\frac{C_T}{\\sigma_e}= \\frac{\\bar{C_l}}{6}$$       \n",
    "$$ \\frac{C_T}{\\sigma_e}\\vert_{max} \\approx 0.15$$"
   ]
  },
  {
   "cell_type": "markdown",
   "id": "1ef0a965",
   "metadata": {},
   "source": [
    "Increase in rotor $C_T$ limited by lifting ability on retreating side. High $\\sigma_e$ will ensure larger blade area contributes to rotor thrust on the retreating side so angles of attack on retreating side can be made lower (for same $C_T$). "
   ]
  },
  {
   "cell_type": "markdown",
   "id": "77fd3dce",
   "metadata": {},
   "source": [
    "### Profile power of Optimal Rotor: "
   ]
  },
  {
   "cell_type": "markdown",
   "id": "f353ed76",
   "metadata": {},
   "source": [
    "$$d F_{x}=d L \\sin \\phi+d D \\cos \\phi$$\n",
    "$$d P=(b d L+d D) N \\Omega y$$\n",
    "$$d C_{P_0}=\\frac{\\sigma}{2} C_{d} r^{3} d r$$"
   ]
  },
  {
   "cell_type": "markdown",
   "id": "952780bd",
   "metadata": {},
   "source": [
    "$$\\Rightarrow C_P = \\frac{1}{2} C_{d_{0}} \\int {\\frac{\\sigma_{tip}r^3}{r}} d r=\\frac{C_{d_{0}} \\sigma_{tip}}{6}$$"
   ]
  },
  {
   "cell_type": "markdown",
   "id": "33bb3e6c",
   "metadata": {},
   "source": [
    "## Blade tip losses "
   ]
  },
  {
   "cell_type": "markdown",
   "id": "8f6615aa",
   "metadata": {},
   "source": [
    "Where can this knowledge be applied: \n",
    " - Generally rotors of any size without in-plane flow (i.e. hover & climb modes) So definitely can use for propellers too!\n",
    " - Difference between propeller and rotor? \n",
    " "
   ]
  },
  {
   "cell_type": "markdown",
   "id": "c0cc92e9",
   "metadata": {},
   "source": [
    "Helicopter Engineering involves a great deal of optimization. \n",
    "- For e.g. even in jover $C_T = W$ but $W$ can very 30-40%. \n",
    "- Including the effect of forward flight opens up a Pandora's box of issues. \n"
   ]
  },
  {
   "cell_type": "markdown",
   "id": "55bf9650",
   "metadata": {},
   "source": [
    "**Q.** Why does the inflow in hower case develop the way it does? i.e. from above the rotor to below. (Taking analogy from fixed-wing aircraft doesn't really help)"
   ]
  },
  {
   "cell_type": "markdown",
   "id": "323f2cf7",
   "metadata": {},
   "source": [
    "**Q.** Difference between propellers (no edgewise flow) and rotors (wake not connected away easily) High $V_{ind}$ so wake is connected away. (But they also have high rpm!?)"
   ]
  },
  {
   "cell_type": "code",
   "execution_count": null,
   "id": "455a1fe6",
   "metadata": {},
   "outputs": [],
   "source": []
  },
  {
   "cell_type": "code",
   "execution_count": null,
   "id": "24b047de",
   "metadata": {},
   "outputs": [],
   "source": []
  },
  {
   "cell_type": "markdown",
   "id": "05399971",
   "metadata": {},
   "source": [
    "## BEMT in a nutshell\n",
    "\n",
    "### Blade aerodynamics\n",
    "- Airfoil tables\n",
    "\n",
    "### Wake model\n",
    "- Momentum theory"
   ]
  },
  {
   "cell_type": "code",
   "execution_count": null,
   "id": "9c7ee976",
   "metadata": {},
   "outputs": [],
   "source": []
  },
  {
   "cell_type": "markdown",
   "id": "4dda77ee",
   "metadata": {},
   "source": [
    "## BEMT: review\n",
    "\n",
    "* "
   ]
  },
  {
   "cell_type": "markdown",
   "id": "2c680ce9",
   "metadata": {},
   "source": [
    "## BEMT: ...\n",
    "\n",
    "* BEMT provides the simplest strategy of separating out the solutions of the blades aerodynamics and effect of the wake\n",
    "* Higher-fidelity solution strategies employ same principle\n",
    "* Different rotor wake models as well as methods to solve for the blade aerodynamics exist\n",
    "* Solving for rotor aerodynamics \n",
    "* "
   ]
  },
  {
   "cell_type": "code",
   "execution_count": null,
   "id": "91440066",
   "metadata": {},
   "outputs": [],
   "source": []
  },
  {
   "cell_type": "code",
   "execution_count": null,
   "id": "fcab16da",
   "metadata": {},
   "outputs": [],
   "source": []
  }
 ],
 "metadata": {
  "hide_input": false,
  "kernelspec": {
   "display_name": "Python 3 (ipykernel)",
   "language": "python",
   "name": "python3"
  },
  "language_info": {
   "codemirror_mode": {
    "name": "ipython",
    "version": 3
   },
   "file_extension": ".py",
   "mimetype": "text/x-python",
   "name": "python",
   "nbconvert_exporter": "python",
   "pygments_lexer": "ipython3",
   "version": "3.8.5"
  },
  "varInspector": {
   "cols": {
    "lenName": 16,
    "lenType": 16,
    "lenVar": 40
   },
   "kernels_config": {
    "python": {
     "delete_cmd_postfix": "",
     "delete_cmd_prefix": "del ",
     "library": "var_list.py",
     "varRefreshCmd": "print(var_dic_list())"
    },
    "r": {
     "delete_cmd_postfix": ") ",
     "delete_cmd_prefix": "rm(",
     "library": "var_list.r",
     "varRefreshCmd": "cat(var_dic_list()) "
    }
   },
   "types_to_exclude": [
    "module",
    "function",
    "builtin_function_or_method",
    "instance",
    "_Feature"
   ],
   "window_display": false
  }
 },
 "nbformat": 4,
 "nbformat_minor": 5
}
