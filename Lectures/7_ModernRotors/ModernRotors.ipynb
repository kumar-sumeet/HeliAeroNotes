{
 "cells": [
  {
   "cell_type": "markdown",
   "metadata": {},
   "source": [
    "# Overview"
   ]
  },
  {
   "cell_type": "code",
   "execution_count": null,
   "metadata": {},
   "outputs": [],
   "source": []
  },
  {
   "cell_type": "code",
   "execution_count": 1,
   "id": "0abffb41",
   "metadata": {},
   "outputs": [],
   "source": [
    "## Wind tunnel"
   ]
  },
  {
   "cell_type": "code",
   "execution_count": null,
   "metadata": {},
   "outputs": [],
   "source": [
    "Two wind tunnels feature prominently in experimental measurement campaigns involving rotorcraft\n",
    "\n",
    "- NASA Ames wind tunnel\n",
    "- Dutch DLR wind tunnel\n"
   ]
  },
  {
   "cell_type": "markdown",
   "id": "20551d7c",
   "metadata": {},
   "source": [
    "### [NASA](https://www.nasa.gov/centers/langley/news/factsheets/WindTunnel.html#:~:text=The%20largest%20wind%20tunnel%20in,high%20and%2080%20feet%20wide.)"
   ]
  },
  {
   "cell_type": "markdown",
   "id": "b07da145",
   "metadata": {},
   "source": [
    "\n",
    "This is the largest wind tunnel in the world with a 24.4 m x 36.6 m cross-section."
   ]
  },
  {
   "cell_type": "markdown",
   "id": "508daf83",
   "metadata": {},
   "source": [
    "```{figure} ../../assets/UH60IBC.png\n",
    "---\n",
    "height: 150px\n",
    "name: UH60IBC\n",
    "---\n",
    "UH-60 IBC [source](https://rotorcraft.arc.nasa.gov/Research/Programs/UH-60_IBC.html)\n",
    "```"
   ]
  },
  {
   "cell_type": "markdown",
   "id": "7d4f15a7",
   "metadata": {},
   "source": [
    "```{figure} ../../assets/SMART1.png\n",
    "---\n",
    "height: 150px\n",
    "name: SMART\n",
    "---\n",
    "SMART rotor {cite}'P58_1'\n",
    "```"
   ]
  },
  {
   "cell_type": "markdown",
   "id": "c5e1c6be",
   "metadata": {},
   "source": [
    "```{figure} ../../assets/SMART2.png\n",
    "---\n",
    "height: 150px\n",
    "name: SMART\n",
    "---\n",
    "SMART rotor {cite}'P58_1'\n",
    "```"
   ]
  },
  {
   "cell_type": "markdown",
   "id": "f776b8a3",
   "metadata": {},
   "source": [
    "```{figure} ../../assets/SMART3.png\n",
    "---\n",
    "height: 150px\n",
    "name: SMART\n",
    "---\n",
    "SMART rotor {cite}'P58_1'\n",
    "```"
   ]
  },
  {
   "cell_type": "markdown",
   "id": "5cb423ab",
   "metadata": {},
   "source": [
    "```{figure} ../../assets/XH59Ames.png\n",
    "---\n",
    "height: 150px\n",
    "name: XH59Ames\n",
    "---\n",
    "Sikorsky XH-59 [source](https://www.sikorskyarchives.com/S-69%20(XH-59A).php)\n",
    "```"
   ]
  },
  {
   "cell_type": "markdown",
   "metadata": {},
   "source": [
    "## Basic VTOL configuration"
   ]
  },
  {
   "cell_type": "markdown",
   "id": "3bdd18b6",
   "metadata": {},
   "source": [
    "This is all you need to be able to perform the missions defined by the capabilities of a VTOL aircraft"
   ]
  },
  {
   "cell_type": "markdown",
   "metadata": {},
   "source": [
    "<center>\n",
    "    <img src=\"../../assets/HillerROERotorcycle.jpeg\" class=\"medium\">\n",
    "    <p class=\"caption\"> Hiller ROE Rotorcycle <a href=\"https://en.wikipedia.org/wiki/Hiller_ROE_Rotorcycle#/media/File:Hiller_YROE-1.jpg\"> [source]</a></p>\n",
    "\n",
    "</center>\n"
   ]
  },
  {
   "cell_type": "code",
   "execution_count": null,
   "metadata": {},
   "outputs": [],
   "source": [
    "from IPython.display import YouTubeVideo\n",
    "YouTubeVideo('GIY63dz7bY0', width=500, height=270)"
   ]
  },
  {
   "cell_type": "markdown",
   "metadata": {},
   "source": [
    "<center>\n",
    "    <img src=\"../../assets/Backpack_Helicopter.jpeg\" class=\"medium\">\n",
    "    <p class=\"caption\"> Pentecost HX-1 Hoppi-Copter <a href=\"https://en.wikipedia.org/wiki/Hoppi-Copter#/media/File:Pentecost_Backpack_Helicopter.JPG\"> [source]</a></p>\n",
    "\n",
    "</center>\n"
   ]
  },
  {
   "cell_type": "code",
   "execution_count": null,
   "metadata": {},
   "outputs": [],
   "source": [
    "from IPython.display import YouTubeVideo\n",
    "YouTubeVideo('suHOLFhbwsM', width=500, height=270)"
   ]
  },
  {
   "cell_type": "markdown",
   "id": "3fa164ef",
   "metadata": {},
   "source": [
    "## Advancing blade concept (ABC) or rigid rotor "
   ]
  },
  {
   "cell_type": "code",
   "execution_count": null,
   "id": "f115e259",
   "metadata": {},
   "outputs": [],
   "source": [
    "```{figure} ../../assets/ABC2.png\n",
    "---\n",
    "height: 150px\n",
    "name: ABC2\n",
    "---\n",
    "Lateral loading symmetry on ABC rotor [source](https://www.sikorskyarchives.com/S-69%20(XH-59A).php)\n"
   ]
  },
  {
   "cell_type": "markdown",
   "id": "02eeb44b",
   "metadata": {},
   "source": [
    "The XH-59 from Sikorsky was the first design incorporating this design philosophy\n",
    "- no blade hinges\n",
    "- no tail rotor - yaw control?\n",
    "    - differential collective for yaw control in hover/low speed\n",
    "    - gearbox designed with differential speed capability!!\n",
    "    - vertical tail in fast \n",
    "-"
   ]
  },
  {
   "cell_type": "markdown",
   "id": "0593f9e9",
   "metadata": {},
   "source": [
    "read P152"
   ]
  },
  {
   "cell_type": "markdown",
   "id": "2dc12907",
   "metadata": {},
   "source": [
    "```{figure} ../../assets/XH59Ad.png\n",
    "---\n",
    "height: 150px\n",
    "name: XH59Ad\n",
    "---\n",
    "Sikorsky XH-59 [source](https://www.sikorskyarchives.com/S-69%20(XH-59A).php)\n",
    "```"
   ]
  },
  {
   "cell_type": "markdown",
   "id": "25578f0b",
   "metadata": {},
   "source": [
    "```{epigraph}\n",
    "\"Being a concept demonstrator, the XH-59A had a number of compromises in its design to hold program cost down.  Primarily among these was the use of separate engines for rotor power and auxiliary propulsion.  In a more developed design, a single propulsion system would power both the rotor and an auxiliary propulsion propeller or ducted fan.  A high cost item at the time was the monolithic titanium blade spars.  Composite materials technology would soon appear which could produce a better blade, with almost infinite options in geometry, at a substantially reduced cost and lighter weight.\n",
    "\n",
    "Rotor vibration characteristics were acknowledged at the end of the test program as being too high for a production vehicle.  Design studies showed that four-bladed rotors would dramatically reduce the rotors’ vibratory characteristics. \"\n",
    "\n",
    "-- [Sikorsky Archives](https://www.sikorskyarchives.com/S-69%20(XH-59A).php) \n",
    "```"
   ]
  },
  {
   "cell_type": "markdown",
   "id": "f3b287bc",
   "metadata": {},
   "source": []
  },
  {
   "cell_type": "markdown",
   "id": "bff6b932",
   "metadata": {},
   "source": [
    "## Coaxial rotors"
   ]
  },
  {
   "cell_type": "markdown",
   "id": "0ace9b28",
   "metadata": {},
   "source": [
    "20 years and a lot of lessons learnt later"
   ]
  },
  {
   "cell_type": "markdown",
   "id": "6017376b",
   "metadata": {},
   "source": []
  },
  {
   "cell_type": "markdown",
   "id": "87bbe7dd",
   "metadata": {},
   "source": []
  },
  {
   "cell_type": "markdown",
   "id": "987e79b5",
   "metadata": {},
   "source": []
  },
  {
   "cell_type": "markdown",
   "id": "2d4bcd65",
   "metadata": {},
   "source": []
  },
  {
   "cell_type": "markdown",
   "id": "470110bc",
   "metadata": {},
   "source": []
  },
  {
   "cell_type": "code",
   "execution_count": null,
   "id": "3bffd2b0",
   "metadata": {},
   "outputs": [],
   "source": []
  }
 ],
 "metadata": {
  "hide_input": false,
  "kernelspec": {
   "display_name": "Python 3",
   "language": "python",
   "name": "python3"
  },
  "language_info": {
   "codemirror_mode": {
    "name": "ipython",
    "version": 3
   },
   "file_extension": ".py",
   "mimetype": "text/x-python",
   "name": "python",
   "nbconvert_exporter": "python",
   "pygments_lexer": "ipython3",
   "version": "3.8.12"
  },
  "latex_envs": {
   "LaTeX_envs_menu_present": true,
   "autoclose": true,
   "autocomplete": true,
   "bibliofile": "biblio.bib",
   "cite_by": "apalike",
   "current_citInitial": 1,
   "eqLabelWithNumbers": false,
   "eqNumInitial": 1,
   "hotkeys": {
    "equation": "Ctrl-E",
    "itemize": "Ctrl-I"
   },
   "labels_anchors": false,
   "latex_user_defs": false,
   "report_style_numbering": false,
   "user_envs_cfg": false
  },
  "varInspector": {
   "cols": {
    "lenName": 16,
    "lenType": 16,
    "lenVar": 40
   },
   "kernels_config": {
    "python": {
     "delete_cmd_postfix": "",
     "delete_cmd_prefix": "del ",
     "library": "var_list.py",
     "varRefreshCmd": "print(var_dic_list())"
    },
    "r": {
     "delete_cmd_postfix": ") ",
     "delete_cmd_prefix": "rm(",
     "library": "var_list.r",
     "varRefreshCmd": "cat(var_dic_list()) "
    }
   },
   "types_to_exclude": [
    "module",
    "function",
    "builtin_function_or_method",
    "instance",
    "_Feature"
   ],
   "window_display": false
  }
 },
 "nbformat": 4,
 "nbformat_minor": 5
}
